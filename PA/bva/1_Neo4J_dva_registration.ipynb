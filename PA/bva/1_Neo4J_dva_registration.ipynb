{
 "cells": [
  {
   "cell_type": "markdown",
   "id": "02f1bdc1-e577-41cd-a3f4-7974c02df30f",
   "metadata": {},
   "source": [
    "# Add to Neo4J Visitors BVA this year, BVA and LVA last year (NEo4J Notebooks only in Windows)"
   ]
  },
  {
   "cell_type": "code",
   "execution_count": null,
   "id": "1f711245-bf4a-4563-91f7-683f8f0e3da7",
   "metadata": {},
   "outputs": [],
   "source": [
    "from neo4j import GraphDatabase\n",
    "import csv\n",
    "import pandas as pd\n",
    "\n",
    "\n",
    "def load_csv_to_neo4j(\n",
    "    uri,\n",
    "    user,\n",
    "    password,\n",
    "    csv_file_path,\n",
    "    node_label,\n",
    "    properties_map,\n",
    "    relationship_label=None,\n",
    "    relationship_source_property=None,\n",
    "    relationship_target_property=None,\n",
    "):\n",
    "    \"\"\"\n",
    "    Loads data from a CSV file into Neo4j.\n",
    "\n",
    "    Args:\n",
    "        uri (str): Neo4j URI (e.g., \"bolt://localhost:7687\").\n",
    "        user (str): Neo4j username.\n",
    "        password (str): Neo4j password.\n",
    "        csv_file_path (str): Path to the CSV file.\n",
    "        node_label (str): Label to apply to the nodes.\n",
    "        properties_map (dict): A dictionary mapping CSV column names to Neo4j property names.\n",
    "        relationship_label (str, optional): Label to apply to relationships. Defaults to None.\n",
    "        relationship_source_property (str, optional): CSV column name for the source node ID. Defaults to None.\n",
    "        relationship_target_property (str, optional): CSV column name for the target node ID. Defaults to None.\n",
    "    \"\"\"\n",
    "\n",
    "    driver = GraphDatabase.driver(uri, auth=(user, password))\n",
    "\n",
    "    def create_nodes(tx, csv_file_path, node_label, properties_map):\n",
    "        with open(csv_file_path, \"r\", encoding=\"utf-8\") as csvfile:\n",
    "            reader = csv.DictReader(csvfile)\n",
    "            for row in reader:\n",
    "                properties = {\n",
    "                    properties_map[k]: row[k] for k in properties_map if row[k]\n",
    "                }  # Added check for empty values\n",
    "                query = f\"CREATE (n:{node_label} $properties)\"\n",
    "                tx.run(query, properties=properties)\n",
    "\n",
    "    def create_relationships(\n",
    "        tx,\n",
    "        csv_file_path,\n",
    "        relationship_label,\n",
    "        source_property,\n",
    "        target_property,\n",
    "        properties_map,\n",
    "    ):\n",
    "        with open(csv_file_path, \"r\", encoding=\"utf-8\") as csvfile:\n",
    "            reader = csv.DictReader(csvfile)\n",
    "            for row in reader:\n",
    "                source_id = row.get(source_property)\n",
    "                target_id = row.get(target_property)\n",
    "                if (\n",
    "                    source_id and target_id\n",
    "                ):  # check to make sure both source and target exist\n",
    "                    source_prop_neo4j = properties_map.get(source_property)\n",
    "                    target_prop_neo4j = properties_map.get(target_property)\n",
    "\n",
    "                    query = f\"\"\"\n",
    "                    MATCH (a), (b)\n",
    "                    WHERE a.{source_prop_neo4j} = $source_id AND b.{target_prop_neo4j} = $target_id\n",
    "                    CREATE (a)-[r:{relationship_label}]->(b)\n",
    "                    \"\"\"\n",
    "                    tx.run(query, source_id=source_id, target_id=target_id)\n",
    "\n",
    "    with driver.session() as session:\n",
    "        session.execute_write(create_nodes, csv_file_path, node_label, properties_map)\n",
    "        if (\n",
    "            relationship_label\n",
    "            and relationship_source_property\n",
    "            and relationship_target_property\n",
    "        ):\n",
    "            session.execute_write(\n",
    "                create_relationships,\n",
    "                csv_file_path,\n",
    "                relationship_label,\n",
    "                relationship_source_property,\n",
    "                relationship_target_property,\n",
    "                properties_map,\n",
    "            )\n",
    "\n",
    "    driver.close()"
   ]
  },
  {
   "cell_type": "code",
   "execution_count": null,
   "id": "5c3f7764-0263-43c1-a635-2dd683401aa6",
   "metadata": {},
   "outputs": [],
   "source": [
    "uri = \"bolt://127.0.0.1:7687\"\n",
    "user = \"neo4j\"\n",
    "password = \"\"  # Replace with your password."
   ]
  },
  {
   "cell_type": "code",
   "execution_count": 3,
   "id": "f762d21e-405b-4061-881b-f6707e5206a7",
   "metadata": {},
   "outputs": [],
   "source": [
    "csv_file_path = (\n",
    "    \"data/bva/output/df_reg_demo_this.csv\"  # Replace with your CSV file path.\n",
    ")"
   ]
  },
  {
   "cell_type": "code",
   "execution_count": 4,
   "id": "a365055a-7537-4dd8-9a4e-01938764a166",
   "metadata": {},
   "outputs": [
    {
     "data": {
      "text/html": [
       "<div>\n",
       "<style scoped>\n",
       "    .dataframe tbody tr th:only-of-type {\n",
       "        vertical-align: middle;\n",
       "    }\n",
       "\n",
       "    .dataframe tbody tr th {\n",
       "        vertical-align: top;\n",
       "    }\n",
       "\n",
       "    .dataframe thead th {\n",
       "        text-align: right;\n",
       "    }\n",
       "</style>\n",
       "<table border=\"1\" class=\"dataframe\">\n",
       "  <thead>\n",
       "    <tr style=\"text-align: right;\">\n",
       "      <th></th>\n",
       "      <th>Email</th>\n",
       "      <th>Email_domain</th>\n",
       "      <th>Company</th>\n",
       "      <th>JobTitle</th>\n",
       "      <th>Country</th>\n",
       "      <th>BadgeType</th>\n",
       "      <th>ShowRef</th>\n",
       "      <th>BadgeId</th>\n",
       "      <th>Source</th>\n",
       "      <th>Days_since_registration</th>\n",
       "      <th>assist_year_before</th>\n",
       "      <th>BadgeId_last_year_bva</th>\n",
       "      <th>BadgeId_last_year_lva</th>\n",
       "      <th>what_type_does_your_practice_specialise_in</th>\n",
       "      <th>organisation_type</th>\n",
       "      <th>job_role</th>\n",
       "    </tr>\n",
       "  </thead>\n",
       "  <tbody>\n",
       "    <tr>\n",
       "      <th>0</th>\n",
       "      <td>jimmyjackson2019@outlook.com</td>\n",
       "      <td>outlook.com</td>\n",
       "      <td>Locum</td>\n",
       "      <td>farm animal locum</td>\n",
       "      <td>UK</td>\n",
       "      <td>Delegate</td>\n",
       "      <td>BVA2025</td>\n",
       "      <td>5DQTDB8</td>\n",
       "      <td>DS Celeste</td>\n",
       "      <td>47</td>\n",
       "      <td>0</td>\n",
       "      <td>NaN</td>\n",
       "      <td>NaN</td>\n",
       "      <td>Wildlife</td>\n",
       "      <td>Locum</td>\n",
       "      <td>Locum Vet</td>\n",
       "    </tr>\n",
       "    <tr>\n",
       "      <th>1</th>\n",
       "      <td>Ahmed.Fareha@pdsa.org.uk</td>\n",
       "      <td>pdsa.org.uk</td>\n",
       "      <td>PDSA Oldbury</td>\n",
       "      <td>veterinary surgeon</td>\n",
       "      <td>UK</td>\n",
       "      <td>Delegate</td>\n",
       "      <td>BVA2025</td>\n",
       "      <td>ATSLIS7</td>\n",
       "      <td>DS Celeste</td>\n",
       "      <td>47</td>\n",
       "      <td>0</td>\n",
       "      <td>NaN</td>\n",
       "      <td>NaN</td>\n",
       "      <td>NaN</td>\n",
       "      <td>Corporate Group</td>\n",
       "      <td>Vet/Vet Surgeon</td>\n",
       "    </tr>\n",
       "    <tr>\n",
       "      <th>2</th>\n",
       "      <td>richard.hooker@ivcevidensia.com</td>\n",
       "      <td>ivcevidensia.com</td>\n",
       "      <td>IVC Evidensia</td>\n",
       "      <td>country medical director</td>\n",
       "      <td>UK</td>\n",
       "      <td>Delegate</td>\n",
       "      <td>BVA2025</td>\n",
       "      <td>7GRN839</td>\n",
       "      <td>DS Celeste</td>\n",
       "      <td>47</td>\n",
       "      <td>1</td>\n",
       "      <td>NaN</td>\n",
       "      <td>GBXFR48</td>\n",
       "      <td>Mixed</td>\n",
       "      <td>Corporate Group</td>\n",
       "      <td>Vet/Vet Surgeon</td>\n",
       "    </tr>\n",
       "    <tr>\n",
       "      <th>3</th>\n",
       "      <td>leonieager@aol.co.uk</td>\n",
       "      <td>aol.co.uk</td>\n",
       "      <td>Medivet</td>\n",
       "      <td>practice manager</td>\n",
       "      <td>UK</td>\n",
       "      <td>Delegate</td>\n",
       "      <td>BVA2025</td>\n",
       "      <td>EEKHJZD</td>\n",
       "      <td>DS Celeste</td>\n",
       "      <td>47</td>\n",
       "      <td>0</td>\n",
       "      <td>NaN</td>\n",
       "      <td>NaN</td>\n",
       "      <td>Small Animal, Exotics</td>\n",
       "      <td>Corporate Group</td>\n",
       "      <td>Practice Manager</td>\n",
       "    </tr>\n",
       "    <tr>\n",
       "      <th>4</th>\n",
       "      <td>sadie_vet@hotmail.co.uk</td>\n",
       "      <td>hotmail.co.uk</td>\n",
       "      <td>Carewell Vets</td>\n",
       "      <td>veterinary surgeon</td>\n",
       "      <td>UK</td>\n",
       "      <td>Delegate</td>\n",
       "      <td>BVA2025</td>\n",
       "      <td>CNBXGCU</td>\n",
       "      <td>DS Celeste</td>\n",
       "      <td>47</td>\n",
       "      <td>0</td>\n",
       "      <td>NaN</td>\n",
       "      <td>NaN</td>\n",
       "      <td>NaN</td>\n",
       "      <td>Independent Practice</td>\n",
       "      <td>Vet/Vet Surgeon</td>\n",
       "    </tr>\n",
       "  </tbody>\n",
       "</table>\n",
       "</div>"
      ],
      "text/plain": [
       "                             Email      Email_domain        Company  \\\n",
       "0     jimmyjackson2019@outlook.com       outlook.com          Locum   \n",
       "1         Ahmed.Fareha@pdsa.org.uk       pdsa.org.uk   PDSA Oldbury   \n",
       "2  richard.hooker@ivcevidensia.com  ivcevidensia.com  IVC Evidensia   \n",
       "3             leonieager@aol.co.uk         aol.co.uk        Medivet   \n",
       "4          sadie_vet@hotmail.co.uk     hotmail.co.uk  Carewell Vets   \n",
       "\n",
       "                   JobTitle Country BadgeType  ShowRef  BadgeId      Source  \\\n",
       "0         farm animal locum      UK  Delegate  BVA2025  5DQTDB8  DS Celeste   \n",
       "1       veterinary surgeon       UK  Delegate  BVA2025  ATSLIS7  DS Celeste   \n",
       "2  country medical director      UK  Delegate  BVA2025  7GRN839  DS Celeste   \n",
       "3         practice manager       UK  Delegate  BVA2025  EEKHJZD  DS Celeste   \n",
       "4        veterinary surgeon      UK  Delegate  BVA2025  CNBXGCU  DS Celeste   \n",
       "\n",
       "   Days_since_registration  assist_year_before BadgeId_last_year_bva  \\\n",
       "0                       47                   0                   NaN   \n",
       "1                       47                   0                   NaN   \n",
       "2                       47                   1                   NaN   \n",
       "3                       47                   0                   NaN   \n",
       "4                       47                   0                   NaN   \n",
       "\n",
       "  BadgeId_last_year_lva what_type_does_your_practice_specialise_in  \\\n",
       "0                   NaN                                   Wildlife   \n",
       "1                   NaN                                        NaN   \n",
       "2               GBXFR48                                      Mixed   \n",
       "3                   NaN                      Small Animal, Exotics   \n",
       "4                   NaN                                        NaN   \n",
       "\n",
       "      organisation_type          job_role  \n",
       "0                 Locum         Locum Vet  \n",
       "1       Corporate Group   Vet/Vet Surgeon  \n",
       "2       Corporate Group   Vet/Vet Surgeon  \n",
       "3       Corporate Group  Practice Manager  \n",
       "4  Independent Practice   Vet/Vet Surgeon  "
      ]
     },
     "execution_count": 4,
     "metadata": {},
     "output_type": "execute_result"
    }
   ],
   "source": [
    "data = pd.read_csv(csv_file_path)\n",
    "data.head()"
   ]
  },
  {
   "cell_type": "code",
   "execution_count": null,
   "id": "3b38ef1e-cfb9-4586-a33a-5e813a5afefc",
   "metadata": {},
   "outputs": [
    {
     "data": {
      "text/plain": [
       "job_role\n",
       "Vet/Vet Surgeon            774\n",
       "Vet Nurse                  231\n",
       "Other (please specify)     212\n",
       "Student                     84\n",
       "Locum Vet                   74\n",
       "Practice Partner/Owner      72\n",
       "Assistant Vet               62\n",
       "Practice Manager            58\n",
       "Vet/Owner                   46\n",
       "Head Nurse/Senior Nurse     41\n",
       "Academic                    28\n",
       "Locum RVN                    8\n",
       "Receptionist                 3\n",
       "Name: count, dtype: int64"
      ]
     },
     "execution_count": 5,
     "metadata": {},
     "output_type": "execute_result"
    }
   ],
   "source": [
    "data[\"job_role\"].value_counts()"
   ]
  },
  {
   "cell_type": "code",
   "execution_count": null,
   "id": "faaa5c5c-7544-45b9-9d4e-c8c3770e228a",
   "metadata": {},
   "outputs": [
    {
     "data": {
      "text/plain": [
       "what_type_does_your_practice_specialise_in\n",
       "Mixed                                              618\n",
       "Small Animal                                       483\n",
       "Small Animal, Exotics                              153\n",
       "Other                                               68\n",
       "Small Animal, Exotics, Mixed, Wildlife              19\n",
       "Equine                                              13\n",
       "Small Animal;Exotics                                12\n",
       "Farm                                                10\n",
       "Small Animal;Exotics;Wildlife                        7\n",
       "Mixed, Exotics, Wildlife                             6\n",
       "Mixed;Other                                          6\n",
       "Farm;Other                                           5\n",
       "Wildlife                                             4\n",
       "Mixed, Wildlife                                      4\n",
       "Small Animal;Wildlife                                4\n",
       "Small Animal;Mixed                                   4\n",
       "Exotics                                              4\n",
       "Small Animal, Wildlife                               4\n",
       "Small Animal;Other                                   3\n",
       "Mixed, Small Animal, Exotics, Wildlife               3\n",
       "Mixed, Wildlife, Exotics                             2\n",
       "Mixed;Wildlife                                       2\n",
       "Small Animal;Exotics;Equine;Wildlife                 2\n",
       "Small Animal;Mixed;Exotics;Equine;Farm;Wildlife      2\n",
       "Small Animal, Mixed                                  2\n",
       "Equine;Farm                                          2\n",
       "Small Animal;Mixed;Equine;Wildlife                   2\n",
       "Small Animal;Mixed;Exotics                           2\n",
       "Small Animal;Farm                                    2\n",
       "Wildlife, Farm, Other                                1\n",
       "Small Animal, Exotics, Wildlife                      1\n",
       "Small Animal;Mixed;Equine;Farm;Wildlife              1\n",
       "Mixed;Equine;Wildlife                                1\n",
       "Small Animal;Mixed;Exotics;Farm                      1\n",
       "Small Animal;Mixed;Exotics;Equine;Farm               1\n",
       "Exotics;Wildlife;Other                               1\n",
       "Mixed;Farm                                           1\n",
       "Mixed;Farm;Other                                     1\n",
       "Small Animal;Mixed;Other                             1\n",
       "Equine;Other                                         1\n",
       "Small Animal;Mixed;Equine;Other                      1\n",
       "Mixed;Equine                                         1\n",
       "Small Animal;Mixed;Exotics;Equine                    1\n",
       "Small Animal;Equine;Farm                             1\n",
       "Small Animal;Mixed;Farm;Wildlife                     1\n",
       "Small Animal;Equine                                  1\n",
       "Mixed;Equine;Farm;Wildlife                           1\n",
       "Name: count, dtype: int64"
      ]
     },
     "execution_count": 8,
     "metadata": {},
     "output_type": "execute_result"
    }
   ],
   "source": [
    "data[\"what_type_does_your_practice_specialise_in\"].value_counts()"
   ]
  },
  {
   "cell_type": "code",
   "execution_count": 9,
   "id": "0a05db9f-da55-4f53-a86b-450cf74cbf09",
   "metadata": {},
   "outputs": [
    {
     "data": {
      "text/plain": [
       "Email                                            0\n",
       "Email_domain                                     0\n",
       "Company                                         33\n",
       "JobTitle                                        21\n",
       "Country                                          8\n",
       "BadgeType                                        0\n",
       "ShowRef                                          0\n",
       "BadgeId                                          0\n",
       "Source                                           3\n",
       "Days_since_registration                          0\n",
       "assist_year_before                               0\n",
       "BadgeId_last_year_bva                         1258\n",
       "BadgeId_last_year_lva                         1486\n",
       "what_type_does_your_practice_specialise_in     227\n",
       "organisation_type                               66\n",
       "job_role                                         0\n",
       "dtype: int64"
      ]
     },
     "execution_count": 9,
     "metadata": {},
     "output_type": "execute_result"
    }
   ],
   "source": [
    "data.isnull().sum()"
   ]
  },
  {
   "cell_type": "code",
   "execution_count": 6,
   "id": "680d4bdb-c7ae-40df-b9ff-5bed1705d694",
   "metadata": {},
   "outputs": [
    {
     "data": {
      "text/plain": [
       "16"
      ]
     },
     "execution_count": 6,
     "metadata": {},
     "output_type": "execute_result"
    }
   ],
   "source": [
    "len(data.columns)"
   ]
  },
  {
   "cell_type": "code",
   "execution_count": 7,
   "id": "def0971f-3f86-450e-a7da-d95c978ce02f",
   "metadata": {},
   "outputs": [
    {
     "data": {
      "text/plain": [
       "{'Email': 'Email',\n",
       " 'Email_domain': 'Email_domain',\n",
       " 'Company': 'Company',\n",
       " 'JobTitle': 'JobTitle',\n",
       " 'Country': 'Country',\n",
       " 'BadgeType': 'BadgeType',\n",
       " 'ShowRef': 'ShowRef',\n",
       " 'BadgeId': 'BadgeId',\n",
       " 'Source': 'Source',\n",
       " 'Days_since_registration': 'Days_since_registration',\n",
       " 'assist_year_before': 'assist_year_before',\n",
       " 'BadgeId_last_year_bva': 'BadgeId_last_year_bva',\n",
       " 'BadgeId_last_year_lva': 'BadgeId_last_year_lva',\n",
       " 'what_type_does_your_practice_specialise_in': 'what_type_does_your_practice_specialise_in',\n",
       " 'organisation_type': 'organisation_type',\n",
       " 'job_role': 'job_role'}"
      ]
     },
     "execution_count": 7,
     "metadata": {},
     "output_type": "execute_result"
    }
   ],
   "source": [
    "{x: x for x in data.columns}"
   ]
  },
  {
   "cell_type": "markdown",
   "id": "693a94ed-2be2-4b20-910d-d96608e5f9e1",
   "metadata": {},
   "source": [
    "# Visitors this year"
   ]
  },
  {
   "cell_type": "code",
   "execution_count": 10,
   "id": "3f4d4282-872b-40cc-92d0-1983ed760b37",
   "metadata": {},
   "outputs": [],
   "source": [
    "csv_file_path = (\n",
    "    \"data/bva/output/df_reg_demo_this.csv\"  # Replace with your CSV file path.\n",
    ")\n",
    "node_label = \"Visitor_this_year\"\n",
    "properties_map = {x: x for x in data.columns}\n",
    "\n",
    "# Example with relationships (if applicable):\n",
    "relationship_label = \"KNOWS\"\n",
    "relationship_source_property = \"source_id\"\n",
    "relationship_target_property = \"target_id\"\n",
    "\n",
    "# Example CSV data (data.csv):\n",
    "# id,name,age,source_id,target_id\n",
    "# 1,Alice,30,,\n",
    "# 2,Bob,25,1,3\n",
    "# 3,Charlie,35,2,1\n",
    "# 4,David,40,,\n",
    "\n",
    "# Example without relationships:\n",
    "load_csv_to_neo4j(uri, user, password, csv_file_path, node_label, properties_map)\n",
    "\n",
    "# Example with relationships:\n",
    "# load_csv_to_neo4j(uri, user, password, csv_file_path, node_label, properties_map, relationship_label, relationship_source_property, relationship_target_property)"
   ]
  },
  {
   "cell_type": "markdown",
   "id": "f955bd80-329a-4572-a0ac-cfc0f7ef67be",
   "metadata": {},
   "source": [
    "# Visitors Past Year BVA"
   ]
  },
  {
   "cell_type": "code",
   "execution_count": 11,
   "id": "c8859379-7751-46a0-b2f0-41333e7eb644",
   "metadata": {},
   "outputs": [],
   "source": [
    "csv_file_path = (\n",
    "    \"data/bva/output/df_reg_demo_last_bva.csv\"  # Replace with your CSV file path.\n",
    ")\n",
    "data = pd.read_csv(csv_file_path)"
   ]
  },
  {
   "cell_type": "code",
   "execution_count": null,
   "id": "c7b482f9-6b77-4f25-82bd-503863fcac02",
   "metadata": {},
   "outputs": [
    {
     "data": {
      "text/plain": [
       "job_role\n",
       "Vet/Vet Surgeon            238\n",
       "Vet Nurse                   53\n",
       "Other (please specify)      43\n",
       "Locum Vet                   25\n",
       "Assistant Vet               22\n",
       "Practice Partner/Owner      11\n",
       "Vet/Owner                   11\n",
       "Head Nurse/Senior Nurse     10\n",
       "Practice Manager             8\n",
       "Student                      7\n",
       "Academic                     7\n",
       "Name: count, dtype: int64"
      ]
     },
     "execution_count": 12,
     "metadata": {},
     "output_type": "execute_result"
    }
   ],
   "source": [
    "data[\"job_role\"].value_counts()"
   ]
  },
  {
   "cell_type": "code",
   "execution_count": null,
   "id": "2a7a218f-121f-43ac-8aa3-0fd1f3de6539",
   "metadata": {},
   "outputs": [],
   "source": [
    "node_label = \"Visitor_last_year_bva\"\n",
    "properties_map = {x: x for x in data.columns}\n",
    "\n",
    "\n",
    "# Example without relationships:\n",
    "load_csv_to_neo4j(uri, user, password, csv_file_path, node_label, properties_map)"
   ]
  },
  {
   "cell_type": "code",
   "execution_count": 14,
   "id": "4177bec7-f795-4d49-ae88-72b0f3b9501a",
   "metadata": {},
   "outputs": [
    {
     "data": {
      "text/plain": [
       "{'Email': 'Email',\n",
       " 'Email_domain': 'Email_domain',\n",
       " 'Company': 'Company',\n",
       " 'JobTitle': 'JobTitle',\n",
       " 'Country': 'Country',\n",
       " 'BadgeType': 'BadgeType',\n",
       " 'ShowRef': 'ShowRef',\n",
       " 'BadgeId': 'BadgeId',\n",
       " 'Source': 'Source',\n",
       " 'Days_since_registration': 'Days_since_registration',\n",
       " 'what_areas_do_you_specialise_in': 'what_areas_do_you_specialise_in',\n",
       " 'organisation_type': 'organisation_type',\n",
       " 'job_role': 'job_role'}"
      ]
     },
     "execution_count": 14,
     "metadata": {},
     "output_type": "execute_result"
    }
   ],
   "source": [
    "{x: x for x in data.columns}"
   ]
  },
  {
   "cell_type": "markdown",
   "id": "890190f5-2141-4109-bb47-010a03620f1c",
   "metadata": {},
   "source": [
    "# Visitors Past Year LVA"
   ]
  },
  {
   "cell_type": "code",
   "execution_count": 15,
   "id": "317175b1-b66f-4de3-b491-2c02e1b278a9",
   "metadata": {},
   "outputs": [],
   "source": [
    "csv_file_path = (\n",
    "    \"data/bva/output/df_reg_demo_last_lva.csv\"  # Replace with your CSV file path.\n",
    ")\n",
    "data = pd.read_csv(csv_file_path)"
   ]
  },
  {
   "cell_type": "code",
   "execution_count": null,
   "id": "f47775d1-ef9b-4bcd-a6c1-3ae2d8aa322c",
   "metadata": {},
   "outputs": [
    {
     "data": {
      "text/plain": [
       "job_role\n",
       "Vet/Vet Surgeon           114\n",
       "Locum Vet                  24\n",
       "Other (please specify)     23\n",
       "Vet Nurse                  17\n",
       "Practice Partner/Owner     10\n",
       "Vet/Owner                   7\n",
       "Assistant Vet               5\n",
       "Practice Manager            3\n",
       "Student                     2\n",
       "Academic                    2\n",
       "Name: count, dtype: int64"
      ]
     },
     "execution_count": 16,
     "metadata": {},
     "output_type": "execute_result"
    }
   ],
   "source": [
    "data[\"job_role\"].value_counts()"
   ]
  },
  {
   "cell_type": "code",
   "execution_count": null,
   "id": "b7f83a2e-665f-4b5b-8f7b-5dc970726693",
   "metadata": {},
   "outputs": [],
   "source": [
    "node_label = \"Visitor_last_year_lva\"\n",
    "properties_map = {x: x for x in data.columns}\n",
    "\n",
    "\n",
    "# Example without relationships:\n",
    "load_csv_to_neo4j(uri, user, password, csv_file_path, node_label, properties_map)"
   ]
  },
  {
   "cell_type": "code",
   "execution_count": null,
   "id": "79725cbc-788d-4007-bca9-72c22572b50f",
   "metadata": {},
   "outputs": [],
   "source": []
  },
  {
   "cell_type": "code",
   "execution_count": null,
   "id": "e04e2cbf-6eb1-4a7d-b9da-5217329b9c53",
   "metadata": {},
   "outputs": [],
   "source": []
  }
 ],
 "metadata": {
  "kernelspec": {
   "display_name": "Python 3 (ipykernel)",
   "language": "python",
   "name": "python3"
  },
  "language_info": {
   "codemirror_mode": {
    "name": "ipython",
    "version": 3
   },
   "file_extension": ".py",
   "mimetype": "text/x-python",
   "name": "python",
   "nbconvert_exporter": "python",
   "pygments_lexer": "ipython3",
   "version": "3.11.11"
  }
 },
 "nbformat": 4,
 "nbformat_minor": 5
}
