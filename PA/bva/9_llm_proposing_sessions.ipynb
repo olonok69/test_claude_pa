{
 "cells": [
  {
   "cell_type": "code",
   "execution_count": 14,
   "id": "68b68c69-bfe8-4b4e-8fca-1d4abb020fd7",
   "metadata": {},
   "outputs": [],
   "source": [
    "import pandas as pd\n",
    "from langchain_core.prompts import ChatPromptTemplate, PromptTemplate\n",
    "import json\n",
    "import os\n",
    "\n",
    "from datetime import datetime\n",
    "import random\n",
    "\n",
    "from langchain_openai import ChatOpenAI, AzureChatOpenAI, AzureOpenAI\n",
    "from azure.ai.inference import ChatCompletionsClient\n",
    "from azure.core.credentials import AzureKeyCredential\n",
    "from dotenv import dotenv_values"
   ]
  },
  {
   "cell_type": "code",
   "execution_count": 15,
   "id": "94c3dfa1-2966-4fe1-be06-4004f8a2b03a",
   "metadata": {},
   "outputs": [],
   "source": [
    "config = dotenv_values(\".env\")\n"
   ]
  },
  {
   "cell_type": "code",
   "execution_count": 16,
   "id": "362d90f0-a01f-47f2-96b5-09061dde3b82",
   "metadata": {},
   "outputs": [],
   "source": [
    "df_reg_demo_this_2= pd.read_csv(\"data/bva/output/df_reg_demo_this.csv\")"
   ]
  },
  {
   "cell_type": "code",
   "execution_count": 17,
   "id": "22755a24-d86f-4a65-adaa-61145ce84d96",
   "metadata": {},
   "outputs": [],
   "source": [
    "llm = AzureChatOpenAI(\n",
    "    azure_endpoint=config[\"AZURE_ENDPOINT_O3\"],\n",
    "    azure_deployment=config[\"AZURE_DEPLOYMENT_O3\"],\n",
    "    api_key=config[\"AZURE_API_KEY_O3\"],\n",
    "    api_version=\"2024-12-01-preview\",\n",
    "    temperature=0.5,\n",
    "    top_p=0.9,\n",
    ")"
   ]
  },
  {
   "cell_type": "code",
   "execution_count": 18,
   "id": "9e37e0a8-00b5-4261-8a2e-304cf26d93dc",
   "metadata": {},
   "outputs": [],
   "source": [
    "def generate_prompt():\n",
    "    \"\"\"Generate a prompt for filter sessions according to some business rules\"\"\"\n",
    "    system_prompt = \"\"\"\n",
    "    you are an assistant specialized in filter sessions of an Event based in bussiness rules and profiles of users\n",
    "    \n",
    "    \"\"\"\n",
    "\n",
    "    return system_prompt"
   ]
  },
  {
   "cell_type": "code",
   "execution_count": 19,
   "id": "01cbd497-8f45-4e22-929b-b601484ffbb2",
   "metadata": {},
   "outputs": [],
   "source": [
    "system_prompt = generate_prompt()\n",
    "prompt = PromptTemplate(\n",
    "    input_variables=[\"sessions \", \"rules\"],\n",
    "    template=system_prompt\n",
    "    + \"\"\"Filter these sessions: {sessions} based on the title and descriptions of the folowing session events {rules}.\\n just return from the list those that meet the requirements implemented in the rules\"\"\",\n",
    ")"
   ]
  },
  {
   "cell_type": "code",
   "execution_count": null,
   "id": "f9b07b7b-6993-48e3-a0e8-fe459df73fda",
   "metadata": {},
   "outputs": [],
   "source": []
  }
 ],
 "metadata": {
  "kernelspec": {
   "display_name": "Python 3 (ipykernel)",
   "language": "python",
   "name": "python3"
  },
  "language_info": {
   "codemirror_mode": {
    "name": "ipython",
    "version": 3
   },
   "file_extension": ".py",
   "mimetype": "text/x-python",
   "name": "python",
   "nbconvert_exporter": "python",
   "pygments_lexer": "ipython3",
   "version": "3.11.11"
  }
 },
 "nbformat": 4,
 "nbformat_minor": 5
}
