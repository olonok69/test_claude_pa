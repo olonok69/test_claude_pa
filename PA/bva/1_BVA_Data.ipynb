{
 "cells": [
  {
   "cell_type": "markdown",
   "id": "d6ff68e7-ac0f-445b-a28a-a3f577a1e52e",
   "metadata": {},
   "source": [
    "# Registration and Demographic Data DVA for Personal Agendas\n",
    "\n",
    "## Necesary Files\n",
    "Refresed every Week\n",
    "\n",
    "- registration_BVA24_BVA25.json\n",
    "- registration_LVS24.json\n",
    "- demographics_BVA24_BVA25.json\n",
    "- demographics_LVS24.json\n",
    "\n",
    "## list of QA to keep \n",
    "\n",
    "- list_keep_this = ['What type does your practice specialise in', 'Organisation Type','Job Role']\n",
    "- list_keep_past = [ 'What areas do you specialise in', 'Organisation Type','Job Role']"
   ]
  },
  {
   "cell_type": "code",
   "execution_count": null,
   "id": "8491018b-c5f6-4e70-ba75-667f65dd4c52",
   "metadata": {},
   "outputs": [],
   "source": [
    "import pandas as pd\n",
    "import json\n",
    "from pandas import json_normalize\n",
    "import warnings\n",
    "from typing import List\n",
    "from pandas.errors import SettingWithCopyWarning\n",
    "import logging\n",
    "\n",
    "warnings.simplefilter(action=\"ignore\", category=(SettingWithCopyWarning))"
   ]
  },
  {
   "cell_type": "code",
   "execution_count": null,
   "id": "629d813c-59c7-4be7-9d5b-21f1397eb47b",
   "metadata": {},
   "outputs": [],
   "source": [
    "with open(\n",
    "    \"data/bva/20250428_registration_BVA24_BVA25.json\", \"r\", encoding=\"utf-8\"\n",
    ") as f:  # 'csm_data/BVA/20250305_reg_visitor_BVA24_BVA25.json\n",
    "    regdata = json.load(f)"
   ]
  },
  {
   "cell_type": "code",
   "execution_count": null,
   "id": "96c76494-c554-417d-8804-d9eaf8080043",
   "metadata": {},
   "outputs": [],
   "source": [
    "with open(\n",
    "    \"data/bva/20250428_registration_LVS24.json\", \"r\", encoding=\"utf-8\"\n",
    ") as f:  # 'csm_data/BVA/20250305_reg_visitor_BVA24_BVA25.json\n",
    "    regdata_lva = json.load(f)"
   ]
  },
  {
   "cell_type": "code",
   "execution_count": null,
   "id": "105f5cc0-0583-4f44-9211-825a89068bd8",
   "metadata": {},
   "outputs": [],
   "source": [
    "columns = list(regdata[0].keys())\n",
    "columns"
   ]
  },
  {
   "cell_type": "code",
   "execution_count": null,
   "id": "42a5573f-cb19-40ea-a6be-51d1698d6222",
   "metadata": {},
   "outputs": [],
   "source": [
    "columns = list(regdata_lva[0].keys())\n",
    "columns"
   ]
  },
  {
   "cell_type": "code",
   "execution_count": null,
   "id": "add52c3b-17e0-47c4-9bb7-b1ac322ccd5a",
   "metadata": {},
   "outputs": [],
   "source": [
    "# Normalize the nested JSON\n",
    "df = json_normalize(regdata)\n",
    "df_lva = json_normalize(regdata_lva)"
   ]
  },
  {
   "cell_type": "code",
   "execution_count": null,
   "id": "a902ebdd-6157-40e6-b020-d210e0e9f5bf",
   "metadata": {},
   "outputs": [],
   "source": [
    "df.to_csv(\"data/bva/csv/Registration_data_bva.csv\", index=False)\n",
    "df_lva.to_csv(\"data/bva/csv/Registration_data_lva.csv\", index=False)"
   ]
  },
  {
   "cell_type": "code",
   "execution_count": null,
   "id": "8291b9aa-1bd9-4941-8b06-fd4548f1ccd8",
   "metadata": {},
   "outputs": [],
   "source": [
    "len(df), len(\n",
    "    df_lva\n",
    ")  # 08042025 Before = 3092 # 16042025--> (4772, 11426) # Before 22042025 -->(4831, 11426) # before 29042025 (4913, 11426)"
   ]
  },
  {
   "cell_type": "markdown",
   "id": "0903f72c-f476-4da6-948c-02bcd2f7937d",
   "metadata": {},
   "source": [
    "# JOB title or Job Role from Demographic"
   ]
  },
  {
   "cell_type": "code",
   "execution_count": null,
   "id": "0f23a215-be37-4a6a-b3c8-f011fef4704a",
   "metadata": {},
   "outputs": [],
   "source": [
    "df[\"JobTitle\"] = df[\"JobTitle\"].str.lower()\n",
    "df[\"JobTitle\"] = df[\"JobTitle\"].fillna(\"NA\")"
   ]
  },
  {
   "cell_type": "code",
   "execution_count": null,
   "id": "fd151ad9-23ac-421b-82d4-e4f5062e416a",
   "metadata": {},
   "outputs": [],
   "source": [
    "df.head()"
   ]
  },
  {
   "cell_type": "markdown",
   "id": "604d62db-b542-4c5c-8962-0dc11d0cc312",
   "metadata": {},
   "source": [
    "# Preprocessing Registration Data"
   ]
  },
  {
   "cell_type": "code",
   "execution_count": null,
   "id": "ec49fe50-bfbd-4ffe-9df1-929ae26e0869",
   "metadata": {},
   "outputs": [],
   "source": [
    "from datetime import datetime\n",
    "import string\n",
    "\n",
    "\n",
    "def calculate_date_difference(df, date_column, given_date_str):\n",
    "    # Convert the column to datetime\n",
    "    df[date_column] = pd.to_datetime(df[date_column])\n",
    "\n",
    "    # Convert the given date to datetime\n",
    "    given_date = datetime.strptime(given_date_str, \"%Y-%m-%d\")\n",
    "\n",
    "    # Calculate the difference in days\n",
    "    df[\"Days_since_registration\"] = (given_date - df[date_column]).dt.days\n",
    "\n",
    "    return df"
   ]
  },
  {
   "cell_type": "code",
   "execution_count": null,
   "id": "85a7a91a-1785-4ddd-adfd-ccfcb0696954",
   "metadata": {},
   "outputs": [],
   "source": [
    "# Calculate the difference in days from a given date\n",
    "given_date_str_this = \"2025-06-12\"  # Event Day\n",
    "given_date_str_last = \"2024-06-12\"  # Event Day\n",
    "# result_df = calculate_date_difference(df, 'RegistrationDate', given_date_str)"
   ]
  },
  {
   "cell_type": "code",
   "execution_count": null,
   "id": "4219c272-0a65-4096-b31d-c66c323e758d",
   "metadata": {},
   "outputs": [],
   "source": [
    "df = df.dropna(subset=[\"Email\"])\n",
    "df = df.dropna(subset=[\"Forename\"])\n",
    "df = df.dropna(subset=[\"Surname\"])"
   ]
  },
  {
   "cell_type": "code",
   "execution_count": null,
   "id": "6edcec29-709c-4c17-a553-e03ebc565d97",
   "metadata": {},
   "outputs": [],
   "source": [
    "df_lva = df_lva.dropna(subset=[\"Email\"])\n",
    "df_lva = df_lva.dropna(subset=[\"Forename\"])\n",
    "df_lva = df_lva.dropna(subset=[\"Surname\"])"
   ]
  },
  {
   "cell_type": "code",
   "execution_count": null,
   "id": "8d90f1f1-f829-417a-bc70-6b15bedc7ad8",
   "metadata": {},
   "outputs": [],
   "source": [
    "df.isnull().sum()"
   ]
  },
  {
   "cell_type": "code",
   "execution_count": null,
   "id": "22fa71d6-a99c-431d-b269-36dee2428f42",
   "metadata": {},
   "outputs": [],
   "source": [
    "list_of_professions = list(df[\"JobTitle\"].unique())"
   ]
  },
  {
   "cell_type": "code",
   "execution_count": null,
   "id": "d6833dcc-4822-471b-8973-57b18daf5d57",
   "metadata": {},
   "outputs": [],
   "source": [
    "job_titles = pd.DataFrame(data=list_of_professions, columns=[\"JobTitle\"])\n",
    "job_titles.to_csv(\"data/bva/list_of_professions.csv\", index=False)"
   ]
  },
  {
   "cell_type": "code",
   "execution_count": null,
   "id": "62a61fce-7354-46bc-b4c3-88b6b3136c0e",
   "metadata": {},
   "outputs": [],
   "source": [
    "len(list_of_professions), len(df)  # 22042025 (1354, 4821)"
   ]
  },
  {
   "cell_type": "code",
   "execution_count": null,
   "id": "e05ec3c8-aa19-47b9-89b2-dfd094231649",
   "metadata": {},
   "outputs": [],
   "source": [
    "df[\"ShowRef\"].unique()"
   ]
  },
  {
   "cell_type": "code",
   "execution_count": null,
   "id": "a0a371ff-cd68-4a34-a9df-38667ef7c56d",
   "metadata": {},
   "outputs": [],
   "source": [
    "df[\"Company\"].unique()"
   ]
  },
  {
   "cell_type": "code",
   "execution_count": null,
   "id": "cba55b01-7edd-4af7-a242-8ce1b254206c",
   "metadata": {},
   "outputs": [],
   "source": [
    "df_lva[\"ShowRef\"].unique()"
   ]
  },
  {
   "cell_type": "code",
   "execution_count": null,
   "id": "3af34028-f7a6-4847-a4bd-a1b542af7687",
   "metadata": {},
   "outputs": [],
   "source": [
    "df[\"BadgeType\"].unique()"
   ]
  },
  {
   "cell_type": "code",
   "execution_count": null,
   "id": "13923668-aaeb-4140-8959-5955b11131de",
   "metadata": {},
   "outputs": [],
   "source": [
    "df_lva[\"BadgeType\"].unique()"
   ]
  },
  {
   "cell_type": "code",
   "execution_count": null,
   "id": "485629eb-bb6a-4dc9-8191-3e7b986aa852",
   "metadata": {},
   "outputs": [],
   "source": [
    "df[\"Source\"].unique()"
   ]
  },
  {
   "cell_type": "code",
   "execution_count": null,
   "id": "f1a48ffe-867e-43e9-a7c2-7b04949987ca",
   "metadata": {},
   "outputs": [],
   "source": [
    "df[\"Status\"].unique()"
   ]
  },
  {
   "cell_type": "code",
   "execution_count": null,
   "id": "850a9fe1-d9be-43a2-9d3a-e47119cf2f5a",
   "metadata": {},
   "outputs": [],
   "source": [
    "shows_25 = [\"BVA2025\"]"
   ]
  },
  {
   "cell_type": "code",
   "execution_count": null,
   "id": "47e5a321-905e-49e9-bee7-b9c1896aa46c",
   "metadata": {},
   "outputs": [],
   "source": [
    "df[\"RegCode\"].unique()"
   ]
  },
  {
   "cell_type": "code",
   "execution_count": null,
   "id": "c539e194-a7d8-488d-b2cd-fd643216ddb6",
   "metadata": {},
   "outputs": [],
   "source": [
    "# Registro 24 and 25\n",
    "df_reg_25 = df[df.ShowRef.isin(shows_25)]\n",
    "df_reg_24 = df[~(df.ShowRef.isin(shows_25))]\n",
    "len(df_reg_25), len(df_reg_24)"
   ]
  },
  {
   "cell_type": "code",
   "execution_count": null,
   "id": "7e7b1104-5b89-4df5-96db-3e8f42f93ec3",
   "metadata": {},
   "outputs": [],
   "source": [
    "df_reg_25[\"BadgeType\"].unique()"
   ]
  },
  {
   "cell_type": "code",
   "execution_count": null,
   "id": "d63b5aed-03ad-44e2-b06b-b5ebf1ab5678",
   "metadata": {},
   "outputs": [],
   "source": [
    "len(df_lva[df_lva[\"BadgeType\"] == \"Delegate - Group\"]), len(\n",
    "    df_reg_24[df_reg_24[\"BadgeType\"] == \"Delegate - Group\"]\n",
    "), len(df_reg_25[df_reg_25[\"BadgeType\"] == \"Delegate - Group\"])"
   ]
  },
  {
   "cell_type": "code",
   "execution_count": null,
   "id": "f4598a5e-fd48-4c5c-b300-3d3c7602aac4",
   "metadata": {},
   "outputs": [],
   "source": [
    "df[\"BadgeType\"].unique()"
   ]
  },
  {
   "cell_type": "markdown",
   "id": "914f1d24-0254-49db-905e-f4ab0f249e0f",
   "metadata": {},
   "source": [
    "# Drop duplicates badgeID and remove non-valid BadgeTypes"
   ]
  },
  {
   "cell_type": "code",
   "execution_count": null,
   "id": "8eca637a-81d7-42d3-bfe1-676e48594c8f",
   "metadata": {},
   "outputs": [],
   "source": [
    "list_valid_badges_types = [\"Delegate\", \"Delegate - Group\"]"
   ]
  },
  {
   "cell_type": "code",
   "execution_count": null,
   "id": "eb8a4a52-c778-43ed-9e00-aa6aa66165ce",
   "metadata": {},
   "outputs": [],
   "source": [
    "df_reg_25 = df_reg_25[df_reg_25[\"BadgeType\"].isin(list_valid_badges_types)]\n",
    "df_reg_24 = df_reg_24[df_reg_24[\"BadgeType\"].isin(list_valid_badges_types)]\n",
    "df_lva_24 = df_lva[df_lva[\"BadgeType\"].isin(list_valid_badges_types)]\n",
    "\n",
    "len(df_reg_25), len(df_reg_24), len(df_lva_24)"
   ]
  },
  {
   "cell_type": "code",
   "execution_count": null,
   "id": "66929e63-9e4e-4cc6-b0a4-a68471cda223",
   "metadata": {},
   "outputs": [],
   "source": [
    "len(df_reg_25[\"BadgeId\"].unique()), len(df_reg_24[\"BadgeId\"].unique()), len(\n",
    "    df_lva_24[\"BadgeId\"].unique()\n",
    ")"
   ]
  },
  {
   "cell_type": "code",
   "execution_count": null,
   "id": "b7976cfc-e51f-4e0a-9792-3328984acdda",
   "metadata": {},
   "outputs": [],
   "source": [
    "df_reg_25 = df_reg_25.drop_duplicates(subset=\"BadgeId\", keep=\"first\")\n",
    "df_reg_24 = df_reg_24.drop_duplicates(subset=\"BadgeId\", keep=\"first\")\n",
    "df_lva_24 = df_lva_24.drop_duplicates(subset=\"BadgeId\", keep=\"first\")\n",
    "len(df_reg_25), len(df_reg_24), len(df_lva_24)"
   ]
  },
  {
   "cell_type": "code",
   "execution_count": null,
   "id": "0563acb8-8682-4b21-8a46-23cacb819751",
   "metadata": {},
   "outputs": [],
   "source": [
    "# save registration data\n",
    "df_reg_25.to_csv(\"data/bva/csv/Registration_data_bva_25_raw.csv\", index=False)\n",
    "df_reg_24.to_csv(\"data/bva/csv/Registration_data_bva_24_raw.csv\", index=False)\n",
    "df_lva_24.to_csv(\"data/bva/csv/Registration_data_lva_24_raw.csv\", index=False)"
   ]
  },
  {
   "cell_type": "code",
   "execution_count": null,
   "id": "d2854f50-735f-4d01-abfb-998d941f0b4a",
   "metadata": {},
   "outputs": [],
   "source": [
    "def concat_forename_email(row):\n",
    "    return (\n",
    "        row[\"Forename\"].lower()\n",
    "        + \"_\"\n",
    "        + row[\"Surname\"].lower()\n",
    "        + \"_\"\n",
    "        + row[\"Email\"].lower()\n",
    "    )"
   ]
  },
  {
   "cell_type": "code",
   "execution_count": null,
   "id": "b82eadf4-58b8-4e4f-8a7c-34b2b5bff049",
   "metadata": {},
   "outputs": [],
   "source": [
    "df_reg_24[\"id_both_years\"] = df_reg_24.apply(\n",
    "    lambda row: concat_forename_email(row), axis=1\n",
    ")\n",
    "df_reg_25[\"id_both_years\"] = df_reg_25.apply(\n",
    "    lambda row: concat_forename_email(row), axis=1\n",
    ")\n",
    "df_lva_24[\"id_both_years\"] = df_lva_24.apply(\n",
    "    lambda row: concat_forename_email(row), axis=1\n",
    ")"
   ]
  },
  {
   "cell_type": "code",
   "execution_count": null,
   "id": "87517530-9074-4db4-9498-fb485bf3e03c",
   "metadata": {},
   "outputs": [],
   "source": [
    "df_reg_25.head(2)"
   ]
  },
  {
   "cell_type": "code",
   "execution_count": null,
   "id": "dcdd0e9e-179b-4fb7-bf81-8c19f3374a60",
   "metadata": {},
   "outputs": [],
   "source": [
    "# list email 24 and 25\n",
    "list_email_24 = set(list(df_reg_24[\"id_both_years\"].unique()))\n",
    "list_email_25 = set(list(df_reg_25[\"id_both_years\"].unique()))\n",
    "list_lva_email_24 = set(list(df_lva_24[\"id_both_years\"].unique()))\n",
    "visitors_before_this_year_bva = list_email_25.intersection(list_email_24)\n",
    "visitors_before_this_year_lva = list_email_25.intersection(list_lva_email_24)\n",
    "len(visitors_before_this_year_bva), len(visitors_before_this_year_lva)"
   ]
  },
  {
   "cell_type": "code",
   "execution_count": null,
   "id": "8e32db77-b195-477f-8965-92fb4939495c",
   "metadata": {},
   "outputs": [],
   "source": [
    "len(list_email_24), len(list_lva_email_24)"
   ]
  },
  {
   "cell_type": "code",
   "execution_count": null,
   "id": "61dd0c1b-708d-427c-932b-f7225751ba96",
   "metadata": {},
   "outputs": [],
   "source": [
    "# registration Data users that were in 2024 and 2025\n",
    "df_reg_24_25_bva = df_reg_24[\n",
    "    df_reg_24[\"id_both_years\"].isin(visitors_before_this_year_bva)\n",
    "]\n",
    "df_reg_24_25_lva = df_lva_24[\n",
    "    df_lva_24[\"id_both_years\"].isin(visitors_before_this_year_lva)\n",
    "]"
   ]
  },
  {
   "cell_type": "code",
   "execution_count": null,
   "id": "4a66a8cd-998b-416f-862c-7573995769db",
   "metadata": {},
   "outputs": [],
   "source": [
    "df_reg_25 = calculate_date_difference(\n",
    "    df_reg_25, \"RegistrationDate\", given_date_str_this\n",
    ")\n",
    "df_reg_24 = calculate_date_difference(\n",
    "    df_reg_24, \"RegistrationDate\", given_date_str_this\n",
    ")\n",
    "\n",
    "df_reg_24_25_bva = calculate_date_difference(\n",
    "    df_reg_24_25_bva, \"RegistrationDate\", given_date_str_last\n",
    ")\n",
    "df_reg_24_25_lva = calculate_date_difference(\n",
    "    df_reg_24_25_lva, \"RegistrationDate\", given_date_str_last\n",
    ")\n",
    "df_reg_25.head(2)"
   ]
  },
  {
   "cell_type": "markdown",
   "id": "e18295a1-8d3e-433e-a407-e736ef73a23b",
   "metadata": {},
   "source": [
    "# Get domain and flag if assist last year event and BadID_Last_year"
   ]
  },
  {
   "cell_type": "code",
   "execution_count": null,
   "id": "6141bc0c-9a23-462d-96d0-25ed59d20042",
   "metadata": {},
   "outputs": [],
   "source": [
    "badge_last_year_index_bva = df_reg_24_25_bva[[\"BadgeId\", \"id_both_years\"]]\n",
    "badge_last_year_index_lva = df_reg_24_25_lva[[\"BadgeId\", \"id_both_years\"]]"
   ]
  },
  {
   "cell_type": "code",
   "execution_count": null,
   "id": "afe08840-cf5e-4659-a671-fe02fa87bb6d",
   "metadata": {},
   "outputs": [],
   "source": [
    "badge_last_year_index_bva.columns = [\"BadgeId_last_year_bva\", \"id_both_years\"]\n",
    "badge_last_year_index_lva.columns = [\"BadgeId_last_year_lva\", \"id_both_years\"]"
   ]
  },
  {
   "cell_type": "code",
   "execution_count": null,
   "id": "06297450-c911-4d13-822c-a944e1ba4348",
   "metadata": {},
   "outputs": [],
   "source": [
    "df_reg_25 = pd.merge(\n",
    "    df_reg_25, badge_last_year_index_bva, on=[\"id_both_years\"], how=\"left\"\n",
    ")\n",
    "df_reg_25 = pd.merge(\n",
    "    df_reg_25, badge_last_year_index_lva, on=[\"id_both_years\"], how=\"left\"\n",
    ")"
   ]
  },
  {
   "cell_type": "code",
   "execution_count": null,
   "id": "8fc62715-fb77-4237-b1b0-07ba1e58e905",
   "metadata": {},
   "outputs": [],
   "source": [
    "df_reg_25[\"BadgeId_last_year_bva\"] = df_reg_25[\"BadgeId_last_year_bva\"].fillna(\"NA\")\n",
    "df_reg_25[\"BadgeId_last_year_lva\"] = df_reg_25[\"BadgeId_last_year_lva\"].fillna(\"NA\")"
   ]
  },
  {
   "cell_type": "code",
   "execution_count": null,
   "id": "279f24ce-dd13-4e6e-87fb-e9522132025c",
   "metadata": {},
   "outputs": [],
   "source": [
    "len(df_reg_25[\"BadgeId_last_year_bva\"].unique()), len(\n",
    "    df_reg_25[\"BadgeId_last_year_lva\"].unique()\n",
    ")  # must be 1 more than len(visitors_before_this_year)"
   ]
  },
  {
   "cell_type": "code",
   "execution_count": null,
   "id": "9593d80a-848d-4c4a-8c8c-24d6cbc998c5",
   "metadata": {},
   "outputs": [],
   "source": [
    "def return_domain(x):\n",
    "    return x.split(\"@\")[-1]\n",
    "\n",
    "\n",
    "def assits_year_before(x, list_email):\n",
    "    if x[\"id_both_years\"] in list_email:\n",
    "        return 1\n",
    "    else:\n",
    "        return 0"
   ]
  },
  {
   "cell_type": "markdown",
   "id": "970bead5-fe9a-4ea1-b637-b33abd9399a0",
   "metadata": {},
   "source": [
    "# UNion of visitor that have been in BVA and LVA past year that repeat this year"
   ]
  },
  {
   "cell_type": "code",
   "execution_count": null,
   "id": "8f353329-d1d5-4192-93e7-8e06b3df32c8",
   "metadata": {},
   "outputs": [],
   "source": [
    "visitors_before_this_year = visitors_before_this_year_bva.union(\n",
    "    visitors_before_this_year_lva\n",
    ")\n",
    "len(visitors_before_this_year)"
   ]
  },
  {
   "cell_type": "code",
   "execution_count": null,
   "id": "3247e98b-6462-46a0-9d2b-0c0de4e4e6f8",
   "metadata": {},
   "outputs": [],
   "source": [
    "df_reg_25[\"Email_domain\"] = df_reg_25[\"Email\"].apply(return_domain)\n",
    "df_reg_25[\"assist_year_before\"] = df_reg_25.apply(\n",
    "    lambda row: assits_year_before(row, visitors_before_this_year), axis=1\n",
    ")\n",
    "\n",
    "# last year\n",
    "df_reg_24[\"Email_domain\"] = df_reg_24[\"Email\"].apply(return_domain)\n",
    "df_reg_24_25_bva[\"Email_domain\"] = df_reg_24_25_bva[\"Email\"].apply(return_domain)\n",
    "df_reg_24_25_lva[\"Email_domain\"] = df_reg_24_25_lva[\"Email\"].apply(return_domain)"
   ]
  },
  {
   "cell_type": "code",
   "execution_count": null,
   "id": "2a012bbf-223b-4005-bfc6-deb20132e846",
   "metadata": {},
   "outputs": [],
   "source": [
    "df_reg_25[\"assist_year_before\"].value_counts()"
   ]
  },
  {
   "cell_type": "code",
   "execution_count": null,
   "id": "ae055e22-b488-4669-8e7f-6da216b9603c",
   "metadata": {},
   "outputs": [],
   "source": [
    "len(df_reg_25[\"BadgeId\"].unique()), len(df_reg_24_25_bva[\"BadgeId\"].unique()), len(\n",
    "    df_reg_24_25_lva[\"BadgeId\"].unique()\n",
    ")"
   ]
  },
  {
   "cell_type": "code",
   "execution_count": null,
   "id": "f63427db-e429-41b7-8862-5f11d086b5d1",
   "metadata": {},
   "outputs": [],
   "source": [
    " \"GN22YN9\" in list(df_reg_24['BadgeId'].unique())"
   ]
  },
  {
   "cell_type": "code",
   "execution_count": null,
   "id": "aa7f7a33-8573-450e-b31e-b99a0f0f8859",
   "metadata": {},
   "outputs": [],
   "source": [
    "# save registration data\n",
    "df_reg_25.to_csv(\"data/bva/csv/Registration_data_bva_25.csv\", index=False)\n",
    "df_reg_24.to_csv(\"data/bva/csv/Registration_data_bva_24.csv\", index=False)\n",
    "df_reg_24_25_bva.to_csv(\"data/bva/csv/Registration_data_bva_24_25.csv\", index=False)\n",
    "df_reg_24_25_lva.to_csv(\"data/bva/csv/Registration_data_bva_24_25.csv\", index=False)"
   ]
  },
  {
   "cell_type": "code",
   "execution_count": null,
   "id": "4fb195eb-37ca-412c-b69f-4616dad1ccef",
   "metadata": {},
   "outputs": [],
   "source": [
    "df_reg_25.columns"
   ]
  },
  {
   "cell_type": "code",
   "execution_count": null,
   "id": "c5fbfeee-2a53-475f-91cb-6d89573d8b7a",
   "metadata": {},
   "outputs": [],
   "source": [
    "# Select Valid Columns\n",
    "columns_this = [\n",
    "    \"Email\",\n",
    "    \"Email_domain\",\n",
    "    \"Company\",\n",
    "    \"JobTitle\",\n",
    "    \"Country\",\n",
    "    \"BadgeType\",\n",
    "    \"ShowRef\",\n",
    "    \"BadgeId\",\n",
    "    \"Source\",\n",
    "    \"Days_since_registration\",\n",
    "    \"assist_year_before\",\n",
    "    \"BadgeId_last_year_bva\",\n",
    "    \"BadgeId_last_year_lva\",\n",
    "]\n",
    "columns_last = [\n",
    "    \"Email\",\n",
    "    \"Email_domain\",\n",
    "    \"Company\",\n",
    "    \"JobTitle\",\n",
    "    \"Country\",\n",
    "    \"BadgeType\",\n",
    "    \"ShowRef\",\n",
    "    \"BadgeId\",\n",
    "    \"Source\",\n",
    "    \"Days_since_registration\",\n",
    "]"
   ]
  },
  {
   "cell_type": "code",
   "execution_count": null,
   "id": "f0baaff3-bbea-467b-8b50-39583bcbf03a",
   "metadata": {},
   "outputs": [],
   "source": [
    "df_reg_25_valid_columns = df_reg_25[columns_this]\n",
    "df_reg_24_valid_columns = df_reg_24[columns_last]\n",
    "df_reg_24_25_bva_valid_columns = df_reg_24_25_bva[columns_last]\n",
    "df_reg_24_25_lva_valid_columns = df_reg_24_25_lva[columns_last]"
   ]
  },
  {
   "cell_type": "code",
   "execution_count": null,
   "id": "8b2b52a1-2177-41ef-8334-863887c0fa59",
   "metadata": {},
   "outputs": [],
   "source": [
    "df_reg_25_valid_columns.isnull().sum()"
   ]
  },
  {
   "cell_type": "code",
   "execution_count": null,
   "id": "4a9d2733-125d-4588-8c54-6f590a5a9f12",
   "metadata": {},
   "outputs": [],
   "source": [
    "df_reg_25_valid_columns.head()"
   ]
  },
  {
   "cell_type": "code",
   "execution_count": null,
   "id": "a2b83f58-223e-4761-a02b-62f63d83522c",
   "metadata": {},
   "outputs": [],
   "source": [
    "df_reg_24_valid_columns.isnull().sum()"
   ]
  },
  {
   "cell_type": "code",
   "execution_count": null,
   "id": "d1b4c3c0-cea3-4345-a084-53ce14373125",
   "metadata": {},
   "outputs": [],
   "source": [
    "# Save data\n",
    "df_reg_25_valid_columns.to_csv(\n",
    "    \"data/bva/csv/Registration_data_bva_25_only_valid.csv\", index=False\n",
    ")\n",
    "df_reg_24_valid_columns.to_csv(\n",
    "    \"data/bva/csv/Registration_data_bva_24_only_valid.csv\", index=False\n",
    ")\n",
    "df_reg_24_25_bva_valid_columns.to_csv(\n",
    "    \"data/bva/csv/Registration_data_bva_24_25_only_valid.csv\", index=False\n",
    ")\n",
    "df_reg_24_25_lva_valid_columns.to_csv(\n",
    "    \"data/bva/csv/Registration_data_lva_24_25_only_valid.csv\", index=False\n",
    ")"
   ]
  },
  {
   "cell_type": "code",
   "execution_count": null,
   "id": "0fac0685-b96f-41a3-ac6d-47b4c96c3053",
   "metadata": {},
   "outputs": [],
   "source": [
    "# AQUI"
   ]
  },
  {
   "cell_type": "markdown",
   "id": "dfe683f1-80db-4ddf-89eb-538c98b33ddc",
   "metadata": {},
   "source": [
    "# Demographic Data BVA and LVA"
   ]
  },
  {
   "cell_type": "code",
   "execution_count": null,
   "id": "6cf2d3a1-1344-4032-8c00-5dcd9f49432b",
   "metadata": {},
   "outputs": [],
   "source": [
    "with open(\"data/bva/20250428_demographics_BVA24_BVA25.json\", \"r\") as f:\n",
    "    demodata = json.load(f)"
   ]
  },
  {
   "cell_type": "code",
   "execution_count": null,
   "id": "72feb697-7de3-472d-9d13-6200900f9fe2",
   "metadata": {},
   "outputs": [],
   "source": [
    "# Normalize the nested JSON\n",
    "df2 = json_normalize(demodata)"
   ]
  },
  {
   "cell_type": "code",
   "execution_count": null,
   "id": "f42a952a-2193-4fd7-bf58-88f51fc43347",
   "metadata": {},
   "outputs": [],
   "source": [
    "with open(\"data/bva/20250428_demographics_LVS24.json\", \"r\") as f:\n",
    "    demodata_lva = json.load(f)"
   ]
  },
  {
   "cell_type": "code",
   "execution_count": null,
   "id": "e4a73045-743f-4909-98b1-8d8bfeac401c",
   "metadata": {},
   "outputs": [],
   "source": [
    "# Normalize the nested JSON\n",
    "df3 = json_normalize(demodata_lva)"
   ]
  },
  {
   "cell_type": "code",
   "execution_count": null,
   "id": "ee0db31a-e1f3-49da-a316-9443eb431cb8",
   "metadata": {},
   "outputs": [],
   "source": [
    "len(df2), len(\n",
    "    demodata_lva\n",
    ")  # 080425 before 25269 # 16042025 (31700, 65186) # 22042025 (32131, 65186) #29042025 (33395, 65186)"
   ]
  },
  {
   "cell_type": "code",
   "execution_count": null,
   "id": "d5a450bf-5c4b-48ba-b383-02a421072d8b",
   "metadata": {},
   "outputs": [],
   "source": [
    "df2.to_csv(\"data/bva/csv/Registration_demographicdata_bva.csv\", index=False)\n",
    "df3.to_csv(\"data/bva/csv/Registration_demographicdata_lva.csv\", index=False)"
   ]
  },
  {
   "cell_type": "code",
   "execution_count": null,
   "id": "24a1ef16-88c2-4cc7-86ef-aef5b19be081",
   "metadata": {},
   "outputs": [],
   "source": [
    "df_demo_25 = df2[df2.showref.isin(shows_25)]\n",
    "df_demo_24 = df2[~(df2.showref.isin(shows_25))]\n",
    "len(df_demo_25), len(df_demo_24)"
   ]
  },
  {
   "cell_type": "code",
   "execution_count": null,
   "id": "e530e516-c2be-4194-8610-0a1691216fed",
   "metadata": {},
   "outputs": [],
   "source": [
    "def remove_punctuation(text):\n",
    "    \"\"\"Removes punctuation from a string, excluding hyphens.\"\"\"\n",
    "    custom_punctuation = (\n",
    "        string.punctuation.replace(\"-\", \"\").replace(\"/\", \"\") + \"‘’“”…\" + \"â€™Â\"\n",
    "    )\n",
    "    return text.translate(str.maketrans(\"\", \"\", custom_punctuation))"
   ]
  },
  {
   "cell_type": "code",
   "execution_count": null,
   "id": "453bb373-2133-4fc8-97f6-e11a7d2dde60",
   "metadata": {},
   "outputs": [],
   "source": [
    "df3.head()"
   ]
  },
  {
   "cell_type": "code",
   "execution_count": null,
   "id": "a767756d-4f28-454e-bdbe-3e8195c92475",
   "metadata": {},
   "outputs": [],
   "source": [
    "df_demo_25[\"QuestionText\"] = df_demo_25[\"QuestionText\"].apply(remove_punctuation)\n",
    "df_demo_24[\"QuestionText\"] = df_demo_24[\"QuestionText\"].apply(remove_punctuation)\n",
    "df3[\"QuestionText\"] = df3[\"QuestionText\"].apply(remove_punctuation)"
   ]
  },
  {
   "cell_type": "code",
   "execution_count": null,
   "id": "eca0dd2d-16ed-4365-bc1b-545a1fb10515",
   "metadata": {},
   "outputs": [],
   "source": [
    "job_records_df = df2[df2[\"QuestionText\"] == \"Job Role\"]\n",
    "job_records_df.head(3)"
   ]
  },
  {
   "cell_type": "code",
   "execution_count": null,
   "id": "0c4e1ebd-1f7b-4a38-9465-adb829dcb462",
   "metadata": {},
   "outputs": [],
   "source": [
    "job_records_df_lva = df3[df3[\"QuestionText\"] == \"Job Role\"]\n",
    "job_records_df_lva.head(3)"
   ]
  },
  {
   "cell_type": "markdown",
   "id": "f5c505a2-d8f9-4579-8fe3-87fd33f10986",
   "metadata": {},
   "source": [
    "# Spezialization"
   ]
  },
  {
   "cell_type": "code",
   "execution_count": null,
   "id": "ccaf3941-80ec-4047-bbde-332703f5369c",
   "metadata": {},
   "outputs": [],
   "source": [
    "df_spe = df_demo_25[\n",
    "    df_demo_25[\"QuestionText\"] == \"What type does your practice specialise in\"\n",
    "]\n",
    "df_spe2 = df_demo_24[df_demo_24[\"QuestionText\"] == \"What areas do you specialise in\"]"
   ]
  },
  {
   "cell_type": "code",
   "execution_count": null,
   "id": "8753a69f-af31-4f85-bcd9-f23b978728fc",
   "metadata": {},
   "outputs": [],
   "source": [
    "original_list = df_spe[\"AnswerText\"].unique()"
   ]
  },
  {
   "cell_type": "code",
   "execution_count": null,
   "id": "deb881f4-ea96-45c0-b3fd-dd030568ea52",
   "metadata": {},
   "outputs": [],
   "source": [
    "# Set to store unique classes\n",
    "unique_classes = set()\n",
    "\n",
    "# Process each item in the list\n",
    "for item in original_list:\n",
    "    # Split by semicolon and add each class to the set\n",
    "    classes = item.split(\";\")\n",
    "    for cls in classes:\n",
    "        unique_classes.add(cls.strip())\n",
    "\n",
    "# Convert set back to a list for the final result\n",
    "individual_classes = list(unique_classes)\n",
    "\n",
    "print(\"Number of unique classes:\", len(individual_classes))\n",
    "print(\"Unique classes:\", individual_classes)"
   ]
  },
  {
   "cell_type": "code",
   "execution_count": null,
   "id": "1aab33a5-f925-4be9-abb9-56740c92298e",
   "metadata": {},
   "outputs": [],
   "source": [
    "df_spe2[\"AnswerText\"].unique()"
   ]
  },
  {
   "cell_type": "code",
   "execution_count": null,
   "id": "600e0b09-e03e-4b0e-8118-2a2de310b0fa",
   "metadata": {},
   "outputs": [],
   "source": [
    "df_spe3 = df3[df3[\"QuestionText\"] == \"What areas do you specialise in\"]"
   ]
  },
  {
   "cell_type": "code",
   "execution_count": null,
   "id": "2b26de22-8d95-435f-9d90-3508ead61356",
   "metadata": {},
   "outputs": [],
   "source": [
    "original_list2 = df_spe3[\"AnswerText\"].unique()\n",
    "# Set to store unique classes\n",
    "unique_classes = set()\n",
    "\n",
    "# Process each item in the list\n",
    "for item in original_list2:\n",
    "    # Split by semicolon and add each class to the set\n",
    "    classes = item.split(\";\")\n",
    "    for cls in classes:\n",
    "        unique_classes.add(cls.strip())\n",
    "\n",
    "# Convert set back to a list for the final result\n",
    "individual_classes = list(unique_classes)\n",
    "\n",
    "print(\"Number of unique classes:\", len(individual_classes))\n",
    "print(\"Unique classes:\", individual_classes)"
   ]
  },
  {
   "cell_type": "code",
   "execution_count": null,
   "id": "2081d848-d743-48d1-b144-29f1dd1e4737",
   "metadata": {},
   "outputs": [],
   "source": [
    "# Jobsroles"
   ]
  },
  {
   "cell_type": "code",
   "execution_count": null,
   "id": "9ebc21c1-396d-4e7f-9b5d-497cb2c59057",
   "metadata": {},
   "outputs": [],
   "source": [
    "job_records_df.isnull().sum()"
   ]
  },
  {
   "cell_type": "code",
   "execution_count": null,
   "id": "7a474601-7fc5-4459-894f-10a2537de5b0",
   "metadata": {},
   "outputs": [],
   "source": [
    "job1 = set(list(job_records_df[\"AnswerText\"].unique()))"
   ]
  },
  {
   "cell_type": "code",
   "execution_count": null,
   "id": "e7c8b1fe-d030-4965-a516-1b07b5ce040b",
   "metadata": {},
   "outputs": [],
   "source": [
    "job2 = set(list(job_records_df_lva[\"AnswerText\"].unique()))"
   ]
  },
  {
   "cell_type": "code",
   "execution_count": null,
   "id": "abdee17c-3411-47f5-9379-6c3b9b525741",
   "metadata": {},
   "outputs": [],
   "source": [
    "job1.union(job2)"
   ]
  },
  {
   "cell_type": "code",
   "execution_count": null,
   "id": "e59faf0c-1787-4d29-bbaa-967f5302477c",
   "metadata": {},
   "outputs": [],
   "source": [
    "df_demo_25.to_csv(\n",
    "    \"data/bva/csv/Registration_demographicdata_bva_25_raw.csv\", index=False\n",
    ")\n",
    "df_demo_24.to_csv(\n",
    "    \"data/bva/csv/Registration_demographicdata_bva_24_raw.csv\", index=False\n",
    ")\n",
    "df3.to_csv(\"data/bva/csv/Registration_demographicdata_lva_24_raw.csv\", index=False)"
   ]
  },
  {
   "cell_type": "code",
   "execution_count": null,
   "id": "16fc4c7b-97c8-4f21-8590-068a24739782",
   "metadata": {},
   "outputs": [],
   "source": [
    "# lists of QA\n",
    "list_25 = set(list(df_demo_25[\"QuestionText\"].unique()))\n",
    "list_24_bva = set(list(df_demo_24[\"QuestionText\"].unique()))\n",
    "list_24_lva = set(list(df3[\"QuestionText\"].unique()))\n",
    "to_exclude = set([\"UTMSOURCE\", \"UTMMEDIUM\", \"UTMCAMPAIGN\", \"TRACESOURCECODE\"])\n",
    "list_25 = list_25 - to_exclude\n",
    "common_qa_bva = list_25.intersection(list_24_bva)\n",
    "common_qa_lva = list_25.intersection(list_24_lva)"
   ]
  },
  {
   "cell_type": "code",
   "execution_count": null,
   "id": "d6b04381-cc38-49e9-8f7d-5c4ceb076dd4",
   "metadata": {},
   "outputs": [],
   "source": [
    "# list_24"
   ]
  },
  {
   "cell_type": "code",
   "execution_count": null,
   "id": "d237d901-2ea1-4ee8-ac1c-059a33c5cd9e",
   "metadata": {},
   "outputs": [],
   "source": [
    "list_25"
   ]
  },
  {
   "cell_type": "code",
   "execution_count": null,
   "id": "57773b9d-0d1e-4ffe-af1c-53739628f7ef",
   "metadata": {},
   "outputs": [],
   "source": [
    "# common_qa_lva"
   ]
  },
  {
   "cell_type": "markdown",
   "id": "b3f830da-6d7a-4b21-99bd-714fb6f9874f",
   "metadata": {},
   "source": [
    "# QA of users in 2024 that repeat in 2025"
   ]
  },
  {
   "cell_type": "code",
   "execution_count": null,
   "id": "53aa7138-b8a2-4f8c-8a6c-227b2a9fd007",
   "metadata": {},
   "outputs": [],
   "source": [
    "list_badgeid_24_25_bva = set(list(df_reg_24_25_bva[\"BadgeId\"].unique()))\n",
    "list_badgeid_24_25_lva = set(list(df_reg_24_25_lva[\"BadgeId\"].unique()))\n",
    "len(list_badgeid_24_25_bva), len(list_badgeid_24_25_lva)"
   ]
  },
  {
   "cell_type": "code",
   "execution_count": null,
   "id": "de24e93e-89dd-4f9d-b64b-f0c736d8ad95",
   "metadata": {},
   "outputs": [],
   "source": [
    "df_demo_24_25_bva = df_demo_24[df_demo_24[\"BadgeId\"].isin(list_badgeid_24_25_bva)]\n",
    "df_demo_24_25_lva = df3[df3[\"BadgeId\"].isin(list_badgeid_24_25_lva)]\n",
    "len(df_demo_24_25_bva), len(df_demo_24_25_lva)"
   ]
  },
  {
   "cell_type": "code",
   "execution_count": null,
   "id": "7584d88b-f15b-4454-a163-ece68bd949a0",
   "metadata": {},
   "outputs": [],
   "source": [
    "df_demo_25.to_csv(\"data/bva/csv/Registration_demographicdata_bva_25.csv\", index=False)\n",
    "df_demo_24.to_csv(\"data/bva/csv/Registration_demographicdata_bva_24.csv\", index=False)\n",
    "df3.to_csv(\"data/bva/csv/Registration_demographicdata_lva_24.csv\", index=False)\n",
    "df_demo_24_25_bva.to_csv(\n",
    "    \"data/bva/csv/Registration_demographicdata_bva_24_25.csv\", index=False\n",
    ")\n",
    "df_demo_24_25_lva.to_csv(\n",
    "    \"data/bva/csv/Registration_demographicdata_lva_24_25.csv\", index=False\n",
    ")"
   ]
  },
  {
   "cell_type": "code",
   "execution_count": null,
   "id": "07413cbe-a50f-42b8-ab10-640030857eb2",
   "metadata": {},
   "outputs": [],
   "source": [
    "len(df_demo_25[\"showref\"].unique())"
   ]
  },
  {
   "cell_type": "code",
   "execution_count": null,
   "id": "221e4869-b53f-4df3-9455-d28276c93dba",
   "metadata": {},
   "outputs": [],
   "source": [
    "len(df_demo_25[\"BadgeId\"].unique())"
   ]
  },
  {
   "cell_type": "code",
   "execution_count": null,
   "id": "6663b8cc-0023-43ad-a7be-6e7de4746233",
   "metadata": {},
   "outputs": [],
   "source": [
    "# List of Badges that we have registred in this year\n",
    "demo_badge_id_25 = list(df_demo_25[\"BadgeId\"].unique())\n",
    "demo_badge_id_24_bva = list(df_demo_24[\"BadgeId\"].unique())\n",
    "demo_badge_id_24_lva = list(df3[\"BadgeId\"].unique())"
   ]
  },
  {
   "cell_type": "code",
   "execution_count": null,
   "id": "ae477a99-1303-494e-8fce-463b31fc1fc2",
   "metadata": {},
   "outputs": [],
   "source": [
    "demo_badge_id_24_bva[0]"
   ]
  },
  {
   "cell_type": "markdown",
   "id": "64028470-904c-43d5-a340-42fc35ea6814",
   "metadata": {},
   "source": [
    "# Registration data which have Demo Data this year , for Past year we are only interested in Demo data and reg data for Visitors in 2025 that came in 2024 to BVA or LVA"
   ]
  },
  {
   "cell_type": "code",
   "execution_count": null,
   "id": "b9379b68-a952-4635-a3ce-c9cf35067f03",
   "metadata": {},
   "outputs": [],
   "source": [
    "df_reg_25_wdemo_data = df_reg_25[df_reg_25[\"BadgeId\"].isin(demo_badge_id_25)]\n",
    "df_reg_24_wdemo_data_bva = df_reg_24_25_bva[\n",
    "    df_reg_24_25_bva[\"BadgeId\"].isin(demo_badge_id_24_bva)\n",
    "]\n",
    "df_reg_24_wdemo_data_lva = df_reg_24_25_lva[\n",
    "    df_reg_24_25_lva[\"BadgeId\"].isin(demo_badge_id_24_lva)\n",
    "]\n",
    "len(df_reg_25_wdemo_data), len(df_reg_24_wdemo_data_bva), len(df_reg_24_wdemo_data_lva)"
   ]
  },
  {
   "cell_type": "code",
   "execution_count": null,
   "id": "679d3237-d42a-4f35-ae92-1b222424e097",
   "metadata": {},
   "outputs": [],
   "source": [
    "def concatenate_qa_registration_data(df_registration, list_badge_id_events):\n",
    "    \"\"\"\n",
    "    Concatenate Registration Values of a Particpant\"\n",
    "    Args:\n",
    "        df_registration : Pandas Dataframe with values of Participants\n",
    "        list_badge_id_events : List with all BadgeId from which we have Geographic Data. Answer to the questionarie\n",
    "    \"\"\"\n",
    "\n",
    "    def create_string_from_dict(data):\n",
    "        keys_to_exclude = [\"ShowRef\", \"BadgeId\"]\n",
    "        result = []\n",
    "\n",
    "        for key, value in data.items():\n",
    "            if key not in keys_to_exclude:\n",
    "                if value is not None:\n",
    "                    result.append(f\"{key}: {value}\")\n",
    "                else:\n",
    "                    result.append(f\"{key}: no_data\")\n",
    "\n",
    "        return \", \".join(result)\n",
    "\n",
    "    reg_data_list = []\n",
    "    for badge_ID, i in zip(list_badge_id_events, range(len(list_badge_id_events))):\n",
    "        df = df_registration[df_registration[\"BadgeId\"] == badge_ID]\n",
    "        df_d = json.loads(df.to_json(orient=\"records\"))\n",
    "        reg_data = {}\n",
    "        for row in df_d:\n",
    "            ID = \"_\".join([row.get(\"ShowRef\"), row.get(\"BadgeId\")])\n",
    "            reg_data[ID] = create_string_from_dict(row)\n",
    "        if len(reg_data.keys()) > 0:\n",
    "            reg_data_list.append(reg_data)\n",
    "\n",
    "    return reg_data_list"
   ]
  },
  {
   "cell_type": "code",
   "execution_count": null,
   "id": "db1e9e97-18a4-4019-8e59-6a3a30f62a66",
   "metadata": {},
   "outputs": [],
   "source": [
    "reg_data_list_this_year = concatenate_qa_registration_data(\n",
    "    df_reg_25_valid_columns, demo_badge_id_25\n",
    ")\n",
    "reg_data_list_past_year_bva = concatenate_qa_registration_data(\n",
    "    df_reg_24_25_bva_valid_columns, demo_badge_id_24_bva\n",
    ")\n",
    "reg_data_list_past_year_lva = concatenate_qa_registration_data(\n",
    "    df_reg_24_25_lva_valid_columns, demo_badge_id_24_lva\n",
    ")"
   ]
  },
  {
   "cell_type": "code",
   "execution_count": null,
   "id": "501e0538-46b0-4da2-8021-bf0fda8b0b5a",
   "metadata": {},
   "outputs": [],
   "source": [
    "len(reg_data_list_this_year), len(reg_data_list_past_year_bva), len(\n",
    "    reg_data_list_past_year_lva\n",
    ")"
   ]
  },
  {
   "cell_type": "code",
   "execution_count": null,
   "id": "46ca2aef-75d5-4954-bb02-5201a1444024",
   "metadata": {},
   "outputs": [],
   "source": [
    "# Control Numbers\n",
    "len(reg_data_list_this_year), len(demo_badge_id_25), len(\n",
    "    reg_data_list_past_year_bva\n",
    "), len(demo_badge_id_24_bva)"
   ]
  },
  {
   "cell_type": "code",
   "execution_count": null,
   "id": "e5844463-59d6-47ab-8751-80b4f1e59666",
   "metadata": {},
   "outputs": [],
   "source": [
    "reg_data_list_this_year[100], reg_data_list_past_year_bva[\n",
    "    100\n",
    "], reg_data_list_past_year_lva[100]"
   ]
  },
  {
   "cell_type": "code",
   "execution_count": null,
   "id": "2ea08654-a209-44a7-87b5-dff17ec80f72",
   "metadata": {},
   "outputs": [],
   "source": [
    "# save Registration Data past and this year\n",
    "with open(\"data/bva/output/dva_registration_data_this_year.json\", \"w\") as f:\n",
    "    json.dump(reg_data_list_this_year, f, indent=4)\n",
    "with open(\"data/bva/output/dva_registration_data_past_year.json\", \"w\") as f:\n",
    "    json.dump(reg_data_list_past_year_bva, f, indent=4)\n",
    "with open(\"data/bva/output/lva_registration_data_past_year.json\", \"w\") as f:\n",
    "    json.dump(reg_data_list_past_year_lva, f, indent=4)"
   ]
  },
  {
   "cell_type": "markdown",
   "id": "742edaab-9995-4766-8798-ce9bba008073",
   "metadata": {},
   "source": [
    "# Choose which one Apply (Visitor with registration data and Demo Data)"
   ]
  },
  {
   "cell_type": "code",
   "execution_count": null,
   "id": "92297f85-c114-4732-894d-07d39b8983f2",
   "metadata": {},
   "outputs": [],
   "source": [
    "df_reg_25_wdemo_data[\"BadgeType\"].unique()  # Choose which one Apply"
   ]
  },
  {
   "cell_type": "code",
   "execution_count": null,
   "id": "818e5de3-da8a-4644-b57e-d6b46421c70e",
   "metadata": {},
   "outputs": [],
   "source": [
    "df_reg_24_wdemo_data_bva[\"BadgeType\"].unique()"
   ]
  },
  {
   "cell_type": "code",
   "execution_count": null,
   "id": "a9d77458-4de1-4269-ad89-4619e2963b70",
   "metadata": {},
   "outputs": [],
   "source": [
    "df_reg_24_wdemo_data_lva[\"BadgeType\"].unique()"
   ]
  },
  {
   "cell_type": "code",
   "execution_count": null,
   "id": "b802d5e8-a294-4206-98de-8ff1d28b86ee",
   "metadata": {},
   "outputs": [],
   "source": [
    "df_reg_25_wdemo_data.to_csv(\n",
    "    \"data/bva/output/Registration_data_with_demographicdata_bva_this.csv\", index=False\n",
    ")\n",
    "df_reg_24_wdemo_data_bva.to_csv(\n",
    "    \"data/bva/output/Registration_data_with_demographicdata_bva_last.csv\", index=False\n",
    ")\n",
    "df_reg_24_wdemo_data_lva.to_csv(\n",
    "    \"data/bva/output/Registration_data_with_demographicdata_lva_last.csv\", index=False\n",
    ")"
   ]
  },
  {
   "cell_type": "markdown",
   "id": "fc5af41c-895b-455a-b07a-77c2bf336a79",
   "metadata": {},
   "source": [
    "# Concatenate Q&A Demografic Data"
   ]
  },
  {
   "cell_type": "code",
   "execution_count": null,
   "id": "dab4abc2-88fd-419e-b1bf-f3cec9439b64",
   "metadata": {},
   "outputs": [],
   "source": [
    "# THIS BVA\n",
    "{\n",
    "    \"Are you a\",\n",
    "    \"Are you a BVA Member\",\n",
    "    \"Are you a distributor to the profession\",\n",
    "    \"Are you interested in exhibiting at the event\",\n",
    "    \"Do you make purchases for your practice/organisation\",\n",
    "    \"Free Product\",\n",
    "    \"How do you plan to travel to the event\",\n",
    "    \"How many nights do you intend to stay at a hotel for when attending this event\",\n",
    "    \"I agree this event is aimed at registered veterinary professionals and by completing this registration I am agreeing that I am a registered veterinary professional If you arent a veterinary professional please purchase a commercial pass\",\n",
    "    \"I have read and accept the Event Terms and Conditions\",\n",
    "    \"I have read and accept the Privacy Policy\",\n",
    "    \"If you are happy for your name and email address to be shared with such third parties for marketing purposes please tick here\",\n",
    "    \"If you have received an education bursary your ticket can be cancelled by the 30th April if you do not cancel your pass and dont attend BVA Live you will be liable to pay a £99VAT non-attendance fee\",\n",
    "    \"If you would like to receive information from us about third party products events and services please tick here\",\n",
    "    \"Job Role\",\n",
    "    \"Membership code\",\n",
    "    \"Membership-checkboxes\",\n",
    "    \"Organisation Type\",\n",
    "    \"Referrer Name\",\n",
    "    \"What can we do to make this event space more comfortable for you\",\n",
    "    \"What type does your practice specialise in\",\n",
    "    \"What veterinary school did you attend\",\n",
    "    \"Which days will you be attending\",\n",
    "}\n",
    "# PAST BVA\n",
    "\n",
    "{\n",
    "    \"Are you a\",\n",
    "    \"Are you a distributor to the profession\",\n",
    "    \"Are you an employee of the exhibiting company\",\n",
    "    \"Are you interested in exhibiting at the event\",\n",
    "    \"Do you have an education bursary code\",\n",
    "    \"Do you have any dietary requirements\",\n",
    "    \"Have you attended a Vet Show previously\",\n",
    "    \"How did you hear about us\",\n",
    "    \"How do you plan to travel to the event\",\n",
    "    \"How many nights do you intend to stay at a hotel for when attending this event\",\n",
    "    \"I agree this event is aimed at registered veterinary professionals and by completing this registration I am agreeing that I am a registered veterinary professional If you arent a veterinary professional please purchase a commercial pass\",\n",
    "    \"I have read and accept the Event Terms and Conditions\",\n",
    "    \"I have read and accept the Privacy Policy\",\n",
    "    \"If you are happy for your name and email address to be shared with such third parties for marketing purposes please tick here\",\n",
    "    \"If you have received an education bursary your ticket can be cancelled by the 30th April if you do not cancel your pass and dont attend BVA Live you will be liable to pay a £99VAT non-attendance fee\",\n",
    "    \"If you would like to receive information from us about third party products events and services please tick here\",\n",
    "    \"Job Role\",\n",
    "    \"Membership code\",\n",
    "    \"Organisation Type\",\n",
    "    \"Please enter you reference code here\",\n",
    "    \"Referrer Name\",\n",
    "    \"What areas do you specialise in\",\n",
    "    \"What can we do to make this event space more comfortable for you\",\n",
    "    \"What is your RCVS Number\",\n",
    "    \"What veterinary school did you attend\",\n",
    "    \"What year did you graduate\",\n",
    "}\n",
    "\n",
    "# PAST LVA\n",
    "{\n",
    "    \"Are you a\",\n",
    "    \"Are you a distributor to the profession\",\n",
    "    \"Are you interested in exhibiting at the event\",\n",
    "    \"Do you have any dietary requirements\",\n",
    "    \"Do you make purchases for your practice/organisation\",\n",
    "    \"Have you attended another Vet Show\",\n",
    "    \"How did you hear about the show\",\n",
    "    \"How do you plan to travel to the event\",\n",
    "    \"How many nights do you intend to stay at a hotel for when attending this event\",\n",
    "    \"I agree this event is aimed at registered veterinary professionals and by completing this registration I am agreeing that I am a registered veterinary professional\",\n",
    "    \"I have read and accept the Event Terms and Conditions\",\n",
    "    \"I have read and accept the Privacy Policy\",\n",
    "    \"If you are a BEVA Member what is your number\",\n",
    "    \"If you are a BVA Member what is your number\",\n",
    "    \"If you are happy for your name and email address to be shared with such third parties for marketing purposes please tick here\",\n",
    "    \"If you would like to receive information from us about third party products events and services please tick here\",\n",
    "    \"Job Role\",\n",
    "    \"Organisation Type\",\n",
    "    \"TRACESOURCECODE\",\n",
    "    \"UTMCAMPAIGN\",\n",
    "    \"UTMMEDIUM\",\n",
    "    \"UTMSOURCE\",\n",
    "    \"What areas do you specialise in\",\n",
    "    \"What can we do to make this event space more comfortable for you\",\n",
    "    \"What veterinary school did you attend\",\n",
    "    \"What year did you graduate\",\n",
    "    \"Which days will you be attending\",\n",
    "    \"Your membership number\",\n",
    "}"
   ]
  },
  {
   "cell_type": "code",
   "execution_count": null,
   "id": "c3ae9101-e6fc-4a91-a833-14840452655f",
   "metadata": {},
   "outputs": [],
   "source": [
    "list_keep_this = [\n",
    "    \"What type does your practice specialise in\",\n",
    "    \"Organisation Type\",\n",
    "    \"Job Role\",\n",
    "]\n",
    "list_keep_past = [\"What areas do you specialise in\", \"Organisation Type\", \"Job Role\"]"
   ]
  },
  {
   "cell_type": "code",
   "execution_count": null,
   "id": "db5443e3-0515-4b4c-aeb5-e07d95ef0858",
   "metadata": {},
   "outputs": [],
   "source": [
    "new_columns_this = [x.lower().replace(\" \", \"_\") for x in list_keep_this]\n",
    "new_columns_last = [x.lower().replace(\" \", \"_\") for x in list_keep_past]"
   ]
  },
  {
   "cell_type": "code",
   "execution_count": null,
   "id": "3c89eba6-2c89-4a04-a275-dd22c30fc350",
   "metadata": {},
   "outputs": [],
   "source": [
    "df_demo_25[\"AnswerText_backup\"] = df_demo_25[\"AnswerText\"].astype(str)\n",
    "df_demo_24[\"AnswerText_backup\"] = df_demo_24[\"AnswerText\"].astype(str)\n",
    "df3[\"AnswerText_backup\"] = df3[\"AnswerText\"].astype(str)"
   ]
  },
  {
   "cell_type": "code",
   "execution_count": null,
   "id": "cd5c7de3-a122-440d-b3e8-2383642f519e",
   "metadata": {},
   "outputs": [],
   "source": [
    "org_type = df_demo_25[df_demo_25[\"QuestionText\"] == \"Organisation Type\"]"
   ]
  },
  {
   "cell_type": "code",
   "execution_count": null,
   "id": "da72a051-0a74-4e5e-aed3-39cfdcbb72c5",
   "metadata": {},
   "outputs": [],
   "source": [
    "org_type[\"AnswerText\"].unique()"
   ]
  },
  {
   "cell_type": "code",
   "execution_count": null,
   "id": "b67616f1-bda1-4cf5-b847-2f183345eb5b",
   "metadata": {},
   "outputs": [],
   "source": [
    "def concatenate_qa_demografic_data_pa(df_demografic, list_badge_id_events, list_keep):\n",
    "    \"\"\"\n",
    "    Concatenate Questions and Answers of a Participant\n",
    "    Args:\n",
    "        df_demografic : Pandas Dataframe with values of Participants\n",
    "        list_badge_id_events : List with all BadgeId from which we have Geographic Data. Answer to the questionnaire\n",
    "        list_keep : List of questions that should be keept\n",
    "    \"\"\"\n",
    "    demo_data = []\n",
    "\n",
    "    for i, badge_ID in enumerate(list_badge_id_events):\n",
    "        df = df_demografic[df_demografic[\"BadgeId\"] == badge_ID]\n",
    "        df_d = json.loads(df.to_json(orient=\"records\"))\n",
    "        qa = {badge_ID: {}}\n",
    "        for row in df_d:\n",
    "\n",
    "            question = row.get(\"QuestionText\")\n",
    "            answer = row.get(\"AnswerText\")\n",
    "\n",
    "            if not question or not answer:\n",
    "                logging.warning(\n",
    "                    f\"Issue with records ID {badge_ID} NO ANSWER/QUESTION, row {i}, length dataframe: {len(df)}\"\n",
    "                )\n",
    "                continue\n",
    "            if question in list_keep:\n",
    "                qq = question.lower().replace(\" \", \"_\")\n",
    "                qa[badge_ID][qq] = answer\n",
    "        if len(qa[badge_ID].keys()) > 0:\n",
    "            demo_data.append(qa)\n",
    "        else:\n",
    "            logging.warning(f\"No demo data for {badge_ID}\")\n",
    "    return demo_data"
   ]
  },
  {
   "cell_type": "code",
   "execution_count": null,
   "id": "4c8f6799-3892-45ad-83a5-d0976cb8bcdb",
   "metadata": {},
   "outputs": [],
   "source": [
    "# demo_badge_id_25"
   ]
  },
  {
   "cell_type": "code",
   "execution_count": null,
   "id": "e3230ce3-2864-4c41-93c1-204cb278e7b5",
   "metadata": {
    "scrolled": true
   },
   "outputs": [],
   "source": [
    "demo_data_this = concatenate_qa_demografic_data_pa(\n",
    "    df_demo_25, demo_badge_id_25, list_keep_this\n",
    ")"
   ]
  },
  {
   "cell_type": "code",
   "execution_count": null,
   "id": "644d7596-2ea4-4dcd-9f95-809c7df19d6a",
   "metadata": {
    "scrolled": true
   },
   "outputs": [],
   "source": [
    "demo_data_last_bva = concatenate_qa_demografic_data_pa(\n",
    "    df_demo_24, demo_badge_id_24_bva, list_keep_past\n",
    ")"
   ]
  },
  {
   "cell_type": "code",
   "execution_count": null,
   "id": "c0ceff67-1480-48da-a34a-ae2ccf8484ea",
   "metadata": {
    "scrolled": true
   },
   "outputs": [],
   "source": [
    "demo_data_last_lva = concatenate_qa_demografic_data_pa(\n",
    "    df3, demo_badge_id_24_lva, list_keep_past\n",
    ")"
   ]
  },
  {
   "cell_type": "code",
   "execution_count": null,
   "id": "cbb4bf20-37a2-46aa-b2fa-f6c2f1652c39",
   "metadata": {},
   "outputs": [],
   "source": [
    "len(demo_data_this), len(demo_data_last_bva), len(\n",
    "    demo_data_last_lva\n",
    ")  # 22042025 (1549, 1668, 5411)"
   ]
  },
  {
   "cell_type": "code",
   "execution_count": null,
   "id": "34f1ba32-8af4-45e7-b91a-31950a351045",
   "metadata": {},
   "outputs": [],
   "source": [
    "# BDAWL25_NPL234P  106"
   ]
  },
  {
   "cell_type": "code",
   "execution_count": null,
   "id": "34664464-5ce0-46f8-a52b-036a2d94f5ac",
   "metadata": {},
   "outputs": [],
   "source": [
    "demo_data_this[50], demo_data_last_bva[60], demo_data_last_lva[100]"
   ]
  },
  {
   "cell_type": "code",
   "execution_count": null,
   "id": "27e7c838-2cba-4850-aa7b-ff28ee9d3ae6",
   "metadata": {},
   "outputs": [],
   "source": [
    "with open(\"data/bva/output/demographic_data_this.json\", \"w\") as f:\n",
    "    json.dump(demo_data_this, f, indent=4)\n",
    "with open(\"data/bva/output/demographic_data_last_bva.json\", \"w\") as f:\n",
    "    json.dump(demo_data_last_bva, f, indent=4)\n",
    "with open(\"data/bva/output/demographic_data_last_lva.json\", \"w\") as f:\n",
    "    json.dump(demo_data_last_lva, f, indent=4)"
   ]
  },
  {
   "cell_type": "markdown",
   "id": "626fa980-201a-449b-8f06-099dbed79f0e",
   "metadata": {},
   "source": [
    "# Concatenate Scans to Demografic_data"
   ]
  },
  {
   "cell_type": "code",
   "execution_count": null,
   "id": "694dd3af-3f89-4664-a341-bcca599fea65",
   "metadata": {},
   "outputs": [],
   "source": [
    "import pandas as pd\n",
    "import json\n",
    "from pandas import json_normalize"
   ]
  },
  {
   "cell_type": "code",
   "execution_count": null,
   "id": "e9af3b74-a764-478d-8bf9-d8c392cebd3d",
   "metadata": {},
   "outputs": [],
   "source": [
    "def create_col_placeholders(df, list_to_keep):\n",
    "\n",
    "    for col in list_to_keep:\n",
    "        qq = col.lower().replace(\" \", \"_\")\n",
    "        df[qq] = \"NA\"\n",
    "    return df"
   ]
  },
  {
   "cell_type": "code",
   "execution_count": null,
   "id": "64e08062-3fd9-4625-bf9a-cc9ec6b2f7b7",
   "metadata": {},
   "outputs": [],
   "source": [
    "df_reg_25_valid_columns = create_col_placeholders(\n",
    "    df_reg_25_valid_columns, list_keep_this\n",
    ")\n",
    "df_reg_24_valid_columns = create_col_placeholders(\n",
    "    df_reg_24_valid_columns, list_keep_past\n",
    ")"
   ]
  },
  {
   "cell_type": "code",
   "execution_count": null,
   "id": "4ec88b62-c797-4c80-9674-26fc79d0205f",
   "metadata": {},
   "outputs": [],
   "source": [
    "def create_democols_in_registration_data(df, demo_data, list_keep):\n",
    "    \"\"\"\n",
    "    Populate columns demo data with its values\n",
    "    \"\"\"\n",
    "    # create new columns\n",
    "    df = create_col_placeholders(df, list_keep)\n",
    "    # populate with demo data\n",
    "    for reg in demo_data:\n",
    "        badgeid = list(reg.keys())[0]\n",
    "        list_keys_this_reg = list(reg[badgeid].keys())\n",
    "        for col in list_keys_this_reg:\n",
    "            df.loc[df[\"BadgeId\"] == badgeid, col] = reg[badgeid][col]\n",
    "    return df"
   ]
  },
  {
   "cell_type": "code",
   "execution_count": null,
   "id": "370a5b6d-306a-4460-8e83-22052e5c0312",
   "metadata": {},
   "outputs": [],
   "source": [
    "df_reg_demo_this = create_democols_in_registration_data(\n",
    "    df_reg_25_valid_columns, demo_data_this, list_keep_this\n",
    ")"
   ]
  },
  {
   "cell_type": "code",
   "execution_count": null,
   "id": "c768237e-b615-46c4-a22b-47a75edc1765",
   "metadata": {},
   "outputs": [],
   "source": [
    "df_reg_demo_last_bva = create_democols_in_registration_data(\n",
    "    df_reg_24_25_bva_valid_columns, demo_data_last_bva, list_keep_past\n",
    ")"
   ]
  },
  {
   "cell_type": "code",
   "execution_count": null,
   "id": "29e671eb-4627-4c99-a9b6-224cdb4c0896",
   "metadata": {},
   "outputs": [],
   "source": [
    "df_reg_demo_last_lva = create_democols_in_registration_data(\n",
    "    df_reg_24_25_lva_valid_columns, demo_data_last_lva, list_keep_past\n",
    ")"
   ]
  },
  {
   "cell_type": "code",
   "execution_count": null,
   "id": "381dc060-d803-47d4-8936-7c1b2d4ff2b4",
   "metadata": {},
   "outputs": [],
   "source": [
    "df_reg_demo_this.Days_since_registration.unique()"
   ]
  },
  {
   "cell_type": "code",
   "execution_count": null,
   "id": "2b244242-6443-49c2-b918-b0c28b5c376b",
   "metadata": {},
   "outputs": [],
   "source": [
    "df_reg_demo_this.head()"
   ]
  },
  {
   "cell_type": "code",
   "execution_count": null,
   "id": "775c0cb8-4507-44e4-9bd5-7ed6004ee290",
   "metadata": {},
   "outputs": [],
   "source": [
    "df_reg_demo_last_bva.head(3)"
   ]
  },
  {
   "cell_type": "code",
   "execution_count": null,
   "id": "44825ded-9607-480b-9f23-c5faad063fce",
   "metadata": {},
   "outputs": [],
   "source": [
    "import re\n",
    "from difflib import SequenceMatcher\n",
    "\n",
    "\n",
    "def process_job_roles(df):\n",
    "    # Make a copy to avoid modifying the original dataframe\n",
    "    df_copy = df.copy()\n",
    "\n",
    "    # Only process rows where job_role is \"NA\"\n",
    "    mask = df_copy[\"job_role\"] == \"NA\"\n",
    "\n",
    "    # Define potential roles\n",
    "    potential_roles = [\n",
    "        \"Student\",\n",
    "        \"Other (please specify)\",\n",
    "        \"Receptionist\",\n",
    "        \"Head Nurse/Senior Nurse\",\n",
    "        \"Vet/Vet Surgeon\",\n",
    "        \"Practice Partner/Owner\",\n",
    "        \"Academic\",\n",
    "        \"Clinical or other Director\",\n",
    "        \"Assistant Vet\",\n",
    "        \"Vet/Owner\",\n",
    "        \"Vet Nurse\",\n",
    "        \"Locum Vet\",\n",
    "        \"Practice Manager\",\n",
    "        \"Locum RVN\",\n",
    "    ]\n",
    "\n",
    "    # Apply each rule in sequence\n",
    "    for idx in df_copy[mask].index:\n",
    "        job_title = str(df_copy.loc[idx, \"JobTitle\"]).lower()\n",
    "\n",
    "        # Rule 1-6: Check for specific strings in JobTitle\n",
    "        if \"surgeon\" in job_title:\n",
    "            df_copy.loc[idx, \"job_role\"] = \"Vet/Vet Surgeon\"\n",
    "        elif \"nurse\" in job_title:\n",
    "            df_copy.loc[idx, \"job_role\"] = \"Vet Nurse\"\n",
    "        elif \"rvn\" in job_title:\n",
    "            df_copy.loc[idx, \"job_role\"] = \"Vet Nurse\"\n",
    "        elif \"locum\" in job_title:\n",
    "            df_copy.loc[idx, \"job_role\"] = \"Locum Vet\"\n",
    "        elif \"student\" in job_title:\n",
    "            df_copy.loc[idx, \"job_role\"] = \"Student\"\n",
    "        elif \"assistant\" in job_title:\n",
    "            df_copy.loc[idx, \"job_role\"] = \"Assistant Vet\"\n",
    "        else:\n",
    "            # Rule 7: Use text similarity to find the best matching role\n",
    "\n",
    "            # Clean the job title: remove common words that might interfere with matching\n",
    "            cleaned_title = re.sub(r\"\\b(and|the|of|in|at|for)\\b\", \"\", job_title)\n",
    "\n",
    "            # Find the role with highest similarity score\n",
    "            best_match = None\n",
    "            best_score = 0\n",
    "\n",
    "            for role in potential_roles:\n",
    "                # Calculate similarity between job title and each potential role\n",
    "                role_lower = role.lower()\n",
    "\n",
    "                # Check for key terms in the role\n",
    "                role_terms = role_lower.split(\"/\")\n",
    "                role_terms.extend(role_lower.split())\n",
    "\n",
    "                # Calculate max similarity with any term in the role\n",
    "                max_term_score = 0\n",
    "                for term in role_terms:\n",
    "                    if len(term) > 2:  # Only consider meaningful terms\n",
    "                        if term in cleaned_title:\n",
    "                            term_score = 0.9  # High score for direct matches\n",
    "                        else:\n",
    "                            # Use sequence matcher for fuzzy matching\n",
    "                            term_score = SequenceMatcher(\n",
    "                                None, cleaned_title, term\n",
    "                            ).ratio()\n",
    "                        max_term_score = max(max_term_score, term_score)\n",
    "\n",
    "                if max_term_score > best_score:\n",
    "                    best_score = max_term_score\n",
    "                    best_match = role\n",
    "\n",
    "            # If similarity is above threshold, use the best match\n",
    "            if best_score > 0.3:  # Adjustable threshold\n",
    "                df_copy.loc[idx, \"job_role\"] = best_match\n",
    "            else:\n",
    "                # Default to \"Other\" if no good match\n",
    "                df_copy.loc[idx, \"job_role\"] = \"Other (please specify)\"\n",
    "\n",
    "    # Final rule: Replace any occurrence of \"Other\" with \"Other (please specify)\"\n",
    "    other_mask = df_copy[\"job_role\"].str.contains(\n",
    "        \"Other\", case=False, na=False\n",
    "    ) & ~df_copy[\"job_role\"].eq(\"Other (please specify)\")\n",
    "    df_copy.loc[other_mask, \"job_role\"] = \"Other (please specify)\"\n",
    "\n",
    "    return df_copy"
   ]
  },
  {
   "cell_type": "code",
   "execution_count": null,
   "id": "b7523c01-6bd1-43a8-b25c-ab612ead9fc8",
   "metadata": {},
   "outputs": [],
   "source": [
    "df_reg_demo_this[\"job_role\"].value_counts()"
   ]
  },
  {
   "cell_type": "code",
   "execution_count": null,
   "id": "0ec3020f-b6c0-4d70-8e2a-741abd2c86ca",
   "metadata": {},
   "outputs": [],
   "source": [
    "df_reg_demo_this = process_job_roles(df_reg_demo_this)\n",
    "df_reg_demo_this[\"job_role\"].value_counts()"
   ]
  },
  {
   "cell_type": "code",
   "execution_count": null,
   "id": "55389eaa-832b-4a35-bf87-ca2be77fe52b",
   "metadata": {},
   "outputs": [],
   "source": [
    "df_reg_demo_last_bva = process_job_roles(df_reg_demo_last_bva)\n",
    "df_reg_demo_last_bva[\"job_role\"].value_counts()"
   ]
  },
  {
   "cell_type": "code",
   "execution_count": null,
   "id": "119c9817-b61a-4698-a9ca-d732a9bd441f",
   "metadata": {},
   "outputs": [],
   "source": [
    "df_reg_demo_last_lva = process_job_roles(df_reg_demo_last_lva)\n",
    "df_reg_demo_last_lva[\"job_role\"].value_counts()"
   ]
  },
  {
   "cell_type": "code",
   "execution_count": null,
   "id": "1b3132fe-fcc9-43e2-88dc-10bc52c2036e",
   "metadata": {},
   "outputs": [],
   "source": [
    "df_reg_demo_this.to_csv(\"data/bva/output/df_reg_demo_this.csv\", index=False)\n",
    "df_reg_demo_last_bva.to_csv(\"data/bva/output/df_reg_demo_last_bva.csv\", index=False)\n",
    "df_reg_demo_last_lva.to_csv(\"data/bva/output/df_reg_demo_last_lva.csv\", index=False)"
   ]
  },
  {
   "cell_type": "code",
   "execution_count": null,
   "id": "eaed5ede-6d01-480c-9527-b22cfb8fde96",
   "metadata": {},
   "outputs": [],
   "source": [
    "df_reg_demo_this[\"what_type_does_your_practice_specialise_in\"].value_counts()"
   ]
  },
  {
   "cell_type": "code",
   "execution_count": null,
   "id": "330a370c-a9f5-4c70-9515-7d77e413e72d",
   "metadata": {},
   "outputs": [],
   "source": [
    "df_reg_demo_last_lva[\"what_areas_do_you_specialise_in\"].value_counts()"
   ]
  },
  {
   "cell_type": "code",
   "execution_count": null,
   "id": "fe33792a-5c37-423a-9e3a-027949916f9f",
   "metadata": {},
   "outputs": [],
   "source": [
    "df_reg_demo_last_bva[\"what_areas_do_you_specialise_in\"].value_counts()"
   ]
  },
  {
   "cell_type": "code",
   "execution_count": null,
   "id": "8ae03579-990e-4166-9877-aaae8c64d0ce",
   "metadata": {},
   "outputs": [],
   "source": [
    "practices = pd.read_csv(\"data/bva/practices_missing.csv\")\n",
    "practices.head()"
   ]
  },
  {
   "cell_type": "code",
   "execution_count": null,
   "id": "e49d2825-a5ed-4d92-8c16-0fd971915d45",
   "metadata": {},
   "outputs": [],
   "source": [
    "practices.columns"
   ]
  },
  {
   "cell_type": "code",
   "execution_count": null,
   "id": "26a92900-7aa9-484d-b6b8-777f6b0a30ef",
   "metadata": {},
   "outputs": [],
   "source": [
    "df_reg_demo_this.columns"
   ]
  },
  {
   "cell_type": "code",
   "execution_count": null,
   "id": "49237f88-ad01-4b41-b94a-fd4661324789",
   "metadata": {},
   "outputs": [],
   "source": [
    "! pip install fuzzywuzzy \n",
    " \n"
   ]
  },
  {
   "cell_type": "code",
   "execution_count": null,
   "id": "24a184cf-50da-4df5-b462-f5adc8cd8e2a",
   "metadata": {},
   "outputs": [],
   "source": [
    "import pandas as pd\n",
    "from fuzzywuzzy import process\n",
    "\n",
    "\n",
    "def fill_missing_practice_types(\n",
    "    df_reg_demo_this, practices, column=\"what_type_does_your_practice_specialise_in\"\n",
    "):\n",
    "    \"\"\"\n",
    "    Fill practice types in df_reg_demo_this that have value \"NA\" by\n",
    "    fuzzy matching company names with the practices dataframe.\n",
    "\n",
    "    Parameters:\n",
    "    -----------\n",
    "    df_reg_demo_this : pandas.DataFrame\n",
    "        Dataframe containing registration data with \"NA\" practice types\n",
    "    practices : pandas.DataFrame\n",
    "        Dataframe containing company names and their practice types\n",
    "\n",
    "    Returns:\n",
    "    --------\n",
    "    pandas.DataFrame\n",
    "        Updated dataframe with filled practice types\n",
    "    \"\"\"\n",
    "    # Create a copy of the input dataframe to avoid modifying the original\n",
    "    df = df_reg_demo_this.copy()\n",
    "\n",
    "    # Identify rows where practice types are \"NA\"\n",
    "    missing_idx = df[column] == \"NA\"\n",
    "    companies_to_match = df.loc[missing_idx, \"Company\"].tolist()\n",
    "\n",
    "    # Create a dictionary of company names from practices dataframe\n",
    "    practice_types_dict = dict(\n",
    "        zip(practices[\"Company Name\"], practices[\"Main Type of Veterinary Practice\"])\n",
    "    )\n",
    "\n",
    "    # List of all company names in practices dataframe for fuzzy matching\n",
    "    all_practice_companies = practices[\"Company Name\"].tolist()\n",
    "\n",
    "    # For each company with \"NA\" practice type, find the best match\n",
    "    for idx, company in zip(df.loc[missing_idx].index, companies_to_match):\n",
    "        # Skip if company name is missing or empty\n",
    "        if pd.isna(company) or company == \"\":\n",
    "            continue\n",
    "\n",
    "        # Find the best match using fuzzy matching\n",
    "        best_match, score = process.extractOne(company, all_practice_companies)\n",
    "\n",
    "        # Only update if match score is good enough (adjust threshold as needed)\n",
    "        if score >= 95:  # 95% match threshold, adjust as needed\n",
    "            df.loc[idx, column] = practice_types_dict[best_match]\n",
    "            print(\n",
    "                f\"Matched '{company}' to '{best_match}' with score {score}. New type: {practice_types_dict[best_match]}\"\n",
    "            )\n",
    "\n",
    "    return df\n",
    "\n",
    "\n",
    "# Example usage:\n",
    "# result_df = fill_missing_practice_types(df_reg_demo_this, practices)"
   ]
  },
  {
   "cell_type": "code",
   "execution_count": null,
   "id": "58cdfad6-4a71-4c5a-97f6-24180578b1a3",
   "metadata": {},
   "outputs": [],
   "source": [
    "df_reg_demo_this[\"what_type_does_your_practice_specialise_in\"].value_counts()"
   ]
  },
  {
   "cell_type": "code",
   "execution_count": null,
   "id": "ac53da62-c831-4c62-9540-21ae28751728",
   "metadata": {
    "scrolled": true
   },
   "outputs": [],
   "source": [
    "df_reg_demo_this_2 = fill_missing_practice_types(\n",
    "    df_reg_demo_this, practices, column=\"what_type_does_your_practice_specialise_in\"\n",
    ")"
   ]
  },
  {
   "cell_type": "code",
   "execution_count": null,
   "id": "da0974b1-c04c-4aa9-a8a2-0817e1fc065b",
   "metadata": {},
   "outputs": [],
   "source": [
    "df_reg_demo_this_2[\"what_type_does_your_practice_specialise_in\"].value_counts()"
   ]
  },
  {
   "cell_type": "code",
   "execution_count": null,
   "id": "5454f25e-cee8-49a8-9e59-ed12477d0851",
   "metadata": {},
   "outputs": [],
   "source": [
    "df_reg_demo_last_lva[\"what_areas_do_you_specialise_in\"].value_counts()"
   ]
  },
  {
   "cell_type": "code",
   "execution_count": null,
   "id": "b48bd6af-5b70-48ab-adda-26aad7a71ca2",
   "metadata": {},
   "outputs": [],
   "source": [
    "df_reg_demo_last_lva_2 = fill_missing_practice_types(\n",
    "    df_reg_demo_last_lva, practices, column=\"what_areas_do_you_specialise_in\"\n",
    ")"
   ]
  },
  {
   "cell_type": "code",
   "execution_count": null,
   "id": "9a556fd0-d44f-4a5a-af4c-bb7dd210323a",
   "metadata": {},
   "outputs": [],
   "source": [
    "df_reg_demo_last_lva_2[\"what_areas_do_you_specialise_in\"].value_counts()"
   ]
  },
  {
   "cell_type": "code",
   "execution_count": null,
   "id": "d6783d27-6f98-4d8e-a28a-587d93451c93",
   "metadata": {},
   "outputs": [],
   "source": [
    "df_reg_demo_last_bva[\"what_areas_do_you_specialise_in\"].value_counts()"
   ]
  },
  {
   "cell_type": "code",
   "execution_count": null,
   "id": "e39fefb4-b638-41c8-8755-e2ae14ace8b4",
   "metadata": {},
   "outputs": [],
   "source": [
    "df_reg_demo_last_bva_2 = fill_missing_practice_types(\n",
    "    df_reg_demo_last_bva, practices, column=\"what_areas_do_you_specialise_in\"\n",
    ")"
   ]
  },
  {
   "cell_type": "code",
   "execution_count": null,
   "id": "7db2c8ca-39d1-497c-849a-5f369dc4220c",
   "metadata": {},
   "outputs": [],
   "source": [
    "df_reg_demo_last_bva_2[\"what_areas_do_you_specialise_in\"].value_counts()"
   ]
  },
  {
   "cell_type": "code",
   "execution_count": null,
   "id": "41ea34be-d8d7-4b6d-a818-3e0848cedc94",
   "metadata": {},
   "outputs": [],
   "source": [
    "df_reg_demo_this_2.to_csv(\"data/bva/output/df_reg_demo_this.csv\", index=False)\n",
    "df_reg_demo_last_bva_2.to_csv(\"data/bva/output/df_reg_demo_last_bva.csv\", index=False)\n",
    "df_reg_demo_last_lva_2.to_csv(\"data/bva/output/df_reg_demo_last_lva.csv\", index=False)"
   ]
  },
  {
   "cell_type": "code",
   "execution_count": null,
   "id": "de0fd2cd-f9c4-416c-aed0-77b1c9deef8e",
   "metadata": {},
   "outputs": [],
   "source": [
    "len(df_reg_demo_this_2), len(df_reg_demo_last_bva_2), len(df_reg_demo_last_lva_2)"
   ]
  },
  {
   "cell_type": "code",
   "execution_count": null,
   "id": "97ff5d78-6f6c-4875-8a55-fd2c786d702e",
   "metadata": {},
   "outputs": [],
   "source": [
    "df_reg_demo_this_2.columns"
   ]
  },
  {
   "cell_type": "code",
   "execution_count": null,
   "id": "f1ddea9d-d983-47d9-aded-0fe5ac81083f",
   "metadata": {},
   "outputs": [],
   "source": [
    "len(df_reg_demo_this_2[\"BadgeId\"].unique())"
   ]
  },
  {
   "cell_type": "code",
   "execution_count": null,
   "id": "e2bb8719-3ab6-454a-a2ea-130c18de9e77",
   "metadata": {},
   "outputs": [],
   "source": [
    "df_reg_demo_this_2.isnull().sum()"
   ]
  },
  {
   "cell_type": "code",
   "execution_count": null,
   "id": "3c5d434f-ce56-48f5-9d00-398a41cf4292",
   "metadata": {},
   "outputs": [],
   "source": [
    "df_reg_demo_this_2[\"job_role\"].value_counts()"
   ]
  },
  {
   "cell_type": "code",
   "execution_count": null,
   "id": "75eab610-225e-41df-8cd2-34f73c51ab08",
   "metadata": {},
   "outputs": [],
   "source": []
  }
 ],
 "metadata": {
  "kernelspec": {
   "display_name": "Python 3 (ipykernel)",
   "language": "python",
   "name": "python3"
  },
  "language_info": {
   "codemirror_mode": {
    "name": "ipython",
    "version": 3
   },
   "file_extension": ".py",
   "mimetype": "text/x-python",
   "name": "python",
   "nbconvert_exporter": "python",
   "pygments_lexer": "ipython3",
   "version": "3.11.10"
  }
 },
 "nbformat": 4,
 "nbformat_minor": 5
}
