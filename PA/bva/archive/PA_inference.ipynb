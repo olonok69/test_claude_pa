{
 "cells": [
  {
   "cell_type": "code",
   "execution_count": null,
   "id": "6a0e6ea4-34db-4cfb-bbb3-444e7903dd2c",
   "metadata": {},
   "outputs": [],
   "source": [
    "from langchain_core.prompts import ChatPromptTemplate, PromptTemplate\n",
    "import json\n",
    "import os\n",
    "\n",
    "from datetime import datetime\n",
    "import random\n",
    "\n",
    "from langchain_openai import ChatOpenAI, AzureChatOpenAI, AzureOpenAI\n",
    "from azure.ai.inference import ChatCompletionsClient\n",
    "from azure.core.credentials import AzureKeyCredential\n",
    "from dotenv import dotenv_values\n",
    "import pandas as pd"
   ]
  },
  {
   "cell_type": "code",
   "execution_count": null,
   "id": "f78c9d28-aedd-42ed-ac7c-50591dc1d2ea",
   "metadata": {},
   "outputs": [],
   "source": [
    "import os\n",
    "\n",
    "os.getcwd()"
   ]
  },
  {
   "cell_type": "code",
   "execution_count": null,
   "id": "369be397-53c8-4246-b548-8a92a7563c67",
   "metadata": {},
   "outputs": [],
   "source": [
    "config = dotenv_values(\".env\")"
   ]
  },
  {
   "cell_type": "code",
   "execution_count": null,
   "id": "bf5ee982-9b23-4d0f-9c36-fe2016ddeed8",
   "metadata": {},
   "outputs": [],
   "source": [
    "llm = ChatOpenAI(\n",
    "    model=\"gpt-4o-mini\",\n",
    "    openai_api_key=config[\"OPENAI_API_KEY\"],\n",
    "    temperature=0.5,\n",
    "    top_p=0.9,\n",
    ")"
   ]
  },
  {
   "cell_type": "code",
   "execution_count": null,
   "id": "879738a2-dcd6-40a5-8857-ef215f57da9a",
   "metadata": {},
   "outputs": [],
   "source": [
    "with open(\"data/bva/bva_pa_recomendations.json\", \"r\") as f:\n",
    "    data = json.load(f)"
   ]
  },
  {
   "cell_type": "code",
   "execution_count": null,
   "id": "60f3dda9-905d-41fb-9571-5e6cd12758f9",
   "metadata": {},
   "outputs": [],
   "source": [
    "list_keys = list(data.keys())"
   ]
  },
  {
   "cell_type": "code",
   "execution_count": null,
   "id": "b310ff6c-adae-4ece-8688-7588d8092d96",
   "metadata": {},
   "outputs": [],
   "source": [
    "list_keys[0]"
   ]
  },
  {
   "cell_type": "code",
   "execution_count": null,
   "id": "00ca00ac-11dd-4358-9173-dd8fddd42088",
   "metadata": {},
   "outputs": [],
   "source": [
    "session_event = data.get(\"KV23NY5\")[0]"
   ]
  },
  {
   "cell_type": "code",
   "execution_count": null,
   "id": "6e20e519-8200-4f91-a299-2cc36822f6e2",
   "metadata": {},
   "outputs": [],
   "source": [
    "list_of_keys = list(session_event.keys())"
   ]
  },
  {
   "cell_type": "code",
   "execution_count": null,
   "id": "94501c98-8d71-4958-8e46-80ec3b938e12",
   "metadata": {},
   "outputs": [],
   "source": [
    "system_prompt = f\"\"\"\n",
    "You have a list of recomended session to assist to a visitor to a global Veterinary/ PetCare Event. Here the list of recommended sessions {{session_event}}\n",
    "each event come with the following attributte : {list_of_keys}\n",
    "create a list of max 3 events per day having into consideration what session better suit to the profession of the visitor\n",
    "retornar el restultado en una lista con el mismo formato\n",
    "\"\"\""
   ]
  },
  {
   "cell_type": "code",
   "execution_count": null,
   "id": "2303430b-f610-45e7-8f60-ec99e8f5491c",
   "metadata": {},
   "outputs": [],
   "source": [
    "prompt = PromptTemplate(\n",
    "    input_variables=[\"profession\", \"session_event\"],\n",
    "    template=system_prompt\n",
    "    + \"\"\"Recomend from this list of session {session_event} a shortest list for a user with profession: {profession} \"\"\",\n",
    ")"
   ]
  },
  {
   "cell_type": "code",
   "execution_count": null,
   "id": "dc5bc765-f542-4c9a-92de-91fff462fa1d",
   "metadata": {},
   "outputs": [],
   "source": [
    "chain = prompt | llm\n",
    "print(f\"length of profile: {len(prompt.template)}\")"
   ]
  },
  {
   "cell_type": "code",
   "execution_count": null,
   "id": "be6d8c55-3ae4-4d85-b0fe-0696dd8cc12c",
   "metadata": {},
   "outputs": [],
   "source": [
    "ai_msg = chain.invoke({\"profession\": \"animal surgeon\", \"session_event\": session_event})"
   ]
  },
  {
   "cell_type": "code",
   "execution_count": null,
   "id": "69580558-cc83-4091-bd42-471c682d50fc",
   "metadata": {},
   "outputs": [],
   "source": [
    "ai_msg.content"
   ]
  },
  {
   "cell_type": "code",
   "execution_count": null,
   "id": "0b4262cf-0c25-4ea2-8ca0-4fdbb73a90f8",
   "metadata": {},
   "outputs": [],
   "source": [
    "with open(\"data/bva/output/streams.json\", \"r\") as json_file:\n",
    "    streams = json.load(json_file)"
   ]
  },
  {
   "cell_type": "code",
   "execution_count": null,
   "id": "209fe8ca-b09c-44d4-89b8-26100409839d",
   "metadata": {},
   "outputs": [],
   "source": [
    "import pandas as pd\n",
    "\n",
    "\n",
    "def dictionary_to_dataframe(input_dict):\n",
    "    \"\"\"\n",
    "    Converts a dictionary with key-value pairs into a Pandas DataFrame\n",
    "    with columns named 'stream' and 'description'.\n",
    "\n",
    "    Args:\n",
    "      input_dict (dict): The input dictionary.\n",
    "\n",
    "    Returns:\n",
    "      pandas.DataFrame: A DataFrame with two columns: 'stream' (keys)\n",
    "                         and 'description' (values).\n",
    "    \"\"\"\n",
    "    df = pd.DataFrame(list(input_dict.items()), columns=[\"stream\", \"description\"])\n",
    "    return df"
   ]
  },
  {
   "cell_type": "code",
   "execution_count": null,
   "id": "7ee19d77-1b7e-42a4-a367-2f3c926a49b9",
   "metadata": {},
   "outputs": [],
   "source": [
    "df_streams = dictionary_to_dataframe(streams)"
   ]
  },
  {
   "cell_type": "code",
   "execution_count": null,
   "id": "681f2e25-6cc0-413f-a2b4-478deb66a228",
   "metadata": {},
   "outputs": [],
   "source": [
    "df_streams.to_csv(\"data/bva/output/streams.csv\", index=False)"
   ]
  },
  {
   "cell_type": "code",
   "execution_count": null,
   "id": "ba872ba5-81af-4c46-b2cd-ac343745bb2b",
   "metadata": {},
   "outputs": [],
   "source": []
  }
 ],
 "metadata": {
  "kernelspec": {
   "display_name": "Python (csm)",
   "language": "python",
   "name": "csm"
  },
  "language_info": {
   "codemirror_mode": {
    "name": "ipython",
    "version": 3
   },
   "file_extension": ".py",
   "mimetype": "text/x-python",
   "name": "python",
   "nbconvert_exporter": "python",
   "pygments_lexer": "ipython3",
   "version": "3.11.10"
  }
 },
 "nbformat": 4,
 "nbformat_minor": 5
}
