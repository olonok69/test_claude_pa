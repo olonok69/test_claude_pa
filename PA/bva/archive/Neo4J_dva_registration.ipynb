{
 "cells": [
  {
   "cell_type": "markdown",
   "id": "02f1bdc1-e577-41cd-a3f4-7974c02df30f",
   "metadata": {},
   "source": [
    "# Add to Neo4J Visitors BVA this year, BVA and LVA last year"
   ]
  },
  {
   "cell_type": "code",
   "execution_count": null,
   "id": "1f711245-bf4a-4563-91f7-683f8f0e3da7",
   "metadata": {},
   "outputs": [],
   "source": [
    "from neo4j import GraphDatabase\n",
    "import csv\n",
    "import pandas as pd\n",
    "\n",
    "\n",
    "def load_csv_to_neo4j(\n",
    "    uri,\n",
    "    user,\n",
    "    password,\n",
    "    csv_file_path,\n",
    "    node_label,\n",
    "    properties_map,\n",
    "    relationship_label=None,\n",
    "    relationship_source_property=None,\n",
    "    relationship_target_property=None,\n",
    "):\n",
    "    \"\"\"\n",
    "    Loads data from a CSV file into Neo4j.\n",
    "\n",
    "    Args:\n",
    "        uri (str): Neo4j URI (e.g., \"bolt://localhost:7687\").\n",
    "        user (str): Neo4j username.\n",
    "        password (str): Neo4j password.\n",
    "        csv_file_path (str): Path to the CSV file.\n",
    "        node_label (str): Label to apply to the nodes.\n",
    "        properties_map (dict): A dictionary mapping CSV column names to Neo4j property names.\n",
    "        relationship_label (str, optional): Label to apply to relationships. Defaults to None.\n",
    "        relationship_source_property (str, optional): CSV column name for the source node ID. Defaults to None.\n",
    "        relationship_target_property (str, optional): CSV column name for the target node ID. Defaults to None.\n",
    "    \"\"\"\n",
    "\n",
    "    driver = GraphDatabase.driver(uri, auth=(user, password))\n",
    "\n",
    "    def create_nodes(tx, csv_file_path, node_label, properties_map):\n",
    "        with open(csv_file_path, \"r\", encoding=\"utf-8\") as csvfile:\n",
    "            reader = csv.DictReader(csvfile)\n",
    "            for row in reader:\n",
    "                properties = {\n",
    "                    properties_map[k]: row[k] for k in properties_map if row[k]\n",
    "                }  # Added check for empty values\n",
    "                query = f\"CREATE (n:{node_label} $properties)\"\n",
    "                tx.run(query, properties=properties)\n",
    "\n",
    "    def create_relationships(\n",
    "        tx,\n",
    "        csv_file_path,\n",
    "        relationship_label,\n",
    "        source_property,\n",
    "        target_property,\n",
    "        properties_map,\n",
    "    ):\n",
    "        with open(csv_file_path, \"r\", encoding=\"utf-8\") as csvfile:\n",
    "            reader = csv.DictReader(csvfile)\n",
    "            for row in reader:\n",
    "                source_id = row.get(source_property)\n",
    "                target_id = row.get(target_property)\n",
    "                if (\n",
    "                    source_id and target_id\n",
    "                ):  # check to make sure both source and target exist\n",
    "                    source_prop_neo4j = properties_map.get(source_property)\n",
    "                    target_prop_neo4j = properties_map.get(target_property)\n",
    "\n",
    "                    query = f\"\"\"\n",
    "                    MATCH (a), (b)\n",
    "                    WHERE a.{source_prop_neo4j} = $source_id AND b.{target_prop_neo4j} = $target_id\n",
    "                    CREATE (a)-[r:{relationship_label}]->(b)\n",
    "                    \"\"\"\n",
    "                    tx.run(query, source_id=source_id, target_id=target_id)\n",
    "\n",
    "    with driver.session() as session:\n",
    "        session.execute_write(create_nodes, csv_file_path, node_label, properties_map)\n",
    "        if (\n",
    "            relationship_label\n",
    "            and relationship_source_property\n",
    "            and relationship_target_property\n",
    "        ):\n",
    "            session.execute_write(\n",
    "                create_relationships,\n",
    "                csv_file_path,\n",
    "                relationship_label,\n",
    "                relationship_source_property,\n",
    "                relationship_target_property,\n",
    "                properties_map,\n",
    "            )\n",
    "\n",
    "    driver.close()"
   ]
  },
  {
   "cell_type": "code",
   "execution_count": null,
   "id": "5c3f7764-0263-43c1-a635-2dd683401aa6",
   "metadata": {},
   "outputs": [],
   "source": [
    "# Example usage:\n",
    "uri = \"bolt://127.0.0.1:7687\"\n",
    "user = \"neo4j\"\n",
    "password = \"\"  # Replace with your password."
   ]
  },
  {
   "cell_type": "code",
   "execution_count": null,
   "id": "f762d21e-405b-4061-881b-f6707e5206a7",
   "metadata": {},
   "outputs": [],
   "source": [
    "csv_file_path = (\n",
    "    \"data/bva/output/df_reg_demo_this.csv\"  # Replace with your CSV file path.\n",
    ")"
   ]
  },
  {
   "cell_type": "code",
   "execution_count": null,
   "id": "a365055a-7537-4dd8-9a4e-01938764a166",
   "metadata": {},
   "outputs": [],
   "source": [
    "data = pd.read_csv(csv_file_path)\n",
    "data.head()"
   ]
  },
  {
   "cell_type": "code",
   "execution_count": null,
   "id": "680d4bdb-c7ae-40df-b9ff-5bed1705d694",
   "metadata": {},
   "outputs": [],
   "source": [
    "len(data.columns)"
   ]
  },
  {
   "cell_type": "code",
   "execution_count": null,
   "id": "def0971f-3f86-450e-a7da-d95c978ce02f",
   "metadata": {},
   "outputs": [],
   "source": [
    "{x: x for x in data.columns}"
   ]
  },
  {
   "cell_type": "markdown",
   "id": "693a94ed-2be2-4b20-910d-d96608e5f9e1",
   "metadata": {},
   "source": [
    "# Visitors this year"
   ]
  },
  {
   "cell_type": "code",
   "execution_count": null,
   "id": "3f4d4282-872b-40cc-92d0-1983ed760b37",
   "metadata": {},
   "outputs": [],
   "source": [
    "csv_file_path = (\n",
    "    \"data/bva/output/df_reg_demo_this.csv\"  # Replace with your CSV file path.\n",
    ")\n",
    "node_label = \"Visitor_this_year\"\n",
    "properties_map = {x: x for x in data.columns}\n",
    "\n",
    "# Example with relationships (if applicable):\n",
    "relationship_label = \"KNOWS\"\n",
    "relationship_source_property = \"source_id\"\n",
    "relationship_target_property = \"target_id\"\n",
    "\n",
    "# Example CSV data (data.csv):\n",
    "# id,name,age,source_id,target_id\n",
    "# 1,Alice,30,,\n",
    "# 2,Bob,25,1,3\n",
    "# 3,Charlie,35,2,1\n",
    "# 4,David,40,,\n",
    "\n",
    "# Example without relationships:\n",
    "load_csv_to_neo4j(uri, user, password, csv_file_path, node_label, properties_map)\n",
    "\n",
    "# Example with relationships:\n",
    "# load_csv_to_neo4j(uri, user, password, csv_file_path, node_label, properties_map, relationship_label, relationship_source_property, relationship_target_property)"
   ]
  },
  {
   "cell_type": "markdown",
   "id": "f955bd80-329a-4572-a0ac-cfc0f7ef67be",
   "metadata": {},
   "source": [
    "# Visitors Past Year BVA"
   ]
  },
  {
   "cell_type": "code",
   "execution_count": null,
   "id": "2a7a218f-121f-43ac-8aa3-0fd1f3de6539",
   "metadata": {},
   "outputs": [],
   "source": [
    "csv_file_path = (\n",
    "    \"data/bva/output/df_reg_demo_last_bva.csv\"  # Replace with your CSV file path.\n",
    ")\n",
    "data = pd.read_csv(csv_file_path)\n",
    "\n",
    "node_label = \"Visitor_last_year_bva\"\n",
    "properties_map = {x: x for x in data.columns}\n",
    "\n",
    "\n",
    "# Example without relationships:\n",
    "load_csv_to_neo4j(uri, user, password, csv_file_path, node_label, properties_map)"
   ]
  },
  {
   "cell_type": "code",
   "execution_count": null,
   "id": "4177bec7-f795-4d49-ae88-72b0f3b9501a",
   "metadata": {},
   "outputs": [],
   "source": [
    "{x: x for x in data.columns}"
   ]
  },
  {
   "cell_type": "markdown",
   "id": "890190f5-2141-4109-bb47-010a03620f1c",
   "metadata": {},
   "source": [
    "# Visitors Past Year LVA"
   ]
  },
  {
   "cell_type": "code",
   "execution_count": null,
   "id": "b7f83a2e-665f-4b5b-8f7b-5dc970726693",
   "metadata": {},
   "outputs": [],
   "source": [
    "csv_file_path = (\n",
    "    \"data/bva/output/df_reg_demo_last_lva.csv\"  # Replace with your CSV file path.\n",
    ")\n",
    "data = pd.read_csv(csv_file_path)\n",
    "\n",
    "node_label = \"Visitor_last_year_lva\"\n",
    "properties_map = {x: x for x in data.columns}\n",
    "\n",
    "\n",
    "# Example without relationships:\n",
    "load_csv_to_neo4j(uri, user, password, csv_file_path, node_label, properties_map)"
   ]
  },
  {
   "cell_type": "code",
   "execution_count": null,
   "id": "79725cbc-788d-4007-bca9-72c22572b50f",
   "metadata": {},
   "outputs": [],
   "source": []
  },
  {
   "cell_type": "code",
   "execution_count": null,
   "id": "e04e2cbf-6eb1-4a7d-b9da-5217329b9c53",
   "metadata": {},
   "outputs": [],
   "source": []
  }
 ],
 "metadata": {
  "kernelspec": {
   "display_name": "Python 3 (ipykernel)",
   "language": "python",
   "name": "python3"
  },
  "language_info": {
   "codemirror_mode": {
    "name": "ipython",
    "version": 3
   },
   "file_extension": ".py",
   "mimetype": "text/x-python",
   "name": "python",
   "nbconvert_exporter": "python",
   "pygments_lexer": "ipython3",
   "version": "3.11.11"
  }
 },
 "nbformat": 4,
 "nbformat_minor": 5
}
