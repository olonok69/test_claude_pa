{
 "cells": [
  {
   "cell_type": "code",
   "execution_count": null,
   "id": "58cd2869-9db1-4761-b297-08d6c50dcd79",
   "metadata": {},
   "outputs": [],
   "source": [
    "import pandas as pd"
   ]
  },
  {
   "cell_type": "code",
   "execution_count": null,
   "id": "0191e733-ad03-4a66-a118-0dd6c29f8e22",
   "metadata": {},
   "outputs": [],
   "source": [
    "hpi = pd.read_csv(\"data/20240221 HPI First batch.csv\", encoding=\"utf8\")\n",
    "hpi.head()"
   ]
  },
  {
   "cell_type": "code",
   "execution_count": null,
   "id": "dd8a9fad-6fc7-416c-ac6b-6e2104ea49cf",
   "metadata": {},
   "outputs": [],
   "source": [
    "hpi.columns = [\n",
    "    \"BadgeId\",\n",
    "    \"ShowRef\",\n",
    "    \"Segment\",\n",
    "    \"Interests\",\n",
    "    \"Company 1\",\n",
    "    \"Company 2\",\n",
    "    \"Company 3\",\n",
    "]\n",
    "hpi.head()"
   ]
  },
  {
   "cell_type": "code",
   "execution_count": null,
   "id": "ee92d302-7638-433c-b1c5-24a08c2f9f5b",
   "metadata": {},
   "outputs": [],
   "source": [
    "reg_2025 = pd.read_csv(\"data/df_reg_25.csv\")"
   ]
  },
  {
   "cell_type": "code",
   "execution_count": null,
   "id": "8681c6c1-3955-4145-9a67-da33715d8a70",
   "metadata": {},
   "outputs": [],
   "source": [
    "reg_2025.columns"
   ]
  },
  {
   "cell_type": "code",
   "execution_count": null,
   "id": "791dd23d-c520-4cae-be58-a99a5b8a07c5",
   "metadata": {},
   "outputs": [],
   "source": [
    "hpi_enriched = pd.merge(\n",
    "    hpi,\n",
    "    reg_2025[\n",
    "        [\n",
    "            \"Title\",\n",
    "            \"Forename\",\n",
    "            \"Surname\",\n",
    "            \"Email\",\n",
    "            \"BadgeId\",\n",
    "            \"ShowRef\",\n",
    "            \"Company\",\n",
    "            \"JobTitle\",\n",
    "            \"Tel\",\n",
    "            \"Mobile\",\n",
    "            \"Postcode\",\n",
    "            \"Country\",\n",
    "        ]\n",
    "    ],\n",
    "    on=[\"BadgeId\", \"ShowRef\"],\n",
    "    how=\"inner\",\n",
    ")"
   ]
  },
  {
   "cell_type": "code",
   "execution_count": null,
   "id": "70590903-18d6-4d97-94fe-4840466e29c5",
   "metadata": {},
   "outputs": [],
   "source": [
    "pd.isna"
   ]
  },
  {
   "cell_type": "code",
   "execution_count": null,
   "id": "4b59dfa5-bd4b-4a4c-b68f-1cf670f4e6c1",
   "metadata": {},
   "outputs": [],
   "source": [
    "hpi_enriched.head()"
   ]
  },
  {
   "cell_type": "code",
   "execution_count": null,
   "id": "50e5eefc-1ae7-4708-8459-ce501b0d0260",
   "metadata": {},
   "outputs": [],
   "source": [
    "def include_plus(x):\n",
    "    if pd.isna(x) or pd.isnull(x):\n",
    "        return x\n",
    "    elif str(x[0]) == \"+\":\n",
    "        return x\n",
    "    else:\n",
    "        return \"+\" + str(x)"
   ]
  },
  {
   "cell_type": "code",
   "execution_count": null,
   "id": "070354ba-a70b-456e-8ad1-b6739efb6170",
   "metadata": {},
   "outputs": [],
   "source": [
    "hpi_enriched[\"Tel\"] = hpi_enriched[\"Tel\"].apply(include_plus)\n",
    "hpi_enriched[\"Mobile\"] = hpi_enriched[\"Mobile\"].apply(include_plus)"
   ]
  },
  {
   "cell_type": "code",
   "execution_count": null,
   "id": "039fce37-4dd5-4111-a319-a9ef47ca6756",
   "metadata": {},
   "outputs": [],
   "source": [
    "hpi_enriched.head()"
   ]
  },
  {
   "cell_type": "code",
   "execution_count": null,
   "id": "b9ae3f5b-c23d-4590-bb93-3d04f615ed78",
   "metadata": {},
   "outputs": [],
   "source": [
    "len(hpi_enriched)"
   ]
  },
  {
   "cell_type": "code",
   "execution_count": null,
   "id": "4d598290-ce26-4657-9ef5-f20368e7f64e",
   "metadata": {},
   "outputs": [],
   "source": [
    "hpi_enriched.columns"
   ]
  },
  {
   "cell_type": "code",
   "execution_count": null,
   "id": "285b0efa-a895-4fbf-8b15-8d714244467d",
   "metadata": {},
   "outputs": [],
   "source": [
    "hpi_enriched.to_csv(\"data/hpi_extended.csv\", index=False)"
   ]
  },
  {
   "cell_type": "code",
   "execution_count": null,
   "id": "b65c3029-bee9-41c4-8b3d-4825c2c2e28a",
   "metadata": {},
   "outputs": [],
   "source": []
  }
 ],
 "metadata": {
  "kernelspec": {
   "display_name": "Python 3 (ipykernel)",
   "language": "python",
   "name": "python3"
  },
  "language_info": {
   "codemirror_mode": {
    "name": "ipython",
    "version": 3
   },
   "file_extension": ".py",
   "mimetype": "text/x-python",
   "name": "python",
   "nbconvert_exporter": "python",
   "pygments_lexer": "ipython3",
   "version": "3.11.11"
  }
 },
 "nbformat": 4,
 "nbformat_minor": 5
}
