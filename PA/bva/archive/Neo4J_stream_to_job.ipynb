{
 "cells": [
  {
   "cell_type": "code",
   "execution_count": null,
   "id": "dee5cc0e-8a30-45be-af6a-db1fce2a1d84",
   "metadata": {},
   "outputs": [],
   "source": [
    "from neo4j import GraphDatabase\n",
    "import csv\n",
    "import pandas as pd\n",
    "import json"
   ]
  },
  {
   "cell_type": "code",
   "execution_count": null,
   "id": "afe5588e-18ec-4f95-8f2c-e19ba2f8a743",
   "metadata": {},
   "outputs": [],
   "source": [
    "map_job_stream = pd.read_csv(\"data/bva/job_to_stream.csv\")"
   ]
  },
  {
   "cell_type": "code",
   "execution_count": null,
   "id": "be4afaa6-31c0-46b5-bf28-e6b4b3f05124",
   "metadata": {},
   "outputs": [],
   "source": [
    "map_job_stream.columns"
   ]
  },
  {
   "cell_type": "code",
   "execution_count": null,
   "id": "67752107-36af-4a01-a9c3-6c472ef0fb7f",
   "metadata": {},
   "outputs": [],
   "source": [
    "job_stream_mapping = json.loads(\n",
    "    map_job_stream.set_index(\"Job Role\").to_json(orient=\"index\")\n",
    ")"
   ]
  },
  {
   "cell_type": "code",
   "execution_count": null,
   "id": "c84a8493-f281-4c76-8cb1-6aac47b22ce7",
   "metadata": {},
   "outputs": [],
   "source": [
    "from neo4j import GraphDatabase\n",
    "\n",
    "\n",
    "class JobToStreamRelationship:\n",
    "    def __init__(self, uri, username, password, job_stream_mapping=None):\n",
    "        \"\"\"Initialize connection to Neo4j database and set job to stream mapping\n",
    "\n",
    "        Args:\n",
    "            uri: Neo4j connection URI\n",
    "            username: Neo4j username\n",
    "            password: Neo4j password\n",
    "            job_stream_mapping: Dictionary mapping job roles to applicable streams\n",
    "        \"\"\"\n",
    "        self.driver = GraphDatabase.driver(uri, auth=(username, password))\n",
    "\n",
    "        # Set default job stream mapping if not provided\n",
    "        self.job_stream_mapping = job_stream_mapping\n",
    "\n",
    "    def close(self):\n",
    "        \"\"\"Close the connection to Neo4j\"\"\"\n",
    "        self.driver.close()\n",
    "\n",
    "    def create_relationships(self):\n",
    "        \"\"\"Create job_to_stream relationships based on visitor job roles\"\"\"\n",
    "        with self.driver.session() as session:\n",
    "            session.execute_write(self._create_relationships, self.job_stream_mapping)\n",
    "\n",
    "    @staticmethod\n",
    "    def _create_relationships(tx, job_stream_mapping):\n",
    "        \"\"\"Create the relationships using the provided job stream mapping\"\"\"\n",
    "\n",
    "        # Get all Visitor_this_year nodes with valid job roles\n",
    "        query_visitors = \"\"\"\n",
    "        MATCH (v:Visitor_this_year)\n",
    "        WHERE v.job_role IS NOT NULL \n",
    "        AND v.job_role <> 'NA'\n",
    "        RETURN v, v.job_role as job_role\n",
    "        \"\"\"\n",
    "\n",
    "        results_visitors = tx.run(query_visitors)\n",
    "\n",
    "        for record in results_visitors:\n",
    "            visitor = record[\"v\"]\n",
    "            job_role = record[\"job_role\"]\n",
    "\n",
    "            # Check if this job role exists in our mapping\n",
    "            if job_role in job_stream_mapping:\n",
    "                stream_dict = job_stream_mapping[job_role]\n",
    "\n",
    "                # For each stream that applies to this job role\n",
    "                for stream_name, applies in stream_dict.items():\n",
    "                    if applies == \"YES\":\n",
    "                        # Find the Stream node and create relationship\n",
    "                        create_rel_query = \"\"\"\n",
    "                        MATCH (v:Visitor_this_year), (s:Stream)\n",
    "                        WHERE id(v) = $visitor_id AND s.stream = $stream_name\n",
    "                        MERGE (v)-[r:job_to_stream]->(s)\n",
    "                        RETURN r\n",
    "                        \"\"\"\n",
    "                        tx.run(\n",
    "                            create_rel_query,\n",
    "                            visitor_id=visitor.id,\n",
    "                            stream_name=stream_name,\n",
    "                        )"
   ]
  },
  {
   "cell_type": "code",
   "execution_count": null,
   "id": "44f77a36-545d-4590-bb82-1114add71180",
   "metadata": {},
   "outputs": [],
   "source": [
    "# Example usage:\n",
    "uri = \"bolt://127.0.0.1:7687\"\n",
    "username = \"neo4j\"\n",
    "password = \"\"  # Replace with your password."
   ]
  },
  {
   "cell_type": "code",
   "execution_count": null,
   "id": "b90c3796-3f42-4fd7-a284-f2389d71a2ab",
   "metadata": {},
   "outputs": [],
   "source": [
    "app = JobToStreamRelationship(\n",
    "    uri, username, password, job_stream_mapping=job_stream_mapping\n",
    ")\n",
    "\n",
    "try:\n",
    "    app.create_relationships()\n",
    "    print(\"Job to stream relationships created successfully\")\n",
    "finally:\n",
    "    app.close()"
   ]
  },
  {
   "cell_type": "code",
   "execution_count": null,
   "id": "a3c9e9b1-524a-4444-a4b5-e5f07b0b6083",
   "metadata": {},
   "outputs": [],
   "source": []
  }
 ],
 "metadata": {
  "kernelspec": {
   "display_name": "Python 3 (ipykernel)",
   "language": "python",
   "name": "python3"
  },
  "language_info": {
   "codemirror_mode": {
    "name": "ipython",
    "version": 3
   },
   "file_extension": ".py",
   "mimetype": "text/x-python",
   "name": "python",
   "nbconvert_exporter": "python",
   "pygments_lexer": "ipython3",
   "version": "3.11.11"
  }
 },
 "nbformat": 4,
 "nbformat_minor": 5
}
