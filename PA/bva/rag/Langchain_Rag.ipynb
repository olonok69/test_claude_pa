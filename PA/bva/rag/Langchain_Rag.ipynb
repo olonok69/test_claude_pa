{
 "cells": [
  {
   "cell_type": "markdown",
   "id": "03cce6de-871f-401d-9e19-18172943ab52",
   "metadata": {},
   "source": [
    "# Speak with your Graph\n",
    "### Neo4j Graph\n",
    "The Neo4j Graph integration is a wrapper for the Neo4j Python driver. It allows querying and updating the Neo4j database in a simplified manner from LangChain. Many integrations allow you to use the Neo4j Graph as a source of data for LangChain.\n",
    "\n",
    "### CypherQAChain\n",
    "The CypherQAChain is a LangChain component that allows you to interact with a Neo4j graph database in natural language. Using an LLM and the graph schema it translates the user question into a Cypher query, executes it against the graph and uses the returned context information and the original question with a second LLM to generate a natural language response.\n",
    "\n",
    "- https://api.python.langchain.com/en/latest/chains/langchain.chains.graph_qa.cypher.GraphCypherQAChain.html\n",
    "\n",
    "# Neo4jVector\n",
    "The Neo4j Vector integration supports a number of operations\n",
    "\n",
    "- create vector from langchain documents\n",
    "- query vector\n",
    "- query vector with additional graph retrieval Cypher query\n",
    "- construct vector instance from existing graph data\n",
    "- hybrid search\n",
    "- metadata filtering\n",
    "\n",
    "### INstall exampe\n",
    "\n",
    "```\n",
    "pip install langchain langchain-community langchain-neo4j\n",
    "pip install langchain-openai tiktoken\n",
    "pip install neo4j\n",
    "```\n",
    "\n",
    "# MCP Model Context Protocol\n",
    "https://www.anthropic.com/news/model-context-protocol\n",
    "\n",
    "### https://modelcontextprotocol.io/introduction\n",
    "The Model Context Protocol allows applications to provide context for LLMs in a standardized way, separating the concerns of providing context from the actual LLM interaction. This Python SDK implements the full MCP specification, making it easy to:\n",
    "\n",
    "- Build MCP clients that can connect to any MCP server\n",
    "- Create MCP servers that expose resources, prompts and tools\n",
    "- Use standard transports like stdio and SSE\n",
    "- Handle all MCP protocol messages and lifecycle events\n",
    "\n",
    "## links\n",
    "- https://github.com/modelcontextprotocol/python-sdk\n",
    "- https://neo4j.com/blog/developer/knowledge-graphs-claude-neo4j-mcp/\n",
    "- https://github.com/neo4j-contrib/mcp-neo4j/tree/main\n",
    "- https://pypi.org/project/mcp-neo4j-cypher/\n",
    "- \n",
    "# CLaude Desktop via MCP\n",
    "\n",
    "### Install \n",
    "https://claude.ai/download\n",
    "\n",
    "```\n",
    "linux/mac\n",
    "curl -LsSf https://astral.sh/uv/install.sh | sh\n",
    "\n",
    "windows\n",
    "powershell -ExecutionPolicy ByPass -c \"irm https://astral.sh/uv/install.ps1 | iex\"\n",
    "\n",
    "\"neo4j\": {\n",
    "    \"command\": \"/Users/<username>/.local/bin/uvx\", # full path to your 'uv' executable\n",
    "    \"args\": [\n",
    "        \"mcp-neo4j-cypher\",\n",
    "        \"--db-url\",\n",
    "        \"bolt://localhost\",\n",
    "        \"--username\",\n",
    "        \"neo4j\",\n",
    "        \"--password\",\n",
    "        \"password\"\n",
    "    ]\n",
    "}\n",
    "```\n"
   ]
  },
  {
   "cell_type": "code",
   "execution_count": null,
   "id": "f0c7bba4-0b6e-4285-95c0-e24da3381940",
   "metadata": {},
   "outputs": [],
   "source": [
    "from langchain_neo4j import Neo4jGraph, GraphCypherQAChain\n",
    "from langchain_openai import ChatOpenAI"
   ]
  },
  {
   "cell_type": "code",
   "execution_count": null,
   "id": "046274d6-9d7d-4d01-a3a6-a1c71c172a0f",
   "metadata": {},
   "outputs": [],
   "source": [
    "import logging\n",
    "import warnings\n",
    "from dotenv import load_dotenv\n",
    "from dotenv import dotenv_values\n",
    "from langchain_openai import ChatOpenAI\n",
    "from langchain_core.prompts import PromptTemplate\n",
    "import pprint"
   ]
  },
  {
   "cell_type": "code",
   "execution_count": null,
   "id": "452a1a19-304b-4484-84ff-090e42fd139a",
   "metadata": {},
   "outputs": [],
   "source": [
    "from langchain.docstore.document import Document\n",
    "from langchain.text_splitter import CharacterTextSplitter\n",
    "from langchain_community.document_loaders import TextLoader\n",
    "from langchain_neo4j import Neo4jVector\n",
    "from langchain_openai import OpenAIEmbeddings"
   ]
  },
  {
   "cell_type": "code",
   "execution_count": null,
   "id": "54e9b46b-28b7-4691-b9a2-d824455cc883",
   "metadata": {},
   "outputs": [],
   "source": [
    "status = load_dotenv(\".env\")\n",
    "config = dotenv_values(\".env\")"
   ]
  },
  {
   "cell_type": "code",
   "execution_count": null,
   "id": "346eb3f0-0171-44ac-8094-7624f886e090",
   "metadata": {},
   "outputs": [],
   "source": [
    "llm = ChatOpenAI(\n",
    "    model=\"gpt-4.1\",\n",
    "    openai_api_key=config[\"OPENAI_API_KEY\"],\n",
    "    temperature=0,\n",
    "    max_tokens=8192,\n",
    ")\n",
    "embeddings = OpenAIEmbeddings()"
   ]
  },
  {
   "cell_type": "code",
   "execution_count": null,
   "id": "2ec1d6f5-202c-4f20-95b7-68a599f3eb8d",
   "metadata": {},
   "outputs": [],
   "source": [
    "uri = \"bolt://127.0.0.1:7687\"\n",
    "username = \"neo4j\"\n",
    "password = \"\""
   ]
  },
  {
   "cell_type": "markdown",
   "id": "3f2df727-02c3-48be-b24e-382af4e0e2d3",
   "metadata": {},
   "source": [
    "# Neo4jVector\n",
    "The Neo4j Vector integration supports a number of operations\n",
    "\n",
    "- create vector from langchain documents\n",
    "- query vector\n",
    "- query vector with additional graph retrieval Cypher query\n",
    "- construct vector instance from existing graph data\n",
    "- hybrid search\n",
    "- metadata filtering"
   ]
  },
  {
   "cell_type": "code",
   "execution_count": null,
   "id": "2725d070-0a53-42ff-9e27-9644d8e30c8c",
   "metadata": {},
   "outputs": [],
   "source": [
    "loader = TextLoader(\"state_of_the_union.txt\", encoding=\"utf-8\")\n",
    "documents = loader.load()\n",
    "text_splitter = CharacterTextSplitter(chunk_size=1000, chunk_overlap=0)\n",
    "docs = text_splitter.split_documents(documents)"
   ]
  },
  {
   "cell_type": "code",
   "execution_count": null,
   "id": "bb5bb026-208e-4b90-9225-0fd5f672c7df",
   "metadata": {},
   "outputs": [],
   "source": [
    "# documents[0]"
   ]
  },
  {
   "cell_type": "code",
   "execution_count": null,
   "id": "c29bbfec-c322-4a50-86de-301cb315b19c",
   "metadata": {},
   "outputs": [],
   "source": [
    "docs[0], len(docs)"
   ]
  },
  {
   "cell_type": "code",
   "execution_count": null,
   "id": "fc952334-c658-4c09-a70b-d5da64557ea3",
   "metadata": {},
   "outputs": [],
   "source": [
    "db = Neo4jVector.from_documents(\n",
    "    docs, embeddings, url=uri, username=username, password=password\n",
    ")\n",
    "\n",
    "query = \"What did the president say about Ketanji Brown Jackson\"\n",
    "docs_with_score = db.similarity_search_with_score(query, k=2)"
   ]
  },
  {
   "cell_type": "code",
   "execution_count": null,
   "id": "97d58f62-0ff4-4698-aedc-93bf5c79813c",
   "metadata": {},
   "outputs": [],
   "source": [
    "docs_with_score"
   ]
  },
  {
   "cell_type": "markdown",
   "id": "844c3022-04a3-4a55-869b-4ebc49087800",
   "metadata": {},
   "source": [
    "# Neo4j Graph\n",
    "The Neo4j Graph integration is a wrapper for the Neo4j Python driver. It allows querying and updating the Neo4j database in a simplified manner from LangChain. Many integrations allow you to use the Neo4j Graph as a source of data for LangChain."
   ]
  },
  {
   "cell_type": "code",
   "execution_count": null,
   "id": "34be16ee-0919-4cd6-a6e8-f9661998704c",
   "metadata": {},
   "outputs": [],
   "source": [
    "graph = Neo4jGraph(url=uri, username=username, password=password)"
   ]
  },
  {
   "cell_type": "code",
   "execution_count": null,
   "id": "36f24b09-917b-4e75-8835-0002c3cd1358",
   "metadata": {},
   "outputs": [],
   "source": [
    "#  Neo4jGraph\n",
    "query = \"\"\"\n",
    "MATCH (v:Visitor_this_year {BadgeId:$badgeID})\n",
    "WITH v.JobTitle AS jt, v.job_role AS jr, v.what_type_does_your_practice_specialise_in AS spec\n",
    "MATCH (v2:Visitor_this_year)\n",
    "WHERE v2.assist_year_before = \"1\"\n",
    "  AND (\n",
    "    toLower(v2.JobTitle) = toLower(jt) OR\n",
    "    toLower(v2.job_role) = toLower(jr) OR\n",
    "    toLower(v2.what_type_does_your_practice_specialise_in) = toLower(spec)\n",
    "  )\n",
    "WITH v2\n",
    "LIMIT 3\n",
    "OPTIONAL MATCH (v2)-[:Same_Visitor]->(vlva:Visitor_last_year_lva)\n",
    "OPTIONAL MATCH (v2)-[:Same_Visitor]->(vbva:Visitor_last_year_bva)\n",
    "OPTIONAL MATCH (vlva)-[:attended_session]->(s1:Sessions_past_year)\n",
    "OPTIONAL MATCH (vbva)-[:attended_session]->(s2:Sessions_past_year)\n",
    "RETURN v2.BadgeId AS this_year_BadgeId, collect(DISTINCT s1) + collect(DISTINCT s2) AS sessions_last_year\n",
    "\"\"\""
   ]
  },
  {
   "cell_type": "code",
   "execution_count": null,
   "id": "6a4a2180-da6c-4cdc-a56d-009ba6c5ee98",
   "metadata": {},
   "outputs": [],
   "source": [
    "resp = graph.query(query, params={\"badgeID\": \"VPH826J\"})"
   ]
  },
  {
   "cell_type": "code",
   "execution_count": null,
   "id": "7bd9946f-ac7c-4892-881b-cdcb4615936d",
   "metadata": {},
   "outputs": [],
   "source": [
    "# resp"
   ]
  },
  {
   "cell_type": "markdown",
   "id": "4ec67ca0-0ff7-4c11-a3f2-b7289258a903",
   "metadata": {},
   "source": [
    "# CypherQAChain\n",
    "The CypherQAChain is a LangChain component that allows you to interact with a Neo4j graph database in natural language. Using an LLM and the graph schema it translates the user question into a Cypher query, executes it against the graph and uses the returned context information and the original question with a second LLM to generate a natural language response."
   ]
  },
  {
   "cell_type": "code",
   "execution_count": null,
   "id": "dd404c27-1301-462a-8a7d-98836008bfdd",
   "metadata": {},
   "outputs": [],
   "source": [
    "chain = GraphCypherQAChain.from_llm(\n",
    "    llm,\n",
    "    graph=graph,\n",
    "    verbose=True,\n",
    "    allow_dangerous_requests=True,\n",
    "    return_intermediate_steps=True,\n",
    ")"
   ]
  },
  {
   "cell_type": "code",
   "execution_count": null,
   "id": "ba4b0bd7-ad77-4577-bef5-2a56d452938c",
   "metadata": {},
   "outputs": [],
   "source": [
    "chain.invoke(\n",
    "    \"How many Sessions this year have a connection Has_stream to the Stream nursing?\"\n",
    ")"
   ]
  },
  {
   "cell_type": "code",
   "execution_count": null,
   "id": "3ab551ee-0666-4adf-8532-43407cdb1fe3",
   "metadata": {},
   "outputs": [],
   "source": [
    "response = chain.invoke(\n",
    "    \"find all the Visitors this year which  has as job title 'vet/vet surgeon' and  have been in the bva show last year?\"\n",
    ")"
   ]
  },
  {
   "cell_type": "code",
   "execution_count": null,
   "id": "53b41b3a-fb17-4d9c-99d1-66d56aad3f25",
   "metadata": {},
   "outputs": [],
   "source": [
    "pprint.pprint(response.get(\"result\"))"
   ]
  },
  {
   "cell_type": "code",
   "execution_count": null,
   "id": "16f48c2a-c4b9-4ff9-a9fd-50790eaf25e7",
   "metadata": {},
   "outputs": [],
   "source": [
    "# 764KTZS\n",
    "response = chain.invoke(\n",
    "    \" find for  the Visitor this year with batchID F5C5FRF find 5 sessions this year which are in one of the stream connected using the  relationship job_to_stream\"\n",
    ")"
   ]
  },
  {
   "cell_type": "code",
   "execution_count": null,
   "id": "bf1a1058-6bdc-47be-96cf-0b6ab183b5c3",
   "metadata": {},
   "outputs": [],
   "source": [
    "pprint.pprint(response.get(\"result\"))"
   ]
  },
  {
   "cell_type": "code",
   "execution_count": null,
   "id": "cdc3d073-5e9c-42b6-9672-7cc00ae47b0e",
   "metadata": {},
   "outputs": [],
   "source": [
    "response = chain.invoke(\n",
    "    \"\"\"\n",
    "find for  the Visitor this year with batchID F5C5FRF find 10 sessions this year which are in one of the stream connected using the  relationship job_to_stream,\n",
    "from the resulting sessions exclude those which contains Equine in the attribute stream\n",
    "Bear in mind that the attribute stream in sessions is a string that can contains multiple Streams separated by ; ex. 'Orthopaedics; Orthopaedics; Orthopaedics; Small Animal; Small Animal; Small Animal' \"\"\"\n",
    ")"
   ]
  },
  {
   "cell_type": "code",
   "execution_count": null,
   "id": "e8cdbb73-e3f8-484a-b79a-632242d9d547",
   "metadata": {},
   "outputs": [],
   "source": [
    "pprint.pprint(response.get(\"result\"))"
   ]
  },
  {
   "cell_type": "code",
   "execution_count": null,
   "id": "6f5caedd-8093-43c1-8dd1-ab14d7c66637",
   "metadata": {},
   "outputs": [],
   "source": [
    "response = chain.invoke(\n",
    "    \"\"\"\n",
    "for batchID UEXNXI4 \n",
    "find 3 visitors this year which assist the year before is 1  with  equal or similar: JobTitle,  job_role and what_type_does_your_practice_specialise_in\n",
    "and for the 3 visitors you find return all sessions they visited last year and the batchID this year\n",
    "\n",
    " \"\"\"\n",
    ")"
   ]
  },
  {
   "cell_type": "code",
   "execution_count": null,
   "id": "3cf053c8-d6ff-4a43-81e1-8c213e9bb15c",
   "metadata": {},
   "outputs": [],
   "source": [
    "print(response.get(\"result\"))"
   ]
  },
  {
   "cell_type": "code",
   "execution_count": null,
   "id": "dcb9924e-3c96-40e7-a057-d54d1050af77",
   "metadata": {},
   "outputs": [],
   "source": [
    "pprint.pprint(response.get(\"intermediate_steps\")[1][\"context\"])"
   ]
  },
  {
   "cell_type": "code",
   "execution_count": null,
   "id": "cafe8d3d-bcd8-40e7-9b0b-d7ace2f82058",
   "metadata": {},
   "outputs": [],
   "source": []
  }
 ],
 "metadata": {
  "kernelspec": {
   "display_name": "Python 3 (ipykernel)",
   "language": "python",
   "name": "python3"
  },
  "language_info": {
   "codemirror_mode": {
    "name": "ipython",
    "version": 3
   },
   "file_extension": ".py",
   "mimetype": "text/x-python",
   "name": "python",
   "nbconvert_exporter": "python",
   "pygments_lexer": "ipython3",
   "version": "3.11.11"
  }
 },
 "nbformat": 4,
 "nbformat_minor": 5
}
