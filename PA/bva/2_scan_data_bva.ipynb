{
 "cells": [
  {
   "cell_type": "markdown",
   "id": "40b23b06-d095-4d39-a9d4-5fab3be28aae",
   "metadata": {},
   "source": [
    "# Scan Data Last BVA and LVA\n",
    "\n",
    "refresh every week BVA25_session_export.csv. Rest from scan vistors BVA and LVE previous year dont change"
   ]
  },
  {
   "cell_type": "code",
   "execution_count": 1,
   "id": "fab10695-748d-4297-8b35-b4948a05ab9d",
   "metadata": {},
   "outputs": [],
   "source": [
    "import pandas as pd\n",
    "import json\n",
    "from pandas import json_normalize\n",
    "import warnings\n",
    "from typing import List\n",
    "from pandas.errors import SettingWithCopyWarning\n",
    "import logging\n",
    "\n",
    "warnings.simplefilter(action=\"ignore\", category=(SettingWithCopyWarning))"
   ]
  },
  {
   "cell_type": "markdown",
   "id": "d1d068a5-49a1-4bfc-9dba-c6cf4c89c52b",
   "metadata": {},
   "source": [
    "# Scan Data"
   ]
  },
  {
   "cell_type": "code",
   "execution_count": 39,
   "id": "68138bb7-345b-4102-9033-74ff7f544df5",
   "metadata": {},
   "outputs": [],
   "source": [
    "session_this_path = \"data/bva/BVA25_session_export.csv\"\n",
    "session_past_path_bva = \"data/bva/BVA24_session_export.csv\"\n",
    "session_past_path_lva = \"data/bva/LVA24_session_export.csv\"\n",
    "seminars_scan_reference_past_path_bva = \"data/bva/bva2024 seminar scans reference.csv\"\n",
    "seminars_scans_past_path_bva = \"data/bva/bva2024 seminar scans.csv\"\n",
    "seminars_scan_reference_past_path_lva = \"data/bva/lvs2024 seminar scans reference.csv\"\n",
    "seminars_scans_past_path_lva = \"data/bva/lvs2024 seminar scans.csv\""
   ]
  },
  {
   "cell_type": "code",
   "execution_count": 40,
   "id": "a9be5aa4-07d9-46ea-b8be-29bdcc2194c6",
   "metadata": {},
   "outputs": [],
   "source": [
    "session_this = pd.read_csv(session_this_path)\n",
    "session_past_bva = pd.read_csv(session_past_path_bva)\n",
    "session_past_lva = pd.read_csv(session_past_path_lva)\n",
    "seminars_scan_reference_past_bva = pd.read_csv(seminars_scan_reference_past_path_bva)\n",
    "seminars_scans_past_bva = pd.read_csv(seminars_scans_past_path_bva)\n",
    "\n",
    "seminars_scan_reference_past_lva = pd.read_csv(seminars_scan_reference_past_path_lva)\n",
    "seminars_scans_past_lva = pd.read_csv(seminars_scans_past_path_lva)"
   ]
  },
  {
   "cell_type": "code",
   "execution_count": 41,
   "id": "816ede09-867a-493d-a408-e50e6be09e68",
   "metadata": {},
   "outputs": [
    {
     "data": {
      "text/plain": [
       "Index(['Short Name', 'Seminar Name', 'Theatre Name', 'Start Date', 'End Date'], dtype='object')"
      ]
     },
     "execution_count": 41,
     "metadata": {},
     "output_type": "execute_result"
    }
   ],
   "source": [
    "seminars_scan_reference_past_bva.columns"
   ]
  },
  {
   "cell_type": "code",
   "execution_count": 42,
   "id": "af544e01-04f6-48e1-a275-0dec3da9a011",
   "metadata": {},
   "outputs": [
    {
     "data": {
      "text/plain": [
       "(11594, 11594)"
      ]
     },
     "execution_count": 42,
     "metadata": {},
     "output_type": "execute_result"
    }
   ],
   "source": [
    "seminars_scans_past_enhanced_bva = pd.merge(\n",
    "    seminars_scans_past_bva,\n",
    "    seminars_scan_reference_past_bva[[\"Short Name\", \"Seminar Name\"]],\n",
    "    on=[\"Short Name\"],\n",
    "    how=\"left\",\n",
    ")\n",
    "len(seminars_scans_past_enhanced_bva), len(seminars_scans_past_bva)"
   ]
  },
  {
   "cell_type": "code",
   "execution_count": 43,
   "id": "6b12ba5b-1bb6-4c3c-8671-6d700d77cf64",
   "metadata": {},
   "outputs": [
    {
     "data": {
      "text/plain": [
       "Short Name      0\n",
       "Badge Id        0\n",
       "Scan Date       0\n",
       "File            0\n",
       "Seminar Name    0\n",
       "dtype: int64"
      ]
     },
     "execution_count": 43,
     "metadata": {},
     "output_type": "execute_result"
    }
   ],
   "source": [
    "seminars_scans_past_enhanced_bva.isnull().sum()"
   ]
  },
  {
   "cell_type": "code",
   "execution_count": 44,
   "id": "39684688-3b97-4832-80f5-6b5da85c936f",
   "metadata": {},
   "outputs": [
    {
     "data": {
      "text/html": [
       "<div>\n",
       "<style scoped>\n",
       "    .dataframe tbody tr th:only-of-type {\n",
       "        vertical-align: middle;\n",
       "    }\n",
       "\n",
       "    .dataframe tbody tr th {\n",
       "        vertical-align: top;\n",
       "    }\n",
       "\n",
       "    .dataframe thead th {\n",
       "        text-align: right;\n",
       "    }\n",
       "</style>\n",
       "<table border=\"1\" class=\"dataframe\">\n",
       "  <thead>\n",
       "    <tr style=\"text-align: right;\">\n",
       "      <th></th>\n",
       "      <th>Short Name</th>\n",
       "      <th>Badge Id</th>\n",
       "      <th>Scan Date</th>\n",
       "      <th>File</th>\n",
       "      <th>Seminar Name</th>\n",
       "    </tr>\n",
       "  </thead>\n",
       "  <tbody>\n",
       "    <tr>\n",
       "      <th>0</th>\n",
       "      <td>D1-Business, -0915-1015-1-More than a pizza pa...</td>\n",
       "      <td>QTHUEM2</td>\n",
       "      <td>2024-06-06 09:01:11</td>\n",
       "      <td>D1-Business, -0915-1015-1-More than a pizza pa...</td>\n",
       "      <td>More than a pizza party  The truth about reten...</td>\n",
       "    </tr>\n",
       "    <tr>\n",
       "      <th>1</th>\n",
       "      <td>D1-Business, -0915-1015-1-More than a pizza pa...</td>\n",
       "      <td>DJUB5XH</td>\n",
       "      <td>2024-06-06 09:13:19</td>\n",
       "      <td>D1-Business, -0915-1015-1-More than a pizza pa...</td>\n",
       "      <td>More than a pizza party  The truth about reten...</td>\n",
       "    </tr>\n",
       "    <tr>\n",
       "      <th>2</th>\n",
       "      <td>D1-Business, -0915-1015-1-More than a pizza pa...</td>\n",
       "      <td>N6TZBK5</td>\n",
       "      <td>2024-06-06 08:57:32</td>\n",
       "      <td>D1-Business, -0915-1015-1-More than a pizza pa...</td>\n",
       "      <td>More than a pizza party  The truth about reten...</td>\n",
       "    </tr>\n",
       "    <tr>\n",
       "      <th>3</th>\n",
       "      <td>D1-Business, -0915-1015-1-More than a pizza pa...</td>\n",
       "      <td>DSLIM2Q</td>\n",
       "      <td>2024-06-06 09:08:14</td>\n",
       "      <td>D1-Business, -0915-1015-1-More than a pizza pa...</td>\n",
       "      <td>More than a pizza party  The truth about reten...</td>\n",
       "    </tr>\n",
       "    <tr>\n",
       "      <th>4</th>\n",
       "      <td>D1-Business, -0915-1015-1-More than a pizza pa...</td>\n",
       "      <td>H6ZGWDG</td>\n",
       "      <td>2024-06-06 09:14:01</td>\n",
       "      <td>D1-Business, -0915-1015-1-More than a pizza pa...</td>\n",
       "      <td>More than a pizza party  The truth about reten...</td>\n",
       "    </tr>\n",
       "  </tbody>\n",
       "</table>\n",
       "</div>"
      ],
      "text/plain": [
       "                                          Short Name Badge Id  \\\n",
       "0  D1-Business, -0915-1015-1-More than a pizza pa...  QTHUEM2   \n",
       "1  D1-Business, -0915-1015-1-More than a pizza pa...  DJUB5XH   \n",
       "2  D1-Business, -0915-1015-1-More than a pizza pa...  N6TZBK5   \n",
       "3  D1-Business, -0915-1015-1-More than a pizza pa...  DSLIM2Q   \n",
       "4  D1-Business, -0915-1015-1-More than a pizza pa...  H6ZGWDG   \n",
       "\n",
       "             Scan Date                                               File  \\\n",
       "0  2024-06-06 09:01:11  D1-Business, -0915-1015-1-More than a pizza pa...   \n",
       "1  2024-06-06 09:13:19  D1-Business, -0915-1015-1-More than a pizza pa...   \n",
       "2  2024-06-06 08:57:32  D1-Business, -0915-1015-1-More than a pizza pa...   \n",
       "3  2024-06-06 09:08:14  D1-Business, -0915-1015-1-More than a pizza pa...   \n",
       "4  2024-06-06 09:14:01  D1-Business, -0915-1015-1-More than a pizza pa...   \n",
       "\n",
       "                                        Seminar Name  \n",
       "0  More than a pizza party  The truth about reten...  \n",
       "1  More than a pizza party  The truth about reten...  \n",
       "2  More than a pizza party  The truth about reten...  \n",
       "3  More than a pizza party  The truth about reten...  \n",
       "4  More than a pizza party  The truth about reten...  "
      ]
     },
     "execution_count": 44,
     "metadata": {},
     "output_type": "execute_result"
    }
   ],
   "source": [
    "seminars_scans_past_enhanced_bva.head()"
   ]
  },
  {
   "cell_type": "code",
   "execution_count": 45,
   "id": "cbf7285c-56b7-4077-b466-216e15295fd8",
   "metadata": {},
   "outputs": [
    {
     "data": {
      "text/plain": [
       "(40864, 40864)"
      ]
     },
     "execution_count": 45,
     "metadata": {},
     "output_type": "execute_result"
    }
   ],
   "source": [
    "seminars_scans_past_enhanced_lva = pd.merge(\n",
    "    seminars_scans_past_lva,\n",
    "    seminars_scan_reference_past_lva[[\"Short Name\", \"Seminar Name\"]],\n",
    "    on=[\"Short Name\"],\n",
    "    how=\"left\",\n",
    ")\n",
    "len(seminars_scans_past_enhanced_lva), len(seminars_scans_past_lva)"
   ]
  },
  {
   "cell_type": "code",
   "execution_count": 46,
   "id": "8841becd-4e5a-4cf9-a5b1-557fcc7535b0",
   "metadata": {},
   "outputs": [],
   "source": [
    "import string\n",
    "\n",
    "\n",
    "def clean_text(text):\n",
    "    # Remove punctuation and spaces, and convert to lowercase\n",
    "    return \"\".join(char for char in text if char.isalnum()).lower()"
   ]
  },
  {
   "cell_type": "code",
   "execution_count": 47,
   "id": "d2c80bf3-177f-41be-bda6-d53dfd95c02f",
   "metadata": {},
   "outputs": [],
   "source": [
    "seminars_scans_past_enhanced_bva[\"key_text\"] = seminars_scans_past_enhanced_bva[\n",
    "    \"Seminar Name\"\n",
    "].apply(clean_text)\n",
    "seminars_scans_past_enhanced_lva[\"key_text\"] = seminars_scans_past_enhanced_lva[\n",
    "    \"Seminar Name\"\n",
    "].apply(clean_text)"
   ]
  },
  {
   "cell_type": "code",
   "execution_count": 48,
   "id": "3b174a89-b8fb-4633-a54f-0115034f4a28",
   "metadata": {},
   "outputs": [],
   "source": [
    "session_past_bva[\"key_text\"] = session_past_bva[\"title\"].apply(clean_text)\n",
    "session_past_lva[\"key_text\"] = session_past_lva[\"title\"].apply(clean_text)"
   ]
  },
  {
   "cell_type": "markdown",
   "id": "62892e4b-9f34-46f3-b7ed-e3a4aa87719c",
   "metadata": {},
   "source": [
    "# BVA 2024"
   ]
  },
  {
   "cell_type": "code",
   "execution_count": 49,
   "id": "181b9d8b-584a-49c2-aecb-1ec497764983",
   "metadata": {},
   "outputs": [],
   "source": [
    "list1 = set(list(seminars_scans_past_enhanced_bva[\"key_text\"].unique()))\n",
    "list2 = set(list(session_past_bva[\"key_text\"].unique()))"
   ]
  },
  {
   "cell_type": "code",
   "execution_count": 50,
   "id": "240579ce-d6c7-4ace-8a87-7d410b9350cb",
   "metadata": {},
   "outputs": [
    {
     "data": {
      "text/plain": [
       "(101, 109, 102)"
      ]
     },
     "execution_count": 50,
     "metadata": {},
     "output_type": "execute_result"
    }
   ],
   "source": [
    "len(list1.intersection(list2)), len(list2), len(list1)"
   ]
  },
  {
   "cell_type": "code",
   "execution_count": 51,
   "id": "237035ba-ba63-41b0-bdf8-aa5b5e64b517",
   "metadata": {},
   "outputs": [],
   "source": [
    "reg_data_last_bva = pd.read_csv(\"data/bva/output/df_reg_demo_last_bva.csv\")"
   ]
  },
  {
   "cell_type": "code",
   "execution_count": 52,
   "id": "6028c874-acf3-49e8-b49b-ca8768b6f93c",
   "metadata": {},
   "outputs": [],
   "source": [
    "list3 = set(list(reg_data_last_bva[\"BadgeId\"].unique()))\n",
    "list4 = set(list(seminars_scans_past_enhanced_bva[\"Badge Id\"].unique()))"
   ]
  },
  {
   "cell_type": "code",
   "execution_count": 53,
   "id": "99f48d84-afd8-40ca-942d-ad7944a1b228",
   "metadata": {},
   "outputs": [
    {
     "data": {
      "text/plain": [
       "(404, 435, 1748)"
      ]
     },
     "execution_count": 53,
     "metadata": {},
     "output_type": "execute_result"
    }
   ],
   "source": [
    "len(list4.intersection(list3)), len(list3), len(list4)"
   ]
  },
  {
   "cell_type": "code",
   "execution_count": 54,
   "id": "39a11e46-8e89-4533-911c-2d6aca0e549b",
   "metadata": {},
   "outputs": [
    {
     "data": {
      "text/plain": [
       "11594"
      ]
     },
     "execution_count": 54,
     "metadata": {},
     "output_type": "execute_result"
    }
   ],
   "source": [
    "seminars_scans_past_enhanced_bva.to_csv(\n",
    "    \"data/bva/output/scan_bva_past.csv\", index=False\n",
    ")\n",
    "len(seminars_scans_past_enhanced_bva)"
   ]
  },
  {
   "cell_type": "markdown",
   "id": "899aa033-50d4-4193-a447-072d8ad268e5",
   "metadata": {},
   "source": [
    "# LVA 2024"
   ]
  },
  {
   "cell_type": "code",
   "execution_count": 55,
   "id": "cadbb6a5-fcfb-4f3b-8be1-5f2dfcf79dec",
   "metadata": {},
   "outputs": [],
   "source": [
    "list5 = set(list(seminars_scans_past_enhanced_lva[\"key_text\"].unique()))\n",
    "list6 = set(list(session_past_lva[\"key_text\"].unique()))"
   ]
  },
  {
   "cell_type": "code",
   "execution_count": 56,
   "id": "881cbdfc-d465-42cd-8761-21b300352cdc",
   "metadata": {},
   "outputs": [
    {
     "data": {
      "text/plain": [
       "(308, 311, 340)"
      ]
     },
     "execution_count": 56,
     "metadata": {},
     "output_type": "execute_result"
    }
   ],
   "source": [
    "len(list5.intersection(list6)), len(list5), len(list6)"
   ]
  },
  {
   "cell_type": "code",
   "execution_count": 57,
   "id": "4e9a8511-e02e-4169-b638-08b6b89bf68b",
   "metadata": {},
   "outputs": [],
   "source": [
    "reg_data_last_lva = pd.read_csv(\"data/bva/output/df_reg_demo_last_lva.csv\")"
   ]
  },
  {
   "cell_type": "code",
   "execution_count": 58,
   "id": "3e35c9fc-62da-4693-9c5c-d4d4e351fb1a",
   "metadata": {},
   "outputs": [],
   "source": [
    "list7 = set(list(reg_data_last_lva[\"BadgeId\"].unique()))\n",
    "list8 = set(list(seminars_scans_past_enhanced_lva[\"Badge Id\"].unique()))"
   ]
  },
  {
   "cell_type": "code",
   "execution_count": 59,
   "id": "d8a467de-6cb2-43c2-af7c-ac06b950015e",
   "metadata": {},
   "outputs": [
    {
     "data": {
      "text/plain": [
       "(191, 207, 6696)"
      ]
     },
     "execution_count": 59,
     "metadata": {},
     "output_type": "execute_result"
    }
   ],
   "source": [
    "len(list8.intersection(list7)), len(list7), len(list8)"
   ]
  },
  {
   "cell_type": "code",
   "execution_count": 60,
   "id": "00fa4ff6-7e45-43dd-8e6c-686126f60644",
   "metadata": {},
   "outputs": [
    {
     "data": {
      "text/plain": [
       "40864"
      ]
     },
     "execution_count": 60,
     "metadata": {},
     "output_type": "execute_result"
    }
   ],
   "source": [
    "seminars_scans_past_enhanced_lva.to_csv(\n",
    "    \"data/bva/output/scan_lva_past.csv\", index=False\n",
    ")\n",
    "len(seminars_scans_past_enhanced_lva)"
   ]
  },
  {
   "cell_type": "code",
   "execution_count": 61,
   "id": "18c9942d-2fc7-4f5f-ba4a-148f4f58a2f8",
   "metadata": {},
   "outputs": [],
   "source": [
    "df_reg_24_wdemo_data_bva = pd.read_csv(\"data/bva/output/Registration_data_with_demographicdata_bva_last.csv\")\n",
    "df_reg_24_wdemo_data_lva = pd.read_csv(\"data/bva/output/Registration_data_with_demographicdata_lva_last.csv\")"
   ]
  },
  {
   "cell_type": "code",
   "execution_count": 62,
   "id": "7a6f981d-efc0-47cd-8763-953d14c2eef7",
   "metadata": {},
   "outputs": [
    {
     "data": {
      "text/plain": [
       "(384, 181)"
      ]
     },
     "execution_count": 62,
     "metadata": {},
     "output_type": "execute_result"
    }
   ],
   "source": [
    "len(df_reg_24_wdemo_data_bva), len(df_reg_24_wdemo_data_lva)"
   ]
  },
  {
   "cell_type": "code",
   "execution_count": 63,
   "id": "28215b1c-f789-48f8-af8c-fcc0b05ecbf1",
   "metadata": {},
   "outputs": [
    {
     "data": {
      "text/plain": [
       "Index(['Short Name', 'Badge Id', 'Scan Date', 'File', 'Seminar Name',\n",
       "       'key_text'],\n",
       "      dtype='object')"
      ]
     },
     "execution_count": 63,
     "metadata": {},
     "output_type": "execute_result"
    }
   ],
   "source": [
    "seminars_scans_past_enhanced_bva.columns"
   ]
  },
  {
   "cell_type": "code",
   "execution_count": 64,
   "id": "48720e3e-83d8-4110-bdfb-0f8a7ad49d8f",
   "metadata": {},
   "outputs": [],
   "source": [
    "import pandas as pd\n",
    "\n",
    "def add_demographics_to_seminars(df_reg_24_wdemo_data_bva, seminars_scans_past_enhanced_bva):\n",
    "    \"\"\"\n",
    "    Add demographic data to seminar scans dataframe for matching badge IDs.\n",
    "    \n",
    "    Parameters:\n",
    "    -----------\n",
    "    df_reg_24_wdemo_data_bva : pandas.DataFrame\n",
    "        Dataframe containing registration and demographic data\n",
    "    seminars_scans_past_enhanced_bva : pandas.DataFrame\n",
    "        Dataframe containing seminar attendance data\n",
    "    \n",
    "    Returns:\n",
    "    --------\n",
    "    pandas.DataFrame\n",
    "        Enhanced seminar dataframe with demographic data added\n",
    "    \"\"\"\n",
    "    # Create copies to avoid modifying original dataframes\n",
    "    registration_df = df_reg_24_wdemo_data_bva.copy()\n",
    "    seminars_df = seminars_scans_past_enhanced_bva.copy()\n",
    "    \n",
    "    # Rename 'BadgeId' column in registration dataframe to match 'Badge Id' in seminars dataframe\n",
    "    # This makes the merge operation simpler\n",
    "    registration_df = registration_df.rename(columns={'BadgeId': 'Badge Id'})\n",
    "    \n",
    "    # Select only the columns we want to merge from the registration dataframe\n",
    "    # You can adjust this list to include any demographic columns you need\n",
    "    demographic_columns = [\n",
    "        'Badge Id', 'Title', 'Forename', 'Surname', 'Email', 'Company', \n",
    "        'JobTitle', 'Country', 'BadgeType', 'Email_domain'\n",
    "    ]\n",
    "    \n",
    "    # Create a streamlined registration dataframe with only the columns we need\n",
    "    reg_slim = registration_df[demographic_columns]\n",
    "    \n",
    "    # Merge the seminars dataframe with the registration dataframe\n",
    "    # Using left join to keep all seminar records, even if there's no matching badge ID\n",
    "    enhanced_seminars = pd.merge(\n",
    "        seminars_df,\n",
    "        reg_slim,\n",
    "        on='Badge Id',\n",
    "        how='left'\n",
    "    )\n",
    "    \n",
    "    # Print some merge statistics\n",
    "    total_seminars = len(seminars_df)\n",
    "    matched_seminars = enhanced_seminars['Email'].notna().sum()\n",
    "    print(f\"Total seminar records: {total_seminars}\")\n",
    "    print(f\"Records with matching badge IDs: {matched_seminars} ({matched_seminars/total_seminars*100:.2f}%)\")\n",
    "    \n",
    "    return enhanced_seminars\n",
    "\n",
    "# Example usage:\n",
    "# enhanced_seminars_df = add_demographics_to_seminars(df_reg_24_wdemo_data_bva, seminars_scans_past_enhanced_bva)"
   ]
  },
  {
   "cell_type": "code",
   "execution_count": 65,
   "id": "c38b7c0a-b10b-4d95-880a-d9ab0d5aed1c",
   "metadata": {},
   "outputs": [
    {
     "name": "stdout",
     "output_type": "stream",
     "text": [
      "Total seminar records: 11594\n",
      "Records with matching badge IDs: 2996 (25.84%)\n"
     ]
    }
   ],
   "source": [
    "enhanced_seminars_df_bva = add_demographics_to_seminars(df_reg_24_wdemo_data_bva, seminars_scans_past_enhanced_bva)"
   ]
  },
  {
   "cell_type": "code",
   "execution_count": 66,
   "id": "225239d7-19bd-43e6-8c98-3865abb4a094",
   "metadata": {},
   "outputs": [
    {
     "name": "stdout",
     "output_type": "stream",
     "text": [
      "Total seminar records: 40864\n",
      "Records with matching badge IDs: 1290 (3.16%)\n"
     ]
    }
   ],
   "source": [
    "enhanced_seminars_df_lve = add_demographics_to_seminars(df_reg_24_wdemo_data_lva, seminars_scans_past_enhanced_lva)"
   ]
  },
  {
   "cell_type": "code",
   "execution_count": 68,
   "id": "54f9bb6d-6b69-4ee7-9b79-32ddd82ddb7a",
   "metadata": {},
   "outputs": [],
   "source": [
    "enhanced_seminars_df_bva.to_csv(\"data/bva/output/sessions_visited_last_bva.csv\", index=False)\n",
    "enhanced_seminars_df_lve.to_csv(\"data/bva/output/sessions_visited_last_lve.csv\", index=False)"
   ]
  },
  {
   "cell_type": "code",
   "execution_count": null,
   "id": "e25a18e3-40e2-4340-b52a-9c972e17105f",
   "metadata": {},
   "outputs": [],
   "source": []
  },
  {
   "cell_type": "code",
   "execution_count": null,
   "id": "18d02b98-27db-45ef-92b4-29bec6d08e3b",
   "metadata": {},
   "outputs": [],
   "source": []
  }
 ],
 "metadata": {
  "kernelspec": {
   "display_name": "Python 3 (ipykernel)",
   "language": "python",
   "name": "python3"
  },
  "language_info": {
   "codemirror_mode": {
    "name": "ipython",
    "version": 3
   },
   "file_extension": ".py",
   "mimetype": "text/x-python",
   "name": "python",
   "nbconvert_exporter": "python",
   "pygments_lexer": "ipython3",
   "version": "3.11.10"
  }
 },
 "nbformat": 4,
 "nbformat_minor": 5
}
