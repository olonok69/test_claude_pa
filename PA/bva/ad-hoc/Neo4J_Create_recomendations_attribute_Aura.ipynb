{
 "cells": [
  {
   "cell_type": "markdown",
   "id": "dc527cab-e8e6-4ebb-882d-8f4f97731889",
   "metadata": {},
   "source": [
    "## Has_recommendations relationship\n",
    "This Notebook Run only 1 time to create the attribute has_recommendation relationship from Visitor_this_year to Session_this_year \n"
   ]
  },
  {
   "cell_type": "code",
   "execution_count": null,
   "id": "58e0b1d2-9ad4-4125-90dd-fb6537d3f1d4",
   "metadata": {},
   "outputs": [],
   "source": [
    "from neo4j import GraphDatabase\n",
    "import csv\n",
    "import pandas as pd"
   ]
  },
  {
   "cell_type": "code",
   "execution_count": null,
   "id": "0c5a745b-5ce8-4d45-b329-a7b11e5bc2ed",
   "metadata": {},
   "outputs": [],
   "source": [
    "recommendations_df = pd.read_csv(\n",
    "    \"data/bva/recomendations/20240515 BVA Personalised Sessions - Third Run.csv\"\n",
    ")\n",
    "recommendations_df.head(2)"
   ]
  },
  {
   "cell_type": "code",
   "execution_count": null,
   "id": "35aae5b9-d20b-4201-ae59-038dccf0a2cd",
   "metadata": {},
   "outputs": [],
   "source": [
    "recommendations_df.columns"
   ]
  },
  {
   "cell_type": "code",
   "execution_count": null,
   "id": "27921a78-59d9-4e3c-a332-615f7e82f1d1",
   "metadata": {},
   "outputs": [],
   "source": [
    "def create_recommendations_optimized(driver, recommendations_df):\n",
    "    \"\"\"\n",
    "    Optimized version that minimizes database queries.\n",
    "    \"\"\"\n",
    "\n",
    "    # Prepare data for bulk operations\n",
    "    unique_badge_ids = list(recommendations_df[\"badgeid\"].unique())\n",
    "    recommendations_data = recommendations_df[[\"badgeid\", \"session_id\"]].to_dict(\n",
    "        \"records\"\n",
    "    )\n",
    "\n",
    "    with driver.session() as session:\n",
    "        # Single query to update all visitors and create relationships\n",
    "        result = session.run(\n",
    "            \"\"\"\n",
    "            // First, set all visitors to has_recommendation = 0\n",
    "            MATCH (v:Visitor_this_year)\n",
    "            SET v.has_recommendation = 0\n",
    "            \n",
    "            WITH 1 as dummy\n",
    "            \n",
    "            // Set has_recommendation = 1 for visitors with recommendations\n",
    "            MATCH (v:Visitor_this_year)\n",
    "            WHERE v.BadgeId IN $badge_ids\n",
    "            SET v.has_recommendation = 1\n",
    "            \n",
    "            WITH 1 as dummy\n",
    "            \n",
    "            // Create all relationships\n",
    "            UNWIND $recommendations AS rec\n",
    "            MATCH (v:Visitor_this_year {BadgeId: rec.badgeid})\n",
    "            MATCH (s:Sessions_this_year {session_id: rec.session_id})\n",
    "            MERGE (v)-[:IS_RECOMMENDED]->(s)\n",
    "            \n",
    "            RETURN COUNT(DISTINCT v) as visitors_updated, COUNT(*) as relationships_created\n",
    "        \"\"\",\n",
    "            badge_ids=unique_badge_ids,\n",
    "            recommendations=recommendations_data,\n",
    "        )\n",
    "\n",
    "        stats = result.single()\n",
    "        print(f\"Updated {stats['visitors_updated']} visitors\")\n",
    "        print(f\"Created {stats['relationships_created']} relationships\")\n",
    "\n",
    "\n",
    "# To verify the results, you can run:\n",
    "def verify_recommendations(driver):\n",
    "    \"\"\"\n",
    "    Verify the recommendation updates.\n",
    "    \"\"\"\n",
    "    with driver.session() as session:\n",
    "        result = session.run(\n",
    "            \"\"\"\n",
    "            MATCH (v:Visitor_this_year)\n",
    "            RETURN \n",
    "                SUM(v.has_recommendation) as visitors_with_recommendations,\n",
    "                COUNT(v) as total_visitors\n",
    "        \"\"\"\n",
    "        )\n",
    "\n",
    "        stats = result.single()\n",
    "        print(\n",
    "            f\"Visitors with recommendations: {stats['visitors_with_recommendations']}\"\n",
    "        )\n",
    "        print(f\"Total visitors: {stats['total_visitors']}\")\n",
    "\n",
    "        result = session.run(\n",
    "            \"\"\"\n",
    "            MATCH ()-[r:IS_RECOMMENDED]->()\n",
    "            RETURN COUNT(r) as total_recommendations\n",
    "        \"\"\"\n",
    "        )\n",
    "\n",
    "        stats = result.single()\n",
    "        print(f\"Total IS_RECOMMENDED relationships: {stats['total_recommendations']}\")"
   ]
  },
  {
   "cell_type": "code",
   "execution_count": null,
   "id": "8ed62a89-2d62-40d5-aa96-46509ceac1ff",
   "metadata": {},
   "outputs": [],
   "source": [
    "uri = \"neo4j+s://c6cfaac8.databases.neo4j.io\"\n",
    "user = \"neo4j\"\n",
    "password = \"\"  # Replace with your password."
   ]
  },
  {
   "cell_type": "code",
   "execution_count": null,
   "id": "aa26a1de-46e5-4dff-a4fb-b74ceed2641e",
   "metadata": {},
   "outputs": [],
   "source": [
    "driver = GraphDatabase.driver(uri, auth=(user, password))"
   ]
  },
  {
   "cell_type": "code",
   "execution_count": null,
   "id": "50068f69-ab7b-4e31-82e5-f024e6d46b69",
   "metadata": {},
   "outputs": [],
   "source": [
    "# Create indexes for better performance (run once)\n",
    "with driver.session() as session:\n",
    "    session.run(\"CREATE INDEX IF NOT EXISTS FOR (v:Visitor_this_year) ON (v.BadgeId)\")\n",
    "    session.run(\n",
    "        \"CREATE INDEX IF NOT EXISTS FOR (s:Sessions_this_year) ON (s.session_id)\"\n",
    "    )"
   ]
  },
  {
   "cell_type": "code",
   "execution_count": null,
   "id": "024f27cc-7db8-4083-9af0-b31b6bd6335d",
   "metadata": {},
   "outputs": [],
   "source": [
    "def create_recommendations_with_apoc(driver, recommendations_df):\n",
    "    \"\"\"\n",
    "    Fixed implementation using APOC procedures with proper type conversion.\n",
    "    \"\"\"\n",
    "\n",
    "    # Ensure session_id is integer in the dataframe\n",
    "    recommendations_df[\"session_id\"] = recommendations_df[\"session_id\"].astype(str)\n",
    "\n",
    "    unique_badge_ids = list(recommendations_df[\"badgeid\"].unique())\n",
    "    recommendations_list = recommendations_df[[\"badgeid\", \"session_id\"]].to_dict(\n",
    "        \"records\"\n",
    "    )\n",
    "\n",
    "    with driver.session() as session:\n",
    "        # Reset all visitors\n",
    "        session.run(\n",
    "            \"\"\"\n",
    "            MATCH (v:Visitor_this_year)\n",
    "            SET v.has_recommendation = 0\n",
    "        \"\"\"\n",
    "        )\n",
    "\n",
    "        # Update visitors with recommendations\n",
    "        session.run(\n",
    "            \"\"\"\n",
    "            CALL apoc.periodic.iterate(\n",
    "                'UNWIND $badge_ids AS badge_id RETURN badge_id',\n",
    "                'MATCH (v:Visitor_this_year {BadgeId: badge_id}) SET v.has_recommendation = 1',\n",
    "                {batchSize: 10000, params: {badge_ids: $badge_ids}}\n",
    "            )\n",
    "        \"\"\",\n",
    "            badge_ids=unique_badge_ids,\n",
    "        )\n",
    "\n",
    "        # Create relationships with type conversion in Cypher\n",
    "        session.run(\n",
    "            \"\"\"\n",
    "            CALL apoc.periodic.iterate(\n",
    "                'UNWIND $recommendations AS rec RETURN rec',\n",
    "                'MATCH (v:Visitor_this_year {BadgeId: rec.badgeid})\n",
    "                 MATCH (s:Sessions_this_year {session_id: rec.session_id})\n",
    "                 CREATE (v)-[:IS_RECOMMENDED]->(s)',\n",
    "                {batchSize: 10000, params: {recommendations: $recommendations}}\n",
    "            )\n",
    "        \"\"\",\n",
    "            recommendations=recommendations_list,\n",
    "        )"
   ]
  },
  {
   "cell_type": "code",
   "execution_count": null,
   "id": "81fe0c8c-fab3-4d63-af18-47a8d96b7d76",
   "metadata": {},
   "outputs": [],
   "source": [
    "# Create Recomendations\n",
    "create_recommendations_with_apoc(driver, recommendations_df)"
   ]
  },
  {
   "cell_type": "code",
   "execution_count": null,
   "id": "c29c3b6e-2f41-4c30-9827-9df135e24e88",
   "metadata": {},
   "outputs": [],
   "source": [
    " recommendations_data = recommendations_df[['badgeid', 'session_id']].to_dict('records')"
   ]
  },
  {
   "cell_type": "code",
   "execution_count": null,
   "id": "08df0855-67ec-4a91-a956-b3b6c36f268d",
   "metadata": {},
   "outputs": [],
   "source": [
    "recommendations_data[0]"
   ]
  }
 ],
 "metadata": {
  "kernelspec": {
   "display_name": "Python 3 (ipykernel)",
   "language": "python",
   "name": "python3"
  },
  "language_info": {
   "codemirror_mode": {
    "name": "ipython",
    "version": 3
   },
   "file_extension": ".py",
   "mimetype": "text/x-python",
   "name": "python",
   "nbconvert_exporter": "python",
   "pygments_lexer": "ipython3",
   "version": "3.11.11"
  }
 },
 "nbformat": 4,
 "nbformat_minor": 5
}
