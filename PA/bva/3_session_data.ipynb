{
 "cells": [
  {
   "cell_type": "markdown",
   "id": "f28be04b-bcd7-432a-b601-ca04a8ec6a2d",
   "metadata": {},
   "source": [
    "# This Notebook prepare session Data BVA this past year and LVA past year\n",
    "\n",
    "### Needed Files\n",
    "\n",
    "- BVA25_session_export.csv # This refreshed every week\n",
    "- BVA24_session_export.csv\n",
    "- LVA24_session_export.csv "
   ]
  },
  {
   "cell_type": "code",
   "execution_count": null,
   "id": "b4952a60-b749-4915-99e8-34aa7d521bcc",
   "metadata": {},
   "outputs": [],
   "source": [
    "import pandas as pd\n",
    "from pandas.errors import SettingWithCopyWarning\n",
    "import logging\n",
    "import warnings\n",
    "from dotenv import load_dotenv\n",
    "from dotenv import dotenv_values\n",
    "from langchain_openai import ChatOpenAI\n",
    "from langchain_core.prompts import PromptTemplate\n",
    "\n",
    "warnings.simplefilter(action=\"ignore\", category=(SettingWithCopyWarning))"
   ]
  },
  {
   "cell_type": "code",
   "execution_count": null,
   "id": "28f12ef0-9a26-461f-a36b-f3fa81100a14",
   "metadata": {},
   "outputs": [],
   "source": [
    "session_this_path = \"data/bva/BVA25_session_export.csv\"\n",
    "session_past_path_bva = \"data/bva/BVA24_session_export.csv\"\n",
    "session_past_path_lva = \"data/bva/LVA24_session_export.csv\""
   ]
  },
  {
   "cell_type": "code",
   "execution_count": null,
   "id": "f2893f8f-9cd4-4390-a4c5-0f5f9b33cb17",
   "metadata": {},
   "outputs": [],
   "source": [
    "session_this = pd.read_csv(session_this_path)\n",
    "session_past_bva = pd.read_csv(session_past_path_bva)\n",
    "session_past_lva = pd.read_csv(session_past_path_lva)"
   ]
  },
  {
   "cell_type": "code",
   "execution_count": null,
   "id": "ea10dad4-9322-495f-9cc6-bf7bcd12780c",
   "metadata": {},
   "outputs": [],
   "source": [
    "len(session_this), len(session_past_bva), len(session_past_lva)"
   ]
  },
  {
   "cell_type": "code",
   "execution_count": null,
   "id": "484b1a80-d999-45d7-a829-9edb7b79e7b2",
   "metadata": {},
   "outputs": [],
   "source": [
    "import string\n",
    "\n",
    "\n",
    "def clean_text(text):\n",
    "    # Remove punctuation and spaces, and convert to lowercase\n",
    "    return \"\".join(char for char in text if char.isalnum()).lower()"
   ]
  },
  {
   "cell_type": "code",
   "execution_count": null,
   "id": "2d65c70a-ec64-4ce9-819c-76a50a12b8e3",
   "metadata": {},
   "outputs": [],
   "source": [
    "session_this.title.unique()"
   ]
  },
  {
   "cell_type": "code",
   "execution_count": null,
   "id": "11626951-7f8b-437f-9320-9ae15ee09848",
   "metadata": {},
   "outputs": [],
   "source": [
    "title_remove1 = \"exhibitor showcase\"\n",
    "title_remove2 = \"tbc session\"\n",
    "title_remove3 = \"-\"\n",
    "titles_to_remove = [title_remove1, title_remove2, title_remove3]"
   ]
  },
  {
   "cell_type": "code",
   "execution_count": null,
   "id": "a7d0077b-9624-435f-8837-c80c53ef6115",
   "metadata": {},
   "outputs": [],
   "source": [
    "for title in titles_to_remove:\n",
    "    session_this_filtered = session_this[\n",
    "        ~(session_this[\"title\"].str.contains(title, case=False, na=False))\n",
    "    ]\n",
    "\n",
    "    session_last_filtered_bva = session_past_bva[\n",
    "        ~(session_past_bva[\"title\"].str.contains(title, case=False, na=False))\n",
    "    ]\n",
    "    session_last_filtered_lva = session_past_lva[\n",
    "        ~(session_past_lva[\"title\"].str.contains(title, case=False, na=False))\n",
    "    ]"
   ]
  },
  {
   "cell_type": "code",
   "execution_count": null,
   "id": "d002eb0d-6154-4604-a163-f1844a258775",
   "metadata": {},
   "outputs": [],
   "source": [
    "len(session_this_filtered), len(session_last_filtered_bva), len(\n",
    "    session_last_filtered_lva\n",
    ")  # 16042025 (88, 208, 701)"
   ]
  },
  {
   "cell_type": "markdown",
   "id": "815c1af8-05b4-4201-8d10-03179b2d07aa",
   "metadata": {},
   "source": [
    "# create key to join scan data"
   ]
  },
  {
   "cell_type": "code",
   "execution_count": null,
   "id": "cbe10b21-3411-48a4-be90-68dbc2adbb77",
   "metadata": {},
   "outputs": [],
   "source": [
    "session_this_filtered[\"key_text\"] = session_this_filtered[\"title\"].apply(clean_text)\n",
    "session_last_filtered_bva[\"key_text\"] = session_last_filtered_bva[\"title\"].apply(\n",
    "    clean_text\n",
    ")\n",
    "session_last_filtered_lva[\"key_text\"] = session_last_filtered_lva[\"title\"].apply(\n",
    "    clean_text\n",
    ")"
   ]
  },
  {
   "cell_type": "code",
   "execution_count": null,
   "id": "0d3e4f0f-5d03-4707-a861-00e8d3091a93",
   "metadata": {},
   "outputs": [],
   "source": [
    "session_this_filtered = session_this_filtered.drop_duplicates(\n",
    "    subset=[\"date\", \"key_text\"]\n",
    ")\n",
    "session_last_filtered_bva = session_last_filtered_bva.drop_duplicates(\n",
    "    subset=[\"date\", \"key_text\"]\n",
    ")\n",
    "session_last_filtered_lva = session_last_filtered_lva.drop_duplicates(\n",
    "    subset=[\"date\", \"key_text\"]\n",
    ")\n",
    "len(session_this_filtered), len(session_last_filtered_bva), len(\n",
    "    session_last_filtered_lva\n",
    ")"
   ]
  },
  {
   "cell_type": "code",
   "execution_count": null,
   "id": "9952c558-a4c6-4c41-ac67-26066f3e7285",
   "metadata": {},
   "outputs": [],
   "source": [
    "session_this_filtered.columns"
   ]
  },
  {
   "cell_type": "code",
   "execution_count": null,
   "id": "8e70a233-8846-4fc2-8818-c9a63bf21192",
   "metadata": {},
   "outputs": [],
   "source": [
    "cols_to_keep = [\n",
    "    \"session_id\",\n",
    "    \"date\",\n",
    "    \"start_time\",\n",
    "    \"end_time\",\n",
    "    \"theatre__name\",\n",
    "    \"title\",\n",
    "    \"stream\",\n",
    "    \"synopsis_stripped\",\n",
    "    \"sponsored_session\",\n",
    "    \"sponsored_by\",\n",
    "    \"key_text\",\n",
    "]"
   ]
  },
  {
   "cell_type": "code",
   "execution_count": null,
   "id": "c83f61a6-581a-4148-a1df-622bf72548d1",
   "metadata": {},
   "outputs": [],
   "source": [
    "session_last_filtered_valid_cols_bva = session_last_filtered_bva[cols_to_keep]\n",
    "session_last_filtered_valid_cols_lva = session_last_filtered_lva[cols_to_keep]\n",
    "session_this_filtered_valid_cols = session_this_filtered[cols_to_keep]"
   ]
  },
  {
   "cell_type": "code",
   "execution_count": null,
   "id": "37949464-53f2-4ebb-92d7-0a9ba6a6b4a0",
   "metadata": {},
   "outputs": [],
   "source": [
    "session_last_filtered_valid_cols_bva = session_last_filtered_valid_cols_bva.fillna(\n",
    "    \"No Data\"\n",
    ")\n",
    "session_last_filtered_valid_cols_lva = session_last_filtered_valid_cols_lva.fillna(\n",
    "    \"No Data\"\n",
    ")\n",
    "session_this_filtered_valid_cols = session_this_filtered_valid_cols.fillna(\"No Data\")"
   ]
  },
  {
   "cell_type": "code",
   "execution_count": null,
   "id": "3fbb4c24-e397-43e1-b4f5-ae43fa3b734c",
   "metadata": {},
   "outputs": [],
   "source": [
    "session_this_filtered_valid_cols = session_this_filtered_valid_cols[\n",
    "    ~(session_this_filtered_valid_cols.title == \"-\")\n",
    "]\n",
    "session_last_filtered_valid_cols_bva = session_last_filtered_valid_cols_bva[\n",
    "    ~(session_last_filtered_valid_cols_bva.title == \"-\")\n",
    "]\n",
    "session_last_filtered_valid_cols_lva = session_last_filtered_valid_cols_lva[\n",
    "    ~(session_last_filtered_valid_cols_lva.title == \"-\")\n",
    "]"
   ]
  },
  {
   "cell_type": "code",
   "execution_count": null,
   "id": "46df5b30-4b40-46b1-b367-f7001fae3119",
   "metadata": {},
   "outputs": [],
   "source": [
    "len(session_this_filtered_valid_cols), len(session_last_filtered_valid_cols_bva), len(\n",
    "    session_last_filtered_valid_cols_lva\n",
    ")"
   ]
  },
  {
   "cell_type": "code",
   "execution_count": null,
   "id": "5cdfbf6c-8763-4e3a-aaf8-ef99632f804a",
   "metadata": {},
   "outputs": [],
   "source": [
    "total_sessions = pd.concat(\n",
    "    [\n",
    "        session_last_filtered_valid_cols_bva,\n",
    "        session_last_filtered_valid_cols_lva,\n",
    "        session_this_filtered_valid_cols,\n",
    "    ],\n",
    "    ignore_index=True,\n",
    ")\n",
    "len(total_sessions)"
   ]
  },
  {
   "cell_type": "code",
   "execution_count": null,
   "id": "41b35a64-fa11-4d38-9832-31f677cc9d5e",
   "metadata": {},
   "outputs": [],
   "source": [
    "# session_last_filtered_valid_cols.title.unique()"
   ]
  },
  {
   "cell_type": "markdown",
   "id": "9be93b0e-42f0-4e33-90dd-cb56047db6e7",
   "metadata": {},
   "source": [
    "# Generate list of Valid Streams"
   ]
  },
  {
   "cell_type": "code",
   "execution_count": null,
   "id": "516b7f57-c229-4c17-adcb-f6055fd174dc",
   "metadata": {},
   "outputs": [],
   "source": [
    "list_stream_this = list(session_this_filtered_valid_cols.stream.unique())\n",
    "list_stream_last_bva = list(session_last_filtered_valid_cols_bva.stream.unique())\n",
    "list_stream_last_lva = list(session_last_filtered_valid_cols_lva.stream.unique())"
   ]
  },
  {
   "cell_type": "code",
   "execution_count": null,
   "id": "869cd3d0-8e46-43e6-8d76-11228bc34130",
   "metadata": {},
   "outputs": [],
   "source": [
    "list_stream_last_lva"
   ]
  },
  {
   "cell_type": "code",
   "execution_count": null,
   "id": "818338c9-1d6e-4ea0-ac8a-d0ecd695a0ea",
   "metadata": {},
   "outputs": [],
   "source": [
    "streams = set()\n",
    "\n",
    "\n",
    "def generate_streams(streams, list_streams):\n",
    "    for ele in list_streams:\n",
    "        for sub_ele in ele.split(\";\"):\n",
    "            stream = sub_ele.lower().strip()\n",
    "            streams.add(stream)\n",
    "    return streams"
   ]
  },
  {
   "cell_type": "code",
   "execution_count": null,
   "id": "fac0c53e-2177-4cdf-9424-45a4a8834e5c",
   "metadata": {},
   "outputs": [],
   "source": [
    "streams = generate_streams(streams, list_stream_this)\n",
    "streams = generate_streams(streams, list_stream_last_bva)\n",
    "streams = generate_streams(streams, list_stream_last_lva)"
   ]
  },
  {
   "cell_type": "code",
   "execution_count": null,
   "id": "dfdb37b9-6e0f-44e6-bbf0-8ce300156849",
   "metadata": {},
   "outputs": [],
   "source": [
    "streams"
   ]
  },
  {
   "cell_type": "markdown",
   "id": "fcf1cdf5-4ad8-418e-b67d-f9d7715bdffe",
   "metadata": {},
   "source": [
    "### Create a dictionary with the name of the stream as key and as value the concatenation of (title and synopsis_stripped) events tagged with that key(stream)"
   ]
  },
  {
   "cell_type": "code",
   "execution_count": null,
   "id": "965ab10e-1add-4621-81f2-81b6e66b80cb",
   "metadata": {},
   "outputs": [],
   "source": [
    "def generate_stream_descriptions(df, streams):\n",
    "    # Remove 'no data' from streams set if present\n",
    "    if \"no data\" in streams:\n",
    "        streams.remove(\"no data\")\n",
    "\n",
    "    # Initialize the dictionary to hold descriptions for each stream\n",
    "    stream_descriptions = {stream: \"\" for stream in streams}\n",
    "\n",
    "    # Iterate over each row in the dataframe\n",
    "    for _, row in df.iterrows():\n",
    "        # Split the stream column for current row and process each sub-stream\n",
    "        session_streams = [s.lower().strip() for s in row[\"stream\"].split(\";\")]\n",
    "\n",
    "        # Remove duplicates while preserving order\n",
    "        unique_streams = []\n",
    "        [unique_streams.append(s) for s in session_streams if s not in unique_streams]\n",
    "        # Concatenate title and synopsis_stripped\n",
    "        session_description = (\n",
    "            f\"Title: {row['title']}.\\nDescription: {row['synopsis_stripped']} \\n\\n \"\n",
    "        )\n",
    "\n",
    "        # Add session description to relevant streams\n",
    "        for stream in unique_streams:\n",
    "            if stream in stream_descriptions:\n",
    "                stream_descriptions[stream] += session_description\n",
    "\n",
    "    return stream_descriptions\n",
    "\n",
    "\n",
    "# Example usage:\n",
    "# df is your dataframe and streams is the set you've generated\n",
    "stream_descriptions_last = generate_stream_descriptions(total_sessions, streams)"
   ]
  },
  {
   "cell_type": "code",
   "execution_count": null,
   "id": "4432e00c-6965-44ff-afde-fad11e955cfa",
   "metadata": {},
   "outputs": [],
   "source": [
    "print(stream_descriptions_last[\"anaesthesia\"])"
   ]
  },
  {
   "cell_type": "code",
   "execution_count": null,
   "id": "ca39eace-5ec4-4d6e-9b41-e94f4c97d428",
   "metadata": {},
   "outputs": [],
   "source": [
    "status = load_dotenv(\".env\")\n",
    "config = dotenv_values(\".env\")"
   ]
  },
  {
   "cell_type": "code",
   "execution_count": null,
   "id": "c1384e8b-849d-42bb-8b70-9c824a5fbe90",
   "metadata": {},
   "outputs": [],
   "source": [
    "config[\"OPENAI_API_KEY\"]"
   ]
  },
  {
   "cell_type": "code",
   "execution_count": null,
   "id": "8c9a55f2-48ff-4bf8-916f-278f203abfb7",
   "metadata": {},
   "outputs": [],
   "source": [
    "llm = ChatOpenAI(\n",
    "    model=\"gpt-4.1-mini\",\n",
    "    openai_api_key=config[\"OPENAI_API_KEY\"],\n",
    "    temperature=0.5,\n",
    "    top_p=0.9,\n",
    ")"
   ]
  },
  {
   "cell_type": "code",
   "execution_count": null,
   "id": "644582f0-a3b7-4fe7-b3c0-038e43783c4e",
   "metadata": {},
   "outputs": [],
   "source": [
    "def generate_prompt():\n",
    "    \"\"\"Generate a prompt for getting Visitor Classification\"\"\"\n",
    "    system_prompt = \"\"\"\n",
    "    you are an assistant specialized in create a definition from a given category label. You will receive the title and sinopsip of diferent session of an event under that category\n",
    "    and based on that information you will prepare a description of the category label\n",
    "    \n",
    "    \"\"\"\n",
    "\n",
    "    return system_prompt"
   ]
  },
  {
   "cell_type": "code",
   "execution_count": null,
   "id": "3bc43b95-ae5f-409c-9528-4d64754d4157",
   "metadata": {},
   "outputs": [],
   "source": [
    "system_prompt = generate_prompt()\n",
    "system_prompt"
   ]
  },
  {
   "cell_type": "code",
   "execution_count": null,
   "id": "0ffb4b7e-07ea-4881-8dd9-ee34c732d466",
   "metadata": {},
   "outputs": [],
   "source": [
    "prompt = PromptTemplate(\n",
    "    input_variables=[\"key \", \"text\"],\n",
    "    template=system_prompt\n",
    "    + \"\"\"Produce a description of the category: {key} based on the title and descriptions of the folowing session events {text}.\\n Produce a description in 3 or 4 sentences of that category\"\"\",\n",
    ")"
   ]
  },
  {
   "cell_type": "code",
   "execution_count": null,
   "id": "320a6221-2fb5-4b4f-ac43-f395e96e2692",
   "metadata": {},
   "outputs": [],
   "source": [
    "chain = prompt | llm\n",
    "print(f\"length of profile: {len(prompt.template)}\")"
   ]
  },
  {
   "cell_type": "code",
   "execution_count": null,
   "id": "4a290c82-a52e-4907-84f4-65f3b5998996",
   "metadata": {},
   "outputs": [],
   "source": [
    "def generate_description(llm, key, text, system_prompt):\n",
    "    prompt = PromptTemplate(\n",
    "        input_variables=[\"key \", \"text\"],\n",
    "        template=system_prompt\n",
    "        + \"\"\"Produce a description of the category: {key} based on the title and descriptions of the folowing session events {text}.\\n Produce a description in 3 or 4 sentences of that category\"\"\",\n",
    "    )\n",
    "    chain = prompt | llm\n",
    "    ai_msg = chain.invoke({\"key\": key, \"text\": text})\n",
    "    return ai_msg.content"
   ]
  },
  {
   "cell_type": "code",
   "execution_count": null,
   "id": "94f056a6-cd5b-4746-baf8-570aa3fa26a0",
   "metadata": {},
   "outputs": [],
   "source": [
    "generate_description(\n",
    "    llm=llm,\n",
    "    key=\"anaesthesia\",\n",
    "    text=stream_descriptions_last[\"anaesthesia\"],\n",
    "    system_prompt=system_prompt,\n",
    ")"
   ]
  },
  {
   "cell_type": "code",
   "execution_count": null,
   "id": "34a3d469-d95d-45a9-b056-7d9932e6f83c",
   "metadata": {},
   "outputs": [],
   "source": [
    "streams = {}\n",
    "for stream in stream_descriptions_last.keys():\n",
    "    print(stream)\n",
    "    streams[stream] = generate_description(\n",
    "        llm=llm,\n",
    "        key=stream,\n",
    "        text=stream_descriptions_last[stream],\n",
    "        system_prompt=system_prompt,\n",
    "    )"
   ]
  },
  {
   "cell_type": "code",
   "execution_count": null,
   "id": "32b2b29d-7a37-42b2-8ce2-7f123de6302a",
   "metadata": {},
   "outputs": [],
   "source": [
    "for s in streams.keys():\n",
    "\n",
    "    print(f\"{s} \" + \"*\" * 25)\n",
    "    print(streams[s])"
   ]
  },
  {
   "cell_type": "code",
   "execution_count": null,
   "id": "547ea0b8-f91c-4944-9069-3cdca4e947e9",
   "metadata": {},
   "outputs": [],
   "source": [
    "import json\n",
    "\n",
    "\n",
    "# # Convert the set to a list\n",
    "# streams.discard(\"no data\")\n",
    "# streams_list = list(streams)\n",
    "\n",
    "# Save the list to a JSON file\n",
    "with open(\"data/bva/output/streams.json\", \"w\") as json_file:\n",
    "    json.dump(streams, json_file)"
   ]
  },
  {
   "cell_type": "code",
   "execution_count": null,
   "id": "c1cecb7e-a0da-4e8c-ae78-fe4aa95cdd49",
   "metadata": {},
   "outputs": [],
   "source": [
    "session_last_filtered_valid_cols_bva.head()"
   ]
  },
  {
   "cell_type": "markdown",
   "id": "a696ca5a-42e7-4808-8bd1-86a1805470db",
   "metadata": {},
   "source": [
    "# Map abreviatures to dictionaries\n",
    "\n",
    "transform the Abreviatures of the Sponsors into their descriptions"
   ]
  },
  {
   "cell_type": "code",
   "execution_count": null,
   "id": "f4634ffe-e89e-47ad-8f69-083945495788",
   "metadata": {},
   "outputs": [],
   "source": [
    "def find_short_labels(input_set):\n",
    "    \"\"\"\n",
    "    Finds a list of labels in a set that have 5 characters or less.\n",
    "\n",
    "    Args:\n",
    "      input_set: A set of strings (labels).\n",
    "\n",
    "    Returns:\n",
    "      A list containing the labels from the input set with a length of 5 or less.\n",
    "    \"\"\"\n",
    "    short_labels = [\n",
    "        label for label in input_set if isinstance(label, str) and len(label) <= 5\n",
    "    ]\n",
    "    return short_labels"
   ]
  },
  {
   "cell_type": "code",
   "execution_count": null,
   "id": "6b77f3bb-f5ad-4f9c-a4eb-1766d5f43d3d",
   "metadata": {},
   "outputs": [],
   "source": [
    "list_bva_this = set(list(session_this_filtered_valid_cols.sponsored_by.unique()))\n",
    "list_lva_last = set(list(session_last_filtered_valid_cols_lva.sponsored_by.unique()))\n",
    "list_bva_last = set(list(session_last_filtered_valid_cols_bva.sponsored_by.unique()))"
   ]
  },
  {
   "cell_type": "code",
   "execution_count": null,
   "id": "2ced2502-0bba-4431-9312-a494df830b44",
   "metadata": {},
   "outputs": [],
   "source": [
    "full_list_sponsors = list_bva_this.union(list_lva_last, list_bva_last)"
   ]
  },
  {
   "cell_type": "code",
   "execution_count": null,
   "id": "1a4dded4-c76d-4d01-811c-08674e3ba3d3",
   "metadata": {},
   "outputs": [],
   "source": [
    "# full_list_sponsors"
   ]
  },
  {
   "cell_type": "code",
   "execution_count": null,
   "id": "e59c8806-96e7-455b-bb40-199968e551f6",
   "metadata": {},
   "outputs": [],
   "source": [
    "list_abreviatures = set(find_short_labels(full_list_sponsors))"
   ]
  },
  {
   "cell_type": "code",
   "execution_count": null,
   "id": "74035da2-689a-4b78-a84c-05ee8d400e9f",
   "metadata": {},
   "outputs": [],
   "source": [
    "# Enrich this dictionary if new abreviatures appears\n",
    "map_vets = {\n",
    "    \"RCVS\": \"Royal College of Veterinary Surgeons\",\n",
    "    \"VPG\": \"Veterinary Pathology Group\",\n",
    "    \"IDEXX\": \"IDEXX Laboratories\",\n",
    "    \"VCMS\": \"Veterinary Client Mediation Service\",\n",
    "    \"NVS\": \"National Veterinary Services\",\n",
    "    \"ACD\": \"ACD Labs\",\n",
    "    \"VMD\": \"The Veterinary Medicines Directorate\",\n",
    "    \"TVM\": \"TVM Uk\",\n",
    "    \"IVAMP\": \"International Veterinary Academy of Pain Management\",\n",
    "    \"JAK\": \"JAK Marketing\",\n",
    "    \"DMS\": \"DMS Veterinary\",\n",
    "    \"VRS\": \"Veterinarian Recommended Solutions\",\n",
    "    \"No Data\": \"Not Sponsored\",\n",
    "    \"BVZS\": \"British Veterinary Zoological Society\",\n",
    "    \"BSAVA\": \"British Small Animal Veterinary Association\",\n",
    "    \"BCVA\": \"Bristol Commercial Valuers and Auctioneers\",\n",
    "    \"PVS\": \"Pig Veterinary Society\",\n",
    "    \"BVPA\": \"British Veterinary Poultry Association\",\n",
    "    \"BBVA\": \"British Bee Veterinary Association\",\n",
    "    \"BVCS\": \"Bachelor of Veterinary Science\",\n",
    "    \"BVDA\": \"British Veterinary Dental Association\",\n",
    "    \"DEFRA\": \"Department for Environment, Food & Rural Affairs\",\n",
    "    \"Agria\": \"Agria Pet Insurance Limited\",\n",
    "    \"Cubex\": \"Veterinary Practice Software\",\n",
    "    \"Forte\": \"Forte Healthcare Ltd\",\n",
    "    \"Lupa\": \"LUPA PETS LTD\",\n",
    "    \"iM3\": \" iM3 The Global Name in Veterinary Dentistry\",\n",
    "    \"Omni\": \"Omni Pet Limited\",\n",
    "}"
   ]
  },
  {
   "cell_type": "code",
   "execution_count": null,
   "id": "8b120527-c477-458a-9134-3aa7cebd423a",
   "metadata": {},
   "outputs": [],
   "source": [
    "map_keys = set(list(map_vets.keys()))"
   ]
  },
  {
   "cell_type": "code",
   "execution_count": null,
   "id": "3173505d-1000-45a4-8199-780e14efe83c",
   "metadata": {},
   "outputs": [],
   "source": [
    "list_abreviatures.difference(map_keys)"
   ]
  },
  {
   "cell_type": "code",
   "execution_count": null,
   "id": "06e63f30-8f86-421e-ba6b-83ca71656767",
   "metadata": {},
   "outputs": [],
   "source": [
    "session_last_filtered_valid_cols_lva[\"sponsored_by\"] = (\n",
    "    session_last_filtered_valid_cols_lva[\"sponsored_by\"].replace(map_vets)\n",
    ")\n",
    "session_last_filtered_valid_cols_bva[\"sponsored_by\"] = (\n",
    "    session_last_filtered_valid_cols_bva[\"sponsored_by\"].replace(map_vets)\n",
    ")\n",
    "session_this_filtered_valid_cols[\"sponsored_by\"] = session_this_filtered_valid_cols[\n",
    "    \"sponsored_by\"\n",
    "].replace(map_vets)"
   ]
  },
  {
   "cell_type": "code",
   "execution_count": null,
   "id": "bdb59742-58fd-4f02-8254-879a7aff586f",
   "metadata": {},
   "outputs": [],
   "source": [
    "session_this_filtered_valid_cols.sponsored_by.unique()"
   ]
  },
  {
   "cell_type": "code",
   "execution_count": null,
   "id": "8912621c-8192-4024-88d1-405163d3a939",
   "metadata": {},
   "outputs": [],
   "source": [
    "session_last_filtered_valid_cols_bva.to_csv(\n",
    "    \"data/bva/output/session_last_filtered_valid_cols_bva.csv\", index=False\n",
    ")\n",
    "session_last_filtered_valid_cols_lva.to_csv(\n",
    "    \"data/bva/output/session_last_filtered_valid_cols_lva.csv\", index=False\n",
    ")\n",
    "session_this_filtered_valid_cols.to_csv(\n",
    "    \"data/bva/output/session_this_filtered_valid_cols.csv\", index=False\n",
    ")"
   ]
  },
  {
   "cell_type": "code",
   "execution_count": null,
   "id": "a8a7dad8-f580-41a8-846a-97673b0b148b",
   "metadata": {},
   "outputs": [],
   "source": []
  }
 ],
 "metadata": {
  "kernelspec": {
   "display_name": "Python 3 (ipykernel)",
   "language": "python",
   "name": "python3"
  },
  "language_info": {
   "codemirror_mode": {
    "name": "ipython",
    "version": 3
   },
   "file_extension": ".py",
   "mimetype": "text/x-python",
   "name": "python",
   "nbconvert_exporter": "python",
   "pygments_lexer": "ipython3",
   "version": "3.11.10"
  }
 },
 "nbformat": 4,
 "nbformat_minor": 5
}
