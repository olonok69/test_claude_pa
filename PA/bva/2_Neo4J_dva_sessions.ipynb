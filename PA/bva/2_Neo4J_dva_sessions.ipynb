{
 "cells": [
  {
   "cell_type": "code",
   "execution_count": 1,
   "id": "1f711245-bf4a-4563-91f7-683f8f0e3da7",
   "metadata": {},
   "outputs": [],
   "source": [
    "from neo4j import GraphDatabase\n",
    "import csv\n",
    "import pandas as pd\n",
    "\n",
    "\n",
    "def load_csv_to_neo4j(\n",
    "    uri,\n",
    "    user,\n",
    "    password,\n",
    "    csv_file_path,\n",
    "    node_label,\n",
    "    properties_map,\n",
    "    relationship_label=None,\n",
    "    relationship_source_property=None,\n",
    "    relationship_target_property=None,\n",
    "):\n",
    "    \"\"\"\n",
    "    Loads data from a CSV file into Neo4j.\n",
    "\n",
    "    Args:\n",
    "        uri (str): Neo4j URI (e.g., \"bolt://localhost:7687\").\n",
    "        user (str): Neo4j username.\n",
    "        password (str): Neo4j password.\n",
    "        csv_file_path (str): Path to the CSV file.\n",
    "        node_label (str): Label to apply to the nodes.\n",
    "        properties_map (dict): A dictionary mapping CSV column names to Neo4j property names.\n",
    "        relationship_label (str, optional): Label to apply to relationships. Defaults to None.\n",
    "        relationship_source_property (str, optional): CSV column name for the source node ID. Defaults to None.\n",
    "        relationship_target_property (str, optional): CSV column name for the target node ID. Defaults to None.\n",
    "    \"\"\"\n",
    "\n",
    "    driver = GraphDatabase.driver(uri, auth=(user, password))\n",
    "\n",
    "    def create_nodes(tx, csv_file_path, node_label, properties_map):\n",
    "        with open(csv_file_path, \"r\", encoding=\"utf-8\") as csvfile:\n",
    "            reader = csv.DictReader(csvfile)\n",
    "            for row in reader:\n",
    "                properties = {\n",
    "                    properties_map[k]: row[k] for k in properties_map if row[k]\n",
    "                }  # Added check for empty values\n",
    "                query = f\"CREATE (n:{node_label} $properties)\"\n",
    "                tx.run(query, properties=properties)\n",
    "\n",
    "    def create_relationships(\n",
    "        tx,\n",
    "        csv_file_path,\n",
    "        relationship_label,\n",
    "        source_property,\n",
    "        target_property,\n",
    "        properties_map,\n",
    "    ):\n",
    "        with open(csv_file_path, \"r\", encoding=\"utf-8\") as csvfile:\n",
    "            reader = csv.DictReader(csvfile)\n",
    "            for row in reader:\n",
    "                source_id = row.get(source_property)\n",
    "                target_id = row.get(target_property)\n",
    "                if (\n",
    "                    source_id and target_id\n",
    "                ):  # check to make sure both source and target exist\n",
    "                    source_prop_neo4j = properties_map.get(source_property)\n",
    "                    target_prop_neo4j = properties_map.get(target_property)\n",
    "\n",
    "                    query = f\"\"\"\n",
    "                    MATCH (a), (b)\n",
    "                    WHERE a.{source_prop_neo4j} = $source_id AND b.{target_prop_neo4j} = $target_id\n",
    "                    CREATE (a)-[r:{relationship_label}]->(b)\n",
    "                    \"\"\"\n",
    "                    tx.run(query, source_id=source_id, target_id=target_id)\n",
    "\n",
    "    with driver.session() as session:\n",
    "        session.execute_write(create_nodes, csv_file_path, node_label, properties_map)\n",
    "        if (\n",
    "            relationship_label\n",
    "            and relationship_source_property\n",
    "            and relationship_target_property\n",
    "        ):\n",
    "            session.execute_write(\n",
    "                create_relationships,\n",
    "                csv_file_path,\n",
    "                relationship_label,\n",
    "                relationship_source_property,\n",
    "                relationship_target_property,\n",
    "                properties_map,\n",
    "            )\n",
    "\n",
    "    driver.close()"
   ]
  },
  {
   "cell_type": "code",
   "execution_count": null,
   "id": "5c3f7764-0263-43c1-a635-2dd683401aa6",
   "metadata": {},
   "outputs": [],
   "source": [
    "uri = \"bolt://127.0.0.1:7687\"\n",
    "user = \"neo4j\"\n",
    "password = \"\"  # Replace with your password."
   ]
  },
  {
   "cell_type": "code",
   "execution_count": 3,
   "id": "f762d21e-405b-4061-881b-f6707e5206a7",
   "metadata": {},
   "outputs": [],
   "source": [
    "csv_file_path = \"data/bva/output/session_this_filtered_valid_cols.csv\"  # Replace with your CSV file path."
   ]
  },
  {
   "cell_type": "code",
   "execution_count": 4,
   "id": "a365055a-7537-4dd8-9a4e-01938764a166",
   "metadata": {},
   "outputs": [
    {
     "data": {
      "text/html": [
       "<div>\n",
       "<style scoped>\n",
       "    .dataframe tbody tr th:only-of-type {\n",
       "        vertical-align: middle;\n",
       "    }\n",
       "\n",
       "    .dataframe tbody tr th {\n",
       "        vertical-align: top;\n",
       "    }\n",
       "\n",
       "    .dataframe thead th {\n",
       "        text-align: right;\n",
       "    }\n",
       "</style>\n",
       "<table border=\"1\" class=\"dataframe\">\n",
       "  <thead>\n",
       "    <tr style=\"text-align: right;\">\n",
       "      <th></th>\n",
       "      <th>session_id</th>\n",
       "      <th>date</th>\n",
       "      <th>start_time</th>\n",
       "      <th>end_time</th>\n",
       "      <th>theatre__name</th>\n",
       "      <th>title</th>\n",
       "      <th>stream</th>\n",
       "      <th>synopsis_stripped</th>\n",
       "      <th>sponsored_session</th>\n",
       "      <th>sponsored_by</th>\n",
       "      <th>key_text</th>\n",
       "    </tr>\n",
       "  </thead>\n",
       "  <tbody>\n",
       "    <tr>\n",
       "      <th>0</th>\n",
       "      <td>49669</td>\n",
       "      <td>2025-06-12</td>\n",
       "      <td>08:45:00</td>\n",
       "      <td>09:00:00</td>\n",
       "      <td>Clinical Theatre 1</td>\n",
       "      <td>BVA's President's Welcome</td>\n",
       "      <td>No Data</td>\n",
       "      <td>No Data</td>\n",
       "      <td>False</td>\n",
       "      <td>Not Sponsored</td>\n",
       "      <td>bvaspresidentswelcome</td>\n",
       "    </tr>\n",
       "    <tr>\n",
       "      <th>1</th>\n",
       "      <td>49670</td>\n",
       "      <td>2025-06-12</td>\n",
       "      <td>09:00:00</td>\n",
       "      <td>09:50:00</td>\n",
       "      <td>Clinical Theatre 1</td>\n",
       "      <td>Managing diabetes in 2025! 104 years after the...</td>\n",
       "      <td>Endocrinology</td>\n",
       "      <td>No Data</td>\n",
       "      <td>False</td>\n",
       "      <td>Not Sponsored</td>\n",
       "      <td>managingdiabetesin2025104yearsafterthefirstdia...</td>\n",
       "    </tr>\n",
       "    <tr>\n",
       "      <th>2</th>\n",
       "      <td>49671</td>\n",
       "      <td>2025-06-12</td>\n",
       "      <td>10:15:00</td>\n",
       "      <td>11:05:00</td>\n",
       "      <td>Clinical Theatre 1</td>\n",
       "      <td>Itchy, scratchy cats: Where to start, when to ...</td>\n",
       "      <td>Dermatology; Small Animal</td>\n",
       "      <td>This session will discuss the various differen...</td>\n",
       "      <td>False</td>\n",
       "      <td>Not Sponsored</td>\n",
       "      <td>itchyscratchycatswheretostartwhentousepreds</td>\n",
       "    </tr>\n",
       "    <tr>\n",
       "      <th>3</th>\n",
       "      <td>49672</td>\n",
       "      <td>2025-06-12</td>\n",
       "      <td>11:45:00</td>\n",
       "      <td>12:35:00</td>\n",
       "      <td>Clinical Theatre 1</td>\n",
       "      <td>It’s a knock out: Tips and tricks for successf...</td>\n",
       "      <td>Exotic Animal</td>\n",
       "      <td>This talk will give an overview of how to prep...</td>\n",
       "      <td>True</td>\n",
       "      <td>British Veterinary Zoological Society</td>\n",
       "      <td>itsaknockouttipsandtricksforsuccessfulsmallmam...</td>\n",
       "    </tr>\n",
       "    <tr>\n",
       "      <th>4</th>\n",
       "      <td>49674</td>\n",
       "      <td>2025-06-12</td>\n",
       "      <td>14:15:00</td>\n",
       "      <td>15:05:00</td>\n",
       "      <td>Clinical Theatre 1</td>\n",
       "      <td>Anaesthesia check lists: Do they protect our f...</td>\n",
       "      <td>Anaesthesia; Small Animal</td>\n",
       "      <td>This session will look at the history of anaes...</td>\n",
       "      <td>False</td>\n",
       "      <td>Not Sponsored</td>\n",
       "      <td>anaesthesiachecklistsdotheyprotectourfelinepat...</td>\n",
       "    </tr>\n",
       "  </tbody>\n",
       "</table>\n",
       "</div>"
      ],
      "text/plain": [
       "   session_id        date start_time  end_time       theatre__name  \\\n",
       "0       49669  2025-06-12   08:45:00  09:00:00  Clinical Theatre 1   \n",
       "1       49670  2025-06-12   09:00:00  09:50:00  Clinical Theatre 1   \n",
       "2       49671  2025-06-12   10:15:00  11:05:00  Clinical Theatre 1   \n",
       "3       49672  2025-06-12   11:45:00  12:35:00  Clinical Theatre 1   \n",
       "4       49674  2025-06-12   14:15:00  15:05:00  Clinical Theatre 1   \n",
       "\n",
       "                                               title  \\\n",
       "0                          BVA's President's Welcome   \n",
       "1  Managing diabetes in 2025! 104 years after the...   \n",
       "2  Itchy, scratchy cats: Where to start, when to ...   \n",
       "3  It’s a knock out: Tips and tricks for successf...   \n",
       "4  Anaesthesia check lists: Do they protect our f...   \n",
       "\n",
       "                      stream  \\\n",
       "0                    No Data   \n",
       "1              Endocrinology   \n",
       "2  Dermatology; Small Animal   \n",
       "3              Exotic Animal   \n",
       "4  Anaesthesia; Small Animal   \n",
       "\n",
       "                                   synopsis_stripped  sponsored_session  \\\n",
       "0                                            No Data              False   \n",
       "1                                            No Data              False   \n",
       "2  This session will discuss the various differen...              False   \n",
       "3  This talk will give an overview of how to prep...               True   \n",
       "4  This session will look at the history of anaes...              False   \n",
       "\n",
       "                            sponsored_by  \\\n",
       "0                          Not Sponsored   \n",
       "1                          Not Sponsored   \n",
       "2                          Not Sponsored   \n",
       "3  British Veterinary Zoological Society   \n",
       "4                          Not Sponsored   \n",
       "\n",
       "                                            key_text  \n",
       "0                              bvaspresidentswelcome  \n",
       "1  managingdiabetesin2025104yearsafterthefirstdia...  \n",
       "2        itchyscratchycatswheretostartwhentousepreds  \n",
       "3  itsaknockouttipsandtricksforsuccessfulsmallmam...  \n",
       "4  anaesthesiachecklistsdotheyprotectourfelinepat...  "
      ]
     },
     "execution_count": 4,
     "metadata": {},
     "output_type": "execute_result"
    }
   ],
   "source": [
    "data = pd.read_csv(csv_file_path)\n",
    "data.head()"
   ]
  },
  {
   "cell_type": "code",
   "execution_count": 5,
   "id": "680d4bdb-c7ae-40df-b9ff-5bed1705d694",
   "metadata": {},
   "outputs": [
    {
     "data": {
      "text/plain": [
       "11"
      ]
     },
     "execution_count": 5,
     "metadata": {},
     "output_type": "execute_result"
    }
   ],
   "source": [
    "len(data.columns)"
   ]
  },
  {
   "cell_type": "code",
   "execution_count": 6,
   "id": "def0971f-3f86-450e-a7da-d95c978ce02f",
   "metadata": {},
   "outputs": [
    {
     "data": {
      "text/plain": [
       "{'session_id': 'session_id',\n",
       " 'date': 'date',\n",
       " 'start_time': 'start_time',\n",
       " 'end_time': 'end_time',\n",
       " 'theatre__name': 'theatre__name',\n",
       " 'title': 'title',\n",
       " 'stream': 'stream',\n",
       " 'synopsis_stripped': 'synopsis_stripped',\n",
       " 'sponsored_session': 'sponsored_session',\n",
       " 'sponsored_by': 'sponsored_by',\n",
       " 'key_text': 'key_text'}"
      ]
     },
     "execution_count": 6,
     "metadata": {},
     "output_type": "execute_result"
    }
   ],
   "source": [
    "{x: x for x in data.columns}"
   ]
  },
  {
   "cell_type": "markdown",
   "id": "693a94ed-2be2-4b20-910d-d96608e5f9e1",
   "metadata": {},
   "source": [
    "# session this year"
   ]
  },
  {
   "cell_type": "code",
   "execution_count": 7,
   "id": "3f4d4282-872b-40cc-92d0-1983ed760b37",
   "metadata": {},
   "outputs": [],
   "source": [
    "csv_file_path = \"data/bva/output/session_this_filtered_valid_cols.csv\"  # Replace with your CSV file path.\n",
    "node_label = \"Sessions_this_year\"\n",
    "properties_map = {x: x for x in data.columns}\n",
    "\n",
    "# Example with relationships (if applicable):\n",
    "relationship_label = \"KNOWS\"\n",
    "relationship_source_property = \"source_id\"\n",
    "relationship_target_property = \"target_id\"\n",
    "\n",
    "# Example CSV data (data.csv):\n",
    "# id,name,age,source_id,target_id\n",
    "# 1,Alice,30,,\n",
    "# 2,Bob,25,1,3\n",
    "# 3,Charlie,35,2,1\n",
    "# 4,David,40,,\n",
    "\n",
    "# Example without relationships:\n",
    "load_csv_to_neo4j(uri, user, password, csv_file_path, node_label, properties_map)\n",
    "\n",
    "# Example with relationships:\n",
    "# load_csv_to_neo4j(uri, user, password, csv_file_path, node_label, properties_map, relationship_label, relationship_source_property, relationship_target_property)"
   ]
  },
  {
   "cell_type": "markdown",
   "id": "f955bd80-329a-4572-a0ac-cfc0f7ef67be",
   "metadata": {},
   "source": [
    "# Session Past Year DVA"
   ]
  },
  {
   "cell_type": "code",
   "execution_count": 8,
   "id": "2a7a218f-121f-43ac-8aa3-0fd1f3de6539",
   "metadata": {},
   "outputs": [],
   "source": [
    "csv_file_path = \"data/bva/output/session_last_filtered_valid_cols_bva.csv\"  # Replace with your CSV file path.\n",
    "data = pd.read_csv(csv_file_path)\n",
    "\n",
    "node_label = \"Sessions_past_year\"\n",
    "properties_map = {x: x for x in data.columns}\n",
    "\n",
    "\n",
    "# Example without relationships:\n",
    "load_csv_to_neo4j(uri, user, password, csv_file_path, node_label, properties_map)"
   ]
  },
  {
   "cell_type": "markdown",
   "id": "fe334bb7-c626-482a-874a-8dca276781ce",
   "metadata": {},
   "source": [
    "# Session Past Year LVA"
   ]
  },
  {
   "cell_type": "code",
   "execution_count": 9,
   "id": "ca066086-13e2-4a09-940a-a83169c836eb",
   "metadata": {},
   "outputs": [],
   "source": [
    "csv_file_path = \"data/bva/output/session_last_filtered_valid_cols_lva.csv\"  # Replace with your CSV file path.\n",
    "data = pd.read_csv(csv_file_path)\n",
    "\n",
    "node_label = \"Sessions_past_year\"\n",
    "properties_map = {x: x for x in data.columns}\n",
    "\n",
    "\n",
    "# Example without relationships:\n",
    "load_csv_to_neo4j(uri, user, password, csv_file_path, node_label, properties_map)"
   ]
  },
  {
   "cell_type": "markdown",
   "id": "89935297-8d10-40ed-8bff-a2d382794f56",
   "metadata": {},
   "source": [
    "# Load Streams"
   ]
  },
  {
   "cell_type": "code",
   "execution_count": 10,
   "id": "4177bec7-f795-4d49-ae88-72b0f3b9501a",
   "metadata": {},
   "outputs": [],
   "source": [
    "import json"
   ]
  },
  {
   "cell_type": "code",
   "execution_count": 11,
   "id": "739a8856-2022-4900-a5c5-5d0d8dcab720",
   "metadata": {},
   "outputs": [],
   "source": [
    "with open(\"data/bva/output/streams.json\", \"r\") as f:\n",
    "    streams = json.load(f)"
   ]
  },
  {
   "cell_type": "code",
   "execution_count": 12,
   "id": "4c29cd21-9c91-4370-8e2d-782b13e6a1bc",
   "metadata": {},
   "outputs": [
    {
     "data": {
      "text/plain": [
       "dict_keys(['urology', 'reproduction', 'nursing', 'internal medicine', 'sports medicine', 'nutrition', 'orthopaedics', 'exotics', 'clinical pathology', 'emergency and critical care (ecc)', 'geriatric medicine', 'welfare', 'haematology', 'feline', 'respiratory', 'debate', 'infectious disease', 'business', 'practice management', 'small animal', 'oncology', 'pain management', 'obesity', 'career development', 'behaviour', 'neurology', 'large animal', 'wellbeing', 'exotic animal', 'endocrinology', 'farm', 'cardiology', 'careers', 'farm animal', 'orthopeadics', 'community', 'toxicology', 'equine', 'ophthalmology', 'diagnostics', 'animal welfare', 'dermatology', 'leadership', 'emergency medicine', 'surgery', 'anaesthesia', 'imaging', 'gastroenterology', 'parasitology', 'wildlife', 'dentistry', 'sustainability'])"
      ]
     },
     "execution_count": 12,
     "metadata": {},
     "output_type": "execute_result"
    }
   ],
   "source": [
    "streams.keys()"
   ]
  },
  {
   "cell_type": "code",
   "execution_count": 13,
   "id": "8318d6a1-8b02-42b6-83e6-bceee4d0bc96",
   "metadata": {},
   "outputs": [
    {
     "data": {
      "text/plain": [
       "'The \"Careers\" category focuses on the professional development and well-being of individuals working within the veterinary field. It addresses challenges such as managing cognitive overload during high-pressure situations, fostering inclusive workplaces that support neurodivergent colleagues, and overcoming common psychological hurdles like imposter syndrome. Additionally, it explores the evolving responsibilities of veterinary professionals, including promoting sustainability in pet ownership. Overall, this category aims to equip veterinary professionals with the knowledge, skills, and support needed to thrive personally and professionally.'"
      ]
     },
     "execution_count": 13,
     "metadata": {},
     "output_type": "execute_result"
    }
   ],
   "source": [
    "streams[\"careers\"]"
   ]
  },
  {
   "cell_type": "code",
   "execution_count": 14,
   "id": "5b83d6f0-575c-4d65-9ca8-8dfb7e9cd3ff",
   "metadata": {},
   "outputs": [],
   "source": [
    "# Function to create nodes\n",
    "def create_stream_nodes():\n",
    "    # Create connection to Neo4j\n",
    "    driver = GraphDatabase.driver(uri, auth=(user, password))\n",
    "\n",
    "    # Open a session\n",
    "    with driver.session() as session:\n",
    "        for key in streams.keys():\n",
    "            # Create Stream node with 'label' and 'description' properties\n",
    "            session.run(\n",
    "                \"CREATE (s:Stream {stream: $s, description: $description})\",\n",
    "                s=key,\n",
    "                description=streams[key],\n",
    "            )\n",
    "\n",
    "    # Close connection\n",
    "    driver.close()\n",
    "    print(\"Stream nodes with descriptions created successfully!\")"
   ]
  },
  {
   "cell_type": "code",
   "execution_count": 15,
   "id": "2d48a5a8-fd65-4cf4-bd0e-7a1dea45d2f3",
   "metadata": {},
   "outputs": [
    {
     "name": "stdout",
     "output_type": "stream",
     "text": [
      "Stream nodes with descriptions created successfully!\n"
     ]
    }
   ],
   "source": [
    "# Execute the function\n",
    "create_stream_nodes()"
   ]
  },
  {
   "cell_type": "markdown",
   "id": "c4c45ea0-b109-49f6-92b0-b95dd2dcbad6",
   "metadata": {},
   "source": [
    "# RelationShip HAS_STREAM.\n",
    "this is a connection in between the Node Session with The Node Stream. IN Session Input each session is classified to one or multiples streams, this appears in the file like a list of streams separated with ;. The method split this list in Individual Streams and create a connection from The session to the Stream\n",
    "Previous he have created the description of the Stream in the Notebook 3_session_data with the help of a LLM"
   ]
  },
  {
   "cell_type": "code",
   "execution_count": 16,
   "id": "e732567e-2d70-440f-92b1-24e7c2081322",
   "metadata": {},
   "outputs": [],
   "source": [
    "from neo4j import GraphDatabase\n",
    "\n",
    "session_node = \"Sessions_this_year\"\n",
    "stream_node = \"Stream\"\n",
    "\n",
    "# Function to create relationships\n",
    "# def create_stream_relationships(session_node, stream_node):\n",
    "#     # Connect to Neo4j\n",
    "#     driver = GraphDatabase.driver(uri, auth=(user, password))\n",
    "\n",
    "#     # Open a session\n",
    "#     with driver.session() as session:\n",
    "#         # Match all session nodes\n",
    "#         result = session.run(f\"\"\"\n",
    "#             MATCH (s:{session_node})\n",
    "#             RETURN s.session_id AS session_id, s.stream AS stream\n",
    "#         \"\"\")\n",
    "\n",
    "#         # Loop through each session node and process its streams\n",
    "#         for record in result:\n",
    "#             session_id = record[\"session_id\"]\n",
    "#             streams = record[\"stream\"]\n",
    "\n",
    "#             # Process the stream property: split by \";\" and strip spaces\n",
    "#             stream_list = [stream.strip().lower()  for stream in streams.split(\";\")]\n",
    "\n",
    "#             # Create relationships for each stream\n",
    "#             for stream in stream_list:\n",
    "#                 session.run(f\"\"\"\n",
    "#                     MATCH (s:{session_node} {{session_id: $session_id}})\n",
    "#                     MATCH (st:{stream_node} {{stream: $stream_name}})\n",
    "#                     CREATE (s)-[:HAS_STREAM]->(st)\n",
    "#                 \"\"\", session_id=session_id, stream_name=stream)\n",
    "\n",
    "#     # Close connection\n",
    "#     driver.close()\n",
    "#     print(\"Relationships created successfully!\")\n",
    "\n",
    "\n",
    "def create_stream_relationships(uri, user, password, session_node, stream_node):\n",
    "    \"\"\"\n",
    "    Creates relationships between session nodes and stream nodes, only if the relationship doesn't already exist.\n",
    "    \"\"\"\n",
    "    driver = GraphDatabase.driver(uri, auth=(user, password))\n",
    "\n",
    "    with driver.session() as session:\n",
    "        result = session.run(\n",
    "            f\"\"\"\n",
    "            MATCH (s:{session_node})\n",
    "            RETURN s.session_id AS session_id, s.stream AS stream\n",
    "        \"\"\"\n",
    "        )\n",
    "\n",
    "        for record in result:\n",
    "            session_id = record[\"session_id\"]\n",
    "            streams = record[\"stream\"]\n",
    "\n",
    "            stream_list = [stream.strip().lower() for stream in streams.split(\";\")]\n",
    "\n",
    "            for stream in stream_list:\n",
    "                # Check if the relationship already exists\n",
    "                relationship_exists = session.run(\n",
    "                    f\"\"\"\n",
    "                    MATCH (s:{session_node} {{session_id: $session_id}})-[:HAS_STREAM]->(st:{stream_node} {{stream: $stream_name}})\n",
    "                    RETURN count(*) > 0 AS exists\n",
    "                \"\"\",\n",
    "                    session_id=session_id,\n",
    "                    stream_name=stream,\n",
    "                ).single()[\"exists\"]\n",
    "\n",
    "                if not relationship_exists:\n",
    "                    session.run(\n",
    "                        f\"\"\"\n",
    "                        MATCH (s:{session_node} {{session_id: $session_id}})\n",
    "                        MATCH (st:{stream_node} {{stream: $stream_name}})\n",
    "                        CREATE (s)-[:HAS_STREAM]->(st)\n",
    "                    \"\"\",\n",
    "                        session_id=session_id,\n",
    "                        stream_name=stream,\n",
    "                    )\n",
    "\n",
    "    driver.close()\n",
    "    print(\"Relationships created (or skipped if existed) successfully!\")"
   ]
  },
  {
   "cell_type": "code",
   "execution_count": 17,
   "id": "6c99fa99-863d-49af-b64b-0116984d0f4b",
   "metadata": {},
   "outputs": [
    {
     "name": "stdout",
     "output_type": "stream",
     "text": [
      "Relationships created (or skipped if existed) successfully!\n"
     ]
    }
   ],
   "source": [
    "# Execute the function this year\n",
    "session_node = \"Sessions_this_year\"\n",
    "stream_node = \"Stream\"\n",
    "create_stream_relationships(uri, user, password, session_node, stream_node)"
   ]
  },
  {
   "cell_type": "code",
   "execution_count": 18,
   "id": "b1d0d9de-87b2-40c8-9dae-358ba372f10f",
   "metadata": {},
   "outputs": [
    {
     "name": "stdout",
     "output_type": "stream",
     "text": [
      "Relationships created (or skipped if existed) successfully!\n"
     ]
    }
   ],
   "source": [
    "# Execute the function this year\n",
    "session_node = \"Sessions_past_year\"\n",
    "stream_node = \"Stream\"\n",
    "create_stream_relationships(uri, user, password, session_node, stream_node)"
   ]
  },
  {
   "cell_type": "code",
   "execution_count": null,
   "id": "db8a4d77-de1c-4f56-83fa-833a17a7b732",
   "metadata": {},
   "outputs": [],
   "source": []
  },
  {
   "cell_type": "code",
   "execution_count": null,
   "id": "b4054bda-9286-4e88-84dc-9db13ba6a027",
   "metadata": {},
   "outputs": [],
   "source": []
  }
 ],
 "metadata": {
  "kernelspec": {
   "display_name": "Python 3 (ipykernel)",
   "language": "python",
   "name": "python3"
  },
  "language_info": {
   "codemirror_mode": {
    "name": "ipython",
    "version": 3
   },
   "file_extension": ".py",
   "mimetype": "text/x-python",
   "name": "python",
   "nbconvert_exporter": "python",
   "pygments_lexer": "ipython3",
   "version": "3.11.10"
  }
 },
 "nbformat": 4,
 "nbformat_minor": 5
}
