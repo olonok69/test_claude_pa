{
 "cells": [
  {
   "cell_type": "markdown",
   "id": "2804f9ed-cfbf-44ca-b878-753be8ea9ec5",
   "metadata": {},
   "source": [
    "# DICOM\n",
    "DICOM® — Digital Imaging and Communications in Medicine — is the international standard for medical images and related information. It defines the formats for medical images that can be exchanged with the data and quality necessary for clinical use.\n",
    "\n",
    "DICOM® is implemented in almost every radiology, cardiology imaging, and radiotherapy device (X-ray, CT, MRI, ultrasound, etc.), and increasingly in devices in other medical domains such as ophthalmology and dentistry. With hundreds of thousands of medical imaging devices in use, DICOM® is one of the most widely deployed healthcare messaging Standards in the world. There are literally billions of DICOM® images currently in use for clinical care.\n",
    "\n",
    "Since its first publication in 1993, DICOM® has revolutionized the practice of radiology, allowing the replacement of X-ray film with a fully digital workflow. Much as the Internet has become the platform for new consumer information applications, DICOM® has enabled advanced medical imaging applications that have “changed the face of clinical medicine”. From the emergency department, to cardiac stress testing, to breast cancer detection, DICOM® is the standard that makes medical imaging work — for doctors and for patients.\n",
    "\n",
    "DICOM® is recognized by the International Organization for Standardization as the ISO 12052 standard.\n",
    "\n",
    "https://www.dicomstandard.org/about\n",
    "\n",
    "\n",
    "# FHIR\n",
    "FHIR (Fast Healthcare Interoperability Resources) Specification, which is a standard for exchanging healthcare information electronically. \n",
    "\n",
    "https://www.hl7.org/fhir/overview.html"
   ]
  },
  {
   "cell_type": "markdown",
   "id": "4c3fbe1a",
   "metadata": {},
   "source": [
    "# De-identifying sensitive burnt-in text in DICOM images\n",
    "\n",
    "1. Redact text Personal Health Information (PHI) present as pixels in DICOM images\n",
    "2. Visually compare original DICOM images with their redacted versions\n",
    "\n",
    "\n",
    "# Tools for Health Data Anonymization \n",
    "https://github.com/microsoft/Tools-for-Health-Data-Anonymization/tree/master\n"
   ]
  },
  {
   "cell_type": "markdown",
   "id": "39472f68",
   "metadata": {},
   "source": [
    "## Prerequisites\n",
    "Before getting started, make sure presidio and the latest version of Tesseract OCR are installed. For detailed documentation, see the [installation docs](https://microsoft.github.io/presidio/installation).\n",
    "\n",
    "\n",
    "Tesseract\n",
    "\n",
    "```\n",
    "sudo apt install tesseract-ocr\n",
    "sudo apt install libtesseract-dev\n",
    "```\n",
    "\n",
    "```\n",
    "tesseract --version\n",
    "\n",
    "OUTPUT\n",
    "tesseract 5.3.0\n",
    " leptonica-1.82.0\n",
    "  libgif 5.2.1 : libjpeg 6b (libjpeg-turbo 2.1.2) : libpng 1.6.39 : libtiff 4.5.0 : zlib 1.2.13 : libwebp 1.2.4 : libopenjp2 2.5.0\n",
    " Found AVX2\n",
    " Found AVX\n",
    " Found FMA\n",
    " Found SSE4.1\n",
    " Found OpenMP 201511\n",
    " Found libarchive 3.6.2 zlib/1.2.13 liblzma/5.4.1 bz2lib/1.0.8 liblz4/1.9.4 libzstd/1.5.4\n",
    " Found libcurl/7.88.1 OpenSSL/3.0.14 zlib/1.2.13 brotli/1.0.9 zstd/1.5.4 libidn2/2.3.3 libpsl/0.21.2 (+libidn2/2.3.3) libssh2/1.10.0 nghttp2/1.52.0 librtmp/2.3 OpenLDAP/2.5.13\n",
    "```"
   ]
  },
  {
   "cell_type": "code",
   "execution_count": null,
   "id": "bcddce7b",
   "metadata": {
    "scrolled": true
   },
   "outputs": [],
   "source": [
    "!pip install presidio_analyzer presidio_anonymizer presidio_image_redactor -q\n",
    "!python -m spacy download en_core_web_lg -q "
   ]
  },
  {
   "cell_type": "markdown",
   "id": "bfd19f8f",
   "metadata": {},
   "source": [
    "## Dataset\n",
    "Sample DICOM files are available for use in this notebook in `./sample_data`. Copies of the original DICOM data were saved into the folder with permission from the dataset owners. Please see the original dataset information below:\n",
    "> Rutherford, M., Mun, S.K., Levine, B., Bennett, W.C., Smith, K., Farmer, P., Jarosz, J., Wagner, U., Farahani, K., Prior, F. (2021). A DICOM dataset for evaluation of medical image de-identification (Pseudo-PHI-DICOM-Data) [Data set]. The Cancer Imaging Archive. DOI: https://doi.org/10.7937/s17z-r072"
   ]
  },
  {
   "cell_type": "code",
   "execution_count": null,
   "id": "5be7b39a",
   "metadata": {},
   "outputs": [],
   "source": [
    "import glob\n",
    "from pathlib import Path\n",
    "import matplotlib.pyplot as plt\n",
    "import pydicom\n",
    "from presidio_image_redactor import DicomImageRedactorEngine"
   ]
  },
  {
   "cell_type": "markdown",
   "id": "9c629f28",
   "metadata": {},
   "source": [
    "## 1. Setup"
   ]
  },
  {
   "cell_type": "code",
   "execution_count": null,
   "id": "11a5daa8",
   "metadata": {},
   "outputs": [],
   "source": [
    "def compare_dicom_images(\n",
    "    instance_original: pydicom.dataset.FileDataset,\n",
    "    instance_redacted: pydicom.dataset.FileDataset,\n",
    "    figsize: tuple = (11, 11)\n",
    ") -> None:\n",
    "    \"\"\"Display the DICOM pixel arrays of both original and redacted as images.\n",
    "\n",
    "    Args:\n",
    "        instance_original (pydicom.dataset.FileDataset): A single DICOM instance (with text PHI).\n",
    "        instance_redacted (pydicom.dataset.FileDataset): A single DICOM instance (redacted PHI).\n",
    "        figsize (tuple): Figure size in inches (width, height).\n",
    "    \"\"\"\n",
    "    _, ax = plt.subplots(1, 2, figsize=figsize)\n",
    "    ax[0].imshow(instance_original.pixel_array, cmap=\"gray\")\n",
    "    ax[0].set_title('Original')\n",
    "    ax[1].imshow(instance_redacted.pixel_array, cmap=\"gray\")\n",
    "    ax[1].set_title('Redacted')"
   ]
  },
  {
   "cell_type": "code",
   "execution_count": null,
   "id": "7282f682",
   "metadata": {},
   "outputs": [],
   "source": [
    "engine = DicomImageRedactorEngine()"
   ]
  },
  {
   "cell_type": "markdown",
   "id": "edaebbc2",
   "metadata": {},
   "source": [
    "## 2. Redacting from loaded DICOM image data"
   ]
  },
  {
   "cell_type": "markdown",
   "id": "2645dab7",
   "metadata": {},
   "source": [
    "In cases where you already working with loaded DICOM data, the `.redact()` function is most appropriate."
   ]
  },
  {
   "cell_type": "code",
   "execution_count": null,
   "id": "f47580c1",
   "metadata": {},
   "outputs": [],
   "source": [
    "# Load in and process your DICOM file as needed\n",
    "dicom_instance = pydicom.dcmread('sample_data/0_ORIGINAL.dcm')"
   ]
  },
  {
   "cell_type": "code",
   "execution_count": null,
   "id": "728143ad-8668-4ec7-9bc4-2e5d768a5d14",
   "metadata": {},
   "outputs": [],
   "source": [
    "#dicom_instance.PixelData"
   ]
  },
  {
   "cell_type": "code",
   "execution_count": null,
   "id": "1caca3e7-1df8-403b-aaf6-6675414a33ab",
   "metadata": {},
   "outputs": [],
   "source": [
    "dicom_instance"
   ]
  },
  {
   "cell_type": "code",
   "execution_count": null,
   "id": "62944272-20d3-4793-971b-50706e41fafc",
   "metadata": {},
   "outputs": [],
   "source": [
    "dicom_instance.pixel_array.shape"
   ]
  },
  {
   "cell_type": "code",
   "execution_count": null,
   "id": "004a606e-8725-493f-b655-d4eaa5bf3414",
   "metadata": {},
   "outputs": [],
   "source": [
    "type(dicom_instance.pixel_array)"
   ]
  },
  {
   "cell_type": "code",
   "execution_count": null,
   "id": "22eca78a-887c-4735-89a3-82fe4e037bce",
   "metadata": {},
   "outputs": [],
   "source": [
    "dicom_instance.PatientName= \"kkk\""
   ]
  },
  {
   "cell_type": "code",
   "execution_count": null,
   "id": "a29928b2-ed47-4dd3-86ff-32bd4ba02470",
   "metadata": {},
   "outputs": [],
   "source": [
    "\n",
    "plt.figure(figsize=(10,10))\n",
    "plt.imshow(dicom_instance.pixel_array)"
   ]
  },
  {
   "cell_type": "code",
   "execution_count": null,
   "id": "104647c6",
   "metadata": {},
   "outputs": [],
   "source": [
    "# Redact\n",
    "redacted_dicom_instance = engine.redact(dicom_instance, fill=\"contrast\")"
   ]
  },
  {
   "cell_type": "code",
   "execution_count": null,
   "id": "5e4d8950-c585-49fb-b249-0687c4909bee",
   "metadata": {},
   "outputs": [],
   "source": [
    "redacted_dicom_instance"
   ]
  },
  {
   "cell_type": "code",
   "execution_count": null,
   "id": "f933865e-d069-42d0-9bb5-2cbed1524b85",
   "metadata": {},
   "outputs": [],
   "source": [
    "\n",
    "plt.figure(figsize=(10,10))\n",
    "plt.imshow(redacted_dicom_instance.pixel_array)"
   ]
  },
  {
   "cell_type": "code",
   "execution_count": null,
   "id": "ef701740-906b-480b-b083-30323d257ab5",
   "metadata": {},
   "outputs": [],
   "source": [
    "# Option 2: Redact from a loaded DICOM image and return redacted regions\n",
    "redacted_dicom_image2, bboxes = engine.redact_and_return_bbox(dicom_instance, fill=\"contrast\")"
   ]
  },
  {
   "cell_type": "code",
   "execution_count": null,
   "id": "480f9b73-51a1-43d3-825c-5c97877bb7fb",
   "metadata": {},
   "outputs": [],
   "source": [
    "bboxes"
   ]
  },
  {
   "cell_type": "markdown",
   "id": "85ccd52e",
   "metadata": {},
   "source": [
    "### 2.2 Verify performance\n",
    "Let's look at the original input and compare against the de-identified output."
   ]
  },
  {
   "cell_type": "code",
   "execution_count": null,
   "id": "3deafa9e",
   "metadata": {},
   "outputs": [],
   "source": [
    "compare_dicom_images(dicom_instance, redacted_dicom_instance)"
   ]
  },
  {
   "cell_type": "markdown",
   "id": "f1ca21eb",
   "metadata": {},
   "source": [
    "We can also set the \"fill\" to match the background color to blend in more with the image."
   ]
  },
  {
   "cell_type": "code",
   "execution_count": null,
   "id": "51d9fd30",
   "metadata": {},
   "outputs": [],
   "source": [
    "redacted_dicom_instance_2 = engine.redact(dicom_instance, fill=\"background\")\n",
    "compare_dicom_images(dicom_instance, redacted_dicom_instance_2)"
   ]
  },
  {
   "cell_type": "markdown",
   "id": "17bfb9ff",
   "metadata": {},
   "source": [
    "### 2.3 Adjust parameters\n",
    "With the `use_metadata` parameter, we can toggle whether the DICOM metadata is used to augment the analyzer which determines which text to redact."
   ]
  },
  {
   "cell_type": "code",
   "execution_count": null,
   "id": "1d1a5f2e",
   "metadata": {},
   "outputs": [],
   "source": [
    "redacted_dicom_instance = engine.redact(dicom_instance, use_metadata=False) # default is use_metadata=True\n",
    "compare_dicom_images(dicom_instance, redacted_dicom_instance)"
   ]
  },
  {
   "cell_type": "markdown",
   "id": "fa9f4209",
   "metadata": {},
   "source": [
    "We can also return the bounding box information for the pixel regions that were redacted."
   ]
  },
  {
   "cell_type": "code",
   "execution_count": null,
   "id": "5c2b91ab",
   "metadata": {},
   "outputs": [],
   "source": [
    "redacted_dicom_instance, bbox = engine.redact_and_return_bbox(dicom_instance)\n",
    "compare_dicom_images(dicom_instance, redacted_dicom_instance)\n",
    "print(f\"Number of redacted regions: {len(bbox)}\")\n",
    "print(bbox)"
   ]
  },
  {
   "cell_type": "markdown",
   "id": "b02b8345",
   "metadata": {},
   "source": [
    "## 3. Redacting from DICOM files\n",
    "Before instantiating your `DicomImageRedactorEngine` class, determine where you want your input to come from and where you want your output to be written to.\n",
    "\n",
    "To protect against overwriting the original DICOM files, the `redact_from_file()` and `redact_from_directory()` methods will not run if the `output_dir` is a directory which already contains any content."
   ]
  },
  {
   "cell_type": "code",
   "execution_count": null,
   "id": "c56b0d4e",
   "metadata": {},
   "outputs": [],
   "source": [
    "# Single DICOM (.dcm) file or directory containing DICOM files\n",
    "input_path = 'sample_data/'\n",
    "\n",
    "# Directory where the output will be written\n",
    "output_parent_dir = 'output/'"
   ]
  },
  {
   "cell_type": "markdown",
   "id": "9c11ce22",
   "metadata": {},
   "source": [
    "### 3.1. Run de-identification\n",
    "Use the `DicomImageRedactorEngine` class to process your DICOM images. If you have only one image to process and want to specify that directly instead of a directory, use `.redact_from_file()` instead of `.redact_from_directory()`."
   ]
  },
  {
   "cell_type": "code",
   "execution_count": null,
   "id": "ea1fda24",
   "metadata": {},
   "outputs": [],
   "source": [
    "# Redact text PHI from DICOM images\n",
    "engine.redact_from_directory(\n",
    "    input_dicom_path = input_path,\n",
    "    output_dir = output_parent_dir,\n",
    "    fill=\"contrast\",\n",
    "    save_bboxes=True # if True, saves the redacted region bounding box info to .json files in the output dir\n",
    ")"
   ]
  },
  {
   "cell_type": "markdown",
   "id": "f4cf6a33",
   "metadata": {},
   "source": [
    "Get file paths"
   ]
  },
  {
   "cell_type": "code",
   "execution_count": null,
   "id": "31a4d643",
   "metadata": {},
   "outputs": [],
   "source": [
    "# Original DICOM images\n",
    "p = Path(input_path).glob(\"**/*.dcm\")\n",
    "original_files = [x for x in p if x.is_file()]\n",
    "\n",
    "# Redacted DICOM images\n",
    "p = Path(output_parent_dir).glob(\"**/*.dcm\")\n",
    "redacted_files = [x for x in p if x.is_file()]"
   ]
  },
  {
   "cell_type": "markdown",
   "id": "d733f22f",
   "metadata": {},
   "source": [
    "Preview images"
   ]
  },
  {
   "cell_type": "code",
   "execution_count": null,
   "id": "80577e04",
   "metadata": {},
   "outputs": [],
   "source": [
    "for i in range(0, len(original_files)):\n",
    "    original_file = pydicom.dcmread(original_files[i])\n",
    "    redacted_file = pydicom.dcmread(redacted_files[i])\n",
    "    \n",
    "    compare_dicom_images(original_file, redacted_file)"
   ]
  },
  {
   "cell_type": "markdown",
   "id": "ca3c4311-9fd0-4192-a0cb-b2dbd0171586",
   "metadata": {},
   "source": [
    "# DOTNET LINUX\n",
    "```\n",
    " wget https://download.visualstudio.microsoft.com/download/pr/4e3b04aa-c015-4e06-a42e-05f9f3c54ed2/74d1bb68e330eea13ecfc47f7cf9aeb7/d\n",
    "otnet-sdk-8.0.404-linux-x64.tar.gz\n",
    "\n",
    "mkdir -p $HOME/dotnet && tar zxf dotnet-sdk-8.0.404-linux-x64.tar.gz -C $HOME/dotnet\n",
    "export DOTNET_ROOT=$HOME/dotnet\n",
    "export PATH=$PATH:$HOME/dotnet\n",
    "````\n",
    "\n"
   ]
  },
  {
   "cell_type": "code",
   "execution_count": null,
   "id": "dc408511-6b88-45e4-b7d3-98737676d7c3",
   "metadata": {},
   "outputs": [],
   "source": [
    "# Load in and process your DICOM file as needed\n",
    "dicom_instance = pydicom.dcmread('sample_data/0_ORIGINAL_anonymized.dcm')"
   ]
  },
  {
   "cell_type": "code",
   "execution_count": null,
   "id": "89f2023a-f5e9-4078-8279-f6a2146cc195",
   "metadata": {},
   "outputs": [],
   "source": [
    "plt.figure(figsize=(10,10))\n",
    "plt.imshow(dicom_instance.pixel_array)"
   ]
  },
  {
   "cell_type": "code",
   "execution_count": null,
   "id": "0859ee49-b095-4baf-be4e-a56beb2a160f",
   "metadata": {},
   "outputs": [],
   "source": [
    "dicom_instance"
   ]
  },
  {
   "cell_type": "code",
   "execution_count": null,
   "id": "f21e3da7-6ccc-4abe-a4c6-a07fd1d185f0",
   "metadata": {},
   "outputs": [],
   "source": []
  }
 ],
 "metadata": {
  "kernelspec": {
   "display_name": "Python (pii_dicom)",
   "language": "python",
   "name": "pii_dicom"
  },
  "language_info": {
   "codemirror_mode": {
    "name": "ipython",
    "version": 3
   },
   "file_extension": ".py",
   "mimetype": "text/x-python",
   "name": "python",
   "nbconvert_exporter": "python",
   "pygments_lexer": "ipython3",
   "version": "3.11.11"
  }
 },
 "nbformat": 4,
 "nbformat_minor": 5
}
