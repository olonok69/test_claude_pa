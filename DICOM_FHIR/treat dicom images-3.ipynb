{
 "cells": [
  {
   "cell_type": "code",
   "execution_count": null,
   "id": "2476e78f-4eb3-4461-80eb-d5bcf1d3bfdb",
   "metadata": {},
   "outputs": [],
   "source": [
    "import requests\n",
    "import json\n",
    "import os\n",
    "import pydicom\n",
    "from pydicom.dataelem import DataElement\n",
    "import base64\n",
    "import glob\n",
    "from pathlib import Path\n",
    "import matplotlib.pyplot as plt\n",
    "from presidio_image_redactor import DicomImageRedactorEngine\n",
    "import datetime\n",
    "from PIL import Image, ImageDraw, ImageFont\n",
    "import numpy as np"
   ]
  },
  {
   "cell_type": "code",
   "execution_count": null,
   "id": "c48655aa-5fbc-4b4b-8f67-ff703dd780fa",
   "metadata": {},
   "outputs": [],
   "source": [
    "import cv2\n",
    "import numpy as np\n",
    "\n",
    "def draw_text_on_image_opencv(image_array, text, position=(10, 30), font_scale=1, font_color=(255, 255, 255), thickness=2, font=cv2.FONT_HERSHEY_SIMPLEX):\n",
    "    \"\"\"\n",
    "    Draws text on a NumPy array representing an image using OpenCV.\n",
    "\n",
    "    Args:\n",
    "        image_array (numpy.ndarray): The image as a NumPy array (e.g., shape (height, width, 3) for RGB).\n",
    "        text (str): The text to draw.\n",
    "        position (tuple): The (x, y) coordinates of the text's bottom-left corner.\n",
    "        font_scale (float): The font scale factor.\n",
    "        font_color (tuple): The BGR color of the text (e.g., (0, 0, 255) for red).\n",
    "        thickness (int): The thickness of the text lines.\n",
    "        font (int): The OpenCV font type (e.g., cv2.FONT_HERSHEY_SIMPLEX).\n",
    "\n",
    "    Returns:\n",
    "        numpy.ndarray: The modified image as a NumPy array.\n",
    "    \"\"\"\n",
    "    try:\n",
    "        # OpenCV uses BGR color format, so we reverse the RGB tuple\n",
    "        bgr_color = (font_color[2], font_color[1], font_color[0])\n",
    "\n",
    "        # Draw the text using cv2.putText()\n",
    "        cv2.putText(image_array, text, position, font, font_scale, bgr_color, thickness)\n",
    "\n",
    "        return image_array\n",
    "\n",
    "    except Exception as e:\n",
    "        print(f\"Error drawing text: {e}\")\n",
    "        return image_array\n",
    "\n",
    "\n",
    "def draw_text_on_image_opencv_adaptive(image_array, text, position_percent=(0.01, 0.05), font_scale_percent=0.01, font_color=(0, 0, 0), thickness_percent=0.002, font=cv2.FONT_HERSHEY_SIMPLEX):\n",
    "    \"\"\"\n",
    "    Draws text on a NumPy array representing an image using OpenCV, adapting to different resolutions.\n",
    "\n",
    "    Args:\n",
    "        image_array (numpy.ndarray): The image as a NumPy array (e.g., shape (height, width, 3) for RGB).\n",
    "        text (str): The text to draw.\n",
    "        position_percent (tuple): The (x, y) coordinates of the text's bottom-left corner, as percentages of image dimensions.\n",
    "        font_scale_percent (float): The font scale factor, as a percentage of the image height.\n",
    "        font_color (tuple): The BGR color of the text (e.g., (0, 0, 255) for red).\n",
    "        thickness_percent (float): The thickness of the text lines, as a percentage of the image height.\n",
    "        font (int): The OpenCV font type (e.g., cv2.FONT_HERSHEY_SIMPLEX).\n",
    "\n",
    "    Returns:\n",
    "        numpy.ndarray: The modified image as a NumPy array.\n",
    "    \"\"\"\n",
    "    try:\n",
    "        height, width = image_array.shape[:2]  # Get image dimensions\n",
    "\n",
    "        # Calculate absolute pixel positions and font scale/thickness based on percentages\n",
    "        position = (int(width * position_percent[0]), int(height * position_percent[1]))\n",
    "        font_scale = height * font_scale_percent\n",
    "        thickness = int(height * thickness_percent)\n",
    "\n",
    "        bgr_color = (font_color[2], font_color[1], font_color[0])\n",
    "        cv2.putText(image_array, text, position, font, font_scale, bgr_color, thickness)\n",
    "        return image_array\n",
    "\n",
    "    except Exception as e:\n",
    "        print(f\"Error drawing text: {e}\")\n",
    "        return image_array\n",
    "\n",
    "\n",
    "def draw_text_on_image_opencv(image_array, text, position=(10, 30), font_scale=1, font_color=(255, 255, 255), thickness=2, font=cv2.FONT_HERSHEY_SIMPLEX):\n",
    "    try:\n",
    "        bgr_color = (font_color[2], font_color[1], font_color[0])\n",
    "        cv2.putText(image_array, text, position, font, font_scale, bgr_color, thickness)\n",
    "        return image_array\n",
    "    except Exception as e:\n",
    "        print(f\"Error drawing text: {e}\")\n",
    "        return image_array"
   ]
  },
  {
   "cell_type": "code",
   "execution_count": null,
   "id": "e6f92684-07cc-401c-86c2-2f44893230e3",
   "metadata": {},
   "outputs": [],
   "source": [
    "# Load in and process your DICOM file as needed\n",
    "dicom_instance = pydicom.dcmread('dicom/manifest-1617826161202/Pseudo-PHI-DICOM-Data/Pseudo-PHI-001/06-26-2003-NA-XR CHEST AP PORTABLE-96544/1002.000000-NA-96023/1-1.dcm')\n",
    "_dicom_instance = pydicom.dcmread('dicom/manifest-1617826161202/Pseudo-PHI-DICOM-Data/Pseudo-PHI-021/03-30-1987-NA-MRI ABDOMEN PELVIS WWO CONT-29432/16.000000-LIVER-PELVISHASTESAGPOS-56660/1-09.dcm')"
   ]
  },
  {
   "cell_type": "code",
   "execution_count": null,
   "id": "0baf7ffe-86b0-4618-9d1d-010f8d110c6f",
   "metadata": {},
   "outputs": [],
   "source": [
    "dicom_instance.pixel_array.shape, _dicom_instance.pixel_array.shape"
   ]
  },
  {
   "cell_type": "code",
   "execution_count": null,
   "id": "4241f4c3-e830-46fd-be6c-5f533d6c2ba2",
   "metadata": {},
   "outputs": [],
   "source": [
    "dicom_instance.PatientBirthDate=\"19690414\"\n",
    "dicom_instance.PatientName=\"Juan Huertas\"\n",
    "_dicom_instance.PatientBirthDate=\"19690414\"\n",
    "_dicom_instance.PatientName=\"Juan Huertas\""
   ]
  },
  {
   "cell_type": "markdown",
   "id": "c98104e0-43b6-420e-a966-b2073a06c5e0",
   "metadata": {},
   "source": [
    "# Write Text on the Image"
   ]
  },
  {
   "cell_type": "code",
   "execution_count": null,
   "id": "43eeb038-1aa1-419f-8875-62cff62aee7e",
   "metadata": {},
   "outputs": [],
   "source": [
    "# Parameters for the first image\n",
    "first_image = draw_text_on_image_opencv(dicom_instance.pixel_array, str(dicom_instance.PatientName), position=(20, 80), font_scale=2.0, font_color=(255, 255, 255), thickness=4)\n",
    "first_image = draw_text_on_image_opencv(first_image, str(dicom_instance.PatientBirthDate), position=(20, 140), font_scale=2.0, font_color=(255, 255, 255), thickness=4)"
   ]
  },
  {
   "cell_type": "code",
   "execution_count": null,
   "id": "a55be0c8-f4f0-42a0-8c83-a79085d9287b",
   "metadata": {},
   "outputs": [],
   "source": [
    "dicom_instance.PixelData  = first_image.tobytes()"
   ]
  },
  {
   "cell_type": "code",
   "execution_count": null,
   "id": "70ef24ce-c13a-46bb-bafd-eeafb2cf6a4e",
   "metadata": {},
   "outputs": [],
   "source": [
    "plt.figure(figsize=(10,10))\n",
    "plt.imshow(dicom_instance.pixel_array)"
   ]
  },
  {
   "cell_type": "code",
   "execution_count": null,
   "id": "6972d90e-6d96-49ac-ab93-2022b489141f",
   "metadata": {},
   "outputs": [],
   "source": [
    "# Parameters for the second image\n",
    "second_image = draw_text_on_image_opencv(_dicom_instance.pixel_array, str(_dicom_instance.PatientName), position=(10, 30), font_scale=0.5, font_color=(255, 255, 255), thickness=1)\n",
    "second_image = draw_text_on_image_opencv(second_image, str(_dicom_instance.PatientBirthDate), position=(10, 50), font_scale=0.5, font_color=(255, 255, 255), thickness=1)"
   ]
  },
  {
   "cell_type": "code",
   "execution_count": null,
   "id": "29547e12-3b7b-4616-8eb9-b25024973087",
   "metadata": {},
   "outputs": [],
   "source": [
    "_dicom_instance.PixelData  = second_image.tobytes()"
   ]
  },
  {
   "cell_type": "code",
   "execution_count": null,
   "id": "4bdbd2c1-7890-4092-ae32-b59a262e706a",
   "metadata": {},
   "outputs": [],
   "source": [
    "plt.figure(figsize=(10,10))\n",
    "plt.imshow(_dicom_instance.pixel_array)"
   ]
  },
  {
   "cell_type": "code",
   "execution_count": null,
   "id": "a42ca544-cab7-4d60-a3da-a911086e973c",
   "metadata": {},
   "outputs": [],
   "source": [
    "position = (20, 80)\n",
    "font_scale = 2.0\n",
    "font_color = (0, 0, 0)  # Red (BGR)\n",
    "thickness = 4\n",
    "font = cv2.FONT_HERSHEY_SIMPLEX # Change font if desired"
   ]
  },
  {
   "cell_type": "code",
   "execution_count": null,
   "id": "422c9708-23c3-42ff-8e49-1d16a0b3b903",
   "metadata": {},
   "outputs": [],
   "source": [
    "#modified_image_array = draw_text_on_image(dicom_instance.pixel_array, str(dicom_instance.PatientName), position, font_size, text_color, font_path)\n",
    "\n",
    "modified_image_array = draw_text_on_image_opencv(dicom_instance.pixel_array, str(dicom_instance.PatientName), position, font_scale, font_color, thickness, font)"
   ]
  },
  {
   "cell_type": "code",
   "execution_count": null,
   "id": "ccf50c28-264a-4ae5-8960-907eb313ba8c",
   "metadata": {},
   "outputs": [],
   "source": [
    "dicom_instance.PixelData  = modified_image_array.tostring()"
   ]
  },
  {
   "cell_type": "code",
   "execution_count": null,
   "id": "04b1976a-cd13-4b28-952e-1cc94fba2c5a",
   "metadata": {},
   "outputs": [],
   "source": [
    "position = (20, 140)\n",
    "modified_image_array = draw_text_on_image_opencv(dicom_instance.pixel_array, str(dicom_instance.PatientBirthDate), position, font_scale, font_color, thickness, font)\n",
    "dicom_instance.PixelData  = modified_image_array.tostring()"
   ]
  },
  {
   "cell_type": "code",
   "execution_count": null,
   "id": "8006f42f-d233-4f60-b65e-31bf357749c4",
   "metadata": {},
   "outputs": [],
   "source": [
    "plt.figure(figsize=(10,10))\n",
    "plt.imshow(dicom_instance.pixel_array)"
   ]
  },
  {
   "cell_type": "code",
   "execution_count": null,
   "id": "567a351a-4516-468d-af1b-4ee3960cffce",
   "metadata": {},
   "outputs": [],
   "source": [
    "dicom_instance.save_as(\"modified_dcm.dcm\")"
   ]
  },
  {
   "cell_type": "code",
   "execution_count": null,
   "id": "ebf618bd-e510-4bc5-b87c-e2e48a5bc7d8",
   "metadata": {},
   "outputs": [],
   "source": [
    "dicom_instance2 = pydicom.dcmread(\"modified_dcm.dcm\")\n",
    "dicom_instance3 = pydicom.dcmread(\"1-09.dcm\")"
   ]
  },
  {
   "cell_type": "code",
   "execution_count": null,
   "id": "e7d631d6-ee48-4f8e-9374-0a55ee7bb616",
   "metadata": {
    "scrolled": true
   },
   "outputs": [],
   "source": [
    "dicom_instance3"
   ]
  },
  {
   "cell_type": "code",
   "execution_count": null,
   "id": "926f0ba8-c5a9-41ab-863f-7ab639646863",
   "metadata": {},
   "outputs": [],
   "source": [
    "plt.figure(figsize=(10,10))\n",
    "plt.imshow(dicom_instance3.pixel_array)"
   ]
  },
  {
   "cell_type": "code",
   "execution_count": null,
   "id": "f19bcb63-feab-4c5d-ac07-917b6c3850d8",
   "metadata": {},
   "outputs": [],
   "source": [
    "dicom_instance3 = pydicom.dcmread(\"dicom2/0002.DCM\")"
   ]
  },
  {
   "cell_type": "code",
   "execution_count": null,
   "id": "41d350f9-ae97-4374-8264-86ff99b33c09",
   "metadata": {},
   "outputs": [],
   "source": [
    "dicom_instance3"
   ]
  },
  {
   "cell_type": "code",
   "execution_count": null,
   "id": "3c29edaf-d17e-432c-9968-e5d3f6b15b12",
   "metadata": {},
   "outputs": [],
   "source": [
    "list_frames = []\n",
    "for frame in dicom_instance3.pixel_array:\n",
    "    modified_image_array = draw_text_on_image_opencv(frame, str(dicom_instance.PatientName), position, 1.0, font_color, thickness, font)\n",
    "    position = (20, 140)\n",
    "    modified_image_array = draw_text_on_image_opencv(modified_image_array, str(dicom_instance.PatientBirthDate), position, 1.0, font_color, thickness, font)\n",
    "    list_frames.append(modified_image_array.tostring())"
   ]
  },
  {
   "cell_type": "code",
   "execution_count": null,
   "id": "4a242de7-ef42-4df5-b190-2427770eb9d8",
   "metadata": {},
   "outputs": [],
   "source": [
    "list_frames = np.array(list_frames)"
   ]
  },
  {
   "cell_type": "code",
   "execution_count": null,
   "id": "e3d654ca-1910-4a83-b3b1-e659e62caf5f",
   "metadata": {},
   "outputs": [],
   "source": [
    "dicom_instance3.PixelData  = list_frames.tostring()"
   ]
  },
  {
   "cell_type": "code",
   "execution_count": null,
   "id": "36ac6535-53a3-4ecd-8235-0790c9f50d6d",
   "metadata": {},
   "outputs": [],
   "source": [
    "import numpy as np\n",
    "import cv2\n",
    "\n",
    "def visualize_array_as_video(array):\n",
    "    # Create a VideoWriter object\n",
    "    height, width = array.shape[1], array.shape[2]\n",
    "    out = cv2.VideoWriter('output.avi', cv2.VideoWriter_fourcc(*'DIVX'), 15, (width, height), isColor=False)\n",
    "\n",
    "    for i in range(array.shape[0]):\n",
    "        frame = (array[i] * 255).astype(np.uint8)  # Convert to uint8\n",
    "        out.write(frame)\n",
    "\n",
    "    out.release()\n",
    "    print(\"Video saved as output.avi\")\n",
    "\n",
    "\n"
   ]
  },
  {
   "cell_type": "code",
   "execution_count": null,
   "id": "2a24998b-d81d-4586-a771-c8532c4f365d",
   "metadata": {},
   "outputs": [],
   "source": [
    "#visualize_array_as_video(list_frames)"
   ]
  },
  {
   "cell_type": "code",
   "execution_count": null,
   "id": "aa2ddd93-f360-4f20-81dc-0d2b795b1f9a",
   "metadata": {},
   "outputs": [],
   "source": [
    "#dicom_instance3"
   ]
  },
  {
   "cell_type": "code",
   "execution_count": null,
   "id": "c960a402-36a2-4ec9-adf9-806c9da91839",
   "metadata": {},
   "outputs": [],
   "source": [
    "# plt.figure(figsize=(10,10))\n",
    "# plt.imshow(dicom_instance3.pixel_array[0])"
   ]
  },
  {
   "cell_type": "code",
   "execution_count": null,
   "id": "117215f0-5431-42a7-a626-503bc4a8f3a9",
   "metadata": {},
   "outputs": [],
   "source": []
  }
 ],
 "metadata": {
  "kernelspec": {
   "display_name": "Python (pii_dicom)",
   "language": "python",
   "name": "pi_dicom"
  },
  "language_info": {
   "codemirror_mode": {
    "name": "ipython",
    "version": 3
   },
   "file_extension": ".py",
   "mimetype": "text/x-python",
   "name": "python",
   "nbconvert_exporter": "python",
   "pygments_lexer": "ipython3",
   "version": "3.11.11"
  }
 },
 "nbformat": 4,
 "nbformat_minor": 5
}
