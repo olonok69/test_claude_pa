{
 "cells": [
  {
   "cell_type": "markdown",
   "metadata": {
    "id": "icBzRcgcWOoq"
   },
   "source": [
    "# ViT Transformer\n",
    "\n",
    "The Vision Transformer (ViT) is a transformer encoder model (BERT-like) pretrained on a large collection of images in a supervised fashion, namely ImageNet-21k, at a resolution of 224x224 pixels.\n",
    "\n",
    "Images are presented to the model as a sequence of fixed-size patches (resolution 16x16), which are linearly embedded. One also adds a [CLS] token to the beginning of a sequence to use it for classification tasks. One also adds absolute position embeddings before feeding the sequence to the layers of the Transformer encoder.\n",
    "\n",
    "Note that this model does not provide any fine-tuned heads, as these were zero'd by Google researchers. However, the model does include the pre-trained pooler, which can be used for downstream tasks (such as image classification).\n",
    "\n",
    "By pre-training the model, it learns an inner representation of images that can then be used to extract features useful for downstream tasks: if you have a dataset of labeled images for instance, you can train a standard classifier by placing a linear layer on top of the pre-trained encoder. One typically places a linear layer on top of the [CLS] token, as the last hidden state of this token can be seen as a representation of an entire image.\n",
    "\n",
    "\n",
    "https://huggingface.co/google/vit-base-patch16-224-in21k\n",
    "\n",
    "\n",
    "###Paper\n",
    "https://arxiv.org/pdf/2010.11929\n",
    "\n",
    "\n",
    "\n",
    "### Training data\n",
    "The ViT model was pretrained on ImageNet-21k, a dataset consisting of 14 million images and 21k classes. https://www.image-net.org/\n",
    "\n",
    "### MLFLOW\n",
    "A Tool for Managing the Machine Learning Lifecycle\n",
    "MLflow is an open-source platform, purpose-built to assist machine learning practitioners and teams in handling the complexities of the machine learning process. MLflow focuses on the full lifecycle for machine learning projects, ensuring that each phase is manageable, traceable, and reproducible.\n",
    "\n",
    "\n",
    "https://mlflow.org/docs/latest/index.html"
   ]
  },
  {
   "cell_type": "markdown",
   "metadata": {
    "id": "cUea4AVW9xHl"
   },
   "source": [
    "# ONNX (Open Neural Network Exchange)\n",
    "- https://onnx.ai/onnx/\n",
    "\n",
    "### ONNX Runtime\n",
    "ONNX Runtime is a cross-platform machine-learning model accelerator, with a flexible interface to integrate hardware-specific libraries. ONNX Runtime can be used with models from PyTorch, Tensorflow/Keras, TFLite, scikit-learn, and other frameworks.\n",
    "\n",
    "https://onnxruntime.ai/docs/\n",
    "\n"
   ]
  },
  {
   "cell_type": "code",
   "execution_count": null,
   "metadata": {
    "colab": {
     "base_uri": "https://localhost:8080/"
    },
    "id": "uzu0R8y3oqj7",
    "outputId": "77becac2-5ce3-464e-bbb1-08017401218f"
   },
   "outputs": [],
   "source": [
    "from google.colab import drive\n",
    "drive.mount('/content/drive')"
   ]
  },
  {
   "cell_type": "code",
   "execution_count": null,
   "metadata": {
    "colab": {
     "base_uri": "https://localhost:8080/"
    },
    "id": "PNaQgd55pPCn",
    "outputId": "0b838447-3e0c-4d14-b405-9acfb85b9054"
   },
   "outputs": [],
   "source": [
    "!pip install mlflow   optimum open_clip_torch --quiet\n",
    "\n",
    "! pip install psutil pynvml -q"
   ]
  },
  {
   "cell_type": "code",
   "execution_count": null,
   "metadata": {
    "id": "_4BthcQkpsWX"
   },
   "outputs": [],
   "source": [
    "# Transformers installation\n",
    "\n",
    "! pip install transformers[torch] -q\n",
    "! pip install accelerate -U -q\n",
    "# To install from source instead of the last release, comment the command above and uncomment the following one.\n",
    "# ! pip install git+https://github.com/huggingface/transformers.git"
   ]
  },
  {
   "cell_type": "code",
   "execution_count": null,
   "metadata": {
    "colab": {
     "base_uri": "https://localhost:8080/"
    },
    "id": "L4A5Y9YtWfjI",
    "outputId": "bd45f456-c82b-4b5e-a961-95c513cc238d"
   },
   "outputs": [],
   "source": [
    "! pip install onnxruntime -q\n",
    "! pip install optimum[onnxruntime] -q"
   ]
  },
  {
   "cell_type": "code",
   "execution_count": null,
   "metadata": {
    "id": "u8yHXLQyCeVJ"
   },
   "outputs": [],
   "source": [
    "path_model =\"/content/drive/MyDrive/models/nsfw_pytorch\""
   ]
  },
  {
   "cell_type": "code",
   "execution_count": null,
   "metadata": {
    "id": "taUuIbADpcaR"
   },
   "outputs": [],
   "source": [
    "from google.colab import userdata\n",
    "\n",
    "from transformers import ViTImageProcessor, ViTForImageClassification\n",
    "import os\n",
    "import sys\n",
    "import platform\n",
    "from PIL import Image"
   ]
  },
  {
   "cell_type": "code",
   "execution_count": null,
   "metadata": {
    "id": "CicPfY0RrsR2"
   },
   "outputs": [],
   "source": [
    "\n",
    "\n",
    "from datasets import load_dataset\n",
    "from functools import partial\n",
    "import os\n",
    "\n",
    "import torch\n",
    "from transformers import AutoModelForCausalLM, AutoTokenizer, set_seed, Trainer, TrainingArguments, BitsAndBytesConfig, \\\n",
    "    DataCollatorForLanguageModeling, Trainer, TrainingArguments\n",
    "from datasets import load_dataset\n",
    "from torch import cuda, bfloat16\n",
    "import transformers\n",
    "import openai\n",
    "\n",
    "import torch.nn as nn\n",
    "from google.colab import userdata\n",
    "import mlflow\n",
    "import numpy as np"
   ]
  },
  {
   "cell_type": "code",
   "execution_count": null,
   "metadata": {
    "id": "K7vZHAW_sdrj"
   },
   "outputs": [],
   "source": [
    "\n",
    "from google.colab import output\n",
    "output.enable_custom_widget_manager()\n",
    "\n",
    "from transformers.utils import logging\n",
    "from transformers import pipeline"
   ]
  },
  {
   "cell_type": "code",
   "execution_count": null,
   "metadata": {
    "id": "Gvyw8-W7wJkd"
   },
   "outputs": [],
   "source": [
    "logging.set_verbosity_error()\n",
    "\n",
    "os.environ[\"TRANSFORMERS_VERBOSITY\"] = \"error\""
   ]
  },
  {
   "cell_type": "code",
   "execution_count": null,
   "metadata": {
    "colab": {
     "base_uri": "https://localhost:8080/",
     "height": 35
    },
    "id": "i4BfxrozshY3",
    "outputId": "93617507-949d-4f2d-bd60-43d6a8486718"
   },
   "outputs": [],
   "source": [
    "\n",
    "\n",
    "device = f'cuda:{cuda.current_device()}' if cuda.is_available() else 'cpu'\n",
    "device\n"
   ]
  },
  {
   "cell_type": "code",
   "execution_count": null,
   "metadata": {
    "id": "iQMCpdWkuu1Q"
   },
   "outputs": [],
   "source": [
    "MLFLOW_TRACKING_URI=\"databricks\"\n",
    "# Specify the workspace hostname and token\n",
    "DATABRICKS_HOST=\"https://adb-2467347032368999.19.azuredatabricks.net/\"\n",
    "DATABRICKS_TOKEN=userdata.get('DATABRCKS_TTOKEN')"
   ]
  },
  {
   "cell_type": "code",
   "execution_count": null,
   "metadata": {
    "id": "zUweE6gbuyYI"
   },
   "outputs": [],
   "source": [
    "\n",
    "\n",
    "if \"MLFLOW_TRACKING_URI\" not in os.environ:\n",
    "    os.environ[\"MLFLOW_TRACKING_URI\"] = MLFLOW_TRACKING_URI\n",
    "if \"DATABRICKS_HOST\" not in os.environ:\n",
    "    os.environ[\"DATABRICKS_HOST\"] = DATABRICKS_HOST\n",
    "if \"DATABRICKS_TOKEN\" not in os.environ:\n",
    "    os.environ[\"DATABRICKS_TOKEN\"] = DATABRICKS_TOKEN"
   ]
  },
  {
   "cell_type": "code",
   "execution_count": null,
   "metadata": {
    "id": "qbn0XCE3vm9U"
   },
   "outputs": [],
   "source": [
    "mlflow.set_tracking_uri(MLFLOW_TRACKING_URI)"
   ]
  },
  {
   "cell_type": "code",
   "execution_count": null,
   "metadata": {
    "colab": {
     "base_uri": "https://localhost:8080/"
    },
    "id": "X9Wk76w6vowx",
    "outputId": "c4d6333f-a07b-4ebd-fadd-bdabaaed59b5"
   },
   "outputs": [],
   "source": [
    "\n",
    "mlflow.set_experiment(\"/Users/pepe@kk.com/nsfw_onnx\")\n"
   ]
  },
  {
   "cell_type": "code",
   "execution_count": null,
   "metadata": {
    "id": "zegpmMnFvrtV"
   },
   "outputs": [],
   "source": [
    "mlflow.end_run()"
   ]
  },
  {
   "cell_type": "code",
   "execution_count": null,
   "metadata": {
    "id": "LF_PrlqXDq2J"
   },
   "outputs": [],
   "source": [
    "\n",
    "processor = ViTImageProcessor.from_pretrained(path_model)\n",
    "model = ViTForImageClassification.from_pretrained(path_model)\n",
    "model = model.to(\"cpu\")"
   ]
  },
  {
   "cell_type": "code",
   "execution_count": null,
   "metadata": {
    "id": "zvUjNxw_wKAQ"
   },
   "outputs": [],
   "source": [
    "image_path = \"/content/drive/MyDrive/data/beach.jpg\"\n",
    "image = Image.open(image_path).convert(\"RGB\")"
   ]
  },
  {
   "cell_type": "code",
   "execution_count": null,
   "metadata": {
    "colab": {
     "base_uri": "https://localhost:8080/"
    },
    "id": "TDDGeiRNJQJb",
    "outputId": "d4ee6fd7-4477-4fcb-df90-339d42723147"
   },
   "outputs": [],
   "source": [
    "np.array(image).shape"
   ]
  },
  {
   "cell_type": "code",
   "execution_count": null,
   "metadata": {
    "colab": {
     "base_uri": "https://localhost:8080/",
     "height": 399
    },
    "id": "w0gjTkd2p6O1",
    "outputId": "4d9510e2-e517-417b-b81d-b52d7f9eaa9b"
   },
   "outputs": [],
   "source": [
    "np.array(image)"
   ]
  },
  {
   "cell_type": "code",
   "execution_count": null,
   "metadata": {
    "id": "DzGuwvdKn6qf"
   },
   "outputs": [],
   "source": [
    "inputs = processor(images=image, return_tensors=\"pt\")\n",
    "\n",
    "input_tensor = inputs[\"pixel_values\"]"
   ]
  },
  {
   "cell_type": "code",
   "execution_count": null,
   "metadata": {
    "id": "EStq-HkPoLIo"
   },
   "outputs": [],
   "source": [
    "path_model_onnx =\"/content/drive/MyDrive/models/nsfw_pytorch/onnx\""
   ]
  },
  {
   "cell_type": "code",
   "execution_count": null,
   "metadata": {
    "colab": {
     "base_uri": "https://localhost:8080/"
    },
    "id": "0TAAoNvHn6nr",
    "outputId": "7b26619c-ef9a-4486-aa0c-ba0f022b03b9"
   },
   "outputs": [],
   "source": [
    "torch.onnx.export(\n",
    "    model=model,\n",
    "    args=(input_tensor,),\n",
    "    f=f\"{path_model_onnx}/vit_nsfw.onnx\",\n",
    "    opset_version=14,\n",
    "    do_constant_folding=True,\n",
    "    input_names=[\"input\"],\n",
    "    output_names=[\"output\"],\n",
    "    dynamic_axes={\"input\": {0: \"batch_size\"}, \"output\": {0: \"batch_size\"}},\n",
    ")"
   ]
  },
  {
   "cell_type": "code",
   "execution_count": null,
   "metadata": {
    "id": "fHWxPfkSn6kd"
   },
   "outputs": [],
   "source": [
    "import onnxruntime\n",
    "from PIL import Image\n",
    "import numpy as np\n",
    "import os\n",
    "import datetime"
   ]
  },
  {
   "cell_type": "code",
   "execution_count": null,
   "metadata": {
    "id": "KEaLQpgRn6hG"
   },
   "outputs": [],
   "source": [
    "ort_sess = onnxruntime.InferenceSession(\n",
    "   f\"{path_model_onnx}/vit_nsfw.onnx\", providers=[\"CPUExecutionProvider\"]\n",
    ")"
   ]
  },
  {
   "cell_type": "code",
   "execution_count": null,
   "metadata": {
    "id": "NxB2wzpNGJdU"
   },
   "outputs": [],
   "source": [
    "input_name = ort_sess.get_inputs()[0].name\n",
    "output_name = ort_sess.get_outputs()[0].name\n",
    "\n",
    "img_paths = [image_path]\n",
    "\n",
    "label_dic = {\"drawings\": 0, \"hentai\": 1, \"neutral\": 2, \"porn\": 3, \"sexy\": 4}"
   ]
  },
  {
   "cell_type": "code",
   "execution_count": null,
   "metadata": {
    "id": "SNZEDvWrGJUx"
   },
   "outputs": [],
   "source": [
    "def get_key(dict, value):\n",
    "    \"\"\"\n",
    "    return key given a value. From a dictionary\n",
    "    \"\"\"\n",
    "    for key, val in dict.items():\n",
    "        if val == value:\n",
    "            return key\n",
    "    return \"Value not found\"\n",
    "\n",
    "\n",
    "def load_img(path):\n",
    "    image = Image.open(path).convert(\"RGB\")\n",
    "    image = image.resize((224, 224), Image.BILINEAR)\n",
    "    img = np.array(image, dtype=np.float32)\n",
    "    img /= 255.0\n",
    "    img = np.transpose(img, (2, 0, 1))\n",
    "    return img"
   ]
  },
  {
   "cell_type": "code",
   "execution_count": null,
   "metadata": {
    "colab": {
     "base_uri": "https://localhost:8080/"
    },
    "id": "c8uhvPwaHNkS",
    "outputId": "1535aa5c-122e-4a3e-95c6-8bcde4263f61"
   },
   "outputs": [],
   "source": [
    "\n",
    "time1 = datetime.datetime.now()\n",
    "\n",
    "inputs = np.array([load_img(path) for path in img_paths])\n",
    "outputs = ort_sess.run([output_name], {input_name: inputs})[0]\n",
    "\n",
    "logits = np.array(outputs)\n",
    "\n",
    "probabilities = np.exp(logits) / np.sum(np.exp(logits), axis=1, keepdims=True)\n",
    "\n",
    "predicted_class = np.argmax(probabilities, axis=1)\n",
    "\n",
    "print(\"Predicted classes :\", predicted_class)\n",
    "print(\"\\n\")\n",
    "output_probs = {}\n",
    "for prob, key in zip(probabilities[0], range(0, len(probabilities[0]))):\n",
    "    label = get_key(label_dic, key)\n",
    "    output_probs[label] = float(prob)\n",
    "time2 = datetime.datetime.now()\n",
    "print(output_probs)\n",
    "secs = time2 - time1\n",
    "print(f\"Time: {secs}\")"
   ]
  },
  {
   "cell_type": "code",
   "execution_count": null,
   "metadata": {
    "id": "RRR4jCd3J2se"
   },
   "outputs": [],
   "source": [
    "\n",
    "import mlflow\n",
    "from mlflow.models.signature import infer_signature\n",
    "from mlflow.pyfunc import PythonModel\n",
    "import pprint\n",
    "\n"
   ]
  },
  {
   "cell_type": "code",
   "execution_count": null,
   "metadata": {
    "id": "1yu3PNQif6rW"
   },
   "outputs": [],
   "source": [
    "class NSFW_Classifier_ONNX(PythonModel):\n",
    "\n",
    "  def load_context(self, context):\n",
    "        \"\"\"\n",
    "        This method initializes the tokenizer and language model\n",
    "        using the specified model snapshot directory.\n",
    "        \"\"\"\n",
    "\n",
    "        import onnxruntime\n",
    "        from PIL import Image\n",
    "        import numpy as np\n",
    "        import os\n",
    "        global label_dic\n",
    "        label_dic = {\"drawings\": 0, \"hentai\": 1, \"neutral\": 2, \"porn\": 3, \"sexy\": 4}\n",
    "        self.model = onnxruntime.InferenceSession( context.artifacts[\"snapshot\"], providers=[\"CPUExecutionProvider\"])\n",
    "        self.input_name = self.model.get_inputs()[0].name\n",
    "        self.output_name = self.model.get_outputs()[0].name\n",
    "\n",
    "  def get_key(self, dict, value):\n",
    "      \"\"\"\n",
    "      return key given a value. From a dictionary\n",
    "      \"\"\"\n",
    "      for key, val in dict.items():\n",
    "          if val == value:\n",
    "              return key\n",
    "      return \"Value not found\"\n",
    "\n",
    "\n",
    "  def load_img(self, path):\n",
    "      image = Image.open(path).convert(\"RGB\")\n",
    "      image = image.resize((224, 224), Image.BILINEAR)\n",
    "      img = np.array(image, dtype=np.float32)\n",
    "      img /= 255.0\n",
    "      img = np.transpose(img, (2, 0, 1))\n",
    "      return img\n",
    "\n",
    "\n",
    "  def predict(self, context, model_input, params=None):\n",
    "        \"\"\"\n",
    "        This method generates prediction for the given input.\n",
    "        \"\"\"\n",
    "        path_image = model_input[\"path_image\"][0]\n",
    "        inputs = np.array([load_img(path=path_image)])\n",
    "        outputs = self.model.run([self.output_name], {self.input_name: inputs})[0]\n",
    "\n",
    "        logits = np.array(outputs)\n",
    "\n",
    "        probabilities = np.exp(logits) / np.sum(np.exp(logits), axis=1, keepdims=True)\n",
    "\n",
    "        predicted_class = np.argmax(probabilities, axis=1)\n",
    "        output_probs = {}\n",
    "        for prob, key in zip(probabilities[0], range(0, len(probabilities[0]))):\n",
    "            label = self.get_key(label_dic, key)\n",
    "            output_probs[label] = float(prob)\n",
    "\n",
    "        return output_probs\n"
   ]
  },
  {
   "cell_type": "code",
   "execution_count": null,
   "metadata": {
    "id": "oS5NYOkOf6jq"
   },
   "outputs": [],
   "source": [
    "import numpy as np\n",
    "import pandas as pd\n",
    "\n",
    "import mlflow\n",
    "from mlflow.models.signature import ModelSignature\n",
    "from mlflow.types import ColSpec, DataType, ParamSchema, ParamSpec, Schema\n",
    "\n",
    "from mlflow.models import infer_signature\n",
    "\n",
    "model_output= {'drawings': 0.008857411332428455, 'hentai': 0.001359450165182352, 'neutral': 0.9857551455497742, 'porn': 0.001926638651639223, 'sexy': 0.002101368270814419}\n",
    "\n",
    "model_input= {\"path_image\":\"/content/drive/MyDrive/data/beach.jpg\"}\n",
    "\n",
    "\n",
    "signature = infer_signature(model_input=model_input,model_output=model_output)\n",
    "\n",
    "\n",
    "\n",
    "# Define input example\n",
    "input_example = {\"path_image\":\"/content/drive/MyDrive/data/beach.jpg\"}"
   ]
  },
  {
   "cell_type": "code",
   "execution_count": null,
   "metadata": {
    "colab": {
     "base_uri": "https://localhost:8080/"
    },
    "id": "O6EC9vtaRWOt",
    "outputId": "114d0898-f1bd-40b6-ebf8-275921ed2ba7"
   },
   "outputs": [],
   "source": [
    "signature"
   ]
  },
  {
   "cell_type": "code",
   "execution_count": null,
   "metadata": {
    "colab": {
     "base_uri": "https://localhost:8080/"
    },
    "id": "3nFDU-ahRYyV",
    "outputId": "987f71f1-ce4b-468c-fda3-db49674f7923"
   },
   "outputs": [],
   "source": [
    "input_example"
   ]
  },
  {
   "cell_type": "code",
   "execution_count": null,
   "metadata": {
    "colab": {
     "base_uri": "https://localhost:8080/",
     "height": 35
    },
    "id": "YWxQ4DtDuqtu",
    "outputId": "c1a25293-dd42-4f99-ec87-d434bf87613b"
   },
   "outputs": [],
   "source": [
    "import datetime\n",
    "now = datetime.datetime.now()\n",
    "now.strftime(\"%Y-%m-%d_%H:%M:%S\")"
   ]
  },
  {
   "cell_type": "code",
   "execution_count": null,
   "metadata": {
    "id": "9ImpbVJ68WVd"
   },
   "outputs": [],
   "source": [
    "# Get the current base version of torch that is installed, without specific version modifiers\n",
    "torch_version = torch.__version__.split(\"+\")[0]"
   ]
  },
  {
   "cell_type": "code",
   "execution_count": null,
   "metadata": {
    "colab": {
     "base_uri": "https://localhost:8080/",
     "height": 327,
     "referenced_widgets": [
      "53c18fde293b4a1782a3dc837eb1863c",
      "a4f6f8708439434b80697371b86262f3",
      "9d7ada5a1fe54397a45800ad53db107d",
      "d0da83b83a7942aaa2bb5052164d307b",
      "1c23916573684d4a861e55a3d4e21f0f",
      "f8178c25583e437f8e3d13e4f1c123dc",
      "409f42dac414457f867b954c5cce3ae5",
      "67f55ee0ff754351800d7ba07e4ec0eb",
      "67377237be554867b8002201cabd3135",
      "3896c2ec09944d2aadc248d33c08ebba",
      "75e6cc073ad84f1ab36dd121cbd0b25f",
      "dd79610922954008be4699de9d42b325",
      "9cb4fc343d9c41e487ec51b1bc82e5a8",
      "2a5d0f52fc564855a822df34c8a407d3",
      "17a15894ea6d4b3ca93b66dfd78f2f58",
      "50313db90a8545ee85388ca5b9e8343a",
      "c3eb22c1d9cb4bed8951b27f912e227e",
      "4664dcff787e4f53bbf11e6c197ba001",
      "43d3f91899604560b8131ba2285923c2",
      "88ab7ebd5313415f9e01967772188f3f",
      "09ed0a0f3ce64d46bbd0cafc5458d3a1",
      "19c9e2f88dce469e82d238544d18ba67"
     ]
    },
    "id": "BXD5wuDXimyv",
    "outputId": "ea5675fc-5b03-4ec4-a0cd-92067051954a"
   },
   "outputs": [],
   "source": [
    "\n",
    "# Start an MLflow run context and log the PHi3 model wrapper along with the param-included signature to\n",
    "# allow for overriding parameters at inference time\n",
    "now = datetime.datetime.now()\n",
    "\n",
    "description= \"\"\"Log NSFW fine tunned model with mlflow converted to ONNX to be used only in CPU\"\"\"\n",
    "with mlflow.start_run(run_name=f\"nsfw_onnx_log_{now.strftime('%Y-%m-%d_%H:%M:%S')}\", description=description) as run:\n",
    "    model_info = mlflow.pyfunc.log_model(\n",
    "        \"nsfw_image_classification\",\n",
    "        python_model=NSFW_Classifier_ONNX(),\n",
    "        # NOTE: the artifacts dictionary mapping is critical! This dict is used by the load_context() method in our PHi3() class.\n",
    "        artifacts={\"snapshot\": \"/content/drive/MyDrive/models/nsfw_pytorch/onnx/vit_nsfw.onnx\"},\n",
    "\n",
    "        pip_requirements=[\n",
    "            f\"torch=={torch_version}\",\n",
    "            f\"transformers=={transformers.__version__}\",\n",
    "            \"pillow\",\n",
    "            \"onnxruntime\",\n",
    "            \"numpy\",\n",
    "\n",
    "        ],\n",
    "        input_example=input_example,\n",
    "        signature=signature,\n",
    "    )"
   ]
  },
  {
   "cell_type": "code",
   "execution_count": null,
   "metadata": {
    "colab": {
     "base_uri": "https://localhost:8080/"
    },
    "id": "Fo31rdE5wwHj",
    "outputId": "2140f9d1-2655-4cbd-af9a-5c1c2af38fa1"
   },
   "outputs": [],
   "source": [
    "run.to_dictionary()"
   ]
  },
  {
   "cell_type": "code",
   "execution_count": null,
   "metadata": {
    "colab": {
     "base_uri": "https://localhost:8080/",
     "height": 35
    },
    "id": "7ni3ZzBVimvh",
    "outputId": "e24470e0-14f7-48b1-c1da-daa00c2e6ddd"
   },
   "outputs": [],
   "source": [
    "\n",
    "model_info.model_uri"
   ]
  },
  {
   "cell_type": "code",
   "execution_count": null,
   "metadata": {
    "colab": {
     "base_uri": "https://localhost:8080/",
     "height": 49,
     "referenced_widgets": [
      "6ddbd3037ec0478e8d40eb19fd8cb0d8",
      "caf3add25c5f4c06b54837a48b080a2e",
      "b4fc413e153d490ea5ebe0f26c4a9ce2",
      "70ea365880104cb18023f70c766d2232",
      "6b071f28e1264f1183413a813350f13b",
      "bf75ee8838224ad990af35581cb49b61",
      "6f3707cac88046579d4deac5bd7a93a2",
      "cdb2913fd8444cf282aa416d0a278698",
      "b152660438714661a70765aa864f45a8",
      "651bf1d41b6548179bbbae62dada716e",
      "79a4288865f7499da5d2b7ac1159bf68"
     ]
    },
    "id": "tts2Z4vjimdy",
    "outputId": "1058edbf-9643-41a4-deee-fe89aca0b492"
   },
   "outputs": [],
   "source": [
    "loaded_model = mlflow.pyfunc.load_model(model_info.model_uri)"
   ]
  },
  {
   "cell_type": "code",
   "execution_count": null,
   "metadata": {
    "colab": {
     "base_uri": "https://localhost:8080/"
    },
    "id": "Xy9Zm0RHpb15",
    "outputId": "1a5bb9de-5e2a-438e-babc-a025097d2e9a"
   },
   "outputs": [],
   "source": [
    "loaded_model"
   ]
  },
  {
   "cell_type": "code",
   "execution_count": null,
   "metadata": {
    "colab": {
     "base_uri": "https://localhost:8080/"
    },
    "id": "Kx_SXW-ppzfr",
    "outputId": "7ff4417d-0ece-403f-8aaf-801c9c76588e"
   },
   "outputs": [],
   "source": [
    "\n",
    "time1=  datetime.datetime.now()\n",
    "response = loaded_model.predict({\"path_image\":\"/content/drive/MyDrive/data/beach.jpg\"})\n",
    "time2=  datetime.datetime.now()\n",
    "print(time2-time1)"
   ]
  },
  {
   "cell_type": "code",
   "execution_count": null,
   "metadata": {
    "colab": {
     "base_uri": "https://localhost:8080/"
    },
    "id": "1aaqfk4VpzXF",
    "outputId": "bcab7986-9066-43d5-ac4d-6a6f8e2d6fb8"
   },
   "outputs": [],
   "source": [
    "\n",
    "pprint.pprint(response)"
   ]
  },
  {
   "cell_type": "code",
   "execution_count": null,
   "metadata": {
    "colab": {
     "base_uri": "https://localhost:8080/"
    },
    "id": "6nK4IVofaAxY",
    "outputId": "f9fe3eec-eb45-4dc7-a17d-ec53b899ce7f"
   },
   "outputs": [],
   "source": [
    "result = mlflow.register_model(\n",
    "    model_info.model_uri, \"vit_nsfw_onnx\"\n",
    ")"
   ]
  },
  {
   "cell_type": "code",
   "execution_count": null,
   "metadata": {
    "id": "w9d-RG6fjpdq"
   },
   "outputs": [],
   "source": [
    "from mlflow import MlflowClient\n",
    "\n",
    "client = MlflowClient()"
   ]
  },
  {
   "cell_type": "code",
   "execution_count": null,
   "metadata": {
    "colab": {
     "base_uri": "https://localhost:8080/"
    },
    "id": "gMzquuDAaWeI",
    "outputId": "38c280e2-629c-4050-f9fd-cfa06f0e5afb"
   },
   "outputs": [],
   "source": [
    "client.get_model_version(name=\"vit_nsfw_onnx\", version=3)"
   ]
  },
  {
   "cell_type": "code",
   "execution_count": null,
   "metadata": {
    "colab": {
     "base_uri": "https://localhost:8080/",
     "height": 104,
     "referenced_widgets": [
      "ef94f8c7d9354558bbc22ac77c763957",
      "2097aef2ba7b41348ea30a943e015926",
      "4c786417b6df43c894b75e57f5e2eeed",
      "f36601e52eb64bd29030a25e1439e4c3",
      "f5c8965f9ef44afd978086562471618a",
      "93bdc5bdc3a44742bc411421449eb377",
      "9967b1ff20954849a36c1903b1cf89a4",
      "566e30e923be4b739692114e24f73c36",
      "90ff71009a3d48ef90d387670396819d",
      "5ec86a7a3e2f42628608fc455b9cc2ec",
      "b3cb641dbc6b47a09b099dfa19ca02bb"
     ]
    },
    "id": "9ENan7waany8",
    "outputId": "809d5382-f887-44b7-e15a-e751539ed653"
   },
   "outputs": [],
   "source": [
    "import mlflow.pyfunc\n",
    "\n",
    "model_name = \"vit_nsfw_onnx\"\n",
    "model_version = 3\n",
    "\n",
    "model = mlflow.pyfunc.load_model(model_uri=f\"models:/{model_name}/{model_version}\")\n",
    "\n",
    "result= model.predict({\"path_image\":\"/content/drive/MyDrive/data/beach.jpg\"})"
   ]
  },
  {
   "cell_type": "code",
   "execution_count": null,
   "metadata": {
    "colab": {
     "base_uri": "https://localhost:8080/"
    },
    "id": "_ug-fDXJF-ZU",
    "outputId": "b11efe0e-d4c6-4701-f65d-f1a4fcb732cd"
   },
   "outputs": [],
   "source": [
    "pprint.pprint(result)"
   ]
  },
  {
   "cell_type": "code",
   "execution_count": null,
   "metadata": {
    "colab": {
     "base_uri": "https://localhost:8080/",
     "height": 35
    },
    "id": "ecENSV77s5ti",
    "outputId": "1b9b12ba-593b-4a15-ec44-2b3015ab03ed"
   },
   "outputs": [],
   "source": [
    "f\"models:/{model_name}/{model_version}\""
   ]
  }
 ],
 "metadata": {
  "accelerator": "GPU",
  "colab": {
   "authorship_tag": "ABX9TyPkF4Tg0qT8WiZJSnlJLfsK",
   "gpuType": "T4",
   "include_colab_link": true,
   "machine_shape": "hm",
   "provenance": []
  },
  "kernelspec": {
   "display_name": "Python 3 (ipykernel)",
   "language": "python",
   "name": "python3"
  },
  "language_info": {
   "codemirror_mode": {
    "name": "ipython",
    "version": 3
   },
   "file_extension": ".py",
   "mimetype": "text/x-python",
   "name": "python",
   "nbconvert_exporter": "python",
   "pygments_lexer": "ipython3",
   "version": "3.11.10"
  },
  "widgets": {
   "application/vnd.jupyter.widget-state+json": {
    "09ed0a0f3ce64d46bbd0cafc5458d3a1": {
     "model_module": "@jupyter-widgets/base",
     "model_module_version": "1.2.0",
     "model_name": "LayoutModel",
     "state": {
      "_model_module": "@jupyter-widgets/base",
      "_model_module_version": "1.2.0",
      "_model_name": "LayoutModel",
      "_view_count": null,
      "_view_module": "@jupyter-widgets/base",
      "_view_module_version": "1.2.0",
      "_view_name": "LayoutView",
      "align_content": null,
      "align_items": null,
      "align_self": null,
      "border": null,
      "bottom": null,
      "display": null,
      "flex": null,
      "flex_flow": null,
      "grid_area": null,
      "grid_auto_columns": null,
      "grid_auto_flow": null,
      "grid_auto_rows": null,
      "grid_column": null,
      "grid_gap": null,
      "grid_row": null,
      "grid_template_areas": null,
      "grid_template_columns": null,
      "grid_template_rows": null,
      "height": null,
      "justify_content": null,
      "justify_items": null,
      "left": null,
      "margin": null,
      "max_height": null,
      "max_width": null,
      "min_height": null,
      "min_width": null,
      "object_fit": null,
      "object_position": null,
      "order": null,
      "overflow": null,
      "overflow_x": null,
      "overflow_y": null,
      "padding": null,
      "right": null,
      "top": null,
      "visibility": null,
      "width": null
     }
    },
    "17a15894ea6d4b3ca93b66dfd78f2f58": {
     "model_module": "@jupyter-widgets/controls",
     "model_module_version": "1.5.0",
     "model_name": "DescriptionStyleModel",
     "state": {
      "_model_module": "@jupyter-widgets/controls",
      "_model_module_version": "1.5.0",
      "_model_name": "DescriptionStyleModel",
      "_view_count": null,
      "_view_module": "@jupyter-widgets/base",
      "_view_module_version": "1.2.0",
      "_view_name": "StyleView",
      "description_width": ""
     }
    },
    "19c9e2f88dce469e82d238544d18ba67": {
     "model_module": "@jupyter-widgets/controls",
     "model_module_version": "1.5.0",
     "model_name": "HBoxModel",
     "state": {
      "_dom_classes": [],
      "_model_module": "@jupyter-widgets/controls",
      "_model_module_version": "1.5.0",
      "_model_name": "HBoxModel",
      "_view_count": null,
      "_view_module": "@jupyter-widgets/controls",
      "_view_module_version": "1.5.0",
      "_view_name": "HBoxView",
      "box_style": "",
      "children": [
       "IPY_MODEL_4664dcff787e4f53bbf11e6c197ba001",
       "IPY_MODEL_43d3f91899604560b8131ba2285923c2",
       "IPY_MODEL_88ab7ebd5313415f9e01967772188f3f"
      ],
      "layout": "IPY_MODEL_09ed0a0f3ce64d46bbd0cafc5458d3a1"
     }
    },
    "1c23916573684d4a861e55a3d4e21f0f": {
     "model_module": "@jupyter-widgets/base",
     "model_module_version": "1.2.0",
     "model_name": "LayoutModel",
     "state": {
      "_model_module": "@jupyter-widgets/base",
      "_model_module_version": "1.2.0",
      "_model_name": "LayoutModel",
      "_view_count": null,
      "_view_module": "@jupyter-widgets/base",
      "_view_module_version": "1.2.0",
      "_view_name": "LayoutView",
      "align_content": null,
      "align_items": null,
      "align_self": null,
      "border": null,
      "bottom": null,
      "display": null,
      "flex": null,
      "flex_flow": null,
      "grid_area": null,
      "grid_auto_columns": null,
      "grid_auto_flow": null,
      "grid_auto_rows": null,
      "grid_column": null,
      "grid_gap": null,
      "grid_row": null,
      "grid_template_areas": null,
      "grid_template_columns": null,
      "grid_template_rows": null,
      "height": null,
      "justify_content": null,
      "justify_items": null,
      "left": null,
      "margin": null,
      "max_height": null,
      "max_width": null,
      "min_height": null,
      "min_width": null,
      "object_fit": null,
      "object_position": null,
      "order": null,
      "overflow": null,
      "overflow_x": null,
      "overflow_y": null,
      "padding": null,
      "right": null,
      "top": null,
      "visibility": null,
      "width": null
     }
    },
    "2097aef2ba7b41348ea30a943e015926": {
     "model_module": "@jupyter-widgets/controls",
     "model_module_version": "1.5.0",
     "model_name": "HTMLModel",
     "state": {
      "_dom_classes": [],
      "_model_module": "@jupyter-widgets/controls",
      "_model_module_version": "1.5.0",
      "_model_name": "HTMLModel",
      "_view_count": null,
      "_view_module": "@jupyter-widgets/controls",
      "_view_module_version": "1.5.0",
      "_view_name": "HTMLView",
      "description": "",
      "description_tooltip": null,
      "layout": "IPY_MODEL_93bdc5bdc3a44742bc411421449eb377",
      "placeholder": "​",
      "style": "IPY_MODEL_9967b1ff20954849a36c1903b1cf89a4",
      "value": "Downloading artifacts: 100%"
     }
    },
    "2a5d0f52fc564855a822df34c8a407d3": {
     "model_module": "@jupyter-widgets/base",
     "model_module_version": "1.2.0",
     "model_name": "LayoutModel",
     "state": {
      "_model_module": "@jupyter-widgets/base",
      "_model_module_version": "1.2.0",
      "_model_name": "LayoutModel",
      "_view_count": null,
      "_view_module": "@jupyter-widgets/base",
      "_view_module_version": "1.2.0",
      "_view_name": "LayoutView",
      "align_content": null,
      "align_items": null,
      "align_self": null,
      "border": null,
      "bottom": null,
      "display": null,
      "flex": null,
      "flex_flow": null,
      "grid_area": null,
      "grid_auto_columns": null,
      "grid_auto_flow": null,
      "grid_auto_rows": null,
      "grid_column": null,
      "grid_gap": null,
      "grid_row": null,
      "grid_template_areas": null,
      "grid_template_columns": null,
      "grid_template_rows": null,
      "height": null,
      "justify_content": null,
      "justify_items": null,
      "left": null,
      "margin": null,
      "max_height": null,
      "max_width": null,
      "min_height": null,
      "min_width": null,
      "object_fit": null,
      "object_position": null,
      "order": null,
      "overflow": null,
      "overflow_x": null,
      "overflow_y": null,
      "padding": null,
      "right": null,
      "top": null,
      "visibility": null,
      "width": null
     }
    },
    "3896c2ec09944d2aadc248d33c08ebba": {
     "model_module": "@jupyter-widgets/base",
     "model_module_version": "1.2.0",
     "model_name": "LayoutModel",
     "state": {
      "_model_module": "@jupyter-widgets/base",
      "_model_module_version": "1.2.0",
      "_model_name": "LayoutModel",
      "_view_count": null,
      "_view_module": "@jupyter-widgets/base",
      "_view_module_version": "1.2.0",
      "_view_name": "LayoutView",
      "align_content": null,
      "align_items": null,
      "align_self": null,
      "border": null,
      "bottom": null,
      "display": null,
      "flex": null,
      "flex_flow": null,
      "grid_area": null,
      "grid_auto_columns": null,
      "grid_auto_flow": null,
      "grid_auto_rows": null,
      "grid_column": null,
      "grid_gap": null,
      "grid_row": null,
      "grid_template_areas": null,
      "grid_template_columns": null,
      "grid_template_rows": null,
      "height": null,
      "justify_content": null,
      "justify_items": null,
      "left": null,
      "margin": null,
      "max_height": null,
      "max_width": null,
      "min_height": null,
      "min_width": null,
      "object_fit": null,
      "object_position": null,
      "order": null,
      "overflow": null,
      "overflow_x": null,
      "overflow_y": null,
      "padding": null,
      "right": null,
      "top": null,
      "visibility": null,
      "width": null
     }
    },
    "409f42dac414457f867b954c5cce3ae5": {
     "model_module": "@jupyter-widgets/controls",
     "model_module_version": "1.5.0",
     "model_name": "DescriptionStyleModel",
     "state": {
      "_model_module": "@jupyter-widgets/controls",
      "_model_module_version": "1.5.0",
      "_model_name": "DescriptionStyleModel",
      "_view_count": null,
      "_view_module": "@jupyter-widgets/base",
      "_view_module_version": "1.2.0",
      "_view_name": "StyleView",
      "description_width": ""
     }
    },
    "43d3f91899604560b8131ba2285923c2": {
     "model_module": "@jupyter-widgets/controls",
     "model_module_version": "1.5.0",
     "model_name": "FloatProgressModel",
     "state": {
      "_dom_classes": [],
      "_model_module": "@jupyter-widgets/controls",
      "_model_module_version": "1.5.0",
      "_model_name": "FloatProgressModel",
      "_view_count": null,
      "_view_module": "@jupyter-widgets/controls",
      "_view_module_version": "1.5.0",
      "_view_name": "ProgressView",
      "bar_style": "success",
      "description": "",
      "description_tooltip": null,
      "layout": "IPY_MODEL_dd79610922954008be4699de9d42b325",
      "max": 8,
      "min": 0,
      "orientation": "horizontal",
      "style": "IPY_MODEL_9cb4fc343d9c41e487ec51b1bc82e5a8",
      "value": 8
     }
    },
    "4664dcff787e4f53bbf11e6c197ba001": {
     "model_module": "@jupyter-widgets/controls",
     "model_module_version": "1.5.0",
     "model_name": "HTMLModel",
     "state": {
      "_dom_classes": [],
      "_model_module": "@jupyter-widgets/controls",
      "_model_module_version": "1.5.0",
      "_model_name": "HTMLModel",
      "_view_count": null,
      "_view_module": "@jupyter-widgets/controls",
      "_view_module_version": "1.5.0",
      "_view_name": "HTMLView",
      "description": "",
      "description_tooltip": null,
      "layout": "IPY_MODEL_2a5d0f52fc564855a822df34c8a407d3",
      "placeholder": "​",
      "style": "IPY_MODEL_17a15894ea6d4b3ca93b66dfd78f2f58",
      "value": "Uploading artifacts: 100%"
     }
    },
    "4c786417b6df43c894b75e57f5e2eeed": {
     "model_module": "@jupyter-widgets/controls",
     "model_module_version": "1.5.0",
     "model_name": "FloatProgressModel",
     "state": {
      "_dom_classes": [],
      "_model_module": "@jupyter-widgets/controls",
      "_model_module_version": "1.5.0",
      "_model_name": "FloatProgressModel",
      "_view_count": null,
      "_view_module": "@jupyter-widgets/controls",
      "_view_module_version": "1.5.0",
      "_view_name": "ProgressView",
      "bar_style": "success",
      "description": "",
      "description_tooltip": null,
      "layout": "IPY_MODEL_566e30e923be4b739692114e24f73c36",
      "max": 8,
      "min": 0,
      "orientation": "horizontal",
      "style": "IPY_MODEL_90ff71009a3d48ef90d387670396819d",
      "value": 8
     }
    },
    "50313db90a8545ee85388ca5b9e8343a": {
     "model_module": "@jupyter-widgets/base",
     "model_module_version": "1.2.0",
     "model_name": "LayoutModel",
     "state": {
      "_model_module": "@jupyter-widgets/base",
      "_model_module_version": "1.2.0",
      "_model_name": "LayoutModel",
      "_view_count": null,
      "_view_module": "@jupyter-widgets/base",
      "_view_module_version": "1.2.0",
      "_view_name": "LayoutView",
      "align_content": null,
      "align_items": null,
      "align_self": null,
      "border": null,
      "bottom": null,
      "display": null,
      "flex": null,
      "flex_flow": null,
      "grid_area": null,
      "grid_auto_columns": null,
      "grid_auto_flow": null,
      "grid_auto_rows": null,
      "grid_column": null,
      "grid_gap": null,
      "grid_row": null,
      "grid_template_areas": null,
      "grid_template_columns": null,
      "grid_template_rows": null,
      "height": null,
      "justify_content": null,
      "justify_items": null,
      "left": null,
      "margin": null,
      "max_height": null,
      "max_width": null,
      "min_height": null,
      "min_width": null,
      "object_fit": null,
      "object_position": null,
      "order": null,
      "overflow": null,
      "overflow_x": null,
      "overflow_y": null,
      "padding": null,
      "right": null,
      "top": null,
      "visibility": null,
      "width": null
     }
    },
    "53c18fde293b4a1782a3dc837eb1863c": {
     "model_module": "@jupyter-widgets/controls",
     "model_module_version": "1.5.0",
     "model_name": "HBoxModel",
     "state": {
      "_dom_classes": [],
      "_model_module": "@jupyter-widgets/controls",
      "_model_module_version": "1.5.0",
      "_model_name": "HBoxModel",
      "_view_count": null,
      "_view_module": "@jupyter-widgets/controls",
      "_view_module_version": "1.5.0",
      "_view_name": "HBoxView",
      "box_style": "",
      "children": [
       "IPY_MODEL_a4f6f8708439434b80697371b86262f3",
       "IPY_MODEL_9d7ada5a1fe54397a45800ad53db107d",
       "IPY_MODEL_d0da83b83a7942aaa2bb5052164d307b"
      ],
      "layout": "IPY_MODEL_1c23916573684d4a861e55a3d4e21f0f"
     }
    },
    "566e30e923be4b739692114e24f73c36": {
     "model_module": "@jupyter-widgets/base",
     "model_module_version": "1.2.0",
     "model_name": "LayoutModel",
     "state": {
      "_model_module": "@jupyter-widgets/base",
      "_model_module_version": "1.2.0",
      "_model_name": "LayoutModel",
      "_view_count": null,
      "_view_module": "@jupyter-widgets/base",
      "_view_module_version": "1.2.0",
      "_view_name": "LayoutView",
      "align_content": null,
      "align_items": null,
      "align_self": null,
      "border": null,
      "bottom": null,
      "display": null,
      "flex": null,
      "flex_flow": null,
      "grid_area": null,
      "grid_auto_columns": null,
      "grid_auto_flow": null,
      "grid_auto_rows": null,
      "grid_column": null,
      "grid_gap": null,
      "grid_row": null,
      "grid_template_areas": null,
      "grid_template_columns": null,
      "grid_template_rows": null,
      "height": null,
      "justify_content": null,
      "justify_items": null,
      "left": null,
      "margin": null,
      "max_height": null,
      "max_width": null,
      "min_height": null,
      "min_width": null,
      "object_fit": null,
      "object_position": null,
      "order": null,
      "overflow": null,
      "overflow_x": null,
      "overflow_y": null,
      "padding": null,
      "right": null,
      "top": null,
      "visibility": null,
      "width": null
     }
    },
    "5ec86a7a3e2f42628608fc455b9cc2ec": {
     "model_module": "@jupyter-widgets/base",
     "model_module_version": "1.2.0",
     "model_name": "LayoutModel",
     "state": {
      "_model_module": "@jupyter-widgets/base",
      "_model_module_version": "1.2.0",
      "_model_name": "LayoutModel",
      "_view_count": null,
      "_view_module": "@jupyter-widgets/base",
      "_view_module_version": "1.2.0",
      "_view_name": "LayoutView",
      "align_content": null,
      "align_items": null,
      "align_self": null,
      "border": null,
      "bottom": null,
      "display": null,
      "flex": null,
      "flex_flow": null,
      "grid_area": null,
      "grid_auto_columns": null,
      "grid_auto_flow": null,
      "grid_auto_rows": null,
      "grid_column": null,
      "grid_gap": null,
      "grid_row": null,
      "grid_template_areas": null,
      "grid_template_columns": null,
      "grid_template_rows": null,
      "height": null,
      "justify_content": null,
      "justify_items": null,
      "left": null,
      "margin": null,
      "max_height": null,
      "max_width": null,
      "min_height": null,
      "min_width": null,
      "object_fit": null,
      "object_position": null,
      "order": null,
      "overflow": null,
      "overflow_x": null,
      "overflow_y": null,
      "padding": null,
      "right": null,
      "top": null,
      "visibility": null,
      "width": null
     }
    },
    "651bf1d41b6548179bbbae62dada716e": {
     "model_module": "@jupyter-widgets/base",
     "model_module_version": "1.2.0",
     "model_name": "LayoutModel",
     "state": {
      "_model_module": "@jupyter-widgets/base",
      "_model_module_version": "1.2.0",
      "_model_name": "LayoutModel",
      "_view_count": null,
      "_view_module": "@jupyter-widgets/base",
      "_view_module_version": "1.2.0",
      "_view_name": "LayoutView",
      "align_content": null,
      "align_items": null,
      "align_self": null,
      "border": null,
      "bottom": null,
      "display": null,
      "flex": null,
      "flex_flow": null,
      "grid_area": null,
      "grid_auto_columns": null,
      "grid_auto_flow": null,
      "grid_auto_rows": null,
      "grid_column": null,
      "grid_gap": null,
      "grid_row": null,
      "grid_template_areas": null,
      "grid_template_columns": null,
      "grid_template_rows": null,
      "height": null,
      "justify_content": null,
      "justify_items": null,
      "left": null,
      "margin": null,
      "max_height": null,
      "max_width": null,
      "min_height": null,
      "min_width": null,
      "object_fit": null,
      "object_position": null,
      "order": null,
      "overflow": null,
      "overflow_x": null,
      "overflow_y": null,
      "padding": null,
      "right": null,
      "top": null,
      "visibility": null,
      "width": null
     }
    },
    "67377237be554867b8002201cabd3135": {
     "model_module": "@jupyter-widgets/controls",
     "model_module_version": "1.5.0",
     "model_name": "ProgressStyleModel",
     "state": {
      "_model_module": "@jupyter-widgets/controls",
      "_model_module_version": "1.5.0",
      "_model_name": "ProgressStyleModel",
      "_view_count": null,
      "_view_module": "@jupyter-widgets/base",
      "_view_module_version": "1.2.0",
      "_view_name": "StyleView",
      "bar_color": null,
      "description_width": ""
     }
    },
    "67f55ee0ff754351800d7ba07e4ec0eb": {
     "model_module": "@jupyter-widgets/base",
     "model_module_version": "1.2.0",
     "model_name": "LayoutModel",
     "state": {
      "_model_module": "@jupyter-widgets/base",
      "_model_module_version": "1.2.0",
      "_model_name": "LayoutModel",
      "_view_count": null,
      "_view_module": "@jupyter-widgets/base",
      "_view_module_version": "1.2.0",
      "_view_name": "LayoutView",
      "align_content": null,
      "align_items": null,
      "align_self": null,
      "border": null,
      "bottom": null,
      "display": null,
      "flex": null,
      "flex_flow": null,
      "grid_area": null,
      "grid_auto_columns": null,
      "grid_auto_flow": null,
      "grid_auto_rows": null,
      "grid_column": null,
      "grid_gap": null,
      "grid_row": null,
      "grid_template_areas": null,
      "grid_template_columns": null,
      "grid_template_rows": null,
      "height": null,
      "justify_content": null,
      "justify_items": null,
      "left": null,
      "margin": null,
      "max_height": null,
      "max_width": null,
      "min_height": null,
      "min_width": null,
      "object_fit": null,
      "object_position": null,
      "order": null,
      "overflow": null,
      "overflow_x": null,
      "overflow_y": null,
      "padding": null,
      "right": null,
      "top": null,
      "visibility": null,
      "width": null
     }
    },
    "6b071f28e1264f1183413a813350f13b": {
     "model_module": "@jupyter-widgets/base",
     "model_module_version": "1.2.0",
     "model_name": "LayoutModel",
     "state": {
      "_model_module": "@jupyter-widgets/base",
      "_model_module_version": "1.2.0",
      "_model_name": "LayoutModel",
      "_view_count": null,
      "_view_module": "@jupyter-widgets/base",
      "_view_module_version": "1.2.0",
      "_view_name": "LayoutView",
      "align_content": null,
      "align_items": null,
      "align_self": null,
      "border": null,
      "bottom": null,
      "display": null,
      "flex": null,
      "flex_flow": null,
      "grid_area": null,
      "grid_auto_columns": null,
      "grid_auto_flow": null,
      "grid_auto_rows": null,
      "grid_column": null,
      "grid_gap": null,
      "grid_row": null,
      "grid_template_areas": null,
      "grid_template_columns": null,
      "grid_template_rows": null,
      "height": null,
      "justify_content": null,
      "justify_items": null,
      "left": null,
      "margin": null,
      "max_height": null,
      "max_width": null,
      "min_height": null,
      "min_width": null,
      "object_fit": null,
      "object_position": null,
      "order": null,
      "overflow": null,
      "overflow_x": null,
      "overflow_y": null,
      "padding": null,
      "right": null,
      "top": null,
      "visibility": null,
      "width": null
     }
    },
    "6ddbd3037ec0478e8d40eb19fd8cb0d8": {
     "model_module": "@jupyter-widgets/controls",
     "model_module_version": "1.5.0",
     "model_name": "HBoxModel",
     "state": {
      "_dom_classes": [],
      "_model_module": "@jupyter-widgets/controls",
      "_model_module_version": "1.5.0",
      "_model_name": "HBoxModel",
      "_view_count": null,
      "_view_module": "@jupyter-widgets/controls",
      "_view_module_version": "1.5.0",
      "_view_name": "HBoxView",
      "box_style": "",
      "children": [
       "IPY_MODEL_caf3add25c5f4c06b54837a48b080a2e",
       "IPY_MODEL_b4fc413e153d490ea5ebe0f26c4a9ce2",
       "IPY_MODEL_70ea365880104cb18023f70c766d2232"
      ],
      "layout": "IPY_MODEL_6b071f28e1264f1183413a813350f13b"
     }
    },
    "6f3707cac88046579d4deac5bd7a93a2": {
     "model_module": "@jupyter-widgets/controls",
     "model_module_version": "1.5.0",
     "model_name": "DescriptionStyleModel",
     "state": {
      "_model_module": "@jupyter-widgets/controls",
      "_model_module_version": "1.5.0",
      "_model_name": "DescriptionStyleModel",
      "_view_count": null,
      "_view_module": "@jupyter-widgets/base",
      "_view_module_version": "1.2.0",
      "_view_name": "StyleView",
      "description_width": ""
     }
    },
    "70ea365880104cb18023f70c766d2232": {
     "model_module": "@jupyter-widgets/controls",
     "model_module_version": "1.5.0",
     "model_name": "HTMLModel",
     "state": {
      "_dom_classes": [],
      "_model_module": "@jupyter-widgets/controls",
      "_model_module_version": "1.5.0",
      "_model_name": "HTMLModel",
      "_view_count": null,
      "_view_module": "@jupyter-widgets/controls",
      "_view_module_version": "1.5.0",
      "_view_name": "HTMLView",
      "description": "",
      "description_tooltip": null,
      "layout": "IPY_MODEL_651bf1d41b6548179bbbae62dada716e",
      "placeholder": "​",
      "style": "IPY_MODEL_79a4288865f7499da5d2b7ac1159bf68",
      "value": " 8/8 [01:18&lt;00:00, 13.79s/it]"
     }
    },
    "75e6cc073ad84f1ab36dd121cbd0b25f": {
     "model_module": "@jupyter-widgets/controls",
     "model_module_version": "1.5.0",
     "model_name": "DescriptionStyleModel",
     "state": {
      "_model_module": "@jupyter-widgets/controls",
      "_model_module_version": "1.5.0",
      "_model_name": "DescriptionStyleModel",
      "_view_count": null,
      "_view_module": "@jupyter-widgets/base",
      "_view_module_version": "1.2.0",
      "_view_name": "StyleView",
      "description_width": ""
     }
    },
    "79a4288865f7499da5d2b7ac1159bf68": {
     "model_module": "@jupyter-widgets/controls",
     "model_module_version": "1.5.0",
     "model_name": "DescriptionStyleModel",
     "state": {
      "_model_module": "@jupyter-widgets/controls",
      "_model_module_version": "1.5.0",
      "_model_name": "DescriptionStyleModel",
      "_view_count": null,
      "_view_module": "@jupyter-widgets/base",
      "_view_module_version": "1.2.0",
      "_view_name": "StyleView",
      "description_width": ""
     }
    },
    "88ab7ebd5313415f9e01967772188f3f": {
     "model_module": "@jupyter-widgets/controls",
     "model_module_version": "1.5.0",
     "model_name": "HTMLModel",
     "state": {
      "_dom_classes": [],
      "_model_module": "@jupyter-widgets/controls",
      "_model_module_version": "1.5.0",
      "_model_name": "HTMLModel",
      "_view_count": null,
      "_view_module": "@jupyter-widgets/controls",
      "_view_module_version": "1.5.0",
      "_view_name": "HTMLView",
      "description": "",
      "description_tooltip": null,
      "layout": "IPY_MODEL_50313db90a8545ee85388ca5b9e8343a",
      "placeholder": "​",
      "style": "IPY_MODEL_c3eb22c1d9cb4bed8951b27f912e227e",
      "value": " 8/8 [00:20&lt;00:00,  2.33s/it]"
     }
    },
    "90ff71009a3d48ef90d387670396819d": {
     "model_module": "@jupyter-widgets/controls",
     "model_module_version": "1.5.0",
     "model_name": "ProgressStyleModel",
     "state": {
      "_model_module": "@jupyter-widgets/controls",
      "_model_module_version": "1.5.0",
      "_model_name": "ProgressStyleModel",
      "_view_count": null,
      "_view_module": "@jupyter-widgets/base",
      "_view_module_version": "1.2.0",
      "_view_name": "StyleView",
      "bar_color": null,
      "description_width": ""
     }
    },
    "93bdc5bdc3a44742bc411421449eb377": {
     "model_module": "@jupyter-widgets/base",
     "model_module_version": "1.2.0",
     "model_name": "LayoutModel",
     "state": {
      "_model_module": "@jupyter-widgets/base",
      "_model_module_version": "1.2.0",
      "_model_name": "LayoutModel",
      "_view_count": null,
      "_view_module": "@jupyter-widgets/base",
      "_view_module_version": "1.2.0",
      "_view_name": "LayoutView",
      "align_content": null,
      "align_items": null,
      "align_self": null,
      "border": null,
      "bottom": null,
      "display": null,
      "flex": null,
      "flex_flow": null,
      "grid_area": null,
      "grid_auto_columns": null,
      "grid_auto_flow": null,
      "grid_auto_rows": null,
      "grid_column": null,
      "grid_gap": null,
      "grid_row": null,
      "grid_template_areas": null,
      "grid_template_columns": null,
      "grid_template_rows": null,
      "height": null,
      "justify_content": null,
      "justify_items": null,
      "left": null,
      "margin": null,
      "max_height": null,
      "max_width": null,
      "min_height": null,
      "min_width": null,
      "object_fit": null,
      "object_position": null,
      "order": null,
      "overflow": null,
      "overflow_x": null,
      "overflow_y": null,
      "padding": null,
      "right": null,
      "top": null,
      "visibility": null,
      "width": null
     }
    },
    "9967b1ff20954849a36c1903b1cf89a4": {
     "model_module": "@jupyter-widgets/controls",
     "model_module_version": "1.5.0",
     "model_name": "DescriptionStyleModel",
     "state": {
      "_model_module": "@jupyter-widgets/controls",
      "_model_module_version": "1.5.0",
      "_model_name": "DescriptionStyleModel",
      "_view_count": null,
      "_view_module": "@jupyter-widgets/base",
      "_view_module_version": "1.2.0",
      "_view_name": "StyleView",
      "description_width": ""
     }
    },
    "9cb4fc343d9c41e487ec51b1bc82e5a8": {
     "model_module": "@jupyter-widgets/controls",
     "model_module_version": "1.5.0",
     "model_name": "ProgressStyleModel",
     "state": {
      "_model_module": "@jupyter-widgets/controls",
      "_model_module_version": "1.5.0",
      "_model_name": "ProgressStyleModel",
      "_view_count": null,
      "_view_module": "@jupyter-widgets/base",
      "_view_module_version": "1.2.0",
      "_view_name": "StyleView",
      "bar_color": null,
      "description_width": ""
     }
    },
    "9d7ada5a1fe54397a45800ad53db107d": {
     "model_module": "@jupyter-widgets/controls",
     "model_module_version": "1.5.0",
     "model_name": "FloatProgressModel",
     "state": {
      "_dom_classes": [],
      "_model_module": "@jupyter-widgets/controls",
      "_model_module_version": "1.5.0",
      "_model_name": "FloatProgressModel",
      "_view_count": null,
      "_view_module": "@jupyter-widgets/controls",
      "_view_module_version": "1.5.0",
      "_view_name": "ProgressView",
      "bar_style": "success",
      "description": "",
      "description_tooltip": null,
      "layout": "IPY_MODEL_67f55ee0ff754351800d7ba07e4ec0eb",
      "max": 1,
      "min": 0,
      "orientation": "horizontal",
      "style": "IPY_MODEL_67377237be554867b8002201cabd3135",
      "value": 1
     }
    },
    "a4f6f8708439434b80697371b86262f3": {
     "model_module": "@jupyter-widgets/controls",
     "model_module_version": "1.5.0",
     "model_name": "HTMLModel",
     "state": {
      "_dom_classes": [],
      "_model_module": "@jupyter-widgets/controls",
      "_model_module_version": "1.5.0",
      "_model_name": "HTMLModel",
      "_view_count": null,
      "_view_module": "@jupyter-widgets/controls",
      "_view_module_version": "1.5.0",
      "_view_name": "HTMLView",
      "description": "",
      "description_tooltip": null,
      "layout": "IPY_MODEL_f8178c25583e437f8e3d13e4f1c123dc",
      "placeholder": "​",
      "style": "IPY_MODEL_409f42dac414457f867b954c5cce3ae5",
      "value": "Downloading artifacts: 100%"
     }
    },
    "b152660438714661a70765aa864f45a8": {
     "model_module": "@jupyter-widgets/controls",
     "model_module_version": "1.5.0",
     "model_name": "ProgressStyleModel",
     "state": {
      "_model_module": "@jupyter-widgets/controls",
      "_model_module_version": "1.5.0",
      "_model_name": "ProgressStyleModel",
      "_view_count": null,
      "_view_module": "@jupyter-widgets/base",
      "_view_module_version": "1.2.0",
      "_view_name": "StyleView",
      "bar_color": null,
      "description_width": ""
     }
    },
    "b3cb641dbc6b47a09b099dfa19ca02bb": {
     "model_module": "@jupyter-widgets/controls",
     "model_module_version": "1.5.0",
     "model_name": "DescriptionStyleModel",
     "state": {
      "_model_module": "@jupyter-widgets/controls",
      "_model_module_version": "1.5.0",
      "_model_name": "DescriptionStyleModel",
      "_view_count": null,
      "_view_module": "@jupyter-widgets/base",
      "_view_module_version": "1.2.0",
      "_view_name": "StyleView",
      "description_width": ""
     }
    },
    "b4fc413e153d490ea5ebe0f26c4a9ce2": {
     "model_module": "@jupyter-widgets/controls",
     "model_module_version": "1.5.0",
     "model_name": "FloatProgressModel",
     "state": {
      "_dom_classes": [],
      "_model_module": "@jupyter-widgets/controls",
      "_model_module_version": "1.5.0",
      "_model_name": "FloatProgressModel",
      "_view_count": null,
      "_view_module": "@jupyter-widgets/controls",
      "_view_module_version": "1.5.0",
      "_view_name": "ProgressView",
      "bar_style": "success",
      "description": "",
      "description_tooltip": null,
      "layout": "IPY_MODEL_cdb2913fd8444cf282aa416d0a278698",
      "max": 8,
      "min": 0,
      "orientation": "horizontal",
      "style": "IPY_MODEL_b152660438714661a70765aa864f45a8",
      "value": 8
     }
    },
    "bf75ee8838224ad990af35581cb49b61": {
     "model_module": "@jupyter-widgets/base",
     "model_module_version": "1.2.0",
     "model_name": "LayoutModel",
     "state": {
      "_model_module": "@jupyter-widgets/base",
      "_model_module_version": "1.2.0",
      "_model_name": "LayoutModel",
      "_view_count": null,
      "_view_module": "@jupyter-widgets/base",
      "_view_module_version": "1.2.0",
      "_view_name": "LayoutView",
      "align_content": null,
      "align_items": null,
      "align_self": null,
      "border": null,
      "bottom": null,
      "display": null,
      "flex": null,
      "flex_flow": null,
      "grid_area": null,
      "grid_auto_columns": null,
      "grid_auto_flow": null,
      "grid_auto_rows": null,
      "grid_column": null,
      "grid_gap": null,
      "grid_row": null,
      "grid_template_areas": null,
      "grid_template_columns": null,
      "grid_template_rows": null,
      "height": null,
      "justify_content": null,
      "justify_items": null,
      "left": null,
      "margin": null,
      "max_height": null,
      "max_width": null,
      "min_height": null,
      "min_width": null,
      "object_fit": null,
      "object_position": null,
      "order": null,
      "overflow": null,
      "overflow_x": null,
      "overflow_y": null,
      "padding": null,
      "right": null,
      "top": null,
      "visibility": null,
      "width": null
     }
    },
    "c3eb22c1d9cb4bed8951b27f912e227e": {
     "model_module": "@jupyter-widgets/controls",
     "model_module_version": "1.5.0",
     "model_name": "DescriptionStyleModel",
     "state": {
      "_model_module": "@jupyter-widgets/controls",
      "_model_module_version": "1.5.0",
      "_model_name": "DescriptionStyleModel",
      "_view_count": null,
      "_view_module": "@jupyter-widgets/base",
      "_view_module_version": "1.2.0",
      "_view_name": "StyleView",
      "description_width": ""
     }
    },
    "caf3add25c5f4c06b54837a48b080a2e": {
     "model_module": "@jupyter-widgets/controls",
     "model_module_version": "1.5.0",
     "model_name": "HTMLModel",
     "state": {
      "_dom_classes": [],
      "_model_module": "@jupyter-widgets/controls",
      "_model_module_version": "1.5.0",
      "_model_name": "HTMLModel",
      "_view_count": null,
      "_view_module": "@jupyter-widgets/controls",
      "_view_module_version": "1.5.0",
      "_view_name": "HTMLView",
      "description": "",
      "description_tooltip": null,
      "layout": "IPY_MODEL_bf75ee8838224ad990af35581cb49b61",
      "placeholder": "​",
      "style": "IPY_MODEL_6f3707cac88046579d4deac5bd7a93a2",
      "value": "Downloading artifacts: 100%"
     }
    },
    "cdb2913fd8444cf282aa416d0a278698": {
     "model_module": "@jupyter-widgets/base",
     "model_module_version": "1.2.0",
     "model_name": "LayoutModel",
     "state": {
      "_model_module": "@jupyter-widgets/base",
      "_model_module_version": "1.2.0",
      "_model_name": "LayoutModel",
      "_view_count": null,
      "_view_module": "@jupyter-widgets/base",
      "_view_module_version": "1.2.0",
      "_view_name": "LayoutView",
      "align_content": null,
      "align_items": null,
      "align_self": null,
      "border": null,
      "bottom": null,
      "display": null,
      "flex": null,
      "flex_flow": null,
      "grid_area": null,
      "grid_auto_columns": null,
      "grid_auto_flow": null,
      "grid_auto_rows": null,
      "grid_column": null,
      "grid_gap": null,
      "grid_row": null,
      "grid_template_areas": null,
      "grid_template_columns": null,
      "grid_template_rows": null,
      "height": null,
      "justify_content": null,
      "justify_items": null,
      "left": null,
      "margin": null,
      "max_height": null,
      "max_width": null,
      "min_height": null,
      "min_width": null,
      "object_fit": null,
      "object_position": null,
      "order": null,
      "overflow": null,
      "overflow_x": null,
      "overflow_y": null,
      "padding": null,
      "right": null,
      "top": null,
      "visibility": null,
      "width": null
     }
    },
    "d0da83b83a7942aaa2bb5052164d307b": {
     "model_module": "@jupyter-widgets/controls",
     "model_module_version": "1.5.0",
     "model_name": "HTMLModel",
     "state": {
      "_dom_classes": [],
      "_model_module": "@jupyter-widgets/controls",
      "_model_module_version": "1.5.0",
      "_model_name": "HTMLModel",
      "_view_count": null,
      "_view_module": "@jupyter-widgets/controls",
      "_view_module_version": "1.5.0",
      "_view_name": "HTMLView",
      "description": "",
      "description_tooltip": null,
      "layout": "IPY_MODEL_3896c2ec09944d2aadc248d33c08ebba",
      "placeholder": "​",
      "style": "IPY_MODEL_75e6cc073ad84f1ab36dd121cbd0b25f",
      "value": " 1/1 [00:00&lt;00:00,  2.53it/s]"
     }
    },
    "dd79610922954008be4699de9d42b325": {
     "model_module": "@jupyter-widgets/base",
     "model_module_version": "1.2.0",
     "model_name": "LayoutModel",
     "state": {
      "_model_module": "@jupyter-widgets/base",
      "_model_module_version": "1.2.0",
      "_model_name": "LayoutModel",
      "_view_count": null,
      "_view_module": "@jupyter-widgets/base",
      "_view_module_version": "1.2.0",
      "_view_name": "LayoutView",
      "align_content": null,
      "align_items": null,
      "align_self": null,
      "border": null,
      "bottom": null,
      "display": null,
      "flex": null,
      "flex_flow": null,
      "grid_area": null,
      "grid_auto_columns": null,
      "grid_auto_flow": null,
      "grid_auto_rows": null,
      "grid_column": null,
      "grid_gap": null,
      "grid_row": null,
      "grid_template_areas": null,
      "grid_template_columns": null,
      "grid_template_rows": null,
      "height": null,
      "justify_content": null,
      "justify_items": null,
      "left": null,
      "margin": null,
      "max_height": null,
      "max_width": null,
      "min_height": null,
      "min_width": null,
      "object_fit": null,
      "object_position": null,
      "order": null,
      "overflow": null,
      "overflow_x": null,
      "overflow_y": null,
      "padding": null,
      "right": null,
      "top": null,
      "visibility": null,
      "width": null
     }
    },
    "ef94f8c7d9354558bbc22ac77c763957": {
     "model_module": "@jupyter-widgets/controls",
     "model_module_version": "1.5.0",
     "model_name": "HBoxModel",
     "state": {
      "_dom_classes": [],
      "_model_module": "@jupyter-widgets/controls",
      "_model_module_version": "1.5.0",
      "_model_name": "HBoxModel",
      "_view_count": null,
      "_view_module": "@jupyter-widgets/controls",
      "_view_module_version": "1.5.0",
      "_view_name": "HBoxView",
      "box_style": "",
      "children": [
       "IPY_MODEL_2097aef2ba7b41348ea30a943e015926",
       "IPY_MODEL_4c786417b6df43c894b75e57f5e2eeed",
       "IPY_MODEL_f36601e52eb64bd29030a25e1439e4c3"
      ],
      "layout": "IPY_MODEL_f5c8965f9ef44afd978086562471618a"
     }
    },
    "f36601e52eb64bd29030a25e1439e4c3": {
     "model_module": "@jupyter-widgets/controls",
     "model_module_version": "1.5.0",
     "model_name": "HTMLModel",
     "state": {
      "_dom_classes": [],
      "_model_module": "@jupyter-widgets/controls",
      "_model_module_version": "1.5.0",
      "_model_name": "HTMLModel",
      "_view_count": null,
      "_view_module": "@jupyter-widgets/controls",
      "_view_module_version": "1.5.0",
      "_view_name": "HTMLView",
      "description": "",
      "description_tooltip": null,
      "layout": "IPY_MODEL_5ec86a7a3e2f42628608fc455b9cc2ec",
      "placeholder": "​",
      "style": "IPY_MODEL_b3cb641dbc6b47a09b099dfa19ca02bb",
      "value": " 8/8 [00:39&lt;00:00,  5.84s/it]"
     }
    },
    "f5c8965f9ef44afd978086562471618a": {
     "model_module": "@jupyter-widgets/base",
     "model_module_version": "1.2.0",
     "model_name": "LayoutModel",
     "state": {
      "_model_module": "@jupyter-widgets/base",
      "_model_module_version": "1.2.0",
      "_model_name": "LayoutModel",
      "_view_count": null,
      "_view_module": "@jupyter-widgets/base",
      "_view_module_version": "1.2.0",
      "_view_name": "LayoutView",
      "align_content": null,
      "align_items": null,
      "align_self": null,
      "border": null,
      "bottom": null,
      "display": null,
      "flex": null,
      "flex_flow": null,
      "grid_area": null,
      "grid_auto_columns": null,
      "grid_auto_flow": null,
      "grid_auto_rows": null,
      "grid_column": null,
      "grid_gap": null,
      "grid_row": null,
      "grid_template_areas": null,
      "grid_template_columns": null,
      "grid_template_rows": null,
      "height": null,
      "justify_content": null,
      "justify_items": null,
      "left": null,
      "margin": null,
      "max_height": null,
      "max_width": null,
      "min_height": null,
      "min_width": null,
      "object_fit": null,
      "object_position": null,
      "order": null,
      "overflow": null,
      "overflow_x": null,
      "overflow_y": null,
      "padding": null,
      "right": null,
      "top": null,
      "visibility": null,
      "width": null
     }
    },
    "f8178c25583e437f8e3d13e4f1c123dc": {
     "model_module": "@jupyter-widgets/base",
     "model_module_version": "1.2.0",
     "model_name": "LayoutModel",
     "state": {
      "_model_module": "@jupyter-widgets/base",
      "_model_module_version": "1.2.0",
      "_model_name": "LayoutModel",
      "_view_count": null,
      "_view_module": "@jupyter-widgets/base",
      "_view_module_version": "1.2.0",
      "_view_name": "LayoutView",
      "align_content": null,
      "align_items": null,
      "align_self": null,
      "border": null,
      "bottom": null,
      "display": null,
      "flex": null,
      "flex_flow": null,
      "grid_area": null,
      "grid_auto_columns": null,
      "grid_auto_flow": null,
      "grid_auto_rows": null,
      "grid_column": null,
      "grid_gap": null,
      "grid_row": null,
      "grid_template_areas": null,
      "grid_template_columns": null,
      "grid_template_rows": null,
      "height": null,
      "justify_content": null,
      "justify_items": null,
      "left": null,
      "margin": null,
      "max_height": null,
      "max_width": null,
      "min_height": null,
      "min_width": null,
      "object_fit": null,
      "object_position": null,
      "order": null,
      "overflow": null,
      "overflow_x": null,
      "overflow_y": null,
      "padding": null,
      "right": null,
      "top": null,
      "visibility": null,
      "width": null
     }
    }
   }
  }
 },
 "nbformat": 4,
 "nbformat_minor": 4
}
