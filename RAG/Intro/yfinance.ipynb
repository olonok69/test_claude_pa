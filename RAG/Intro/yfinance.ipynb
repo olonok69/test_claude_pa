{
 "cells": [
  {
   "cell_type": "markdown",
   "id": "2c9454d7-21b9-4580-b41b-65d86473664b",
   "metadata": {},
   "source": [
    "# Rag Simple Financial Analisys (fundamental Analysis)\n",
    "\n",
    "### Fundamental vs. Technical Analysis: An Overview\n",
    "There are two main schools of thought when evaluating investments and making trading decisions: fundamental analysis and technical analysis. While both aim to predict future price movements and identify profitable opportunities, they take very different approaches. Fundamental analysis examines an asset's intrinsic value by examining economic and financial factors, while technical analysis focuses solely on price action and chart patterns. \n",
    "\n",
    "\n",
    "### Company's balance sheet\n",
    "A company's balance sheet, also known as a \"statement of financial position,\" reveals the firm's assets, liabilities, and owners' equity (net worth) at a specific point in time. The balance sheet, together with the income statement and cash flow statement, make up the cornerstone of any company's financial statements.\n",
    "\n",
    "### What Is an Income Statement?\n",
    "An income statement is a financial report used by a business. It tracks the company's revenue, expenses, gains, and losses during a set period. Also known as the profit and loss (P&L) statement or the statement of revenue and expense, it provides valuable insights into a company’s operations, the efficiency of its management, underperforming sectors, and its performance relative to industry peers.\n",
    "### Cash Flow Statement\n",
    "\n",
    "A cash flow statement is a financial statement that provides aggregate data regarding all cash inflows that a company receives from its ongoing operations and external investment sources. It also includes all cash outflows that pay for business activities and investments during a given period. \n",
    "\n",
    "\n",
    "#### LINKS\n",
    "- https://www.investopedia.com/ask/answers/difference-between-fundamental-and-technical-analysis/\n",
    "- https://uk.finance.yahoo.com/\n",
    "- https://ranaroussi.github.io/yfinance/reference/index.html\n",
    "- https://site.financialmodelingprep.com/\n",
    "- https://pypi.org/project/fmpsdk/\n",
    "- https://www.morningstar.com/business/brands/data-analytics/products/direct/features/python-package\n",
    "- https://www.quantconnect.com/docs/v2/cloud-platform/api-reference\n"
   ]
  },
  {
   "cell_type": "code",
   "execution_count": null,
   "id": "5051499e-7e8d-4868-babd-1d7f6fb76d49",
   "metadata": {},
   "outputs": [],
   "source": [
    "\n",
    "import time\n",
    "import pandas as pd\n",
    "\n",
    "import matplotlib.pyplot as plt\n",
    "import numpy as np\n",
    "import matplotlib.ticker as ticker\n",
    "\n",
    "#streamlit\n",
    "import streamlit as st\n",
    "\n",
    "#rag library\n",
    "from langchain.chains import RetrievalQA\n",
    "from langchain.docstore.document import Document\n",
    "\n",
    "from langchain_core.prompts import ChatPromptTemplate\n",
    "from langchain_google_genai import GoogleGenerativeAIEmbeddings\n",
    "from langchain_google_genai import ChatGoogleGenerativeAI\n",
    "from langchain.storage import InMemoryStore\n",
    "\n",
    "import pandas as pd\n",
    "import json\n",
    "\n",
    "from langchain_qdrant import QdrantVectorStore\n",
    "from qdrant_client import QdrantClient\n",
    "from qdrant_client.http.models import Distance, VectorParams"
   ]
  },
  {
   "cell_type": "code",
   "execution_count": null,
   "id": "789845ed-7d53-4b05-8deb-66d9bcda6977",
   "metadata": {},
   "outputs": [],
   "source": [
    "from dotenv import load_dotenv, dotenv_values\n",
    "import os\n",
    "import pandas as pd\n",
    "\n",
    "env_path = os.path.join( \".env\")\n",
    "load_dotenv(env_path)"
   ]
  },
  {
   "cell_type": "code",
   "execution_count": null,
   "id": "c8b8b168-55f4-4c25-b814-91886ced9acc",
   "metadata": {},
   "outputs": [],
   "source": [
    "ROOT_DIR = os.getcwd()\n",
    "\n",
    "with open(os.path.join(ROOT_DIR, \"complete-tube-421007-208a4862c992.json\",)) as source:\n",
    "    info = json.load(source)"
   ]
  },
  {
   "cell_type": "code",
   "execution_count": null,
   "id": "fc0a80da-c3e6-4229-807a-a2882e1530b5",
   "metadata": {},
   "outputs": [],
   "source": [
    "from google.oauth2 import service_account\n",
    "import vertexai"
   ]
  },
  {
   "cell_type": "code",
   "execution_count": null,
   "id": "44b829c5-40aa-455a-af66-b6716d174d2c",
   "metadata": {},
   "outputs": [],
   "source": [
    "GEMINI_API_KEY = os.getenv(\"GEMINI-API-KEY\")\n",
    "vertex_credentials = service_account.Credentials.from_service_account_info(\n",
    "                info\n",
    "            )"
   ]
  },
  {
   "cell_type": "code",
   "execution_count": null,
   "id": "d508f4b1-2d01-4474-8928-9adae102b1c3",
   "metadata": {},
   "outputs": [],
   "source": [
    "key = os.getenv(\"GEMINI_API_KEY\") #API KEY\n",
    "embeddings = GoogleGenerativeAIEmbeddings(google_api_key=key, model=\"models/embedding-001\",credentials=vertex_credentials)\n",
    "#define LLM\n",
    "llm = ChatGoogleGenerativeAI(google_api_key=key, temperature=0.01, model=\"gemini-1.5-pro\",credentials=vertex_credentials)"
   ]
  },
  {
   "cell_type": "code",
   "execution_count": null,
   "id": "3df291ac-7db0-4ee2-a96c-cdbc08f72a48",
   "metadata": {},
   "outputs": [],
   "source": [
    "def table_transform(df):\n",
    "  table = df\n",
    "  table = table.transpose()\n",
    "  col = table.iloc[0].str.strip()\n",
    "  table = table[1:]\n",
    "  table.columns = col\n",
    "  table.replace('-- ', 0, inplace=True)\n",
    "  table = table.replace(',', '', regex=True).astype(float)\n",
    "  table = table.iloc[::-1]\n",
    "\n",
    "  return table\n",
    "\n",
    "def format_numbers(x, pos):\n",
    "    sign = '-' if x < 0 else ''\n",
    "    x = abs(x)\n",
    "\n",
    "    if x >= 1e12:\n",
    "        return f'{sign}{x*1e-12:.1f}T'\n",
    "    elif x >= 1e9:\n",
    "        return f'{sign}{x*1e-9:.1f}B'\n",
    "    elif x >= 1e6:\n",
    "        return f'{sign}{x*1e-6:.1f}M'\n",
    "    else:\n",
    "        return f'{sign}{x:.0f}'"
   ]
  },
  {
   "cell_type": "code",
   "execution_count": null,
   "id": "49174312-89b4-48ea-845b-3e3c203a1669",
   "metadata": {},
   "outputs": [],
   "source": [
    "import yfinance as yf\n",
    "dat = yf.Ticker(\"MSFT\")"
   ]
  },
  {
   "cell_type": "code",
   "execution_count": null,
   "id": "8f5b7eb7-251f-4bae-b55d-f93ef849520f",
   "metadata": {},
   "outputs": [],
   "source": [
    "description = dat.info.get('longBusinessSummary')"
   ]
  },
  {
   "cell_type": "code",
   "execution_count": null,
   "id": "6f878c4d-6edf-4c21-853e-bd8c50fcb107",
   "metadata": {},
   "outputs": [],
   "source": [
    "dat.get_balance_sheet().index"
   ]
  },
  {
   "cell_type": "code",
   "execution_count": null,
   "id": "9099734e-6ced-49b2-8ac1-94896d67236a",
   "metadata": {},
   "outputs": [],
   "source": [
    "#dat.get_info()"
   ]
  },
  {
   "cell_type": "code",
   "execution_count": null,
   "id": "57050a73-29f1-474d-888e-03310080f79f",
   "metadata": {},
   "outputs": [],
   "source": [
    "description"
   ]
  },
  {
   "cell_type": "code",
   "execution_count": null,
   "id": "97b58709-cea5-4322-a780-25197ae7ec81",
   "metadata": {},
   "outputs": [],
   "source": [
    "import typing\n",
    "import fmpsdk\n",
    "apikey = os.environ.get(\"FMP\")\n",
    "\n",
    "# Company Valuation Methods\n",
    "symbol: str = \"MSFT\"\n",
    "print(f\"Company Profile: {fmpsdk.company_profile(apikey=apikey, symbol=symbol)}\")"
   ]
  },
  {
   "cell_type": "code",
   "execution_count": null,
   "id": "01943cb7-6b04-4509-886f-d20a0bd1c8df",
   "metadata": {},
   "outputs": [],
   "source": [
    "msft = fmpsdk.company_profile(apikey=apikey, symbol=symbol)"
   ]
  },
  {
   "cell_type": "code",
   "execution_count": null,
   "id": "63aa2fcd-91ef-47bf-b833-3de8ada205d6",
   "metadata": {},
   "outputs": [],
   "source": [
    "msft[0].keys()"
   ]
  },
  {
   "cell_type": "code",
   "execution_count": null,
   "id": "1d133539-6987-4220-a5f4-ad01ca1ac817",
   "metadata": {},
   "outputs": [],
   "source": [
    "msft[0]['description']"
   ]
  },
  {
   "cell_type": "code",
   "execution_count": null,
   "id": "13e44f6f-432c-4962-b36d-90d21e219f99",
   "metadata": {},
   "outputs": [],
   "source": [
    "#fmpsdk.balance_sheet_statement(apikey=apikey, symbol=symbol)"
   ]
  },
  {
   "cell_type": "code",
   "execution_count": null,
   "id": "6c7965fa-eece-4b37-87e3-a8862cc84470",
   "metadata": {},
   "outputs": [],
   "source": [
    "import pandas as pd"
   ]
  },
  {
   "cell_type": "code",
   "execution_count": null,
   "id": "3df08d5b-4e0f-4b94-b9e8-984daf462341",
   "metadata": {},
   "outputs": [],
   "source": [
    "info = pd.DataFrame(dat.get_info())\n",
    "type(info)"
   ]
  },
  {
   "cell_type": "code",
   "execution_count": null,
   "id": "9a65a212-00ae-4946-abd8-fc7a1e45ba96",
   "metadata": {},
   "outputs": [],
   "source": [
    "#dat.get_news()"
   ]
  },
  {
   "cell_type": "code",
   "execution_count": null,
   "id": "d05efe63-8407-47e3-903c-475fb1fa612f",
   "metadata": {},
   "outputs": [],
   "source": [
    "desc = dat.get_info()\n",
    "type(desc)"
   ]
  },
  {
   "cell_type": "code",
   "execution_count": null,
   "id": "be1fc52b-ca0c-436f-899e-5364aaab44ac",
   "metadata": {},
   "outputs": [],
   "source": [
    "IS = dat.income_stmt"
   ]
  },
  {
   "cell_type": "code",
   "execution_count": null,
   "id": "d72a3918-bb90-45b5-b182-e83d139b716e",
   "metadata": {},
   "outputs": [],
   "source": [
    "IS_final = IS.transpose()"
   ]
  },
  {
   "cell_type": "code",
   "execution_count": null,
   "id": "bcaf6135-3863-4f90-be9b-fd752bc507ef",
   "metadata": {},
   "outputs": [],
   "source": [
    "zero_percentage = (IS_final == 0).sum(axis=1) / IS_final.shape[0]\n",
    "threshold = 0.7\n",
    "IS_final = IS_final.loc[zero_percentage < threshold]\n",
    "IS_final"
   ]
  },
  {
   "cell_type": "code",
   "execution_count": null,
   "id": "0e90cbaf-ace7-415e-8e16-4241c1fd9cb4",
   "metadata": {},
   "outputs": [],
   "source": [
    "BS = dat.balance_sheet"
   ]
  },
  {
   "cell_type": "code",
   "execution_count": null,
   "id": "cc447417-f70c-480f-9cc6-dc40de2ffc79",
   "metadata": {},
   "outputs": [],
   "source": [
    "BS_annual = BS.transpose()"
   ]
  },
  {
   "cell_type": "code",
   "execution_count": null,
   "id": "ede8e657-3f18-474f-85c2-eda61545349a",
   "metadata": {},
   "outputs": [],
   "source": [
    "if IS_final.index[-1]=='TTM ':\n",
    "  BS_quarterly = table_transform(BS[1])\n",
    "  last_row = BS_quarterly.tail(1)\n",
    "  BS_annual = pd.concat([BS_annual, last_row])\n",
    "zero_percentage = (BS_annual == 0).sum(axis=1) / BS_annual.shape[1]\n",
    "threshold = 0.7\n",
    "BS_final = BS_annual.loc[zero_percentage < threshold]\n",
    "BS_final"
   ]
  },
  {
   "cell_type": "code",
   "execution_count": null,
   "id": "9488799a-6923-4fe9-9e01-7b383b0daa6d",
   "metadata": {},
   "outputs": [],
   "source": [
    "CF = dat.cash_flow.iloc[:, :-1]"
   ]
  },
  {
   "cell_type": "code",
   "execution_count": null,
   "id": "1aafe94c-5903-4996-b905-bda69b951567",
   "metadata": {},
   "outputs": [],
   "source": [
    "CF_final = CF.transpose()\n",
    "# zero_percentage = (CF_final == 0).sum(axis=1) / CF_final.shape[0]\n",
    "# threshold = 0.5\n",
    "# CF_final = CF_final.loc[zero_percentage < threshold]\n",
    "CF_final"
   ]
  },
  {
   "cell_type": "code",
   "execution_count": null,
   "id": "596a540b-c530-4cda-ab06-3efe84b0cd0e",
   "metadata": {},
   "outputs": [],
   "source": [
    "npm = IS_final['Net Income Common Stockholders']/IS_final['Total Revenue']*100\n",
    "net_profit = IS_final['Net Income Common Stockholders']\n",
    "revenue = IS_final['Total Revenue']\n",
    "ebitda = IS_final['EBITDA']/IS_final['Total Revenue']*100\n",
    "npm ,ebitda"
   ]
  },
  {
   "cell_type": "code",
   "execution_count": null,
   "id": "44bccefe-42bb-4a56-bb36-816dab8569cb",
   "metadata": {},
   "outputs": [],
   "source": [
    "#plot 1\n",
    "categories = IS_final.index\n",
    "x = np.arange(len(categories))\n",
    "width = 0.2  # Width of the bars\n",
    "\n",
    "# Create figure and axis objects\n",
    "fig, ax1 = plt.subplots(figsize=(10, 6))\n",
    "\n",
    "# Plotting Net Profit and Revenue as bar charts\n",
    "ax1.bar(x - width/2, net_profit, width=width, label='Net Profit', color='royalblue', align='center')\n",
    "ax1.bar(x + width/2, revenue, width=width, label='Revenue', color='goldenrod', align='center')\n",
    "\n",
    "# Setting X-axis labels\n",
    "ax1.set_xticks(x)\n",
    "ax1.set_xticklabels(categories)\n",
    "ax1.set_ylabel('(Dollar)', fontsize=12)\n",
    "\n",
    "# Apply the custom formatter to the Y-axis\n",
    "ax1.yaxis.set_major_formatter(ticker.FuncFormatter(format_numbers))\n",
    "\n",
    "\n",
    "min_value = min(min(net_profit), min(revenue))\n",
    "max_value = max(max(net_profit), max(revenue))\n",
    "ax1.set_ylim([min_value*1.2, max_value*1.2])\n",
    "\n",
    "\n",
    "# Adding legends\n",
    "fig.legend(loc=\"upper left\", bbox_to_anchor=(0.1, 0.9))\n",
    "\n",
    "ax1.grid(True, axis='y', linestyle='-', linewidth=0.5, color='gray')\n",
    "ax1.set_axisbelow(True)"
   ]
  },
  {
   "cell_type": "code",
   "execution_count": null,
   "id": "f4f130ca-6008-43f0-9e58-451ec3a46cd8",
   "metadata": {},
   "outputs": [],
   "source": [
    "#plot 2\n",
    "categories = IS_final.index\n",
    "x = np.arange(len(categories))\n",
    "\n",
    "# Create figure and axis objects\n",
    "fig, ax1 = plt.subplots(figsize=(10, 6))\n",
    "\n",
    "# Plotting Net Profit and Revenue as bar charts\n",
    "ax1.plot(x, npm, color='olivedrab', marker='o', label='Net Profit Margin')\n",
    "ax1.plot(x, ebitda, color='royalblue', marker='o', label='EBITDA Margin')\n",
    "\n",
    "#set limit\n",
    "# min_val = min(min(npm), min(ebitda))\n",
    "# max_val = max(max(npm), max(ebitda))\n",
    "# ax1.set_ylim([min_val*1.2, max_val*1.2])\n",
    "\n",
    "# Setting X-axis labels\n",
    "ax1.set_xticks(x)\n",
    "ax1.set_xticklabels(categories)\n",
    "ax1.set_ylabel('(%)', fontsize=12)\n",
    "\n",
    "# Adding legends\n",
    "fig.legend(loc=\"upper left\", bbox_to_anchor=(0.1, 0.9))"
   ]
  },
  {
   "cell_type": "code",
   "execution_count": null,
   "id": "f680276f-71a1-4a2c-9e64-f4dd10724d48",
   "metadata": {},
   "outputs": [],
   "source": [
    "BS_final.columns"
   ]
  },
  {
   "cell_type": "code",
   "execution_count": null,
   "id": "8aa3ef8a-deb3-4d37-b153-e7e855e63e8b",
   "metadata": {},
   "outputs": [],
   "source": [
    "#Balance sheets\n",
    "liabilities_long = BS_final['Current Liabilities']\n",
    "liabilities_short = BS_final['Total Non Current Liabilities Net Minority Interest']\n",
    "equity = BS_final['Total Equity Gross Minority Interest']\n",
    "assets = equity + liabilities_long + liabilities_short\n",
    "non_currect_assets = BS_final['Total Non Current Assets']\n",
    "DER = (liabilities_long + liabilities_short)/equity*100\n",
    "\n",
    "#plot 3\n",
    "categories = BS_final.index\n",
    "x = np.arange(len(categories))\n",
    "width = 0.2  # Width of the bars\n",
    "\n",
    "# Create figure and axis objects\n",
    "fig, ax1 = plt.subplots(figsize=(10, 6))\n",
    "\n",
    "# Plotting Net Profit and Revenue as bar charts\n",
    "ax1.bar(x - width, equity, width=width, label='Equity', color='royalblue', align='center')\n",
    "ax1.bar(x, liabilities_long, width=width, label='liabilities(Long Term)', color='red', align='center')\n",
    "ax1.bar(x, liabilities_short, width=width, label='liabilities(Short Tem)', color='darkred', align='center', bottom=liabilities_long)\n",
    "ax1.bar(x + width, assets, width=width, label='Assets', color='goldenrod', align='center')\n",
    "\n",
    "# Setting X-axis labels\n",
    "ax1.set_xticks(x)\n",
    "ax1.set_xticklabels(categories)\n",
    "ax1.set_ylabel('(Dollar)', fontsize=12)\n",
    "\n",
    "# Apply the custom formatter to the Y-axis\n",
    "ax1.yaxis.set_major_formatter(ticker.FuncFormatter(format_numbers))\n",
    "\n",
    "# Adding legends\n",
    "fig.legend(loc=\"upper left\", bbox_to_anchor=(0.1, 0.9))\n",
    "\n",
    "ax1.grid(True, axis='y', linestyle='-', linewidth=0.5, color='gray')\n",
    "ax1.set_axisbelow(True)"
   ]
  },
  {
   "cell_type": "code",
   "execution_count": null,
   "id": "4cbb02e5-b0ff-4c10-b074-ad3504d597b2",
   "metadata": {},
   "outputs": [],
   "source": [
    "#plot 4\n",
    "categories = BS_final.index\n",
    "x = np.arange(len(categories))\n",
    "\n",
    "# Create figure and axis objects\n",
    "fig, ax1 = plt.subplots(figsize=(10, 6))\n",
    "\n",
    "# Plotting Net Profit and Revenue as bar charts\n",
    "ax1.plot(x, DER, color='olivedrab', marker='o', label='Debt to Equity Ratio')\n",
    "\n",
    "# Setting X-axis labels\n",
    "ax1.set_xticks(x)\n",
    "ax1.set_xticklabels(categories)\n",
    "ax1.set_ylabel('(%)', fontsize=12)\n",
    "\n",
    "# Adding legends\n",
    "fig.legend(loc=\"upper left\", bbox_to_anchor=(0.1, 0.9))\n",
    "\n",
    "ax1.grid(True, axis='y', linestyle='-', linewidth=0.5, color='gray')\n",
    "ax1.set_axisbelow(True)"
   ]
  },
  {
   "cell_type": "code",
   "execution_count": null,
   "id": "bab8b3f4-5ab8-41cb-9e88-488d1a17c511",
   "metadata": {},
   "outputs": [],
   "source": [
    "CF_final.columns"
   ]
  },
  {
   "cell_type": "code",
   "execution_count": null,
   "id": "3f76f625-4902-4726-8a64-f17a3ca5e96f",
   "metadata": {},
   "outputs": [],
   "source": [
    "#Cash Flow\n",
    "operating = CF_final['Cash Flow From Continuing Operating Activities']\n",
    "investing = CF_final['Investing Cash Flow']\n",
    "financing = CF_final['Financing Cash Flow']\n",
    "beginning_cash = CF_final['Beginning Cash Position']\n",
    "cash_reserve = beginning_cash + operating + investing + financing\n",
    "end_cash = CF_final['End Cash Position']\n",
    "\n",
    "#plot 5\n",
    "categories = CF_final.index\n",
    "x = np.arange(len(categories))\n",
    "\n",
    "# Create figure and axis objects\n",
    "fig, ax1 = plt.subplots(figsize=(10, 6))\n",
    "\n",
    "# Plotting Net Profit and Revenue as bar charts\n",
    "ax1.plot(x, operating, color='olivedrab', marker='o', label='operating cash flow')\n",
    "ax1.plot(x, investing, color='royalblue', marker='o', label='investing cash flow')\n",
    "ax1.plot(x, financing, color='darkred', marker='o', label='financing cash flow')\n",
    "\n",
    "# Setting X-axis labels\n",
    "ax1.set_xticks(x)\n",
    "ax1.set_xticklabels(categories)\n",
    "ax1.set_ylabel('(Dollar)', fontsize=12)\n",
    "ax1.yaxis.set_major_formatter(ticker.FuncFormatter(format_numbers))\n",
    "\n",
    "# Adding legends\n",
    "fig.legend(loc=\"upper left\", bbox_to_anchor=(0.1, 0.9))\n",
    "\n",
    "ax1.grid(True, axis='y', linestyle='-', linewidth=0.5, color='gray')\n",
    "ax1.set_axisbelow(True)"
   ]
  },
  {
   "cell_type": "code",
   "execution_count": null,
   "id": "d9c5a8e1-6509-4650-8b9b-8c73cc0c0dc8",
   "metadata": {},
   "outputs": [],
   "source": [
    "json.dumps(desc)"
   ]
  },
  {
   "cell_type": "code",
   "execution_count": null,
   "id": "74ff31d8-e5ab-4c78-9a85-3265330c93e2",
   "metadata": {},
   "outputs": [],
   "source": [
    "#Store in Vector DB\n",
    "income_statement_json = IS_final.to_json()\n",
    "cash_flow_json = BS_final.to_json()\n",
    "balance_sheet_json = CF_final.to_json()\n",
    "combined_data = {\n",
    "    \"company_description\": description,\n",
    "    \"company_all_info\": json.dumps(desc),\n",
    "    \"income_statement\": json.loads(income_statement_json),\n",
    "    \"cash_flow\": json.loads(cash_flow_json),\n",
    "    \"balance_sheet\": json.loads(balance_sheet_json)\n",
    "}"
   ]
  },
  {
   "cell_type": "code",
   "execution_count": null,
   "id": "aa499725-20dc-4a65-8391-887b8523c959",
   "metadata": {},
   "outputs": [],
   "source": [
    "document = Document(page_content=json.dumps(combined_data))"
   ]
  },
  {
   "cell_type": "code",
   "execution_count": null,
   "id": "3c35a3ea-a08e-4741-af6d-7e64fbc5bdd8",
   "metadata": {},
   "outputs": [],
   "source": [
    "import os\n",
    "ROOT_DIR = os.getcwd()\n",
    "db_local_folder =  os.path.join(ROOT_DIR, \"db3\")"
   ]
  },
  {
   "cell_type": "code",
   "execution_count": null,
   "id": "17c8b3ab-2700-4e08-b3ff-3cb444349e53",
   "metadata": {},
   "outputs": [],
   "source": [
    "client = QdrantClient(path=db_local_folder)\n",
    "\n",
    "client.create_collection(\n",
    "    collection_name=\"rag-financial\",\n",
    "    vectors_config=VectorParams(size=768, distance=Distance.COSINE),\n",
    ")\n",
    "\n",
    "vector_store = QdrantVectorStore(\n",
    "    client=client,\n",
    "    collection_name=\"rag-financial\",\n",
    "    embedding=embeddings,\n",
    ")\n"
   ]
  },
  {
   "cell_type": "code",
   "execution_count": null,
   "id": "60b1b61a-f0cc-4885-b896-ca88b88e4707",
   "metadata": {},
   "outputs": [],
   "source": [
    "vector_store.add_documents(documents=[document])"
   ]
  },
  {
   "cell_type": "code",
   "execution_count": null,
   "id": "ff44cfdf-ec2d-4293-8a26-70a9ad4f1831",
   "metadata": {},
   "outputs": [],
   "source": [
    "#retrieval RAG for full analysis\n",
    "prompt_template = \"\"\"\n",
    "        You are a financial analyst. Based on the company profile and the financial reports provided, your task is to provide a detailed financial analysis of the company, focusing on significant increase  or decrease  with a threshold of 10%.\n",
    "        Use only the financial reports provided in the context below. Do not make assumptions or hallucinate information.\n",
    "\n",
    "        {context}\n",
    "\n",
    "        Use the following structure to guide your analysis:\n",
    "        **Company Profile:**\n",
    "        - Describe the complete company profile from company_description.\n",
    "\n",
    "        1. **Income Statement Analysis:**\n",
    "          - **Revenue Growth:**\n",
    "            - Detail the number and percentage changes and the periods they occurred. example \"2020-2021: Increased by 14.2% (Rp 1,9 to Rp 2,5)\"\n",
    "\n",
    "          - **Gross Profit:**\n",
    "            - Detail the number and percentage changes and the periods they occurred.\n",
    "\n",
    "          - **Net Income:**\n",
    "            - Detail the number and percentage changes and the periods they occurred.\n",
    "\n",
    "        2. **Cash Flow Statement Analysis:**\n",
    "          - **Operating Cash Flow:**\n",
    "            - Detail the number and percentage changes and the periods they occurred.\n",
    "\n",
    "          - **Investing Cash Flow:**\n",
    "            - Detail the number and percentage changes and the periods they occurred.\n",
    "          - **Financing Cash Flow:**\n",
    "            - Detail the number and percentage changes and the periods they occurred.\n",
    "\n",
    "        3. **Balance Sheet Analysis:**\n",
    "          - **Total Assets:**\n",
    "            - Detail the number and percentage changes and the periods they occurred.\n",
    "          - **Equity:**\n",
    "            - Detail the number and percentage changes and the periods they occurred.\n",
    "          - **Debt-to-Equity Ratio:**\n",
    "            - Detail the number and percentage changes and the periods they occurred.\n",
    "\n",
    "        4. **Summary:**\n",
    "          - Summarize the overall financial performance for each period.\n",
    "\n",
    "        Now, answer the query for this company: {question}\n",
    "        \"\"\""
   ]
  },
  {
   "cell_type": "code",
   "execution_count": null,
   "id": "9d4661a4-00e5-41a1-a2f6-f5cc6ffb9491",
   "metadata": {},
   "outputs": [],
   "source": [
    "prompt = ChatPromptTemplate.from_template(prompt_template)"
   ]
  },
  {
   "cell_type": "code",
   "execution_count": null,
   "id": "03230fab-5f38-4484-8fa3-12df0b6a5fc8",
   "metadata": {},
   "outputs": [],
   "source": [
    "qa_with_sources = RetrievalQA.from_chain_type(\n",
    "            llm=llm,\n",
    "            chain_type=\"stuff\",\n",
    "            retriever=vector_store.as_retriever(),\n",
    "            chain_type_kwargs={\"prompt\": prompt},\n",
    "            return_source_documents=True,\n",
    "        )"
   ]
  },
  {
   "cell_type": "code",
   "execution_count": null,
   "id": "380a6bbc-270f-44a3-a264-4449de8efab4",
   "metadata": {},
   "outputs": [],
   "source": [
    "analysis = qa_with_sources.invoke(\"Please provide an overall financial analysis and Information available\")\n",
    "report = f\"{analysis['result']}\""
   ]
  },
  {
   "cell_type": "code",
   "execution_count": null,
   "id": "5b9b31e0-40ee-4ebd-871c-7747100d9d1a",
   "metadata": {},
   "outputs": [],
   "source": [
    "print(report)"
   ]
  },
  {
   "cell_type": "code",
   "execution_count": null,
   "id": "4a1c4d91-fa9d-4f79-b25d-f7b2560a629e",
   "metadata": {},
   "outputs": [],
   "source": []
  }
 ],
 "metadata": {
  "kernelspec": {
   "display_name": "Python (rag)",
   "language": "python",
   "name": "rag"
  },
  "language_info": {
   "codemirror_mode": {
    "name": "ipython",
    "version": 3
   },
   "file_extension": ".py",
   "mimetype": "text/x-python",
   "name": "python",
   "nbconvert_exporter": "python",
   "pygments_lexer": "ipython3",
   "version": "3.11.10"
  }
 },
 "nbformat": 4,
 "nbformat_minor": 5
}
