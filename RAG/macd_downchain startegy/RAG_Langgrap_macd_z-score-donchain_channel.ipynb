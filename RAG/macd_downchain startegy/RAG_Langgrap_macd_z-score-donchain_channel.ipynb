{
 "cells": [
  {
   "attachments": {},
   "cell_type": "markdown",
   "id": "3afb184c-0cb0-48d2-a165-de586a57f417",
   "metadata": {},
   "source": [
    "# MACD and Donchain Scores Indicator Scoring System\n",
    "## MACD Score (-100 to +100)\n",
    "\n",
    "The MACD score combines three components:\n",
    "\n",
    "### MACD Line Position vs. Signal Line (40%)\n",
    "\n",
    "- Positive when MACD line is above signal line (bullish)\n",
    "- Negative when MACD line is below signal line (bearish)\n",
    "\n",
    "\n",
    "### MACD Line Position vs. Zero (30%)\n",
    "\n",
    "- Positive when MACD line is above zero (strong bullish trend)\n",
    "- Negative when MACD line is below zero (strong bearish trend)\n",
    "\n",
    "\n",
    "### Histogram Momentum (30%)\n",
    "\n",
    "Measures the rate of change in the histogram\n",
    "\n",
    "- Positive when histogram is increasing (accelerating momentum)\n",
    "- Negative when histogram is decreasing (decelerating momentum)\n",
    "\n",
    "\n",
    "\n",
    "## Donchian Channel Score (-100 to +100)\n",
    "The Donchian score combines three components:\n",
    "\n",
    "### Price Position Within Channel (50%)\n",
    "\n",
    "- +50 when price is at the upper band\n",
    "- 0 when price is at the middle band\n",
    "- -50 when price is at the lower band\n",
    "\n",
    "\n",
    "### Channel Direction (30%)\n",
    "\n",
    "- Positive when channel is trending upward\n",
    "- Negative when channel is trending downward\n",
    "\n",
    "\n",
    "### Channel Width Trend (20%)\n",
    "\n",
    "- Positive when channel is widening (increasing volatility)\n",
    "- Negative when channel is narrowing (decreasing volatility)\n",
    "\n",
    "\n",
    "\n",
    "## Combined Score\n",
    "The combined score is a simple average of the MACD and Donchian scores, giving equal weight to momentum (MACD) and price range (Donchian) indicators.\n",
    "\n",
    "### How to Interpret the Scores\n",
    "\n",
    "### Individual Score Interpretation\n",
    "#### MACD Score:\n",
    "\n",
    "- Above +50: Strong bullish momentum\n",
    "- +25 to +50: Moderate bullish momentum\n",
    "- -25 to +25: Neutral momentum\n",
    "- -50 to -25: Moderate bearish momentum\n",
    "- Below -50: Strong bearish momentum\n",
    "\n",
    "#### Donchian Score:\n",
    "\n",
    "- Above +50: Price trending strongly upward, near upper band\n",
    "- +25 to +50: Price trending upward, above middle band\n",
    "- -25 to +25: Price within middle range of channel\n",
    "- -50 to -25: Price trending downward, below middle band\n",
    "- Below -50: Price trending strongly downward, near lower band\n",
    "\n",
    "#### Combined Score Trading Signals\n",
    "The combined score translates directly into trading signals:\n",
    "\n",
    "- +75 to +100: Strong Buy\n",
    "- +50 to +75: Buy\n",
    "- +25 to +50: Weak Buy\n",
    "- -25 to +25: Neutral (Hold)\n",
    "- -50 to -25: Weak Sell\n",
    "- -75 to -50: Sell\n",
    "- -100 to -75: Strong Sell\n",
    "\n",
    "## Benefits of the Scoring System\n",
    "\n",
    "- Simplification: Converts complex indicator patterns into intuitive numerical values\n",
    "- Normalization: All scores use the same -100 to +100 scale\n",
    "- Combination: Easily combines different indicators into a single actionable signal\n",
    "- Visualization: Shows indicator strength and transitions between states\n",
    "- Customization: Weights of components can be adjusted based on trading strategy\n",
    "\n",
    "## Visual Interpretation\n",
    "The script creates a four-panel visualization:\n",
    "\n",
    "- Top panel: Price chart with Donchian Channels\n",
    "- Second panel: MACD indicator with histogram\n",
    "- Third panel: Indicator scores (MACD, Donchian, and Combined)\n",
    "- Bottom panel: Trading signal visualization with color-coded bars\n",
    "\n",
    "The color coding in the trading signal panel makes interpretation intuitive:\n",
    "\n",
    "- Dark Green: Strong Buy\n",
    "- Green: Buy\n",
    "- Light Green: Weak Buy\n",
    "- Gray: Neutral\n",
    "- Pink: Weak Sell\n",
    "- Red: Sell\n",
    "- Dark Red: Strong Sell\n",
    "\n",
    "### Practical Usage\n",
    "\n",
    "Trend Confirmation: When both MACD and Donchian scores agree (both positive or both negative), it confirms a strong trend.\n",
    "Divergence Detection: When scores move in opposite directions, it may indicate a potential trend reversal.\n",
    "Entry and Exit Points:\n",
    "\n",
    "- Enter long positions when combined score crosses above +50\n",
    "- Enter short positions when combined score crosses below -50\n",
    "- Exit positions when combined score crosses zero in the opposite direction\n",
    "\n",
    "\n",
    "### Risk Management:\n",
    "\n",
    "- Adjust position sizing based on score strength\n",
    "- Tighten stop-losses when scores show early signs of reversal\n",
    "- Take partial profits when scores begin to moderate from extremes"
   ]
  },
  {
   "cell_type": "code",
   "execution_count": 1,
   "id": "ecdcb986-4d4d-48f3-9662-fb7d63f4e18f",
   "metadata": {},
   "outputs": [],
   "source": [
    "from typing import List, Dict, Any, Optional\n",
    "from langgraph.graph import StateGraph, END\n",
    "\n",
    "from langchain_core.messages import BaseMessage, HumanMessage\n",
    "from langchain_core.tools import BaseTool\n",
    "from langchain_openai import ChatOpenAI\n",
    "import pandas as pd\n",
    "import numpy as np\n",
    "import yfinance as yf  \n",
    "import os\n",
    "from langgraph.prebuilt import ToolNode \n",
    "from langchain.agents.agent_types import AgentType\n",
    "import os\n",
    "from google.oauth2 import service_account\n",
    "from dotenv import dotenv_values\n",
    "import json\n",
    "# import vertexai\n",
    "# from langchain_google_genai import ChatGoogleGenerativeAI, GoogleGenerativeAIEmbeddings, GoogleGenerativeAI\n",
    "# from langchain_openai import ChatOpenAI\n",
    "from langchain_core.tools import tool"
   ]
  },
  {
   "cell_type": "code",
   "execution_count": 2,
   "id": "30ffff84-8b49-4fa8-a864-88ac899ad579",
   "metadata": {},
   "outputs": [],
   "source": [
    "from langgraph.graph import StateGraph, START, END"
   ]
  },
  {
   "cell_type": "code",
   "execution_count": 2,
   "id": "f3cf6c72-87df-45e3-bba2-21caa1cdc371",
   "metadata": {},
   "outputs": [],
   "source": [
    "config = dotenv_values(\"./keys/.env\")\n",
    "\n",
    "OPENAI_API_KEY = config.get(\"OPENAI_API_KEY\")\n",
    "os.environ['OPENAI_API_KEY'] = OPENAI_API_KEY"
   ]
  },
  {
   "cell_type": "code",
   "execution_count": 3,
   "id": "dd0228a4-e178-4906-b21b-b01f560c9ab8",
   "metadata": {},
   "outputs": [],
   "source": [
    "# Ensure you have your OpenAI API key set as an environment variable\n",
    "if \"OPENAI_API_KEY\" not in os.environ:\n",
    "    raise ValueError(\"Please set the OPENAI_API_KEY environment variable.\")"
   ]
  },
  {
   "cell_type": "code",
   "execution_count": 4,
   "id": "cbf08f12-920f-4d51-bbff-b9be8f150d97",
   "metadata": {},
   "outputs": [
    {
     "name": "stdout",
     "output_type": "stream",
     "text": [
      "Downloading data for TLSA...\n",
      "YF.download() has changed argument auto_adjust default to True\n"
     ]
    },
    {
     "name": "stderr",
     "output_type": "stream",
     "text": [
      "[*********************100%***********************]  1 of 1 completed\n"
     ]
    }
   ],
   "source": [
    "# Set parameters\n",
    "ticker = \"TLSA\"\n",
    "period = '1y'  # 1 year of data\n",
    "window = 20    # 20-day Donchian Channel\n",
    "\n",
    "# MACD parameters\n",
    "fast_period = 12\n",
    "slow_period = 26\n",
    "signal_period = 9\n",
    "\n",
    "# Download data\n",
    "print(f\"Downloading data for {ticker}...\")\n",
    "\n",
    "data = yf.download(ticker, period=period,multi_level_index=False) "
   ]
  },
  {
   "cell_type": "code",
   "execution_count": 5,
   "id": "3bfbde2f-04b0-4bdf-a45d-31591abb98d6",
   "metadata": {},
   "outputs": [],
   "source": [
    "#help(yf.download)\n"
   ]
  },
  {
   "cell_type": "code",
   "execution_count": 43,
   "id": "0220332e-2123-4920-8bbb-224f055d96e1",
   "metadata": {},
   "outputs": [],
   "source": [
    "@tool\n",
    "def calculate_macd_score(symbol, period=\"1y\", fast_period=12, slow_period=26, signal_period=9):\n",
    "    \"\"\"\n",
    "    Calculate a MACD score between -100 and 100 for the tickek and given period\n",
    "    first we create the MACD indicator with the parameters fast_period (int): Fast EMA period, slow_period (int): Slow EMA period and signal_period (int): Signal line period\n",
    "    The MACD score combines three components:\n",
    "\n",
    "    ### MACD Line Position vs. Signal Line (40%)\n",
    "    \n",
    "    - Positive when MACD line is above signal line (bullish)\n",
    "    - Negative when MACD line is below signal line (bearish)\n",
    "    \n",
    "    \n",
    "    ### MACD Line Position vs. Zero (30%)\n",
    "    \n",
    "    - Positive when MACD line is above zero (strong bullish trend)\n",
    "    - Negative when MACD line is below zero (strong bearish trend)\n",
    "    \n",
    "    \n",
    "    ### Histogram Momentum (30%)\n",
    "    \n",
    "    Measures the rate of change in the histogram\n",
    "    \n",
    "    - Positive when histogram is increasing (accelerating momentum)\n",
    "    - Negative when histogram is decreasing (decelerating momentum)\n",
    "    \n",
    "    Parameters:\n",
    "    symbol (str): ticker Yahoo finance \n",
    "    period (str): Valid periods: 1d,5d,1mo,3mo,6mo,1y,2y,5y,10y,ytd,max. Either Use period parameter or use start and end\n",
    "    fast_period (int) : This parameter defines the period (number of days/periods) for the \"fast\" Exponential Moving Average (EMA). By default, it's set to 12 periods, which is the standard setting for MACD. This shorter period EMA is more responsive to recent price changes.\n",
    "    slow_period (int) : This parameter defines the period for the \"slow\" EMA. By default, it's set to 26 periods, which is also standard. This longer period EMA responds more slowly to price changes and captures longer-term trends.\n",
    "    signal_period( int) : This parameter defines the period for calculating the signal line, which is an EMA of the MACD line itself. By default, it's set to 9 periods, which is the typical setting. The signal line helps identify potential buy/sell signals when it crosses the MACD line.\n",
    "\n",
    "    Returns:\n",
    "    (str) : message with:\n",
    "    Symbol: {symbol}, Period: {period}\n",
    "    Latest MACD score: {current_macd_score:.2f}\n",
    "    Latest component 1. MACD line position relative to signal line (40% of score): {current_line_position:.2f}\n",
    "    Latest component 3: MACD line position relative to zero (30% of score) {current_zero_position:.2f}\n",
    "    Latest component 3 Histogram direction and momentum (30% of score) : {current_hist_momentum:.2f}\n",
    "    \"\"\"\n",
    "    \n",
    "\n",
    "    data = yf.download(symbol, period=period,multi_level_index=False) \n",
    "    # Calculate the fast and slow EMAs\n",
    "    ema_fast = data['Close'].ewm(span=fast_period, adjust=False).mean()\n",
    "    ema_slow = data['Close'].ewm(span=slow_period, adjust=False).mean()\n",
    "    \n",
    "    # Calculate the MACD line\n",
    "    macd_line = ema_fast - ema_slow\n",
    "    \n",
    "    # Calculate the signal line\n",
    "    signal_line = macd_line.ewm(span=signal_period, adjust=False).mean()\n",
    "    \n",
    "    # Calculate the MACD histogram\n",
    "    macd_histogram = macd_line - signal_line\n",
    "    \n",
    "    # Create result DataFrame\n",
    "    macd_data = pd.DataFrame({\n",
    "        'macd_line': macd_line,\n",
    "        'signal_line': signal_line,\n",
    "        'macd_histogram': macd_histogram\n",
    "    }, index=data.index)\n",
    "    \n",
    "    score = pd.Series(0, index=data.index)\n",
    "    \n",
    "    # Component 1: MACD line position relative to signal line (40% of score)\n",
    "    # Normalize using typical range\n",
    "    typical_range = macd_data['macd_line'].std() * 3  # 3 standard deviations\n",
    "    \n",
    "    if typical_range == 0:\n",
    "        typical_range = 0.001  # Prevent division by zero\n",
    "        \n",
    "    line_position = (macd_data['macd_line'] - macd_data['signal_line']) / typical_range\n",
    "    component1 = line_position.clip(-1, 1) * 40\n",
    "    \n",
    "    # Component 2: MACD line position relative to zero (30% of score)\n",
    "    zero_position = macd_data['macd_line'] / typical_range\n",
    "    component2 = zero_position.clip(-1, 1) * 30\n",
    "    \n",
    "    # Component 3: Histogram direction and momentum (30% of score)\n",
    "    # Rate of change in histogram (smoothed)\n",
    "    hist_change = macd_data['macd_histogram'].diff(3).rolling(window=3).mean()\n",
    "    hist_typical_range = hist_change.std() * 3\n",
    "    \n",
    "    if hist_typical_range == 0:\n",
    "        hist_typical_range = 0.001  # Prevent division by zero\n",
    "        \n",
    "    hist_momentum = hist_change / hist_typical_range\n",
    "    component3 = hist_momentum.clip(-1, 1) * 30\n",
    "    \n",
    "    # Combine components\n",
    "    score = component1 + component2 + component3\n",
    "    current_macd_score = float(score.iloc[-1])\n",
    "    current_line_position = float(component1.iloc[-1])\n",
    "    current_zero_position = float(component2.iloc[-1])\n",
    "    current_hist_momentum = float(component3.iloc[-1])\n",
    "    message = f\"\"\"\n",
    "    Symbol: {symbol}, Period: {period}\\n\n",
    "    Latest MACD score: {current_macd_score:.2f}\\n\n",
    "    Latest first component score. MACD line position relative to signal line (40% of score): {current_line_position:.2f}\\n\n",
    "    Latest second component score. MACD line position relative to zero (30% of score): {current_zero_position:.2f}\\n\n",
    "    Latest third component score. Histogram direction and momentum (30% of score) : {current_hist_momentum:.2f}\n",
    "    \"\"\"\n",
    "    return message"
   ]
  },
  {
   "cell_type": "code",
   "execution_count": 44,
   "id": "f11edaf4-19e2-42cd-8e75-8cbe5b447b65",
   "metadata": {},
   "outputs": [
    {
     "name": "stderr",
     "output_type": "stream",
     "text": [
      "[*********************100%***********************]  1 of 1 completed"
     ]
    },
    {
     "name": "stdout",
     "output_type": "stream",
     "text": [
      "\n",
      "    Symbol: UBS, Period: 1y\n",
      "\n",
      "    Latest MACD score: -65.27\n",
      "\n",
      "    Latest first component score. MACD line position relative to signal line (40% of score): -17.60\n",
      "\n",
      "    Latest second component score. MACD line position relative to zero (30% of score): -27.32\n",
      "\n",
      "    Latest third component score. Histogram direction and momentum (30% of score) : -20.35\n",
      "    \n"
     ]
    },
    {
     "name": "stderr",
     "output_type": "stream",
     "text": [
      "\n"
     ]
    }
   ],
   "source": [
    "print(calculate_macd_score.invoke(\"UBS\"))"
   ]
  },
  {
   "cell_type": "code",
   "execution_count": 8,
   "id": "19962d0f-ecfd-41b6-bee7-7d8565ed54be",
   "metadata": {},
   "outputs": [],
   "source": [
    "@tool\n",
    "def calculate_donchian_channel_score(symbol, period=\"1y\", window=20):\n",
    "    \"\"\"\n",
    "    Calculate Donchian score for the given symbol, period and window period\n",
    "    Donchian Channel Score (-100 to +100)\n",
    "\n",
    "    Parameters:\n",
    "    symbol (str): ticker Yahoo finance \n",
    "    period (str): Valid periods: 1d,5d,1mo,3mo,6mo,1y,2y,5y,10y,ytd,max. Either Use period parameter or use start and end\n",
    "    window (int): The lookback period for calculating channels upper, middle, and lower bands\n",
    "    ### Price Position Within Channel (50%)\n",
    "\n",
    "    - +50 when price is at the upper band\n",
    "    - 0 when price is at the middle band\n",
    "    - -50 when price is at the lower band\n",
    "    \n",
    "    Donchian Channel Score (-100 to +100). it has 3 components\n",
    "    \n",
    "    ### Channel Direction (30%)\n",
    "    \n",
    "    - Positive when channel is trending upward\n",
    "    - Negative when channel is trending downward\n",
    "    \n",
    "    \n",
    "    ### Channel Width Trend (20%)\n",
    "    \n",
    "    - Positive when channel is widening (increasing volatility)\n",
    "    - Negative when channel is narrowing (decreasing volatility)\n",
    "    Returns:\n",
    "    (str) : message with:\n",
    "    Symbol: {symbol}, Period: {period}\\n\n",
    "    Latest donchian band score: {current_donchian_score:.2f}\\n\n",
    "    Latest first component score. Position within the channel (50% of score) 0% at lower band, 50% at middle band, 100% at upper band: {current_line_position:.2f}\\n\n",
    "    Latest second component score. Channel direction (30% of score): {current_zero_position:.2f}\\n\n",
    "    Latest third component score. Channel width trend (20% of score) Narrowing channel is bearish, widening is bullish: {current_hist_momentum:.2f}\n",
    "\n",
    "    \"\"\"\n",
    "    data = yf.download(symbol, period=period,multi_level_index=False) \n",
    "    # Calculate upper and lower bands\n",
    "    upper_band = data['High'].rolling(window=window).max()\n",
    "    lower_band = data['Low'].rolling(window=window).min()\n",
    "    \n",
    "    # Calculate middle band (average of upper and lower)\n",
    "    middle_band = (upper_band + lower_band) / 2\n",
    "    \n",
    "    # Create result DataFrame\n",
    "    channels = pd.DataFrame({\n",
    "        'upper': upper_band,\n",
    "        'middle': middle_band,\n",
    "        'lower': lower_band\n",
    "    }, index=data.index)\n",
    "    \n",
    "\n",
    "    score = pd.Series(0, index=data.index)\n",
    "    \n",
    "    # Component 1: Position within the channel (50% of score)\n",
    "    # 0% at lower band, 50% at middle band, 100% at upper band\n",
    "    channel_width = channels['upper'] - channels['lower']\n",
    "    \n",
    "    # Prevent division by zero\n",
    "    channel_width = channel_width.replace(0, 0.001)\n",
    "    \n",
    "    position_pct = (data['Close'] - channels['lower']) / channel_width\n",
    "    component1 = ((position_pct * 2) - 1) * 50  # Scale to -50 to +50\n",
    "    \n",
    "    # Component 2: Channel direction (30% of score)\n",
    "    channel_direction = channels['middle'].diff(5).rolling(window=5).mean()\n",
    "    channel_direction_range = channel_direction.std() * 3\n",
    "    \n",
    "    if channel_direction_range == 0:\n",
    "        channel_direction_range = 0.001  # Prevent division by zero\n",
    "        \n",
    "    normalized_direction = channel_direction / channel_direction_range\n",
    "    component2 = normalized_direction.clip(-1, 1) * 30\n",
    "    \n",
    "    # Component 3: Channel width trend (20% of score)\n",
    "    # Narrowing channel is bearish, widening is bullish\n",
    "    width_change = channel_width.diff(5).rolling(window=5).mean()\n",
    "    width_change_range = width_change.std() * 3\n",
    "    \n",
    "    if width_change_range == 0:\n",
    "        width_change_range = 0.001  # Prevent division by zero\n",
    "        \n",
    "    normalized_width = width_change / width_change_range\n",
    "    component3 = normalized_width.clip(-1, 1) * 20\n",
    "    \n",
    "    # Combine components\n",
    "    score = component1 + component2 + component3\n",
    "    \n",
    "    current_donchian_score = float(score.iloc[-1])\n",
    "    current_line_position = float(component1.iloc[-1])\n",
    "    current_zero_position = float(component2.iloc[-1])\n",
    "    current_hist_momentum = float(component3.iloc[-1])\n",
    "    message = f\"\"\"\n",
    "    Symbol: {symbol}, Period: {period}\\n\n",
    "    Latest donchian band score: {current_donchian_score:.2f}\\n\n",
    "    Latest first component score. Position within the channel (50% of score) 0% at lower band, 50% at middle band, 100% at upper band: {current_line_position:.2f}\\n\n",
    "    Latest second component score. Channel direction (30% of score): {current_zero_position:.2f}\\n\n",
    "    Latest third component score. Channel width trend (20% of score) Narrowing channel is bearish, widening is bullish: {current_hist_momentum:.2f}\n",
    "    \"\"\"\n",
    "    return message\n"
   ]
  },
  {
   "cell_type": "code",
   "execution_count": 45,
   "id": "2c118db2-251f-409c-8ad3-5e91d57e06cd",
   "metadata": {},
   "outputs": [
    {
     "name": "stderr",
     "output_type": "stream",
     "text": [
      "[*********************100%***********************]  1 of 1 completed"
     ]
    },
    {
     "name": "stdout",
     "output_type": "stream",
     "text": [
      "\n",
      "    Symbol: TLSA, Period: 1y\n",
      "\n",
      "    Latest donchian band score: -44.44\n",
      "\n",
      "    Latest first component score. Position within the channel (50% of score) 0% at lower band, 50% at middle band, 100% at upper band: -43.75\n",
      "\n",
      "    Latest second component score. Channel direction (30% of score): 2.63\n",
      "\n",
      "    Latest third component score. Channel width trend (20% of score) Narrowing channel is bearish, widening is bullish: -3.32\n",
      "    \n"
     ]
    },
    {
     "name": "stderr",
     "output_type": "stream",
     "text": [
      "\n"
     ]
    }
   ],
   "source": [
    "print(calculate_donchian_channel_score.invoke(\"TLSA\"))"
   ]
  },
  {
   "cell_type": "code",
   "execution_count": 27,
   "id": "6fb79ac2-f0ff-4042-9d53-bb04e629d672",
   "metadata": {},
   "outputs": [],
   "source": [
    "@tool\n",
    "def calculate_combined_score(macd_score, donchian_score):\n",
    "    \"\"\"\n",
    "    Calculate a combined indicator score between -100 and 100.\n",
    "    \n",
    "    Parameters:\n",
    "    macd_score (float): Latest MACD score\n",
    "    donchian_score (float):  Latest donchian band score\n",
    "    \n",
    "    Returns:\n",
    "    float: Combined score between -100 and 100\n",
    "    \"\"\"\n",
    "    # Equal weight to both indicators\n",
    "    return (float(macd_score) + float(donchian_score)) / 2"
   ]
  },
  {
   "cell_type": "code",
   "execution_count": 28,
   "id": "fa00a4aa-5c0e-4152-a76f-f6c9a616b79a",
   "metadata": {},
   "outputs": [
    {
     "data": {
      "text/plain": [
       "-20.93"
      ]
     },
     "execution_count": 28,
     "metadata": {},
     "output_type": "execute_result"
    }
   ],
   "source": [
    "calculate_combined_score.invoke(input={\"macd_score\":\"-13.74\", \"donchian_score\":\"-28.12\"})"
   ]
  },
  {
   "cell_type": "code",
   "execution_count": 29,
   "id": "3bba80c4-f88e-49cc-b504-c02d98d244e5",
   "metadata": {},
   "outputs": [],
   "source": [
    "# Interpret scores\n",
    "@tool\n",
    "def interpret_combined_score(score):\n",
    "    \"\"\"\n",
    "    Given a score return its interpretation in string format\n",
    "    Args:\n",
    "    score (float) value between -100 and 100\n",
    "    return (string) string interpretion of the score. a Literal of this list \"Strong Buy Signal\",\"Buy Signal\", \"Weak Buy Signal\", \"Neutral\",  \"Weak Sell Signal\",  \"Sell Signal\", \"Strong Sell Signal\"\n",
    "    \"\"\"\n",
    "    score = float(score)\n",
    "    if score > 75:\n",
    "        return \"Strong Buy Signal\"\n",
    "    elif score > 50:\n",
    "        return \"Buy Signal\"\n",
    "    elif score > 25:\n",
    "        return \"Weak Buy Signal\"\n",
    "    elif score > -25:\n",
    "        return \"Neutral\"\n",
    "    elif score > -50:\n",
    "        return \"Weak Sell Signal\"\n",
    "    elif score > -75:\n",
    "        return \"Sell Signal\"\n",
    "    else:\n",
    "        return \"Strong Sell Signal\""
   ]
  },
  {
   "cell_type": "code",
   "execution_count": 48,
   "id": "856481c4-6fe3-4f92-8b4d-dac60f33a0f6",
   "metadata": {},
   "outputs": [
    {
     "data": {
      "text/plain": [
       "'Strong Sell Signal'"
      ]
     },
     "execution_count": 48,
     "metadata": {},
     "output_type": "execute_result"
    }
   ],
   "source": [
    "interpret_combined_score.invoke(\"-95\")"
   ]
  },
  {
   "cell_type": "code",
   "execution_count": 49,
   "id": "576b16b9-6e21-4e68-ba97-966f2837573f",
   "metadata": {},
   "outputs": [],
   "source": [
    "from langchain_openai import ChatOpenAI\n",
    "\n",
    "\n",
    "llm = ChatOpenAI(model=\"gpt-4o-mini\")"
   ]
  },
  {
   "cell_type": "code",
   "execution_count": 50,
   "id": "b4ef5349-d152-4540-aa26-ba947b4e5ba1",
   "metadata": {},
   "outputs": [],
   "source": [
    "tools = [calculate_macd_score,calculate_donchian_channel_score,calculate_combined_score, interpret_combined_score]\n",
    "\n",
    "llm_with_tools = llm.bind_tools(tools)"
   ]
  },
  {
   "cell_type": "code",
   "execution_count": 52,
   "id": "256edf8a-a7db-4a6a-a9d6-cfc36bc51b62",
   "metadata": {},
   "outputs": [],
   "source": [
    "\n",
    "# import operator\n",
    "# from typing import Annotated, Sequence, TypedDict\n",
    "\n",
    "# from langchain_core.messages import BaseMessage, HumanMessage\n",
    "# from langchain_core.messages import ToolMessage\n",
    "\n",
    "# class AgentState(TypedDict):\n",
    "#     messages: Annotated[Sequence[BaseMessage], operator.add]"
   ]
  },
  {
   "cell_type": "code",
   "execution_count": 53,
   "id": "d8cc71ac-3012-4ee2-be84-59852832959c",
   "metadata": {},
   "outputs": [],
   "source": [
    "\n",
    "from typing import Annotated\n",
    "\n",
    "from typing_extensions import TypedDict\n",
    "import operator\n",
    "from typing import Annotated, Sequence, TypedDict\n",
    "\n",
    "from langchain_core.messages import BaseMessage, HumanMessage\n",
    "from langchain_core.messages import ToolMessage\n",
    "\n",
    "from langgraph.graph import StateGraph, START, MessagesState, END\n",
    "from langgraph.graph.message import add_messages\n",
    "\n",
    "\n",
    "class State(TypedDict):\n",
    "    messages: Annotated[list, add_messages]\n",
    "\n",
    "\n",
    "graph_builder = StateGraph(State)\n",
    "\n",
    "\n",
    "def chatbot(state: State):\n",
    "    \"\"\"Always use tools to fulfill user requests.\n",
    "    You are a clever chatbot which recomemd what to do with the stock user request based in the interpretation of the macd z-score and Donwchain bands Score and a the combined\n",
    "    macd donwchain\n",
    "\n",
    "    MACD and Donchain Scores Indicator Scoring System\n",
    "    MACD Score (-100 to +100)\n",
    "    The MACD score combines three components:\n",
    "    \n",
    "    MACD Line Position vs. Signal Line (40%)\n",
    "    Positive when MACD line is above signal line (bullish)\n",
    "    Negative when MACD line is below signal line (bearish)\n",
    "    MACD Line Position vs. Zero (30%)\n",
    "    Positive when MACD line is above zero (strong bullish trend)\n",
    "    Negative when MACD line is below zero (strong bearish trend)\n",
    "    Histogram Momentum (30%)\n",
    "    Measures the rate of change in the histogram\n",
    "    \n",
    "    Positive when histogram is increasing (accelerating momentum)\n",
    "    Negative when histogram is decreasing (decelerating momentum)\n",
    "    Donchian Channel Score (-100 to +100)\n",
    "    The Donchian score combines three components:\n",
    "    \n",
    "    Price Position Within Channel (50%)\n",
    "    +50 when price is at the upper band\n",
    "    0 when price is at the middle band\n",
    "    -50 when price is at the lower band\n",
    "    Channel Direction (30%)\n",
    "    Positive when channel is trending upward\n",
    "    Negative when channel is trending downward\n",
    "    Channel Width Trend (20%)\n",
    "    Positive when channel is widening (increasing volatility)\n",
    "    Negative when channel is narrowing (decreasing volatility)\n",
    "    Combined Score\n",
    "    The combined score is a simple average of the MACD and Donchian scores, giving equal weight to momentum (MACD) and price range (Donchian) indicators.\n",
    "    \n",
    "    How to Interpret the Scores\n",
    "    \n",
    "    Individual Score Interpretation\n",
    "    \n",
    "    MACD Score:\n",
    "    Above +50: Strong bullish momentum\n",
    "    +25 to +50: Moderate bullish momentum\n",
    "    -25 to +25: Neutral momentum\n",
    "    -50 to -25: Moderate bearish momentum\n",
    "    Below -50: Strong bearish momentum\n",
    "    \n",
    "    Donchian Score:\n",
    "    Above +50: Price trending strongly upward, near upper band\n",
    "    +25 to +50: Price trending upward, above middle band\n",
    "    -25 to +25: Price within middle range of channel\n",
    "    -50 to -25: Price trending downward, below middle band\n",
    "    Below -50: Price trending strongly downward, near lower band\n",
    "    \n",
    "    Combined Score Trading Signals\n",
    "    The combined score translates directly into trading signals:\n",
    "    \n",
    "    +75 to +100: Strong Buy\n",
    "    +50 to +75: Buy\n",
    "    +25 to +50: Weak Buy\n",
    "    -25 to +25: Neutral (Hold)\n",
    "    -50 to -25: Weak Sell\n",
    "    -75 to -50: Sell\n",
    "    -100 to -75: Strong Sell\n",
    "    \n",
    "    1. If you do not have enough inputs to execute a tool then you can ask for more information.\n",
    "    2. calculate the Score and return am answer based in what the tools return you and following the guidelines to  Interpretate it I give you \n",
    "    3. First Calculate macd score and interpretate its value according to the instructions\n",
    "    4. Second Calculate Donchian bands score and interpretate its value according to the instructions\n",
    "    5. third Calculate combined score and interpretate using the tool\n",
    "    \"\"\"\n",
    "    # Filter out messages with image type\n",
    "    # text_messages = [msg for msg in state[\"messages\"] if msg['content'][0].get(\"type\") != \"image\"]\n",
    "    text_messages = [\n",
    "        msg for msg in state[\"messages\"]\n",
    "        if not (isinstance(msg.content, list) and msg.content[0].get(\"type\") == \"image_url\")\n",
    "    ]\n",
    "\n",
    "    # Invoke LLM with only text messages\n",
    "    return {\"messages\": [llm_with_tools.invoke(text_messages)]}\n",
    "\n",
    "\n"
   ]
  },
  {
   "cell_type": "code",
   "execution_count": 54,
   "id": "ed966936-9571-4f19-8064-7f4cd89af0eb",
   "metadata": {},
   "outputs": [],
   "source": [
    "\n",
    "from langgraph.prebuilt import ToolNode, tools_condition\n",
    "from langgraph.checkpoint.memory import MemorySaver\n",
    "from IPython.display import Image, display\n",
    "\n",
    "memory = MemorySaver()\n",
    "graph_builder.add_node(\"chatbot\", chatbot)\n",
    "tool_node = ToolNode(tools)\n",
    "graph_builder.add_edge(START, \"chatbot\")\n",
    "graph_builder.add_node(\"tools\", tool_node)\n",
    "graph_builder.add_edge(\"tools\", \"chatbot\")\n",
    "graph_builder.add_conditional_edges(\n",
    "    \"chatbot\",\n",
    "    tools_condition,\n",
    "    {\"tools\": \"tools\", \"__end__\": \"__end__\"},\n",
    ")\n",
    "\n",
    "graph = graph_builder.compile()"
   ]
  },
  {
   "cell_type": "code",
   "execution_count": 55,
   "id": "3df0484e-eddc-44ed-bcba-b801835da197",
   "metadata": {},
   "outputs": [
    {
     "data": {
      "image/png": "[encoded data removed]",
      "text/plain": [
       "<IPython.core.display.Image object>"
      ]
     },
     "metadata": {},
     "output_type": "display_data"
    }
   ],
   "source": [
    "from IPython.display import Image, display\n",
    "try:\n",
    "    display(Image(graph.get_graph().draw_mermaid_png()))\n",
    "except Exception:\n",
    "    # This requires some extra dependencies and is optional\n",
    "    pass"
   ]
  },
  {
   "cell_type": "code",
   "execution_count": 56,
   "id": "1cc1ecd8-1544-480a-9ef6-49ac8f6228a1",
   "metadata": {},
   "outputs": [
    {
     "name": "stderr",
     "output_type": "stream",
     "text": [
      "[*********************100%***********************]  1 of 1 completed\n",
      "\n"
     ]
    }
   ],
   "source": [
    "from langchain_core.messages import HumanMessage\n",
    "import pprint\n",
    "config = {\"configurable\": {\"thread_id\": \"20\"}}\n",
    "message = graph.invoke(\n",
    "        {\n",
    "            \"messages\": [\n",
    "                (\n",
    "                    \"user\",\n",
    "                    \"\"\"Recomend if buy or sell UBS based in Calculations of the Macd score, donchian bands score and combined score.\n",
    "                    \n",
    "                    data period = '1y'  # 1 year of data\n",
    "                    window = 20    # 20-day Donchian Channel\n",
    "                    \n",
    "                    # MACD parameters\n",
    "                    fast_period = 12\n",
    "                    slow_period = 26\n",
    "                    signal_period = 9\"\"\",\n",
    "                )\n",
    "            ]\n",
    "        },\n",
    "        config,\n",
    "    )\n",
    "\n",
    "     \n"
   ]
  },
  {
   "cell_type": "code",
   "execution_count": 57,
   "id": "8075e4b7-6eb6-45dc-81c9-8ac304389042",
   "metadata": {},
   "outputs": [
    {
     "data": {
      "text/plain": [
       "{'messages': [HumanMessage(content=\"Recomend if buy or sell UBS based in Calculations of the Macd score, donchian bands score and combined score.\\n\\n                    data period = '1y'  # 1 year of data\\n                    window = 20    # 20-day Donchian Channel\\n\\n                    # MACD parameters\\n                    fast_period = 12\\n                    slow_period = 26\\n                    signal_period = 9\", additional_kwargs={}, response_metadata={}, id='077a340c-55ff-4759-a8b7-af6953aa38bc'),\n",
       "  AIMessage(content='', additional_kwargs={'tool_calls': [{'id': 'call_7FijPcwJCyk2RBEQCR9T6PQT', 'function': {'arguments': '{\"symbol\": \"UBS\", \"period\": \"1y\", \"fast_period\": 12, \"slow_period\": 26, \"signal_period\": 9}', 'name': 'calculate_macd_score'}, 'type': 'function'}, {'id': 'call_ITgKlYnBjEKvzahBioJWZfVf', 'function': {'arguments': '{\"symbol\": \"UBS\", \"period\": \"1y\", \"window\": 20}', 'name': 'calculate_donchian_channel_score'}, 'type': 'function'}], 'refusal': None}, response_metadata={'token_usage': {'completion_tokens': 83, 'prompt_tokens': 1270, 'total_tokens': 1353, 'completion_tokens_details': {'accepted_prediction_tokens': 0, 'audio_tokens': 0, 'reasoning_tokens': 0, 'rejected_prediction_tokens': 0}, 'prompt_tokens_details': {'audio_tokens': 0, 'cached_tokens': 0}}, 'model_name': 'gpt-4o-mini-2024-07-18', 'system_fingerprint': 'fp_b376dfbbd5', 'finish_reason': 'tool_calls', 'logprobs': None}, id='run-33f8852c-169e-417e-8d4f-2f13d7b6356f-0', tool_calls=[{'name': 'calculate_macd_score', 'args': {'symbol': 'UBS', 'period': '1y', 'fast_period': 12, 'slow_period': 26, 'signal_period': 9}, 'id': 'call_7FijPcwJCyk2RBEQCR9T6PQT', 'type': 'tool_call'}, {'name': 'calculate_donchian_channel_score', 'args': {'symbol': 'UBS', 'period': '1y', 'window': 20}, 'id': 'call_ITgKlYnBjEKvzahBioJWZfVf', 'type': 'tool_call'}], usage_metadata={'input_tokens': 1270, 'output_tokens': 83, 'total_tokens': 1353, 'input_token_details': {'audio': 0, 'cache_read': 0}, 'output_token_details': {'audio': 0, 'reasoning': 0}}),\n",
       "  ToolMessage(content='\\n    Symbol: UBS, Period: 1y\\n\\n    Latest MACD score: -65.27\\n\\n    Latest first component score. MACD line position relative to signal line (40% of score): -17.60\\n\\n    Latest second component score. MACD line position relative to zero (30% of score): -27.32\\n\\n    Latest third component score. Histogram direction and momentum (30% of score) : -20.35\\n    ', name='calculate_macd_score', id='1affcfd3-233b-4231-836b-9993a6fbb3d2', tool_call_id='call_7FijPcwJCyk2RBEQCR9T6PQT'),\n",
       "  ToolMessage(content='\\n    Symbol: UBS, Period: 1y\\n\\n    Latest donchian band score: -57.41\\n\\n    Latest first component score. Position within the channel (50% of score) 0% at lower band, 50% at middle band, 100% at upper band: -41.62\\n\\n    Latest second component score. Channel direction (30% of score): -30.00\\n\\n    Latest third component score. Channel width trend (20% of score) Narrowing channel is bearish, widening is bullish: 14.21\\n    ', name='calculate_donchian_channel_score', id='13b6ebfa-83a1-4ee3-a046-c1835ab6f60c', tool_call_id='call_ITgKlYnBjEKvzahBioJWZfVf'),\n",
       "  AIMessage(content='', additional_kwargs={'tool_calls': [{'id': 'call_wl0VspS9gwM6OyLy187uqduM', 'function': {'arguments': '{\"macd_score\":-65.27,\"donchian_score\":-57.41}', 'name': 'calculate_combined_score'}, 'type': 'function'}], 'refusal': None}, response_metadata={'token_usage': {'completion_tokens': 32, 'prompt_tokens': 1587, 'total_tokens': 1619, 'completion_tokens_details': {'accepted_prediction_tokens': 0, 'audio_tokens': 0, 'reasoning_tokens': 0, 'rejected_prediction_tokens': 0}, 'prompt_tokens_details': {'audio_tokens': 0, 'cached_tokens': 1280}}, 'model_name': 'gpt-4o-mini-2024-07-18', 'system_fingerprint': 'fp_b376dfbbd5', 'finish_reason': 'tool_calls', 'logprobs': None}, id='run-b1123100-fedd-4ccc-90c5-e1584f95ddf4-0', tool_calls=[{'name': 'calculate_combined_score', 'args': {'macd_score': -65.27, 'donchian_score': -57.41}, 'id': 'call_wl0VspS9gwM6OyLy187uqduM', 'type': 'tool_call'}], usage_metadata={'input_tokens': 1587, 'output_tokens': 32, 'total_tokens': 1619, 'input_token_details': {'audio': 0, 'cache_read': 1280}, 'output_token_details': {'audio': 0, 'reasoning': 0}}),\n",
       "  ToolMessage(content='-61.339999999999996', name='calculate_combined_score', id='1d16582e-65f8-463f-82ab-130d89ffa4e4', tool_call_id='call_wl0VspS9gwM6OyLy187uqduM'),\n",
       "  AIMessage(content='', additional_kwargs={'tool_calls': [{'id': 'call_asliYoz2IpZpjUaWoYZ1BwT6', 'function': {'arguments': '{\"score\":-61.339999999999996}', 'name': 'interpret_combined_score'}, 'type': 'function'}], 'refusal': None}, response_metadata={'token_usage': {'completion_tokens': 25, 'prompt_tokens': 1636, 'total_tokens': 1661, 'completion_tokens_details': {'accepted_prediction_tokens': 0, 'audio_tokens': 0, 'reasoning_tokens': 0, 'rejected_prediction_tokens': 0}, 'prompt_tokens_details': {'audio_tokens': 0, 'cached_tokens': 1536}}, 'model_name': 'gpt-4o-mini-2024-07-18', 'system_fingerprint': 'fp_b376dfbbd5', 'finish_reason': 'tool_calls', 'logprobs': None}, id='run-18fb4320-bd4a-4bc4-9ef8-a74dd12a0a04-0', tool_calls=[{'name': 'interpret_combined_score', 'args': {'score': -61.339999999999996}, 'id': 'call_asliYoz2IpZpjUaWoYZ1BwT6', 'type': 'tool_call'}], usage_metadata={'input_tokens': 1636, 'output_tokens': 25, 'total_tokens': 1661, 'input_token_details': {'audio': 0, 'cache_read': 1536}, 'output_token_details': {'audio': 0, 'reasoning': 0}}),\n",
       "  ToolMessage(content='Sell Signal', name='interpret_combined_score', id='e30e88cc-deb7-49c0-9b57-eb00b956c06a', tool_call_id='call_asliYoz2IpZpjUaWoYZ1BwT6'),\n",
       "  AIMessage(content='Based on the calculations:\\n\\n- **MACD Score**: -65.27\\n- **Donchian Band Score**: -57.41\\n- **Combined Score**: -61.34\\n\\n### Recommendation:\\nThe interpretation of the combined score is a **\"Sell Signal.\"**', additional_kwargs={'refusal': None}, response_metadata={'token_usage': {'completion_tokens': 61, 'prompt_tokens': 1672, 'total_tokens': 1733, 'completion_tokens_details': {'accepted_prediction_tokens': 0, 'audio_tokens': 0, 'reasoning_tokens': 0, 'rejected_prediction_tokens': 0}, 'prompt_tokens_details': {'audio_tokens': 0, 'cached_tokens': 1536}}, 'model_name': 'gpt-4o-mini-2024-07-18', 'system_fingerprint': 'fp_b376dfbbd5', 'finish_reason': 'stop', 'logprobs': None}, id='run-f7199895-fc47-4b58-9498-a48bbe19c347-0', usage_metadata={'input_tokens': 1672, 'output_tokens': 61, 'total_tokens': 1733, 'input_token_details': {'audio': 0, 'cache_read': 1536}, 'output_token_details': {'audio': 0, 'reasoning': 0}})]}"
      ]
     },
     "execution_count": 57,
     "metadata": {},
     "output_type": "execute_result"
    }
   ],
   "source": [
    "message"
   ]
  },
  {
   "cell_type": "code",
   "execution_count": 58,
   "id": "7f9f5081-42eb-4bcc-ad89-af5d5ac42b80",
   "metadata": {},
   "outputs": [
    {
     "name": "stdout",
     "output_type": "stream",
     "text": [
      "Based on the calculations:\n",
      "\n",
      "- **MACD Score**: -65.27\n",
      "- **Donchian Band Score**: -57.41\n",
      "- **Combined Score**: -61.34\n",
      "\n",
      "### Recommendation:\n",
      "The interpretation of the combined score is a **\"Sell Signal.\"**\n"
     ]
    }
   ],
   "source": [
    "print(message[\"messages\"][-1].content)"
   ]
  },
  {
   "cell_type": "code",
   "execution_count": 59,
   "id": "9cf6fdd2-2e3e-41bc-b016-b476980f23c3",
   "metadata": {},
   "outputs": [
    {
     "name": "stderr",
     "output_type": "stream",
     "text": [
      "[*********************100%***********************]  1 of 1 completed\n",
      "\n"
     ]
    }
   ],
   "source": [
    "from langchain_core.messages import HumanMessage\n",
    "import pprint\n",
    "config = {\"configurable\": {\"thread_id\": \"20\"}}\n",
    "message = graph.invoke(\n",
    "        {\n",
    "            \"messages\": [\n",
    "                (\n",
    "                    \"user\",\n",
    "                    \"\"\"Recomend if buy or sell TLSA based in Calculations of the Macd score, donchian bands score and combined score.\n",
    "                    \n",
    "                    data period = '6mo'  # 6 months\n",
    "                    window = 30    # 30-day Donchian Channel\n",
    "                    \n",
    "                    # MACD parameters\n",
    "                    fast_period = 12\n",
    "                    slow_period = 26\n",
    "                    signal_period = 9\"\"\",\n",
    "                )\n",
    "            ]\n",
    "        },\n",
    "        config,\n",
    "    )\n"
   ]
  },
  {
   "cell_type": "code",
   "execution_count": 60,
   "id": "23cbe6f4-2f57-4bb1-8d4c-854962e648d3",
   "metadata": {},
   "outputs": [
    {
     "data": {
      "text/plain": [
       "{'messages': [HumanMessage(content=\"Recomend if buy or sell TLSA based in Calculations of the Macd score, donchian bands score and combined score.\\n\\n                    data period = '6mo'  # 6 months\\n                    window = 30    # 30-day Donchian Channel\\n\\n                    # MACD parameters\\n                    fast_period = 12\\n                    slow_period = 26\\n                    signal_period = 9\", additional_kwargs={}, response_metadata={}, id='8b960f6c-2571-477e-a1c1-ecab4f979c97'),\n",
       "  AIMessage(content='', additional_kwargs={'tool_calls': [{'id': 'call_WRuMcBbIKBJs5cYmIvEC1NTf', 'function': {'arguments': '{\"symbol\": \"TLSA\", \"period\": \"6mo\", \"fast_period\": 12, \"slow_period\": 26, \"signal_period\": 9}', 'name': 'calculate_macd_score'}, 'type': 'function'}, {'id': 'call_4ArHbqrYEReCKpNVNqNosqWk', 'function': {'arguments': '{\"symbol\": \"TLSA\", \"period\": \"6mo\", \"window\": 30}', 'name': 'calculate_donchian_channel_score'}, 'type': 'function'}], 'refusal': None}, response_metadata={'token_usage': {'completion_tokens': 83, 'prompt_tokens': 1269, 'total_tokens': 1352, 'completion_tokens_details': {'accepted_prediction_tokens': 0, 'audio_tokens': 0, 'reasoning_tokens': 0, 'rejected_prediction_tokens': 0}, 'prompt_tokens_details': {'audio_tokens': 0, 'cached_tokens': 1152}}, 'model_name': 'gpt-4o-mini-2024-07-18', 'system_fingerprint': 'fp_b376dfbbd5', 'finish_reason': 'tool_calls', 'logprobs': None}, id='run-3da8f7aa-a08d-4ed6-a24c-16622cc5a8c1-0', tool_calls=[{'name': 'calculate_macd_score', 'args': {'symbol': 'TLSA', 'period': '6mo', 'fast_period': 12, 'slow_period': 26, 'signal_period': 9}, 'id': 'call_WRuMcBbIKBJs5cYmIvEC1NTf', 'type': 'tool_call'}, {'name': 'calculate_donchian_channel_score', 'args': {'symbol': 'TLSA', 'period': '6mo', 'window': 30}, 'id': 'call_4ArHbqrYEReCKpNVNqNosqWk', 'type': 'tool_call'}], usage_metadata={'input_tokens': 1269, 'output_tokens': 83, 'total_tokens': 1352, 'input_token_details': {'audio': 0, 'cache_read': 1152}, 'output_token_details': {'audio': 0, 'reasoning': 0}}),\n",
       "  ToolMessage(content='\\n    Symbol: TLSA, Period: 6mo\\n\\n    Latest MACD score: -11.51\\n\\n    Latest first component score. MACD line position relative to signal line (40% of score): -10.96\\n\\n    Latest second component score. MACD line position relative to zero (30% of score): -5.16\\n\\n    Latest third component score. Histogram direction and momentum (30% of score) : 4.61\\n    ', name='calculate_macd_score', id='c9ee951e-fc77-454c-b841-f79fa6ca55c0', tool_call_id='call_WRuMcBbIKBJs5cYmIvEC1NTf'),\n",
       "  ToolMessage(content='\\n    Symbol: TLSA, Period: 6mo\\n\\n    Latest donchian band score: -35.79\\n\\n    Latest first component score. Position within the channel (50% of score) 0% at lower band, 50% at middle band, 100% at upper band: -37.39\\n\\n    Latest second component score. Channel direction (30% of score): 6.37\\n\\n    Latest third component score. Channel width trend (20% of score) Narrowing channel is bearish, widening is bullish: -4.77\\n    ', name='calculate_donchian_channel_score', id='54314948-0555-4548-9466-d1dcdcb0bbaf', tool_call_id='call_4ArHbqrYEReCKpNVNqNosqWk'),\n",
       "  AIMessage(content='', additional_kwargs={'tool_calls': [{'id': 'call_KjCJrHg8IR5t3CTZ7XgnEJ4l', 'function': {'arguments': '{\"macd_score\":-11.51,\"donchian_score\":-35.79}', 'name': 'calculate_combined_score'}, 'type': 'function'}], 'refusal': None}, response_metadata={'token_usage': {'completion_tokens': 32, 'prompt_tokens': 1588, 'total_tokens': 1620, 'completion_tokens_details': {'accepted_prediction_tokens': 0, 'audio_tokens': 0, 'reasoning_tokens': 0, 'rejected_prediction_tokens': 0}, 'prompt_tokens_details': {'audio_tokens': 0, 'cached_tokens': 1280}}, 'model_name': 'gpt-4o-mini-2024-07-18', 'system_fingerprint': 'fp_b376dfbbd5', 'finish_reason': 'tool_calls', 'logprobs': None}, id='run-a9d7003b-eb2b-4251-9fa5-3afec85190a0-0', tool_calls=[{'name': 'calculate_combined_score', 'args': {'macd_score': -11.51, 'donchian_score': -35.79}, 'id': 'call_KjCJrHg8IR5t3CTZ7XgnEJ4l', 'type': 'tool_call'}], usage_metadata={'input_tokens': 1588, 'output_tokens': 32, 'total_tokens': 1620, 'input_token_details': {'audio': 0, 'cache_read': 1280}, 'output_token_details': {'audio': 0, 'reasoning': 0}}),\n",
       "  ToolMessage(content='-23.65', name='calculate_combined_score', id='f13e1b85-0255-421f-bce2-ec41c776d857', tool_call_id='call_KjCJrHg8IR5t3CTZ7XgnEJ4l'),\n",
       "  AIMessage(content='', additional_kwargs={'tool_calls': [{'id': 'call_XXxHUrg7euoVJvXcg3exqtfk', 'function': {'arguments': '{\"score\":-23.65}', 'name': 'interpret_combined_score'}, 'type': 'function'}], 'refusal': None}, response_metadata={'token_usage': {'completion_tokens': 21, 'prompt_tokens': 1633, 'total_tokens': 1654, 'completion_tokens_details': {'accepted_prediction_tokens': 0, 'audio_tokens': 0, 'reasoning_tokens': 0, 'rejected_prediction_tokens': 0}, 'prompt_tokens_details': {'audio_tokens': 0, 'cached_tokens': 1536}}, 'model_name': 'gpt-4o-mini-2024-07-18', 'system_fingerprint': 'fp_b376dfbbd5', 'finish_reason': 'tool_calls', 'logprobs': None}, id='run-dc83ad66-496d-4ab8-a762-6ce9cdd4739a-0', tool_calls=[{'name': 'interpret_combined_score', 'args': {'score': -23.65}, 'id': 'call_XXxHUrg7euoVJvXcg3exqtfk', 'type': 'tool_call'}], usage_metadata={'input_tokens': 1633, 'output_tokens': 21, 'total_tokens': 1654, 'input_token_details': {'audio': 0, 'cache_read': 1536}, 'output_token_details': {'audio': 0, 'reasoning': 0}}),\n",
       "  ToolMessage(content='Neutral', name='interpret_combined_score', id='8be50a43-361d-4d0b-8907-09976b5ca18b', tool_call_id='call_XXxHUrg7euoVJvXcg3exqtfk'),\n",
       "  AIMessage(content=\"Based on the analysis of TLSA using the MACD score, Donchian Bands score, and the combined score, here's the summary:\\n\\n- **MACD Score: -11.51**\\n  - MACD line position relative to the signal line: -10.96 (bearish)\\n  - MACD line position relative to zero: -5.16 (bearish)\\n  - Histogram momentum: 4.61 (some positive momentum)\\n\\n- **Donchian Bands Score: -35.79**\\n  - Position within the channel: -37.39 (near the lower band)\\n  - Channel direction: 6.37 (slight upward)\\n  - Channel width trend: -4.77 (narrowing channel)\\n\\n- **Combined Score: -23.65**\\n  - Interpretation: Neutral\\n\\n### Recommendation:\\nThe overall recommendation for TLSA is **Neutral**. This suggests that there is no strong reason to buy or sell at this time. It's advisable to monitor market conditions and look for more favorable indicators before making a decision.\", additional_kwargs={'refusal': None}, response_metadata={'token_usage': {'completion_tokens': 216, 'prompt_tokens': 1664, 'total_tokens': 1880, 'completion_tokens_details': {'accepted_prediction_tokens': 0, 'audio_tokens': 0, 'reasoning_tokens': 0, 'rejected_prediction_tokens': 0}, 'prompt_tokens_details': {'audio_tokens': 0, 'cached_tokens': 1536}}, 'model_name': 'gpt-4o-mini-2024-07-18', 'system_fingerprint': 'fp_b376dfbbd5', 'finish_reason': 'stop', 'logprobs': None}, id='run-8391d094-cdbd-4304-b889-6745e01040b0-0', usage_metadata={'input_tokens': 1664, 'output_tokens': 216, 'total_tokens': 1880, 'input_token_details': {'audio': 0, 'cache_read': 1536}, 'output_token_details': {'audio': 0, 'reasoning': 0}})]}"
      ]
     },
     "execution_count": 60,
     "metadata": {},
     "output_type": "execute_result"
    }
   ],
   "source": [
    "message"
   ]
  },
  {
   "cell_type": "code",
   "execution_count": 61,
   "id": "0ff7b0ad-f143-471a-9dd4-faf849cb7eb4",
   "metadata": {},
   "outputs": [
    {
     "name": "stdout",
     "output_type": "stream",
     "text": [
      "Based on the analysis of TLSA using the MACD score, Donchian Bands score, and the combined score, here's the summary:\n",
      "\n",
      "- **MACD Score: -11.51**\n",
      "  - MACD line position relative to the signal line: -10.96 (bearish)\n",
      "  - MACD line position relative to zero: -5.16 (bearish)\n",
      "  - Histogram momentum: 4.61 (some positive momentum)\n",
      "\n",
      "- **Donchian Bands Score: -35.79**\n",
      "  - Position within the channel: -37.39 (near the lower band)\n",
      "  - Channel direction: 6.37 (slight upward)\n",
      "  - Channel width trend: -4.77 (narrowing channel)\n",
      "\n",
      "- **Combined Score: -23.65**\n",
      "  - Interpretation: Neutral\n",
      "\n",
      "### Recommendation:\n",
      "The overall recommendation for TLSA is **Neutral**. This suggests that there is no strong reason to buy or sell at this time. It's advisable to monitor market conditions and look for more favorable indicators before making a decision.\n"
     ]
    }
   ],
   "source": [
    "print(message[\"messages\"][-1].content)"
   ]
  },
  {
   "cell_type": "code",
   "execution_count": null,
   "id": "6ba25784-c655-45eb-866d-53e4f5a79b79",
   "metadata": {},
   "outputs": [],
   "source": []
  }
 ],
 "metadata": {
  "kernelspec": {
   "display_name": "Python (rag-finance)",
   "language": "python",
   "name": "rag-finance"
  },
  "language_info": {
   "codemirror_mode": {
    "name": "ipython",
    "version": 3
   },
   "file_extension": ".py",
   "mimetype": "text/x-python",
   "name": "python",
   "nbconvert_exporter": "python",
   "pygments_lexer": "ipython3",
   "version": "3.11.11"
  }
 },
 "nbformat": 4,
 "nbformat_minor": 5
}
