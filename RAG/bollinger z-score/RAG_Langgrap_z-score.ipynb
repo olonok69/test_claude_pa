{
 "cells": [
  {
   "cell_type": "code",
   "execution_count": null,
   "id": "ecdcb986-4d4d-48f3-9662-fb7d63f4e18f",
   "metadata": {},
   "outputs": [],
   "source": [
    "from typing import List, Dict, Any, Optional\n",
    "from langgraph.graph import StateGraph, END\n",
    "\n",
    "from langchain_core.messages import BaseMessage, HumanMessage\n",
    "from langchain_core.tools import BaseTool\n",
    "from langchain_openai import ChatOpenAI\n",
    "import pandas as pd\n",
    "import numpy as np\n",
    "import yfinance as yf  \n",
    "import os\n",
    "from langgraph.prebuilt import ToolNode \n",
    "from langchain.agents.agent_types import AgentType\n",
    "import os\n",
    "from google.oauth2 import service_account\n",
    "from dotenv import dotenv_values\n",
    "import json\n",
    "import vertexai\n",
    "from langchain_google_genai import ChatGoogleGenerativeAI, GoogleGenerativeAIEmbeddings, GoogleGenerativeAI\n",
    "from langchain_openai import ChatOpenAI\n",
    "from langchain_core.tools import tool"
   ]
  },
  {
   "cell_type": "code",
   "execution_count": null,
   "id": "30ffff84-8b49-4fa8-a864-88ac899ad579",
   "metadata": {},
   "outputs": [],
   "source": [
    "from langgraph.graph import StateGraph, START, END"
   ]
  },
  {
   "cell_type": "code",
   "execution_count": null,
   "id": "f3cf6c72-87df-45e3-bba2-21caa1cdc371",
   "metadata": {},
   "outputs": [],
   "source": [
    "config = dotenv_values(\"./keys/.env\")\n",
    "with open(\"./keys/complete-tube-421007-208a4862c992.json\") as source:\n",
    "    info = json.load(source)\n",
    "\n",
    "vertex_credentials = service_account.Credentials.from_service_account_info(info)\n",
    "vertexai.init(\n",
    "    project=config[\"PROJECT\"],\n",
    "    location=config[\"REGION\"],\n",
    "    credentials=vertex_credentials,\n",
    ")\n",
    "google_api_key = config[\"GEMINI-API-KEY\"]\n",
    "os.environ[\"GEMINI_API_KEY\"] = google_api_key\n",
    "OPENAI_API_KEY = config.get(\"OPENAI_API_KEY\")\n",
    "os.environ['OPENAI_API_KEY'] = OPENAI_API_KEY"
   ]
  },
  {
   "cell_type": "code",
   "execution_count": null,
   "id": "dd0228a4-e178-4906-b21b-b01f560c9ab8",
   "metadata": {},
   "outputs": [],
   "source": [
    "# Ensure you have your OpenAI API key set as an environment variable\n",
    "if \"OPENAI_API_KEY\" not in os.environ:\n",
    "    raise ValueError(\"Please set the OPENAI_API_KEY environment variable.\")"
   ]
  },
  {
   "cell_type": "code",
   "execution_count": null,
   "id": "cbf08f12-920f-4d51-bbff-b9be8f150d97",
   "metadata": {},
   "outputs": [],
   "source": [
    "period=20"
   ]
  },
  {
   "cell_type": "code",
   "execution_count": null,
   "id": "f3d9a346-713d-42fb-a431-b721c8050af4",
   "metadata": {},
   "outputs": [],
   "source": [
    "data = yf.download(\"AAPL\", period=f\"{period+50}d\")"
   ]
  },
  {
   "cell_type": "code",
   "execution_count": null,
   "id": "3bfbde2f-04b0-4bdf-a45d-31591abb98d6",
   "metadata": {},
   "outputs": [],
   "source": [
    "data"
   ]
  },
  {
   "cell_type": "code",
   "execution_count": null,
   "id": "841840f8-98ac-4445-91a8-b6a5598833ca",
   "metadata": {},
   "outputs": [],
   "source": [
    "import yfinance as yf\n",
    "import pandas as pd\n",
    "\n",
    "@tool\n",
    "def calculate_bollinger_z_score(symbol:str, period: int = 20)-> str:\n",
    "    \"\"\"This tool is used to calculate the Bollinger Z Score\n",
    "    I get A symbol name in the variable symbol and a period and I calculate a the Score\n",
    "\n",
    "    Args:\n",
    "        symbol (str): symbol to calculate the z-score.\n",
    "        period  (int): period to calculate the score\n",
    "        Returns:\n",
    "        str:  Message with the relevant valuest\n",
    "\n",
    "    \"\"\"\n",
    "    # Fetch historical data\n",
    "    data = yf.download(symbol, period=f\"{period+50}d\")\n",
    "    if data.empty:\n",
    "        return f\"Could not find data for symbol: {symbol}\"\n",
    "\n",
    "    closes = data['Close']\n",
    "    rolling_mean = closes.rolling(window=period).mean()\n",
    "    rolling_std = closes.rolling(window=period).std()\n",
    "    upper_band = rolling_mean + (2 * rolling_std)\n",
    "    lower_band = rolling_mean - (2 * rolling_std)\n",
    "    z_score = (closes - rolling_mean) / rolling_std\n",
    "\n",
    "    latest_z_score = z_score.iloc[-1].values[0]\n",
    "    latest_upper_band = upper_band.iloc[-1].values[0]\n",
    "    latest_lower_band = lower_band.iloc[-1].values[0]\n",
    "    latest_close = closes.iloc[-1].values[0]\n",
    "    \n",
    "    message = f\"\"\"\n",
    "    Symbol: {symbol}, Period: {period}\\n\n",
    "    Latest Close: {latest_close:.2f}\\n\n",
    "    Latest Upper Band: {latest_upper_band:.2f}\\n\n",
    "    Latest Lower Band: {latest_lower_band:.2f}\\n\n",
    "    Latest Bollinger Z-score: {latest_z_score:.2f}\n",
    "    \"\"\"\n",
    "    return message\n"
   ]
  },
  {
   "cell_type": "code",
   "execution_count": null,
   "id": "f11edaf4-19e2-42cd-8e75-8cbe5b447b65",
   "metadata": {},
   "outputs": [],
   "source": [
    "calculate_bollinger_z_score(\"UBS\")"
   ]
  },
  {
   "cell_type": "code",
   "execution_count": null,
   "id": "19962d0f-ecfd-41b6-bee7-7d8565ed54be",
   "metadata": {},
   "outputs": [],
   "source": [
    "#z_score.iloc[-1].values[0]"
   ]
  },
  {
   "cell_type": "code",
   "execution_count": null,
   "id": "576b16b9-6e21-4e68-ba97-966f2837573f",
   "metadata": {},
   "outputs": [],
   "source": [
    "\n",
    "from langchain_google_genai import ChatGoogleGenerativeAI\n",
    "# Set up the model\n",
    "\n",
    "from langchain_openai import ChatOpenAI\n",
    "\n",
    "\n",
    "llm = ChatOpenAI(model=\"gpt-4o-mini\")"
   ]
  },
  {
   "cell_type": "code",
   "execution_count": null,
   "id": "b4ef5349-d152-4540-aa26-ba947b4e5ba1",
   "metadata": {},
   "outputs": [],
   "source": [
    "tools = [calculate_bollinger_z_score]\n",
    "\n",
    "llm_with_tools = llm.bind_tools(tools)"
   ]
  },
  {
   "cell_type": "code",
   "execution_count": null,
   "id": "256edf8a-a7db-4a6a-a9d6-cfc36bc51b62",
   "metadata": {},
   "outputs": [],
   "source": [
    "\n",
    "import operator\n",
    "from typing import Annotated, Sequence, TypedDict\n",
    "\n",
    "from langchain_core.messages import BaseMessage, HumanMessage\n",
    "from langchain_core.messages import ToolMessage\n",
    "\n",
    "class AgentState(TypedDict):\n",
    "    messages: Annotated[Sequence[BaseMessage], operator.add]"
   ]
  },
  {
   "cell_type": "code",
   "execution_count": null,
   "id": "d8cc71ac-3012-4ee2-be84-59852832959c",
   "metadata": {},
   "outputs": [],
   "source": [
    "\n",
    "from typing import Annotated\n",
    "\n",
    "from typing_extensions import TypedDict\n",
    "\n",
    "from langgraph.graph import StateGraph, START, MessagesState, END\n",
    "from langgraph.graph.message import add_messages\n",
    "\n",
    "\n",
    "class State(TypedDict):\n",
    "    messages: Annotated[list, add_messages]\n",
    "\n",
    "\n",
    "graph_builder = StateGraph(State)\n",
    "\n",
    "\n",
    "def chatbot(state: State):\n",
    "    \"\"\"Always use tools to fulfill user requests.\n",
    "    You are a clever chatbot which recomemd what to do with the stock user request based in the interpretation of the Bolling z-score\n",
    "\n",
    "    the Bollinger Z-Score is a technical indicator used to assess the position of a security's price relative to its Bollinger Bands. It's a normalized measure that helps traders understand whether a price is relatively high or low compared to its recent trading range.\n",
    "\n",
    "    Here's how to interpret the Bollinger Z-Score:\n",
    "    \n",
    "    Z-Score of 0: The current price is exactly at the middle Bollinger Band (the simple moving average).\n",
    "    Positive Z-Score: The price is above the middle Bollinger Band. The higher the Z-Score, the further the price is above the average and the more \"overbought\" the security may be considered.\n",
    "    Negative Z-Score: The price is below the middle Bollinger Band. The lower the Z-Score, the further the price is below the average and the more \"oversold\" the security may be considered.\n",
    "    General guidelines for interpretation:\n",
    "    \n",
    "    Z-Score > +2: The price is considered overbought. It might be a good time to consider selling or shorting the security.\n",
    "    Z-Score < -2: The price is considered oversold. It might be a good time to consider buying the security.\n",
    "    Z-Score between -2 and +2: The price is within the \"normal\" trading range.\n",
    "    Important considerations:\n",
    "    \n",
    "    Trend: The Z-Score should be interpreted in conjunction with the overall trend. In an uptrend, overbought conditions may persist, while in a downtrend, oversold conditions may persist.\n",
    "    Volatility: The Z-Score is affected by volatility. A more volatile security will have a wider Bollinger Band and potentially larger Z-Score fluctuations.\n",
    "    False Signals: The Z-Score can generate false signals, especially in trending markets. It's important to use other technical indicators and fundamental analysis to confirm trading decisions.\n",
    "    \n",
    "    1. If you do not have enough inputs to execute a tool then you can ask for more information.\n",
    "    2. calculate the Score and return am answer based in what the tools return you and following the guidelines to  Interpretate it I give you \n",
    "    \"\"\"\n",
    "    # Filter out messages with image type\n",
    "    # text_messages = [msg for msg in state[\"messages\"] if msg['content'][0].get(\"type\") != \"image\"]\n",
    "    text_messages = [\n",
    "        msg for msg in state[\"messages\"]\n",
    "        if not (isinstance(msg.content, list) and msg.content[0].get(\"type\") == \"image_url\")\n",
    "    ]\n",
    "\n",
    "    # Invoke LLM with only text messages\n",
    "    return {\"messages\": [llm_with_tools.invoke(text_messages)]}\n",
    "\n",
    "\n",
    "graph_builder.add_node(\"chatbot\", chatbot)"
   ]
  },
  {
   "cell_type": "code",
   "execution_count": null,
   "id": "ed966936-9571-4f19-8064-7f4cd89af0eb",
   "metadata": {},
   "outputs": [],
   "source": [
    "\n",
    "from langgraph.prebuilt import ToolNode, tools_condition\n",
    "from langgraph.checkpoint.memory import MemorySaver\n",
    "from IPython.display import Image, display\n",
    "\n",
    "memory = MemorySaver()\n",
    "\n",
    "tool_node = ToolNode(tools)\n",
    "graph_builder.add_edge(START, \"chatbot\")\n",
    "graph_builder.add_node(\"tools\", tool_node)\n",
    "graph_builder.add_edge(\"tools\", \"chatbot\")\n",
    "graph_builder.add_conditional_edges(\n",
    "    \"chatbot\",\n",
    "    tools_condition,\n",
    "    {\"tools\": \"tools\", \"__end__\": \"__end__\"},\n",
    ")\n",
    "\n",
    "graph = graph_builder.compile()"
   ]
  },
  {
   "cell_type": "code",
   "execution_count": null,
   "id": "3df0484e-eddc-44ed-bcba-b801835da197",
   "metadata": {},
   "outputs": [],
   "source": [
    "from IPython.display import Image, display\n",
    "try:\n",
    "    display(Image(graph.get_graph().draw_mermaid_png()))\n",
    "except Exception:\n",
    "    # This requires some extra dependencies and is optional\n",
    "    pass"
   ]
  },
  {
   "cell_type": "code",
   "execution_count": null,
   "id": "1cc1ecd8-1544-480a-9ef6-49ac8f6228a1",
   "metadata": {},
   "outputs": [],
   "source": [
    "from langchain_core.messages import HumanMessage\n",
    "import pprint\n",
    "config = {\"configurable\": {\"thread_id\": \"20\"}}\n",
    "graph.invoke(\n",
    "        {\n",
    "            \"messages\": [\n",
    "                (\n",
    "                    \"user\",\n",
    "                    \"Recomend if buy or sell UBS based in Calculations of the Bollinger Z-score  within a 30-day period.\",\n",
    "                )\n",
    "            ]\n",
    "        },\n",
    "        config,\n",
    "    )[\"messages\"][-1].content\n",
    "\n",
    "     \n"
   ]
  },
  {
   "cell_type": "code",
   "execution_count": null,
   "id": "9cf6fdd2-2e3e-41bc-b016-b476980f23c3",
   "metadata": {},
   "outputs": [],
   "source": [
    "graph.invoke(\n",
    "        {\n",
    "            \"messages\": [\n",
    "                (\n",
    "                    \"user\",\n",
    "                    \"Recomend if buy or sell TSLA based in Calculations of the Bollinger Z-score  within a 20-day period.\",\n",
    "                )\n",
    "            ]\n",
    "        },\n",
    "        config,\n",
    "    )[\"messages\"][-1].content"
   ]
  },
  {
   "cell_type": "code",
   "execution_count": null,
   "id": "0ff7b0ad-f143-471a-9dd4-faf849cb7eb4",
   "metadata": {},
   "outputs": [],
   "source": []
  }
 ],
 "metadata": {
  "kernelspec": {
   "display_name": "Python (rag-finance)",
   "language": "python",
   "name": "rag-finance"
  },
  "language_info": {
   "codemirror_mode": {
    "name": "ipython",
    "version": 3
   },
   "file_extension": ".py",
   "mimetype": "text/x-python",
   "name": "python",
   "nbconvert_exporter": "python",
   "pygments_lexer": "ipython3",
   "version": "3.11.11"
  }
 },
 "nbformat": 4,
 "nbformat_minor": 5
}
