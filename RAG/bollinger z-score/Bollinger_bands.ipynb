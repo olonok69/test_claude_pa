{
 "cells": [
  {
   "cell_type": "markdown",
   "id": "a02d2d1b-f63c-4ce9-8d66-3a83e06f8c75",
   "metadata": {},
   "source": [
    "# Using Standard Deviations and Z-Scores to Predict the Future\n",
    "\n",
    "# What is a Standard Deviation?\n",
    "To get to the z-score, we must first understand what a standard deviation is, because this is the basis for the underlying calculation. Basically, standard deviation measures the amount of variation in a dataset or set of values. You can use standard deviation to measure variances in anything, really.\n",
    "\n",
    "For instance, say you take a trip to Antarctica and come across a colony of adult Emperor penguins. Thousands and thousands of them all clustered together, and almost all of them are relatively the same size at about 4 feet tall. But you notice a few of them seem to be shorter, some taller, and some much shorter or much taller than the rest. And right there you can see the variances of heights of Emperor penguins. Your data set (the colony in front of you) can be added up and averaged and then the likelihood of of a certain variance (difference in heights) can be calculated, the standard deviation.\n",
    "\n",
    "After lots of counting and measuring, you calculate that the average height is 45 inches tall. Furthermore, about 68% of the penguins are between 42 and 48 inches tall (one standard deviation of +/- three inches), 95% are between 39 and 51 inches (two standard deviations), and over 99.7% are between 36 and 54 inches tall (three standard deviations). Just a handful of penguins are shorter than 36 inches or taller than 54 inches.\n",
    "\n",
    "This is known as the Empirical Rule (no relation to Emperor Penguins 😉) which states that 99.7% of values observed within a normal distribution lie within 3 standard deviations of the mean.\n",
    "\n",
    "In other words, 68% of the data falls within one standard deviation, 95% percent within two standard deviations, and 99.7% within three standard deviations from the average or mean."
   ]
  },
  {
   "cell_type": "markdown",
   "id": "0f8d052c-14ad-4859-b7a5-ccdb2a3965b9",
   "metadata": {},
   "source": [
    "# What’s a Z-Score?\n",
    "A z-score is just the number of standard deviations a value is from the mean, positive or negative.\n",
    "\n",
    "In other words, if a value has a z-score of 0, then that the data point's value is exactly the same as the average value. A z-score of 1.0 would mean the value is one standard deviation from the mean, 2.0 is two standard deviations, etc., and a positive z-score shows the value is above the mean, a negative z-score shows it is below the mean.\n",
    "\n",
    "Using the penguin example, say you choose a penguin and want to assign a z-score to it’s height. If the penguin is 49.5 inches tall, then its z-score would be +1.5 (because it is 4.5 inches, or 1.5 standard deviations of 3 inches from the average). And a penguin that is 39 inches tall would have a z-score of -2, because it is two standard deviations below the mean of 45.\n",
    "\n",
    "# How Do Traders Use Z-Scores?\n",
    "Traders will use z-scores in a host of different ways, but usually the scores have to do with the volatility of a stock and the standard deviation of the stock’s price over a period of time. A favorite of technical analysts is called the Bollinger Bands.\n",
    "\n",
    "Choosing a time period, then using a simple moving average of a stock’s price in that period, traders will plot trend lines above and below that moving average that are typically two standard deviations of the average price above and below. When a stock has a z-score that is either approaching or has crossed through these Bollinger Bands, then that is taken as an indicator that the stock is either overbought (above the Band) or oversold (below the Band). The z-score tells the trader exactly how much it is above or below the mean.\n",
    "\n",
    "So, if the trader is using a two standard deviation Bollinger Band channel, then a stock with a z-score of +2.1 would be overbought, and if the stock’s z-score was -2.1, it would be seen as oversold and a buying opportunity.\n",
    "\n",
    "Then, using other indicators, such as the Relative Strength Index (RSI), paired with the Bollinger Bands, they confirm the overbought or oversold indicators, and this may give them enough confidence to act on a trade.\n",
    "\n",
    "# Bollinger Bands\n",
    "a popular tool among investors and traders, helps gauge the volatility of stocks and other securities to determine if they are over- or undervalued. Developed in the 1980s by financial analyst John Bollinger, the bands appear on stock charts as three lines that move with the price. The center line is the stock price's 20-day simple moving average (SMA). The upper and lower bands are set at a certain number of standard deviations, usually two, above and below the middle line.\n",
    "\n",
    "The bands widen when a stock's price becomes more volatile and contract when it is more stable. Many traders see stocks as overbought as their price nears the upper band and oversold as they approach the lower band, signaling an opportune time to trade.\n"
   ]
  },
  {
   "cell_type": "code",
   "execution_count": null,
   "id": "9a823541-45f2-41ab-a3a7-f28b87ed55d9",
   "metadata": {},
   "outputs": [],
   "source": [
    "! pip install matplotlib -q"
   ]
  },
  {
   "cell_type": "code",
   "execution_count": null,
   "id": "ff1f9cab-1bb4-42a8-b6df-963ea57979b1",
   "metadata": {},
   "outputs": [],
   "source": [
    "from numpy import mean , std\n",
    "import numpy as np\n",
    "import pandas as pd\n",
    "import matplotlib  as plt"
   ]
  },
  {
   "cell_type": "code",
   "execution_count": null,
   "id": "863730ba-c1de-48c1-b362-21e9ac4ebd8f",
   "metadata": {},
   "outputs": [],
   "source": [
    "arr1 = np.array([5,5,5,5,5])\n",
    "arr2 = np.array([21,1,1,1,1])"
   ]
  },
  {
   "cell_type": "code",
   "execution_count": null,
   "id": "2552f1a3-e639-4bdc-b1fd-cdf4795f5ee2",
   "metadata": {},
   "outputs": [],
   "source": [
    "arr1.mean(), arr1.std()"
   ]
  },
  {
   "cell_type": "code",
   "execution_count": null,
   "id": "62eff658-e7ef-425a-b0c3-35d1e04b22e3",
   "metadata": {},
   "outputs": [],
   "source": [
    "arr2.mean(), arr2.std()"
   ]
  },
  {
   "cell_type": "code",
   "execution_count": null,
   "id": "8ff03b37-7d93-483a-a3b5-70673886c799",
   "metadata": {},
   "outputs": [],
   "source": [
    "pd.DataFrame(arr1).hist()"
   ]
  },
  {
   "cell_type": "code",
   "execution_count": null,
   "id": "e72d21ee-f360-4051-986b-968082044b15",
   "metadata": {},
   "outputs": [],
   "source": [
    "pd.DataFrame(arr2).hist()"
   ]
  },
  {
   "cell_type": "code",
   "execution_count": null,
   "id": "331c9715-2ba6-4188-8199-f4f3800a8956",
   "metadata": {},
   "outputs": [],
   "source": [
    "import yfinance as yf"
   ]
  },
  {
   "cell_type": "code",
   "execution_count": null,
   "id": "86a7b1ac-9119-414e-b679-13cfd1739bd1",
   "metadata": {},
   "outputs": [],
   "source": [
    "# Fetch AAPL stock data with a 1-hour timeframe\n",
    "aapl = yf.Ticker(\"UBS\")\n",
    "data = aapl.history(period=\"180d\", interval=\"1h\")  # Adjust the period as needed"
   ]
  },
  {
   "cell_type": "code",
   "execution_count": null,
   "id": "3d39fc5b-5586-468a-9a47-ce4da3cbf904",
   "metadata": {},
   "outputs": [],
   "source": [
    "data.tail(5)"
   ]
  },
  {
   "cell_type": "code",
   "execution_count": null,
   "id": "d46b4570-49f2-4aa8-a2bc-d81752b62949",
   "metadata": {},
   "outputs": [],
   "source": [
    "# Calculate the 20-period Simple Moving Average (SMA)\n",
    "data['SMA'] = data['Close'].rolling(window=50).mean()\n",
    "\n",
    "# Calculate the 20-period Standard Deviation (SD)\n",
    "data['SD'] = data['Close'].rolling(window=50).std()\n",
    "\n",
    "# Calculate the Upper Bollinger Band (UB) and Lower Bollinger Band (LB)\n",
    "data['UB'] = data['SMA'] + 2 * data['SD']\n",
    "data['LB'] = data['SMA'] - 2 * data['SD']"
   ]
  },
  {
   "cell_type": "code",
   "execution_count": null,
   "id": "d5a3b338-63a5-4905-9750-515346f231e0",
   "metadata": {},
   "outputs": [],
   "source": [
    "import plotly.graph_objs as go\n",
    "\n",
    "# Create a Plotly figure\n",
    "fig = go.Figure()\n",
    "\n",
    "# Add the price chart\n",
    "fig.add_trace(go.Scatter(x=data.index, y=data['Close'], mode='lines', name='Price'))\n",
    "\n",
    "# Add the Upper Bollinger Band (UB) and shade the area\n",
    "fig.add_trace(go.Scatter(x=data.index, y=data['UB'], mode='lines', name='Upper Bollinger Band', line=dict(color='red')))\n",
    "fig.add_trace(go.Scatter(x=data.index, y=data['LB'], fill='tonexty', mode='lines', name='Lower Bollinger Band', line=dict(color='green')))\n",
    "\n",
    "# Add the Middle Bollinger Band (MA)\n",
    "fig.add_trace(go.Scatter(x=data.index, y=data['SMA'], mode='lines', name='Middle Bollinger Band', line=dict(color='blue')))\n",
    "\n",
    "# Customize the chart layout\n",
    "fig.update_layout(title='Tesla Stock Price with Bollinger Bands',\n",
    "                  xaxis_title='Date',\n",
    "                  yaxis_title='Price',\n",
    "                  showlegend=True)\n",
    "\n",
    "# Show the chart\n",
    "fig.show()"
   ]
  },
  {
   "cell_type": "code",
   "execution_count": null,
   "id": "d105afa7-30d0-4905-90d3-913d7163c9ce",
   "metadata": {},
   "outputs": [],
   "source": [
    "from langchain.agents.agent_types import AgentType\n",
    "from langchain_experimental.agents.agent_toolkits import create_pandas_dataframe_agent\n",
    "import os\n",
    "from google.oauth2 import service_account\n",
    "from dotenv import dotenv_values\n",
    "import json\n",
    "import vertexai\n",
    "from langchain_google_genai import ChatGoogleGenerativeAI, GoogleGenerativeAIEmbeddings, GoogleGenerativeAI\n",
    "from langchain_openai import ChatOpenAI"
   ]
  },
  {
   "cell_type": "code",
   "execution_count": null,
   "id": "17e65de7-d0c7-4bc3-bb2c-4ad7237b790c",
   "metadata": {},
   "outputs": [],
   "source": [
    "config = dotenv_values(\"./keys/.env\")\n",
    "with open(\"./keys/complete-tube-421007-208a4862c992.json\") as source:\n",
    "    info = json.load(source)\n",
    "\n",
    "vertex_credentials = service_account.Credentials.from_service_account_info(info)\n",
    "vertexai.init(\n",
    "    project=config[\"PROJECT\"],\n",
    "    location=config[\"REGION\"],\n",
    "    credentials=vertex_credentials,\n",
    ")\n",
    "google_api_key = config[\"GEMINI-API-KEY\"]\n",
    "os.environ[\"GEMINI_API_KEY\"] = google_api_key"
   ]
  },
  {
   "cell_type": "code",
   "execution_count": null,
   "id": "8a899aa2-6b4e-47be-9ff3-db8fa6ced9c9",
   "metadata": {},
   "outputs": [],
   "source": [
    "OPENAI_API_KEY = config.get(\"OPENAI_API_KEY\")"
   ]
  },
  {
   "cell_type": "code",
   "execution_count": null,
   "id": "ff897ce1-7b5b-4502-86c1-7d5bbb41ce08",
   "metadata": {},
   "outputs": [],
   "source": [
    "os.environ['OPENAI_API_KEY'] = OPENAI_API_KEY"
   ]
  },
  {
   "cell_type": "code",
   "execution_count": null,
   "id": "0bb8f9dd-b551-4f62-97f3-746fd1fb25db",
   "metadata": {},
   "outputs": [],
   "source": [
    "columns = list(data.columns)"
   ]
  },
  {
   "cell_type": "code",
   "execution_count": null,
   "id": "be74c6aa-1364-41aa-9d7a-e26c8f796c0b",
   "metadata": {},
   "outputs": [],
   "source": [
    "data.head()"
   ]
  },
  {
   "cell_type": "code",
   "execution_count": null,
   "id": "e85e5d6a-ba70-4065-9626-ccb7b0b573ee",
   "metadata": {},
   "outputs": [],
   "source": [
    "# Fetch AAPL stock data with a 1-hour timeframe\n",
    "aapl = yf.Ticker(\"AAPL\")\n",
    "data = aapl.history(period=\"180d\", interval=\"1h\")  # Adjust the period as needed"
   ]
  },
  {
   "cell_type": "code",
   "execution_count": null,
   "id": "640319ef-eac6-4c59-9f4d-f744b7f3080c",
   "metadata": {},
   "outputs": [],
   "source": [
    "type(data)"
   ]
  },
  {
   "cell_type": "code",
   "execution_count": null,
   "id": "82a01808-ac8b-41ee-8b9e-5a581a6dbf43",
   "metadata": {},
   "outputs": [],
   "source": [
    "# llm = ChatGoogleGenerativeAI(\n",
    "#                     model=\"gemini-1.5-pro-001\", credentials=vertex_credentials\n",
    "#                 )"
   ]
  },
  {
   "cell_type": "code",
   "execution_count": null,
   "id": "ac22be95-630c-4c29-95ea-e8da63c01cf2",
   "metadata": {},
   "outputs": [],
   "source": [
    "context = \"\"\"\n",
    "Bollinger Bands consist of three lines:\n",
    "\n",
    "Middle Band (MA): This is the simple moving average (SMA) of the closing prices over a specified period. A common choice is a 20-period SMA.\n",
    "Upper Band (UB): This is the sum of the 20-period SMA and two times the 20-period standard deviation (SD) of the closing prices.\n",
    "Lower Band (LB): This is the 20-period SMA minus two times the 20-period SD of the closing prices.\n",
    "\n",
    "How to calculate  Bollinger Bands in Python with a pandas dataframe\n",
    "\n",
    "# Calculate the 20-period Simple Moving Average (SMA)\n",
    "data['SMA'] = data['Close'].rolling(window=20).mean()\n",
    "\n",
    "# Calculate the 20-period Standard Deviation (SD)\n",
    "data['SD'] = data['Close'].rolling(window=20).std()\n",
    "\n",
    "# Calculate the Upper Bollinger Band (UB) and Lower Bollinger Band (LB)\n",
    "data['UB'] = data['SMA'] + 2 * data['SD']\n",
    "data['LB'] = data['SMA'] - 2 * data['SD']\n",
    "\n",
    "\n",
    "\n",
    "Step 3: Interpreting Bollinger Bands\n",
    "\n",
    "Bollinger Bands can be interpreted as follows:\n",
    "\n",
    "When the price moves close to the upper band (UB), it may indicate overbought conditions, suggesting a potential price reversal to the downside.\n",
    "Conversely, when the price approaches the lower band (LB), it may indicate oversold conditions, suggesting a potential price reversal to the upside.\n",
    "The middle band (MA) represents the average price over the specified period and can serve as a reference point.\n",
    "Traders often look for price crossovers of the bands or significant price deviations from the bands as potential trading signals.\n",
    "\n",
    "Bollinger Z-Score\n",
    "The z-score (Z) measures the difference (direction) between the closing price (C) from the mean (n-period moving average) given the n-period standard deviation(s). Thus, the formula becomes: Positive or negative values show that the closing price (C) is above (C>µ) or below (C<µ) the mean, respectively.\n",
    "\n",
    "Output return a Json Dictionary with a key--> Bollinger-z-Score and the value the calculated Z-score\n",
    "\"\"\""
   ]
  },
  {
   "cell_type": "code",
   "execution_count": null,
   "id": "15eb1795-83e7-454f-b7a2-f75d0bac9206",
   "metadata": {},
   "outputs": [],
   "source": [
    "# I will pass you the instruction of how to create Bollinger Bands and how to interpretate it.\n",
    "# Context = {context}"
   ]
  },
  {
   "cell_type": "code",
   "execution_count": null,
   "id": "0aa65e1b-36af-43a0-94cb-8cb41dd7d0d9",
   "metadata": {},
   "outputs": [],
   "source": [
    "instruction =f\"\"\"You are a bot specialized in trading and creating Alpha. I will pass you a Dataframe of the historical prices with the following columns {columns}.\n",
    "\n",
    "\n",
    "can you calculate the Bollinger Z-Score for a n-period of 20?\n",
    "\n",
    "\"You must always return valid JSON fenced by a markdown code block. Do not return any additional text.\"\n",
    "\n",
    "\"\"\""
   ]
  },
  {
   "cell_type": "code",
   "execution_count": null,
   "id": "e006a37d-7fae-4333-9034-289ad8fd7f3d",
   "metadata": {},
   "outputs": [],
   "source": [
    "pandas_df_agent = create_pandas_dataframe_agent(\n",
    "ChatOpenAI(temperature=0, model=\"gpt-4o\"),\n",
    "df=data,\n",
    "verbose=True,\n",
    "agent_type=\"tool-calling\",\n",
    "    return_intermediate_steps=True,\n",
    "    handle_parsing_errors=True,\n",
    "     allow_dangerous_code=True\n",
    ")"
   ]
  },
  {
   "cell_type": "code",
   "execution_count": null,
   "id": "77ed2bb4-e4dd-492b-b561-850a6b55c69a",
   "metadata": {},
   "outputs": [],
   "source": [
    "results = pandas_df_agent.invoke(instruction)"
   ]
  },
  {
   "cell_type": "code",
   "execution_count": null,
   "id": "d08b5c6f-7e30-4748-8f5f-15def50746eb",
   "metadata": {},
   "outputs": [],
   "source": [
    "results.keys()"
   ]
  },
  {
   "cell_type": "code",
   "execution_count": null,
   "id": "98254f56-1128-4464-bd62-0f854b28f551",
   "metadata": {},
   "outputs": [],
   "source": [
    "results['output']"
   ]
  },
  {
   "cell_type": "code",
   "execution_count": null,
   "id": "49e39996-ee72-4b75-a9bd-5234b2f10842",
   "metadata": {},
   "outputs": [],
   "source": []
  }
 ],
 "metadata": {
  "kernelspec": {
   "display_name": "Python (rag-finance)",
   "language": "python",
   "name": "rag-finance"
  },
  "language_info": {
   "codemirror_mode": {
    "name": "ipython",
    "version": 3
   },
   "file_extension": ".py",
   "mimetype": "text/x-python",
   "name": "python",
   "nbconvert_exporter": "python",
   "pygments_lexer": "ipython3",
   "version": "3.11.11"
  }
 },
 "nbformat": 4,
 "nbformat_minor": 5
}
