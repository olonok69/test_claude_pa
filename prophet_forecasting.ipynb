{
 "cells": [
  {
   "cell_type": "code",
   "execution_count": null,
   "id": "ee4fcf69-8bab-459c-bf7f-a67aff44a271",
   "metadata": {},
   "outputs": [],
   "source": [
    "import mlflow\n",
    "import mlflow.prophet\n",
    "import pandas as pd\n",
    "import numpy as np\n",
    "from prophet import Prophet\n",
    "from prophet.diagnostics import cross_validation, performance_metrics\n",
    "from dotenv import load_dotenv\n",
    "import datetime\n",
    "# Load environment variables from .env file\n",
    "load_dotenv()"
   ]
  },
  {
   "cell_type": "code",
   "execution_count": null,
   "id": "c2a665c5-1715-4ab1-944d-10bfbed669ed",
   "metadata": {},
   "outputs": [],
   "source": [
    "# Load sample time series data (Prophet expects 'ds' and 'y' columns)\n",
    "# This example uses the classic Peyton Manning Wikipedia page views dataset\n",
    "url = \"https://raw.githubusercontent.com/facebook/prophet/main/examples/example_wp_log_peyton_manning.csv\"\n",
    "df = pd.read_csv(url)\n",
    "\n",
    "print(f\"Data shape: {df.shape}\")\n",
    "print(f\"Date range: {df['ds'].min()} to {df['ds'].max()}\")\n",
    "print(f\"Data preview:\\n{df.head()}\")\n"
   ]
  },
  {
   "cell_type": "code",
   "execution_count": null,
   "id": "00a532f6-87ac-41a0-866a-9631a778760f",
   "metadata": {},
   "outputs": [],
   "source": [
    "df.to_csv(\"wp_log_peyton_manning.csv\", index =False)"
   ]
  },
  {
   "cell_type": "code",
   "execution_count": null,
   "id": "9cdb38bb-151c-4bd6-9146-af99c4177b4f",
   "metadata": {},
   "outputs": [],
   "source": [
    "experiment_name = \"/Users/j.huertas@closerstillmedia.com/prophet\"\n",
    "try:\n",
    "    mlflow.create_experiment(experiment_name)\n",
    "except:\n",
    "    print(\"experiment exists\")\n",
    "mlflow.set_experiment(experiment_name)"
   ]
  },
  {
   "cell_type": "code",
   "execution_count": null,
   "id": "04ede84d-00e2-429d-832c-378263321be2",
   "metadata": {},
   "outputs": [],
   "source": [
    "with mlflow.start_run(run_name=\"Basic Prophet Forecast\"):\n",
    "    # Create Prophet model with specific parameters\n",
    "    model = Prophet(\n",
    "        changepoint_prior_scale=0.05,  # Flexibility of trend changes\n",
    "        seasonality_prior_scale=10,  # Strength of seasonality\n",
    "        holidays_prior_scale=10,  # Strength of holiday effects\n",
    "        yearly_seasonality=True,\n",
    "        weekly_seasonality=True,\n",
    "        daily_seasonality=False,\n",
    "    )\n",
    "\n",
    "    # Fit the model\n",
    "    model.fit(df)\n",
    "\n",
    "    # Extract and log model parameters\n",
    "    def extract_prophet_params(prophet_model):\n",
    "        \"\"\"Extract Prophet model parameters for logging.\"\"\"\n",
    "        from prophet.serialize import SIMPLE_ATTRIBUTES\n",
    "\n",
    "        params = {}\n",
    "        for attr in SIMPLE_ATTRIBUTES:\n",
    "            if hasattr(prophet_model, attr):\n",
    "                value = getattr(prophet_model, attr)\n",
    "                if isinstance(value, (int, float, str, bool)):\n",
    "                    params[attr] = value\n",
    "        return params\n",
    "\n",
    "    params = extract_prophet_params(model)\n",
    "    mlflow.log_params(params)\n",
    "\n",
    "    # Create future dataframe for forecasting\n",
    "    future = model.make_future_dataframe(periods=365)  # Forecast 1 year ahead\n",
    "    forecast = model.predict(future)\n",
    "\n",
    "    # Cross-validation for model evaluation\n",
    "    cv_results = cross_validation(\n",
    "        model,\n",
    "        initial=\"730 days\",  # Initial training period\n",
    "        period=\"180 days\",  # Spacing between cutoff dates\n",
    "        horizon=\"365 days\",  # Forecast horizon\n",
    "        parallel=\"threads\",  # Use threading for speed\n",
    "    )\n",
    "\n",
    "    # Calculate performance metrics\n",
    "    metrics = performance_metrics(cv_results)\n",
    "    avg_metrics = metrics[[\"mse\", \"rmse\", \"mae\", \"mape\"]].mean().to_dict()\n",
    "    mlflow.log_metrics(avg_metrics)\n",
    "\n",
    "    # Log the model with input example\n",
    "    mlflow.prophet.log_model(\n",
    "        pr_model=model, name=\"prophet_model\", input_example=df[[\"ds\"]].head(10)\n",
    "    )\n",
    "\n",
    "    print(f\"Model trained and logged successfully!\")\n",
    "    print(f\"Average MAPE: {avg_metrics['mape']:.2f}%\")"
   ]
  },
  {
   "cell_type": "code",
   "execution_count": null,
   "id": "b9290f63-254f-4f4e-b2e6-893c1b8270b3",
   "metadata": {},
   "outputs": [],
   "source": [
    "forecast.head()"
   ]
  },
  {
   "cell_type": "code",
   "execution_count": null,
   "id": "486c98cf-670e-4f45-9fe1-ce00ac3f5ba1",
   "metadata": {},
   "outputs": [],
   "source": [
    "forecast.to_csv(\"simple_prediction.csv\", index=False)"
   ]
  },
  {
   "cell_type": "code",
   "execution_count": null,
   "id": "d5538b15-e455-49fd-8dcc-a66cd90302d1",
   "metadata": {},
   "outputs": [],
   "source": []
  }
 ],
 "metadata": {
  "kernelspec": {
   "display_name": "Python 3 (ipykernel)",
   "language": "python",
   "name": "python3"
  },
  "language_info": {
   "codemirror_mode": {
    "name": "ipython",
    "version": 3
   },
   "file_extension": ".py",
   "mimetype": "text/x-python",
   "name": "python",
   "nbconvert_exporter": "python",
   "pygments_lexer": "ipython3",
   "version": "3.12.10"
  }
 },
 "nbformat": 4,
 "nbformat_minor": 5
}
