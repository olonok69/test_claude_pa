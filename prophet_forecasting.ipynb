{
 "cells": [
  {
   "cell_type": "code",
   "execution_count": 1,
   "id": "ee4fcf69-8bab-459c-bf7f-a67aff44a271",
   "metadata": {},
   "outputs": [
    {
     "data": {
      "text/plain": [
       "True"
      ]
     },
     "execution_count": 1,
     "metadata": {},
     "output_type": "execute_result"
    }
   ],
   "source": [
    "import mlflow\n",
    "import mlflow.prophet\n",
    "import pandas as pd\n",
    "import numpy as np\n",
    "from prophet import Prophet\n",
    "from prophet.diagnostics import cross_validation, performance_metrics\n",
    "from dotenv import load_dotenv\n",
    "import datetime\n",
    "# Load environment variables from .env file\n",
    "load_dotenv()"
   ]
  },
  {
   "cell_type": "code",
   "execution_count": 2,
   "id": "c2a665c5-1715-4ab1-944d-10bfbed669ed",
   "metadata": {},
   "outputs": [
    {
     "name": "stdout",
     "output_type": "stream",
     "text": [
      "Data shape: (2905, 2)\n",
      "Date range: 2007-12-10 to 2016-01-20\n",
      "Data preview:\n",
      "           ds         y\n",
      "0  2007-12-10  9.590761\n",
      "1  2007-12-11  8.519590\n",
      "2  2007-12-12  8.183677\n",
      "3  2007-12-13  8.072467\n",
      "4  2007-12-14  7.893572\n"
     ]
    }
   ],
   "source": [
    "# Load sample time series data (Prophet expects 'ds' and 'y' columns)\n",
    "# This example uses the classic Peyton Manning Wikipedia page views dataset\n",
    "url = \"https://raw.githubusercontent.com/facebook/prophet/main/examples/example_wp_log_peyton_manning.csv\"\n",
    "df = pd.read_csv(url)\n",
    "\n",
    "print(f\"Data shape: {df.shape}\")\n",
    "print(f\"Date range: {df['ds'].min()} to {df['ds'].max()}\")\n",
    "print(f\"Data preview:\\n{df.head()}\")\n"
   ]
  },
  {
   "cell_type": "code",
   "execution_count": 7,
   "id": "00a532f6-87ac-41a0-866a-9631a778760f",
   "metadata": {},
   "outputs": [],
   "source": [
    "df.to_csv(\"wp_log_peyton_manning.csv\", index =False)"
   ]
  },
  {
   "cell_type": "code",
   "execution_count": 5,
   "id": "9cdb38bb-151c-4bd6-9146-af99c4177b4f",
   "metadata": {},
   "outputs": [
    {
     "data": {
      "text/plain": [
       "<Experiment: artifact_location='dbfs:/databricks/mlflow-tracking/3039328626124250', creation_time=1755624146266, experiment_id='3039328626124250', last_update_time=1755624146266, lifecycle_stage='active', name='/Users/j.huertas@closerstillmedia.com/prophet', tags={'mlflow.experiment.sourceName': '/Users/j.huertas@closerstillmedia.com/prophet',\n",
       " 'mlflow.experimentType': 'MLFLOW_EXPERIMENT',\n",
       " 'mlflow.ownerEmail': 'b.relf@closerstillmedia.com',\n",
       " 'mlflow.ownerId': '7931383772120950'}>"
      ]
     },
     "execution_count": 5,
     "metadata": {},
     "output_type": "execute_result"
    }
   ],
   "source": [
    "experiment_name = \"/Users/j.huertas@closerstillmedia.com/prophet\"\n",
    "try:\n",
    "    mlflow.create_experiment(experiment_name)\n",
    "except:\n",
    "    print(\"experiment exists\")\n",
    "mlflow.set_experiment(experiment_name)"
   ]
  },
  {
   "cell_type": "code",
   "execution_count": 6,
   "id": "04ede84d-00e2-429d-832c-378263321be2",
   "metadata": {},
   "outputs": [
    {
     "name": "stderr",
     "output_type": "stream",
     "text": [
      "18:22:46 - cmdstanpy - INFO - Chain [1] start processing\n",
      "18:22:48 - cmdstanpy - INFO - Chain [1] done processing\n",
      "18:22:51 - cmdstanpy - INFO - Chain [1] start processing\n",
      "18:22:51 - cmdstanpy - INFO - Chain [1] start processing\n",
      "18:22:51 - cmdstanpy - INFO - Chain [1] done processing\n",
      "18:22:51 - cmdstanpy - INFO - Chain [1] done processing\n",
      "18:22:52 - cmdstanpy - INFO - Chain [1] start processing\n",
      "18:22:52 - cmdstanpy - INFO - Chain [1] start processing\n",
      "18:22:52 - cmdstanpy - INFO - Chain [1] start processing\n",
      "18:22:52 - cmdstanpy - INFO - Chain [1] done processing\n",
      "18:22:52 - cmdstanpy - INFO - Chain [1] done processing\n",
      "18:22:52 - cmdstanpy - INFO - Chain [1] done processing\n",
      "18:22:52 - cmdstanpy - INFO - Chain [1] start processing\n",
      "18:22:52 - cmdstanpy - INFO - Chain [1] start processing\n",
      "18:22:53 - cmdstanpy - INFO - Chain [1] start processing\n",
      "18:22:53 - cmdstanpy - INFO - Chain [1] start processing\n",
      "18:22:53 - cmdstanpy - INFO - Chain [1] start processing\n",
      "18:22:53 - cmdstanpy - INFO - Chain [1] start processing\n",
      "18:22:53 - cmdstanpy - INFO - Chain [1] done processing\n",
      "18:22:53 - cmdstanpy - INFO - Chain [1] done processing\n",
      "18:22:53 - cmdstanpy - INFO - Chain [1] done processing\n",
      "18:22:54 - cmdstanpy - INFO - Chain [1] done processing\n",
      "18:22:54 - cmdstanpy - INFO - Chain [1] done processing\n",
      "18:22:54 - cmdstanpy - INFO - Chain [1] done processing\n",
      "2025/08/19 18:23:03 WARNING mlflow.utils.environment: Failed to resolve installed pip version. ``pip`` will be added to conda.yaml environment spec without a version specifier.\n"
     ]
    },
    {
     "data": {
      "application/vnd.jupyter.widget-view+json": {
       "model_id": "e2fd44030f4f4861b7eece0f4c2494c7",
       "version_major": 2,
       "version_minor": 0
      },
      "text/plain": [
       "Downloading artifacts:   0%|          | 0/7 [00:00<?, ?it/s]"
      ]
     },
     "metadata": {},
     "output_type": "display_data"
    },
    {
     "name": "stderr",
     "output_type": "stream",
     "text": [
      "2025/08/19 18:23:04 INFO mlflow.models.model: Found the following environment variables used during model inference: [AZURE_API_KEY, AZURE_OPENAI_API_KEY, DATABRICKS_HOST, ... ]. Please check if you need to set them when deploying the model. To disable this message, set environment variable `MLFLOW_RECORD_ENV_VARS_IN_MODEL_LOGGING` to `false`.\n"
     ]
    },
    {
     "name": "stdout",
     "output_type": "stream",
     "text": [
      "Model trained and logged successfully!\n",
      "Average MAPE: 0.07%\n",
      "🏃 View run Basic Prophet Forecast at: https://adb-3191716161457605.5.azuredatabricks.net/ml/experiments/3039328626124250/runs/82f51f69037a42a58daf8e889f1b256e\n",
      "🧪 View experiment at: https://adb-3191716161457605.5.azuredatabricks.net/ml/experiments/3039328626124250\n"
     ]
    }
   ],
   "source": [
    "with mlflow.start_run(run_name=\"Basic Prophet Forecast\"):\n",
    "    # Create Prophet model with specific parameters\n",
    "    model = Prophet(\n",
    "        changepoint_prior_scale=0.05,  # Flexibility of trend changes\n",
    "        seasonality_prior_scale=10,  # Strength of seasonality\n",
    "        holidays_prior_scale=10,  # Strength of holiday effects\n",
    "        yearly_seasonality=True,\n",
    "        weekly_seasonality=True,\n",
    "        daily_seasonality=False,\n",
    "    )\n",
    "\n",
    "    # Fit the model\n",
    "    model.fit(df)\n",
    "\n",
    "    # Extract and log model parameters\n",
    "    def extract_prophet_params(prophet_model):\n",
    "        \"\"\"Extract Prophet model parameters for logging.\"\"\"\n",
    "        from prophet.serialize import SIMPLE_ATTRIBUTES\n",
    "\n",
    "        params = {}\n",
    "        for attr in SIMPLE_ATTRIBUTES:\n",
    "            if hasattr(prophet_model, attr):\n",
    "                value = getattr(prophet_model, attr)\n",
    "                if isinstance(value, (int, float, str, bool)):\n",
    "                    params[attr] = value\n",
    "        return params\n",
    "\n",
    "    params = extract_prophet_params(model)\n",
    "    mlflow.log_params(params)\n",
    "\n",
    "    # Create future dataframe for forecasting\n",
    "    future = model.make_future_dataframe(periods=365)  # Forecast 1 year ahead\n",
    "    forecast = model.predict(future)\n",
    "\n",
    "    # Cross-validation for model evaluation\n",
    "    cv_results = cross_validation(\n",
    "        model,\n",
    "        initial=\"730 days\",  # Initial training period\n",
    "        period=\"180 days\",  # Spacing between cutoff dates\n",
    "        horizon=\"365 days\",  # Forecast horizon\n",
    "        parallel=\"threads\",  # Use threading for speed\n",
    "    )\n",
    "\n",
    "    # Calculate performance metrics\n",
    "    metrics = performance_metrics(cv_results)\n",
    "    avg_metrics = metrics[[\"mse\", \"rmse\", \"mae\", \"mape\"]].mean().to_dict()\n",
    "    mlflow.log_metrics(avg_metrics)\n",
    "\n",
    "    # Log the model with input example\n",
    "    mlflow.prophet.log_model(\n",
    "        pr_model=model, name=\"prophet_model\", input_example=df[[\"ds\"]].head(10)\n",
    "    )\n",
    "\n",
    "    print(f\"Model trained and logged successfully!\")\n",
    "    print(f\"Average MAPE: {avg_metrics['mape']:.2f}%\")"
   ]
  },
  {
   "cell_type": "code",
   "execution_count": 9,
   "id": "b9290f63-254f-4f4e-b2e6-893c1b8270b3",
   "metadata": {},
   "outputs": [
    {
     "data": {
      "text/html": [
       "<div>\n",
       "<style scoped>\n",
       "    .dataframe tbody tr th:only-of-type {\n",
       "        vertical-align: middle;\n",
       "    }\n",
       "\n",
       "    .dataframe tbody tr th {\n",
       "        vertical-align: top;\n",
       "    }\n",
       "\n",
       "    .dataframe thead th {\n",
       "        text-align: right;\n",
       "    }\n",
       "</style>\n",
       "<table border=\"1\" class=\"dataframe\">\n",
       "  <thead>\n",
       "    <tr style=\"text-align: right;\">\n",
       "      <th></th>\n",
       "      <th>ds</th>\n",
       "      <th>trend</th>\n",
       "      <th>yhat_lower</th>\n",
       "      <th>yhat_upper</th>\n",
       "      <th>trend_lower</th>\n",
       "      <th>trend_upper</th>\n",
       "      <th>additive_terms</th>\n",
       "      <th>additive_terms_lower</th>\n",
       "      <th>additive_terms_upper</th>\n",
       "      <th>weekly</th>\n",
       "      <th>weekly_lower</th>\n",
       "      <th>weekly_upper</th>\n",
       "      <th>yearly</th>\n",
       "      <th>yearly_lower</th>\n",
       "      <th>yearly_upper</th>\n",
       "      <th>multiplicative_terms</th>\n",
       "      <th>multiplicative_terms_lower</th>\n",
       "      <th>multiplicative_terms_upper</th>\n",
       "      <th>yhat</th>\n",
       "    </tr>\n",
       "  </thead>\n",
       "  <tbody>\n",
       "    <tr>\n",
       "      <th>0</th>\n",
       "      <td>2007-12-10</td>\n",
       "      <td>8.039995</td>\n",
       "      <td>8.240314</td>\n",
       "      <td>9.468886</td>\n",
       "      <td>8.039995</td>\n",
       "      <td>8.039995</td>\n",
       "      <td>0.803072</td>\n",
       "      <td>0.803072</td>\n",
       "      <td>0.803072</td>\n",
       "      <td>0.352285</td>\n",
       "      <td>0.352285</td>\n",
       "      <td>0.352285</td>\n",
       "      <td>0.450787</td>\n",
       "      <td>0.450787</td>\n",
       "      <td>0.450787</td>\n",
       "      <td>0.0</td>\n",
       "      <td>0.0</td>\n",
       "      <td>0.0</td>\n",
       "      <td>8.843067</td>\n",
       "    </tr>\n",
       "    <tr>\n",
       "      <th>1</th>\n",
       "      <td>2007-12-11</td>\n",
       "      <td>8.038455</td>\n",
       "      <td>7.960559</td>\n",
       "      <td>9.202310</td>\n",
       "      <td>8.038455</td>\n",
       "      <td>8.038455</td>\n",
       "      <td>0.553164</td>\n",
       "      <td>0.553164</td>\n",
       "      <td>0.553164</td>\n",
       "      <td>0.119640</td>\n",
       "      <td>0.119640</td>\n",
       "      <td>0.119640</td>\n",
       "      <td>0.433524</td>\n",
       "      <td>0.433524</td>\n",
       "      <td>0.433524</td>\n",
       "      <td>0.0</td>\n",
       "      <td>0.0</td>\n",
       "      <td>0.0</td>\n",
       "      <td>8.591619</td>\n",
       "    </tr>\n",
       "    <tr>\n",
       "      <th>2</th>\n",
       "      <td>2007-12-12</td>\n",
       "      <td>8.036915</td>\n",
       "      <td>7.797290</td>\n",
       "      <td>9.002588</td>\n",
       "      <td>8.036915</td>\n",
       "      <td>8.036915</td>\n",
       "      <td>0.350535</td>\n",
       "      <td>0.350535</td>\n",
       "      <td>0.350535</td>\n",
       "      <td>-0.066661</td>\n",
       "      <td>-0.066661</td>\n",
       "      <td>-0.066661</td>\n",
       "      <td>0.417196</td>\n",
       "      <td>0.417196</td>\n",
       "      <td>0.417196</td>\n",
       "      <td>0.0</td>\n",
       "      <td>0.0</td>\n",
       "      <td>0.0</td>\n",
       "      <td>8.387451</td>\n",
       "    </tr>\n",
       "    <tr>\n",
       "      <th>3</th>\n",
       "      <td>2007-12-13</td>\n",
       "      <td>8.035375</td>\n",
       "      <td>7.792014</td>\n",
       "      <td>9.022092</td>\n",
       "      <td>8.035375</td>\n",
       "      <td>8.035375</td>\n",
       "      <td>0.329980</td>\n",
       "      <td>0.329980</td>\n",
       "      <td>0.329980</td>\n",
       "      <td>-0.072268</td>\n",
       "      <td>-0.072268</td>\n",
       "      <td>-0.072268</td>\n",
       "      <td>0.402248</td>\n",
       "      <td>0.402248</td>\n",
       "      <td>0.402248</td>\n",
       "      <td>0.0</td>\n",
       "      <td>0.0</td>\n",
       "      <td>0.0</td>\n",
       "      <td>8.365355</td>\n",
       "    </tr>\n",
       "    <tr>\n",
       "      <th>4</th>\n",
       "      <td>2007-12-14</td>\n",
       "      <td>8.033835</td>\n",
       "      <td>7.742005</td>\n",
       "      <td>9.004836</td>\n",
       "      <td>8.033835</td>\n",
       "      <td>8.033835</td>\n",
       "      <td>0.319506</td>\n",
       "      <td>0.319506</td>\n",
       "      <td>0.319506</td>\n",
       "      <td>-0.069578</td>\n",
       "      <td>-0.069578</td>\n",
       "      <td>-0.069578</td>\n",
       "      <td>0.389085</td>\n",
       "      <td>0.389085</td>\n",
       "      <td>0.389085</td>\n",
       "      <td>0.0</td>\n",
       "      <td>0.0</td>\n",
       "      <td>0.0</td>\n",
       "      <td>8.353342</td>\n",
       "    </tr>\n",
       "  </tbody>\n",
       "</table>\n",
       "</div>"
      ],
      "text/plain": [
       "          ds     trend  yhat_lower  yhat_upper  trend_lower  trend_upper  \\\n",
       "0 2007-12-10  8.039995    8.240314    9.468886     8.039995     8.039995   \n",
       "1 2007-12-11  8.038455    7.960559    9.202310     8.038455     8.038455   \n",
       "2 2007-12-12  8.036915    7.797290    9.002588     8.036915     8.036915   \n",
       "3 2007-12-13  8.035375    7.792014    9.022092     8.035375     8.035375   \n",
       "4 2007-12-14  8.033835    7.742005    9.004836     8.033835     8.033835   \n",
       "\n",
       "   additive_terms  additive_terms_lower  additive_terms_upper    weekly  \\\n",
       "0        0.803072              0.803072              0.803072  0.352285   \n",
       "1        0.553164              0.553164              0.553164  0.119640   \n",
       "2        0.350535              0.350535              0.350535 -0.066661   \n",
       "3        0.329980              0.329980              0.329980 -0.072268   \n",
       "4        0.319506              0.319506              0.319506 -0.069578   \n",
       "\n",
       "   weekly_lower  weekly_upper    yearly  yearly_lower  yearly_upper  \\\n",
       "0      0.352285      0.352285  0.450787      0.450787      0.450787   \n",
       "1      0.119640      0.119640  0.433524      0.433524      0.433524   \n",
       "2     -0.066661     -0.066661  0.417196      0.417196      0.417196   \n",
       "3     -0.072268     -0.072268  0.402248      0.402248      0.402248   \n",
       "4     -0.069578     -0.069578  0.389085      0.389085      0.389085   \n",
       "\n",
       "   multiplicative_terms  multiplicative_terms_lower  \\\n",
       "0                   0.0                         0.0   \n",
       "1                   0.0                         0.0   \n",
       "2                   0.0                         0.0   \n",
       "3                   0.0                         0.0   \n",
       "4                   0.0                         0.0   \n",
       "\n",
       "   multiplicative_terms_upper      yhat  \n",
       "0                         0.0  8.843067  \n",
       "1                         0.0  8.591619  \n",
       "2                         0.0  8.387451  \n",
       "3                         0.0  8.365355  \n",
       "4                         0.0  8.353342  "
      ]
     },
     "execution_count": 9,
     "metadata": {},
     "output_type": "execute_result"
    }
   ],
   "source": [
    "forecast.head()"
   ]
  },
  {
   "cell_type": "code",
   "execution_count": 10,
   "id": "486c98cf-670e-4f45-9fe1-ce00ac3f5ba1",
   "metadata": {},
   "outputs": [],
   "source": [
    "forecast.to_csv(\"simple_prediction.csv\", index=False)"
   ]
  },
  {
   "cell_type": "code",
   "execution_count": null,
   "id": "d5538b15-e455-49fd-8dcc-a66cd90302d1",
   "metadata": {},
   "outputs": [],
   "source": []
  }
 ],
 "metadata": {
  "kernelspec": {
   "display_name": "Python 3 (ipykernel)",
   "language": "python",
   "name": "python3"
  },
  "language_info": {
   "codemirror_mode": {
    "name": "ipython",
    "version": 3
   },
   "file_extension": ".py",
   "mimetype": "text/x-python",
   "name": "python",
   "nbconvert_exporter": "python",
   "pygments_lexer": "ipython3",
   "version": "3.12.10"
  }
 },
 "nbformat": 4,
 "nbformat_minor": 5
}
