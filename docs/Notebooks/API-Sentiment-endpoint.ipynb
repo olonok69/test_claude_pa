{
 "cells": [
  {
   "cell_type": "code",
   "execution_count": 3,
   "id": "dca153e9",
   "metadata": {},
   "outputs": [],
   "source": [
    "import requests\n",
    "import mimetypes\n",
    "import json"
   ]
  },
  {
   "cell_type": "code",
   "execution_count": 17,
   "id": "f3b1a810",
   "metadata": {},
   "outputs": [],
   "source": [
    "query = {\n",
    "    \"pit\": {\n",
    "\n",
    "        \"id\": \"\"\n",
    "\n",
    "    },\n",
    "    \"query\":{\n",
    "        \"bool\":{\n",
    "         \"must\":[\n",
    "            {\n",
    "               \"exists\":{\n",
    "                  \"field\":\"content\"\n",
    "               }\n",
    "            },\n",
    "            {\n",
    "               \"bool\":{\n",
    "                  \"should\":[\n",
    "                     {\n",
    "                        \"term\":{\n",
    "                           \"file_type\":\"docx\"\n",
    "                        }\n",
    "                     },\n",
    "                     {\n",
    "                        \"term\":{\n",
    "                           \"file_type\":\"doc\"\n",
    "                        }\n",
    "                     },\n",
    "                     {\n",
    "                        \"term\":{\n",
    "                           \"file_type\":\"pdf\"\n",
    "                        }\n",
    "                     }\n",
    "                     \n",
    "                  ]\n",
    "                    \n",
    "               }\n",
    "            },\n",
    "            {\n",
    "               \"range\":{\n",
    "                  \"fs.size\":{\n",
    "                     \"gt\":100,\n",
    "                     \"lt\":5000000000\n",
    "                  }\n",
    "               }\n",
    "            }\n",
    "         ]\n",
    "      }\n",
    "   },\n",
    "    \"from\": 0,\n",
    "    \"size\": 10000,\n",
    "    \"sort\": [\n",
    "        {\n",
    "            \"fs.size\": {\n",
    "                \"order\": \"asc\"\n",
    "            }\n",
    "        }\n",
    "    ]\n",
    "}"
   ]
  },
  {
   "cell_type": "code",
   "execution_count": 39,
   "id": "d195a757",
   "metadata": {},
   "outputs": [
    {
     "data": {
      "text/plain": [
       "{'query': {'pit': {'id': ''},\n",
       "  'query': {'bool': {'must': [{'exists': {'field': 'content'}},\n",
       "     {'bool': {'should': [{'term': {'file_type': 'docx'}},\n",
       "        {'term': {'file_type': 'doc'}},\n",
       "        {'term': {'file_type': 'pdf'}}]}},\n",
       "     {'range': {'fs.size': {'gt': 100, 'lt': 5000000000}}}]}},\n",
       "  'from': 0,\n",
       "  'size': 10000,\n",
       "  'sort': [{'fs.size': {'order': 'asc'}}]},\n",
       " 'type': 'search_v2',\n",
       " 'index': 'unbias_it_data-doc',\n",
       " 'index_post': 'unbias_it_data-doc-sentiment',\n",
       " 'labels': 'fashion_business_finance_human resources_technology_international_politics_health_family_education_energy_mining_resume',\n",
       " 'num_docs': 1000,\n",
       " 'file_types_all': 'False',\n",
       " 'filenames_types': ['doc', 'docx', 'pdf']}"
      ]
     },
     "execution_count": 39,
     "metadata": {},
     "output_type": "execute_result"
    }
   ],
   "source": [
    "data = {}\n",
    "data['query'] = query\n",
    "data['type'] = \"search_v2\" # ingest or search\n",
    "data['index'] = \"unbias_it_data-doc\" # control_data_set_5_resumes_demo-doc  # enron_data_set_demo_1-doc\n",
    "data['index_post'] = \"unbias_it_data-doc-sentiment\"\n",
    "data['labels'] = \"fashion_business_finance_human resources_technology_international_politics_health_family_education_energy_mining_resume\"\n",
    "data['num_docs'] = 1000\n",
    "data['file_types_all'] = 'False'\n",
    "data['filenames_types']= [\"doc\", \"docx\", \"pdf\"]\n",
    "data"
   ]
  },
  {
   "cell_type": "code",
   "execution_count": 40,
   "id": "eccc12c8",
   "metadata": {},
   "outputs": [],
   "source": [
    "data1 = json.dumps(data).encode()"
   ]
  },
  {
   "cell_type": "code",
   "execution_count": 41,
   "id": "97432270",
   "metadata": {},
   "outputs": [
    {
     "data": {
      "text/plain": [
       "b'{\"query\": {\"pit\": {\"id\": \"\"}, \"query\": {\"bool\": {\"must\": [{\"exists\": {\"field\": \"content\"}}, {\"bool\": {\"should\": [{\"term\": {\"file_type\": \"docx\"}}, {\"term\": {\"file_type\": \"doc\"}}, {\"term\": {\"file_type\": \"pdf\"}}]}}, {\"range\": {\"fs.size\": {\"gt\": 100, \"lt\": 5000000000}}}]}}, \"from\": 0, \"size\": 10000, \"sort\": [{\"fs.size\": {\"order\": \"asc\"}}]}, \"type\": \"search_v2\", \"index\": \"unbias_it_data-doc\", \"index_post\": \"unbias_it_data-doc-sentiment\", \"labels\": \"fashion_business_finance_human resources_technology_international_politics_health_family_education_energy_mining_resume\", \"num_docs\": 1000, \"file_types_all\": \"False\", \"filenames_types\": [\"doc\", \"docx\", \"pdf\"]}'"
      ]
     },
     "execution_count": 41,
     "metadata": {},
     "output_type": "execute_result"
    }
   ],
   "source": [
    "data1"
   ]
  },
  {
   "cell_type": "code",
   "execution_count": 43,
   "id": "978c28d9",
   "metadata": {
    "scrolled": false
   },
   "outputs": [
    {
     "name": "stdout",
     "output_type": "stream",
     "text": [
      "\"{\\n  \\\"status\\\": \\\"SUCCESS\\\",\\n  \\\"Number doc read \\\": \\\"6\\\",\\n  \\\"Number doc posted \\\": \\\"6\\\",\\n  \\\"Total Time\\\": \\\"0:00:27.100904\\\"\\n}\"\n"
     ]
    }
   ],
   "source": [
    "# Semantic similarity\n",
    "url = \"http://localhost:5005/get_index_docs\" \n",
    "# fin = open(f'../notebooks/test_docs/query2.json', 'rb')\n",
    "# query\n",
    "#data=fin.read()\n",
    "\n",
    "#files = {'file': fin}\n",
    "try:\n",
    "    r = requests.post(url, data=data1)#files=files)\n",
    "    print(r.text)\n",
    "finally:\n",
    "\n",
    "    pass"
   ]
  },
  {
   "cell_type": "code",
   "execution_count": 2,
   "id": "5fa6d0ef",
   "metadata": {},
   "outputs": [
    {
     "data": {
      "text/plain": [
       "{'status': 'SUCCESS',\n",
       " 'Number doc read ': '6',\n",
       " 'Number doc posted ': '6',\n",
       " 'Total Time': '0:00:27.100904'}"
      ]
     },
     "execution_count": 2,
     "metadata": {},
     "output_type": "execute_result"
    }
   ],
   "source": [
    "text = \"{\\n  \\\"status\\\": \\\"SUCCESS\\\",\\n  \\\"Number doc read \\\": \\\"6\\\",\\n  \\\"Number doc posted \\\": \\\"6\\\",\\n  \\\"Total Time\\\": \\\"0:00:27.100904\\\"\\n}\"\n",
    "eval(text)"
   ]
  },
  {
   "cell_type": "code",
   "execution_count": 4,
   "id": "2373c6f4",
   "metadata": {},
   "outputs": [],
   "source": [
    "doc2 = \"\"\"\n",
    "    Computer Science is the study of computers and computational systems.\n",
    "    Unlike electrical and computer engineers, computer scientists deal mostly\n",
    "    with software and software systems; this includes their theory, design,\n",
    "    development, and application. Principal areas of study within Computer\n",
    "    Science include artificial intelligence, computer systems and networks,\n",
    "    security, database systems, human computer interaction, vision and graphics,\n",
    "    numerical analysis, programming languages, software engineering, bioinformatics\n",
    "    and theory of computing. Although knowing how to program is essential to\n",
    "    the study of computer science, it is only one element of the field. Computer\n",
    "    scientists design and analyze algorithms to solve programs and study the\n",
    "    performance of computer hardware and software. The problems that computer\n",
    "    scientists encounter range from the abstract-- determining what problems\n",
    "    can be solved with computers and the complexity of the algorithms that\n",
    "    solve them – to the tangible – designing applications that perform well\n",
    "    on handheld devices, that are easy to use, and that uphold security measures.\n",
    "\"\"\""
   ]
  },
  {
   "cell_type": "code",
   "execution_count": 7,
   "id": "1ff5c2ed",
   "metadata": {},
   "outputs": [],
   "source": [
    "data1 =  doc2.encode()"
   ]
  },
  {
   "cell_type": "code",
   "execution_count": 9,
   "id": "98ce360b",
   "metadata": {},
   "outputs": [
    {
     "name": "stdout",
     "output_type": "stream",
     "text": [
      "{\n",
      "  \"status\": \"SUCCESS\",\n",
      "  \"data\": {\n",
      "    \"computers\": \"0.6053\",\n",
      "    \"bioinformatics\": \"0.3461\",\n",
      "    \"electrical\": \"0.3338\",\n",
      "    \"theory\": \"0.3067\",\n",
      "    \"database\": \"0.2612\",\n",
      "    \"principal\": \"0.195\",\n",
      "    \"security\": \"0.1437\",\n",
      "    \"languages\": \"0.1307\",\n",
      "    \"vision\": \"0.0805\",\n",
      "    \"element\": \"0.0796\"\n",
      "  }\n",
      "}\n"
     ]
    }
   ],
   "source": [
    "# Semantic similarity\n",
    "url = \"http://localhost:5005/api/keywords\" \n",
    "# fin = open(f'../notebooks/test_docs/query2.json', 'rb')\n",
    "# query\n",
    "#data=fin.read()\n",
    "\n",
    "#files = {'file': fin}\n",
    "try:\n",
    "    r = requests.post(url, data=data1)#files=files)\n",
    "    print(r.json())\n",
    "finally:\n",
    "\n",
    "    pass"
   ]
  },
  {
   "cell_type": "code",
   "execution_count": 11,
   "id": "cbaaea30",
   "metadata": {},
   "outputs": [],
   "source": [
    "import os\n",
    "files_path = \"D:\\\\files\\\\nlp6\"\n",
    "file1 =\"4SD.ThreeStoogesbw.OL.txt.txt\"\n",
    "file2 = \"612CCORSONY2410.txt.txt\"\n",
    "file3 = \"14070413.fs.txt\"\n",
    "\n",
    "fin = open(os.path.join(files_path, file1), 'rb')#9190014364 9190077791 9190029216 9200000032\n",
    "minuta = open(os.path.join(files_path, file2), 'rb')\n",
    "data1=fin.read()\n",
    "data2=minuta.read()\n",
    "data3 = open(os.path.join(files_path, file3), 'rb').read()\n",
    "payload_dict={'file1': data2, 'file2': data3}\n"
   ]
  },
  {
   "cell_type": "code",
   "execution_count": 12,
   "id": "f5859f03",
   "metadata": {},
   "outputs": [
    {
     "data": {
      "text/plain": [
       "b'<html xmlns=\"http://www.w3.org/1999/xhtml\">\\r\\n<head>\\r\\n<meta name=\"X-Parsed-By\" content=\"org.apache.ti'"
      ]
     },
     "execution_count": 12,
     "metadata": {},
     "output_type": "execute_result"
    }
   ],
   "source": [
    "data1[:100]"
   ]
  },
  {
   "cell_type": "code",
   "execution_count": 13,
   "id": "0592a4d5",
   "metadata": {},
   "outputs": [
    {
     "data": {
      "text/plain": [
       "b'<html xmlns=\"http://www.w3.org/1999/xhtml\">\\r\\n<head>\\r\\n<meta name=\"X-Parsed-By\" content=\"org.apache.ti'"
      ]
     },
     "execution_count": 13,
     "metadata": {},
     "output_type": "execute_result"
    }
   ],
   "source": [
    "data2[:100]"
   ]
  },
  {
   "cell_type": "code",
   "execution_count": 14,
   "id": "e3612811",
   "metadata": {},
   "outputs": [],
   "source": [
    "labels = \"business_financial_Human resources_technology_food_international\"\n",
    "# labels = \"positive_negative_neutral\"\n",
    "# labels = \"confidential_public_secret\"\n",
    "payload_dict={'file1': data1, 'labels': labels, 'mode':'False'}"
   ]
  },
  {
   "cell_type": "code",
   "execution_count": 15,
   "id": "d616146c",
   "metadata": {},
   "outputs": [
    {
     "name": "stdout",
     "output_type": "stream",
     "text": [
      "{\n",
      "  \"status\": \"SUCCESS\",\n",
      "  \"results\": [\n",
      "    {\n",
      "      \"score\": {\n",
      "        \"name\": \"financial\",\n",
      "        \"score\": \"0.227\"\n",
      "      }\n",
      "    },\n",
      "    {\n",
      "      \"score\": {\n",
      "        \"name\": \"business\",\n",
      "        \"score\": \"0.217\"\n",
      "      }\n",
      "    },\n",
      "    {\n",
      "      \"score\": {\n",
      "        \"name\": \"technology\",\n",
      "        \"score\": \"0.206\"\n",
      "      }\n",
      "    },\n",
      "    {\n",
      "      \"score\": {\n",
      "        \"name\": \"international\",\n",
      "        \"score\": \"0.205\"\n",
      "      }\n",
      "    },\n",
      "    {\n",
      "      \"score\": {\n",
      "        \"name\": \"food\",\n",
      "        \"score\": \"0.194\"\n",
      "      }\n",
      "    },\n",
      "    {\n",
      "      \"score\": {\n",
      "        \"name\": \"Human resources\",\n",
      "        \"score\": \"0.182\"\n",
      "      }\n",
      "    }\n",
      "  ]\n",
      "}\n"
     ]
    }
   ],
   "source": [
    "url = \"http://localhost:5005/api/classifier\" \n",
    "\n",
    "\n",
    "#files = {'file': fin}\n",
    "try:\n",
    "    r = requests.post(url, data=payload_dict)#files=files)\n",
    "    print(eval(r.text))\n",
    "finally:\n",
    "    pass\n"
   ]
  },
  {
   "cell_type": "code",
   "execution_count": null,
   "id": "b9e7575b",
   "metadata": {},
   "outputs": [],
   "source": []
  }
 ],
 "metadata": {
  "kernelspec": {
   "display_name": "Python (pii)",
   "language": "python",
   "name": "myenv"
  },
  "language_info": {
   "codemirror_mode": {
    "name": "ipython",
    "version": 3
   },
   "file_extension": ".py",
   "mimetype": "text/x-python",
   "name": "python",
   "nbconvert_exporter": "python",
   "pygments_lexer": "ipython3",
   "version": "3.10.11"
  }
 },
 "nbformat": 4,
 "nbformat_minor": 5
}
