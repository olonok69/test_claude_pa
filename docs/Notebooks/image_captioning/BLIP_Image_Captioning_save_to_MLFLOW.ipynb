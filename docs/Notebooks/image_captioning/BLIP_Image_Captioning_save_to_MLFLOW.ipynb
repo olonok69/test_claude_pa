{
  "nbformat": 4,
  "nbformat_minor": 0,
  "metadata": {
    "colab": {
      "provenance": [],
      "machine_shape": "hm",
      "gpuType": "T4"
    },
    "kernelspec": {
      "name": "python3",
      "display_name": "Python 3"
    },
    "language_info": {
      "name": "python"
    },
    "accelerator": "GPU",
    "widgets": {
      "application/vnd.jupyter.widget-state+json": {
        "087b3694541f4183974537afcca9005c": {
          "model_module": "@jupyter-widgets/controls",
          "model_name": "HBoxModel",
          "model_module_version": "1.5.0",
          "state": {
            "_dom_classes": [],
            "_model_module": "@jupyter-widgets/controls",
            "_model_module_version": "1.5.0",
            "_model_name": "HBoxModel",
            "_view_count": null,
            "_view_module": "@jupyter-widgets/controls",
            "_view_module_version": "1.5.0",
            "_view_name": "HBoxView",
            "box_style": "",
            "children": [
              "IPY_MODEL_7470a58b0e6342d7b2ae6d89794506ae",
              "IPY_MODEL_0a9dae52fb344c169108611f5541721e",
              "IPY_MODEL_bb22ce8b66254a10b57effb5d8183382"
            ],
            "layout": "IPY_MODEL_aa0975d074ed4fd494ecd6f1a36ae1d6"
          }
        },
        "7470a58b0e6342d7b2ae6d89794506ae": {
          "model_module": "@jupyter-widgets/controls",
          "model_name": "HTMLModel",
          "model_module_version": "1.5.0",
          "state": {
            "_dom_classes": [],
            "_model_module": "@jupyter-widgets/controls",
            "_model_module_version": "1.5.0",
            "_model_name": "HTMLModel",
            "_view_count": null,
            "_view_module": "@jupyter-widgets/controls",
            "_view_module_version": "1.5.0",
            "_view_name": "HTMLView",
            "description": "",
            "description_tooltip": null,
            "layout": "IPY_MODEL_2079977ca72c46a9a59aa233fcc5e624",
            "placeholder": "​",
            "style": "IPY_MODEL_100d3f65d7434099860a539c6c18db2a",
            "value": "preprocessor_config.json: 100%"
          }
        },
        "0a9dae52fb344c169108611f5541721e": {
          "model_module": "@jupyter-widgets/controls",
          "model_name": "FloatProgressModel",
          "model_module_version": "1.5.0",
          "state": {
            "_dom_classes": [],
            "_model_module": "@jupyter-widgets/controls",
            "_model_module_version": "1.5.0",
            "_model_name": "FloatProgressModel",
            "_view_count": null,
            "_view_module": "@jupyter-widgets/controls",
            "_view_module_version": "1.5.0",
            "_view_name": "ProgressView",
            "bar_style": "success",
            "description": "",
            "description_tooltip": null,
            "layout": "IPY_MODEL_0e538bd6f86b494580e6fef1ff3ed95d",
            "max": 445,
            "min": 0,
            "orientation": "horizontal",
            "style": "IPY_MODEL_de3c240617d143bcadc24f3eba742807",
            "value": 445
          }
        },
        "bb22ce8b66254a10b57effb5d8183382": {
          "model_module": "@jupyter-widgets/controls",
          "model_name": "HTMLModel",
          "model_module_version": "1.5.0",
          "state": {
            "_dom_classes": [],
            "_model_module": "@jupyter-widgets/controls",
            "_model_module_version": "1.5.0",
            "_model_name": "HTMLModel",
            "_view_count": null,
            "_view_module": "@jupyter-widgets/controls",
            "_view_module_version": "1.5.0",
            "_view_name": "HTMLView",
            "description": "",
            "description_tooltip": null,
            "layout": "IPY_MODEL_79fd98eb8858441583c7e823dfb64b30",
            "placeholder": "​",
            "style": "IPY_MODEL_54e142fe49774cc99ffb925342f00875",
            "value": " 445/445 [00:00&lt;00:00, 36.6kB/s]"
          }
        },
        "aa0975d074ed4fd494ecd6f1a36ae1d6": {
          "model_module": "@jupyter-widgets/base",
          "model_name": "LayoutModel",
          "model_module_version": "1.2.0",
          "state": {
            "_model_module": "@jupyter-widgets/base",
            "_model_module_version": "1.2.0",
            "_model_name": "LayoutModel",
            "_view_count": null,
            "_view_module": "@jupyter-widgets/base",
            "_view_module_version": "1.2.0",
            "_view_name": "LayoutView",
            "align_content": null,
            "align_items": null,
            "align_self": null,
            "border": null,
            "bottom": null,
            "display": null,
            "flex": null,
            "flex_flow": null,
            "grid_area": null,
            "grid_auto_columns": null,
            "grid_auto_flow": null,
            "grid_auto_rows": null,
            "grid_column": null,
            "grid_gap": null,
            "grid_row": null,
            "grid_template_areas": null,
            "grid_template_columns": null,
            "grid_template_rows": null,
            "height": null,
            "justify_content": null,
            "justify_items": null,
            "left": null,
            "margin": null,
            "max_height": null,
            "max_width": null,
            "min_height": null,
            "min_width": null,
            "object_fit": null,
            "object_position": null,
            "order": null,
            "overflow": null,
            "overflow_x": null,
            "overflow_y": null,
            "padding": null,
            "right": null,
            "top": null,
            "visibility": null,
            "width": null
          }
        },
        "2079977ca72c46a9a59aa233fcc5e624": {
          "model_module": "@jupyter-widgets/base",
          "model_name": "LayoutModel",
          "model_module_version": "1.2.0",
          "state": {
            "_model_module": "@jupyter-widgets/base",
            "_model_module_version": "1.2.0",
            "_model_name": "LayoutModel",
            "_view_count": null,
            "_view_module": "@jupyter-widgets/base",
            "_view_module_version": "1.2.0",
            "_view_name": "LayoutView",
            "align_content": null,
            "align_items": null,
            "align_self": null,
            "border": null,
            "bottom": null,
            "display": null,
            "flex": null,
            "flex_flow": null,
            "grid_area": null,
            "grid_auto_columns": null,
            "grid_auto_flow": null,
            "grid_auto_rows": null,
            "grid_column": null,
            "grid_gap": null,
            "grid_row": null,
            "grid_template_areas": null,
            "grid_template_columns": null,
            "grid_template_rows": null,
            "height": null,
            "justify_content": null,
            "justify_items": null,
            "left": null,
            "margin": null,
            "max_height": null,
            "max_width": null,
            "min_height": null,
            "min_width": null,
            "object_fit": null,
            "object_position": null,
            "order": null,
            "overflow": null,
            "overflow_x": null,
            "overflow_y": null,
            "padding": null,
            "right": null,
            "top": null,
            "visibility": null,
            "width": null
          }
        },
        "100d3f65d7434099860a539c6c18db2a": {
          "model_module": "@jupyter-widgets/controls",
          "model_name": "DescriptionStyleModel",
          "model_module_version": "1.5.0",
          "state": {
            "_model_module": "@jupyter-widgets/controls",
            "_model_module_version": "1.5.0",
            "_model_name": "DescriptionStyleModel",
            "_view_count": null,
            "_view_module": "@jupyter-widgets/base",
            "_view_module_version": "1.2.0",
            "_view_name": "StyleView",
            "description_width": ""
          }
        },
        "0e538bd6f86b494580e6fef1ff3ed95d": {
          "model_module": "@jupyter-widgets/base",
          "model_name": "LayoutModel",
          "model_module_version": "1.2.0",
          "state": {
            "_model_module": "@jupyter-widgets/base",
            "_model_module_version": "1.2.0",
            "_model_name": "LayoutModel",
            "_view_count": null,
            "_view_module": "@jupyter-widgets/base",
            "_view_module_version": "1.2.0",
            "_view_name": "LayoutView",
            "align_content": null,
            "align_items": null,
            "align_self": null,
            "border": null,
            "bottom": null,
            "display": null,
            "flex": null,
            "flex_flow": null,
            "grid_area": null,
            "grid_auto_columns": null,
            "grid_auto_flow": null,
            "grid_auto_rows": null,
            "grid_column": null,
            "grid_gap": null,
            "grid_row": null,
            "grid_template_areas": null,
            "grid_template_columns": null,
            "grid_template_rows": null,
            "height": null,
            "justify_content": null,
            "justify_items": null,
            "left": null,
            "margin": null,
            "max_height": null,
            "max_width": null,
            "min_height": null,
            "min_width": null,
            "object_fit": null,
            "object_position": null,
            "order": null,
            "overflow": null,
            "overflow_x": null,
            "overflow_y": null,
            "padding": null,
            "right": null,
            "top": null,
            "visibility": null,
            "width": null
          }
        },
        "de3c240617d143bcadc24f3eba742807": {
          "model_module": "@jupyter-widgets/controls",
          "model_name": "ProgressStyleModel",
          "model_module_version": "1.5.0",
          "state": {
            "_model_module": "@jupyter-widgets/controls",
            "_model_module_version": "1.5.0",
            "_model_name": "ProgressStyleModel",
            "_view_count": null,
            "_view_module": "@jupyter-widgets/base",
            "_view_module_version": "1.2.0",
            "_view_name": "StyleView",
            "bar_color": null,
            "description_width": ""
          }
        },
        "79fd98eb8858441583c7e823dfb64b30": {
          "model_module": "@jupyter-widgets/base",
          "model_name": "LayoutModel",
          "model_module_version": "1.2.0",
          "state": {
            "_model_module": "@jupyter-widgets/base",
            "_model_module_version": "1.2.0",
            "_model_name": "LayoutModel",
            "_view_count": null,
            "_view_module": "@jupyter-widgets/base",
            "_view_module_version": "1.2.0",
            "_view_name": "LayoutView",
            "align_content": null,
            "align_items": null,
            "align_self": null,
            "border": null,
            "bottom": null,
            "display": null,
            "flex": null,
            "flex_flow": null,
            "grid_area": null,
            "grid_auto_columns": null,
            "grid_auto_flow": null,
            "grid_auto_rows": null,
            "grid_column": null,
            "grid_gap": null,
            "grid_row": null,
            "grid_template_areas": null,
            "grid_template_columns": null,
            "grid_template_rows": null,
            "height": null,
            "justify_content": null,
            "justify_items": null,
            "left": null,
            "margin": null,
            "max_height": null,
            "max_width": null,
            "min_height": null,
            "min_width": null,
            "object_fit": null,
            "object_position": null,
            "order": null,
            "overflow": null,
            "overflow_x": null,
            "overflow_y": null,
            "padding": null,
            "right": null,
            "top": null,
            "visibility": null,
            "width": null
          }
        },
        "54e142fe49774cc99ffb925342f00875": {
          "model_module": "@jupyter-widgets/controls",
          "model_name": "DescriptionStyleModel",
          "model_module_version": "1.5.0",
          "state": {
            "_model_module": "@jupyter-widgets/controls",
            "_model_module_version": "1.5.0",
            "_model_name": "DescriptionStyleModel",
            "_view_count": null,
            "_view_module": "@jupyter-widgets/base",
            "_view_module_version": "1.2.0",
            "_view_name": "StyleView",
            "description_width": ""
          }
        },
        "78c018468f98409fb3d8352a4e401c28": {
          "model_module": "@jupyter-widgets/base",
          "model_name": "LayoutModel",
          "model_module_version": "1.2.0",
          "state": {
            "_model_module": "@jupyter-widgets/base",
            "_model_module_version": "1.2.0",
            "_model_name": "LayoutModel",
            "_view_count": null,
            "_view_module": "@jupyter-widgets/base",
            "_view_module_version": "1.2.0",
            "_view_name": "LayoutView",
            "align_content": null,
            "align_items": null,
            "align_self": null,
            "border": null,
            "bottom": null,
            "display": null,
            "flex": null,
            "flex_flow": null,
            "grid_area": null,
            "grid_auto_columns": null,
            "grid_auto_flow": null,
            "grid_auto_rows": null,
            "grid_column": null,
            "grid_gap": null,
            "grid_row": null,
            "grid_template_areas": null,
            "grid_template_columns": null,
            "grid_template_rows": null,
            "height": null,
            "justify_content": null,
            "justify_items": null,
            "left": null,
            "margin": null,
            "max_height": null,
            "max_width": null,
            "min_height": null,
            "min_width": null,
            "object_fit": null,
            "object_position": null,
            "order": null,
            "overflow": null,
            "overflow_x": null,
            "overflow_y": null,
            "padding": null,
            "right": null,
            "top": null,
            "visibility": null,
            "width": null
          }
        },
        "4b6df712d1bf40cdafc323b17837579d": {
          "model_module": "@jupyter-widgets/controls",
          "model_name": "ProgressStyleModel",
          "model_module_version": "1.5.0",
          "state": {
            "_model_module": "@jupyter-widgets/controls",
            "_model_module_version": "1.5.0",
            "_model_name": "ProgressStyleModel",
            "_view_count": null,
            "_view_module": "@jupyter-widgets/base",
            "_view_module_version": "1.2.0",
            "_view_name": "StyleView",
            "bar_color": null,
            "description_width": ""
          }
        },
        "8c827e3e0002427488541da77822327b": {
          "model_module": "@jupyter-widgets/base",
          "model_name": "LayoutModel",
          "model_module_version": "1.2.0",
          "state": {
            "_model_module": "@jupyter-widgets/base",
            "_model_module_version": "1.2.0",
            "_model_name": "LayoutModel",
            "_view_count": null,
            "_view_module": "@jupyter-widgets/base",
            "_view_module_version": "1.2.0",
            "_view_name": "LayoutView",
            "align_content": null,
            "align_items": null,
            "align_self": null,
            "border": null,
            "bottom": null,
            "display": null,
            "flex": null,
            "flex_flow": null,
            "grid_area": null,
            "grid_auto_columns": null,
            "grid_auto_flow": null,
            "grid_auto_rows": null,
            "grid_column": null,
            "grid_gap": null,
            "grid_row": null,
            "grid_template_areas": null,
            "grid_template_columns": null,
            "grid_template_rows": null,
            "height": null,
            "justify_content": null,
            "justify_items": null,
            "left": null,
            "margin": null,
            "max_height": null,
            "max_width": null,
            "min_height": null,
            "min_width": null,
            "object_fit": null,
            "object_position": null,
            "order": null,
            "overflow": null,
            "overflow_x": null,
            "overflow_y": null,
            "padding": null,
            "right": null,
            "top": null,
            "visibility": null,
            "width": null
          }
        },
        "60e9ae257c11491d8e1bbbb5cb9d09d6": {
          "model_module": "@jupyter-widgets/controls",
          "model_name": "DescriptionStyleModel",
          "model_module_version": "1.5.0",
          "state": {
            "_model_module": "@jupyter-widgets/controls",
            "_model_module_version": "1.5.0",
            "_model_name": "DescriptionStyleModel",
            "_view_count": null,
            "_view_module": "@jupyter-widgets/base",
            "_view_module_version": "1.2.0",
            "_view_name": "StyleView",
            "description_width": ""
          }
        },
        "5ed07c2ae1ef413ea21a43ac1e372d38": {
          "model_module": "@jupyter-widgets/base",
          "model_name": "LayoutModel",
          "model_module_version": "1.2.0",
          "state": {
            "_model_module": "@jupyter-widgets/base",
            "_model_module_version": "1.2.0",
            "_model_name": "LayoutModel",
            "_view_count": null,
            "_view_module": "@jupyter-widgets/base",
            "_view_module_version": "1.2.0",
            "_view_name": "LayoutView",
            "align_content": null,
            "align_items": null,
            "align_self": null,
            "border": null,
            "bottom": null,
            "display": null,
            "flex": null,
            "flex_flow": null,
            "grid_area": null,
            "grid_auto_columns": null,
            "grid_auto_flow": null,
            "grid_auto_rows": null,
            "grid_column": null,
            "grid_gap": null,
            "grid_row": null,
            "grid_template_areas": null,
            "grid_template_columns": null,
            "grid_template_rows": null,
            "height": null,
            "justify_content": null,
            "justify_items": null,
            "left": null,
            "margin": null,
            "max_height": null,
            "max_width": null,
            "min_height": null,
            "min_width": null,
            "object_fit": null,
            "object_position": null,
            "order": null,
            "overflow": null,
            "overflow_x": null,
            "overflow_y": null,
            "padding": null,
            "right": null,
            "top": null,
            "visibility": null,
            "width": null
          }
        },
        "d84cf7ba796e4dbc8df72b9328bad621": {
          "model_module": "@jupyter-widgets/controls",
          "model_name": "DescriptionStyleModel",
          "model_module_version": "1.5.0",
          "state": {
            "_model_module": "@jupyter-widgets/controls",
            "_model_module_version": "1.5.0",
            "_model_name": "DescriptionStyleModel",
            "_view_count": null,
            "_view_module": "@jupyter-widgets/base",
            "_view_module_version": "1.2.0",
            "_view_name": "StyleView",
            "description_width": ""
          }
        },
        "4b4f37470803412e927a24eb75b04f44": {
          "model_module": "@jupyter-widgets/controls",
          "model_name": "HTMLModel",
          "model_module_version": "1.5.0",
          "state": {
            "_dom_classes": [],
            "_model_module": "@jupyter-widgets/controls",
            "_model_module_version": "1.5.0",
            "_model_name": "HTMLModel",
            "_view_count": null,
            "_view_module": "@jupyter-widgets/controls",
            "_view_module_version": "1.5.0",
            "_view_name": "HTMLView",
            "description": "",
            "description_tooltip": null,
            "layout": "IPY_MODEL_8c827e3e0002427488541da77822327b",
            "placeholder": "​",
            "style": "IPY_MODEL_60e9ae257c11491d8e1bbbb5cb9d09d6",
            "value": "tokenizer_config.json: 100%"
          }
        },
        "ceed19a89c134821a5691c6b7d37cd0a": {
          "model_module": "@jupyter-widgets/controls",
          "model_name": "FloatProgressModel",
          "model_module_version": "1.5.0",
          "state": {
            "_dom_classes": [],
            "_model_module": "@jupyter-widgets/controls",
            "_model_module_version": "1.5.0",
            "_model_name": "FloatProgressModel",
            "_view_count": null,
            "_view_module": "@jupyter-widgets/controls",
            "_view_module_version": "1.5.0",
            "_view_name": "ProgressView",
            "bar_style": "success",
            "description": "",
            "description_tooltip": null,
            "layout": "IPY_MODEL_78c018468f98409fb3d8352a4e401c28",
            "max": 527,
            "min": 0,
            "orientation": "horizontal",
            "style": "IPY_MODEL_4b6df712d1bf40cdafc323b17837579d",
            "value": 527
          }
        },
        "f80b556e226542a0872ce4593c59a150": {
          "model_module": "@jupyter-widgets/controls",
          "model_name": "HTMLModel",
          "model_module_version": "1.5.0",
          "state": {
            "_dom_classes": [],
            "_model_module": "@jupyter-widgets/controls",
            "_model_module_version": "1.5.0",
            "_model_name": "HTMLModel",
            "_view_count": null,
            "_view_module": "@jupyter-widgets/controls",
            "_view_module_version": "1.5.0",
            "_view_name": "HTMLView",
            "description": "",
            "description_tooltip": null,
            "layout": "IPY_MODEL_5ed07c2ae1ef413ea21a43ac1e372d38",
            "placeholder": "​",
            "style": "IPY_MODEL_d84cf7ba796e4dbc8df72b9328bad621",
            "value": " 527/527 [00:00&lt;00:00, 44.2kB/s]"
          }
        },
        "dec4cbfe2899452c979e07328b6ed850": {
          "model_module": "@jupyter-widgets/base",
          "model_name": "LayoutModel",
          "model_module_version": "1.2.0",
          "state": {
            "_model_module": "@jupyter-widgets/base",
            "_model_module_version": "1.2.0",
            "_model_name": "LayoutModel",
            "_view_count": null,
            "_view_module": "@jupyter-widgets/base",
            "_view_module_version": "1.2.0",
            "_view_name": "LayoutView",
            "align_content": null,
            "align_items": null,
            "align_self": null,
            "border": null,
            "bottom": null,
            "display": null,
            "flex": null,
            "flex_flow": null,
            "grid_area": null,
            "grid_auto_columns": null,
            "grid_auto_flow": null,
            "grid_auto_rows": null,
            "grid_column": null,
            "grid_gap": null,
            "grid_row": null,
            "grid_template_areas": null,
            "grid_template_columns": null,
            "grid_template_rows": null,
            "height": null,
            "justify_content": null,
            "justify_items": null,
            "left": null,
            "margin": null,
            "max_height": null,
            "max_width": null,
            "min_height": null,
            "min_width": null,
            "object_fit": null,
            "object_position": null,
            "order": null,
            "overflow": null,
            "overflow_x": null,
            "overflow_y": null,
            "padding": null,
            "right": null,
            "top": null,
            "visibility": null,
            "width": null
          }
        },
        "e0ae475dfe654b5d9a9266ed3f781a13": {
          "model_module": "@jupyter-widgets/controls",
          "model_name": "HBoxModel",
          "model_module_version": "1.5.0",
          "state": {
            "_dom_classes": [],
            "_model_module": "@jupyter-widgets/controls",
            "_model_module_version": "1.5.0",
            "_model_name": "HBoxModel",
            "_view_count": null,
            "_view_module": "@jupyter-widgets/controls",
            "_view_module_version": "1.5.0",
            "_view_name": "HBoxView",
            "box_style": "",
            "children": [
              "IPY_MODEL_4b4f37470803412e927a24eb75b04f44",
              "IPY_MODEL_ceed19a89c134821a5691c6b7d37cd0a",
              "IPY_MODEL_f80b556e226542a0872ce4593c59a150"
            ],
            "layout": "IPY_MODEL_dec4cbfe2899452c979e07328b6ed850"
          }
        },
        "d01028a112bc409a998893ea9ec344b8": {
          "model_module": "@jupyter-widgets/base",
          "model_name": "LayoutModel",
          "model_module_version": "1.2.0",
          "state": {
            "_model_module": "@jupyter-widgets/base",
            "_model_module_version": "1.2.0",
            "_model_name": "LayoutModel",
            "_view_count": null,
            "_view_module": "@jupyter-widgets/base",
            "_view_module_version": "1.2.0",
            "_view_name": "LayoutView",
            "align_content": null,
            "align_items": null,
            "align_self": null,
            "border": null,
            "bottom": null,
            "display": null,
            "flex": null,
            "flex_flow": null,
            "grid_area": null,
            "grid_auto_columns": null,
            "grid_auto_flow": null,
            "grid_auto_rows": null,
            "grid_column": null,
            "grid_gap": null,
            "grid_row": null,
            "grid_template_areas": null,
            "grid_template_columns": null,
            "grid_template_rows": null,
            "height": null,
            "justify_content": null,
            "justify_items": null,
            "left": null,
            "margin": null,
            "max_height": null,
            "max_width": null,
            "min_height": null,
            "min_width": null,
            "object_fit": null,
            "object_position": null,
            "order": null,
            "overflow": null,
            "overflow_x": null,
            "overflow_y": null,
            "padding": null,
            "right": null,
            "top": null,
            "visibility": null,
            "width": null
          }
        },
        "61cddee483784b1b82865ce2a596bf3f": {
          "model_module": "@jupyter-widgets/controls",
          "model_name": "ProgressStyleModel",
          "model_module_version": "1.5.0",
          "state": {
            "_model_module": "@jupyter-widgets/controls",
            "_model_module_version": "1.5.0",
            "_model_name": "ProgressStyleModel",
            "_view_count": null,
            "_view_module": "@jupyter-widgets/base",
            "_view_module_version": "1.2.0",
            "_view_name": "StyleView",
            "bar_color": null,
            "description_width": ""
          }
        },
        "7cb76d5b383f41f0b194a8d3d1b6f2a7": {
          "model_module": "@jupyter-widgets/base",
          "model_name": "LayoutModel",
          "model_module_version": "1.2.0",
          "state": {
            "_model_module": "@jupyter-widgets/base",
            "_model_module_version": "1.2.0",
            "_model_name": "LayoutModel",
            "_view_count": null,
            "_view_module": "@jupyter-widgets/base",
            "_view_module_version": "1.2.0",
            "_view_name": "LayoutView",
            "align_content": null,
            "align_items": null,
            "align_self": null,
            "border": null,
            "bottom": null,
            "display": null,
            "flex": null,
            "flex_flow": null,
            "grid_area": null,
            "grid_auto_columns": null,
            "grid_auto_flow": null,
            "grid_auto_rows": null,
            "grid_column": null,
            "grid_gap": null,
            "grid_row": null,
            "grid_template_areas": null,
            "grid_template_columns": null,
            "grid_template_rows": null,
            "height": null,
            "justify_content": null,
            "justify_items": null,
            "left": null,
            "margin": null,
            "max_height": null,
            "max_width": null,
            "min_height": null,
            "min_width": null,
            "object_fit": null,
            "object_position": null,
            "order": null,
            "overflow": null,
            "overflow_x": null,
            "overflow_y": null,
            "padding": null,
            "right": null,
            "top": null,
            "visibility": null,
            "width": null
          }
        },
        "2f9eebe4e7b149c8afa78daeffa4820f": {
          "model_module": "@jupyter-widgets/controls",
          "model_name": "DescriptionStyleModel",
          "model_module_version": "1.5.0",
          "state": {
            "_model_module": "@jupyter-widgets/controls",
            "_model_module_version": "1.5.0",
            "_model_name": "DescriptionStyleModel",
            "_view_count": null,
            "_view_module": "@jupyter-widgets/base",
            "_view_module_version": "1.2.0",
            "_view_name": "StyleView",
            "description_width": ""
          }
        },
        "9da46cc5b531412585895051afe113cf": {
          "model_module": "@jupyter-widgets/base",
          "model_name": "LayoutModel",
          "model_module_version": "1.2.0",
          "state": {
            "_model_module": "@jupyter-widgets/base",
            "_model_module_version": "1.2.0",
            "_model_name": "LayoutModel",
            "_view_count": null,
            "_view_module": "@jupyter-widgets/base",
            "_view_module_version": "1.2.0",
            "_view_name": "LayoutView",
            "align_content": null,
            "align_items": null,
            "align_self": null,
            "border": null,
            "bottom": null,
            "display": null,
            "flex": null,
            "flex_flow": null,
            "grid_area": null,
            "grid_auto_columns": null,
            "grid_auto_flow": null,
            "grid_auto_rows": null,
            "grid_column": null,
            "grid_gap": null,
            "grid_row": null,
            "grid_template_areas": null,
            "grid_template_columns": null,
            "grid_template_rows": null,
            "height": null,
            "justify_content": null,
            "justify_items": null,
            "left": null,
            "margin": null,
            "max_height": null,
            "max_width": null,
            "min_height": null,
            "min_width": null,
            "object_fit": null,
            "object_position": null,
            "order": null,
            "overflow": null,
            "overflow_x": null,
            "overflow_y": null,
            "padding": null,
            "right": null,
            "top": null,
            "visibility": null,
            "width": null
          }
        },
        "d1090dbee61c4ab6b630bf7d7f1178aa": {
          "model_module": "@jupyter-widgets/controls",
          "model_name": "DescriptionStyleModel",
          "model_module_version": "1.5.0",
          "state": {
            "_model_module": "@jupyter-widgets/controls",
            "_model_module_version": "1.5.0",
            "_model_name": "DescriptionStyleModel",
            "_view_count": null,
            "_view_module": "@jupyter-widgets/base",
            "_view_module_version": "1.2.0",
            "_view_name": "StyleView",
            "description_width": ""
          }
        },
        "7591ad190f5e4888bfac198e1c78034b": {
          "model_module": "@jupyter-widgets/controls",
          "model_name": "HTMLModel",
          "model_module_version": "1.5.0",
          "state": {
            "_dom_classes": [],
            "_model_module": "@jupyter-widgets/controls",
            "_model_module_version": "1.5.0",
            "_model_name": "HTMLModel",
            "_view_count": null,
            "_view_module": "@jupyter-widgets/controls",
            "_view_module_version": "1.5.0",
            "_view_name": "HTMLView",
            "description": "",
            "description_tooltip": null,
            "layout": "IPY_MODEL_7cb76d5b383f41f0b194a8d3d1b6f2a7",
            "placeholder": "​",
            "style": "IPY_MODEL_2f9eebe4e7b149c8afa78daeffa4820f",
            "value": "vocab.txt: 100%"
          }
        },
        "bd5a81e78da844eab535653403df6e3e": {
          "model_module": "@jupyter-widgets/controls",
          "model_name": "FloatProgressModel",
          "model_module_version": "1.5.0",
          "state": {
            "_dom_classes": [],
            "_model_module": "@jupyter-widgets/controls",
            "_model_module_version": "1.5.0",
            "_model_name": "FloatProgressModel",
            "_view_count": null,
            "_view_module": "@jupyter-widgets/controls",
            "_view_module_version": "1.5.0",
            "_view_name": "ProgressView",
            "bar_style": "success",
            "description": "",
            "description_tooltip": null,
            "layout": "IPY_MODEL_d01028a112bc409a998893ea9ec344b8",
            "max": 231508,
            "min": 0,
            "orientation": "horizontal",
            "style": "IPY_MODEL_61cddee483784b1b82865ce2a596bf3f",
            "value": 231508
          }
        },
        "f1c7e1790dcb43aa992af7bcec08c616": {
          "model_module": "@jupyter-widgets/controls",
          "model_name": "HTMLModel",
          "model_module_version": "1.5.0",
          "state": {
            "_dom_classes": [],
            "_model_module": "@jupyter-widgets/controls",
            "_model_module_version": "1.5.0",
            "_model_name": "HTMLModel",
            "_view_count": null,
            "_view_module": "@jupyter-widgets/controls",
            "_view_module_version": "1.5.0",
            "_view_name": "HTMLView",
            "description": "",
            "description_tooltip": null,
            "layout": "IPY_MODEL_9da46cc5b531412585895051afe113cf",
            "placeholder": "​",
            "style": "IPY_MODEL_d1090dbee61c4ab6b630bf7d7f1178aa",
            "value": " 232k/232k [00:00&lt;00:00, 667kB/s]"
          }
        },
        "cc791d6d76164e0785cc31a73e093eb0": {
          "model_module": "@jupyter-widgets/base",
          "model_name": "LayoutModel",
          "model_module_version": "1.2.0",
          "state": {
            "_model_module": "@jupyter-widgets/base",
            "_model_module_version": "1.2.0",
            "_model_name": "LayoutModel",
            "_view_count": null,
            "_view_module": "@jupyter-widgets/base",
            "_view_module_version": "1.2.0",
            "_view_name": "LayoutView",
            "align_content": null,
            "align_items": null,
            "align_self": null,
            "border": null,
            "bottom": null,
            "display": null,
            "flex": null,
            "flex_flow": null,
            "grid_area": null,
            "grid_auto_columns": null,
            "grid_auto_flow": null,
            "grid_auto_rows": null,
            "grid_column": null,
            "grid_gap": null,
            "grid_row": null,
            "grid_template_areas": null,
            "grid_template_columns": null,
            "grid_template_rows": null,
            "height": null,
            "justify_content": null,
            "justify_items": null,
            "left": null,
            "margin": null,
            "max_height": null,
            "max_width": null,
            "min_height": null,
            "min_width": null,
            "object_fit": null,
            "object_position": null,
            "order": null,
            "overflow": null,
            "overflow_x": null,
            "overflow_y": null,
            "padding": null,
            "right": null,
            "top": null,
            "visibility": null,
            "width": null
          }
        },
        "3945bf46fd9f4f3381a5bb78e079979c": {
          "model_module": "@jupyter-widgets/controls",
          "model_name": "HBoxModel",
          "model_module_version": "1.5.0",
          "state": {
            "_dom_classes": [],
            "_model_module": "@jupyter-widgets/controls",
            "_model_module_version": "1.5.0",
            "_model_name": "HBoxModel",
            "_view_count": null,
            "_view_module": "@jupyter-widgets/controls",
            "_view_module_version": "1.5.0",
            "_view_name": "HBoxView",
            "box_style": "",
            "children": [
              "IPY_MODEL_7591ad190f5e4888bfac198e1c78034b",
              "IPY_MODEL_bd5a81e78da844eab535653403df6e3e",
              "IPY_MODEL_f1c7e1790dcb43aa992af7bcec08c616"
            ],
            "layout": "IPY_MODEL_cc791d6d76164e0785cc31a73e093eb0"
          }
        },
        "3af18dcb71844e3c8b2ab505b4ed275e": {
          "model_module": "@jupyter-widgets/base",
          "model_name": "LayoutModel",
          "model_module_version": "1.2.0",
          "state": {
            "_model_module": "@jupyter-widgets/base",
            "_model_module_version": "1.2.0",
            "_model_name": "LayoutModel",
            "_view_count": null,
            "_view_module": "@jupyter-widgets/base",
            "_view_module_version": "1.2.0",
            "_view_name": "LayoutView",
            "align_content": null,
            "align_items": null,
            "align_self": null,
            "border": null,
            "bottom": null,
            "display": null,
            "flex": null,
            "flex_flow": null,
            "grid_area": null,
            "grid_auto_columns": null,
            "grid_auto_flow": null,
            "grid_auto_rows": null,
            "grid_column": null,
            "grid_gap": null,
            "grid_row": null,
            "grid_template_areas": null,
            "grid_template_columns": null,
            "grid_template_rows": null,
            "height": null,
            "justify_content": null,
            "justify_items": null,
            "left": null,
            "margin": null,
            "max_height": null,
            "max_width": null,
            "min_height": null,
            "min_width": null,
            "object_fit": null,
            "object_position": null,
            "order": null,
            "overflow": null,
            "overflow_x": null,
            "overflow_y": null,
            "padding": null,
            "right": null,
            "top": null,
            "visibility": null,
            "width": null
          }
        },
        "e2418dfa16cb4de0a6e9947bd7e65ff2": {
          "model_module": "@jupyter-widgets/controls",
          "model_name": "ProgressStyleModel",
          "model_module_version": "1.5.0",
          "state": {
            "_model_module": "@jupyter-widgets/controls",
            "_model_module_version": "1.5.0",
            "_model_name": "ProgressStyleModel",
            "_view_count": null,
            "_view_module": "@jupyter-widgets/base",
            "_view_module_version": "1.2.0",
            "_view_name": "StyleView",
            "bar_color": null,
            "description_width": ""
          }
        },
        "b26764b9ca4a46739481e6ff4cec7cf4": {
          "model_module": "@jupyter-widgets/base",
          "model_name": "LayoutModel",
          "model_module_version": "1.2.0",
          "state": {
            "_model_module": "@jupyter-widgets/base",
            "_model_module_version": "1.2.0",
            "_model_name": "LayoutModel",
            "_view_count": null,
            "_view_module": "@jupyter-widgets/base",
            "_view_module_version": "1.2.0",
            "_view_name": "LayoutView",
            "align_content": null,
            "align_items": null,
            "align_self": null,
            "border": null,
            "bottom": null,
            "display": null,
            "flex": null,
            "flex_flow": null,
            "grid_area": null,
            "grid_auto_columns": null,
            "grid_auto_flow": null,
            "grid_auto_rows": null,
            "grid_column": null,
            "grid_gap": null,
            "grid_row": null,
            "grid_template_areas": null,
            "grid_template_columns": null,
            "grid_template_rows": null,
            "height": null,
            "justify_content": null,
            "justify_items": null,
            "left": null,
            "margin": null,
            "max_height": null,
            "max_width": null,
            "min_height": null,
            "min_width": null,
            "object_fit": null,
            "object_position": null,
            "order": null,
            "overflow": null,
            "overflow_x": null,
            "overflow_y": null,
            "padding": null,
            "right": null,
            "top": null,
            "visibility": null,
            "width": null
          }
        },
        "38d64442bc484eb1b593fb6482639295": {
          "model_module": "@jupyter-widgets/controls",
          "model_name": "DescriptionStyleModel",
          "model_module_version": "1.5.0",
          "state": {
            "_model_module": "@jupyter-widgets/controls",
            "_model_module_version": "1.5.0",
            "_model_name": "DescriptionStyleModel",
            "_view_count": null,
            "_view_module": "@jupyter-widgets/base",
            "_view_module_version": "1.2.0",
            "_view_name": "StyleView",
            "description_width": ""
          }
        },
        "ed2bdee9a1254e79b18bce987fe32191": {
          "model_module": "@jupyter-widgets/base",
          "model_name": "LayoutModel",
          "model_module_version": "1.2.0",
          "state": {
            "_model_module": "@jupyter-widgets/base",
            "_model_module_version": "1.2.0",
            "_model_name": "LayoutModel",
            "_view_count": null,
            "_view_module": "@jupyter-widgets/base",
            "_view_module_version": "1.2.0",
            "_view_name": "LayoutView",
            "align_content": null,
            "align_items": null,
            "align_self": null,
            "border": null,
            "bottom": null,
            "display": null,
            "flex": null,
            "flex_flow": null,
            "grid_area": null,
            "grid_auto_columns": null,
            "grid_auto_flow": null,
            "grid_auto_rows": null,
            "grid_column": null,
            "grid_gap": null,
            "grid_row": null,
            "grid_template_areas": null,
            "grid_template_columns": null,
            "grid_template_rows": null,
            "height": null,
            "justify_content": null,
            "justify_items": null,
            "left": null,
            "margin": null,
            "max_height": null,
            "max_width": null,
            "min_height": null,
            "min_width": null,
            "object_fit": null,
            "object_position": null,
            "order": null,
            "overflow": null,
            "overflow_x": null,
            "overflow_y": null,
            "padding": null,
            "right": null,
            "top": null,
            "visibility": null,
            "width": null
          }
        },
        "eabc94180f82408ab321addbef2f5c46": {
          "model_module": "@jupyter-widgets/controls",
          "model_name": "DescriptionStyleModel",
          "model_module_version": "1.5.0",
          "state": {
            "_model_module": "@jupyter-widgets/controls",
            "_model_module_version": "1.5.0",
            "_model_name": "DescriptionStyleModel",
            "_view_count": null,
            "_view_module": "@jupyter-widgets/base",
            "_view_module_version": "1.2.0",
            "_view_name": "StyleView",
            "description_width": ""
          }
        },
        "b8a1d66f4e2244668d8228f61277f35e": {
          "model_module": "@jupyter-widgets/controls",
          "model_name": "HTMLModel",
          "model_module_version": "1.5.0",
          "state": {
            "_dom_classes": [],
            "_model_module": "@jupyter-widgets/controls",
            "_model_module_version": "1.5.0",
            "_model_name": "HTMLModel",
            "_view_count": null,
            "_view_module": "@jupyter-widgets/controls",
            "_view_module_version": "1.5.0",
            "_view_name": "HTMLView",
            "description": "",
            "description_tooltip": null,
            "layout": "IPY_MODEL_b26764b9ca4a46739481e6ff4cec7cf4",
            "placeholder": "​",
            "style": "IPY_MODEL_38d64442bc484eb1b593fb6482639295",
            "value": "tokenizer.json: 100%"
          }
        },
        "61484e0bed7f42218f26b9b5a73cbce9": {
          "model_module": "@jupyter-widgets/controls",
          "model_name": "FloatProgressModel",
          "model_module_version": "1.5.0",
          "state": {
            "_dom_classes": [],
            "_model_module": "@jupyter-widgets/controls",
            "_model_module_version": "1.5.0",
            "_model_name": "FloatProgressModel",
            "_view_count": null,
            "_view_module": "@jupyter-widgets/controls",
            "_view_module_version": "1.5.0",
            "_view_name": "ProgressView",
            "bar_style": "success",
            "description": "",
            "description_tooltip": null,
            "layout": "IPY_MODEL_3af18dcb71844e3c8b2ab505b4ed275e",
            "max": 711396,
            "min": 0,
            "orientation": "horizontal",
            "style": "IPY_MODEL_e2418dfa16cb4de0a6e9947bd7e65ff2",
            "value": 711396
          }
        },
        "59a58c59779d439e9f1cbff6d13b2d59": {
          "model_module": "@jupyter-widgets/controls",
          "model_name": "HTMLModel",
          "model_module_version": "1.5.0",
          "state": {
            "_dom_classes": [],
            "_model_module": "@jupyter-widgets/controls",
            "_model_module_version": "1.5.0",
            "_model_name": "HTMLModel",
            "_view_count": null,
            "_view_module": "@jupyter-widgets/controls",
            "_view_module_version": "1.5.0",
            "_view_name": "HTMLView",
            "description": "",
            "description_tooltip": null,
            "layout": "IPY_MODEL_ed2bdee9a1254e79b18bce987fe32191",
            "placeholder": "​",
            "style": "IPY_MODEL_eabc94180f82408ab321addbef2f5c46",
            "value": " 711k/711k [00:00&lt;00:00, 1.37MB/s]"
          }
        },
        "c3c0717be7694ed481c8b78fba164ef5": {
          "model_module": "@jupyter-widgets/base",
          "model_name": "LayoutModel",
          "model_module_version": "1.2.0",
          "state": {
            "_model_module": "@jupyter-widgets/base",
            "_model_module_version": "1.2.0",
            "_model_name": "LayoutModel",
            "_view_count": null,
            "_view_module": "@jupyter-widgets/base",
            "_view_module_version": "1.2.0",
            "_view_name": "LayoutView",
            "align_content": null,
            "align_items": null,
            "align_self": null,
            "border": null,
            "bottom": null,
            "display": null,
            "flex": null,
            "flex_flow": null,
            "grid_area": null,
            "grid_auto_columns": null,
            "grid_auto_flow": null,
            "grid_auto_rows": null,
            "grid_column": null,
            "grid_gap": null,
            "grid_row": null,
            "grid_template_areas": null,
            "grid_template_columns": null,
            "grid_template_rows": null,
            "height": null,
            "justify_content": null,
            "justify_items": null,
            "left": null,
            "margin": null,
            "max_height": null,
            "max_width": null,
            "min_height": null,
            "min_width": null,
            "object_fit": null,
            "object_position": null,
            "order": null,
            "overflow": null,
            "overflow_x": null,
            "overflow_y": null,
            "padding": null,
            "right": null,
            "top": null,
            "visibility": null,
            "width": null
          }
        },
        "9e9c6d02a36e41fba9ec4b98413f187e": {
          "model_module": "@jupyter-widgets/controls",
          "model_name": "HBoxModel",
          "model_module_version": "1.5.0",
          "state": {
            "_dom_classes": [],
            "_model_module": "@jupyter-widgets/controls",
            "_model_module_version": "1.5.0",
            "_model_name": "HBoxModel",
            "_view_count": null,
            "_view_module": "@jupyter-widgets/controls",
            "_view_module_version": "1.5.0",
            "_view_name": "HBoxView",
            "box_style": "",
            "children": [
              "IPY_MODEL_b8a1d66f4e2244668d8228f61277f35e",
              "IPY_MODEL_61484e0bed7f42218f26b9b5a73cbce9",
              "IPY_MODEL_59a58c59779d439e9f1cbff6d13b2d59"
            ],
            "layout": "IPY_MODEL_c3c0717be7694ed481c8b78fba164ef5"
          }
        },
        "8220d8a4cb994d97ad08f04dcf810ecd": {
          "model_module": "@jupyter-widgets/base",
          "model_name": "LayoutModel",
          "model_module_version": "1.2.0",
          "state": {
            "_model_module": "@jupyter-widgets/base",
            "_model_module_version": "1.2.0",
            "_model_name": "LayoutModel",
            "_view_count": null,
            "_view_module": "@jupyter-widgets/base",
            "_view_module_version": "1.2.0",
            "_view_name": "LayoutView",
            "align_content": null,
            "align_items": null,
            "align_self": null,
            "border": null,
            "bottom": null,
            "display": null,
            "flex": null,
            "flex_flow": null,
            "grid_area": null,
            "grid_auto_columns": null,
            "grid_auto_flow": null,
            "grid_auto_rows": null,
            "grid_column": null,
            "grid_gap": null,
            "grid_row": null,
            "grid_template_areas": null,
            "grid_template_columns": null,
            "grid_template_rows": null,
            "height": null,
            "justify_content": null,
            "justify_items": null,
            "left": null,
            "margin": null,
            "max_height": null,
            "max_width": null,
            "min_height": null,
            "min_width": null,
            "object_fit": null,
            "object_position": null,
            "order": null,
            "overflow": null,
            "overflow_x": null,
            "overflow_y": null,
            "padding": null,
            "right": null,
            "top": null,
            "visibility": null,
            "width": null
          }
        },
        "069a3452c3a846ebb7e172146afaf40d": {
          "model_module": "@jupyter-widgets/controls",
          "model_name": "ProgressStyleModel",
          "model_module_version": "1.5.0",
          "state": {
            "_model_module": "@jupyter-widgets/controls",
            "_model_module_version": "1.5.0",
            "_model_name": "ProgressStyleModel",
            "_view_count": null,
            "_view_module": "@jupyter-widgets/base",
            "_view_module_version": "1.2.0",
            "_view_name": "StyleView",
            "bar_color": null,
            "description_width": ""
          }
        },
        "c1560edb554f47738fe2da6241ce89d4": {
          "model_module": "@jupyter-widgets/base",
          "model_name": "LayoutModel",
          "model_module_version": "1.2.0",
          "state": {
            "_model_module": "@jupyter-widgets/base",
            "_model_module_version": "1.2.0",
            "_model_name": "LayoutModel",
            "_view_count": null,
            "_view_module": "@jupyter-widgets/base",
            "_view_module_version": "1.2.0",
            "_view_name": "LayoutView",
            "align_content": null,
            "align_items": null,
            "align_self": null,
            "border": null,
            "bottom": null,
            "display": null,
            "flex": null,
            "flex_flow": null,
            "grid_area": null,
            "grid_auto_columns": null,
            "grid_auto_flow": null,
            "grid_auto_rows": null,
            "grid_column": null,
            "grid_gap": null,
            "grid_row": null,
            "grid_template_areas": null,
            "grid_template_columns": null,
            "grid_template_rows": null,
            "height": null,
            "justify_content": null,
            "justify_items": null,
            "left": null,
            "margin": null,
            "max_height": null,
            "max_width": null,
            "min_height": null,
            "min_width": null,
            "object_fit": null,
            "object_position": null,
            "order": null,
            "overflow": null,
            "overflow_x": null,
            "overflow_y": null,
            "padding": null,
            "right": null,
            "top": null,
            "visibility": null,
            "width": null
          }
        },
        "c81b64f4992d4e958a65845176a81f9c": {
          "model_module": "@jupyter-widgets/controls",
          "model_name": "DescriptionStyleModel",
          "model_module_version": "1.5.0",
          "state": {
            "_model_module": "@jupyter-widgets/controls",
            "_model_module_version": "1.5.0",
            "_model_name": "DescriptionStyleModel",
            "_view_count": null,
            "_view_module": "@jupyter-widgets/base",
            "_view_module_version": "1.2.0",
            "_view_name": "StyleView",
            "description_width": ""
          }
        },
        "cd3f96c46c8d4c07a5308d3c070cbf0e": {
          "model_module": "@jupyter-widgets/base",
          "model_name": "LayoutModel",
          "model_module_version": "1.2.0",
          "state": {
            "_model_module": "@jupyter-widgets/base",
            "_model_module_version": "1.2.0",
            "_model_name": "LayoutModel",
            "_view_count": null,
            "_view_module": "@jupyter-widgets/base",
            "_view_module_version": "1.2.0",
            "_view_name": "LayoutView",
            "align_content": null,
            "align_items": null,
            "align_self": null,
            "border": null,
            "bottom": null,
            "display": null,
            "flex": null,
            "flex_flow": null,
            "grid_area": null,
            "grid_auto_columns": null,
            "grid_auto_flow": null,
            "grid_auto_rows": null,
            "grid_column": null,
            "grid_gap": null,
            "grid_row": null,
            "grid_template_areas": null,
            "grid_template_columns": null,
            "grid_template_rows": null,
            "height": null,
            "justify_content": null,
            "justify_items": null,
            "left": null,
            "margin": null,
            "max_height": null,
            "max_width": null,
            "min_height": null,
            "min_width": null,
            "object_fit": null,
            "object_position": null,
            "order": null,
            "overflow": null,
            "overflow_x": null,
            "overflow_y": null,
            "padding": null,
            "right": null,
            "top": null,
            "visibility": null,
            "width": null
          }
        },
        "3d51843a323a4b9da5047fca88150c14": {
          "model_module": "@jupyter-widgets/controls",
          "model_name": "DescriptionStyleModel",
          "model_module_version": "1.5.0",
          "state": {
            "_model_module": "@jupyter-widgets/controls",
            "_model_module_version": "1.5.0",
            "_model_name": "DescriptionStyleModel",
            "_view_count": null,
            "_view_module": "@jupyter-widgets/base",
            "_view_module_version": "1.2.0",
            "_view_name": "StyleView",
            "description_width": ""
          }
        },
        "4b985aa8ca654b6cbbd2ab731c520cd5": {
          "model_module": "@jupyter-widgets/controls",
          "model_name": "HTMLModel",
          "model_module_version": "1.5.0",
          "state": {
            "_dom_classes": [],
            "_model_module": "@jupyter-widgets/controls",
            "_model_module_version": "1.5.0",
            "_model_name": "HTMLModel",
            "_view_count": null,
            "_view_module": "@jupyter-widgets/controls",
            "_view_module_version": "1.5.0",
            "_view_name": "HTMLView",
            "description": "",
            "description_tooltip": null,
            "layout": "IPY_MODEL_c1560edb554f47738fe2da6241ce89d4",
            "placeholder": "​",
            "style": "IPY_MODEL_c81b64f4992d4e958a65845176a81f9c",
            "value": "special_tokens_map.json: 100%"
          }
        },
        "023cca4ae7f4461480aafdc01320554f": {
          "model_module": "@jupyter-widgets/controls",
          "model_name": "FloatProgressModel",
          "model_module_version": "1.5.0",
          "state": {
            "_dom_classes": [],
            "_model_module": "@jupyter-widgets/controls",
            "_model_module_version": "1.5.0",
            "_model_name": "FloatProgressModel",
            "_view_count": null,
            "_view_module": "@jupyter-widgets/controls",
            "_view_module_version": "1.5.0",
            "_view_name": "ProgressView",
            "bar_style": "success",
            "description": "",
            "description_tooltip": null,
            "layout": "IPY_MODEL_8220d8a4cb994d97ad08f04dcf810ecd",
            "max": 125,
            "min": 0,
            "orientation": "horizontal",
            "style": "IPY_MODEL_069a3452c3a846ebb7e172146afaf40d",
            "value": 125
          }
        },
        "4709bb2ae7094e11968b46516ce30629": {
          "model_module": "@jupyter-widgets/controls",
          "model_name": "HTMLModel",
          "model_module_version": "1.5.0",
          "state": {
            "_dom_classes": [],
            "_model_module": "@jupyter-widgets/controls",
            "_model_module_version": "1.5.0",
            "_model_name": "HTMLModel",
            "_view_count": null,
            "_view_module": "@jupyter-widgets/controls",
            "_view_module_version": "1.5.0",
            "_view_name": "HTMLView",
            "description": "",
            "description_tooltip": null,
            "layout": "IPY_MODEL_cd3f96c46c8d4c07a5308d3c070cbf0e",
            "placeholder": "​",
            "style": "IPY_MODEL_3d51843a323a4b9da5047fca88150c14",
            "value": " 125/125 [00:00&lt;00:00, 10.5kB/s]"
          }
        },
        "0189578b14264aeb94c927cc7ad53acf": {
          "model_module": "@jupyter-widgets/base",
          "model_name": "LayoutModel",
          "model_module_version": "1.2.0",
          "state": {
            "_model_module": "@jupyter-widgets/base",
            "_model_module_version": "1.2.0",
            "_model_name": "LayoutModel",
            "_view_count": null,
            "_view_module": "@jupyter-widgets/base",
            "_view_module_version": "1.2.0",
            "_view_name": "LayoutView",
            "align_content": null,
            "align_items": null,
            "align_self": null,
            "border": null,
            "bottom": null,
            "display": null,
            "flex": null,
            "flex_flow": null,
            "grid_area": null,
            "grid_auto_columns": null,
            "grid_auto_flow": null,
            "grid_auto_rows": null,
            "grid_column": null,
            "grid_gap": null,
            "grid_row": null,
            "grid_template_areas": null,
            "grid_template_columns": null,
            "grid_template_rows": null,
            "height": null,
            "justify_content": null,
            "justify_items": null,
            "left": null,
            "margin": null,
            "max_height": null,
            "max_width": null,
            "min_height": null,
            "min_width": null,
            "object_fit": null,
            "object_position": null,
            "order": null,
            "overflow": null,
            "overflow_x": null,
            "overflow_y": null,
            "padding": null,
            "right": null,
            "top": null,
            "visibility": null,
            "width": null
          }
        },
        "0635f3e14f534d78a7b37942daa1093d": {
          "model_module": "@jupyter-widgets/controls",
          "model_name": "HBoxModel",
          "model_module_version": "1.5.0",
          "state": {
            "_dom_classes": [],
            "_model_module": "@jupyter-widgets/controls",
            "_model_module_version": "1.5.0",
            "_model_name": "HBoxModel",
            "_view_count": null,
            "_view_module": "@jupyter-widgets/controls",
            "_view_module_version": "1.5.0",
            "_view_name": "HBoxView",
            "box_style": "",
            "children": [
              "IPY_MODEL_4b985aa8ca654b6cbbd2ab731c520cd5",
              "IPY_MODEL_023cca4ae7f4461480aafdc01320554f",
              "IPY_MODEL_4709bb2ae7094e11968b46516ce30629"
            ],
            "layout": "IPY_MODEL_0189578b14264aeb94c927cc7ad53acf"
          }
        },
        "f753dee7e5684bf19eb6219d85c3d41d": {
          "model_module": "@jupyter-widgets/base",
          "model_name": "LayoutModel",
          "model_module_version": "1.2.0",
          "state": {
            "_model_module": "@jupyter-widgets/base",
            "_model_module_version": "1.2.0",
            "_model_name": "LayoutModel",
            "_view_count": null,
            "_view_module": "@jupyter-widgets/base",
            "_view_module_version": "1.2.0",
            "_view_name": "LayoutView",
            "align_content": null,
            "align_items": null,
            "align_self": null,
            "border": null,
            "bottom": null,
            "display": null,
            "flex": null,
            "flex_flow": null,
            "grid_area": null,
            "grid_auto_columns": null,
            "grid_auto_flow": null,
            "grid_auto_rows": null,
            "grid_column": null,
            "grid_gap": null,
            "grid_row": null,
            "grid_template_areas": null,
            "grid_template_columns": null,
            "grid_template_rows": null,
            "height": null,
            "justify_content": null,
            "justify_items": null,
            "left": null,
            "margin": null,
            "max_height": null,
            "max_width": null,
            "min_height": null,
            "min_width": null,
            "object_fit": null,
            "object_position": null,
            "order": null,
            "overflow": null,
            "overflow_x": null,
            "overflow_y": null,
            "padding": null,
            "right": null,
            "top": null,
            "visibility": null,
            "width": null
          }
        },
        "ff4a7b949da0420483817fdea1741f48": {
          "model_module": "@jupyter-widgets/controls",
          "model_name": "ProgressStyleModel",
          "model_module_version": "1.5.0",
          "state": {
            "_model_module": "@jupyter-widgets/controls",
            "_model_module_version": "1.5.0",
            "_model_name": "ProgressStyleModel",
            "_view_count": null,
            "_view_module": "@jupyter-widgets/base",
            "_view_module_version": "1.2.0",
            "_view_name": "StyleView",
            "bar_color": null,
            "description_width": ""
          }
        },
        "55880d5588b142fb9c09d214ede8772f": {
          "model_module": "@jupyter-widgets/base",
          "model_name": "LayoutModel",
          "model_module_version": "1.2.0",
          "state": {
            "_model_module": "@jupyter-widgets/base",
            "_model_module_version": "1.2.0",
            "_model_name": "LayoutModel",
            "_view_count": null,
            "_view_module": "@jupyter-widgets/base",
            "_view_module_version": "1.2.0",
            "_view_name": "LayoutView",
            "align_content": null,
            "align_items": null,
            "align_self": null,
            "border": null,
            "bottom": null,
            "display": null,
            "flex": null,
            "flex_flow": null,
            "grid_area": null,
            "grid_auto_columns": null,
            "grid_auto_flow": null,
            "grid_auto_rows": null,
            "grid_column": null,
            "grid_gap": null,
            "grid_row": null,
            "grid_template_areas": null,
            "grid_template_columns": null,
            "grid_template_rows": null,
            "height": null,
            "justify_content": null,
            "justify_items": null,
            "left": null,
            "margin": null,
            "max_height": null,
            "max_width": null,
            "min_height": null,
            "min_width": null,
            "object_fit": null,
            "object_position": null,
            "order": null,
            "overflow": null,
            "overflow_x": null,
            "overflow_y": null,
            "padding": null,
            "right": null,
            "top": null,
            "visibility": null,
            "width": null
          }
        },
        "0879fa60ca5641b08dccc507cdb4e791": {
          "model_module": "@jupyter-widgets/controls",
          "model_name": "DescriptionStyleModel",
          "model_module_version": "1.5.0",
          "state": {
            "_model_module": "@jupyter-widgets/controls",
            "_model_module_version": "1.5.0",
            "_model_name": "DescriptionStyleModel",
            "_view_count": null,
            "_view_module": "@jupyter-widgets/base",
            "_view_module_version": "1.2.0",
            "_view_name": "StyleView",
            "description_width": ""
          }
        },
        "e026555d498748d986129ea0747bd93d": {
          "model_module": "@jupyter-widgets/base",
          "model_name": "LayoutModel",
          "model_module_version": "1.2.0",
          "state": {
            "_model_module": "@jupyter-widgets/base",
            "_model_module_version": "1.2.0",
            "_model_name": "LayoutModel",
            "_view_count": null,
            "_view_module": "@jupyter-widgets/base",
            "_view_module_version": "1.2.0",
            "_view_name": "LayoutView",
            "align_content": null,
            "align_items": null,
            "align_self": null,
            "border": null,
            "bottom": null,
            "display": null,
            "flex": null,
            "flex_flow": null,
            "grid_area": null,
            "grid_auto_columns": null,
            "grid_auto_flow": null,
            "grid_auto_rows": null,
            "grid_column": null,
            "grid_gap": null,
            "grid_row": null,
            "grid_template_areas": null,
            "grid_template_columns": null,
            "grid_template_rows": null,
            "height": null,
            "justify_content": null,
            "justify_items": null,
            "left": null,
            "margin": null,
            "max_height": null,
            "max_width": null,
            "min_height": null,
            "min_width": null,
            "object_fit": null,
            "object_position": null,
            "order": null,
            "overflow": null,
            "overflow_x": null,
            "overflow_y": null,
            "padding": null,
            "right": null,
            "top": null,
            "visibility": null,
            "width": null
          }
        },
        "351569c7b185478a9fe72cab17859ee5": {
          "model_module": "@jupyter-widgets/controls",
          "model_name": "DescriptionStyleModel",
          "model_module_version": "1.5.0",
          "state": {
            "_model_module": "@jupyter-widgets/controls",
            "_model_module_version": "1.5.0",
            "_model_name": "DescriptionStyleModel",
            "_view_count": null,
            "_view_module": "@jupyter-widgets/base",
            "_view_module_version": "1.2.0",
            "_view_name": "StyleView",
            "description_width": ""
          }
        },
        "42dfe7f949da42eb8fbbaacba1cbe423": {
          "model_module": "@jupyter-widgets/controls",
          "model_name": "HTMLModel",
          "model_module_version": "1.5.0",
          "state": {
            "_dom_classes": [],
            "_model_module": "@jupyter-widgets/controls",
            "_model_module_version": "1.5.0",
            "_model_name": "HTMLModel",
            "_view_count": null,
            "_view_module": "@jupyter-widgets/controls",
            "_view_module_version": "1.5.0",
            "_view_name": "HTMLView",
            "description": "",
            "description_tooltip": null,
            "layout": "IPY_MODEL_55880d5588b142fb9c09d214ede8772f",
            "placeholder": "​",
            "style": "IPY_MODEL_0879fa60ca5641b08dccc507cdb4e791",
            "value": "config.json: 100%"
          }
        },
        "605bcb4a017747bea84e2062ca733465": {
          "model_module": "@jupyter-widgets/controls",
          "model_name": "FloatProgressModel",
          "model_module_version": "1.5.0",
          "state": {
            "_dom_classes": [],
            "_model_module": "@jupyter-widgets/controls",
            "_model_module_version": "1.5.0",
            "_model_name": "FloatProgressModel",
            "_view_count": null,
            "_view_module": "@jupyter-widgets/controls",
            "_view_module_version": "1.5.0",
            "_view_name": "ProgressView",
            "bar_style": "success",
            "description": "",
            "description_tooltip": null,
            "layout": "IPY_MODEL_f753dee7e5684bf19eb6219d85c3d41d",
            "max": 4597,
            "min": 0,
            "orientation": "horizontal",
            "style": "IPY_MODEL_ff4a7b949da0420483817fdea1741f48",
            "value": 4597
          }
        },
        "29953f9ab15f4f689e5a703b046a339e": {
          "model_module": "@jupyter-widgets/controls",
          "model_name": "HTMLModel",
          "model_module_version": "1.5.0",
          "state": {
            "_dom_classes": [],
            "_model_module": "@jupyter-widgets/controls",
            "_model_module_version": "1.5.0",
            "_model_name": "HTMLModel",
            "_view_count": null,
            "_view_module": "@jupyter-widgets/controls",
            "_view_module_version": "1.5.0",
            "_view_name": "HTMLView",
            "description": "",
            "description_tooltip": null,
            "layout": "IPY_MODEL_e026555d498748d986129ea0747bd93d",
            "placeholder": "​",
            "style": "IPY_MODEL_351569c7b185478a9fe72cab17859ee5",
            "value": " 4.60k/4.60k [00:00&lt;00:00, 340kB/s]"
          }
        },
        "41c2cf106b4748c9b1b054bb95c296fa": {
          "model_module": "@jupyter-widgets/base",
          "model_name": "LayoutModel",
          "model_module_version": "1.2.0",
          "state": {
            "_model_module": "@jupyter-widgets/base",
            "_model_module_version": "1.2.0",
            "_model_name": "LayoutModel",
            "_view_count": null,
            "_view_module": "@jupyter-widgets/base",
            "_view_module_version": "1.2.0",
            "_view_name": "LayoutView",
            "align_content": null,
            "align_items": null,
            "align_self": null,
            "border": null,
            "bottom": null,
            "display": null,
            "flex": null,
            "flex_flow": null,
            "grid_area": null,
            "grid_auto_columns": null,
            "grid_auto_flow": null,
            "grid_auto_rows": null,
            "grid_column": null,
            "grid_gap": null,
            "grid_row": null,
            "grid_template_areas": null,
            "grid_template_columns": null,
            "grid_template_rows": null,
            "height": null,
            "justify_content": null,
            "justify_items": null,
            "left": null,
            "margin": null,
            "max_height": null,
            "max_width": null,
            "min_height": null,
            "min_width": null,
            "object_fit": null,
            "object_position": null,
            "order": null,
            "overflow": null,
            "overflow_x": null,
            "overflow_y": null,
            "padding": null,
            "right": null,
            "top": null,
            "visibility": null,
            "width": null
          }
        },
        "1b4c2f3159d54645927df19f0d0c55f7": {
          "model_module": "@jupyter-widgets/controls",
          "model_name": "HBoxModel",
          "model_module_version": "1.5.0",
          "state": {
            "_dom_classes": [],
            "_model_module": "@jupyter-widgets/controls",
            "_model_module_version": "1.5.0",
            "_model_name": "HBoxModel",
            "_view_count": null,
            "_view_module": "@jupyter-widgets/controls",
            "_view_module_version": "1.5.0",
            "_view_name": "HBoxView",
            "box_style": "",
            "children": [
              "IPY_MODEL_42dfe7f949da42eb8fbbaacba1cbe423",
              "IPY_MODEL_605bcb4a017747bea84e2062ca733465",
              "IPY_MODEL_29953f9ab15f4f689e5a703b046a339e"
            ],
            "layout": "IPY_MODEL_41c2cf106b4748c9b1b054bb95c296fa"
          }
        },
        "7532c8d1029540eaa6bbd3ce413769b2": {
          "model_module": "@jupyter-widgets/base",
          "model_name": "LayoutModel",
          "model_module_version": "1.2.0",
          "state": {
            "_model_module": "@jupyter-widgets/base",
            "_model_module_version": "1.2.0",
            "_model_name": "LayoutModel",
            "_view_count": null,
            "_view_module": "@jupyter-widgets/base",
            "_view_module_version": "1.2.0",
            "_view_name": "LayoutView",
            "align_content": null,
            "align_items": null,
            "align_self": null,
            "border": null,
            "bottom": null,
            "display": null,
            "flex": null,
            "flex_flow": null,
            "grid_area": null,
            "grid_auto_columns": null,
            "grid_auto_flow": null,
            "grid_auto_rows": null,
            "grid_column": null,
            "grid_gap": null,
            "grid_row": null,
            "grid_template_areas": null,
            "grid_template_columns": null,
            "grid_template_rows": null,
            "height": null,
            "justify_content": null,
            "justify_items": null,
            "left": null,
            "margin": null,
            "max_height": null,
            "max_width": null,
            "min_height": null,
            "min_width": null,
            "object_fit": null,
            "object_position": null,
            "order": null,
            "overflow": null,
            "overflow_x": null,
            "overflow_y": null,
            "padding": null,
            "right": null,
            "top": null,
            "visibility": null,
            "width": null
          }
        },
        "5fcd0b97707646f0afcafacef35051ad": {
          "model_module": "@jupyter-widgets/controls",
          "model_name": "ProgressStyleModel",
          "model_module_version": "1.5.0",
          "state": {
            "_model_module": "@jupyter-widgets/controls",
            "_model_module_version": "1.5.0",
            "_model_name": "ProgressStyleModel",
            "_view_count": null,
            "_view_module": "@jupyter-widgets/base",
            "_view_module_version": "1.2.0",
            "_view_name": "StyleView",
            "bar_color": null,
            "description_width": ""
          }
        },
        "760a21d92f9347e39712c1f23ae78bd7": {
          "model_module": "@jupyter-widgets/base",
          "model_name": "LayoutModel",
          "model_module_version": "1.2.0",
          "state": {
            "_model_module": "@jupyter-widgets/base",
            "_model_module_version": "1.2.0",
            "_model_name": "LayoutModel",
            "_view_count": null,
            "_view_module": "@jupyter-widgets/base",
            "_view_module_version": "1.2.0",
            "_view_name": "LayoutView",
            "align_content": null,
            "align_items": null,
            "align_self": null,
            "border": null,
            "bottom": null,
            "display": null,
            "flex": null,
            "flex_flow": null,
            "grid_area": null,
            "grid_auto_columns": null,
            "grid_auto_flow": null,
            "grid_auto_rows": null,
            "grid_column": null,
            "grid_gap": null,
            "grid_row": null,
            "grid_template_areas": null,
            "grid_template_columns": null,
            "grid_template_rows": null,
            "height": null,
            "justify_content": null,
            "justify_items": null,
            "left": null,
            "margin": null,
            "max_height": null,
            "max_width": null,
            "min_height": null,
            "min_width": null,
            "object_fit": null,
            "object_position": null,
            "order": null,
            "overflow": null,
            "overflow_x": null,
            "overflow_y": null,
            "padding": null,
            "right": null,
            "top": null,
            "visibility": null,
            "width": null
          }
        },
        "74af9049783649659ca61e2a2b7feb72": {
          "model_module": "@jupyter-widgets/controls",
          "model_name": "DescriptionStyleModel",
          "model_module_version": "1.5.0",
          "state": {
            "_model_module": "@jupyter-widgets/controls",
            "_model_module_version": "1.5.0",
            "_model_name": "DescriptionStyleModel",
            "_view_count": null,
            "_view_module": "@jupyter-widgets/base",
            "_view_module_version": "1.2.0",
            "_view_name": "StyleView",
            "description_width": ""
          }
        },
        "ef3a67f80806419c9ff4ece35d1e63a1": {
          "model_module": "@jupyter-widgets/base",
          "model_name": "LayoutModel",
          "model_module_version": "1.2.0",
          "state": {
            "_model_module": "@jupyter-widgets/base",
            "_model_module_version": "1.2.0",
            "_model_name": "LayoutModel",
            "_view_count": null,
            "_view_module": "@jupyter-widgets/base",
            "_view_module_version": "1.2.0",
            "_view_name": "LayoutView",
            "align_content": null,
            "align_items": null,
            "align_self": null,
            "border": null,
            "bottom": null,
            "display": null,
            "flex": null,
            "flex_flow": null,
            "grid_area": null,
            "grid_auto_columns": null,
            "grid_auto_flow": null,
            "grid_auto_rows": null,
            "grid_column": null,
            "grid_gap": null,
            "grid_row": null,
            "grid_template_areas": null,
            "grid_template_columns": null,
            "grid_template_rows": null,
            "height": null,
            "justify_content": null,
            "justify_items": null,
            "left": null,
            "margin": null,
            "max_height": null,
            "max_width": null,
            "min_height": null,
            "min_width": null,
            "object_fit": null,
            "object_position": null,
            "order": null,
            "overflow": null,
            "overflow_x": null,
            "overflow_y": null,
            "padding": null,
            "right": null,
            "top": null,
            "visibility": null,
            "width": null
          }
        },
        "515b2446823147bf982ee51cd4f206d6": {
          "model_module": "@jupyter-widgets/controls",
          "model_name": "DescriptionStyleModel",
          "model_module_version": "1.5.0",
          "state": {
            "_model_module": "@jupyter-widgets/controls",
            "_model_module_version": "1.5.0",
            "_model_name": "DescriptionStyleModel",
            "_view_count": null,
            "_view_module": "@jupyter-widgets/base",
            "_view_module_version": "1.2.0",
            "_view_name": "StyleView",
            "description_width": ""
          }
        },
        "087e0fe11045424a82f4497071b89380": {
          "model_module": "@jupyter-widgets/controls",
          "model_name": "HTMLModel",
          "model_module_version": "1.5.0",
          "state": {
            "_dom_classes": [],
            "_model_module": "@jupyter-widgets/controls",
            "_model_module_version": "1.5.0",
            "_model_name": "HTMLModel",
            "_view_count": null,
            "_view_module": "@jupyter-widgets/controls",
            "_view_module_version": "1.5.0",
            "_view_name": "HTMLView",
            "description": "",
            "description_tooltip": null,
            "layout": "IPY_MODEL_760a21d92f9347e39712c1f23ae78bd7",
            "placeholder": "​",
            "style": "IPY_MODEL_74af9049783649659ca61e2a2b7feb72",
            "value": "model.safetensors: 100%"
          }
        },
        "08b6c27ae6a044959110164e0b2f8218": {
          "model_module": "@jupyter-widgets/controls",
          "model_name": "FloatProgressModel",
          "model_module_version": "1.5.0",
          "state": {
            "_dom_classes": [],
            "_model_module": "@jupyter-widgets/controls",
            "_model_module_version": "1.5.0",
            "_model_name": "FloatProgressModel",
            "_view_count": null,
            "_view_module": "@jupyter-widgets/controls",
            "_view_module_version": "1.5.0",
            "_view_name": "ProgressView",
            "bar_style": "success",
            "description": "",
            "description_tooltip": null,
            "layout": "IPY_MODEL_7532c8d1029540eaa6bbd3ce413769b2",
            "max": 1879014680,
            "min": 0,
            "orientation": "horizontal",
            "style": "IPY_MODEL_5fcd0b97707646f0afcafacef35051ad",
            "value": 1879014680
          }
        },
        "effdbf99b03f499eb55489f24fbead6d": {
          "model_module": "@jupyter-widgets/controls",
          "model_name": "HTMLModel",
          "model_module_version": "1.5.0",
          "state": {
            "_dom_classes": [],
            "_model_module": "@jupyter-widgets/controls",
            "_model_module_version": "1.5.0",
            "_model_name": "HTMLModel",
            "_view_count": null,
            "_view_module": "@jupyter-widgets/controls",
            "_view_module_version": "1.5.0",
            "_view_name": "HTMLView",
            "description": "",
            "description_tooltip": null,
            "layout": "IPY_MODEL_ef3a67f80806419c9ff4ece35d1e63a1",
            "placeholder": "​",
            "style": "IPY_MODEL_515b2446823147bf982ee51cd4f206d6",
            "value": " 1.88G/1.88G [00:07&lt;00:00, 242MB/s]"
          }
        },
        "8a04b7e13ebb4bac85c5b0211ac93930": {
          "model_module": "@jupyter-widgets/base",
          "model_name": "LayoutModel",
          "model_module_version": "1.2.0",
          "state": {
            "_model_module": "@jupyter-widgets/base",
            "_model_module_version": "1.2.0",
            "_model_name": "LayoutModel",
            "_view_count": null,
            "_view_module": "@jupyter-widgets/base",
            "_view_module_version": "1.2.0",
            "_view_name": "LayoutView",
            "align_content": null,
            "align_items": null,
            "align_self": null,
            "border": null,
            "bottom": null,
            "display": null,
            "flex": null,
            "flex_flow": null,
            "grid_area": null,
            "grid_auto_columns": null,
            "grid_auto_flow": null,
            "grid_auto_rows": null,
            "grid_column": null,
            "grid_gap": null,
            "grid_row": null,
            "grid_template_areas": null,
            "grid_template_columns": null,
            "grid_template_rows": null,
            "height": null,
            "justify_content": null,
            "justify_items": null,
            "left": null,
            "margin": null,
            "max_height": null,
            "max_width": null,
            "min_height": null,
            "min_width": null,
            "object_fit": null,
            "object_position": null,
            "order": null,
            "overflow": null,
            "overflow_x": null,
            "overflow_y": null,
            "padding": null,
            "right": null,
            "top": null,
            "visibility": null,
            "width": null
          }
        },
        "ed1dfd76b654499d9b7f79bc5cccf64f": {
          "model_module": "@jupyter-widgets/controls",
          "model_name": "HBoxModel",
          "model_module_version": "1.5.0",
          "state": {
            "_dom_classes": [],
            "_model_module": "@jupyter-widgets/controls",
            "_model_module_version": "1.5.0",
            "_model_name": "HBoxModel",
            "_view_count": null,
            "_view_module": "@jupyter-widgets/controls",
            "_view_module_version": "1.5.0",
            "_view_name": "HBoxView",
            "box_style": "",
            "children": [
              "IPY_MODEL_087e0fe11045424a82f4497071b89380",
              "IPY_MODEL_08b6c27ae6a044959110164e0b2f8218",
              "IPY_MODEL_effdbf99b03f499eb55489f24fbead6d"
            ],
            "layout": "IPY_MODEL_8a04b7e13ebb4bac85c5b0211ac93930"
          }
        },
        "af1f6fdf8b884ee0987794fdaf11b041": {
          "model_module": "@jupyter-widgets/controls",
          "model_name": "HBoxModel",
          "model_module_version": "1.5.0",
          "state": {
            "_dom_classes": [],
            "_model_module": "@jupyter-widgets/controls",
            "_model_module_version": "1.5.0",
            "_model_name": "HBoxModel",
            "_view_count": null,
            "_view_module": "@jupyter-widgets/controls",
            "_view_module_version": "1.5.0",
            "_view_name": "HBoxView",
            "box_style": "",
            "children": [
              "IPY_MODEL_1853f7b74e6842eebc35148b0eb39cb6",
              "IPY_MODEL_1df968244df0464db39ccd81411edf6b",
              "IPY_MODEL_d9491b0823c54a4e919fa0b4fe514e84"
            ],
            "layout": "IPY_MODEL_c193039b6fe74453a6c9a36cafe1211c"
          }
        },
        "1853f7b74e6842eebc35148b0eb39cb6": {
          "model_module": "@jupyter-widgets/controls",
          "model_name": "HTMLModel",
          "model_module_version": "1.5.0",
          "state": {
            "_dom_classes": [],
            "_model_module": "@jupyter-widgets/controls",
            "_model_module_version": "1.5.0",
            "_model_name": "HTMLModel",
            "_view_count": null,
            "_view_module": "@jupyter-widgets/controls",
            "_view_module_version": "1.5.0",
            "_view_name": "HTMLView",
            "description": "",
            "description_tooltip": null,
            "layout": "IPY_MODEL_acc39da43eaf4cca8fdc6cdddd806724",
            "placeholder": "​",
            "style": "IPY_MODEL_840337bfa17d4e5982e395643781eac9",
            "value": "Downloading artifacts: 100%"
          }
        },
        "1df968244df0464db39ccd81411edf6b": {
          "model_module": "@jupyter-widgets/controls",
          "model_name": "FloatProgressModel",
          "model_module_version": "1.5.0",
          "state": {
            "_dom_classes": [],
            "_model_module": "@jupyter-widgets/controls",
            "_model_module_version": "1.5.0",
            "_model_name": "FloatProgressModel",
            "_view_count": null,
            "_view_module": "@jupyter-widgets/controls",
            "_view_module_version": "1.5.0",
            "_view_name": "ProgressView",
            "bar_style": "success",
            "description": "",
            "description_tooltip": null,
            "layout": "IPY_MODEL_67e93148f5804f598a9a707b9591daab",
            "max": 8,
            "min": 0,
            "orientation": "horizontal",
            "style": "IPY_MODEL_1d2c5089e7e24a4a9804450681798530",
            "value": 8
          }
        },
        "d9491b0823c54a4e919fa0b4fe514e84": {
          "model_module": "@jupyter-widgets/controls",
          "model_name": "HTMLModel",
          "model_module_version": "1.5.0",
          "state": {
            "_dom_classes": [],
            "_model_module": "@jupyter-widgets/controls",
            "_model_module_version": "1.5.0",
            "_model_name": "HTMLModel",
            "_view_count": null,
            "_view_module": "@jupyter-widgets/controls",
            "_view_module_version": "1.5.0",
            "_view_name": "HTMLView",
            "description": "",
            "description_tooltip": null,
            "layout": "IPY_MODEL_d8729bddfa2a4a549d7dfb6cf9df4570",
            "placeholder": "​",
            "style": "IPY_MODEL_84397fd5af2447ec882ed39751779d7c",
            "value": " 8/8 [00:01&lt;00:00,  5.66it/s]"
          }
        },
        "c193039b6fe74453a6c9a36cafe1211c": {
          "model_module": "@jupyter-widgets/base",
          "model_name": "LayoutModel",
          "model_module_version": "1.2.0",
          "state": {
            "_model_module": "@jupyter-widgets/base",
            "_model_module_version": "1.2.0",
            "_model_name": "LayoutModel",
            "_view_count": null,
            "_view_module": "@jupyter-widgets/base",
            "_view_module_version": "1.2.0",
            "_view_name": "LayoutView",
            "align_content": null,
            "align_items": null,
            "align_self": null,
            "border": null,
            "bottom": null,
            "display": null,
            "flex": null,
            "flex_flow": null,
            "grid_area": null,
            "grid_auto_columns": null,
            "grid_auto_flow": null,
            "grid_auto_rows": null,
            "grid_column": null,
            "grid_gap": null,
            "grid_row": null,
            "grid_template_areas": null,
            "grid_template_columns": null,
            "grid_template_rows": null,
            "height": null,
            "justify_content": null,
            "justify_items": null,
            "left": null,
            "margin": null,
            "max_height": null,
            "max_width": null,
            "min_height": null,
            "min_width": null,
            "object_fit": null,
            "object_position": null,
            "order": null,
            "overflow": null,
            "overflow_x": null,
            "overflow_y": null,
            "padding": null,
            "right": null,
            "top": null,
            "visibility": null,
            "width": null
          }
        },
        "acc39da43eaf4cca8fdc6cdddd806724": {
          "model_module": "@jupyter-widgets/base",
          "model_name": "LayoutModel",
          "model_module_version": "1.2.0",
          "state": {
            "_model_module": "@jupyter-widgets/base",
            "_model_module_version": "1.2.0",
            "_model_name": "LayoutModel",
            "_view_count": null,
            "_view_module": "@jupyter-widgets/base",
            "_view_module_version": "1.2.0",
            "_view_name": "LayoutView",
            "align_content": null,
            "align_items": null,
            "align_self": null,
            "border": null,
            "bottom": null,
            "display": null,
            "flex": null,
            "flex_flow": null,
            "grid_area": null,
            "grid_auto_columns": null,
            "grid_auto_flow": null,
            "grid_auto_rows": null,
            "grid_column": null,
            "grid_gap": null,
            "grid_row": null,
            "grid_template_areas": null,
            "grid_template_columns": null,
            "grid_template_rows": null,
            "height": null,
            "justify_content": null,
            "justify_items": null,
            "left": null,
            "margin": null,
            "max_height": null,
            "max_width": null,
            "min_height": null,
            "min_width": null,
            "object_fit": null,
            "object_position": null,
            "order": null,
            "overflow": null,
            "overflow_x": null,
            "overflow_y": null,
            "padding": null,
            "right": null,
            "top": null,
            "visibility": null,
            "width": null
          }
        },
        "840337bfa17d4e5982e395643781eac9": {
          "model_module": "@jupyter-widgets/controls",
          "model_name": "DescriptionStyleModel",
          "model_module_version": "1.5.0",
          "state": {
            "_model_module": "@jupyter-widgets/controls",
            "_model_module_version": "1.5.0",
            "_model_name": "DescriptionStyleModel",
            "_view_count": null,
            "_view_module": "@jupyter-widgets/base",
            "_view_module_version": "1.2.0",
            "_view_name": "StyleView",
            "description_width": ""
          }
        },
        "67e93148f5804f598a9a707b9591daab": {
          "model_module": "@jupyter-widgets/base",
          "model_name": "LayoutModel",
          "model_module_version": "1.2.0",
          "state": {
            "_model_module": "@jupyter-widgets/base",
            "_model_module_version": "1.2.0",
            "_model_name": "LayoutModel",
            "_view_count": null,
            "_view_module": "@jupyter-widgets/base",
            "_view_module_version": "1.2.0",
            "_view_name": "LayoutView",
            "align_content": null,
            "align_items": null,
            "align_self": null,
            "border": null,
            "bottom": null,
            "display": null,
            "flex": null,
            "flex_flow": null,
            "grid_area": null,
            "grid_auto_columns": null,
            "grid_auto_flow": null,
            "grid_auto_rows": null,
            "grid_column": null,
            "grid_gap": null,
            "grid_row": null,
            "grid_template_areas": null,
            "grid_template_columns": null,
            "grid_template_rows": null,
            "height": null,
            "justify_content": null,
            "justify_items": null,
            "left": null,
            "margin": null,
            "max_height": null,
            "max_width": null,
            "min_height": null,
            "min_width": null,
            "object_fit": null,
            "object_position": null,
            "order": null,
            "overflow": null,
            "overflow_x": null,
            "overflow_y": null,
            "padding": null,
            "right": null,
            "top": null,
            "visibility": null,
            "width": null
          }
        },
        "1d2c5089e7e24a4a9804450681798530": {
          "model_module": "@jupyter-widgets/controls",
          "model_name": "ProgressStyleModel",
          "model_module_version": "1.5.0",
          "state": {
            "_model_module": "@jupyter-widgets/controls",
            "_model_module_version": "1.5.0",
            "_model_name": "ProgressStyleModel",
            "_view_count": null,
            "_view_module": "@jupyter-widgets/base",
            "_view_module_version": "1.2.0",
            "_view_name": "StyleView",
            "bar_color": null,
            "description_width": ""
          }
        },
        "d8729bddfa2a4a549d7dfb6cf9df4570": {
          "model_module": "@jupyter-widgets/base",
          "model_name": "LayoutModel",
          "model_module_version": "1.2.0",
          "state": {
            "_model_module": "@jupyter-widgets/base",
            "_model_module_version": "1.2.0",
            "_model_name": "LayoutModel",
            "_view_count": null,
            "_view_module": "@jupyter-widgets/base",
            "_view_module_version": "1.2.0",
            "_view_name": "LayoutView",
            "align_content": null,
            "align_items": null,
            "align_self": null,
            "border": null,
            "bottom": null,
            "display": null,
            "flex": null,
            "flex_flow": null,
            "grid_area": null,
            "grid_auto_columns": null,
            "grid_auto_flow": null,
            "grid_auto_rows": null,
            "grid_column": null,
            "grid_gap": null,
            "grid_row": null,
            "grid_template_areas": null,
            "grid_template_columns": null,
            "grid_template_rows": null,
            "height": null,
            "justify_content": null,
            "justify_items": null,
            "left": null,
            "margin": null,
            "max_height": null,
            "max_width": null,
            "min_height": null,
            "min_width": null,
            "object_fit": null,
            "object_position": null,
            "order": null,
            "overflow": null,
            "overflow_x": null,
            "overflow_y": null,
            "padding": null,
            "right": null,
            "top": null,
            "visibility": null,
            "width": null
          }
        },
        "84397fd5af2447ec882ed39751779d7c": {
          "model_module": "@jupyter-widgets/controls",
          "model_name": "DescriptionStyleModel",
          "model_module_version": "1.5.0",
          "state": {
            "_model_module": "@jupyter-widgets/controls",
            "_model_module_version": "1.5.0",
            "_model_name": "DescriptionStyleModel",
            "_view_count": null,
            "_view_module": "@jupyter-widgets/base",
            "_view_module_version": "1.2.0",
            "_view_name": "StyleView",
            "description_width": ""
          }
        },
        "e2e2396690484e0584062de4b4556bc6": {
          "model_module": "@jupyter-widgets/base",
          "model_name": "LayoutModel",
          "model_module_version": "1.2.0",
          "state": {
            "_model_module": "@jupyter-widgets/base",
            "_model_module_version": "1.2.0",
            "_model_name": "LayoutModel",
            "_view_count": null,
            "_view_module": "@jupyter-widgets/base",
            "_view_module_version": "1.2.0",
            "_view_name": "LayoutView",
            "align_content": null,
            "align_items": null,
            "align_self": null,
            "border": null,
            "bottom": null,
            "display": null,
            "flex": null,
            "flex_flow": null,
            "grid_area": null,
            "grid_auto_columns": null,
            "grid_auto_flow": null,
            "grid_auto_rows": null,
            "grid_column": null,
            "grid_gap": null,
            "grid_row": null,
            "grid_template_areas": null,
            "grid_template_columns": null,
            "grid_template_rows": null,
            "height": null,
            "justify_content": null,
            "justify_items": null,
            "left": null,
            "margin": null,
            "max_height": null,
            "max_width": null,
            "min_height": null,
            "min_width": null,
            "object_fit": null,
            "object_position": null,
            "order": null,
            "overflow": null,
            "overflow_x": null,
            "overflow_y": null,
            "padding": null,
            "right": null,
            "top": null,
            "visibility": null,
            "width": null
          }
        },
        "22b5873fb5c24240b448fb472f1bf9dd": {
          "model_module": "@jupyter-widgets/controls",
          "model_name": "ProgressStyleModel",
          "model_module_version": "1.5.0",
          "state": {
            "_model_module": "@jupyter-widgets/controls",
            "_model_module_version": "1.5.0",
            "_model_name": "ProgressStyleModel",
            "_view_count": null,
            "_view_module": "@jupyter-widgets/base",
            "_view_module_version": "1.2.0",
            "_view_name": "StyleView",
            "bar_color": null,
            "description_width": ""
          }
        },
        "3568b412487842db909b5450f2e3798b": {
          "model_module": "@jupyter-widgets/base",
          "model_name": "LayoutModel",
          "model_module_version": "1.2.0",
          "state": {
            "_model_module": "@jupyter-widgets/base",
            "_model_module_version": "1.2.0",
            "_model_name": "LayoutModel",
            "_view_count": null,
            "_view_module": "@jupyter-widgets/base",
            "_view_module_version": "1.2.0",
            "_view_name": "LayoutView",
            "align_content": null,
            "align_items": null,
            "align_self": null,
            "border": null,
            "bottom": null,
            "display": null,
            "flex": null,
            "flex_flow": null,
            "grid_area": null,
            "grid_auto_columns": null,
            "grid_auto_flow": null,
            "grid_auto_rows": null,
            "grid_column": null,
            "grid_gap": null,
            "grid_row": null,
            "grid_template_areas": null,
            "grid_template_columns": null,
            "grid_template_rows": null,
            "height": null,
            "justify_content": null,
            "justify_items": null,
            "left": null,
            "margin": null,
            "max_height": null,
            "max_width": null,
            "min_height": null,
            "min_width": null,
            "object_fit": null,
            "object_position": null,
            "order": null,
            "overflow": null,
            "overflow_x": null,
            "overflow_y": null,
            "padding": null,
            "right": null,
            "top": null,
            "visibility": null,
            "width": null
          }
        },
        "37c9610a543340ec956c9deeef6998da": {
          "model_module": "@jupyter-widgets/controls",
          "model_name": "DescriptionStyleModel",
          "model_module_version": "1.5.0",
          "state": {
            "_model_module": "@jupyter-widgets/controls",
            "_model_module_version": "1.5.0",
            "_model_name": "DescriptionStyleModel",
            "_view_count": null,
            "_view_module": "@jupyter-widgets/base",
            "_view_module_version": "1.2.0",
            "_view_name": "StyleView",
            "description_width": ""
          }
        },
        "488a3fa915a9473b84c0ffa894c7d29d": {
          "model_module": "@jupyter-widgets/base",
          "model_name": "LayoutModel",
          "model_module_version": "1.2.0",
          "state": {
            "_model_module": "@jupyter-widgets/base",
            "_model_module_version": "1.2.0",
            "_model_name": "LayoutModel",
            "_view_count": null,
            "_view_module": "@jupyter-widgets/base",
            "_view_module_version": "1.2.0",
            "_view_name": "LayoutView",
            "align_content": null,
            "align_items": null,
            "align_self": null,
            "border": null,
            "bottom": null,
            "display": null,
            "flex": null,
            "flex_flow": null,
            "grid_area": null,
            "grid_auto_columns": null,
            "grid_auto_flow": null,
            "grid_auto_rows": null,
            "grid_column": null,
            "grid_gap": null,
            "grid_row": null,
            "grid_template_areas": null,
            "grid_template_columns": null,
            "grid_template_rows": null,
            "height": null,
            "justify_content": null,
            "justify_items": null,
            "left": null,
            "margin": null,
            "max_height": null,
            "max_width": null,
            "min_height": null,
            "min_width": null,
            "object_fit": null,
            "object_position": null,
            "order": null,
            "overflow": null,
            "overflow_x": null,
            "overflow_y": null,
            "padding": null,
            "right": null,
            "top": null,
            "visibility": null,
            "width": null
          }
        },
        "1b872870b03d4779b58615929a58e548": {
          "model_module": "@jupyter-widgets/controls",
          "model_name": "DescriptionStyleModel",
          "model_module_version": "1.5.0",
          "state": {
            "_model_module": "@jupyter-widgets/controls",
            "_model_module_version": "1.5.0",
            "_model_name": "DescriptionStyleModel",
            "_view_count": null,
            "_view_module": "@jupyter-widgets/base",
            "_view_module_version": "1.2.0",
            "_view_name": "StyleView",
            "description_width": ""
          }
        },
        "09a8be2a5de946dabce0083f14342735": {
          "model_module": "@jupyter-widgets/controls",
          "model_name": "HTMLModel",
          "model_module_version": "1.5.0",
          "state": {
            "_dom_classes": [],
            "_model_module": "@jupyter-widgets/controls",
            "_model_module_version": "1.5.0",
            "_model_name": "HTMLModel",
            "_view_count": null,
            "_view_module": "@jupyter-widgets/controls",
            "_view_module_version": "1.5.0",
            "_view_name": "HTMLView",
            "description": "",
            "description_tooltip": null,
            "layout": "IPY_MODEL_3568b412487842db909b5450f2e3798b",
            "placeholder": "​",
            "style": "IPY_MODEL_37c9610a543340ec956c9deeef6998da",
            "value": "Uploading artifacts: 100%"
          }
        },
        "e4e3c74c27644959b1d96eeb30674f80": {
          "model_module": "@jupyter-widgets/controls",
          "model_name": "FloatProgressModel",
          "model_module_version": "1.5.0",
          "state": {
            "_dom_classes": [],
            "_model_module": "@jupyter-widgets/controls",
            "_model_module_version": "1.5.0",
            "_model_name": "FloatProgressModel",
            "_view_count": null,
            "_view_module": "@jupyter-widgets/controls",
            "_view_module_version": "1.5.0",
            "_view_name": "ProgressView",
            "bar_style": "success",
            "description": "",
            "description_tooltip": null,
            "layout": "IPY_MODEL_e2e2396690484e0584062de4b4556bc6",
            "max": 15,
            "min": 0,
            "orientation": "horizontal",
            "style": "IPY_MODEL_22b5873fb5c24240b448fb472f1bf9dd",
            "value": 15
          }
        },
        "a6a53c23d9874aeea52f6b2579a1d626": {
          "model_module": "@jupyter-widgets/controls",
          "model_name": "HTMLModel",
          "model_module_version": "1.5.0",
          "state": {
            "_dom_classes": [],
            "_model_module": "@jupyter-widgets/controls",
            "_model_module_version": "1.5.0",
            "_model_name": "HTMLModel",
            "_view_count": null,
            "_view_module": "@jupyter-widgets/controls",
            "_view_module_version": "1.5.0",
            "_view_name": "HTMLView",
            "description": "",
            "description_tooltip": null,
            "layout": "IPY_MODEL_488a3fa915a9473b84c0ffa894c7d29d",
            "placeholder": "​",
            "style": "IPY_MODEL_1b872870b03d4779b58615929a58e548",
            "value": " 15/15 [00:16&lt;00:00,  1.85s/it]"
          }
        },
        "c59c0408622747b9b1d8d156ffc309c3": {
          "model_module": "@jupyter-widgets/base",
          "model_name": "LayoutModel",
          "model_module_version": "1.2.0",
          "state": {
            "_model_module": "@jupyter-widgets/base",
            "_model_module_version": "1.2.0",
            "_model_name": "LayoutModel",
            "_view_count": null,
            "_view_module": "@jupyter-widgets/base",
            "_view_module_version": "1.2.0",
            "_view_name": "LayoutView",
            "align_content": null,
            "align_items": null,
            "align_self": null,
            "border": null,
            "bottom": null,
            "display": null,
            "flex": null,
            "flex_flow": null,
            "grid_area": null,
            "grid_auto_columns": null,
            "grid_auto_flow": null,
            "grid_auto_rows": null,
            "grid_column": null,
            "grid_gap": null,
            "grid_row": null,
            "grid_template_areas": null,
            "grid_template_columns": null,
            "grid_template_rows": null,
            "height": null,
            "justify_content": null,
            "justify_items": null,
            "left": null,
            "margin": null,
            "max_height": null,
            "max_width": null,
            "min_height": null,
            "min_width": null,
            "object_fit": null,
            "object_position": null,
            "order": null,
            "overflow": null,
            "overflow_x": null,
            "overflow_y": null,
            "padding": null,
            "right": null,
            "top": null,
            "visibility": null,
            "width": null
          }
        },
        "e671ac28db0e473b9879100590bc5b67": {
          "model_module": "@jupyter-widgets/controls",
          "model_name": "HBoxModel",
          "model_module_version": "1.5.0",
          "state": {
            "_dom_classes": [],
            "_model_module": "@jupyter-widgets/controls",
            "_model_module_version": "1.5.0",
            "_model_name": "HBoxModel",
            "_view_count": null,
            "_view_module": "@jupyter-widgets/controls",
            "_view_module_version": "1.5.0",
            "_view_name": "HBoxView",
            "box_style": "",
            "children": [
              "IPY_MODEL_09a8be2a5de946dabce0083f14342735",
              "IPY_MODEL_e4e3c74c27644959b1d96eeb30674f80",
              "IPY_MODEL_a6a53c23d9874aeea52f6b2579a1d626"
            ],
            "layout": "IPY_MODEL_c59c0408622747b9b1d8d156ffc309c3"
          }
        },
        "65ecf5cf6e8240c58f671a386162d600": {
          "model_module": "@jupyter-widgets/base",
          "model_name": "LayoutModel",
          "model_module_version": "1.2.0",
          "state": {
            "_model_module": "@jupyter-widgets/base",
            "_model_module_version": "1.2.0",
            "_model_name": "LayoutModel",
            "_view_count": null,
            "_view_module": "@jupyter-widgets/base",
            "_view_module_version": "1.2.0",
            "_view_name": "LayoutView",
            "align_content": null,
            "align_items": null,
            "align_self": null,
            "border": null,
            "bottom": null,
            "display": null,
            "flex": null,
            "flex_flow": null,
            "grid_area": null,
            "grid_auto_columns": null,
            "grid_auto_flow": null,
            "grid_auto_rows": null,
            "grid_column": null,
            "grid_gap": null,
            "grid_row": null,
            "grid_template_areas": null,
            "grid_template_columns": null,
            "grid_template_rows": null,
            "height": null,
            "justify_content": null,
            "justify_items": null,
            "left": null,
            "margin": null,
            "max_height": null,
            "max_width": null,
            "min_height": null,
            "min_width": null,
            "object_fit": null,
            "object_position": null,
            "order": null,
            "overflow": null,
            "overflow_x": null,
            "overflow_y": null,
            "padding": null,
            "right": null,
            "top": null,
            "visibility": null,
            "width": null
          }
        },
        "ec70a84ebeb440508c22af1be257ef2d": {
          "model_module": "@jupyter-widgets/controls",
          "model_name": "ProgressStyleModel",
          "model_module_version": "1.5.0",
          "state": {
            "_model_module": "@jupyter-widgets/controls",
            "_model_module_version": "1.5.0",
            "_model_name": "ProgressStyleModel",
            "_view_count": null,
            "_view_module": "@jupyter-widgets/base",
            "_view_module_version": "1.2.0",
            "_view_name": "StyleView",
            "bar_color": null,
            "description_width": ""
          }
        },
        "6a312ae055a34ebc9c24060485acd5e1": {
          "model_module": "@jupyter-widgets/base",
          "model_name": "LayoutModel",
          "model_module_version": "1.2.0",
          "state": {
            "_model_module": "@jupyter-widgets/base",
            "_model_module_version": "1.2.0",
            "_model_name": "LayoutModel",
            "_view_count": null,
            "_view_module": "@jupyter-widgets/base",
            "_view_module_version": "1.2.0",
            "_view_name": "LayoutView",
            "align_content": null,
            "align_items": null,
            "align_self": null,
            "border": null,
            "bottom": null,
            "display": null,
            "flex": null,
            "flex_flow": null,
            "grid_area": null,
            "grid_auto_columns": null,
            "grid_auto_flow": null,
            "grid_auto_rows": null,
            "grid_column": null,
            "grid_gap": null,
            "grid_row": null,
            "grid_template_areas": null,
            "grid_template_columns": null,
            "grid_template_rows": null,
            "height": null,
            "justify_content": null,
            "justify_items": null,
            "left": null,
            "margin": null,
            "max_height": null,
            "max_width": null,
            "min_height": null,
            "min_width": null,
            "object_fit": null,
            "object_position": null,
            "order": null,
            "overflow": null,
            "overflow_x": null,
            "overflow_y": null,
            "padding": null,
            "right": null,
            "top": null,
            "visibility": null,
            "width": null
          }
        },
        "1a1c9eda86be4f4881251b8638d9b90f": {
          "model_module": "@jupyter-widgets/controls",
          "model_name": "DescriptionStyleModel",
          "model_module_version": "1.5.0",
          "state": {
            "_model_module": "@jupyter-widgets/controls",
            "_model_module_version": "1.5.0",
            "_model_name": "DescriptionStyleModel",
            "_view_count": null,
            "_view_module": "@jupyter-widgets/base",
            "_view_module_version": "1.2.0",
            "_view_name": "StyleView",
            "description_width": ""
          }
        },
        "408df2bde4f04359bfebed3915767349": {
          "model_module": "@jupyter-widgets/base",
          "model_name": "LayoutModel",
          "model_module_version": "1.2.0",
          "state": {
            "_model_module": "@jupyter-widgets/base",
            "_model_module_version": "1.2.0",
            "_model_name": "LayoutModel",
            "_view_count": null,
            "_view_module": "@jupyter-widgets/base",
            "_view_module_version": "1.2.0",
            "_view_name": "LayoutView",
            "align_content": null,
            "align_items": null,
            "align_self": null,
            "border": null,
            "bottom": null,
            "display": null,
            "flex": null,
            "flex_flow": null,
            "grid_area": null,
            "grid_auto_columns": null,
            "grid_auto_flow": null,
            "grid_auto_rows": null,
            "grid_column": null,
            "grid_gap": null,
            "grid_row": null,
            "grid_template_areas": null,
            "grid_template_columns": null,
            "grid_template_rows": null,
            "height": null,
            "justify_content": null,
            "justify_items": null,
            "left": null,
            "margin": null,
            "max_height": null,
            "max_width": null,
            "min_height": null,
            "min_width": null,
            "object_fit": null,
            "object_position": null,
            "order": null,
            "overflow": null,
            "overflow_x": null,
            "overflow_y": null,
            "padding": null,
            "right": null,
            "top": null,
            "visibility": null,
            "width": null
          }
        },
        "7dd6627b8162420e89bd4d6203c63231": {
          "model_module": "@jupyter-widgets/controls",
          "model_name": "DescriptionStyleModel",
          "model_module_version": "1.5.0",
          "state": {
            "_model_module": "@jupyter-widgets/controls",
            "_model_module_version": "1.5.0",
            "_model_name": "DescriptionStyleModel",
            "_view_count": null,
            "_view_module": "@jupyter-widgets/base",
            "_view_module_version": "1.2.0",
            "_view_name": "StyleView",
            "description_width": ""
          }
        },
        "f60e3cb711924e54ae12595495321a7d": {
          "model_module": "@jupyter-widgets/controls",
          "model_name": "HTMLModel",
          "model_module_version": "1.5.0",
          "state": {
            "_dom_classes": [],
            "_model_module": "@jupyter-widgets/controls",
            "_model_module_version": "1.5.0",
            "_model_name": "HTMLModel",
            "_view_count": null,
            "_view_module": "@jupyter-widgets/controls",
            "_view_module_version": "1.5.0",
            "_view_name": "HTMLView",
            "description": "",
            "description_tooltip": null,
            "layout": "IPY_MODEL_6a312ae055a34ebc9c24060485acd5e1",
            "placeholder": "​",
            "style": "IPY_MODEL_1a1c9eda86be4f4881251b8638d9b90f",
            "value": "Uploading /tmp/tmpisttgo7e/model/artifacts/blip_pytorch/model.safetensors: 100%"
          }
        },
        "d314f1b569de481bb111d953ab68501b": {
          "model_module": "@jupyter-widgets/controls",
          "model_name": "FloatProgressModel",
          "model_module_version": "1.5.0",
          "state": {
            "_dom_classes": [],
            "_model_module": "@jupyter-widgets/controls",
            "_model_module_version": "1.5.0",
            "_model_name": "FloatProgressModel",
            "_view_count": null,
            "_view_module": "@jupyter-widgets/controls",
            "_view_module_version": "1.5.0",
            "_view_name": "ProgressView",
            "bar_style": "success",
            "description": "",
            "description_tooltip": null,
            "layout": "IPY_MODEL_65ecf5cf6e8240c58f671a386162d600",
            "max": 939544072,
            "min": 0,
            "orientation": "horizontal",
            "style": "IPY_MODEL_ec70a84ebeb440508c22af1be257ef2d",
            "value": 939544072
          }
        },
        "ccb5ddb7844c4c279f042a41a7d3f3e0": {
          "model_module": "@jupyter-widgets/controls",
          "model_name": "HTMLModel",
          "model_module_version": "1.5.0",
          "state": {
            "_dom_classes": [],
            "_model_module": "@jupyter-widgets/controls",
            "_model_module_version": "1.5.0",
            "_model_name": "HTMLModel",
            "_view_count": null,
            "_view_module": "@jupyter-widgets/controls",
            "_view_module_version": "1.5.0",
            "_view_name": "HTMLView",
            "description": "",
            "description_tooltip": null,
            "layout": "IPY_MODEL_408df2bde4f04359bfebed3915767349",
            "placeholder": "​",
            "style": "IPY_MODEL_7dd6627b8162420e89bd4d6203c63231",
            "value": " 896M/896M [00:13&lt;00:00, 18.5MiB/s]"
          }
        },
        "0f55527a2dda456f857d1e6e4a82ca88": {
          "model_module": "@jupyter-widgets/base",
          "model_name": "LayoutModel",
          "model_module_version": "1.2.0",
          "state": {
            "_model_module": "@jupyter-widgets/base",
            "_model_module_version": "1.2.0",
            "_model_name": "LayoutModel",
            "_view_count": null,
            "_view_module": "@jupyter-widgets/base",
            "_view_module_version": "1.2.0",
            "_view_name": "LayoutView",
            "align_content": null,
            "align_items": null,
            "align_self": null,
            "border": null,
            "bottom": null,
            "display": null,
            "flex": null,
            "flex_flow": null,
            "grid_area": null,
            "grid_auto_columns": null,
            "grid_auto_flow": null,
            "grid_auto_rows": null,
            "grid_column": null,
            "grid_gap": null,
            "grid_row": null,
            "grid_template_areas": null,
            "grid_template_columns": null,
            "grid_template_rows": null,
            "height": null,
            "justify_content": null,
            "justify_items": null,
            "left": null,
            "margin": null,
            "max_height": null,
            "max_width": null,
            "min_height": null,
            "min_width": null,
            "object_fit": null,
            "object_position": null,
            "order": null,
            "overflow": null,
            "overflow_x": null,
            "overflow_y": null,
            "padding": null,
            "right": null,
            "top": null,
            "visibility": null,
            "width": null
          }
        },
        "14bf3abc33984c6cb8ed1a0b4d0c4160": {
          "model_module": "@jupyter-widgets/controls",
          "model_name": "HBoxModel",
          "model_module_version": "1.5.0",
          "state": {
            "_dom_classes": [],
            "_model_module": "@jupyter-widgets/controls",
            "_model_module_version": "1.5.0",
            "_model_name": "HBoxModel",
            "_view_count": null,
            "_view_module": "@jupyter-widgets/controls",
            "_view_module_version": "1.5.0",
            "_view_name": "HBoxView",
            "box_style": "",
            "children": [
              "IPY_MODEL_f60e3cb711924e54ae12595495321a7d",
              "IPY_MODEL_d314f1b569de481bb111d953ab68501b",
              "IPY_MODEL_ccb5ddb7844c4c279f042a41a7d3f3e0"
            ],
            "layout": "IPY_MODEL_0f55527a2dda456f857d1e6e4a82ca88"
          }
        },
        "4c85a5ba442242a4ad272249384661d3": {
          "model_module": "@jupyter-widgets/controls",
          "model_name": "HBoxModel",
          "model_module_version": "1.5.0",
          "state": {
            "_dom_classes": [],
            "_model_module": "@jupyter-widgets/controls",
            "_model_module_version": "1.5.0",
            "_model_name": "HBoxModel",
            "_view_count": null,
            "_view_module": "@jupyter-widgets/controls",
            "_view_module_version": "1.5.0",
            "_view_name": "HBoxView",
            "box_style": "",
            "children": [
              "IPY_MODEL_520579341b0f4f3da5c7dedab6a7f1aa",
              "IPY_MODEL_96d3d7dc64af4d86aab681b122b59e63",
              "IPY_MODEL_173420f8ebe24e46acc06d97ceeab0c2"
            ],
            "layout": "IPY_MODEL_8e24c77b48164802bb4ba0dec19b4aca"
          }
        },
        "520579341b0f4f3da5c7dedab6a7f1aa": {
          "model_module": "@jupyter-widgets/controls",
          "model_name": "HTMLModel",
          "model_module_version": "1.5.0",
          "state": {
            "_dom_classes": [],
            "_model_module": "@jupyter-widgets/controls",
            "_model_module_version": "1.5.0",
            "_model_name": "HTMLModel",
            "_view_count": null,
            "_view_module": "@jupyter-widgets/controls",
            "_view_module_version": "1.5.0",
            "_view_name": "HTMLView",
            "description": "",
            "description_tooltip": null,
            "layout": "IPY_MODEL_4cecdbf4bf214f5f8d43702f72819a28",
            "placeholder": "​",
            "style": "IPY_MODEL_a66b1115cb2a450f90084b1c4739db14",
            "value": "Downloading artifacts: 100%"
          }
        },
        "96d3d7dc64af4d86aab681b122b59e63": {
          "model_module": "@jupyter-widgets/controls",
          "model_name": "FloatProgressModel",
          "model_module_version": "1.5.0",
          "state": {
            "_dom_classes": [],
            "_model_module": "@jupyter-widgets/controls",
            "_model_module_version": "1.5.0",
            "_model_name": "FloatProgressModel",
            "_view_count": null,
            "_view_module": "@jupyter-widgets/controls",
            "_view_module_version": "1.5.0",
            "_view_name": "ProgressView",
            "bar_style": "success",
            "description": "",
            "description_tooltip": null,
            "layout": "IPY_MODEL_3396acb86ea141659e8407f39164be1f",
            "max": 15,
            "min": 0,
            "orientation": "horizontal",
            "style": "IPY_MODEL_7033adba4e0e4494b07b35c55a217dbc",
            "value": 15
          }
        },
        "173420f8ebe24e46acc06d97ceeab0c2": {
          "model_module": "@jupyter-widgets/controls",
          "model_name": "HTMLModel",
          "model_module_version": "1.5.0",
          "state": {
            "_dom_classes": [],
            "_model_module": "@jupyter-widgets/controls",
            "_model_module_version": "1.5.0",
            "_model_name": "HTMLModel",
            "_view_count": null,
            "_view_module": "@jupyter-widgets/controls",
            "_view_module_version": "1.5.0",
            "_view_name": "HTMLView",
            "description": "",
            "description_tooltip": null,
            "layout": "IPY_MODEL_7de8bf371fff43d9af057d3588c83eb8",
            "placeholder": "​",
            "style": "IPY_MODEL_fb2deb9e3b8644dc861326f5c454859c",
            "value": " 15/15 [00:33&lt;00:00,  4.71s/it]"
          }
        },
        "8e24c77b48164802bb4ba0dec19b4aca": {
          "model_module": "@jupyter-widgets/base",
          "model_name": "LayoutModel",
          "model_module_version": "1.2.0",
          "state": {
            "_model_module": "@jupyter-widgets/base",
            "_model_module_version": "1.2.0",
            "_model_name": "LayoutModel",
            "_view_count": null,
            "_view_module": "@jupyter-widgets/base",
            "_view_module_version": "1.2.0",
            "_view_name": "LayoutView",
            "align_content": null,
            "align_items": null,
            "align_self": null,
            "border": null,
            "bottom": null,
            "display": null,
            "flex": null,
            "flex_flow": null,
            "grid_area": null,
            "grid_auto_columns": null,
            "grid_auto_flow": null,
            "grid_auto_rows": null,
            "grid_column": null,
            "grid_gap": null,
            "grid_row": null,
            "grid_template_areas": null,
            "grid_template_columns": null,
            "grid_template_rows": null,
            "height": null,
            "justify_content": null,
            "justify_items": null,
            "left": null,
            "margin": null,
            "max_height": null,
            "max_width": null,
            "min_height": null,
            "min_width": null,
            "object_fit": null,
            "object_position": null,
            "order": null,
            "overflow": null,
            "overflow_x": null,
            "overflow_y": null,
            "padding": null,
            "right": null,
            "top": null,
            "visibility": null,
            "width": null
          }
        },
        "4cecdbf4bf214f5f8d43702f72819a28": {
          "model_module": "@jupyter-widgets/base",
          "model_name": "LayoutModel",
          "model_module_version": "1.2.0",
          "state": {
            "_model_module": "@jupyter-widgets/base",
            "_model_module_version": "1.2.0",
            "_model_name": "LayoutModel",
            "_view_count": null,
            "_view_module": "@jupyter-widgets/base",
            "_view_module_version": "1.2.0",
            "_view_name": "LayoutView",
            "align_content": null,
            "align_items": null,
            "align_self": null,
            "border": null,
            "bottom": null,
            "display": null,
            "flex": null,
            "flex_flow": null,
            "grid_area": null,
            "grid_auto_columns": null,
            "grid_auto_flow": null,
            "grid_auto_rows": null,
            "grid_column": null,
            "grid_gap": null,
            "grid_row": null,
            "grid_template_areas": null,
            "grid_template_columns": null,
            "grid_template_rows": null,
            "height": null,
            "justify_content": null,
            "justify_items": null,
            "left": null,
            "margin": null,
            "max_height": null,
            "max_width": null,
            "min_height": null,
            "min_width": null,
            "object_fit": null,
            "object_position": null,
            "order": null,
            "overflow": null,
            "overflow_x": null,
            "overflow_y": null,
            "padding": null,
            "right": null,
            "top": null,
            "visibility": null,
            "width": null
          }
        },
        "a66b1115cb2a450f90084b1c4739db14": {
          "model_module": "@jupyter-widgets/controls",
          "model_name": "DescriptionStyleModel",
          "model_module_version": "1.5.0",
          "state": {
            "_model_module": "@jupyter-widgets/controls",
            "_model_module_version": "1.5.0",
            "_model_name": "DescriptionStyleModel",
            "_view_count": null,
            "_view_module": "@jupyter-widgets/base",
            "_view_module_version": "1.2.0",
            "_view_name": "StyleView",
            "description_width": ""
          }
        },
        "3396acb86ea141659e8407f39164be1f": {
          "model_module": "@jupyter-widgets/base",
          "model_name": "LayoutModel",
          "model_module_version": "1.2.0",
          "state": {
            "_model_module": "@jupyter-widgets/base",
            "_model_module_version": "1.2.0",
            "_model_name": "LayoutModel",
            "_view_count": null,
            "_view_module": "@jupyter-widgets/base",
            "_view_module_version": "1.2.0",
            "_view_name": "LayoutView",
            "align_content": null,
            "align_items": null,
            "align_self": null,
            "border": null,
            "bottom": null,
            "display": null,
            "flex": null,
            "flex_flow": null,
            "grid_area": null,
            "grid_auto_columns": null,
            "grid_auto_flow": null,
            "grid_auto_rows": null,
            "grid_column": null,
            "grid_gap": null,
            "grid_row": null,
            "grid_template_areas": null,
            "grid_template_columns": null,
            "grid_template_rows": null,
            "height": null,
            "justify_content": null,
            "justify_items": null,
            "left": null,
            "margin": null,
            "max_height": null,
            "max_width": null,
            "min_height": null,
            "min_width": null,
            "object_fit": null,
            "object_position": null,
            "order": null,
            "overflow": null,
            "overflow_x": null,
            "overflow_y": null,
            "padding": null,
            "right": null,
            "top": null,
            "visibility": null,
            "width": null
          }
        },
        "7033adba4e0e4494b07b35c55a217dbc": {
          "model_module": "@jupyter-widgets/controls",
          "model_name": "ProgressStyleModel",
          "model_module_version": "1.5.0",
          "state": {
            "_model_module": "@jupyter-widgets/controls",
            "_model_module_version": "1.5.0",
            "_model_name": "ProgressStyleModel",
            "_view_count": null,
            "_view_module": "@jupyter-widgets/base",
            "_view_module_version": "1.2.0",
            "_view_name": "StyleView",
            "bar_color": null,
            "description_width": ""
          }
        },
        "7de8bf371fff43d9af057d3588c83eb8": {
          "model_module": "@jupyter-widgets/base",
          "model_name": "LayoutModel",
          "model_module_version": "1.2.0",
          "state": {
            "_model_module": "@jupyter-widgets/base",
            "_model_module_version": "1.2.0",
            "_model_name": "LayoutModel",
            "_view_count": null,
            "_view_module": "@jupyter-widgets/base",
            "_view_module_version": "1.2.0",
            "_view_name": "LayoutView",
            "align_content": null,
            "align_items": null,
            "align_self": null,
            "border": null,
            "bottom": null,
            "display": null,
            "flex": null,
            "flex_flow": null,
            "grid_area": null,
            "grid_auto_columns": null,
            "grid_auto_flow": null,
            "grid_auto_rows": null,
            "grid_column": null,
            "grid_gap": null,
            "grid_row": null,
            "grid_template_areas": null,
            "grid_template_columns": null,
            "grid_template_rows": null,
            "height": null,
            "justify_content": null,
            "justify_items": null,
            "left": null,
            "margin": null,
            "max_height": null,
            "max_width": null,
            "min_height": null,
            "min_width": null,
            "object_fit": null,
            "object_position": null,
            "order": null,
            "overflow": null,
            "overflow_x": null,
            "overflow_y": null,
            "padding": null,
            "right": null,
            "top": null,
            "visibility": null,
            "width": null
          }
        },
        "fb2deb9e3b8644dc861326f5c454859c": {
          "model_module": "@jupyter-widgets/controls",
          "model_name": "DescriptionStyleModel",
          "model_module_version": "1.5.0",
          "state": {
            "_model_module": "@jupyter-widgets/controls",
            "_model_module_version": "1.5.0",
            "_model_name": "DescriptionStyleModel",
            "_view_count": null,
            "_view_module": "@jupyter-widgets/base",
            "_view_module_version": "1.2.0",
            "_view_name": "StyleView",
            "description_width": ""
          }
        },
        "50cbdaf113214a69821405ac8997cb44": {
          "model_module": "@jupyter-widgets/base",
          "model_name": "LayoutModel",
          "model_module_version": "1.2.0",
          "state": {
            "_model_module": "@jupyter-widgets/base",
            "_model_module_version": "1.2.0",
            "_model_name": "LayoutModel",
            "_view_count": null,
            "_view_module": "@jupyter-widgets/base",
            "_view_module_version": "1.2.0",
            "_view_name": "LayoutView",
            "align_content": null,
            "align_items": null,
            "align_self": null,
            "border": null,
            "bottom": null,
            "display": null,
            "flex": null,
            "flex_flow": null,
            "grid_area": null,
            "grid_auto_columns": null,
            "grid_auto_flow": null,
            "grid_auto_rows": null,
            "grid_column": null,
            "grid_gap": null,
            "grid_row": null,
            "grid_template_areas": null,
            "grid_template_columns": null,
            "grid_template_rows": null,
            "height": null,
            "justify_content": null,
            "justify_items": null,
            "left": null,
            "margin": null,
            "max_height": null,
            "max_width": null,
            "min_height": null,
            "min_width": null,
            "object_fit": null,
            "object_position": null,
            "order": null,
            "overflow": null,
            "overflow_x": null,
            "overflow_y": null,
            "padding": null,
            "right": null,
            "top": null,
            "visibility": null,
            "width": null
          }
        },
        "e013bfce63394e7291626a7fa06a2ad0": {
          "model_module": "@jupyter-widgets/controls",
          "model_name": "ProgressStyleModel",
          "model_module_version": "1.5.0",
          "state": {
            "_model_module": "@jupyter-widgets/controls",
            "_model_module_version": "1.5.0",
            "_model_name": "ProgressStyleModel",
            "_view_count": null,
            "_view_module": "@jupyter-widgets/base",
            "_view_module_version": "1.2.0",
            "_view_name": "StyleView",
            "bar_color": null,
            "description_width": ""
          }
        },
        "c86ac8c8674e4e5d9f393763e70e5bc2": {
          "model_module": "@jupyter-widgets/base",
          "model_name": "LayoutModel",
          "model_module_version": "1.2.0",
          "state": {
            "_model_module": "@jupyter-widgets/base",
            "_model_module_version": "1.2.0",
            "_model_name": "LayoutModel",
            "_view_count": null,
            "_view_module": "@jupyter-widgets/base",
            "_view_module_version": "1.2.0",
            "_view_name": "LayoutView",
            "align_content": null,
            "align_items": null,
            "align_self": null,
            "border": null,
            "bottom": null,
            "display": null,
            "flex": null,
            "flex_flow": null,
            "grid_area": null,
            "grid_auto_columns": null,
            "grid_auto_flow": null,
            "grid_auto_rows": null,
            "grid_column": null,
            "grid_gap": null,
            "grid_row": null,
            "grid_template_areas": null,
            "grid_template_columns": null,
            "grid_template_rows": null,
            "height": null,
            "justify_content": null,
            "justify_items": null,
            "left": null,
            "margin": null,
            "max_height": null,
            "max_width": null,
            "min_height": null,
            "min_width": null,
            "object_fit": null,
            "object_position": null,
            "order": null,
            "overflow": null,
            "overflow_x": null,
            "overflow_y": null,
            "padding": null,
            "right": null,
            "top": null,
            "visibility": null,
            "width": null
          }
        },
        "7c131cb608ab4255bcdc98076110beb1": {
          "model_module": "@jupyter-widgets/controls",
          "model_name": "DescriptionStyleModel",
          "model_module_version": "1.5.0",
          "state": {
            "_model_module": "@jupyter-widgets/controls",
            "_model_module_version": "1.5.0",
            "_model_name": "DescriptionStyleModel",
            "_view_count": null,
            "_view_module": "@jupyter-widgets/base",
            "_view_module_version": "1.2.0",
            "_view_name": "StyleView",
            "description_width": ""
          }
        },
        "a5dfb991a69b4605a62d412af9d3d0ab": {
          "model_module": "@jupyter-widgets/base",
          "model_name": "LayoutModel",
          "model_module_version": "1.2.0",
          "state": {
            "_model_module": "@jupyter-widgets/base",
            "_model_module_version": "1.2.0",
            "_model_name": "LayoutModel",
            "_view_count": null,
            "_view_module": "@jupyter-widgets/base",
            "_view_module_version": "1.2.0",
            "_view_name": "LayoutView",
            "align_content": null,
            "align_items": null,
            "align_self": null,
            "border": null,
            "bottom": null,
            "display": null,
            "flex": null,
            "flex_flow": null,
            "grid_area": null,
            "grid_auto_columns": null,
            "grid_auto_flow": null,
            "grid_auto_rows": null,
            "grid_column": null,
            "grid_gap": null,
            "grid_row": null,
            "grid_template_areas": null,
            "grid_template_columns": null,
            "grid_template_rows": null,
            "height": null,
            "justify_content": null,
            "justify_items": null,
            "left": null,
            "margin": null,
            "max_height": null,
            "max_width": null,
            "min_height": null,
            "min_width": null,
            "object_fit": null,
            "object_position": null,
            "order": null,
            "overflow": null,
            "overflow_x": null,
            "overflow_y": null,
            "padding": null,
            "right": null,
            "top": null,
            "visibility": null,
            "width": null
          }
        },
        "1c33f0b9dc164868a76da49c69c3c75f": {
          "model_module": "@jupyter-widgets/controls",
          "model_name": "DescriptionStyleModel",
          "model_module_version": "1.5.0",
          "state": {
            "_model_module": "@jupyter-widgets/controls",
            "_model_module_version": "1.5.0",
            "_model_name": "DescriptionStyleModel",
            "_view_count": null,
            "_view_module": "@jupyter-widgets/base",
            "_view_module_version": "1.2.0",
            "_view_name": "StyleView",
            "description_width": ""
          }
        },
        "45282f0c03574bdca25c693157a642f8": {
          "model_module": "@jupyter-widgets/controls",
          "model_name": "HTMLModel",
          "model_module_version": "1.5.0",
          "state": {
            "_dom_classes": [],
            "_model_module": "@jupyter-widgets/controls",
            "_model_module_version": "1.5.0",
            "_model_name": "HTMLModel",
            "_view_count": null,
            "_view_module": "@jupyter-widgets/controls",
            "_view_module_version": "1.5.0",
            "_view_name": "HTMLView",
            "description": "",
            "description_tooltip": null,
            "layout": "IPY_MODEL_c86ac8c8674e4e5d9f393763e70e5bc2",
            "placeholder": "​",
            "style": "IPY_MODEL_7c131cb608ab4255bcdc98076110beb1",
            "value": "Downloading /tmp/tmptw0fhltu/captioner/artifacts/blip_pytorch/model.safetensors: 100%"
          }
        },
        "03ac417ffa2741a8a2835240cc804e41": {
          "model_module": "@jupyter-widgets/controls",
          "model_name": "FloatProgressModel",
          "model_module_version": "1.5.0",
          "state": {
            "_dom_classes": [],
            "_model_module": "@jupyter-widgets/controls",
            "_model_module_version": "1.5.0",
            "_model_name": "FloatProgressModel",
            "_view_count": null,
            "_view_module": "@jupyter-widgets/controls",
            "_view_module_version": "1.5.0",
            "_view_name": "ProgressView",
            "bar_style": "success",
            "description": "",
            "description_tooltip": null,
            "layout": "IPY_MODEL_50cbdaf113214a69821405ac8997cb44",
            "max": 939544072,
            "min": 0,
            "orientation": "horizontal",
            "style": "IPY_MODEL_e013bfce63394e7291626a7fa06a2ad0",
            "value": 939544072
          }
        },
        "9c0d503307654c08af28acb0529f6a1a": {
          "model_module": "@jupyter-widgets/controls",
          "model_name": "HTMLModel",
          "model_module_version": "1.5.0",
          "state": {
            "_dom_classes": [],
            "_model_module": "@jupyter-widgets/controls",
            "_model_module_version": "1.5.0",
            "_model_name": "HTMLModel",
            "_view_count": null,
            "_view_module": "@jupyter-widgets/controls",
            "_view_module_version": "1.5.0",
            "_view_name": "HTMLView",
            "description": "",
            "description_tooltip": null,
            "layout": "IPY_MODEL_a5dfb991a69b4605a62d412af9d3d0ab",
            "placeholder": "​",
            "style": "IPY_MODEL_1c33f0b9dc164868a76da49c69c3c75f",
            "value": " 896M/896M [00:31&lt;00:00, 85.5MiB/s]"
          }
        },
        "41d21711ff3d43de8389e4eded694031": {
          "model_module": "@jupyter-widgets/base",
          "model_name": "LayoutModel",
          "model_module_version": "1.2.0",
          "state": {
            "_model_module": "@jupyter-widgets/base",
            "_model_module_version": "1.2.0",
            "_model_name": "LayoutModel",
            "_view_count": null,
            "_view_module": "@jupyter-widgets/base",
            "_view_module_version": "1.2.0",
            "_view_name": "LayoutView",
            "align_content": null,
            "align_items": null,
            "align_self": null,
            "border": null,
            "bottom": null,
            "display": null,
            "flex": null,
            "flex_flow": null,
            "grid_area": null,
            "grid_auto_columns": null,
            "grid_auto_flow": null,
            "grid_auto_rows": null,
            "grid_column": null,
            "grid_gap": null,
            "grid_row": null,
            "grid_template_areas": null,
            "grid_template_columns": null,
            "grid_template_rows": null,
            "height": null,
            "justify_content": null,
            "justify_items": null,
            "left": null,
            "margin": null,
            "max_height": null,
            "max_width": null,
            "min_height": null,
            "min_width": null,
            "object_fit": null,
            "object_position": null,
            "order": null,
            "overflow": null,
            "overflow_x": null,
            "overflow_y": null,
            "padding": null,
            "right": null,
            "top": null,
            "visibility": null,
            "width": null
          }
        },
        "fb4c8639ad9c4d7cbbe08b3971d3831c": {
          "model_module": "@jupyter-widgets/controls",
          "model_name": "HBoxModel",
          "model_module_version": "1.5.0",
          "state": {
            "_dom_classes": [],
            "_model_module": "@jupyter-widgets/controls",
            "_model_module_version": "1.5.0",
            "_model_name": "HBoxModel",
            "_view_count": null,
            "_view_module": "@jupyter-widgets/controls",
            "_view_module_version": "1.5.0",
            "_view_name": "HBoxView",
            "box_style": "",
            "children": [
              "IPY_MODEL_45282f0c03574bdca25c693157a642f8",
              "IPY_MODEL_03ac417ffa2741a8a2835240cc804e41",
              "IPY_MODEL_9c0d503307654c08af28acb0529f6a1a"
            ],
            "layout": "IPY_MODEL_41d21711ff3d43de8389e4eded694031"
          }
        },
        "f892212c1c25458e9ece928ad8967182": {
          "model_module": "@jupyter-widgets/controls",
          "model_name": "HBoxModel",
          "model_module_version": "1.5.0",
          "state": {
            "_dom_classes": [],
            "_model_module": "@jupyter-widgets/controls",
            "_model_module_version": "1.5.0",
            "_model_name": "HBoxModel",
            "_view_count": null,
            "_view_module": "@jupyter-widgets/controls",
            "_view_module_version": "1.5.0",
            "_view_name": "HBoxView",
            "box_style": "",
            "children": [
              "IPY_MODEL_b2cd3ef9a56d429098014e387ab7978c",
              "IPY_MODEL_8cb16afd5d364d3d95f539dc1c5ae1ac",
              "IPY_MODEL_af9ff08e4f844f4e88a60ea2f23d3ff2"
            ],
            "layout": "IPY_MODEL_75e47bd7ed184b7885ec7f9dc7ed2cfa"
          }
        },
        "b2cd3ef9a56d429098014e387ab7978c": {
          "model_module": "@jupyter-widgets/controls",
          "model_name": "HTMLModel",
          "model_module_version": "1.5.0",
          "state": {
            "_dom_classes": [],
            "_model_module": "@jupyter-widgets/controls",
            "_model_module_version": "1.5.0",
            "_model_name": "HTMLModel",
            "_view_count": null,
            "_view_module": "@jupyter-widgets/controls",
            "_view_module_version": "1.5.0",
            "_view_name": "HTMLView",
            "description": "",
            "description_tooltip": null,
            "layout": "IPY_MODEL_b2cc841fcc5944c0bc78d1ba291d00bb",
            "placeholder": "​",
            "style": "IPY_MODEL_e5f3e856b3e64411aa19a398648259f3",
            "value": "Downloading artifacts: 100%"
          }
        },
        "8cb16afd5d364d3d95f539dc1c5ae1ac": {
          "model_module": "@jupyter-widgets/controls",
          "model_name": "FloatProgressModel",
          "model_module_version": "1.5.0",
          "state": {
            "_dom_classes": [],
            "_model_module": "@jupyter-widgets/controls",
            "_model_module_version": "1.5.0",
            "_model_name": "FloatProgressModel",
            "_view_count": null,
            "_view_module": "@jupyter-widgets/controls",
            "_view_module_version": "1.5.0",
            "_view_name": "ProgressView",
            "bar_style": "success",
            "description": "",
            "description_tooltip": null,
            "layout": "IPY_MODEL_9321c37c898f4de1b17abe4cba641f4f",
            "max": 15,
            "min": 0,
            "orientation": "horizontal",
            "style": "IPY_MODEL_8b8614ff31544997a8f54ad0408e1845",
            "value": 15
          }
        },
        "af9ff08e4f844f4e88a60ea2f23d3ff2": {
          "model_module": "@jupyter-widgets/controls",
          "model_name": "HTMLModel",
          "model_module_version": "1.5.0",
          "state": {
            "_dom_classes": [],
            "_model_module": "@jupyter-widgets/controls",
            "_model_module_version": "1.5.0",
            "_model_name": "HTMLModel",
            "_view_count": null,
            "_view_module": "@jupyter-widgets/controls",
            "_view_module_version": "1.5.0",
            "_view_name": "HTMLView",
            "description": "",
            "description_tooltip": null,
            "layout": "IPY_MODEL_47614a87e37a4a6f9a3393447204fc46",
            "placeholder": "​",
            "style": "IPY_MODEL_3ced3485aa874d048daa13b4af7c7b7c",
            "value": " 15/15 [00:54&lt;00:00,  7.89s/it]"
          }
        },
        "75e47bd7ed184b7885ec7f9dc7ed2cfa": {
          "model_module": "@jupyter-widgets/base",
          "model_name": "LayoutModel",
          "model_module_version": "1.2.0",
          "state": {
            "_model_module": "@jupyter-widgets/base",
            "_model_module_version": "1.2.0",
            "_model_name": "LayoutModel",
            "_view_count": null,
            "_view_module": "@jupyter-widgets/base",
            "_view_module_version": "1.2.0",
            "_view_name": "LayoutView",
            "align_content": null,
            "align_items": null,
            "align_self": null,
            "border": null,
            "bottom": null,
            "display": null,
            "flex": null,
            "flex_flow": null,
            "grid_area": null,
            "grid_auto_columns": null,
            "grid_auto_flow": null,
            "grid_auto_rows": null,
            "grid_column": null,
            "grid_gap": null,
            "grid_row": null,
            "grid_template_areas": null,
            "grid_template_columns": null,
            "grid_template_rows": null,
            "height": null,
            "justify_content": null,
            "justify_items": null,
            "left": null,
            "margin": null,
            "max_height": null,
            "max_width": null,
            "min_height": null,
            "min_width": null,
            "object_fit": null,
            "object_position": null,
            "order": null,
            "overflow": null,
            "overflow_x": null,
            "overflow_y": null,
            "padding": null,
            "right": null,
            "top": null,
            "visibility": null,
            "width": null
          }
        },
        "b2cc841fcc5944c0bc78d1ba291d00bb": {
          "model_module": "@jupyter-widgets/base",
          "model_name": "LayoutModel",
          "model_module_version": "1.2.0",
          "state": {
            "_model_module": "@jupyter-widgets/base",
            "_model_module_version": "1.2.0",
            "_model_name": "LayoutModel",
            "_view_count": null,
            "_view_module": "@jupyter-widgets/base",
            "_view_module_version": "1.2.0",
            "_view_name": "LayoutView",
            "align_content": null,
            "align_items": null,
            "align_self": null,
            "border": null,
            "bottom": null,
            "display": null,
            "flex": null,
            "flex_flow": null,
            "grid_area": null,
            "grid_auto_columns": null,
            "grid_auto_flow": null,
            "grid_auto_rows": null,
            "grid_column": null,
            "grid_gap": null,
            "grid_row": null,
            "grid_template_areas": null,
            "grid_template_columns": null,
            "grid_template_rows": null,
            "height": null,
            "justify_content": null,
            "justify_items": null,
            "left": null,
            "margin": null,
            "max_height": null,
            "max_width": null,
            "min_height": null,
            "min_width": null,
            "object_fit": null,
            "object_position": null,
            "order": null,
            "overflow": null,
            "overflow_x": null,
            "overflow_y": null,
            "padding": null,
            "right": null,
            "top": null,
            "visibility": null,
            "width": null
          }
        },
        "e5f3e856b3e64411aa19a398648259f3": {
          "model_module": "@jupyter-widgets/controls",
          "model_name": "DescriptionStyleModel",
          "model_module_version": "1.5.0",
          "state": {
            "_model_module": "@jupyter-widgets/controls",
            "_model_module_version": "1.5.0",
            "_model_name": "DescriptionStyleModel",
            "_view_count": null,
            "_view_module": "@jupyter-widgets/base",
            "_view_module_version": "1.2.0",
            "_view_name": "StyleView",
            "description_width": ""
          }
        },
        "9321c37c898f4de1b17abe4cba641f4f": {
          "model_module": "@jupyter-widgets/base",
          "model_name": "LayoutModel",
          "model_module_version": "1.2.0",
          "state": {
            "_model_module": "@jupyter-widgets/base",
            "_model_module_version": "1.2.0",
            "_model_name": "LayoutModel",
            "_view_count": null,
            "_view_module": "@jupyter-widgets/base",
            "_view_module_version": "1.2.0",
            "_view_name": "LayoutView",
            "align_content": null,
            "align_items": null,
            "align_self": null,
            "border": null,
            "bottom": null,
            "display": null,
            "flex": null,
            "flex_flow": null,
            "grid_area": null,
            "grid_auto_columns": null,
            "grid_auto_flow": null,
            "grid_auto_rows": null,
            "grid_column": null,
            "grid_gap": null,
            "grid_row": null,
            "grid_template_areas": null,
            "grid_template_columns": null,
            "grid_template_rows": null,
            "height": null,
            "justify_content": null,
            "justify_items": null,
            "left": null,
            "margin": null,
            "max_height": null,
            "max_width": null,
            "min_height": null,
            "min_width": null,
            "object_fit": null,
            "object_position": null,
            "order": null,
            "overflow": null,
            "overflow_x": null,
            "overflow_y": null,
            "padding": null,
            "right": null,
            "top": null,
            "visibility": null,
            "width": null
          }
        },
        "8b8614ff31544997a8f54ad0408e1845": {
          "model_module": "@jupyter-widgets/controls",
          "model_name": "ProgressStyleModel",
          "model_module_version": "1.5.0",
          "state": {
            "_model_module": "@jupyter-widgets/controls",
            "_model_module_version": "1.5.0",
            "_model_name": "ProgressStyleModel",
            "_view_count": null,
            "_view_module": "@jupyter-widgets/base",
            "_view_module_version": "1.2.0",
            "_view_name": "StyleView",
            "bar_color": null,
            "description_width": ""
          }
        },
        "47614a87e37a4a6f9a3393447204fc46": {
          "model_module": "@jupyter-widgets/base",
          "model_name": "LayoutModel",
          "model_module_version": "1.2.0",
          "state": {
            "_model_module": "@jupyter-widgets/base",
            "_model_module_version": "1.2.0",
            "_model_name": "LayoutModel",
            "_view_count": null,
            "_view_module": "@jupyter-widgets/base",
            "_view_module_version": "1.2.0",
            "_view_name": "LayoutView",
            "align_content": null,
            "align_items": null,
            "align_self": null,
            "border": null,
            "bottom": null,
            "display": null,
            "flex": null,
            "flex_flow": null,
            "grid_area": null,
            "grid_auto_columns": null,
            "grid_auto_flow": null,
            "grid_auto_rows": null,
            "grid_column": null,
            "grid_gap": null,
            "grid_row": null,
            "grid_template_areas": null,
            "grid_template_columns": null,
            "grid_template_rows": null,
            "height": null,
            "justify_content": null,
            "justify_items": null,
            "left": null,
            "margin": null,
            "max_height": null,
            "max_width": null,
            "min_height": null,
            "min_width": null,
            "object_fit": null,
            "object_position": null,
            "order": null,
            "overflow": null,
            "overflow_x": null,
            "overflow_y": null,
            "padding": null,
            "right": null,
            "top": null,
            "visibility": null,
            "width": null
          }
        },
        "3ced3485aa874d048daa13b4af7c7b7c": {
          "model_module": "@jupyter-widgets/controls",
          "model_name": "DescriptionStyleModel",
          "model_module_version": "1.5.0",
          "state": {
            "_model_module": "@jupyter-widgets/controls",
            "_model_module_version": "1.5.0",
            "_model_name": "DescriptionStyleModel",
            "_view_count": null,
            "_view_module": "@jupyter-widgets/base",
            "_view_module_version": "1.2.0",
            "_view_name": "StyleView",
            "description_width": ""
          }
        },
        "09c36316b73540f686aef3db3d8f7a5c": {
          "model_module": "@jupyter-widgets/base",
          "model_name": "LayoutModel",
          "model_module_version": "1.2.0",
          "state": {
            "_model_module": "@jupyter-widgets/base",
            "_model_module_version": "1.2.0",
            "_model_name": "LayoutModel",
            "_view_count": null,
            "_view_module": "@jupyter-widgets/base",
            "_view_module_version": "1.2.0",
            "_view_name": "LayoutView",
            "align_content": null,
            "align_items": null,
            "align_self": null,
            "border": null,
            "bottom": null,
            "display": null,
            "flex": null,
            "flex_flow": null,
            "grid_area": null,
            "grid_auto_columns": null,
            "grid_auto_flow": null,
            "grid_auto_rows": null,
            "grid_column": null,
            "grid_gap": null,
            "grid_row": null,
            "grid_template_areas": null,
            "grid_template_columns": null,
            "grid_template_rows": null,
            "height": null,
            "justify_content": null,
            "justify_items": null,
            "left": null,
            "margin": null,
            "max_height": null,
            "max_width": null,
            "min_height": null,
            "min_width": null,
            "object_fit": null,
            "object_position": null,
            "order": null,
            "overflow": null,
            "overflow_x": null,
            "overflow_y": null,
            "padding": null,
            "right": null,
            "top": null,
            "visibility": null,
            "width": null
          }
        },
        "248465b94aac4bffa23e5bdd88622752": {
          "model_module": "@jupyter-widgets/controls",
          "model_name": "ProgressStyleModel",
          "model_module_version": "1.5.0",
          "state": {
            "_model_module": "@jupyter-widgets/controls",
            "_model_module_version": "1.5.0",
            "_model_name": "ProgressStyleModel",
            "_view_count": null,
            "_view_module": "@jupyter-widgets/base",
            "_view_module_version": "1.2.0",
            "_view_name": "StyleView",
            "bar_color": null,
            "description_width": ""
          }
        },
        "1f815e243dc34cdf8e56b9dd02c4eb63": {
          "model_module": "@jupyter-widgets/base",
          "model_name": "LayoutModel",
          "model_module_version": "1.2.0",
          "state": {
            "_model_module": "@jupyter-widgets/base",
            "_model_module_version": "1.2.0",
            "_model_name": "LayoutModel",
            "_view_count": null,
            "_view_module": "@jupyter-widgets/base",
            "_view_module_version": "1.2.0",
            "_view_name": "LayoutView",
            "align_content": null,
            "align_items": null,
            "align_self": null,
            "border": null,
            "bottom": null,
            "display": null,
            "flex": null,
            "flex_flow": null,
            "grid_area": null,
            "grid_auto_columns": null,
            "grid_auto_flow": null,
            "grid_auto_rows": null,
            "grid_column": null,
            "grid_gap": null,
            "grid_row": null,
            "grid_template_areas": null,
            "grid_template_columns": null,
            "grid_template_rows": null,
            "height": null,
            "justify_content": null,
            "justify_items": null,
            "left": null,
            "margin": null,
            "max_height": null,
            "max_width": null,
            "min_height": null,
            "min_width": null,
            "object_fit": null,
            "object_position": null,
            "order": null,
            "overflow": null,
            "overflow_x": null,
            "overflow_y": null,
            "padding": null,
            "right": null,
            "top": null,
            "visibility": null,
            "width": null
          }
        },
        "16f327ed58f04037a3ef40edcf32d739": {
          "model_module": "@jupyter-widgets/controls",
          "model_name": "DescriptionStyleModel",
          "model_module_version": "1.5.0",
          "state": {
            "_model_module": "@jupyter-widgets/controls",
            "_model_module_version": "1.5.0",
            "_model_name": "DescriptionStyleModel",
            "_view_count": null,
            "_view_module": "@jupyter-widgets/base",
            "_view_module_version": "1.2.0",
            "_view_name": "StyleView",
            "description_width": ""
          }
        },
        "83e156d16a4f45978402f29a823d74ee": {
          "model_module": "@jupyter-widgets/base",
          "model_name": "LayoutModel",
          "model_module_version": "1.2.0",
          "state": {
            "_model_module": "@jupyter-widgets/base",
            "_model_module_version": "1.2.0",
            "_model_name": "LayoutModel",
            "_view_count": null,
            "_view_module": "@jupyter-widgets/base",
            "_view_module_version": "1.2.0",
            "_view_name": "LayoutView",
            "align_content": null,
            "align_items": null,
            "align_self": null,
            "border": null,
            "bottom": null,
            "display": null,
            "flex": null,
            "flex_flow": null,
            "grid_area": null,
            "grid_auto_columns": null,
            "grid_auto_flow": null,
            "grid_auto_rows": null,
            "grid_column": null,
            "grid_gap": null,
            "grid_row": null,
            "grid_template_areas": null,
            "grid_template_columns": null,
            "grid_template_rows": null,
            "height": null,
            "justify_content": null,
            "justify_items": null,
            "left": null,
            "margin": null,
            "max_height": null,
            "max_width": null,
            "min_height": null,
            "min_width": null,
            "object_fit": null,
            "object_position": null,
            "order": null,
            "overflow": null,
            "overflow_x": null,
            "overflow_y": null,
            "padding": null,
            "right": null,
            "top": null,
            "visibility": null,
            "width": null
          }
        },
        "1fa77227389946bba837001cfade0930": {
          "model_module": "@jupyter-widgets/controls",
          "model_name": "DescriptionStyleModel",
          "model_module_version": "1.5.0",
          "state": {
            "_model_module": "@jupyter-widgets/controls",
            "_model_module_version": "1.5.0",
            "_model_name": "DescriptionStyleModel",
            "_view_count": null,
            "_view_module": "@jupyter-widgets/base",
            "_view_module_version": "1.2.0",
            "_view_name": "StyleView",
            "description_width": ""
          }
        },
        "714e72d6e8884e079f4eaeda74088c88": {
          "model_module": "@jupyter-widgets/controls",
          "model_name": "HTMLModel",
          "model_module_version": "1.5.0",
          "state": {
            "_dom_classes": [],
            "_model_module": "@jupyter-widgets/controls",
            "_model_module_version": "1.5.0",
            "_model_name": "HTMLModel",
            "_view_count": null,
            "_view_module": "@jupyter-widgets/controls",
            "_view_module_version": "1.5.0",
            "_view_name": "HTMLView",
            "description": "",
            "description_tooltip": null,
            "layout": "IPY_MODEL_1f815e243dc34cdf8e56b9dd02c4eb63",
            "placeholder": "​",
            "style": "IPY_MODEL_16f327ed58f04037a3ef40edcf32d739",
            "value": "Downloading /tmp/tmp10a7ojfy/artifacts/blip_pytorch/model.safetensors:  89%"
          }
        },
        "69f2e757b1fe492a9726ce81d306c65e": {
          "model_module": "@jupyter-widgets/controls",
          "model_name": "FloatProgressModel",
          "model_module_version": "1.5.0",
          "state": {
            "_dom_classes": [],
            "_model_module": "@jupyter-widgets/controls",
            "_model_module_version": "1.5.0",
            "_model_name": "FloatProgressModel",
            "_view_count": null,
            "_view_module": "@jupyter-widgets/controls",
            "_view_module_version": "1.5.0",
            "_view_name": "ProgressView",
            "bar_style": "danger",
            "description": "",
            "description_tooltip": null,
            "layout": "IPY_MODEL_09c36316b73540f686aef3db3d8f7a5c",
            "max": 939544072,
            "min": 0,
            "orientation": "horizontal",
            "style": "IPY_MODEL_248465b94aac4bffa23e5bdd88622752",
            "value": 838860800
          }
        },
        "e333b4632e2842f28609655526384cbd": {
          "model_module": "@jupyter-widgets/controls",
          "model_name": "HTMLModel",
          "model_module_version": "1.5.0",
          "state": {
            "_dom_classes": [],
            "_model_module": "@jupyter-widgets/controls",
            "_model_module_version": "1.5.0",
            "_model_name": "HTMLModel",
            "_view_count": null,
            "_view_module": "@jupyter-widgets/controls",
            "_view_module_version": "1.5.0",
            "_view_name": "HTMLView",
            "description": "",
            "description_tooltip": null,
            "layout": "IPY_MODEL_83e156d16a4f45978402f29a823d74ee",
            "placeholder": "​",
            "style": "IPY_MODEL_1fa77227389946bba837001cfade0930",
            "value": " 800M/896M [00:31&lt;00:02, 50.2MiB/s]"
          }
        },
        "e09c0bdc12c24b58ab3b127bbb6b5574": {
          "model_module": "@jupyter-widgets/base",
          "model_name": "LayoutModel",
          "model_module_version": "1.2.0",
          "state": {
            "_model_module": "@jupyter-widgets/base",
            "_model_module_version": "1.2.0",
            "_model_name": "LayoutModel",
            "_view_count": null,
            "_view_module": "@jupyter-widgets/base",
            "_view_module_version": "1.2.0",
            "_view_name": "LayoutView",
            "align_content": null,
            "align_items": null,
            "align_self": null,
            "border": null,
            "bottom": null,
            "display": null,
            "flex": null,
            "flex_flow": null,
            "grid_area": null,
            "grid_auto_columns": null,
            "grid_auto_flow": null,
            "grid_auto_rows": null,
            "grid_column": null,
            "grid_gap": null,
            "grid_row": null,
            "grid_template_areas": null,
            "grid_template_columns": null,
            "grid_template_rows": null,
            "height": null,
            "justify_content": null,
            "justify_items": null,
            "left": null,
            "margin": null,
            "max_height": null,
            "max_width": null,
            "min_height": null,
            "min_width": null,
            "object_fit": null,
            "object_position": null,
            "order": null,
            "overflow": null,
            "overflow_x": null,
            "overflow_y": null,
            "padding": null,
            "right": null,
            "top": null,
            "visibility": null,
            "width": null
          }
        },
        "65be51b758504932ad242961cb2a5682": {
          "model_module": "@jupyter-widgets/controls",
          "model_name": "HBoxModel",
          "model_module_version": "1.5.0",
          "state": {
            "_dom_classes": [],
            "_model_module": "@jupyter-widgets/controls",
            "_model_module_version": "1.5.0",
            "_model_name": "HBoxModel",
            "_view_count": null,
            "_view_module": "@jupyter-widgets/controls",
            "_view_module_version": "1.5.0",
            "_view_name": "HBoxView",
            "box_style": "",
            "children": [
              "IPY_MODEL_714e72d6e8884e079f4eaeda74088c88",
              "IPY_MODEL_69f2e757b1fe492a9726ce81d306c65e",
              "IPY_MODEL_e333b4632e2842f28609655526384cbd"
            ],
            "layout": "IPY_MODEL_e09c0bdc12c24b58ab3b127bbb6b5574"
          }
        }
      }
    }
  },
  "cells": [
    {
      "cell_type": "markdown",
      "source": [
        "# BLIP: Bootstrapping Language-Image Pre-training for Unified Vision-Language Understanding and Generation\n",
        "\n",
        "Vision-Language Pre-training (VLP) has advanced the performance for many vision-language tasks. However, most existing pre-trained models only excel in either understanding-based tasks or generation-based tasks. Furthermore, performance improvement has been largely achieved by scaling up the dataset with noisy image-text pairs collected from the web, which is a suboptimal source of supervision. In this paper, we propose BLIP, a new VLP framework which transfers flexibly to both vision-language understanding and generation tasks. BLIP effectively utilizes the noisy web data by bootstrapping the captions, where a captioner generates synthetic captions and a filter removes the noisy ones. We achieve state-of-the-art results on a wide range of vision-language tasks, such as image-text retrieval (+2.7% in average recall@1), image captioning (+2.8% in CIDEr), and VQA (+1.6% in VQA score). BLIP also demonstrates strong generalization ability when directly transferred to videolanguage tasks in a zero-shot manner. Code, models, and datasets are released.\n",
        "\n",
        "\n",
        "https://huggingface.co/Salesforce/blip-image-captioning-large\n",
        "\n",
        "\n",
        "###Citation\n",
        "```\n",
        "@misc{https://doi.org/10.48550/arxiv.2201.12086,\n",
        "  doi = {10.48550/ARXIV.2201.12086},\n",
        "  \n",
        "  url = {https://arxiv.org/abs/2201.12086},\n",
        "  \n",
        "  author = {Li, Junnan and Li, Dongxu and Xiong, Caiming and Hoi, Steven},\n",
        "  \n",
        "  keywords = {Computer Vision and Pattern Recognition (cs.CV), FOS: Computer and information sciences, FOS: Computer and information sciences},\n",
        "  \n",
        "  title = {BLIP: Bootstrapping Language-Image Pre-training for Unified Vision-Language Understanding and Generation},\n",
        "  \n",
        "  publisher = {arXiv},\n",
        "  \n",
        "  year = {2022},\n",
        "  \n",
        "  copyright = {Creative Commons Attribution 4.0 International}\n",
        "}\n",
        "```\n",
        "\n",
        "\n"
      ],
      "metadata": {
        "id": "icBzRcgcWOoq"
      }
    },
    {
      "cell_type": "code",
      "execution_count": 13,
      "metadata": {
        "colab": {
          "base_uri": "https://localhost:8080/"
        },
        "id": "uzu0R8y3oqj7",
        "outputId": "74653c5b-0604-452f-e6d0-491c34d49895"
      },
      "outputs": [
        {
          "output_type": "stream",
          "name": "stdout",
          "text": [
            "Mounted at /content/drive\n"
          ]
        }
      ],
      "source": [
        "from google.colab import drive\n",
        "drive.mount('/content/drive')"
      ]
    },
    {
      "cell_type": "code",
      "source": [
        "!pip install mlflow   optimum open_clip_torch --quiet\n",
        "\n",
        "! pip install psutil pynvml -q"
      ],
      "metadata": {
        "id": "PNaQgd55pPCn",
        "colab": {
          "base_uri": "https://localhost:8080/"
        },
        "outputId": "312e6ad9-1d93-4ca7-dc47-15a90fe6c7ec"
      },
      "execution_count": 1,
      "outputs": [
        {
          "output_type": "stream",
          "name": "stdout",
          "text": [
            "\u001b[2K   \u001b[90m━━━━━━━━━━━━━━━━━━━━━━━━━━━━━━━━━━━━━━━━\u001b[0m \u001b[32m27.4/27.4 MB\u001b[0m \u001b[31m75.3 MB/s\u001b[0m eta \u001b[36m0:00:00\u001b[0m\n",
            "\u001b[2K   \u001b[90m━━━━━━━━━━━━━━━━━━━━━━━━━━━━━━━━━━━━━━━━\u001b[0m \u001b[32m5.9/5.9 MB\u001b[0m \u001b[31m118.6 MB/s\u001b[0m eta \u001b[36m0:00:00\u001b[0m\n",
            "\u001b[2K   \u001b[90m━━━━━━━━━━━━━━━━━━━━━━━━━━━━━━━━━━━━━━━━\u001b[0m \u001b[32m424.1/424.1 kB\u001b[0m \u001b[31m36.0 MB/s\u001b[0m eta \u001b[36m0:00:00\u001b[0m\n",
            "\u001b[2K   \u001b[90m━━━━━━━━━━━━━━━━━━━━━━━━━━━━━━━━━━━━━━━━\u001b[0m \u001b[32m1.5/1.5 MB\u001b[0m \u001b[31m57.7 MB/s\u001b[0m eta \u001b[36m0:00:00\u001b[0m\n",
            "\u001b[2K   \u001b[90m━━━━━━━━━━━━━━━━━━━━━━━━━━━━━━━━━━━━━━━━\u001b[0m \u001b[32m233.5/233.5 kB\u001b[0m \u001b[31m22.1 MB/s\u001b[0m eta \u001b[36m0:00:00\u001b[0m\n",
            "\u001b[2K   \u001b[90m━━━━━━━━━━━━━━━━━━━━━━━━━━━━━━━━━━━━━━━━\u001b[0m \u001b[32m147.8/147.8 kB\u001b[0m \u001b[31m15.2 MB/s\u001b[0m eta \u001b[36m0:00:00\u001b[0m\n",
            "\u001b[2K   \u001b[90m━━━━━━━━━━━━━━━━━━━━━━━━━━━━━━━━━━━━━━━━\u001b[0m \u001b[32m114.9/114.9 kB\u001b[0m \u001b[31m5.2 MB/s\u001b[0m eta \u001b[36m0:00:00\u001b[0m\n",
            "\u001b[2K   \u001b[90m━━━━━━━━━━━━━━━━━━━━━━━━━━━━━━━━━━━━━━━━\u001b[0m \u001b[32m85.0/85.0 kB\u001b[0m \u001b[31m8.8 MB/s\u001b[0m eta \u001b[36m0:00:00\u001b[0m\n",
            "\u001b[2K   \u001b[90m━━━━━━━━━━━━━━━━━━━━━━━━━━━━━━━━━━━━━━━━\u001b[0m \u001b[32m46.0/46.0 kB\u001b[0m \u001b[31m4.7 MB/s\u001b[0m eta \u001b[36m0:00:00\u001b[0m\n",
            "\u001b[2K   \u001b[90m━━━━━━━━━━━━━━━━━━━━━━━━━━━━━━━━━━━━━━━━\u001b[0m \u001b[32m480.6/480.6 kB\u001b[0m \u001b[31m38.8 MB/s\u001b[0m eta \u001b[36m0:00:00\u001b[0m\n",
            "\u001b[2K   \u001b[90m━━━━━━━━━━━━━━━━━━━━━━━━━━━━━━━━━━━━━━━━\u001b[0m \u001b[32m44.8/44.8 kB\u001b[0m \u001b[31m4.4 MB/s\u001b[0m eta \u001b[36m0:00:00\u001b[0m\n",
            "\u001b[2K   \u001b[90m━━━━━━━━━━━━━━━━━━━━━━━━━━━━━━━━━━━━━━━━\u001b[0m \u001b[32m623.0/623.0 kB\u001b[0m \u001b[31m46.4 MB/s\u001b[0m eta \u001b[36m0:00:00\u001b[0m\n",
            "\u001b[2K   \u001b[90m━━━━━━━━━━━━━━━━━━━━━━━━━━━━━━━━━━━━━━━━\u001b[0m \u001b[32m116.3/116.3 kB\u001b[0m \u001b[31m13.2 MB/s\u001b[0m eta \u001b[36m0:00:00\u001b[0m\n",
            "\u001b[2K   \u001b[90m━━━━━━━━━━━━━━━━━━━━━━━━━━━━━━━━━━━━━━━━\u001b[0m \u001b[32m179.3/179.3 kB\u001b[0m \u001b[31m18.6 MB/s\u001b[0m eta \u001b[36m0:00:00\u001b[0m\n",
            "\u001b[2K   \u001b[90m━━━━━━━━━━━━━━━━━━━━━━━━━━━━━━━━━━━━━━━━\u001b[0m \u001b[32m203.2/203.2 kB\u001b[0m \u001b[31m20.4 MB/s\u001b[0m eta \u001b[36m0:00:00\u001b[0m\n",
            "\u001b[2K   \u001b[90m━━━━━━━━━━━━━━━━━━━━━━━━━━━━━━━━━━━━━━━━\u001b[0m \u001b[32m86.8/86.8 kB\u001b[0m \u001b[31m9.5 MB/s\u001b[0m eta \u001b[36m0:00:00\u001b[0m\n",
            "\u001b[2K   \u001b[90m━━━━━━━━━━━━━━━━━━━━━━━━━━━━━━━━━━━━━━━━\u001b[0m \u001b[32m134.8/134.8 kB\u001b[0m \u001b[31m14.2 MB/s\u001b[0m eta \u001b[36m0:00:00\u001b[0m\n",
            "\u001b[2K   \u001b[90m━━━━━━━━━━━━━━━━━━━━━━━━━━━━━━━━━━━━━━━━\u001b[0m \u001b[32m78.6/78.6 kB\u001b[0m \u001b[31m8.1 MB/s\u001b[0m eta \u001b[36m0:00:00\u001b[0m\n",
            "\u001b[2K   \u001b[90m━━━━━━━━━━━━━━━━━━━━━━━━━━━━━━━━━━━━━━━━\u001b[0m \u001b[32m194.1/194.1 kB\u001b[0m \u001b[31m20.9 MB/s\u001b[0m eta \u001b[36m0:00:00\u001b[0m\n",
            "\u001b[?25h\u001b[31mERROR: pip's dependency resolver does not currently take into account all the packages that are installed. This behaviour is the source of the following dependency conflicts.\n",
            "gcsfs 2024.10.0 requires fsspec==2024.10.0, but you have fsspec 2024.9.0 which is incompatible.\u001b[0m\u001b[31m\n",
            "\u001b[2K   \u001b[90m━━━━━━━━━━━━━━━━━━━━━━━━━━━━━━━━━━━━━━━━\u001b[0m \u001b[32m40.5/40.5 kB\u001b[0m \u001b[31m3.7 MB/s\u001b[0m eta \u001b[36m0:00:00\u001b[0m\n",
            "\u001b[?25h"
          ]
        }
      ]
    },
    {
      "cell_type": "code",
      "source": [
        "# Transformers installation\n",
        "\n",
        "! pip install transformers[torch] -q\n",
        "! pip install accelerate -U -q\n",
        "# To install from source instead of the last release, comment the command above and uncomment the following one.\n",
        "# ! pip install git+https://github.com/huggingface/transformers.git"
      ],
      "metadata": {
        "id": "_4BthcQkpsWX",
        "colab": {
          "base_uri": "https://localhost:8080/"
        },
        "outputId": "07aa3f80-eb61-4a01-d94f-69c566fb716e"
      },
      "execution_count": 2,
      "outputs": [
        {
          "output_type": "stream",
          "name": "stdout",
          "text": [
            "\u001b[?25l   \u001b[90m━━━━━━━━━━━━━━━━━━━━━━━━━━━━━━━━━━━━━━━━\u001b[0m \u001b[32m0.0/336.4 kB\u001b[0m \u001b[31m?\u001b[0m eta \u001b[36m-:--:--\u001b[0m\r\u001b[2K   \u001b[91m━━━━━━━━━━━━━━━━━━━\u001b[0m\u001b[90m╺\u001b[0m\u001b[90m━━━━━━━━━━━━━━━━━━━━\u001b[0m \u001b[32m163.8/336.4 kB\u001b[0m \u001b[31m4.6 MB/s\u001b[0m eta \u001b[36m0:00:01\u001b[0m\r\u001b[2K   \u001b[90m━━━━━━━━━━━━━━━━━━━━━━━━━━━━━━━━━━━━━━━━\u001b[0m \u001b[32m336.4/336.4 kB\u001b[0m \u001b[31m6.7 MB/s\u001b[0m eta \u001b[36m0:00:00\u001b[0m\n",
            "\u001b[?25h"
          ]
        }
      ]
    },
    {
      "cell_type": "code",
      "source": [
        "path_model =\"/content/drive/MyDrive/models/blip_pytorch\""
      ],
      "metadata": {
        "id": "u8yHXLQyCeVJ"
      },
      "execution_count": 14,
      "outputs": []
    },
    {
      "cell_type": "code",
      "source": [
        "from google.colab import userdata\n",
        "\n",
        "import torch\n",
        "import requests\n",
        "from PIL import Image\n",
        "from transformers import BlipProcessor, BlipForConditionalGeneration\n",
        "import os\n",
        "import sys\n",
        "import platform\n",
        "from PIL import Image"
      ],
      "metadata": {
        "id": "taUuIbADpcaR"
      },
      "execution_count": 3,
      "outputs": []
    },
    {
      "cell_type": "code",
      "source": [
        "import torch.nn as nn\n",
        "from torch import cuda, bfloat16\n",
        "from google.colab import userdata\n",
        "import mlflow\n",
        "import numpy as np"
      ],
      "metadata": {
        "id": "CicPfY0RrsR2"
      },
      "execution_count": 7,
      "outputs": []
    },
    {
      "cell_type": "code",
      "source": [
        "\n",
        "from google.colab import output\n",
        "output.enable_custom_widget_manager()\n",
        "\n",
        "from transformers.utils import logging\n",
        "from transformers import pipeline\n",
        "import transformers"
      ],
      "metadata": {
        "id": "K7vZHAW_sdrj"
      },
      "execution_count": 24,
      "outputs": []
    },
    {
      "cell_type": "code",
      "source": [
        "logging.set_verbosity_error()\n",
        "\n",
        "os.environ[\"TRANSFORMERS_VERBOSITY\"] = \"error\""
      ],
      "metadata": {
        "id": "Gvyw8-W7wJkd"
      },
      "execution_count": 6,
      "outputs": []
    },
    {
      "cell_type": "code",
      "source": [
        "\n",
        "\n",
        "device = f'cuda:{cuda.current_device()}' if cuda.is_available() else 'cpu'\n",
        "device\n"
      ],
      "metadata": {
        "colab": {
          "base_uri": "https://localhost:8080/",
          "height": 35
        },
        "id": "i4BfxrozshY3",
        "outputId": "1be77ed6-c780-46df-c500-12f7458fd558"
      },
      "execution_count": 8,
      "outputs": [
        {
          "output_type": "execute_result",
          "data": {
            "text/plain": [
              "'cuda:0'"
            ],
            "application/vnd.google.colaboratory.intrinsic+json": {
              "type": "string"
            }
          },
          "metadata": {},
          "execution_count": 8
        }
      ]
    },
    {
      "cell_type": "code",
      "source": [
        "MLFLOW_TRACKING_URI=\"databricks\"\n",
        "# Specify the workspace hostname and token\n",
        "DATABRICKS_HOST=\"https://adb-2467347032368999.19.azuredatabricks.net/\"\n",
        "DATABRICKS_TOKEN=userdata.get('DATABRCKS_TTOKEN')"
      ],
      "metadata": {
        "id": "iQMCpdWkuu1Q"
      },
      "execution_count": 9,
      "outputs": []
    },
    {
      "cell_type": "code",
      "source": [
        "\n",
        "\n",
        "if \"MLFLOW_TRACKING_URI\" not in os.environ:\n",
        "    os.environ[\"MLFLOW_TRACKING_URI\"] = MLFLOW_TRACKING_URI\n",
        "if \"DATABRICKS_HOST\" not in os.environ:\n",
        "    os.environ[\"DATABRICKS_HOST\"] = DATABRICKS_HOST\n",
        "if \"DATABRICKS_TOKEN\" not in os.environ:\n",
        "    os.environ[\"DATABRICKS_TOKEN\"] = DATABRICKS_TOKEN"
      ],
      "metadata": {
        "id": "zUweE6gbuyYI"
      },
      "execution_count": 10,
      "outputs": []
    },
    {
      "cell_type": "code",
      "source": [
        "mlflow.set_tracking_uri(MLFLOW_TRACKING_URI)"
      ],
      "metadata": {
        "id": "qbn0XCE3vm9U"
      },
      "execution_count": 11,
      "outputs": []
    },
    {
      "cell_type": "code",
      "source": [
        "\n",
        "mlflow.set_experiment(\"/Users/jhuertas@capaxdiscovery.com/blip_captioning\")\n"
      ],
      "metadata": {
        "colab": {
          "base_uri": "https://localhost:8080/"
        },
        "id": "X9Wk76w6vowx",
        "outputId": "5ddb4900-e5d1-43b4-b39c-7adb9af30b8f"
      },
      "execution_count": 12,
      "outputs": [
        {
          "output_type": "stream",
          "name": "stderr",
          "text": [
            "2024/12/18 16:17:47 INFO mlflow.tracking.fluent: Experiment with name '/Users/jhuertas@capaxdiscovery.com/blip_captioning' does not exist. Creating a new experiment.\n"
          ]
        },
        {
          "output_type": "execute_result",
          "data": {
            "text/plain": [
              "<Experiment: artifact_location='dbfs:/databricks/mlflow-tracking/3911355520244679', creation_time=1734538667759, experiment_id='3911355520244679', last_update_time=1734538667759, lifecycle_stage='active', name='/Users/jhuertas@capaxdiscovery.com/blip_captioning', tags={'mlflow.experiment.sourceName': '/Users/jhuertas@capaxdiscovery.com/blip_captioning',\n",
              " 'mlflow.experimentType': 'MLFLOW_EXPERIMENT',\n",
              " 'mlflow.ownerEmail': 'jhuertas@capaxdiscovery.com',\n",
              " 'mlflow.ownerId': '1331640755799986'}>"
            ]
          },
          "metadata": {},
          "execution_count": 12
        }
      ]
    },
    {
      "cell_type": "code",
      "source": [
        "mlflow.end_run()"
      ],
      "metadata": {
        "id": "zegpmMnFvrtV"
      },
      "execution_count": 15,
      "outputs": []
    },
    {
      "cell_type": "code",
      "source": [
        "\n",
        "\n",
        "processor = BlipProcessor.from_pretrained(\"Salesforce/blip-image-captioning-large\")\n",
        "model = BlipForConditionalGeneration.from_pretrained(\"Salesforce/blip-image-captioning-large\", torch_dtype=torch.float16).to(\"cuda\")\n",
        "\n",
        "image_path = \"/content/drive/MyDrive/data/beach.jpg\"\n",
        "raw_image = Image.open(image_path).convert(\"RGB\")\n",
        "\n",
        "# conditional image captioning\n",
        "text = \"a photography of\"\n",
        "inputs = processor(raw_image, text, return_tensors=\"pt\").to(\"cuda\", torch.float16)\n",
        "\n",
        "out = model.generate(**inputs)\n",
        "print(processor.decode(out[0], skip_special_tokens=True))\n",
        "# >>> a photography of a woman and her dog\n",
        "\n",
        "# unconditional image captioning\n",
        "inputs = processor(raw_image, return_tensors=\"pt\").to(\"cuda\", torch.float16)\n",
        "\n",
        "out = model.generate(**inputs)\n",
        "print(processor.decode(out[0], skip_special_tokens=True))"
      ],
      "metadata": {
        "id": "LF_PrlqXDq2J",
        "colab": {
          "base_uri": "https://localhost:8080/",
          "height": 330,
          "referenced_widgets": [
            "087b3694541f4183974537afcca9005c",
            "7470a58b0e6342d7b2ae6d89794506ae",
            "0a9dae52fb344c169108611f5541721e",
            "bb22ce8b66254a10b57effb5d8183382",
            "aa0975d074ed4fd494ecd6f1a36ae1d6",
            "2079977ca72c46a9a59aa233fcc5e624",
            "100d3f65d7434099860a539c6c18db2a",
            "0e538bd6f86b494580e6fef1ff3ed95d",
            "de3c240617d143bcadc24f3eba742807",
            "79fd98eb8858441583c7e823dfb64b30",
            "54e142fe49774cc99ffb925342f00875",
            "78c018468f98409fb3d8352a4e401c28",
            "4b6df712d1bf40cdafc323b17837579d",
            "8c827e3e0002427488541da77822327b",
            "60e9ae257c11491d8e1bbbb5cb9d09d6",
            "5ed07c2ae1ef413ea21a43ac1e372d38",
            "d84cf7ba796e4dbc8df72b9328bad621",
            "4b4f37470803412e927a24eb75b04f44",
            "ceed19a89c134821a5691c6b7d37cd0a",
            "f80b556e226542a0872ce4593c59a150",
            "dec4cbfe2899452c979e07328b6ed850",
            "e0ae475dfe654b5d9a9266ed3f781a13",
            "d01028a112bc409a998893ea9ec344b8",
            "61cddee483784b1b82865ce2a596bf3f",
            "7cb76d5b383f41f0b194a8d3d1b6f2a7",
            "2f9eebe4e7b149c8afa78daeffa4820f",
            "9da46cc5b531412585895051afe113cf",
            "d1090dbee61c4ab6b630bf7d7f1178aa",
            "7591ad190f5e4888bfac198e1c78034b",
            "bd5a81e78da844eab535653403df6e3e",
            "f1c7e1790dcb43aa992af7bcec08c616",
            "cc791d6d76164e0785cc31a73e093eb0",
            "3945bf46fd9f4f3381a5bb78e079979c",
            "3af18dcb71844e3c8b2ab505b4ed275e",
            "e2418dfa16cb4de0a6e9947bd7e65ff2",
            "b26764b9ca4a46739481e6ff4cec7cf4",
            "38d64442bc484eb1b593fb6482639295",
            "ed2bdee9a1254e79b18bce987fe32191",
            "eabc94180f82408ab321addbef2f5c46",
            "b8a1d66f4e2244668d8228f61277f35e",
            "61484e0bed7f42218f26b9b5a73cbce9",
            "59a58c59779d439e9f1cbff6d13b2d59",
            "c3c0717be7694ed481c8b78fba164ef5",
            "9e9c6d02a36e41fba9ec4b98413f187e",
            "8220d8a4cb994d97ad08f04dcf810ecd",
            "069a3452c3a846ebb7e172146afaf40d",
            "c1560edb554f47738fe2da6241ce89d4",
            "c81b64f4992d4e958a65845176a81f9c",
            "cd3f96c46c8d4c07a5308d3c070cbf0e",
            "3d51843a323a4b9da5047fca88150c14",
            "4b985aa8ca654b6cbbd2ab731c520cd5",
            "023cca4ae7f4461480aafdc01320554f",
            "4709bb2ae7094e11968b46516ce30629",
            "0189578b14264aeb94c927cc7ad53acf",
            "0635f3e14f534d78a7b37942daa1093d",
            "f753dee7e5684bf19eb6219d85c3d41d",
            "ff4a7b949da0420483817fdea1741f48",
            "55880d5588b142fb9c09d214ede8772f",
            "0879fa60ca5641b08dccc507cdb4e791",
            "e026555d498748d986129ea0747bd93d",
            "351569c7b185478a9fe72cab17859ee5",
            "42dfe7f949da42eb8fbbaacba1cbe423",
            "605bcb4a017747bea84e2062ca733465",
            "29953f9ab15f4f689e5a703b046a339e",
            "41c2cf106b4748c9b1b054bb95c296fa",
            "1b4c2f3159d54645927df19f0d0c55f7",
            "7532c8d1029540eaa6bbd3ce413769b2",
            "5fcd0b97707646f0afcafacef35051ad",
            "760a21d92f9347e39712c1f23ae78bd7",
            "74af9049783649659ca61e2a2b7feb72",
            "ef3a67f80806419c9ff4ece35d1e63a1",
            "515b2446823147bf982ee51cd4f206d6",
            "087e0fe11045424a82f4497071b89380",
            "08b6c27ae6a044959110164e0b2f8218",
            "effdbf99b03f499eb55489f24fbead6d",
            "8a04b7e13ebb4bac85c5b0211ac93930",
            "ed1dfd76b654499d9b7f79bc5cccf64f"
          ]
        },
        "outputId": "d2342baf-ff29-47a2-8451-e18738652cfc"
      },
      "execution_count": 16,
      "outputs": [
        {
          "output_type": "display_data",
          "data": {
            "text/plain": [
              "preprocessor_config.json:   0%|          | 0.00/445 [00:00<?, ?B/s]"
            ],
            "application/vnd.jupyter.widget-view+json": {
              "version_major": 2,
              "version_minor": 0,
              "model_id": "087b3694541f4183974537afcca9005c"
            }
          },
          "metadata": {
            "application/vnd.jupyter.widget-view+json": {
              "colab": {
                "custom_widget_manager": {
                  "url": "https://ssl.gstatic.com/colaboratory-static/widgets/colab-cdn-widget-manager/2b70e893a8ba7c0f/manager.min.js"
                }
              }
            }
          }
        },
        {
          "output_type": "display_data",
          "data": {
            "text/plain": [
              "tokenizer_config.json:   0%|          | 0.00/527 [00:00<?, ?B/s]"
            ],
            "application/vnd.jupyter.widget-view+json": {
              "version_major": 2,
              "version_minor": 0,
              "model_id": "e0ae475dfe654b5d9a9266ed3f781a13"
            }
          },
          "metadata": {
            "application/vnd.jupyter.widget-view+json": {
              "colab": {
                "custom_widget_manager": {
                  "url": "https://ssl.gstatic.com/colaboratory-static/widgets/colab-cdn-widget-manager/2b70e893a8ba7c0f/manager.min.js"
                }
              }
            }
          }
        },
        {
          "output_type": "display_data",
          "data": {
            "text/plain": [
              "vocab.txt:   0%|          | 0.00/232k [00:00<?, ?B/s]"
            ],
            "application/vnd.jupyter.widget-view+json": {
              "version_major": 2,
              "version_minor": 0,
              "model_id": "3945bf46fd9f4f3381a5bb78e079979c"
            }
          },
          "metadata": {
            "application/vnd.jupyter.widget-view+json": {
              "colab": {
                "custom_widget_manager": {
                  "url": "https://ssl.gstatic.com/colaboratory-static/widgets/colab-cdn-widget-manager/2b70e893a8ba7c0f/manager.min.js"
                }
              }
            }
          }
        },
        {
          "output_type": "display_data",
          "data": {
            "text/plain": [
              "tokenizer.json:   0%|          | 0.00/711k [00:00<?, ?B/s]"
            ],
            "application/vnd.jupyter.widget-view+json": {
              "version_major": 2,
              "version_minor": 0,
              "model_id": "9e9c6d02a36e41fba9ec4b98413f187e"
            }
          },
          "metadata": {
            "application/vnd.jupyter.widget-view+json": {
              "colab": {
                "custom_widget_manager": {
                  "url": "https://ssl.gstatic.com/colaboratory-static/widgets/colab-cdn-widget-manager/2b70e893a8ba7c0f/manager.min.js"
                }
              }
            }
          }
        },
        {
          "output_type": "display_data",
          "data": {
            "text/plain": [
              "special_tokens_map.json:   0%|          | 0.00/125 [00:00<?, ?B/s]"
            ],
            "application/vnd.jupyter.widget-view+json": {
              "version_major": 2,
              "version_minor": 0,
              "model_id": "0635f3e14f534d78a7b37942daa1093d"
            }
          },
          "metadata": {
            "application/vnd.jupyter.widget-view+json": {
              "colab": {
                "custom_widget_manager": {
                  "url": "https://ssl.gstatic.com/colaboratory-static/widgets/colab-cdn-widget-manager/2b70e893a8ba7c0f/manager.min.js"
                }
              }
            }
          }
        },
        {
          "output_type": "display_data",
          "data": {
            "text/plain": [
              "config.json:   0%|          | 0.00/4.60k [00:00<?, ?B/s]"
            ],
            "application/vnd.jupyter.widget-view+json": {
              "version_major": 2,
              "version_minor": 0,
              "model_id": "1b4c2f3159d54645927df19f0d0c55f7"
            }
          },
          "metadata": {
            "application/vnd.jupyter.widget-view+json": {
              "colab": {
                "custom_widget_manager": {
                  "url": "https://ssl.gstatic.com/colaboratory-static/widgets/colab-cdn-widget-manager/2b70e893a8ba7c0f/manager.min.js"
                }
              }
            }
          }
        },
        {
          "output_type": "display_data",
          "data": {
            "text/plain": [
              "model.safetensors:   0%|          | 0.00/1.88G [00:00<?, ?B/s]"
            ],
            "application/vnd.jupyter.widget-view+json": {
              "version_major": 2,
              "version_minor": 0,
              "model_id": "ed1dfd76b654499d9b7f79bc5cccf64f"
            }
          },
          "metadata": {
            "application/vnd.jupyter.widget-view+json": {
              "colab": {
                "custom_widget_manager": {
                  "url": "https://ssl.gstatic.com/colaboratory-static/widgets/colab-cdn-widget-manager/2b70e893a8ba7c0f/manager.min.js"
                }
              }
            }
          }
        },
        {
          "output_type": "stream",
          "name": "stderr",
          "text": [
            "/usr/local/lib/python3.10/dist-packages/transformers/generation/utils.py:1375: UserWarning: Using the model-agnostic default `max_length` (=20) to control the generation length. We recommend setting `max_new_tokens` to control the maximum length of the generation.\n",
            "  warnings.warn(\n"
          ]
        },
        {
          "output_type": "stream",
          "name": "stdout",
          "text": [
            "a photography of a group of people standing on a beach next to the ocean\n",
            "surfers on the beach with their surfboards in the water\n"
          ]
        }
      ]
    },
    {
      "cell_type": "code",
      "source": [
        "model.save_pretrained(path_model)\n",
        "processor.save_pretrained(path_model)"
      ],
      "metadata": {
        "id": "zvUjNxw_wKAQ",
        "colab": {
          "base_uri": "https://localhost:8080/"
        },
        "outputId": "bfb9a260-181e-42a7-8f40-d6d36f695eef"
      },
      "execution_count": 17,
      "outputs": [
        {
          "output_type": "execute_result",
          "data": {
            "text/plain": [
              "[]"
            ]
          },
          "metadata": {},
          "execution_count": 17
        }
      ]
    },
    {
      "cell_type": "code",
      "source": [
        "np.array(raw_image)"
      ],
      "metadata": {
        "colab": {
          "base_uri": "https://localhost:8080/",
          "height": 399
        },
        "id": "w0gjTkd2p6O1",
        "outputId": "e2ee2287-cfff-434a-e4d6-3130c5ab6c29"
      },
      "execution_count": 18,
      "outputs": [
        {
          "output_type": "execute_result",
          "data": {
            "text/plain": [
              "array([[[133, 133, 145],\n",
              "        [137, 137, 149],\n",
              "        [131, 133, 145],\n",
              "        ...,\n",
              "        [149, 117,  68],\n",
              "        [ 98,  65,  14],\n",
              "        [138, 102,  54]],\n",
              "\n",
              "       [[130, 130, 142],\n",
              "        [132, 132, 144],\n",
              "        [127, 129, 141],\n",
              "        ...,\n",
              "        [130,  98,  47],\n",
              "        [101,  68,  15],\n",
              "        [161, 125,  75]],\n",
              "\n",
              "       [[127, 129, 142],\n",
              "        [126, 128, 141],\n",
              "        [125, 127, 140],\n",
              "        ...,\n",
              "        [147, 116,  62],\n",
              "        [152, 119,  65],\n",
              "        [139, 108,  53]],\n",
              "\n",
              "       ...,\n",
              "\n",
              "       [[111, 111, 111],\n",
              "        [112, 112, 112],\n",
              "        [112, 112, 112],\n",
              "        ...,\n",
              "        [ 95,  64,  33],\n",
              "        [ 95,  64,  33],\n",
              "        [ 98,  67,  38]],\n",
              "\n",
              "       [[111, 111, 111],\n",
              "        [111, 111, 111],\n",
              "        [111, 111, 111],\n",
              "        ...,\n",
              "        [ 94,  63,  32],\n",
              "        [ 93,  62,  31],\n",
              "        [ 95,  64,  35]],\n",
              "\n",
              "       [[113, 113, 111],\n",
              "        [114, 114, 112],\n",
              "        [114, 114, 112],\n",
              "        ...,\n",
              "        [ 97,  66,  35],\n",
              "        [ 95,  64,  33],\n",
              "        [ 99,  68,  39]]], dtype=uint8)"
            ],
            "text/html": [
              "<style>\n",
              "      .ndarray_repr .ndarray_raw_data {\n",
              "        display: none;\n",
              "      }\n",
              "      .ndarray_repr.show_array .ndarray_raw_data {\n",
              "        display: block;\n",
              "      }\n",
              "      .ndarray_repr.show_array .ndarray_image_preview {\n",
              "        display: none;\n",
              "      }\n",
              "      </style>\n",
              "      <div id=\"id-b44a1e59-3c4b-4eb4-9c6a-f3a55eed999a\" class=\"ndarray_repr\"><pre>ndarray (359, 479, 3) <button style=\"padding: 0 2px;\">show data</button></pre><img src=\"data:image/png;base64,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\" class=\"ndarray_image_preview\" /><pre class=\"ndarray_raw_data\">array([[[133, 133, 145],\n",
              "        [137, 137, 149],\n",
              "        [131, 133, 145],\n",
              "        ...,\n",
              "        [149, 117,  68],\n",
              "        [ 98,  65,  14],\n",
              "        [138, 102,  54]],\n",
              "\n",
              "       [[130, 130, 142],\n",
              "        [132, 132, 144],\n",
              "        [127, 129, 141],\n",
              "        ...,\n",
              "        [130,  98,  47],\n",
              "        [101,  68,  15],\n",
              "        [161, 125,  75]],\n",
              "\n",
              "       [[127, 129, 142],\n",
              "        [126, 128, 141],\n",
              "        [125, 127, 140],\n",
              "        ...,\n",
              "        [147, 116,  62],\n",
              "        [152, 119,  65],\n",
              "        [139, 108,  53]],\n",
              "\n",
              "       ...,\n",
              "\n",
              "       [[111, 111, 111],\n",
              "        [112, 112, 112],\n",
              "        [112, 112, 112],\n",
              "        ...,\n",
              "        [ 95,  64,  33],\n",
              "        [ 95,  64,  33],\n",
              "        [ 98,  67,  38]],\n",
              "\n",
              "       [[111, 111, 111],\n",
              "        [111, 111, 111],\n",
              "        [111, 111, 111],\n",
              "        ...,\n",
              "        [ 94,  63,  32],\n",
              "        [ 93,  62,  31],\n",
              "        [ 95,  64,  35]],\n",
              "\n",
              "       [[113, 113, 111],\n",
              "        [114, 114, 112],\n",
              "        [114, 114, 112],\n",
              "        ...,\n",
              "        [ 97,  66,  35],\n",
              "        [ 95,  64,  33],\n",
              "        [ 99,  68,  39]]], dtype=uint8)</pre></div><script>\n",
              "      (() => {\n",
              "      const titles = ['show data', 'hide data'];\n",
              "      let index = 0\n",
              "      document.querySelector('#id-b44a1e59-3c4b-4eb4-9c6a-f3a55eed999a button').onclick = (e) => {\n",
              "        document.querySelector('#id-b44a1e59-3c4b-4eb4-9c6a-f3a55eed999a').classList.toggle('show_array');\n",
              "        index = (++index) % 2;\n",
              "        document.querySelector('#id-b44a1e59-3c4b-4eb4-9c6a-f3a55eed999a button').textContent = titles[index];\n",
              "        e.preventDefault();\n",
              "        e.stopPropagation();\n",
              "      }\n",
              "      })();\n",
              "    </script>"
            ]
          },
          "metadata": {},
          "execution_count": 18
        }
      ]
    },
    {
      "cell_type": "code",
      "source": [
        "pipe = pipeline( model=path_model, image_processor=path_model, task= \"image-to-text\")"
      ],
      "metadata": {
        "id": "NxB2wzpNGJdU"
      },
      "execution_count": 26,
      "outputs": []
    },
    {
      "cell_type": "code",
      "source": [
        "pipe.max_length=200\n",
        "pipe.num_beams=5\n",
        "pipe.do_sample=True\n",
        "pipe.temperature=1.0"
      ],
      "metadata": {
        "id": "X8JsKoynnVnA"
      },
      "execution_count": 31,
      "outputs": []
    },
    {
      "cell_type": "code",
      "source": [
        "pipe.predict(raw_image.resize((224, 224)))"
      ],
      "metadata": {
        "colab": {
          "base_uri": "https://localhost:8080/"
        },
        "id": "SNZEDvWrGJUx",
        "outputId": "32eff7ea-aace-41fc-c171-7083a9bddd3f"
      },
      "execution_count": 32,
      "outputs": [
        {
          "output_type": "stream",
          "name": "stderr",
          "text": [
            "/usr/local/lib/python3.10/dist-packages/transformers/generation/utils.py:1375: UserWarning: Using the model-agnostic default `max_length` (=20) to control the generation length. We recommend setting `max_new_tokens` to control the maximum length of the generation.\n",
            "  warnings.warn(\n"
          ]
        },
        {
          "output_type": "execute_result",
          "data": {
            "text/plain": [
              "[{'generated_text': 'surfers on the beach with their boards in the water'}]"
            ]
          },
          "metadata": {},
          "execution_count": 32
        }
      ]
    },
    {
      "cell_type": "code",
      "source": [
        "transformers.__version__"
      ],
      "metadata": {
        "colab": {
          "base_uri": "https://localhost:8080/",
          "height": 35
        },
        "id": "c8uhvPwaHNkS",
        "outputId": "4a632111-9553-497e-83b5-26b1358f3e6b"
      },
      "execution_count": 25,
      "outputs": [
        {
          "output_type": "execute_result",
          "data": {
            "text/plain": [
              "'4.46.3'"
            ],
            "application/vnd.google.colaboratory.intrinsic+json": {
              "type": "string"
            }
          },
          "metadata": {},
          "execution_count": 25
        }
      ]
    },
    {
      "cell_type": "code",
      "source": [
        "\n",
        "import mlflow\n",
        "from mlflow.models.signature import infer_signature\n",
        "from mlflow.pyfunc import PythonModel\n",
        "import pprint"
      ],
      "metadata": {
        "id": "TCL2a1iVZtSP"
      },
      "execution_count": 34,
      "outputs": []
    },
    {
      "cell_type": "code",
      "source": [
        "class BLIP_Captioner(PythonModel):\n",
        "  def load_context(self, context):\n",
        "        \"\"\"\n",
        "        This method initializes the tokenizer and language model\n",
        "        using the specified model snapshot directory.\n",
        "        \"\"\"\n",
        "\n",
        "        from transformers import BlipProcessor, BlipForConditionalGeneration\n",
        "        from transformers import pipeline\n",
        "        from PIL import Image\n",
        "        import torch\n",
        "\n",
        "\n",
        "        self.model = BlipForConditionalGeneration.from_pretrained(context.artifacts[\"snapshot\"])\n",
        "        self.processor = BlipProcessor.from_pretrained(context.artifacts[\"snapshot\"])\n",
        "\n",
        "\n",
        "\n",
        "  def predict(self, context, model_input, params=None):\n",
        "        \"\"\"\n",
        "        This method generates prediction for the given input.\n",
        "        \"\"\"\n",
        "        image_path  = model_input[\"path_image\"][0]\n",
        "        raw_image = Image.open(image_path).convert(\"RGB\")\n",
        "        # conditional image captioning\n",
        "        text = \"a photography of\"\n",
        "        inputs = self.processor(raw_image, text, return_tensors=\"pt\")\n",
        "\n",
        "        out = self.model.generate(**inputs)\n",
        "        result = self.processor.decode(out[0], skip_special_tokens=True)\n",
        "        return result\n"
      ],
      "metadata": {
        "id": "1yu3PNQif6rW"
      },
      "execution_count": 42,
      "outputs": []
    },
    {
      "cell_type": "code",
      "source": [
        "import numpy as np\n",
        "import pandas as pd\n",
        "\n",
        "import mlflow\n",
        "from mlflow.models.signature import ModelSignature\n",
        "from mlflow.types import ColSpec, DataType, ParamSchema, ParamSpec, Schema\n",
        "\n",
        "from mlflow.models import infer_signature\n",
        "\n",
        "model_output= [{'generated_text': 'surfers on the beach with their boards in the water'}]\n",
        "\n",
        "model_input= {\"path_image\":\"/content/drive/MyDrive/data/beach.jpg\"}\n",
        "signature = infer_signature(model_input=model_input,model_output=model_output)\n",
        "\n",
        "\n",
        "\n",
        "# Define input example\n",
        "input_example = {\"path_image\":\"/content/drive/MyDrive/data/beach.jpg\"}"
      ],
      "metadata": {
        "id": "oS5NYOkOf6jq"
      },
      "execution_count": 36,
      "outputs": []
    },
    {
      "cell_type": "code",
      "source": [
        "signature"
      ],
      "metadata": {
        "colab": {
          "base_uri": "https://localhost:8080/"
        },
        "id": "O6EC9vtaRWOt",
        "outputId": "797ecb06-f6aa-4813-d194-545ac8d70311"
      },
      "execution_count": 37,
      "outputs": [
        {
          "output_type": "execute_result",
          "data": {
            "text/plain": [
              "inputs: \n",
              "  ['path_image': string (required)]\n",
              "outputs: \n",
              "  ['generated_text': string (required)]\n",
              "params: \n",
              "  None"
            ]
          },
          "metadata": {},
          "execution_count": 37
        }
      ]
    },
    {
      "cell_type": "code",
      "source": [
        "input_example"
      ],
      "metadata": {
        "colab": {
          "base_uri": "https://localhost:8080/"
        },
        "id": "3nFDU-ahRYyV",
        "outputId": "2ce1d869-aece-491f-9d88-b17a551a1430"
      },
      "execution_count": 38,
      "outputs": [
        {
          "output_type": "execute_result",
          "data": {
            "text/plain": [
              "{'path_image': '/content/drive/MyDrive/data/beach.jpg'}"
            ]
          },
          "metadata": {},
          "execution_count": 38
        }
      ]
    },
    {
      "cell_type": "code",
      "source": [
        "import datetime\n",
        "now = datetime.datetime.now()\n",
        "now.strftime(\"%Y-%m-%d_%H:%M:%S\")"
      ],
      "metadata": {
        "colab": {
          "base_uri": "https://localhost:8080/",
          "height": 35
        },
        "id": "YWxQ4DtDuqtu",
        "outputId": "d87151ae-a027-48f5-cae0-b104378eba97"
      },
      "execution_count": 39,
      "outputs": [
        {
          "output_type": "execute_result",
          "data": {
            "text/plain": [
              "'2024-12-18_16:46:01'"
            ],
            "application/vnd.google.colaboratory.intrinsic+json": {
              "type": "string"
            }
          },
          "metadata": {},
          "execution_count": 39
        }
      ]
    },
    {
      "cell_type": "code",
      "source": [
        "# Get the current base version of torch that is installed, without specific version modifiers\n",
        "torch_version = torch.__version__.split(\"+\")[0]"
      ],
      "metadata": {
        "id": "9ImpbVJ68WVd"
      },
      "execution_count": 40,
      "outputs": []
    },
    {
      "cell_type": "code",
      "source": [
        "\n",
        "# Start an MLflow run context and log the PHi3 model wrapper along with the param-included signature to\n",
        "# allow for overriding parameters at inference time\n",
        "now = datetime.datetime.now()\n",
        "\n",
        "description= \"\"\"Log BLIP captioner model with mlflow\n",
        "BLIP: Bootstrapping Language-Image Pre-training for Unified Vision-Language Understanding and Generation\n",
        "https://huggingface.co/Salesforce/blip-image-captioning-large\n",
        "\n",
        "\"\"\"\n",
        "with mlflow.start_run(run_name=f\"blip_captioner_log_{now.strftime('%Y-%m-%d_%H:%M:%S')}\", description=description) as run:\n",
        "    model_info = mlflow.pyfunc.log_model(\n",
        "        \"captioner\",\n",
        "        python_model=BLIP_Captioner(),\n",
        "        # NOTE: the artifacts dictionary mapping is critical! This dict is used by the load_context()\n",
        "        artifacts={\"snapshot\": \"/content/drive/MyDrive/models/blip_pytorch\"},\n",
        "\n",
        "        pip_requirements=[\n",
        "            f\"torch=={torch_version}\",\n",
        "            f\"transformers=={transformers.__version__}\",\n",
        "            \"pillow\",\n",
        "\n",
        "\n",
        "        ],\n",
        "        input_example=input_example,\n",
        "        signature=signature,\n",
        "    )"
      ],
      "metadata": {
        "colab": {
          "base_uri": "https://localhost:8080/",
          "height": 307,
          "referenced_widgets": [
            "af1f6fdf8b884ee0987794fdaf11b041",
            "1853f7b74e6842eebc35148b0eb39cb6",
            "1df968244df0464db39ccd81411edf6b",
            "d9491b0823c54a4e919fa0b4fe514e84",
            "c193039b6fe74453a6c9a36cafe1211c",
            "acc39da43eaf4cca8fdc6cdddd806724",
            "840337bfa17d4e5982e395643781eac9",
            "67e93148f5804f598a9a707b9591daab",
            "1d2c5089e7e24a4a9804450681798530",
            "d8729bddfa2a4a549d7dfb6cf9df4570",
            "84397fd5af2447ec882ed39751779d7c",
            "e2e2396690484e0584062de4b4556bc6",
            "22b5873fb5c24240b448fb472f1bf9dd",
            "3568b412487842db909b5450f2e3798b",
            "37c9610a543340ec956c9deeef6998da",
            "488a3fa915a9473b84c0ffa894c7d29d",
            "1b872870b03d4779b58615929a58e548",
            "09a8be2a5de946dabce0083f14342735",
            "e4e3c74c27644959b1d96eeb30674f80",
            "a6a53c23d9874aeea52f6b2579a1d626",
            "c59c0408622747b9b1d8d156ffc309c3",
            "e671ac28db0e473b9879100590bc5b67",
            "65ecf5cf6e8240c58f671a386162d600",
            "ec70a84ebeb440508c22af1be257ef2d",
            "6a312ae055a34ebc9c24060485acd5e1",
            "1a1c9eda86be4f4881251b8638d9b90f",
            "408df2bde4f04359bfebed3915767349",
            "7dd6627b8162420e89bd4d6203c63231",
            "f60e3cb711924e54ae12595495321a7d",
            "d314f1b569de481bb111d953ab68501b",
            "ccb5ddb7844c4c279f042a41a7d3f3e0",
            "0f55527a2dda456f857d1e6e4a82ca88",
            "14bf3abc33984c6cb8ed1a0b4d0c4160"
          ]
        },
        "id": "BXD5wuDXimyv",
        "outputId": "d37dc377-85a4-463d-c212-27ce33d8a685"
      },
      "execution_count": 43,
      "outputs": [
        {
          "output_type": "display_data",
          "data": {
            "text/plain": [
              "Downloading artifacts:   0%|          | 0/8 [00:00<?, ?it/s]"
            ],
            "application/vnd.jupyter.widget-view+json": {
              "version_major": 2,
              "version_minor": 0,
              "model_id": "af1f6fdf8b884ee0987794fdaf11b041"
            }
          },
          "metadata": {
            "application/vnd.jupyter.widget-view+json": {
              "colab": {
                "custom_widget_manager": {
                  "url": "https://ssl.gstatic.com/colaboratory-static/widgets/colab-cdn-widget-manager/2b70e893a8ba7c0f/manager.min.js"
                }
              }
            }
          }
        },
        {
          "output_type": "stream",
          "name": "stderr",
          "text": [
            "/usr/local/lib/python3.10/dist-packages/transformers/generation/utils.py:1375: UserWarning: Using the model-agnostic default `max_length` (=20) to control the generation length. We recommend setting `max_new_tokens` to control the maximum length of the generation.\n",
            "  warnings.warn(\n"
          ]
        },
        {
          "output_type": "display_data",
          "data": {
            "text/plain": [
              "Uploading artifacts:   0%|          | 0/15 [00:00<?, ?it/s]"
            ],
            "application/vnd.jupyter.widget-view+json": {
              "version_major": 2,
              "version_minor": 0,
              "model_id": "e671ac28db0e473b9879100590bc5b67"
            }
          },
          "metadata": {
            "application/vnd.jupyter.widget-view+json": {
              "colab": {
                "custom_widget_manager": {
                  "url": "https://ssl.gstatic.com/colaboratory-static/widgets/colab-cdn-widget-manager/2b70e893a8ba7c0f/manager.min.js"
                }
              }
            }
          }
        },
        {
          "output_type": "display_data",
          "data": {
            "text/plain": [
              "Uploading /tmp/tmpisttgo7e/model/artifacts/blip_pytorch/model.safetensors:   0%|          | 0.00/896M [00:00<?…"
            ],
            "application/vnd.jupyter.widget-view+json": {
              "version_major": 2,
              "version_minor": 0,
              "model_id": "14bf3abc33984c6cb8ed1a0b4d0c4160"
            }
          },
          "metadata": {}
        },
        {
          "output_type": "stream",
          "name": "stderr",
          "text": [
            "WARNING:urllib3.connectionpool:Connection pool is full, discarding connection: dbstoragehxvzfnone7t6e.dfs.core.windows.net. Connection pool size: 10\n",
            "WARNING:urllib3.connectionpool:Connection pool is full, discarding connection: dbstoragehxvzfnone7t6e.dfs.core.windows.net. Connection pool size: 10\n",
            "WARNING:urllib3.connectionpool:Connection pool is full, discarding connection: dbstoragehxvzfnone7t6e.dfs.core.windows.net. Connection pool size: 10\n",
            "WARNING:urllib3.connectionpool:Connection pool is full, discarding connection: dbstoragehxvzfnone7t6e.dfs.core.windows.net. Connection pool size: 10\n",
            "WARNING:urllib3.connectionpool:Connection pool is full, discarding connection: dbstoragehxvzfnone7t6e.dfs.core.windows.net. Connection pool size: 10\n",
            "WARNING:urllib3.connectionpool:Connection pool is full, discarding connection: dbstoragehxvzfnone7t6e.dfs.core.windows.net. Connection pool size: 10\n"
          ]
        },
        {
          "output_type": "stream",
          "name": "stdout",
          "text": [
            "🏃 View run blip_captioner_log_2024-12-18_16:49:05 at: https://adb-2467347032368999.19.azuredatabricks.net/ml/experiments/3911355520244679/runs/a000d60c32ab4333b6d90dda1893aa4b\n",
            "🧪 View experiment at: https://adb-2467347032368999.19.azuredatabricks.net/ml/experiments/3911355520244679\n"
          ]
        }
      ]
    },
    {
      "cell_type": "code",
      "source": [
        "run.to_dictionary()"
      ],
      "metadata": {
        "colab": {
          "base_uri": "https://localhost:8080/"
        },
        "id": "Fo31rdE5wwHj",
        "outputId": "bfd1cd9a-66c8-406e-85f1-38bf92c2c281"
      },
      "execution_count": 44,
      "outputs": [
        {
          "output_type": "execute_result",
          "data": {
            "text/plain": [
              "{'info': {'artifact_uri': 'dbfs:/databricks/mlflow-tracking/3911355520244679/a000d60c32ab4333b6d90dda1893aa4b/artifacts',\n",
              "  'end_time': None,\n",
              "  'experiment_id': '3911355520244679',\n",
              "  'lifecycle_stage': 'active',\n",
              "  'run_id': 'a000d60c32ab4333b6d90dda1893aa4b',\n",
              "  'run_name': 'blip_captioner_log_2024-12-18_16:49:05',\n",
              "  'run_uuid': 'a000d60c32ab4333b6d90dda1893aa4b',\n",
              "  'start_time': 1734540545199,\n",
              "  'status': 'RUNNING',\n",
              "  'user_id': ''},\n",
              " 'data': {'metrics': {},\n",
              "  'params': {},\n",
              "  'tags': {'mlflow.note.content': 'Log BLIP captioner model with mlflow\\nBLIP: Bootstrapping Language-Image Pre-training for Unified Vision-Language Understanding and Generation\\nhttps://huggingface.co/Salesforce/blip-image-captioning-large\\n\\n',\n",
              "   'mlflow.runColor': '#da4c4c',\n",
              "   'mlflow.runName': 'blip_captioner_log_2024-12-18_16:49:05',\n",
              "   'mlflow.source.name': '/usr/local/lib/python3.10/dist-packages/colab_kernel_launcher.py',\n",
              "   'mlflow.source.type': 'LOCAL',\n",
              "   'mlflow.user': '1331640755799986'}}}"
            ]
          },
          "metadata": {},
          "execution_count": 44
        }
      ]
    },
    {
      "cell_type": "code",
      "source": [
        "\n",
        "model_info.model_uri"
      ],
      "metadata": {
        "colab": {
          "base_uri": "https://localhost:8080/",
          "height": 35
        },
        "id": "7ni3ZzBVimvh",
        "outputId": "8e454476-939c-49ab-fd38-efa73df55b67"
      },
      "execution_count": 45,
      "outputs": [
        {
          "output_type": "execute_result",
          "data": {
            "text/plain": [
              "'runs:/a000d60c32ab4333b6d90dda1893aa4b/captioner'"
            ],
            "application/vnd.google.colaboratory.intrinsic+json": {
              "type": "string"
            }
          },
          "metadata": {},
          "execution_count": 45
        }
      ]
    },
    {
      "cell_type": "code",
      "source": [
        "loaded_model = mlflow.pyfunc.load_model(model_info.model_uri)"
      ],
      "metadata": {
        "colab": {
          "base_uri": "https://localhost:8080/",
          "height": 98,
          "referenced_widgets": [
            "4c85a5ba442242a4ad272249384661d3",
            "520579341b0f4f3da5c7dedab6a7f1aa",
            "96d3d7dc64af4d86aab681b122b59e63",
            "173420f8ebe24e46acc06d97ceeab0c2",
            "8e24c77b48164802bb4ba0dec19b4aca",
            "4cecdbf4bf214f5f8d43702f72819a28",
            "a66b1115cb2a450f90084b1c4739db14",
            "3396acb86ea141659e8407f39164be1f",
            "7033adba4e0e4494b07b35c55a217dbc",
            "7de8bf371fff43d9af057d3588c83eb8",
            "fb2deb9e3b8644dc861326f5c454859c",
            "50cbdaf113214a69821405ac8997cb44",
            "e013bfce63394e7291626a7fa06a2ad0",
            "c86ac8c8674e4e5d9f393763e70e5bc2",
            "7c131cb608ab4255bcdc98076110beb1",
            "a5dfb991a69b4605a62d412af9d3d0ab",
            "1c33f0b9dc164868a76da49c69c3c75f",
            "45282f0c03574bdca25c693157a642f8",
            "03ac417ffa2741a8a2835240cc804e41",
            "9c0d503307654c08af28acb0529f6a1a",
            "41d21711ff3d43de8389e4eded694031",
            "fb4c8639ad9c4d7cbbe08b3971d3831c"
          ]
        },
        "id": "tts2Z4vjimdy",
        "outputId": "5ea176f2-52d6-407e-dbc0-96107c3e8166"
      },
      "execution_count": 46,
      "outputs": [
        {
          "output_type": "display_data",
          "data": {
            "text/plain": [
              "Downloading artifacts:   0%|          | 0/15 [00:00<?, ?it/s]"
            ],
            "application/vnd.jupyter.widget-view+json": {
              "version_major": 2,
              "version_minor": 0,
              "model_id": "4c85a5ba442242a4ad272249384661d3"
            }
          },
          "metadata": {
            "application/vnd.jupyter.widget-view+json": {
              "colab": {
                "custom_widget_manager": {
                  "url": "https://ssl.gstatic.com/colaboratory-static/widgets/colab-cdn-widget-manager/2b70e893a8ba7c0f/manager.min.js"
                }
              }
            }
          }
        },
        {
          "output_type": "display_data",
          "data": {
            "text/plain": [
              "Downloading /tmp/tmptw0fhltu/captioner/artifacts/blip_pytorch/model.safetensors:   0%|          | 0.00/896M [0…"
            ],
            "application/vnd.jupyter.widget-view+json": {
              "version_major": 2,
              "version_minor": 0,
              "model_id": "fb4c8639ad9c4d7cbbe08b3971d3831c"
            }
          },
          "metadata": {}
        },
        {
          "output_type": "stream",
          "name": "stderr",
          "text": [
            "WARNING:urllib3.connectionpool:Connection pool is full, discarding connection: dbstoragehxvzfnone7t6e.dfs.core.windows.net. Connection pool size: 10\n"
          ]
        }
      ]
    },
    {
      "cell_type": "code",
      "source": [
        "loaded_model"
      ],
      "metadata": {
        "colab": {
          "base_uri": "https://localhost:8080/"
        },
        "id": "Xy9Zm0RHpb15",
        "outputId": "9b01b56d-2fda-457d-ea88-8a52531d8929"
      },
      "execution_count": 47,
      "outputs": [
        {
          "output_type": "execute_result",
          "data": {
            "text/plain": [
              "mlflow.pyfunc.loaded_model:\n",
              "  artifact_path: captioner\n",
              "  flavor: mlflow.pyfunc.model\n",
              "  run_id: a000d60c32ab4333b6d90dda1893aa4b"
            ]
          },
          "metadata": {},
          "execution_count": 47
        }
      ]
    },
    {
      "cell_type": "code",
      "source": [
        "\n",
        "time1=  datetime.datetime.now()\n",
        "response = loaded_model.predict({\"path_image\":\"/content/drive/MyDrive/data/beach.jpg\"})\n",
        "time2=  datetime.datetime.now()\n",
        "print(time2-time1)"
      ],
      "metadata": {
        "colab": {
          "base_uri": "https://localhost:8080/"
        },
        "id": "Kx_SXW-ppzfr",
        "outputId": "491c8eb4-4448-482e-d35a-b22d22966e27"
      },
      "execution_count": 48,
      "outputs": [
        {
          "output_type": "stream",
          "name": "stderr",
          "text": [
            "/usr/local/lib/python3.10/dist-packages/transformers/generation/utils.py:1375: UserWarning: Using the model-agnostic default `max_length` (=20) to control the generation length. We recommend setting `max_new_tokens` to control the maximum length of the generation.\n",
            "  warnings.warn(\n"
          ]
        },
        {
          "output_type": "stream",
          "name": "stdout",
          "text": [
            "0:00:03.453762\n"
          ]
        }
      ]
    },
    {
      "cell_type": "code",
      "source": [
        "\n",
        "pprint.pprint(response)"
      ],
      "metadata": {
        "colab": {
          "base_uri": "https://localhost:8080/"
        },
        "id": "1aaqfk4VpzXF",
        "outputId": "f47ea565-f030-4603-ee73-6e9c63d13c89"
      },
      "execution_count": 49,
      "outputs": [
        {
          "output_type": "stream",
          "name": "stdout",
          "text": [
            "'a photography of a group of people standing on a beach next to the ocean'\n"
          ]
        }
      ]
    },
    {
      "cell_type": "code",
      "source": [
        "result = mlflow.register_model(\n",
        "    model_info.model_uri, \"blip_captioner\"\n",
        ")"
      ],
      "metadata": {
        "id": "6nK4IVofaAxY",
        "colab": {
          "base_uri": "https://localhost:8080/"
        },
        "outputId": "7c36509b-73eb-4233-89b2-12bbfb5e62c5"
      },
      "execution_count": 50,
      "outputs": [
        {
          "output_type": "stream",
          "name": "stderr",
          "text": [
            "Successfully registered model 'blip_captioner'.\n",
            "2024/12/18 16:50:55 INFO mlflow.store.model_registry.abstract_store: Waiting up to 300 seconds for model version to finish creation. Model name: blip_captioner, version 1\n",
            "Created version '1' of model 'blip_captioner'.\n"
          ]
        }
      ]
    },
    {
      "cell_type": "code",
      "source": [
        "from mlflow import MlflowClient\n",
        "\n",
        "client = MlflowClient()"
      ],
      "metadata": {
        "id": "w9d-RG6fjpdq"
      },
      "execution_count": 51,
      "outputs": []
    },
    {
      "cell_type": "code",
      "source": [
        "client.get_model_version(name=\"blip_captioner\", version=1)"
      ],
      "metadata": {
        "colab": {
          "base_uri": "https://localhost:8080/"
        },
        "id": "gMzquuDAaWeI",
        "outputId": "c0d12c96-37f4-44d4-93c5-b389b748d009"
      },
      "execution_count": 52,
      "outputs": [
        {
          "output_type": "execute_result",
          "data": {
            "text/plain": [
              "<ModelVersion: aliases=[], creation_timestamp=1734540655677, current_stage='None', description='', last_updated_timestamp=1734540693540, name='blip_captioner', run_id='a000d60c32ab4333b6d90dda1893aa4b', run_link='', source='dbfs:/databricks/mlflow-tracking/3911355520244679/a000d60c32ab4333b6d90dda1893aa4b/artifacts/captioner', status='READY', status_message='', tags={}, user_id='jhuertas@capaxdiscovery.com', version='1'>"
            ]
          },
          "metadata": {},
          "execution_count": 52
        }
      ]
    },
    {
      "cell_type": "code",
      "source": [
        "import mlflow.pyfunc\n",
        "\n",
        "model_name = \"blip_captioner\"\n",
        "model_version = 1\n",
        "\n",
        "model = mlflow.pyfunc.load_model(model_uri=f\"models:/{model_name}/{model_version}\")\n",
        "\n",
        "model.predict({\"path_image\":\"/content/drive/MyDrive/data/beach.jpg\"})"
      ],
      "metadata": {
        "colab": {
          "base_uri": "https://localhost:8080/",
          "height": 241,
          "referenced_widgets": [
            "f892212c1c25458e9ece928ad8967182",
            "b2cd3ef9a56d429098014e387ab7978c",
            "8cb16afd5d364d3d95f539dc1c5ae1ac",
            "af9ff08e4f844f4e88a60ea2f23d3ff2",
            "75e47bd7ed184b7885ec7f9dc7ed2cfa",
            "b2cc841fcc5944c0bc78d1ba291d00bb",
            "e5f3e856b3e64411aa19a398648259f3",
            "9321c37c898f4de1b17abe4cba641f4f",
            "8b8614ff31544997a8f54ad0408e1845",
            "47614a87e37a4a6f9a3393447204fc46",
            "3ced3485aa874d048daa13b4af7c7b7c",
            "09c36316b73540f686aef3db3d8f7a5c",
            "248465b94aac4bffa23e5bdd88622752",
            "1f815e243dc34cdf8e56b9dd02c4eb63",
            "16f327ed58f04037a3ef40edcf32d739",
            "83e156d16a4f45978402f29a823d74ee",
            "1fa77227389946bba837001cfade0930",
            "714e72d6e8884e079f4eaeda74088c88",
            "69f2e757b1fe492a9726ce81d306c65e",
            "e333b4632e2842f28609655526384cbd",
            "e09c0bdc12c24b58ab3b127bbb6b5574",
            "65be51b758504932ad242961cb2a5682"
          ]
        },
        "id": "9ENan7waany8",
        "outputId": "1c6e4800-7de1-49a8-8e1e-aca96b1a3d8d"
      },
      "execution_count": 53,
      "outputs": [
        {
          "output_type": "display_data",
          "data": {
            "text/plain": [
              "Downloading artifacts:   0%|          | 0/15 [00:00<?, ?it/s]"
            ],
            "application/vnd.jupyter.widget-view+json": {
              "version_major": 2,
              "version_minor": 0,
              "model_id": "f892212c1c25458e9ece928ad8967182"
            }
          },
          "metadata": {
            "application/vnd.jupyter.widget-view+json": {
              "colab": {
                "custom_widget_manager": {
                  "url": "https://ssl.gstatic.com/colaboratory-static/widgets/colab-cdn-widget-manager/2b70e893a8ba7c0f/manager.min.js"
                }
              }
            }
          }
        },
        {
          "output_type": "stream",
          "name": "stderr",
          "text": [
            "2024/12/18 16:52:04 INFO mlflow.utils.databricks_utils: No workspace ID specified; if your Databricks workspaces share the same host URL, you may want to specify the workspace ID (along with the host information in the secret manager) for run lineage tracking. For more details on how to specify this information in the secret manager, please refer to the Databricks MLflow documentation.\n",
            "WARNING:urllib3.connectionpool:Connection pool is full, discarding connection: dbstoragehxvzfnone7t6e.dfs.core.windows.net. Connection pool size: 10\n",
            "WARNING:urllib3.connectionpool:Connection pool is full, discarding connection: dbstoragehxvzfnone7t6e.dfs.core.windows.net. Connection pool size: 10\n",
            "WARNING:urllib3.connectionpool:Connection pool is full, discarding connection: dbstoragehxvzfnone7t6e.dfs.core.windows.net. Connection pool size: 10\n",
            "WARNING:urllib3.connectionpool:Connection pool is full, discarding connection: dbstoragehxvzfnone7t6e.dfs.core.windows.net. Connection pool size: 10\n"
          ]
        },
        {
          "output_type": "display_data",
          "data": {
            "text/plain": [
              "Downloading /tmp/tmp10a7ojfy/artifacts/blip_pytorch/model.safetensors:   0%|          | 0.00/896M [00:00<?, ?i…"
            ],
            "application/vnd.jupyter.widget-view+json": {
              "version_major": 2,
              "version_minor": 0,
              "model_id": "65be51b758504932ad242961cb2a5682"
            }
          },
          "metadata": {}
        },
        {
          "output_type": "stream",
          "name": "stderr",
          "text": [
            "/usr/local/lib/python3.10/dist-packages/transformers/generation/utils.py:1375: UserWarning: Using the model-agnostic default `max_length` (=20) to control the generation length. We recommend setting `max_new_tokens` to control the maximum length of the generation.\n",
            "  warnings.warn(\n"
          ]
        },
        {
          "output_type": "execute_result",
          "data": {
            "text/plain": [
              "'a photography of a group of people standing on a beach next to the ocean'"
            ],
            "application/vnd.google.colaboratory.intrinsic+json": {
              "type": "string"
            }
          },
          "metadata": {},
          "execution_count": 53
        }
      ]
    },
    {
      "cell_type": "code",
      "source": [
        "f\"models:/{model_name}/{model_version}\""
      ],
      "metadata": {
        "id": "ecENSV77s5ti",
        "outputId": "bae5ede7-e5c9-49df-c881-0087e12daa98",
        "colab": {
          "base_uri": "https://localhost:8080/",
          "height": 35
        }
      },
      "execution_count": 55,
      "outputs": [
        {
          "output_type": "execute_result",
          "data": {
            "text/plain": [
              "'models:/blip_captioner/1'"
            ],
            "application/vnd.google.colaboratory.intrinsic+json": {
              "type": "string"
            }
          },
          "metadata": {},
          "execution_count": 55
        }
      ]
    }
  ]
}