{
 "cells": [
  {
   "cell_type": "code",
   "execution_count": 1,
   "id": "bad1a948-c21a-47c1-bd9e-728a4a3153b1",
   "metadata": {},
   "outputs": [],
   "source": [
    "import requests\n",
    "import datetime\n",
    "import base64\n",
    "import json\n",
    "import io\n",
    "import os\n",
    "from PIL import Image\n",
    "import uuid\n",
    "from pathlib import Path\n",
    "#url = 'http://127.0.0.1:5003/extract_text'\n",
    "url = 'http://127.0.0.1:5003/process'\n",
    "\n",
    "ROOT = os.getcwd()\n",
    "DATA_PATH = os.path.join(ROOT, \"files_test\")\n",
    "OUTPUT_PATH = os.path.join(ROOT,\"output\")"
   ]
  },
  {
   "cell_type": "code",
   "execution_count": 2,
   "id": "73693eeb-2d93-4d6d-9afb-ca70af07eb77",
   "metadata": {},
   "outputs": [
    {
     "data": {
      "text/plain": [
       "'D:\\\\repos\\\\nlp\\\\notebooks\\\\OCR\\\\test\\\\output'"
      ]
     },
     "execution_count": 2,
     "metadata": {},
     "output_type": "execute_result"
    }
   ],
   "source": [
    "OUTPUT_PATH"
   ]
  },
  {
   "cell_type": "code",
   "execution_count": 3,
   "id": "e5c1b367-c8b4-4686-966e-f733c068176d",
   "metadata": {},
   "outputs": [],
   "source": [
    "def read_file(IMAGE_PATH):\n",
    "    with open(IMAGE_PATH, \"rb\") as f:\n",
    "        im_bytes = f.read()        \n",
    "    im_b64 = base64.b64encode(im_bytes).decode(\"utf8\")\n",
    "    return im_b64"
   ]
  },
  {
   "cell_type": "markdown",
   "id": "406d69ed-3910-4116-89a2-1e9eed3bcfa2",
   "metadata": {},
   "source": [
    "# Files to test"
   ]
  },
  {
   "cell_type": "code",
   "execution_count": 682,
   "id": "435131a6-9bc4-48ea-ac22-e783ab789943",
   "metadata": {},
   "outputs": [],
   "source": [
    "filename = os.path.join(DATA_PATH, \"contribution_form_Juan_23082023.pdf\")\n",
    "filename = os.path.join(DATA_PATH, \"image_0.png\") # Handwritting\n",
    "filename = os.path.join(DATA_PATH, \"image_1.png\") # Handwritting\n",
    "filename = os.path.join(DATA_PATH, \"image_2.png\") # Handwritting\n",
    "filename = os.path.join(DATA_PATH, \"pict001.jpg\")\n",
    "filename = os.path.join(DATA_PATH, \"pict002.jpg\")\n",
    "filename = os.path.join(DATA_PATH, \"pict003.jpg\")\n",
    "filename = os.path.join(DATA_PATH, \"senior_python_developer_nlplogix1_sm_gif.gif\")\n",
    "filename = os.path.join(DATA_PATH, \"senior_python_developer_nlplogix1_sm_jpg.jpg\")\n",
    "filename = os.path.join(DATA_PATH, \"senior_python_developer_nlplogix1_sm_png.png\")\n",
    "filename = os.path.join(DATA_PATH, \"senior_python_developer_nlplogix1_sm_tiff.tiff\")\n",
    "filename = os.path.join(DATA_PATH, \"senior_python_developer_nlplogix2_sm_bmp.bmp\")\n",
    "filename = os.path.join(DATA_PATH, \"statement_22.jpeg\")\n",
    "filename = os.path.join(DATA_PATH, \"test_images.docx\") \n",
    "filename = os.path.join(DATA_PATH, \"test_ppt.pptx\")\n",
    "filename = os.path.join(DATA_PATH, \"test_rtf.rtf\")\n",
    "filename = os.path.join(DATA_PATH, \"test2_odt.odt\")\n",
    "filename = os.path.join(DATA_PATH, \"CryptoCertificte-SS-V0.tiff\")#CryptoCertificte-SS-V0\n",
    "filename = os.path.join(DATA_PATH, \"Doc1.docx\")\n",
    "filename = os.path.join(DATA_PATH, \"Doc1.doc\")\n",
    "filename = os.path.join(DATA_PATH, \"base64.html\")\n",
    "filename = os.path.join(DATA_PATH, \"ppt_test.ppt\")\n",
    "filename = os.path.join(DATA_PATH, \"senior_python_developer_nlplogix2_sm.tif\")\n",
    "filename = os.path.join(DATA_PATH, \"senior_python_developer_nlplogix2_sm.jpg\")"
   ]
  },
  {
   "cell_type": "code",
   "execution_count": 683,
   "id": "a29a9a29-09bc-4faf-8c16-de6f093377d7",
   "metadata": {},
   "outputs": [],
   "source": [
    "im_b64 = read_file(filename)"
   ]
  },
  {
   "cell_type": "code",
   "execution_count": 684,
   "id": "bf3527fb-8f03-4e36-a412-a963ba65cbfe",
   "metadata": {},
   "outputs": [],
   "source": [
    "ext=filename.split(\".\")[-1]"
   ]
  },
  {
   "cell_type": "code",
   "execution_count": 685,
   "id": "eea1f789-2ae2-4910-a0c8-f7ffb8248389",
   "metadata": {},
   "outputs": [],
   "source": [
    "with open(\"template.json\", \"r\") as f:\n",
    "    req =  json.load(f)"
   ]
  },
  {
   "cell_type": "code",
   "execution_count": 686,
   "id": "bc397ec8-01e9-4b96-8402-32ca12e38ed7",
   "metadata": {},
   "outputs": [],
   "source": [
    "req['documents'][0]['source']['content'] = im_b64"
   ]
  },
  {
   "cell_type": "code",
   "execution_count": 687,
   "id": "ae232100-0f65-4561-ae4d-a11644feea16",
   "metadata": {},
   "outputs": [
    {
     "data": {
      "text/plain": [
       "'/9j/4AAQSkZJRgABAQEASABIAAD/4QDuRXhpZgAATU0AKgAAAA'"
      ]
     },
     "execution_count": 687,
     "metadata": {},
     "output_type": "execute_result"
    }
   ],
   "source": [
    "im_b64[:50]"
   ]
  },
  {
   "cell_type": "code",
   "execution_count": 688,
   "id": "44964a8c-e944-44d2-a75f-526a5cf14901",
   "metadata": {},
   "outputs": [
    {
     "data": {
      "text/plain": [
       "'jpg'"
      ]
     },
     "execution_count": 688,
     "metadata": {},
     "output_type": "execute_result"
    }
   ],
   "source": [
    "req['documents'][0]['source']['file_type'] = ext\n",
    "req['documents'][0]['source']['file_type']"
   ]
  },
  {
   "cell_type": "code",
   "execution_count": 689,
   "id": "d7d97b98-83fd-4da8-a7ef-4fa7efb0a16f",
   "metadata": {},
   "outputs": [
    {
     "data": {
      "text/plain": [
       "'senior_python_developer_nlplogix2_sm.jpg'"
      ]
     },
     "execution_count": 689,
     "metadata": {},
     "output_type": "execute_result"
    }
   ],
   "source": [
    "Path(filename).name"
   ]
  },
  {
   "cell_type": "code",
   "execution_count": 702,
   "id": "6fe53a1e-8d15-4d58-b91d-5d57bdab7cfb",
   "metadata": {},
   "outputs": [],
   "source": [
    "data1 = json.dumps(req).encode()\n",
    "response = requests.post(url, data=data1)\n",
    "try:\n",
    "    out = response.json()\n",
    "    text = out['data'][0]['source']['content']\n",
    "    out_file = Path(filename).name\n",
    "    file_output = out_file.split(\".\")[0] + \".txt\"\n",
    "    file_path = os.path.join(OUTPUT_PATH, file_output)\n",
    "    with open(file_path, \"w\", encoding=\"utf-8\") as file:\n",
    "         file.write(str(text))\n",
    "\n",
    "except:\n",
    "    print(f\"file {filename} error {response.json()['error']}\")\n",
    "    "
   ]
  },
  {
   "cell_type": "code",
   "execution_count": 703,
   "id": "eb4965b1-90f9-4ee6-a3ba-464b6b5b8f38",
   "metadata": {},
   "outputs": [],
   "source": [
    "out = response.json()"
   ]
  },
  {
   "cell_type": "code",
   "execution_count": 704,
   "id": "467b80ae-35c5-4cba-aaf3-282548ec3379",
   "metadata": {},
   "outputs": [
    {
     "data": {
      "text/plain": [
       "{'status': {'code': 200, 'message': 'Success'},\n",
       " 'data': [{'id': 'c5613d504ddd3367d15ba6ab9245c062018fa21135aec4d452f9b3e4d88c441b',\n",
       "   'index': 'large_control_dataset-doc',\n",
       "   'source': {'content': \"Excellent analytical skills and strongwritten and verbal communication skills\\nRequirements (Nice-to-Haves):\\nExperience or exposure to OcR technologies\\nExperience or exposure to image processing algorithms\\nExperience or exposure to scikit-learn\\nExperience with C#,Java or JavaScript\\nDeveloping,deploying and scaling Docker components\\nGeneral exposure and familiarity with Machine Learning technologies\\nEducation:\\nBachelor's degree from four-year college or university,preferred; and five years\\nexperience in general software development or comparable related experience.\\nExperience working with one or more major relational database technology (Oracle,\\nSQL\\nServer,MySQL,PostreSQL)\\nComfortable working in both Windows and Linux based environments\\nAbility to work effectively with colleagues\\nAbility to work with minimal supervision\\nExcellent analytical skills and strong written and verbal communication skills\\nRequirements (Nice-to-Haves):\\nExperience or exposure to OcR technologies\\nExperience or exposure to image processing algorithms\\nExperience or exposure to scikit-learn\\nExperience with C#,Java or JavaScript\\nDeveloping,deploying and scaling Docker components\\nGeneral exposure and familiarity with Machine Learning technologies\",\n",
       "    'fs': {'uri': 'file:///home/demofilesystem/test_data/large%20control%20dataset/office%20files%20and%20documents/doc/test.jpg'},\n",
       "    'file_name': 'test.jpg',\n",
       "    'file_type': 'jpg'}}],\n",
       " 'error': '',\n",
       " 'number_documents_treated': 1,\n",
       " 'number_documents_non_treated': 0,\n",
       " 'list_id_not_treated': [],\n",
       " 'memory_used': '13.0',\n",
       " 'ram_used': '3.87'}"
      ]
     },
     "execution_count": 704,
     "metadata": {},
     "output_type": "execute_result"
    }
   ],
   "source": [
    "out"
   ]
  },
  {
   "cell_type": "code",
   "execution_count": 698,
   "id": "ce447214-4e35-4a59-8dd1-7cb2ae9cbb91",
   "metadata": {},
   "outputs": [
    {
     "name": "stdout",
     "output_type": "stream",
     "text": [
      "Excellent analytical skills and strongwritten and verbal communication skills\n",
      "Requirements (Nice-to-Haves):\n",
      "Experience or exposure to OcR technologies\n",
      "Experience or exposure to image processing algorithms\n",
      "Experience or exposure to scikit-learn\n",
      "Experience with C#,Java or JavaScript\n",
      "Developing,deploying and scaling Docker components\n",
      "General exposure and familiarity with Machine Learning technologies\n",
      "Education:\n",
      "Bachelor's degree from four-year college or university,preferred; and five years\n",
      "experience in general software development or comparable related experience.\n",
      "Experience working with one or more major relational database technology (Oracle,\n",
      "SQL\n",
      "Server,MySQL,PostreSQL)\n",
      "Comfortable working in both Windows and Linux based environments\n",
      "Ability to work effectively with colleagues\n",
      "Ability to work with minimal supervision\n",
      "Excellent analytical skills and strong written and verbal communication skills\n",
      "Requirements (Nice-to-Haves):\n",
      "Experience or exposure to OcR technologies\n",
      "Experience or exposure to image processing algorithms\n",
      "Experience or exposure to scikit-learn\n",
      "Experience with C#,Java or JavaScript\n",
      "Developing,deploying and scaling Docker components\n",
      "General exposure and familiarity with Machine Learning technologies\n"
     ]
    }
   ],
   "source": [
    "print(out['data'][0]['source']['content'])"
   ]
  },
  {
   "cell_type": "code",
   "execution_count": null,
   "id": "87cdedd7-f36f-4588-b2dd-f60fba941b0d",
   "metadata": {},
   "outputs": [],
   "source": []
  },
  {
   "cell_type": "code",
   "execution_count": null,
   "id": "15576062-55c3-4f5c-a43e-57bccce7eb19",
   "metadata": {},
   "outputs": [],
   "source": []
  }
 ],
 "metadata": {
  "kernelspec": {
   "display_name": "Python (pii)",
   "language": "python",
   "name": "pii"
  },
  "language_info": {
   "codemirror_mode": {
    "name": "ipython",
    "version": 3
   },
   "file_extension": ".py",
   "mimetype": "text/x-python",
   "name": "python",
   "nbconvert_exporter": "python",
   "pygments_lexer": "ipython3",
   "version": "3.11.10"
  }
 },
 "nbformat": 4,
 "nbformat_minor": 5
}
