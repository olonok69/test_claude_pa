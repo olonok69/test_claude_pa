{
 "cells": [
  {
   "cell_type": "code",
   "execution_count": null,
   "id": "3fb5a037",
   "metadata": {},
   "outputs": [],
   "source": [
    "from transformers import AutoTokenizer, AutoModelForSequenceClassification\n",
    "from transformers import TextClassificationPipeline, AutoTokenizer, AutoModelForSequenceClassification\n",
    "\n",
    "import torch\n",
    "\n",
    "tokenizer = AutoTokenizer.from_pretrained(\"Hate-speech-CNERG/bert-base-uncased-hatexplain\")\n",
    "\n",
    "model = AutoModelForSequenceClassification.from_pretrained(\"Hate-speech-CNERG/bert-base-uncased-hatexplain\")"
   ]
  },
  {
   "cell_type": "code",
   "execution_count": null,
   "id": "dded4d98",
   "metadata": {},
   "outputs": [],
   "source": [
    "inputs = [\"Hello, my dog is cute\", \"At least I'm not a nigger\", \"hey guy, dont be lazy\"]"
   ]
  },
  {
   "cell_type": "code",
   "execution_count": null,
   "id": "65026fe6",
   "metadata": {},
   "outputs": [],
   "source": [
    "labels= model.config.id2label"
   ]
  },
  {
   "cell_type": "code",
   "execution_count": null,
   "id": "9c73ceb5",
   "metadata": {},
   "outputs": [],
   "source": [
    "pipe = TextClassificationPipeline(model=model, tokenizer=tokenizer)"
   ]
  },
  {
   "cell_type": "code",
   "execution_count": null,
   "id": "bf297ef1",
   "metadata": {},
   "outputs": [],
   "source": [
    "for i in inputs:\n",
    "    prediction = pipe(i, top_k=len(labels))\n",
    "    print(i)\n",
    "    print(prediction)\n",
    "    print()"
   ]
  },
  {
   "cell_type": "code",
   "execution_count": 1,
   "id": "44bd891d",
   "metadata": {},
   "outputs": [],
   "source": [
    "import requests\n",
    "import mimetypes\n",
    "import json"
   ]
  },
  {
   "cell_type": "code",
   "execution_count": 2,
   "id": "39fe0147",
   "metadata": {},
   "outputs": [],
   "source": [
    "text = \"hey guy, dont be lazy\"\n",
    "#text = \"The Palestinians are like crocodiles; the more you give them meat, they want more\""
   ]
  },
  {
   "cell_type": "code",
   "execution_count": 3,
   "id": "38e34b24",
   "metadata": {},
   "outputs": [
    {
     "data": {
      "text/plain": [
       "b'hey guy, dont be lazy'"
      ]
     },
     "execution_count": 3,
     "metadata": {},
     "output_type": "execute_result"
    }
   ],
   "source": [
    "data1 = text.encode()\n",
    "data1"
   ]
  },
  {
   "cell_type": "code",
   "execution_count": 4,
   "id": "a673c757",
   "metadata": {},
   "outputs": [
    {
     "name": "stdout",
     "output_type": "stream",
     "text": [
      "{\n",
      "  \"source\": \"hey guy, dont be lazy\",\n",
      "  \"hate_prediction\": [\n",
      "    [\n",
      "      {\n",
      "        \"label\": \"normal\",\n",
      "        \"score\": 0.636485755443573\n",
      "      },\n",
      "      {\n",
      "        \"label\": \"offensive\",\n",
      "        \"score\": 0.3253282308578491\n",
      "      },\n",
      "      {\n",
      "        \"label\": \"hate speech\",\n",
      "        \"score\": 0.03818602114915848\n",
      "      }\n",
      "    ]\n",
      "  ]\n",
      "}\n"
     ]
    }
   ],
   "source": [
    "# Semantic similarity\n",
    "url = \"http://localhost:5004/hate_analyzer\" \n",
    "# fin = open(f'../notebooks/test_docs/query2.json', 'rb')\n",
    "# query\n",
    "#data=fin.read()\n",
    "\n",
    "#files = {'file': fin}\n",
    "try:\n",
    "    r = requests.post(url, data=data1)#files=files)\n",
    "    print(r.json())\n",
    "finally:\n",
    "\n",
    "    pass"
   ]
  },
  {
   "cell_type": "code",
   "execution_count": null,
   "id": "5fd2b2c5",
   "metadata": {},
   "outputs": [],
   "source": []
  }
 ],
 "metadata": {
  "kernelspec": {
   "display_name": "Python (pii)",
   "language": "python",
   "name": "myenv"
  },
  "language_info": {
   "codemirror_mode": {
    "name": "ipython",
    "version": 3
   },
   "file_extension": ".py",
   "mimetype": "text/x-python",
   "name": "python",
   "nbconvert_exporter": "python",
   "pygments_lexer": "ipython3",
   "version": "3.10.11"
  }
 },
 "nbformat": 4,
 "nbformat_minor": 5
}
