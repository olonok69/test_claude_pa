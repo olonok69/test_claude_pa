{
 "cells": [
  {
   "cell_type": "markdown",
   "id": "22dc3097",
   "metadata": {},
   "source": [
    "### This Notebook it is use to test the PII/ PHI classification Endpoints"
   ]
  },
  {
   "cell_type": "code",
   "execution_count": 2,
   "id": "dca153e9",
   "metadata": {},
   "outputs": [],
   "source": [
    "import requests\n",
    "import mimetypes\n",
    "import json"
   ]
  },
  {
   "cell_type": "code",
   "execution_count": 6,
   "id": "f3b1a810",
   "metadata": {},
   "outputs": [],
   "source": [
    "url = \"http://localhost:5000/get_index_docs\" \n",
    "\n",
    "query = {\n",
    "    \"pit\": {\n",
    "\n",
    "        \"id\": \"\"\n",
    "\n",
    "    },\n",
    "    \"query\":{\n",
    "        \"bool\":{\n",
    "         \"must\":[\n",
    "            {\n",
    "               \"exists\":{\n",
    "                  \"field\":\"content\"\n",
    "               }\n",
    "            },\n",
    "            {\n",
    "               \"bool\":{\n",
    "                  \"should\":[\n",
    "                     {\n",
    "                        \"term\":{\n",
    "                           \"file_type\":\"docx\"\n",
    "                        }\n",
    "                     },\n",
    "                     {\n",
    "                        \"term\":{\n",
    "                           \"file_type\":\"doc\"\n",
    "                        }\n",
    "                     }\n",
    "                     \n",
    "                  ]\n",
    "                    \n",
    "               }\n",
    "            },\n",
    "            {\n",
    "               \"range\":{\n",
    "                  \"fs.size\":{\n",
    "                     \"gt\":100,\n",
    "                     \"lt\":5000000\n",
    "                  }\n",
    "               }\n",
    "            }\n",
    "         ]\n",
    "      }\n",
    "   },\n",
    "    \"from\": 0,\n",
    "    \"size\": 10000,\n",
    "    \"sort\": [\n",
    "        {\n",
    "            \"fs.size\": {\n",
    "                \"order\": \"asc\"\n",
    "            }\n",
    "        }\n",
    "    ]\n",
    "}"
   ]
  },
  {
   "cell_type": "code",
   "execution_count": 36,
   "id": "d195a757",
   "metadata": {},
   "outputs": [
    {
     "data": {
      "text/plain": [
       "{'query': {'pit': {'id': ''},\n",
       "  'query': {'bool': {'must': [{'exists': {'field': 'content'}},\n",
       "     {'bool': {'should': [{'term': {'file_type': 'docx'}},\n",
       "        {'term': {'file_type': 'doc'}}]}},\n",
       "     {'range': {'fs.size': {'gt': 100, 'lt': 5000000}}}]}},\n",
       "  'from': 0,\n",
       "  'size': 10000,\n",
       "  'sort': [{'fs.size': {'order': 'asc'}}]},\n",
       " 'type': 'search_v2',\n",
       " 'index': 'large_control_dataset-doc',\n",
       " 'index_post': 'large_control_dataset-doc-classification',\n",
       " 'labels': 'fashion_business_finance_human resources_technology_international_politics_health_family_education_energy_mining_resume',\n",
       " 'num_docs': 1000,\n",
       " 'file_types_all': 'False',\n",
       " 'filenames_types': ['doc', 'docx']}"
      ]
     },
     "execution_count": 36,
     "metadata": {},
     "output_type": "execute_result"
    }
   ],
   "source": [
    "data = {}\n",
    "data['query'] = query\n",
    "data['type'] = \"search_v2\" # ingest or search\n",
    "data['index'] = \"large_control_dataset-doc\"\n",
    "data['index_post'] = \"large_control_dataset-doc-classification\"\n",
    "data['num_docs'] = 1000\n",
    "data['file_types_all'] = 'False'\n",
    "data['filenames_types']= [\"doc\", \"docx\"]\n",
    "data"
   ]
  },
  {
   "cell_type": "code",
   "execution_count": 37,
   "id": "eccc12c8",
   "metadata": {},
   "outputs": [],
   "source": [
    "data1 = json.dumps(data).encode()"
   ]
  },
  {
   "cell_type": "code",
   "execution_count": 40,
   "id": "978c28d9",
   "metadata": {
    "scrolled": false
   },
   "outputs": [
    {
     "name": "stdout",
     "output_type": "stream",
     "text": [
      "\"{\\n  \\\"status\\\": \\\"SUCCESS\\\",\\n  \\\"Number doc read \\\": \\\"19743\\\",\\n  \\\"Number doc posted \\\": \\\"830532\\\",\\n  \\\"Total Time\\\": \\\"10:05:42.326961\\\"\\n}\"\n"
     ]
    }
   ],
   "source": [
    "# Semantic similarity\n",
    "url = \"http://localhost:5000/get_index_docs\" \n",
    "# fin = open(f'../notebooks/test_docs/query2.json', 'rb')\n",
    "# query\n",
    "#data=fin.read()\n",
    "\n",
    "#files = {'file': fin}\n",
    "try:\n",
    "    r = requests.post(url, data=data1)#files=files)\n",
    "    print(r.text)\n",
    "finally:\n",
    "\n",
    "    pass"
   ]
  },
  {
   "cell_type": "code",
   "execution_count": 1,
   "id": "7a91159e",
   "metadata": {},
   "outputs": [],
   "source": [
    "resp =\"{\\n  \\\"status\\\": \\\"SUCCESS\\\",\\n  \\\"Number doc read \\\": \\\"19743\\\",\\n  \\\"Number doc posted \\\": \\\"830532\\\",\\n  \\\"Total Time\\\": \\\"10:05:42.326961\\\"\\n}\""
   ]
  },
  {
   "cell_type": "code",
   "execution_count": 2,
   "id": "0892ce59",
   "metadata": {},
   "outputs": [
    {
     "data": {
      "text/plain": [
       "{'status': 'SUCCESS',\n",
       " 'Number doc read ': '19743',\n",
       " 'Number doc posted ': '830532',\n",
       " 'Total Time': '10:05:42.326961'}"
      ]
     },
     "execution_count": 2,
     "metadata": {},
     "output_type": "execute_result"
    }
   ],
   "source": [
    "eval(resp)"
   ]
  },
  {
   "cell_type": "code",
   "execution_count": 4,
   "id": "98ce360b",
   "metadata": {},
   "outputs": [
    {
     "name": "stdout",
     "output_type": "stream",
     "text": [
      "{\n",
      "  \"data\": [\n",
      "    {\n",
      "      \"pii\": \"olonok@gmail.com\",\n",
      "      \"type\": \"EMAIL_ADDRESS\",\n",
      "      \"score\": 1.0\n",
      "    },\n",
      "    {\n",
      "      \"pii\": \"juan huertas\",\n",
      "      \"type\": \"PERSON\",\n",
      "      \"score\": 0.85\n",
      "    },\n",
      "    {\n",
      "      \"pii\": \"gmail.com\",\n",
      "      \"type\": \"URL\",\n",
      "      \"score\": 0.5\n",
      "    }\n",
      "  ]\n",
      "}\n"
     ]
    }
   ],
   "source": [
    "url = \"http://localhost:5000/pii_Analyzer_v2_spanish\" \n",
    "\n",
    "text = \" me llamo juan huertas y mi email es olonok@gmail.com\"\n",
    "data1 = text.encode()\n",
    "\n",
    "try:\n",
    "    r = requests.post(url, data=data1)#files=files)\n",
    "    print(r.json())\n",
    "finally:\n",
    "\n",
    "    pass\n"
   ]
  },
  {
   "cell_type": "code",
   "execution_count": 5,
   "id": "cbaaea30",
   "metadata": {},
   "outputs": [
    {
     "name": "stdout",
     "output_type": "stream",
     "text": [
      "[\n",
      "  {\n",
      "    \"analysis\": [\n",
      "      {\n",
      "        \"pii_type_detected\": \"EMAIL_ADDRESS\",\n",
      "        \"risk_level\": 3,\n",
      "        \"risk_level_definition\": \"Identifiable\",\n",
      "        \"cluster_membership_type\": \"Personal Preferences\",\n",
      "        \"hipaa_category\": \"Protected Health Information\",\n",
      "        \"dhs_category\": \"Stand Alone PII\",\n",
      "        \"nist_category\": \"Directly PII\",\n",
      "        \"entity_type\": \"EMAIL_ADDRESS\",\n",
      "        \"score\": 1.0,\n",
      "        \"start\": 37,\n",
      "        \"end\": 53\n",
      "      },\n",
      "      {\n",
      "        \"pii_type_detected\": \"PERSON\",\n",
      "        \"risk_level\": 3,\n",
      "        \"risk_level_definition\": \"Identifiable\",\n",
      "        \"cluster_membership_type\": \"Financial Information\",\n",
      "        \"hipaa_category\": \"Protected Health Information\",\n",
      "        \"dhs_category\": \"Linkable\",\n",
      "        \"nist_category\": \"Directly PII\",\n",
      "        \"entity_type\": \"PERSON\",\n",
      "        \"score\": 0.85,\n",
      "        \"start\": 10,\n",
      "        \"end\": 22\n",
      "      },\n",
      "      {\n",
      "        \"pii_type_detected\": \"URL\",\n",
      "        \"risk_level\": 2,\n",
      "        \"risk_level_definition\": \"Semi-Identifiable\",\n",
      "        \"cluster_membership_type\": \"Community Interaction\",\n",
      "        \"hipaa_category\": \"Not Protected Health Information\",\n",
      "        \"dhs_category\": \"Linkable\",\n",
      "        \"nist_category\": \"Linkable\",\n",
      "        \"entity_type\": \"URL\",\n",
      "        \"score\": 0.5,\n",
      "        \"start\": 44,\n",
      "        \"end\": 53\n",
      "      }\n",
      "    ],\n",
      "    \"index\": 0,\n",
      "    \"risk_score_mean\": 2.6666666666666665,\n",
      "    \"sanitized_text\": \" me llamo <REDACTED> y mi email es <REDACTED>\"\n",
      "  }\n",
      "]\n"
     ]
    }
   ],
   "source": [
    "url = \"http://localhost:5000/pii_Analyzer_v2\" \n",
    "\n",
    "text = \" me llamo juan huertas y mi email es olonok@gmail.com\"\n",
    "data1 = text.encode()\n",
    "\n",
    "try:\n",
    "    r = requests.post(url, data=data1)#files=files)\n",
    "    print(r.json())\n",
    "finally:\n",
    "\n",
    "    pass"
   ]
  },
  {
   "cell_type": "code",
   "execution_count": null,
   "id": "b9e7575b",
   "metadata": {},
   "outputs": [],
   "source": []
  }
 ],
 "metadata": {
  "kernelspec": {
   "display_name": "Python (pii)",
   "language": "python",
   "name": "myenv"
  },
  "language_info": {
   "codemirror_mode": {
    "name": "ipython",
    "version": 3
   },
   "file_extension": ".py",
   "mimetype": "text/x-python",
   "name": "python",
   "nbconvert_exporter": "python",
   "pygments_lexer": "ipython3",
   "version": "3.10.11"
  }
 },
 "nbformat": 4,
 "nbformat_minor": 5
}
