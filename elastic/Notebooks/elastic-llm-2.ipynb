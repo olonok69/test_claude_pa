{
 "cells": [
  {
   "cell_type": "markdown",
   "id": "f41b39ba-c5a2-43f7-a6bf-30d8179c45f8",
   "metadata": {},
   "source": [
    "# Langchain <--> Elastic Search\n",
    "\n",
    "Elasticsearch is an open source distributed, RESTful search and analytics engine, scalable data store, and vector database capable of addressing a growing number of use cases. As the heart of the Elastic Stack, it centrally stores your data for lightning-fast search, fine‑tuned relevancy, and powerful analytics that scale with ease.\n",
    "Elasticsearch can store and index a variety of data, including structured and unstructured text, numerical data, and geospatial data. It's known for its ability to find queries in large-scale unstructured data\n",
    "Elasticsearch uses a search index, which is similar to an index in the back of a book, to map content to its location in a document. This allows users to quickly find information without scanning through an entire document\n",
    "\n",
    "- https://www.elastic.co/search-labs/blog/langchain-collaboration\n",
    "- https://www.elastic.co/guide/en/elasticsearch/reference/current/docker.html\n",
    "- https://python.langchain.com/docs/integrations/vectorstores/elasticsearch/\n",
    "- https://www.elastic.co/blog/elasticsearch-is-open-source-again\n",
    "- https://www.elastic.co/search-labs/blog/category/generative-ai\n"
   ]
  },
  {
   "cell_type": "code",
   "execution_count": null,
   "id": "54202443-41a9-4d26-9345-3dae7d117266",
   "metadata": {},
   "outputs": [],
   "source": [
    "! pip install -r requirements.txt -q"
   ]
  },
  {
   "cell_type": "markdown",
   "id": "b5341825-1534-4d50-9a2d-c3e28bbb444e",
   "metadata": {},
   "source": [
    "# Install ELastic Search Docker\n",
    "\n",
    "- docker network create elastic\n",
    "- docker pull docker.elastic.co/elasticsearch/elasticsearch:8.15.3\n",
    "- docker run --name es01 --net elastic -p 9200:9200 -it -m 1GB docker.elastic.co/elasticsearch/elasticsearch:8.15.3"
   ]
  },
  {
   "cell_type": "code",
   "execution_count": null,
   "id": "5ce3ca41-6a91-4b55-961b-26e3d1eaa2e6",
   "metadata": {},
   "outputs": [],
   "source": [
    "import os\n",
    "from dotenv import dotenv_values"
   ]
  },
  {
   "cell_type": "code",
   "execution_count": null,
   "id": "c1086070-63a7-41a8-80ab-b54a398764a4",
   "metadata": {},
   "outputs": [],
   "source": [
    "config = dotenv_values(\"./keys/.env\")"
   ]
  },
  {
   "cell_type": "code",
   "execution_count": null,
   "id": "0f338483-7888-4520-8b59-c77d5d033043",
   "metadata": {},
   "outputs": [],
   "source": [
    "import os, tempfile\n",
    "from langchain.prompts import PromptTemplate\n",
    "\n",
    "\n",
    "from langchain_community.document_loaders import TextLoader\n",
    "\n",
    "from langchain.chains import ConversationalRetrievalChain, RetrievalQA\n",
    "\n",
    "from langchain_text_splitters import CharacterTextSplitter\n",
    "from langchain_google_genai import ChatGoogleGenerativeAI, GoogleGenerativeAIEmbeddings\n",
    "from langchain_community.document_loaders import PyPDFLoader\n",
    "from google.oauth2 import service_account\n",
    "from dotenv import dotenv_values\n",
    "import json\n",
    "import vertexai\n",
    " \n",
    "import itertools\n",
    "import time\n"
   ]
  },
  {
   "cell_type": "code",
   "execution_count": null,
   "id": "c8cf9033-47ef-45af-90ed-9589f2788378",
   "metadata": {},
   "outputs": [],
   "source": [
    "from langchain_google_genai import ChatGoogleGenerativeAI\n",
    "from langchain.schema import HumanMessage"
   ]
  },
  {
   "cell_type": "code",
   "execution_count": null,
   "id": "fd485616-05cd-4373-941c-4b98c2a8d0cf",
   "metadata": {},
   "outputs": [],
   "source": [
    "from elasticsearch import Elasticsearch, helpers\n",
    "\n"
   ]
  },
  {
   "cell_type": "code",
   "execution_count": null,
   "id": "1d983ead-9c87-4f2d-9535-72f9d3c78fff",
   "metadata": {},
   "outputs": [],
   "source": [
    "try:\n",
    "    es_endpoint =\"http://127.0.0.1:9200\"\n",
    "    es_client = Elasticsearch(\n",
    "        es_endpoint,\n",
    "        #api_key=os.environ.get(\"ELASTIC_API_KEY\")\n",
    "    )\n",
    "except Exception as e:\n",
    "    print(\"No Client\")\n",
    "    es_client=None"
   ]
  },
  {
   "cell_type": "code",
   "execution_count": null,
   "id": "f9a34c0e-e703-4de2-b6bf-4fa673aaf666",
   "metadata": {},
   "outputs": [],
   "source": [
    "index = \"langchain-demo\""
   ]
  },
  {
   "cell_type": "code",
   "execution_count": null,
   "id": "a35cdd2a-3742-4778-ad93-9d042c7c4640",
   "metadata": {},
   "outputs": [],
   "source": [
    "prompt='''\n",
    "\n",
    "The document schema for the profiles is as follows:\n",
    "\n",
    "{\n",
    "  \"nric\": \"string\",\n",
    "  \"name\": \"string\",\n",
    "  \"race\": \"string\",\n",
    "  \"gender\": \"string\",\n",
    "  \"date_of_birth\": \"date\",\n",
    "  \"age\": \"integer\",\n",
    "  \"country_of_birth\": \"string\",\n",
    "  \"citizenship\": \"string\",\n",
    "  \"religion\": \"string\" [\"Buddhism\", \"Christianity\", \"Islam\", \"Hinduism\", \"Taoism\", \"No Religion\"],\n",
    "  \"marital_status\": \"string\" [\"Single\", \"Married\", \"Divorced\", \"Separated\", \"Widowed\", \"Civil Partnership\", \"Domestic Partnership\", \"Engaged\", \"Annulled\"],\n",
    "  \"address\": {\n",
    "    \"block\": \"string\",\n",
    "    \"street_no\": \"string\",\n",
    "    \"street\": \"string\",\n",
    "    \"unit\": \"string\",\n",
    "    \"town\": \"string\",\n",
    "    \"postal_code\": \"string\"\n",
    "  },\n",
    "  \"phone_number\": \"string\",\n",
    "  \"email\": \"string\",\n",
    "  \"occupation\": \"string\",\n",
    "  \"cpf_number\": \"string\",\n",
    "  \"education\": {\n",
    "    \"highest_qualification\": \"string\",\n",
    "    \"institution\": \"string\"\n",
    "  },\n",
    "  \"languages\": {\n",
    "    \"spoken\": {\"language\":\"fluency\" [\"Basic\", \"Conversational\", \"Fluent\", \"Native\"]},\n",
    "    \"written\": {\"language\":\"fluency\" [\"Basic\", \"Conversational\", \"Fluent\", \"Native\"]},\n",
    "  },\n",
    "  \"height_cm\": \"integer\",\n",
    "  \"weight_kg\": \"integer\",\n",
    "  \"blood_type\": \"string\" [\"A+\", \"A-\", \"B+\", \"B-\", \"O+\", \"O-\", \"AB+\", \"AB-\"],\n",
    "  \"passport_number\": \"string\",\n",
    "  \"drivers_license_number\": \"string\",\n",
    "  \"national_service\": {\n",
    "    \"status\": \"string\",\n",
    "    \"rank\": \"string\"\n",
    "  },\n",
    "  \"immigration_status\": \"string\",\n",
    "  \"emergency_contact\": {\n",
    "    \"name\": \"string\",\n",
    "    \"relationship\": \"string\",\n",
    "    \"phone_number\": \"string\"\n",
    "  },\n",
    "  \"deceased\": \"boolean\",\n",
    "  \"date_of_death\": \"date\"\n",
    "}\n",
    "\n",
    "Example query:\n",
    "User: Find all male Singapore citizens between 25 and 30 years old who work as software developers and speak fluent English.\n",
    "\n",
    "Your response should be:\n",
    "\n",
    "{\n",
    "  \"query\": {\n",
    "    \"bool\": {\n",
    "      \"should\": [\n",
    "        { \"match\": { \"gender\": \"Male\" } },\n",
    "        { \"match\": { \"citizenship\": \"Singapore Citizen\" } },\n",
    "        { \"range\": { \"age\": { \"gte\": 25, \"lte\": 30 } } },\n",
    "        { \"match\": { \"occupation\": \"Software Developer\" } },\n",
    "        {\n",
    "          \"match\": {\n",
    "            \"languages.spoken.English\": {\n",
    "              \"query\": \"Fluent\",\n",
    "              \"fuzziness\": \"AUTO\"\n",
    "            }\n",
    "          }\n",
    "        }\n",
    "      ],\n",
    "      \"minimum_should_match\": 2\n",
    "    }\n",
    "  }\n",
    "}\n",
    "\n",
    "Example query 2:\n",
    "User : Women who are not alive currently, who are universal blood donors born in singapore\n",
    "\n",
    "Your response should be:\n",
    "\n",
    "{\n",
    " \"query\":   {\n",
    "  \"bool\": \n",
    "  {\n",
    "     \"minimum_should_match\": 4,\n",
    "    \"should\": [\n",
    "            {\"match\": {\"gender\": \"female\"}},\n",
    "            {\"match\": {\"deceased\": True}},\n",
    "            {\"match\": {\"blood_type\": \"o-\"}},\n",
    "            {\"match\": {\"country_of_birth\": \"singapore\"}}\n",
    "            ]\n",
    "   }\n",
    "  }\n",
    "}\n",
    "\n",
    "\n",
    "Consider using multi_match for fields that might contain the value in different subfields:\n",
    "{\n",
    "  \"multi_match\": {\n",
    "    \"query\": \"Software Developer\",\n",
    "    \"fields\": [\"occupation\", \"job_title\", \"role\"],\n",
    "    \"type\": \"best_fields\",\n",
    "    \"fuzziness\": \"AUTO\"\n",
    "  }\n",
    "}\n",
    "\n",
    "For names or other fields where word order matters, you might want to use match_phrase with slop:\n",
    "{\n",
    "  \"match_phrase\": {\n",
    "    \"full_name\": {\n",
    "      \"query\": \"John Doe\",\n",
    "      \"slop\": 1\n",
    "    }\n",
    "  }\n",
    "}\n",
    "\n",
    "When dealing with queries that involve categories, groups, or regions (such as language families, geographical areas, or professional fields), expand the search to include all relevant specific instances. \n",
    "For example, if asked about Slavic languages, include searches for Russian, Polish, Czech, etc. If asked about people from Europe, include searches for various European countries.\n",
    "\n",
    "\n",
    "Generate a JSON query for Elasticsearch. Provide only the raw JSON without any surrounding tags or markdown formatting, because we need to convert your response to an object. \n",
    "Use a lenient approach with 'should' clauses instead of strict 'must' clauses. Include a 'minimum_should_match' parameter to ensure some relevance while allowing flexibility. Avoid using 'must' clauses entirely.\n",
    "All queries must be lowercase.\n",
    "\n",
    "Use 'match' queries instead of 'term' queries to allow for partial matches and spelling variations. Where appropriate, include fuzziness parameters to further increase tolerance for spelling differences. \n",
    "For name fields or other phrases where word order matters, consider using 'match_phrase' with a slop parameter. Use 'multi_match' for fields that might contain the value in different subfields.\n",
    "\n",
    "'''"
   ]
  },
  {
   "cell_type": "code",
   "execution_count": null,
   "id": "29a33a01-e396-4479-9d8f-22451380ed07",
   "metadata": {},
   "outputs": [],
   "source": [
    "\n",
    "# ! pip install langchain-ollama \"ollama==0.4.2\"  -q"
   ]
  },
  {
   "cell_type": "code",
   "execution_count": null,
   "id": "ed1c90be-3c60-41fa-b841-42c59a50dac8",
   "metadata": {},
   "outputs": [],
   "source": [
    "import re\n",
    "\n",
    "def extract_json(text):\n",
    "    \"\"\"\n",
    "    Extracts the JSON content from a string, \n",
    "    handling cases with or without ```json\\n markers.\n",
    "\n",
    "    Args:\n",
    "        text: The input string containing the JSON content.\n",
    "\n",
    "    Returns:\n",
    "        The extracted JSON string, or None if no match is found or invalid JSON.\n",
    "    \"\"\"\n",
    "    try:\n",
    "        # First, try to load the entire string as JSON\n",
    "        json_content = json.loads(text)\n",
    "        return json.dumps(json_content, indent=2)  # Reformat for consistent output\n",
    "    except json.JSONDecodeError:\n",
    "        # If the entire string is not valid JSON, try the previous regex method\n",
    "        pattern = r\"```json\\n(.*?)\\n```\"\n",
    "        match = re.search(pattern, text, re.DOTALL)\n",
    "        if match:\n",
    "            return match.group(1).strip()\n",
    "        else:\n",
    "            return None"
   ]
  },
  {
   "cell_type": "code",
   "execution_count": null,
   "id": "376888a2-18d7-4006-b7ac-1b35ac3ebc12",
   "metadata": {},
   "outputs": [],
   "source": [
    "# ELastic Query Model\n",
    "\n",
    "from langchain_ollama import ChatOllama\n",
    "from langchain_core.output_parsers import JsonOutputParser\n",
    "from langchain_core.prompts import PromptTemplate\n",
    "import pprint\n",
    "\n",
    "# LLM\n",
    "llm = ChatOllama(model=\"deepseek-r1:1.5b\",  temperature=0.8, top_p=.9, tok_k=30, num_ctx=4096)\n",
    "\n",
    "prompt2 = PromptTemplate(\n",
    "    template=\"\"\"A conversation between User and Assistant. The user asks a question, and the Assistant solves it.\n",
    "    Your task is to interpret user questions about personal profiles and generate the appropriate Elasticsearch query in JSON format.\n",
    "    The assistant first thinks about the reasoning process in the mind and then provides the user with the answer.\n",
    "    The reasoning process and answer are enclosed within <think> </think> and <answer> </answer> tags, respectively.\n",
    "\n",
    "User: {question}.\n",
    "Assistant: <think>\n",
    "1. Analyze the question in natural Language that the user provided\n",
    "2. Analyze the Elastic Schema and the examples provided here \\n {prompt} \\n\n",
    "3. Apply relevant rules to build an appropiate Elastic query\n",
    "4. Ensure that the response is  a json compatible query to be send to Elastic\n",
    "5. create the query step by step\n",
    "6. Verify the result\n",
    "</think>\n",
    "<answer>\n",
    "[query  solution will be provided here]\n",
    "</answer>\n",
    "    \"\"\",\n",
    "    input_variables=[\"question\", \"prompt\"],\n",
    ")\n",
    "\n",
    "elastic_llm = prompt2 | llm \n"
   ]
  },
  {
   "cell_type": "markdown",
   "id": "a4f0d3af-71d5-4cb8-9b5a-0f49e7d91889",
   "metadata": {},
   "source": [
    "# LLama 3.2 3Billions"
   ]
  },
  {
   "cell_type": "code",
   "execution_count": null,
   "id": "c1b0ae88-bcf3-4967-9f41-3ff7620d333e",
   "metadata": {},
   "outputs": [],
   "source": [
    "question = \"All non-Singaporean men over the age of 25 who are software people living in woodlands\"\n",
    "\n",
    "response =elastic_llm.invoke({\"question\": question, \"prompt\": prompt})\n",
    "\n"
   ]
  },
  {
   "cell_type": "code",
   "execution_count": null,
   "id": "6cf423ab-c3b4-4a28-96fb-f892224e4f4d",
   "metadata": {},
   "outputs": [],
   "source": [
    "response_text = extract_json(response.content)\n",
    "response_text"
   ]
  },
  {
   "cell_type": "code",
   "execution_count": null,
   "id": "b40fa108-0494-4233-8794-d39d02726643",
   "metadata": {},
   "outputs": [],
   "source": [
    "es_query= json.loads(response_text)"
   ]
  },
  {
   "cell_type": "code",
   "execution_count": null,
   "id": "f6bf81f7-7015-4d2a-8a53-ff9848135b11",
   "metadata": {},
   "outputs": [],
   "source": [
    "es_query= {\n",
    "  \"query\": {\n",
    "    \"bool\": {\n",
    "      \"should\": [\n",
    "        { \"match\": { \"nationality\": \"non-singaporean\" } },\n",
    "        { \"match\": { \"gender\": \"male\" } },\n",
    "        { \"range\": { \"age\": { \"gte\": 25 } } },\n",
    "        { \n",
    "          \"match\": { \n",
    "            \"occupation\": { \n",
    "              \"query\": \"software developer\", \n",
    "              \"fuzziness\": \"AUTO\" \n",
    "            } \n",
    "          } \n",
    "        }\n",
    "      ],\n",
    "      \"minimum_should_match\": 2\n",
    "    }\n",
    "  },\n",
    "  \"multi_match\": { \n",
    "    \"query\": \"software developer\",\n",
    "    \"fields\": [\"occupation\", \"job_title\", \"role\"],\n",
    "    \"type\": \"best_fields\"\n",
    "  }\n",
    "}"
   ]
  },
  {
   "cell_type": "code",
   "execution_count": null,
   "id": "3287d09a-b88c-4b6a-94ac-2cc93e433795",
   "metadata": {},
   "outputs": [],
   "source": [
    "search_results = es_client.search(index=index, body=es_query)\n",
    "\n",
    "total_hits = search_results['hits']['total']['value']\n",
    "print(f\"Total matches: {total_hits}\")\n",
    "\n",
    "for hit in search_results['hits']['hits']:\n",
    "    print(f\"Score: {hit['_score']}\")\n",
    "    print(f\"Name: {hit['_source']['name']}\")\n",
    "    print(f\"Age: {hit['_source']['age']}\")\n",
    "    print(f\"Gender: {hit['_source']['gender']}\")\n",
    "    print(f\"Citizenship: {hit['_source']['citizenship']}\")\n",
    "    print(f\"Occupation: {hit['_source']['occupation']}\")\n",
    "    print(f\"Address: {hit['_source']['address']}\")\n",
    "    print(\"---\")"
   ]
  },
  {
   "cell_type": "markdown",
   "id": "a9fbb814-c72a-4dfa-ae34-ef4d597fd00a",
   "metadata": {},
   "source": [
    "# Gemini"
   ]
  },
  {
   "cell_type": "code",
   "execution_count": null,
   "id": "6cc8e0c6-569b-43d9-8e06-65fb5c97b631",
   "metadata": {},
   "outputs": [],
   "source": [
    "query=\"All non-Singaporean men over the age of 25 who are software people living in woodlands\" \n",
    "response=LLM.generate_non_streaming_response(query, system_prompt=prompt)\n"
   ]
  },
  {
   "cell_type": "code",
   "execution_count": null,
   "id": "fca785f3-af03-4bd5-bd35-8339561944c5",
   "metadata": {},
   "outputs": [],
   "source": [
    "response"
   ]
  },
  {
   "cell_type": "code",
   "execution_count": null,
   "id": "d3028c05-1544-4744-815b-052c40dea794",
   "metadata": {},
   "outputs": [],
   "source": [
    "es_query=json.loads(response)\n",
    "pprint(es_query)"
   ]
  },
  {
   "cell_type": "code",
   "execution_count": null,
   "id": "87be801b-04dc-4baf-bdaf-51ef944d96ae",
   "metadata": {},
   "outputs": [],
   "source": [
    "search_results = es_client.search(index=index, body=es_query)\n",
    "\n",
    "total_hits = search_results['hits']['total']['value']\n",
    "print(f\"Total matches: {total_hits}\")\n",
    "\n",
    "for hit in search_results['hits']['hits']:\n",
    "    print(f\"Score: {hit['_score']}\")\n",
    "    print(f\"Name: {hit['_source']['name']}\")\n",
    "    print(f\"Age: {hit['_source']['age']}\")\n",
    "    print(f\"Gender: {hit['_source']['gender']}\")\n",
    "    print(f\"Citizenship: {hit['_source']['citizenship']}\")\n",
    "    print(f\"Occupation: {hit['_source']['occupation']}\")\n",
    "    print(f\"Address: {hit['_source']['address']}\")\n",
    "    print(\"---\")"
   ]
  },
  {
   "cell_type": "markdown",
   "id": "d11b8196-aa2c-4516-9aa3-edc6038dc704",
   "metadata": {},
   "source": [
    "# LLama 3.2 3B"
   ]
  },
  {
   "cell_type": "code",
   "execution_count": null,
   "id": "2388bdf6-13da-44dc-853b-c9398381f8d1",
   "metadata": {},
   "outputs": [],
   "source": [
    "question = \"Women who are not alive currently, who are universal blood donors born in singapore\"\n",
    "\n",
    "response =elastic_llm.invoke({\"question\": question, \"prompt\": prompt})\n",
    "\n",
    "es_query=json.loads(response.content)\n",
    "pprint(es_query)"
   ]
  },
  {
   "cell_type": "code",
   "execution_count": null,
   "id": "0b0d71ba-ea08-4df2-819e-a2acc4af69d2",
   "metadata": {},
   "outputs": [],
   "source": [
    "search_results = es_client.search(index=index, body=es_query)\n",
    "\n",
    "total_hits = search_results['hits']['total']['value']\n",
    "print(f\"Total matches: {total_hits}\")\n",
    "\n",
    "for hit in search_results['hits']['hits']:\n",
    "    print(f\"Score: {hit['_score']}\")\n",
    "    print(f\"Name: {hit['_source']['name']}\")\n",
    "    print(f\"Blood Type: {hit['_source']['blood_type']}\")\n",
    "    print(f\"Gender: {hit['_source']['gender']}\")\n",
    "    print(f\"Country of Birth: {hit['_source']['country_of_birth']}\")\n",
    "    print(f\"Deceased: {hit['_source']['deceased']}\")\n",
    "    print(\"---\")"
   ]
  },
  {
   "cell_type": "code",
   "execution_count": null,
   "id": "fec18609-8c73-4da0-8151-0c8b00d67649",
   "metadata": {},
   "outputs": [],
   "source": [
    "query=\"Women who are not alive currently, who are universal blood donors born in singapore\" \n",
    "\n",
    "response=LLM.generate_non_streaming_response(query, system_prompt=prompt)\n",
    "es_query=json.loads(response)\n",
    "pprint(es_query)"
   ]
  },
  {
   "cell_type": "code",
   "execution_count": null,
   "id": "3d2adb7c-8538-493b-87d5-54e0df6f9eda",
   "metadata": {},
   "outputs": [],
   "source": [
    "search_results = es_client.search(index=index, body=es_query)\n",
    "\n",
    "total_hits = search_results['hits']['total']['value']\n",
    "print(f\"Total matches: {total_hits}\")\n",
    "\n",
    "for hit in search_results['hits']['hits']:\n",
    "    print(f\"Score: {hit['_score']}\")\n",
    "    print(f\"Name: {hit['_source']['name']}\")\n",
    "    print(f\"Blood Type: {hit['_source']['blood_type']}\")\n",
    "    print(f\"Gender: {hit['_source']['gender']}\")\n",
    "    print(f\"Country of Birth: {hit['_source']['country_of_birth']}\")\n",
    "    print(f\"Deceased: {hit['_source']['deceased']}\")\n",
    "    print(\"---\")"
   ]
  },
  {
   "cell_type": "markdown",
   "id": "2e4af11b-c60f-478d-95c0-bc408162ea4a",
   "metadata": {},
   "source": [
    "# LLama 3.2 3B"
   ]
  },
  {
   "cell_type": "code",
   "execution_count": null,
   "id": "209854e6-e087-4ba9-8eab-1296c7ff65fc",
   "metadata": {},
   "outputs": [],
   "source": [
    "question = \"People with height equal to 175 centimeters\" \n",
    "\n",
    "response =elastic_llm.invoke({\"question\": question, \"prompt\": prompt})\n",
    "\n",
    "es_query=json.loads(response.content)\n",
    "pprint(es_query)"
   ]
  },
  {
   "cell_type": "code",
   "execution_count": null,
   "id": "0bf6191c-bd5c-4e50-91f1-d06c3a6f447a",
   "metadata": {},
   "outputs": [],
   "source": [
    "search_results = es_client.search(index=index, body=es_query)\n",
    "\n",
    "total_hits = search_results['hits']['total']['value']\n",
    "print(f\"Total matches: {total_hits}\")\n",
    "\n",
    "for hit in search_results['hits']['hits']:\n",
    "    print(f\"Score: {hit['_score']}\")\n",
    "    print(f\"Name: {hit['_source']['name']}\")\n",
    "    print(f\"languages: {hit['_source']}\")\n",
    "    print(\"---\")"
   ]
  },
  {
   "cell_type": "markdown",
   "id": "4211d645-e221-43a8-8057-86087220bc2f",
   "metadata": {},
   "source": [
    "# Gemini 1.5 Pro"
   ]
  },
  {
   "cell_type": "code",
   "execution_count": null,
   "id": "ec5added-9e5b-495b-b4d4-b400d7d12192",
   "metadata": {},
   "outputs": [],
   "source": [
    "query=\"People which height is equal to 175 centimeters\" \n",
    "\n",
    "response=LLM.generate_non_streaming_response(query, system_prompt=prompt)\n",
    "es_query=json.loads(response)\n",
    "pprint(es_query)"
   ]
  },
  {
   "cell_type": "code",
   "execution_count": null,
   "id": "1192ce56-c938-4a3d-b897-ce85b7d40181",
   "metadata": {},
   "outputs": [],
   "source": [
    "search_results = es_client.search(index=index, body=es_query)\n",
    "\n",
    "total_hits = search_results['hits']['total']['value']\n",
    "print(f\"Total matches: {total_hits}\")\n",
    "\n",
    "for hit in search_results['hits']['hits']:\n",
    "    print(f\"Score: {hit['_score']}\")\n",
    "    print(f\"Name: {hit['_source']['name']}\")\n",
    "    print(f\"languages: {hit['_source']}\")\n",
    "    print(\"---\")"
   ]
  },
  {
   "cell_type": "code",
   "execution_count": null,
   "id": "f65ccc08-8f17-4391-afa7-3c81a6b1d83e",
   "metadata": {},
   "outputs": [],
   "source": []
  }
 ],
 "metadata": {
  "kernelspec": {
   "display_name": "Python 3 (ipykernel)",
   "language": "python",
   "name": "python3"
  },
  "language_info": {
   "codemirror_mode": {
    "name": "ipython",
    "version": 3
   },
   "file_extension": ".py",
   "mimetype": "text/x-python",
   "name": "python",
   "nbconvert_exporter": "python",
   "pygments_lexer": "ipython3",
   "version": "3.11.11"
  }
 },
 "nbformat": 4,
 "nbformat_minor": 5
}
