{
 "cells": [
  {
   "cell_type": "code",
   "execution_count": null,
   "id": "8491018b-c5f6-4e70-ba75-667f65dd4c52",
   "metadata": {},
   "outputs": [],
   "source": [
    "import pandas as pd\n",
    "import json\n",
    "from pandas import json_normalize"
   ]
  },
  {
   "cell_type": "code",
   "execution_count": null,
   "id": "629d813c-59c7-4be7-9d5b-21f1397eb47b",
   "metadata": {},
   "outputs": [],
   "source": [
    "with open(\"csm_data/Registration_data_csm.json\", \"r\") as f:\n",
    "    regdata = json.load(f)"
   ]
  },
  {
   "cell_type": "code",
   "execution_count": null,
   "id": "105f5cc0-0583-4f44-9211-825a89068bd8",
   "metadata": {},
   "outputs": [],
   "source": [
    "columns = list(regdata[0].keys())\n",
    "columns"
   ]
  },
  {
   "cell_type": "code",
   "execution_count": null,
   "id": "add52c3b-17e0-47c4-9bb7-b1ac322ccd5a",
   "metadata": {},
   "outputs": [],
   "source": [
    "# Normalize the nested JSON\n",
    "df = json_normalize(data)"
   ]
  },
  {
   "cell_type": "code",
   "execution_count": null,
   "id": "a902ebdd-6157-40e6-b020-d210e0e9f5bf",
   "metadata": {},
   "outputs": [],
   "source": [
    "df.to_csv(\"csv/Registration_data_csm.csv\", index=False)"
   ]
  },
  {
   "cell_type": "code",
   "execution_count": null,
   "id": "8291b9aa-1bd9-4941-8b06-fd4548f1ccd8",
   "metadata": {},
   "outputs": [],
   "source": [
    "len(df)"
   ]
  },
  {
   "cell_type": "code",
   "execution_count": null,
   "id": "fd151ad9-23ac-421b-82d4-e4f5062e416a",
   "metadata": {},
   "outputs": [],
   "source": [
    "df.head()"
   ]
  },
  {
   "cell_type": "code",
   "execution_count": null,
   "id": "ec49fe50-bfbd-4ffe-9df1-929ae26e0869",
   "metadata": {},
   "outputs": [],
   "source": [
    "from datetime import datetime\n",
    "\n",
    "\n",
    "def calculate_date_difference(df, date_column, given_date_str):\n",
    "    # Convert the column to datetime\n",
    "    df[date_column] = pd.to_datetime(df[date_column])\n",
    "\n",
    "    # Convert the given date to datetime\n",
    "    given_date = datetime.strptime(given_date_str, \"%Y-%m-%d\")\n",
    "\n",
    "    # Calculate the difference in days\n",
    "    df[\"Days_since_registration\"] = (given_date - df[date_column]).dt.days\n",
    "\n",
    "    return df"
   ]
  },
  {
   "cell_type": "code",
   "execution_count": null,
   "id": "85a7a91a-1785-4ddd-adfd-ccfcb0696954",
   "metadata": {},
   "outputs": [],
   "source": [
    "# Calculate the difference in days from a given date\n",
    "given_date_str = \"2025-06-01\"\n",
    "result_df = calculate_date_difference(df, \"RegistrationDate\", given_date_str)"
   ]
  },
  {
   "cell_type": "code",
   "execution_count": null,
   "id": "b244675e-bcc2-4fda-9dca-78070938d49f",
   "metadata": {},
   "outputs": [],
   "source": [
    "result_df.head()"
   ]
  },
  {
   "cell_type": "code",
   "execution_count": null,
   "id": "8d90f1f1-f829-417a-bc70-6b15bedc7ad8",
   "metadata": {},
   "outputs": [],
   "source": [
    "df.isnull().sum()"
   ]
  },
  {
   "cell_type": "code",
   "execution_count": null,
   "id": "e05ec3c8-aa19-47b9-89b2-dfd094231649",
   "metadata": {},
   "outputs": [],
   "source": [
    "df[\"ShowRef\"].unique()"
   ]
  },
  {
   "cell_type": "code",
   "execution_count": null,
   "id": "3af34028-f7a6-4847-a4bd-a1b542af7687",
   "metadata": {},
   "outputs": [],
   "source": [
    "df[\"BadgeType\"].unique()"
   ]
  },
  {
   "cell_type": "code",
   "execution_count": null,
   "id": "485629eb-bb6a-4dc9-8191-3e7b986aa852",
   "metadata": {},
   "outputs": [],
   "source": [
    "df[\"Source\"].unique()"
   ]
  },
  {
   "cell_type": "code",
   "execution_count": null,
   "id": "f1a48ffe-867e-43e9-a7c2-7b04949987ca",
   "metadata": {},
   "outputs": [],
   "source": [
    "df[\"Status\"].unique()"
   ]
  },
  {
   "cell_type": "code",
   "execution_count": null,
   "id": "850a9fe1-d9be-43a2-9d3a-e47119cf2f5a",
   "metadata": {},
   "outputs": [],
   "source": [
    "shows_25 = [\"BDAWL25\", \"CEEL25\", \"CCSEL25\", \"DCWL25\", \"DL25\"]"
   ]
  },
  {
   "cell_type": "code",
   "execution_count": null,
   "id": "47e5a321-905e-49e9-bee7-b9c1896aa46c",
   "metadata": {},
   "outputs": [],
   "source": [
    "df[\"RegCode\"].unique()"
   ]
  },
  {
   "cell_type": "code",
   "execution_count": null,
   "id": "c539e194-a7d8-488d-b2cd-fd643216ddb6",
   "metadata": {},
   "outputs": [],
   "source": [
    "df_reg_25 = df[df.ShowRef.isin(shows_25)]\n",
    "len(df_reg_25)"
   ]
  },
  {
   "cell_type": "code",
   "execution_count": null,
   "id": "4a66a8cd-998b-416f-862c-7573995769db",
   "metadata": {},
   "outputs": [],
   "source": [
    "df_reg_25 = calculate_date_difference(df_reg_25, \"RegistrationDate\", given_date_str)\n",
    "df_reg_25.head(2)"
   ]
  },
  {
   "cell_type": "code",
   "execution_count": null,
   "id": "9593d80a-848d-4c4a-8c8c-24d6cbc998c5",
   "metadata": {},
   "outputs": [],
   "source": [
    "def return_domain(x):\n",
    "    return x.split(\"@\")[-1]"
   ]
  },
  {
   "cell_type": "code",
   "execution_count": null,
   "id": "3247e98b-6462-46a0-9d2b-0c0de4e4e6f8",
   "metadata": {},
   "outputs": [],
   "source": [
    "df_reg_25[\"Email\"] = df_reg_25[\"Email\"].apply(return_domain)"
   ]
  },
  {
   "cell_type": "code",
   "execution_count": null,
   "id": "889401a2-1ba0-496f-b8c1-f32501b66455",
   "metadata": {},
   "outputs": [],
   "source": [
    "df_reg_25.head(2)"
   ]
  },
  {
   "cell_type": "code",
   "execution_count": null,
   "id": "ae055e22-b488-4669-8e7f-6da216b9603c",
   "metadata": {},
   "outputs": [],
   "source": [
    "len(df_reg_25[\"BadgeId\"].unique())"
   ]
  },
  {
   "cell_type": "code",
   "execution_count": null,
   "id": "aa7f7a33-8573-450e-b31e-b99a0f0f8859",
   "metadata": {},
   "outputs": [],
   "source": [
    "df_reg_25.to_csv(\"csv/Registration_data_csm_25.csv\", index=False)"
   ]
  },
  {
   "cell_type": "code",
   "execution_count": null,
   "id": "4fb195eb-37ca-412c-b69f-4616dad1ccef",
   "metadata": {},
   "outputs": [],
   "source": [
    "df_reg_25.columns"
   ]
  },
  {
   "cell_type": "code",
   "execution_count": null,
   "id": "c5fbfeee-2a53-475f-91cb-6d89573d8b7a",
   "metadata": {},
   "outputs": [],
   "source": [
    "columns = [\n",
    "    \"Email\",\n",
    "    \"Company\",\n",
    "    \"JobTitle\",\n",
    "    \"Country\",\n",
    "    \"BadgeType\",\n",
    "    \"ShowRef\",\n",
    "    \"BadgeId\",\n",
    "    \"Source\",\n",
    "    \"Days_since_registration\",\n",
    "]"
   ]
  },
  {
   "cell_type": "code",
   "execution_count": null,
   "id": "f0baaff3-bbea-467b-8b50-39583bcbf03a",
   "metadata": {},
   "outputs": [],
   "source": [
    "df_reg_25_valid_columns = df_reg_25[columns]"
   ]
  },
  {
   "cell_type": "code",
   "execution_count": null,
   "id": "8b2b52a1-2177-41ef-8334-863887c0fa59",
   "metadata": {},
   "outputs": [],
   "source": [
    "df_reg_25_valid_columns.isnull().sum()"
   ]
  },
  {
   "cell_type": "code",
   "execution_count": null,
   "id": "d1b4c3c0-cea3-4345-a084-53ce14373125",
   "metadata": {},
   "outputs": [],
   "source": [
    "df_reg_25_valid_columns.to_csv(\n",
    "    \"csv/Registration_data_csm_25_only_valid.csv\", index=False\n",
    ")"
   ]
  },
  {
   "cell_type": "code",
   "execution_count": null,
   "id": "6cf2d3a1-1344-4032-8c00-5dcd9f49432b",
   "metadata": {},
   "outputs": [],
   "source": [
    "with open(\"csm_data/Registration_demographicdata_csm.json\", \"r\") as f:\n",
    "    demodata = json.load(f)"
   ]
  },
  {
   "cell_type": "code",
   "execution_count": null,
   "id": "72feb697-7de3-472d-9d13-6200900f9fe2",
   "metadata": {},
   "outputs": [],
   "source": [
    "# Normalize the nested JSON\n",
    "df2 = json_normalize(demodata)"
   ]
  },
  {
   "cell_type": "code",
   "execution_count": null,
   "id": "d5a450bf-5c4b-48ba-b383-02a421072d8b",
   "metadata": {},
   "outputs": [],
   "source": [
    "df2.to_csv(\"csv/Registration_demographicdata_csm.csv\", index=False)"
   ]
  },
  {
   "cell_type": "code",
   "execution_count": null,
   "id": "24a1ef16-88c2-4cc7-86ef-aef5b19be081",
   "metadata": {},
   "outputs": [],
   "source": [
    "df_demo_25 = df2[df2.showref.isin(shows_25)]\n",
    "len(df_demo_25)"
   ]
  },
  {
   "cell_type": "code",
   "execution_count": null,
   "id": "4590f487-aec0-4766-8ef2-524afdbe87d2",
   "metadata": {},
   "outputs": [],
   "source": [
    "df_demo_25.head()"
   ]
  },
  {
   "cell_type": "code",
   "execution_count": null,
   "id": "7584d88b-f15b-4454-a163-ece68bd949a0",
   "metadata": {},
   "outputs": [],
   "source": [
    "df_demo_25.to_csv(\"csv/Registration_demographicdata_csm_25.csv\", index=False)"
   ]
  },
  {
   "cell_type": "code",
   "execution_count": null,
   "id": "07413cbe-a50f-42b8-ab10-640030857eb2",
   "metadata": {},
   "outputs": [],
   "source": [
    "len(df_demo_25[\"showref\"].unique())"
   ]
  },
  {
   "cell_type": "code",
   "execution_count": null,
   "id": "221e4869-b53f-4df3-9455-d28276c93dba",
   "metadata": {},
   "outputs": [],
   "source": [
    "len(df_demo_25[\"BadgeId\"].unique())"
   ]
  },
  {
   "cell_type": "code",
   "execution_count": null,
   "id": "6663b8cc-0023-43ad-a7be-6e7de4746233",
   "metadata": {},
   "outputs": [],
   "source": [
    "demo_badge_id_25 = list(df_demo_25[\"BadgeId\"].unique())"
   ]
  },
  {
   "cell_type": "code",
   "execution_count": null,
   "id": "ae477a99-1303-494e-8fce-463b31fc1fc2",
   "metadata": {},
   "outputs": [],
   "source": [
    "demo_badge_id_25[0]"
   ]
  },
  {
   "cell_type": "code",
   "execution_count": null,
   "id": "b9379b68-a952-4635-a3ce-c9cf35067f03",
   "metadata": {},
   "outputs": [],
   "source": [
    "df_reg_25_wdemo_data = df_reg_25[df_reg_25[\"BadgeId\"].isin(demo_badge_id_25)]\n",
    "len(df_reg_25_wdemo_data)"
   ]
  },
  {
   "cell_type": "code",
   "execution_count": null,
   "id": "d52a163a-1fa8-4894-af59-1948f6beb516",
   "metadata": {},
   "outputs": [],
   "source": [
    "df_reg_25_valid_columns.isnull().sum()"
   ]
  },
  {
   "cell_type": "code",
   "execution_count": null,
   "id": "679d3237-d42a-4f35-ae92-1b222424e097",
   "metadata": {},
   "outputs": [],
   "source": [
    "def concatenate_qa_registration_data(df_registration, list_badge_id_events):\n",
    "    \"\"\"\n",
    "    Concatenate Registration Values of a Particpant\"\n",
    "    Args:\n",
    "        df_registration : Pandas Dataframe with values of Participants\n",
    "        list_badge_id_events : List with all BadgeId from which we have Geographic Data. Answer to the questionarie\n",
    "    \"\"\"\n",
    "\n",
    "    def create_string_from_dict(data):\n",
    "        keys_to_exclude = [\"ShowRef\", \"BadgeId\"]\n",
    "        result = []\n",
    "\n",
    "        for key, value in data.items():\n",
    "            if key not in keys_to_exclude:\n",
    "                if value is not None:\n",
    "                    result.append(f\"{key}: {value}\")\n",
    "                else:\n",
    "                    result.append(f\"{key}: no_data\")\n",
    "\n",
    "        return \", \".join(result)\n",
    "\n",
    "    reg_data_list = []\n",
    "    for badge_ID, i in zip(list_badge_id_events, range(len(list_badge_id_events))):\n",
    "        df = df_registration[df_registration[\"BadgeId\"] == badge_ID]\n",
    "        df_d = json.loads(df.to_json(orient=\"records\"))\n",
    "        reg_data = {}\n",
    "        for row in df_d:\n",
    "            ID = \"_\".join([row.get(\"ShowRef\"), row.get(\"BadgeId\")])\n",
    "            reg_data[ID] = create_string_from_dict(row)\n",
    "        reg_data_list.append(reg_data)\n",
    "\n",
    "    return reg_data_list"
   ]
  },
  {
   "cell_type": "code",
   "execution_count": null,
   "id": "db1e9e97-18a4-4019-8e59-6a3a30f62a66",
   "metadata": {},
   "outputs": [],
   "source": [
    "reg_data_list = concatenate_qa_registration_data(\n",
    "    df_reg_25_valid_columns, demo_badge_id_25\n",
    ")"
   ]
  },
  {
   "cell_type": "code",
   "execution_count": null,
   "id": "46ca2aef-75d5-4954-bb02-5201a1444024",
   "metadata": {},
   "outputs": [],
   "source": [
    "len(reg_data_list), len(demo_badge_id_25)"
   ]
  },
  {
   "cell_type": "code",
   "execution_count": null,
   "id": "e5844463-59d6-47ab-8751-80b4f1e59666",
   "metadata": {},
   "outputs": [],
   "source": [
    "reg_data_list[1550]"
   ]
  },
  {
   "cell_type": "code",
   "execution_count": null,
   "id": "2ea08654-a209-44a7-87b5-dff17ec80f72",
   "metadata": {},
   "outputs": [],
   "source": [
    "with open(\"output/registration_data.json\", \"w\") as f:\n",
    "    json.dump(reg_data_list, f, indent=4)"
   ]
  },
  {
   "cell_type": "markdown",
   "id": "753685ff-3edf-4f36-85cc-240d0453aed6",
   "metadata": {},
   "source": [
    "# check that we don't have same BadgeId in diferent showrefs"
   ]
  },
  {
   "cell_type": "code",
   "execution_count": null,
   "id": "8677f959-f427-4e45-aad1-b9bdc5fde6f4",
   "metadata": {},
   "outputs": [],
   "source": [
    "result = df_demo_25.groupby([\"BadgeId\"])[\"showref\"].nunique().reset_index()\n",
    "result.columns = [\"BadgeId\", \"Unique_showref_Count\"]\n",
    "result.head()"
   ]
  },
  {
   "cell_type": "code",
   "execution_count": null,
   "id": "fa54e54f-1d1d-4a63-99a0-5679ebb4aa57",
   "metadata": {},
   "outputs": [],
   "source": [
    "result.info(verbose=True)"
   ]
  },
  {
   "cell_type": "code",
   "execution_count": null,
   "id": "f77aaa51-0c7a-4baa-aed2-dd58405a953c",
   "metadata": {},
   "outputs": [],
   "source": [
    "result[result[\"Unique_showref_Count\"] > 1]"
   ]
  },
  {
   "cell_type": "markdown",
   "id": "742edaab-9995-4766-8798-ce9bba008073",
   "metadata": {},
   "source": [
    "# Choose which one Apply"
   ]
  },
  {
   "cell_type": "code",
   "execution_count": null,
   "id": "92297f85-c114-4732-894d-07d39b8983f2",
   "metadata": {},
   "outputs": [],
   "source": [
    "df_reg_25_wdemo_data[\"BadgeType\"].unique()  # Choose which one Apply"
   ]
  },
  {
   "cell_type": "code",
   "execution_count": null,
   "id": "b802d5e8-a294-4206-98de-8ff1d28b86ee",
   "metadata": {},
   "outputs": [],
   "source": [
    "df_reg_25_wdemo_data.to_csv(\n",
    "    \"csv/Registration_data_with_demographicdata_csm_25.csv\", index=False\n",
    ")"
   ]
  },
  {
   "cell_type": "code",
   "execution_count": null,
   "id": "55356452-9541-42f6-bc9f-74a85e623ad4",
   "metadata": {},
   "outputs": [],
   "source": [
    "df_demo_25.isnull().sum()"
   ]
  },
  {
   "cell_type": "markdown",
   "id": "fc5af41c-895b-455a-b07a-77c2bf336a79",
   "metadata": {},
   "source": [
    "# Concatenate Q&A Demografic Data"
   ]
  },
  {
   "cell_type": "code",
   "execution_count": null,
   "id": "c3ae9101-e6fc-4a91-a833-14840452655f",
   "metadata": {},
   "outputs": [],
   "source": [
    "list_no = [\n",
    "    \"I have read and accept the Event Terms and Conditions\",\n",
    "    \"I have read and accept the Privacy Policy\",\n",
    "]\n",
    "list_vip = [\n",
    "    \"What best describes your reason for attending: ‘I am attending because my company is...’\",\n",
    "    \"Decision making power\",\n",
    "]"
   ]
  },
  {
   "cell_type": "code",
   "execution_count": null,
   "id": "d82d0677-3060-4784-8163-7b1ad5d1214f",
   "metadata": {},
   "outputs": [],
   "source": [
    "for sentence in list_vip:\n",
    "    if (\n",
    "        \"What best describes your reason for attending: ‘I am attending because my company is...’\"[\n",
    "            :20\n",
    "        ]\n",
    "        in sentence\n",
    "    ):\n",
    "        print(\"True\")"
   ]
  },
  {
   "cell_type": "code",
   "execution_count": null,
   "id": "cd5c7de3-a122-440d-b3e8-2383642f519e",
   "metadata": {},
   "outputs": [],
   "source": [
    "df_demo_25[df_demo_25[\"BadgeId\"] == \"J59MXE4\"]"
   ]
  },
  {
   "cell_type": "code",
   "execution_count": null,
   "id": "b67616f1-bda1-4cf5-b847-2f183345eb5b",
   "metadata": {},
   "outputs": [],
   "source": [
    "def concatenate_qa_demografic_data(\n",
    "    df_demografic, list_badge_id_events, list_no, list_vip\n",
    "):\n",
    "    \"\"\"\n",
    "    Concatenate Questions and Answers of a Particpant\"\n",
    "    \"\"\"\n",
    "    demo_data = []\n",
    "    for badge_ID, i in zip(list_badge_id_events, range(len(list_badge_id_events))):\n",
    "        df = df_demografic[df_demografic[\"BadgeId\"] == badge_ID]\n",
    "        df_d = json.loads(df.to_json(orient=\"records\"))\n",
    "        list_vipq, list_noq = [], []\n",
    "        qa, qai = {}, {}\n",
    "        OLD_ID = \"_\".join([df_d[0].get(\"showref\"), df_d[0].get(\"BadgeId\")])\n",
    "        qa[OLD_ID] = \"\"\n",
    "        qai[OLD_ID] = \"\"\n",
    "        for row in df_d:\n",
    "            ID = \"_\".join([row.get(\"showref\"), row.get(\"BadgeId\")])\n",
    "\n",
    "            question = row.get(\"QuestionText\").strip()\n",
    "            answer = row.get(\"AnswerText\").strip()\n",
    "            if question in list_no:\n",
    "                list_noq.append(f\"Question: {question} not included\")\n",
    "                continue\n",
    "\n",
    "            if ID == OLD_ID:\n",
    "                qa_row = \" : \".join([question, answer])\n",
    "                found_vip = False\n",
    "                for sentence in list_vip:\n",
    "                    if question[:20].lower() in sentence.lower():\n",
    "                        found_vip = True\n",
    "                        break\n",
    "\n",
    "                if found_vip:\n",
    "                    list_vipq.append(f\"Question: {question} is VIP\")\n",
    "                    qai[ID] = \" , \".join([qai[ID], qa_row])\n",
    "                else:\n",
    "                    qa[ID] = \" , \".join([qa[ID], qa_row])\n",
    "            else:\n",
    "                print(\"check_case\")\n",
    "                if question in list_vip:\n",
    "                    qai[ID] = \" , \".join([qai[ID], qa_row])\n",
    "                else:\n",
    "                    qa[ID] = \" , \".join([qa[ID], qa_row])\n",
    "                OLD_ID = ID\n",
    "        # remove Initial padding\n",
    "        qai[ID] = qai[ID][3:]\n",
    "        qa[ID] = qa[ID][3:]\n",
    "        # build final dictionary\n",
    "        final = {}\n",
    "        final[ID] = {}\n",
    "        final[ID][\"vip\"] = qai[ID]\n",
    "        final[ID][\"normal\"] = qa[ID]\n",
    "\n",
    "        if len(list_vipq) != 2:\n",
    "            print(f\"Issue with records ID {ID} , row {i}, length dataframe: {len(df)}\")\n",
    "        demo_data.append(final)\n",
    "        if i % 1000 == 0:\n",
    "            print(f\"Proccesed {i} records\")\n",
    "    return demo_data"
   ]
  },
  {
   "cell_type": "code",
   "execution_count": null,
   "id": "e3230ce3-2864-4c41-93c1-204cb278e7b5",
   "metadata": {
    "scrolled": true
   },
   "outputs": [],
   "source": [
    "demo_data = concatenate_qa_demografic_data(\n",
    "    df_demo_25, demo_badge_id_25, list_no, list_vip\n",
    ")"
   ]
  },
  {
   "cell_type": "code",
   "execution_count": null,
   "id": "cbb4bf20-37a2-46aa-b2fa-f6c2f1652c39",
   "metadata": {},
   "outputs": [],
   "source": [
    "len(demo_data)"
   ]
  },
  {
   "cell_type": "code",
   "execution_count": null,
   "id": "34f1ba32-8af4-45e7-b91a-31950a351045",
   "metadata": {},
   "outputs": [],
   "source": [
    "# BDAWL25_NPL234P  106"
   ]
  },
  {
   "cell_type": "code",
   "execution_count": null,
   "id": "8c1ab67f-4543-4c1f-a5e9-3c7ac345ea92",
   "metadata": {},
   "outputs": [],
   "source": [
    "df_demo_25[df_demo_25[\"BadgeId\"] == \"CWQLTQ3\"]"
   ]
  },
  {
   "cell_type": "code",
   "execution_count": null,
   "id": "34664464-5ce0-46f8-a52b-036a2d94f5ac",
   "metadata": {},
   "outputs": [],
   "source": [
    "demo_data[6765]"
   ]
  },
  {
   "cell_type": "code",
   "execution_count": null,
   "id": "c18b9489-d3c1-4dd5-8d47-9d33b105f193",
   "metadata": {},
   "outputs": [],
   "source": [
    "demo_data[0].get(\"BDAWL25_J59MXE4\").get(\"vip\")"
   ]
  },
  {
   "cell_type": "code",
   "execution_count": null,
   "id": "a9f2dbcd-8283-4142-b802-117ab323cb1a",
   "metadata": {},
   "outputs": [],
   "source": [
    "demo_data[0].get(\"BDAWL25_J59MXE4\").get(\"normal\")"
   ]
  },
  {
   "cell_type": "code",
   "execution_count": null,
   "id": "27e7c838-2cba-4850-aa7b-ff28ee9d3ae6",
   "metadata": {},
   "outputs": [],
   "source": [
    "with open(\"output/demographic_data.json\", \"w\") as f:\n",
    "    json.dump(demo_data, f, indent=4)"
   ]
  },
  {
   "cell_type": "markdown",
   "id": "626fa980-201a-449b-8f06-099dbed79f0e",
   "metadata": {},
   "source": [
    "# Concatenate Scans to Demografic_data"
   ]
  },
  {
   "cell_type": "code",
   "execution_count": null,
   "id": "694dd3af-3f89-4664-a341-bcca599fea65",
   "metadata": {},
   "outputs": [],
   "source": [
    "import pandas as pd\n",
    "import json\n",
    "from pandas import json_normalize"
   ]
  },
  {
   "cell_type": "code",
   "execution_count": null,
   "id": "e9af3b74-a764-478d-8bf9-d8c392cebd3d",
   "metadata": {},
   "outputs": [],
   "source": [
    "with open(\"output/demographic_data.json\", \"r\") as f:\n",
    "    demo_data = json.load(f)"
   ]
  },
  {
   "cell_type": "code",
   "execution_count": null,
   "id": "64e08062-3fd9-4625-bf9a-cc9ec6b2f7b7",
   "metadata": {},
   "outputs": [],
   "source": [
    "demo_data[0].get(\"BDAWL25_J59MXE4\").get(\"normal\")"
   ]
  },
  {
   "cell_type": "code",
   "execution_count": null,
   "id": "1b3132fe-fcc9-43e2-88dc-10bc52c2036e",
   "metadata": {},
   "outputs": [],
   "source": [
    "merged_df = pd.read_csv(\n",
    "    \"csv/Registration_data_24_25_both_only_valid_badge_type_with_seminars.csv\"\n",
    ")"
   ]
  },
  {
   "cell_type": "code",
   "execution_count": null,
   "id": "3ed01209-e65c-4c12-b70c-96f63a9309a9",
   "metadata": {},
   "outputs": [],
   "source": [
    "merged_df.isnull().sum()"
   ]
  },
  {
   "cell_type": "code",
   "execution_count": null,
   "id": "772b614d-32bb-4dd2-bbd6-05bb7edb527f",
   "metadata": {},
   "outputs": [],
   "source": [
    "len(merged_df)"
   ]
  },
  {
   "cell_type": "code",
   "execution_count": null,
   "id": "98479df6-98b7-4ece-9bc2-1932a08dd475",
   "metadata": {},
   "outputs": [],
   "source": [
    "merged_df = merged_df.fillna(\"NA\")\n",
    "merged_df.head()"
   ]
  },
  {
   "cell_type": "code",
   "execution_count": null,
   "id": "8a3c829c-ec52-4511-b32a-f5974ff0b1a9",
   "metadata": {},
   "outputs": [],
   "source": [
    "list_badgesid_with_seminars = list(merged_df[\"BadgeId\"].unique())"
   ]
  },
  {
   "cell_type": "code",
   "execution_count": null,
   "id": "59c8949d-cd3e-4580-b7bd-e403044568cd",
   "metadata": {},
   "outputs": [],
   "source": [
    "for ele in demo_data:\n",
    "    key = list(ele.keys())[0]\n",
    "    badge_id = key.split(\"_\")[-1]\n",
    "    if badge_id in list_badgesid_with_seminars:\n",
    "\n",
    "        temp = merged_df[merged_df[\"BadgeId\"] == badge_id]\n",
    "        temp_dict = json.loads(temp.to_json(orient=\"records\"))\n",
    "        ele[key][\"Seminars\"] = temp_dict[0].get(\"Concatenated Seminar Names\")\n",
    "        # print( temp_dict[0].get(\"Concatenated Seminar Names\"))"
   ]
  },
  {
   "cell_type": "code",
   "execution_count": null,
   "id": "9d8b7037-1c91-47aa-96d7-64765b5c9c2f",
   "metadata": {},
   "outputs": [],
   "source": [
    "temp_dict"
   ]
  },
  {
   "cell_type": "code",
   "execution_count": null,
   "id": "f8eedcd6-d8b1-4714-a4f2-847f4dc7aca4",
   "metadata": {},
   "outputs": [],
   "source": [
    "ele[key]"
   ]
  },
  {
   "cell_type": "code",
   "execution_count": null,
   "id": "b1693568-72fe-4ef0-86da-adaf4f3f4d9e",
   "metadata": {},
   "outputs": [],
   "source": [
    "# for ele in demo_data:\n",
    "#     key =list(ele.keys())[0]\n",
    "#     keys = ele[key].keys()\n",
    "#     if \"Seminars\" in keys:\n",
    "#         print(ele[key]['Seminars'])"
   ]
  },
  {
   "cell_type": "code",
   "execution_count": null,
   "id": "0b29d651-9535-4028-bd3a-25115101211d",
   "metadata": {},
   "outputs": [],
   "source": [
    "with open(\"output/demographic_data_with_badge.json\", \"w\") as f:\n",
    "    json.dump(demo_data, f, indent=4)"
   ]
  },
  {
   "cell_type": "code",
   "execution_count": null,
   "id": "eaed5ede-6d01-480c-9527-b22cfb8fde96",
   "metadata": {},
   "outputs": [],
   "source": []
  }
 ],
 "metadata": {
  "kernelspec": {
   "display_name": "Python (csm)",
   "language": "python",
   "name": "csm"
  },
  "language_info": {
   "codemirror_mode": {
    "name": "ipython",
    "version": 3
   },
   "file_extension": ".py",
   "mimetype": "text/x-python",
   "name": "python",
   "nbconvert_exporter": "python",
   "pygments_lexer": "ipython3",
   "version": "3.11.10"
  }
 },
 "nbformat": 4,
 "nbformat_minor": 5
}
