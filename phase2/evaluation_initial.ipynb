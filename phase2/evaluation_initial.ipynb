{
 "cells": [
  {
   "cell_type": "code",
   "execution_count": null,
   "id": "2320d2a3-72cf-403c-b310-2223640c3f24",
   "metadata": {},
   "outputs": [],
   "source": [
    "import pandas as pd\n",
    "import matplotlib.pyplot as plt"
   ]
  },
  {
   "cell_type": "code",
   "execution_count": null,
   "id": "80a006b4-9b0f-4db6-b76d-25ecdfa095c6",
   "metadata": {},
   "outputs": [],
   "source": [
    "data = pd.read_csv(\"evaluation/llama3_8B_2025-02-20_09-31-33.csv\")"
   ]
  },
  {
   "cell_type": "code",
   "execution_count": null,
   "id": "cd8eb21b-7137-465f-bdf3-dfe8dca68763",
   "metadata": {},
   "outputs": [],
   "source": [
    "data.loc[data[\"category\"] == \"Early_Purchase_Intention\", \"category\"] = (\n",
    "    \"Early_Purchasing_Intention\"\n",
    ")"
   ]
  },
  {
   "cell_type": "code",
   "execution_count": null,
   "id": "dc310023-5a58-489c-86e5-f28da6ecc411",
   "metadata": {},
   "outputs": [],
   "source": [
    "data.columns"
   ]
  },
  {
   "cell_type": "code",
   "execution_count": null,
   "id": "9a5174eb-0bad-412b-99ea-95aca5133bc5",
   "metadata": {},
   "outputs": [],
   "source": [
    "category_counts = data[\"category\"].value_counts()"
   ]
  },
  {
   "cell_type": "code",
   "execution_count": null,
   "id": "02f4e1b6-1ba7-4921-89e3-f2161286a899",
   "metadata": {},
   "outputs": [],
   "source": [
    "data[\"category\"].value_counts()"
   ]
  },
  {
   "cell_type": "code",
   "execution_count": null,
   "id": "5bc23ee8-5823-4655-9375-fa443d387f79",
   "metadata": {},
   "outputs": [],
   "source": [
    "len(data)"
   ]
  },
  {
   "cell_type": "code",
   "execution_count": null,
   "id": "92110134-dd1a-4b23-bf6e-85c1af917334",
   "metadata": {},
   "outputs": [],
   "source": [
    "plt.figure(figsize=(10, 10))\n",
    "category_counts.plot(kind=\"pie\", autopct=\"%1.1f%%\")\n",
    "\n",
    "plt.title(\"Category Distribution\")\n",
    "plt.ylabel(\"\")  # Hides the y-label for better visual appearance\n",
    "plt.show()"
   ]
  },
  {
   "cell_type": "code",
   "execution_count": null,
   "id": "c17d4b2f-0536-4ce6-8ea2-0ddb0eb67a62",
   "metadata": {},
   "outputs": [],
   "source": []
  }
 ],
 "metadata": {
  "kernelspec": {
   "display_name": "Python 3 (ipykernel)",
   "language": "python",
   "name": "python3"
  },
  "language_info": {
   "codemirror_mode": {
    "name": "ipython",
    "version": 3
   },
   "file_extension": ".py",
   "mimetype": "text/x-python",
   "name": "python",
   "nbconvert_exporter": "python",
   "pygments_lexer": "ipython3",
   "version": "3.11.11"
  }
 },
 "nbformat": 4,
 "nbformat_minor": 5
}
