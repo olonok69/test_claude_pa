{
 "cells": [
  {
   "cell_type": "code",
   "execution_count": null,
   "id": "802fb470-b17c-49ff-b1b9-2f70f15db36e",
   "metadata": {},
   "outputs": [],
   "source": [
    "import os\n",
    "from pathlib import Path\n",
    "import pprint\n",
    "import pandas as pd\n",
    "import json\n",
    "import re"
   ]
  },
  {
   "cell_type": "code",
   "execution_count": null,
   "id": "6ba4969f-3ba2-4d21-ac48-ebc588cb60e1",
   "metadata": {},
   "outputs": [],
   "source": [
    "ROOT_PATH = Path(os.getcwd())\n",
    "PARENT_PATH = Path(os.getcwd()).parent\n",
    "DATA_PATH = os.path.join(PARENT_PATH, \"data\")"
   ]
  },
  {
   "cell_type": "code",
   "execution_count": null,
   "id": "9dacd0f8-ce2d-4e91-be82-544c3268c44e",
   "metadata": {},
   "outputs": [],
   "source": [
    "csv_path = Path(\n",
    "    os.path.join(\n",
    "        DATA_PATH,\n",
    "        \"new_claire_db_badge_cluster_data_with_aggregated_info_GIO_GT_LABELS.csv\",\n",
    "    )\n",
    ")\n",
    "# csv_path = Path(os.path.join(DATA_PATH, '20240512_new_labels_WITH_AGGINFO.csv'))\n",
    "nomenclature_embeddings_path = Path(\n",
    "    os.path.join(DATA_PATH, \"cluster_numeculature.json\")\n",
    ")"
   ]
  },
  {
   "cell_type": "code",
   "execution_count": null,
   "id": "1c7fab91-c1ef-4405-b09e-60f18384b825",
   "metadata": {},
   "outputs": [],
   "source": [
    "data = pd.read_csv(csv_path)\n",
    "data.head()"
   ]
  },
  {
   "cell_type": "code",
   "execution_count": null,
   "id": "e9dad2fc-c56c-43fa-a9cb-c0f2d9909c50",
   "metadata": {},
   "outputs": [],
   "source": [
    "len(data)"
   ]
  },
  {
   "cell_type": "code",
   "execution_count": null,
   "id": "1f094f97-275e-4df5-882c-b98bb2a1f585",
   "metadata": {},
   "outputs": [],
   "source": [
    "data.ClusterId.value_counts()"
   ]
  },
  {
   "cell_type": "code",
   "execution_count": null,
   "id": "86aea50c-aad4-4d6c-ab0a-91eeaa1c6bb3",
   "metadata": {},
   "outputs": [],
   "source": [
    "df_networking = data[data[\"ClusterId\"] == \"Networking\"]\n",
    "df_learning = data[data[\"ClusterId\"] == \"Learning\"]\n",
    "df_searching = data[data[\"ClusterId\"] == \"Searching\"]\n",
    "df_sourcing_early = data[data[\"ClusterId\"] == \"Sourcing – Early\"]\n",
    "df_sourcing_inprocess = data[data[\"ClusterId\"] == \"Sourcing – In Process\"]\n",
    "df_sourcing_deciding = data[data[\"ClusterId\"] == \"Sourcing – Deciding\"]"
   ]
  },
  {
   "cell_type": "code",
   "execution_count": null,
   "id": "669296bd-6416-4c4a-938e-465bc5c20312",
   "metadata": {},
   "outputs": [],
   "source": [
    "example_networking = df_networking[0:1].to_dict()\n",
    "example_learning = df_learning[0:1].to_dict()\n",
    "example_searching = df_searching[0:1].to_dict()\n",
    "example_sourcing_early = df_sourcing_early[0:1].to_dict()\n",
    "example_sourcing_inprocess = df_sourcing_inprocess[0:1].to_dict()\n",
    "example_sourcing_deciding = df_sourcing_deciding[0:1].to_dict()"
   ]
  },
  {
   "cell_type": "markdown",
   "id": "3fb780a9-86b8-4698-a6b3-e23d3961b8ba",
   "metadata": {},
   "source": [
    "# List Examples"
   ]
  },
  {
   "cell_type": "code",
   "execution_count": null,
   "id": "10686c5c-b500-4f44-9b1b-5d499a29b415",
   "metadata": {},
   "outputs": [],
   "source": [
    "df_sourcing_deciding.to_csv(\"source_deciding.csv\", index=False)"
   ]
  },
  {
   "cell_type": "code",
   "execution_count": null,
   "id": "52baf3c9-c581-4785-b789-a8234f906951",
   "metadata": {},
   "outputs": [],
   "source": [
    "list_examples = [\n",
    "    example_networking,\n",
    "    example_learning,\n",
    "    example_searching,\n",
    "    example_sourcing_early,\n",
    "    example_sourcing_inprocess,\n",
    "    example_sourcing_deciding,\n",
    "]"
   ]
  },
  {
   "cell_type": "code",
   "execution_count": null,
   "id": "f1c35684-a028-4c77-879b-d9c9f235875a",
   "metadata": {},
   "outputs": [],
   "source": [
    "examples = {}\n",
    "for example in list_examples:\n",
    "\n",
    "    examples[list(example[\"ClusterId\"].values())[0]] = list(\n",
    "        example[\"AggregatedInfo\"].values()\n",
    "    )[0]"
   ]
  },
  {
   "cell_type": "code",
   "execution_count": null,
   "id": "56d9ff4c-5143-4949-a957-0dd46e5205dd",
   "metadata": {},
   "outputs": [],
   "source": [
    "examples.keys()"
   ]
  },
  {
   "cell_type": "code",
   "execution_count": null,
   "id": "e94f8d20-f89c-4923-b288-566764670151",
   "metadata": {},
   "outputs": [],
   "source": [
    "# with open(\"examples.json\", \"w\", encoding=\"utf8\") as f:\n",
    "#     json.dump(examples, f, indent=4)"
   ]
  },
  {
   "cell_type": "code",
   "execution_count": null,
   "id": "56315e30-773b-4527-858d-bbc688538cbf",
   "metadata": {},
   "outputs": [],
   "source": [
    "# This file contains clean example data from 2024\n",
    "with open(\"csm_data/examples.json\", \"r\") as f:\n",
    "    examples = json.load(f)"
   ]
  },
  {
   "cell_type": "code",
   "execution_count": null,
   "id": "4eed6932-851e-46cf-a457-1adce0ce4fc5",
   "metadata": {},
   "outputs": [],
   "source": [
    "examples.keys()"
   ]
  },
  {
   "cell_type": "code",
   "execution_count": null,
   "id": "0ba8ac6a-1c5e-4f98-804c-a6d6d5586e71",
   "metadata": {},
   "outputs": [],
   "source": [
    "with open(nomenclature_embeddings_path, \"r\") as f:\n",
    "    nomenclatures = json.load(f)"
   ]
  },
  {
   "cell_type": "code",
   "execution_count": null,
   "id": "d70dda80-2465-4c58-82da-94be1aebf25d",
   "metadata": {},
   "outputs": [],
   "source": [
    "text_example = df_networking[0:1][\"AggregatedInfo\"].values[0]"
   ]
  },
  {
   "cell_type": "code",
   "execution_count": null,
   "id": "7d581184-362c-4e17-b947-1773602f92e3",
   "metadata": {},
   "outputs": [],
   "source": [
    "pattern = r\"Unnamed: \\d{1,2}: no answer provided\"\n",
    "\n",
    "# Using re.sub to remove the matched strings\n",
    "text_example = re.sub(pattern, \"\", text_example)"
   ]
  },
  {
   "cell_type": "code",
   "execution_count": null,
   "id": "a3048afe-da9a-4034-aeb2-be5b5fb98261",
   "metadata": {},
   "outputs": [],
   "source": [
    "pattern = r\"(\\. ){2,}\"\n",
    "\n",
    "# Using re.sub to remove the matched strings\n",
    "text_example = re.sub(pattern, \"\", text_example)\n",
    "# Output the cleaned text"
   ]
  },
  {
   "cell_type": "code",
   "execution_count": null,
   "id": "8eae3d06-3d23-4348-a02f-b380a931b492",
   "metadata": {},
   "outputs": [],
   "source": [
    "text_example = text_example.replace(\n",
    "    \"Show Ref: CCSEL24. Badge Id: I7Z9TJS. Registration Code: 6K6Q2. Registration Guid: b4bc60a6-16bc-49de-81f2-b124013412c1. Session Guid: 146b9536-dff0-406e-8820-1dc38c523ffb. \",\n",
    "    \"\",\n",
    ")\n",
    "text_example = text_example.replace(\n",
    "    \"Status: Approved. Registration Date: 2024-02-28 18:41:39.280000\",\n",
    "    \"Days_since_registration: 98\",\n",
    ")\n",
    "text_example = text_example.replace(\n",
    "    \"Weeks Out: 1.0. Title: Mr. Firstname: Ross. Surname: Haywood. \", \"\"\n",
    ")\n",
    "text_example = text_example.replace(\n",
    "    \"Address 1: The Yard Raunds 2. Address 2: no answer provided. Address 3: no answer provided. Town/City: Raunds. County: no answer provided. Postcode: NN9 6RJ. \",\n",
    "    \"\",\n",
    ")\n",
    "text_example = text_example.replace(\n",
    "    \"Telephone: +44 07918 621801. Mobile: +44 7918621801. Fax: no answer provided. Email: ross.haywood\",\n",
    "    \"Email: \",\n",
    ")\n",
    "text_example = text_example.replace(\n",
    "    \"Secondary Email: no answer provided. Website: no answer provided. Nationality: no answer provided. Account Number: 6648886.0. Booker Forename: no answer provided. Booker Surname: no answer provided. Booker Company: no answer provided. Booker Email: no answer provided. Offer Code: no answer provided. Referee Forename / Referee Forename (text): no answer provided. Referee Surname / Referee Surname (text): no answer provided. \",\n",
    "    \"\",\n",
    ")"
   ]
  },
  {
   "cell_type": "code",
   "execution_count": null,
   "id": "34dfef4c-54f5-4bd5-8e8f-911dc33f8e2a",
   "metadata": {},
   "outputs": [],
   "source": [
    "# Regular expression pattern to match the unwanted sentences\n",
    "pattern = r\"\\. [A-Za-z?:/)( ]+: no answer provided\\.\"\n",
    "\n",
    "# Using re.sub to replace the matched strings with \". \"\n",
    "text_example = re.sub(pattern, \". \", text_example)\n",
    "\n",
    "# Output the cleaned text\n",
    "print(text_example)"
   ]
  },
  {
   "cell_type": "code",
   "execution_count": null,
   "id": "448b75a9-573b-4ca8-9796-468fb2b4b537",
   "metadata": {},
   "outputs": [],
   "source": [
    "# Function to generate the classification prompt\n",
    "def generate_prompt(label_dict, examples, text_example):\n",
    "    prompt = \"Categories and Descriptions:\\n\\n\"\n",
    "    for label, description in label_dict.items():\n",
    "        prompt += f\"category: {label} --> {description[len(label)+1:]}\\n\"\n",
    "\n",
    "    prompt += \"\\nExamples: (1 text associated to a category)\\n\"\n",
    "    for label, example in examples.items():\n",
    "        prompt += f\"category: {label} --> {example}\\n\"\n",
    "\n",
    "    prompt += \"\\nText to classify:\\n\"\n",
    "    prompt += \"----------------------------------------------------\\n\"\n",
    "    prompt += text_example\n",
    "    prompt += \"----------------------------------------------------\\n\"\n",
    "    prompt += \"\\n\\n Only return 1 category of this list  = ['Networking', 'Learning', 'Searching', 'Sourcing – Early', 'Sourcing – In Process', 'Sourcing – Deciding'] \\\n",
    "    format to return {'category': value from list}\"\n",
    "\n",
    "    return prompt"
   ]
  },
  {
   "cell_type": "code",
   "execution_count": null,
   "id": "752f1d08-9386-427e-b50b-f5869d75d357",
   "metadata": {},
   "outputs": [],
   "source": [
    "prompt = generate_prompt(nomenclatures, examples, text_example)\n",
    "len(prompt)"
   ]
  },
  {
   "cell_type": "code",
   "execution_count": null,
   "id": "a27075e9-3e45-45f0-a9f3-a7e1a01b53d1",
   "metadata": {},
   "outputs": [],
   "source": [
    "print(prompt)"
   ]
  },
  {
   "cell_type": "code",
   "execution_count": null,
   "id": "3f858028-9568-4d37-9930-c68129e8930c",
   "metadata": {},
   "outputs": [],
   "source": [
    "from langchain_core.prompts import PromptTemplate\n",
    "from pydantic import BaseModel, Field\n",
    "from typing import Literal, Optional\n",
    "\n",
    "\n",
    "# Schema for structured response\n",
    "class Badge(BaseModel):\n",
    "    category: str = Field(\n",
    "        description=\"Classificacion of the text. 1 value of among these 6 categories 'Networking', 'Learning', 'Searching', 'Sourcing – Early', 'Sourcing – In Process', 'Sourcing – Deciding' \"\n",
    "    )"
   ]
  },
  {
   "cell_type": "code",
   "execution_count": null,
   "id": "97f41462-d1a4-4d2e-b577-bf154afe48fd",
   "metadata": {},
   "outputs": [],
   "source": [
    "from langchain_core.prompts import ChatPromptTemplate\n",
    "\n",
    "prompt_structured = ChatPromptTemplate.from_messages(\n",
    "    [\n",
    "        (\n",
    "            \"system\",\n",
    "            \"You are a clever chatbot specialized in classify text.Only provide Label, no other Information. Let's think step by Step\",\n",
    "        ),\n",
    "        (\"placeholder\", \"{messages}\"),\n",
    "    ]\n",
    ")"
   ]
  },
  {
   "cell_type": "code",
   "execution_count": null,
   "id": "4f7ec018-9c96-4145-a46a-c06d317cbe75",
   "metadata": {},
   "outputs": [],
   "source": [
    "from langchain_openai import ChatOpenAI"
   ]
  },
  {
   "cell_type": "code",
   "execution_count": null,
   "id": "853ab20e-5029-488f-8fd5-d658e17e81ed",
   "metadata": {},
   "outputs": [],
   "source": [
    "llm_2 = ChatOpenAI(\n",
    "    model=\"deepseek-r1:1.5b\",\n",
    "    base_url=\"http://localhost:11434/v1\",\n",
    "    temperature=0,\n",
    "    api_key=\"ollama\",\n",
    ").with_structured_output(Badge)"
   ]
  },
  {
   "cell_type": "code",
   "execution_count": null,
   "id": "f1711ed7-99c3-442e-9ab6-2715fd2e033b",
   "metadata": {},
   "outputs": [],
   "source": [
    "chain = prompt_structured | llm_2"
   ]
  },
  {
   "cell_type": "code",
   "execution_count": null,
   "id": "106f640a-3cc9-40f0-9986-73f934afc2e2",
   "metadata": {},
   "outputs": [],
   "source": [
    "chain.invoke({\"messages\": [(\"user\", prompt)]}, kwargs={\"num_ctx\": 16000})"
   ]
  },
  {
   "cell_type": "code",
   "execution_count": null,
   "id": "23ebd8f7-11aa-4867-8940-eb0aa5292890",
   "metadata": {},
   "outputs": [],
   "source": [
    "from langchain_ollama import ChatOllama\n",
    "from langchain_core.messages import AIMessage\n",
    "from langchain_core.output_parsers import BaseOutputParser, PydanticToolsParser\n",
    "from typing import Any\n",
    "from langchain_core.outputs import Generation, ChatGeneration\n",
    "\n",
    "from pydantic import BaseModel as TypeBaseModel\n",
    "from typing import cast\n",
    "import json\n",
    "from langchain.output_parsers import PydanticOutputParser"
   ]
  },
  {
   "cell_type": "code",
   "execution_count": null,
   "id": "871fab48-9d8f-4e49-9472-e40d5418efe3",
   "metadata": {},
   "outputs": [],
   "source": [
    "llm = ChatOllama(\n",
    "    model=\"Phi3.5\",\n",
    "    temperature=0.5,\n",
    "    num_ctx=16000,\n",
    "    format=\"json\",\n",
    ")"
   ]
  },
  {
   "cell_type": "code",
   "execution_count": null,
   "id": "f7799bf2-d4f6-40a2-bd2c-65b37cac3465",
   "metadata": {},
   "outputs": [],
   "source": [
    "# Set up a parser + inject instructions into the prompt template.\n",
    "parser = PydanticOutputParser(pydantic_object=Badge)"
   ]
  },
  {
   "cell_type": "code",
   "execution_count": null,
   "id": "d981d82a-1483-4d04-afcb-b68c84ba807b",
   "metadata": {},
   "outputs": [],
   "source": [
    "prompt_template = PromptTemplate(\n",
    "    template=\"You are a clever chatbot specialized in classify text.I will provide you ,descriptions of the classes and its \\\n",
    "    labels and example of each class. Let's think step by Step format the output of classifing this text --> {query} \\n\\\n",
    "    with this instruction:\\n{format_instructions}\\n{query}\\n\",\n",
    "    input_variables=[\"query\"],\n",
    "    partial_variables={\"format_instructions\": parser.get_format_instructions()},\n",
    ")"
   ]
  },
  {
   "cell_type": "code",
   "execution_count": null,
   "id": "c1a7490e-6311-4db0-a122-e94b41906d39",
   "metadata": {},
   "outputs": [],
   "source": [
    "chain = prompt_template | llm | parser"
   ]
  },
  {
   "cell_type": "code",
   "execution_count": null,
   "id": "ed1f2a22-c7fc-4b94-848f-a5ad2cb2df95",
   "metadata": {},
   "outputs": [],
   "source": [
    "llm = ChatOllama(\n",
    "    model=\"deepseek-r1:1.5b\",\n",
    "    temperature=0.5,\n",
    "    num_ctx=16000,\n",
    ")\n",
    "messages = [\n",
    "    (\n",
    "        \"system\",\n",
    "        \"You are a clever chatbot specialized in classify text.I will provide you a text ,descriptions of the classes and its labels and example of each class. \\\n",
    "        Only provide Label, no other Information need. Let's think step by Step\",\n",
    "    ),\n",
    "    (\"human\", prompt),\n",
    "]\n",
    "ai_msg = llm.invoke(messages)"
   ]
  },
  {
   "cell_type": "code",
   "execution_count": null,
   "id": "150a2e09-3568-4c55-9e2e-12b073dc2a64",
   "metadata": {},
   "outputs": [],
   "source": [
    "print(ai_msg.content)\n",
    "print(\"-\" * 100)"
   ]
  },
  {
   "cell_type": "code",
   "execution_count": null,
   "id": "0977c621-0a0c-4508-a78d-53f2ebde9852",
   "metadata": {},
   "outputs": [],
   "source": [
    "llm = ChatOllama(\n",
    "    model=\"llama3.2:3b\",\n",
    "    temperature=0.5,\n",
    "    num_ctx=16000,\n",
    ")\n",
    "messages = [\n",
    "    (\n",
    "        \"system\",\n",
    "        \"You are a clever chatbot specialized in classify text.I will provide you a text ,descriptions of the classes and its labels and example of each class. \\\n",
    "        Only provide Label, no other Information need. Let's think step by Step\",\n",
    "    ),\n",
    "    (\"human\", prompt),\n",
    "]\n",
    "ai_msg = llm.invoke(messages)\n",
    "\n",
    "print(ai_msg.content)\n",
    "print(\"-\" * 100)"
   ]
  },
  {
   "cell_type": "code",
   "execution_count": null,
   "id": "830dd276-1176-40a4-be8f-f837f2943356",
   "metadata": {},
   "outputs": [],
   "source": [
    "llm = ChatOllama(\n",
    "    model=\"phi3.5\",\n",
    "    temperature=0.5,\n",
    "    num_ctx=16000,\n",
    ")\n",
    "messages = [\n",
    "    (\n",
    "        \"system\",\n",
    "        \"You are a clever chatbot specialized in classify text.I will provide you a text ,descriptions of the classes and its labels and example of each class. \\\n",
    "        Only provide Label, no other Information need. Let's think step by Step\",\n",
    "    ),\n",
    "    (\"human\", prompt),\n",
    "]\n",
    "ai_msg = llm.invoke(messages)\n",
    "\n",
    "print(ai_msg.content)\n",
    "print(\"-\" * 100)"
   ]
  },
  {
   "cell_type": "code",
   "execution_count": null,
   "id": "3ed1aa6f-1af7-4394-be43-0c19230f027c",
   "metadata": {},
   "outputs": [],
   "source": [
    "llm = ChatOllama(\n",
    "    model=\"qwen2.5:latest\",\n",
    "    temperature=0.5,\n",
    "    num_ctx=16000,\n",
    ")\n",
    "messages = [\n",
    "    (\n",
    "        \"system\",\n",
    "        \"You are a clever chatbot specialized in classify text.I will provide you a text ,descriptions of the classes and its labels and example of each class. \\\n",
    "        Only provide Label, no other Information need. Let's think step by Step\",\n",
    "    ),\n",
    "    (\"human\", prompt),\n",
    "]\n",
    "ai_msg = llm.invoke(messages)\n",
    "\n",
    "\n",
    "print(ai_msg.content)\n",
    "print(\"-\" * 100)"
   ]
  },
  {
   "cell_type": "code",
   "execution_count": null,
   "id": "f3db45f4-2253-4671-a410-c4634c334011",
   "metadata": {},
   "outputs": [],
   "source": []
  }
 ],
 "metadata": {
  "kernelspec": {
   "display_name": "Python (csm)",
   "language": "python",
   "name": "csm"
  },
  "language_info": {
   "codemirror_mode": {
    "name": "ipython",
    "version": 3
   },
   "file_extension": ".py",
   "mimetype": "text/x-python",
   "name": "python",
   "nbconvert_exporter": "python",
   "pygments_lexer": "ipython3",
   "version": "3.11.10"
  }
 },
 "nbformat": 4,
 "nbformat_minor": 5
}
