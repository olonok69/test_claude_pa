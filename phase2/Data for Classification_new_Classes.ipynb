{
 "cells": [
  {
   "cell_type": "markdown",
   "id": "d56fbffd-fa7e-4f33-be74-4303077a3b29",
   "metadata": {},
   "source": [
    "# Clustering Data and Prompting Classification"
   ]
  },
  {
   "cell_type": "code",
   "execution_count": null,
   "id": "6aa9d01c-83e2-4d26-b947-eed6365626b2",
   "metadata": {},
   "outputs": [],
   "source": [
    "import json\n",
    "import pprint"
   ]
  },
  {
   "cell_type": "code",
   "execution_count": null,
   "id": "35adccef-8322-431f-8cbd-9cc880a3d94d",
   "metadata": {},
   "outputs": [],
   "source": [
    "nomenclature = {\n",
    "    \"networking\": \"\"\"Networking: Visitors in this group are currently focused primarily on building professional or personal relationships and expanding their network. They attend this event to meet industry peers, experts, and potential partners. Their interactions are more about establishing connections than purchasing. They value personal interactions and opportunities for collaboration\"\"\",\n",
    "    \"learning\": \"\"\"Learning: These attendees are currently motivated by educational and learning opportunities. They seek to gain new insights, learn about industry trends, and enhance their knowledge and skills. They are likely to attend workshops, seminars, and keynote speeches. Their interest in products or services is secondary to their desire for professional development\"\"\",\n",
    "    \"searching_info_on_products_and_vendors\": \"\"\"Searching for info on products and vendor (Gathering Information on Products, Services, Vendors or Providers): Individuals in this category might have identified a need or a problem to solve but are still exploring what products, services, vendors or providers that can meet their specific requirements. Their primary goal is to collect as much information as possible without a strong inclination towards immediate purchasing. They may engage in more specific conversations about products or services but are not yet ready to make a decision. They are likely to engage with multiple vendors to compare offerings, gather brochures, and ask general questions\"\"\",\n",
    "    \"early_purchasing_intention\": \"\"\"Early Purchasing Intention: Attendees in this group are actively engaged in the sourcing process. They know well the type of product or service they require and might have narrowed down their options and are delving deeper into specific products or services. Their interactions are more detailed, involving discussions about pricing, implementation, or customization. They are seeking to understand how different offerings stack up against each other and may be forming preferences for vendor selection\"\"\",\n",
    "    \"high_purchasing_intention\": \"\"\" High Purchase Intention: This group represents delegates who are at the final stages of their purchasing journey. They have all the information they need and are making final evaluations to choose a vendor. Their interactions are decisive, focusing on final terms, delivery, support, and other post-purchase considerations. Engagements with these individuals are very relevant and time-critical as they are on the verge of making a purchase decision.\"\"\",\n",
    "}"
   ]
  },
  {
   "cell_type": "code",
   "execution_count": null,
   "id": "a1f91a7a-a799-429d-b06b-66de3bd0d39f",
   "metadata": {},
   "outputs": [],
   "source": [
    "with open(\"output/nomenclature.json\", \"w\") as f:\n",
    "    json.dump(nomenclature, f, indent=4)"
   ]
  },
  {
   "cell_type": "code",
   "execution_count": null,
   "id": "d05151b9-3c7e-4fe2-9788-9917706cf834",
   "metadata": {},
   "outputs": [],
   "source": [
    "registration_data_path = \"output/registration_data.json\"\n",
    "demographic_data_path = \"output/demographic_data.json\"\n",
    "demographic_data_badge_path = \"output/demographic_data_with_badge.json\"\n",
    "examples_path = \"output/examples.json\"\n",
    "merger_data_path = \"output/merger_data.json\""
   ]
  },
  {
   "cell_type": "code",
   "execution_count": null,
   "id": "21e6bb41-99fe-431f-a26b-8399f99672d0",
   "metadata": {},
   "outputs": [],
   "source": [
    "with open(registration_data_path, \"r\") as f:\n",
    "    registration_data = json.load(f)\n",
    "with open(demographic_data_path, \"r\") as f:\n",
    "    demographic_data = json.load(f)\n",
    "with open(demographic_data_badge_path, \"r\") as f:\n",
    "    demographic_data_badge = json.load(f)\n",
    "with open(examples_path, \"r\") as f:\n",
    "    examples = json.load(f)"
   ]
  },
  {
   "cell_type": "code",
   "execution_count": null,
   "id": "5b621948-cd02-4895-a71e-f131f617ddcf",
   "metadata": {},
   "outputs": [],
   "source": [
    "len(registration_data), len(demographic_data), len(demographic_data_badge)"
   ]
  },
  {
   "cell_type": "markdown",
   "id": "65186522-ba29-45ed-892f-cec3935f2005",
   "metadata": {},
   "source": [
    "# Merge Data"
   ]
  },
  {
   "cell_type": "code",
   "execution_count": null,
   "id": "b90fc400-6ef5-41e5-b4ae-d50209494b40",
   "metadata": {},
   "outputs": [],
   "source": [
    "!python --version"
   ]
  },
  {
   "cell_type": "code",
   "execution_count": null,
   "id": "94aad893-0ea2-4539-91ec-830340059dae",
   "metadata": {},
   "outputs": [],
   "source": [
    "type(demographic_data_badge)"
   ]
  },
  {
   "cell_type": "code",
   "execution_count": null,
   "id": "4543fd30-db3b-4f5a-b025-cd7ce45d65cb",
   "metadata": {},
   "outputs": [],
   "source": [
    "demographic_data_badge[1]"
   ]
  },
  {
   "cell_type": "code",
   "execution_count": null,
   "id": "95cc2c11-beae-4360-9e30-3abe0ccd6d61",
   "metadata": {},
   "outputs": [],
   "source": [
    "list(demographic_data_badge[0].keys())[0]"
   ]
  },
  {
   "cell_type": "markdown",
   "id": "f5f8160f-037e-4c36-b11a-4030b5dc92c0",
   "metadata": {},
   "source": [
    "# Include scan in the Demographic Data. \n",
    "Come in file demographic_data_badge. Those which scan the badge in 2024 haS A TEXT , information only available for those \n",
    "which visit in 2024 and 2025"
   ]
  },
  {
   "cell_type": "code",
   "execution_count": null,
   "id": "388a9480-6392-4387-9984-444a00a04ba1",
   "metadata": {},
   "outputs": [],
   "source": [
    "def data_merger(registration, demographic, year: str = \"2024\"):\n",
    "    merged_data = {}\n",
    "    for reg, demo in zip(registration, demographic):\n",
    "\n",
    "        if len(reg.keys()) == 0:\n",
    "            print(\"empty Dictionary\")\n",
    "            continue\n",
    "        reg_key = list(reg.keys())[0]\n",
    "        demo_key = list(demo.keys())[0]\n",
    "        if demo_key != reg_key:\n",
    "            print(f\"key reg {reg_key} doesnt match key demo {demo_key}\")\n",
    "            continue\n",
    "        else:\n",
    "            if \"Seminars\" in list(demo.get(reg_key).keys()):\n",
    "                if demo.get(reg_key).get(\"Seminars\") == \"NA\":\n",
    "                    txt = \"No scan badge in stands\"\n",
    "                else:\n",
    "                    txt = demo.get(reg_key).get(\"Seminars\")\n",
    "\n",
    "                texto = \" \".join(\n",
    "                    [\n",
    "                        reg.get(reg_key),\n",
    "                        \"\\nKey Question:\",\n",
    "                        demo.get(reg_key).get(\"vip\"),\n",
    "                        \"\\nOther Questions:\",\n",
    "                        demo.get(reg_key).get(\"normal\"),\n",
    "                        f\"\\n Attended seminars in {year}:\",\n",
    "                        txt,\n",
    "                    ]\n",
    "                )\n",
    "            else:\n",
    "                texto = \" \".join(\n",
    "                    [\n",
    "                        reg.get(reg_key),\n",
    "                        \"\\nKey Question:\",\n",
    "                        demo.get(reg_key).get(\"vip\"),\n",
    "                        \"\\nOther Questions:\",\n",
    "                        demo.get(reg_key).get(\"normal\"),\n",
    "                    ]\n",
    "                )\n",
    "            merged_data[reg_key] = texto\n",
    "\n",
    "    return merged_data"
   ]
  },
  {
   "cell_type": "code",
   "execution_count": null,
   "id": "70ccfa8f-71a2-42a6-8ae5-75bbdbe2e94b",
   "metadata": {},
   "outputs": [],
   "source": [
    "merged_data = data_merger(registration_data, demographic_data_badge)"
   ]
  },
  {
   "cell_type": "code",
   "execution_count": null,
   "id": "aca5e412-22f7-4690-ba32-52ee3058309c",
   "metadata": {},
   "outputs": [],
   "source": [
    "print(merged_data.get(\"BDAWL25_J59MXE4\"))"
   ]
  },
  {
   "cell_type": "code",
   "execution_count": null,
   "id": "955776ac-a866-4e61-a5f6-cc83207c6485",
   "metadata": {},
   "outputs": [],
   "source": [
    "len(merged_data.keys())"
   ]
  },
  {
   "cell_type": "code",
   "execution_count": null,
   "id": "a60e400f-e3b9-4f67-b495-a95426375c55",
   "metadata": {},
   "outputs": [],
   "source": [
    "with open(merger_data_path, \"w\") as f:\n",
    "    json.dump(merged_data, f, indent=4)"
   ]
  },
  {
   "cell_type": "code",
   "execution_count": null,
   "id": "b65d8383-d69c-4035-b799-58d6c181692b",
   "metadata": {},
   "outputs": [],
   "source": [
    "list(examples.keys())"
   ]
  },
  {
   "cell_type": "code",
   "execution_count": null,
   "id": "5c698dc8-5c0d-44f9-bee9-5392c078f896",
   "metadata": {},
   "outputs": [],
   "source": [
    "examples[\"high_purchasing_intention\"] = examples[\"Sourcing – In Process\"]"
   ]
  },
  {
   "cell_type": "code",
   "execution_count": null,
   "id": "6a4fab8f-ca13-4da6-8e66-b531a88943d9",
   "metadata": {},
   "outputs": [],
   "source": [
    "del examples[\"Sourcing – Deciding\"]"
   ]
  },
  {
   "cell_type": "code",
   "execution_count": null,
   "id": "8f93ff8e-b786-4cd5-9b02-48aa2b06211d",
   "metadata": {},
   "outputs": [],
   "source": [
    "with open(examples_path, \"w\") as f:\n",
    "    json.dump(examples, f, indent=4)"
   ]
  },
  {
   "cell_type": "code",
   "execution_count": null,
   "id": "48ddeafa-7938-4239-ae0a-3caf9f71878c",
   "metadata": {},
   "outputs": [],
   "source": [
    "class LLama_PromptTemplate:\n",
    "    def __init__(self, nomenclature, examples):\n",
    "        self.nomenclature = nomenclature\n",
    "        self.examples = examples\n",
    "        self.base_template = \"\"\"{begin_text}{start_header_id}system{end_header_id}You are a clever classifier assessing whether a profile of a Event Visitor,\n",
    "        belongs to one of the 5 categories in section CATEGORIES. The format of each category is Category = Description of this category.\n",
    "        You will be provided with an example of profile of each category on the section EXAMPLES. The format of each example is Category = Profile of this category.\n",
    "        CATEGORIES\n",
    "        ----------\n",
    "        {categories}\n",
    "        ------------\n",
    "        EXAMPLES\n",
    "        --------\n",
    "        {examples}\n",
    "        ----------\n",
    "        Intructions to classify the Profile:\n",
    "        {reasoning}\n",
    "        Profile to Classify: {profile} \n",
    "        {eot_id}{start_header_id}assistant{end_header_id}\n",
    "\n",
    "\"\"\"\n",
    "\n",
    "    def generate_nomemclature(self):\n",
    "        return \"\\n\".join(\n",
    "            [f\"{key} = {value}\\n\" for key, value in self.nomenclature.items()]\n",
    "        )\n",
    "\n",
    "    def generate_examples(self):\n",
    "        return \"\\n\".join([f\"{key} = {value}\\n\" for key, value in self.examples.items()])\n",
    "\n",
    "    def generate_keys(self):\n",
    "        return list(self.examples.keys())\n",
    "\n",
    "    def generate_clustering_prompt(self, profile):\n",
    "        \"\"\"Generate a prompt for getting Visitor Classification\"\"\"\n",
    "        return self.base_template.format(\n",
    "            profile=profile,\n",
    "            begin_text=\"<|begin_of_text|>\",\n",
    "            start_header_id=\"<|start_header_id|>\",\n",
    "            end_header_id=\"<|end_header_id|>\",\n",
    "            categories=self.generate_nomemclature(),\n",
    "            examples=self.generate_examples(),\n",
    "            reasoning=f\"\"\"1. Key Questions (What best describes your reason for attending and Decision making power) and Its answers has more weight than Other Questions.\n",
    "2. More Days_since_registration means more interest to come to the event with a purchase purpose.\n",
    "3. JobTitle, Job Level , Size of the company, Number of Employees, Number of Days in Hotel, can give you an Idea of how much interest has the visitor to come to the Event\n",
    "4. Give 1 of the 5 choices in this list {self.generate_keys} based on the profile provided\n",
    "5.Return the a JSON with a single key 'Class' and no premable or explanation.\"\"\",\n",
    "            eot_id=\"<|eot_id|>\",\n",
    "        )"
   ]
  },
  {
   "cell_type": "code",
   "execution_count": null,
   "id": "b5a3f78f-7723-4dcf-ae4a-af8a56829f4b",
   "metadata": {},
   "outputs": [],
   "source": [
    "csm_template = LLama_PromptTemplate(nomenclature, examples)"
   ]
  },
  {
   "cell_type": "code",
   "execution_count": null,
   "id": "83d15ce6-b3b7-4eff-a37d-1fad2829f6b3",
   "metadata": {},
   "outputs": [],
   "source": [
    "profile = mg.get(\"BDAWL25_J59MXE4\")"
   ]
  },
  {
   "cell_type": "code",
   "execution_count": null,
   "id": "6dfb7ecc-102b-4a00-b583-a385616a4694",
   "metadata": {},
   "outputs": [],
   "source": [
    "profile_template = csm_template.generate_clustering_prompt(profile)\n",
    "\n",
    "print(\"Profile Template:\")\n",
    "print(\"-\" * 50)\n",
    "print(profile_template)\n",
    "print(\"\\n\")"
   ]
  },
  {
   "cell_type": "code",
   "execution_count": null,
   "id": "eaf1f596-a073-4df9-bf45-d2cdeba7f35b",
   "metadata": {},
   "outputs": [],
   "source": [
    "from langchain_ollama import ChatOllama\n",
    "from langchain_core.messages import AIMessage"
   ]
  },
  {
   "cell_type": "code",
   "execution_count": null,
   "id": "762678d6-57a6-408a-9595-50ce6a0757e6",
   "metadata": {},
   "outputs": [],
   "source": [
    "# llama3.2:3b"
   ]
  },
  {
   "cell_type": "code",
   "execution_count": null,
   "id": "0c8408c7-c9b1-4f08-9a42-fd59490067fa",
   "metadata": {},
   "outputs": [],
   "source": [
    "llm = ChatOllama(\n",
    "    model=\"llama3.2:3b\",\n",
    "    temperature=0.2,\n",
    "    num_ctx=4096,\n",
    ")"
   ]
  },
  {
   "cell_type": "code",
   "execution_count": null,
   "id": "71afc76f-aa06-45c6-a380-73c61ebe9607",
   "metadata": {},
   "outputs": [],
   "source": [
    "ai_msg = llm.invoke(profile_template)"
   ]
  },
  {
   "cell_type": "code",
   "execution_count": null,
   "id": "598c751f-ad91-4b15-9676-f946d41150c5",
   "metadata": {},
   "outputs": [],
   "source": [
    "  print(ai_msg.content)\n",
    "  print(\"-\"*100)"
   ]
  },
  {
   "cell_type": "code",
   "execution_count": null,
   "id": "2f06fa52-26e4-4e92-b61e-030b3631c35e",
   "metadata": {},
   "outputs": [],
   "source": [
    "list_profiles = list(merged_data.keys())\n",
    "len(list_profiles)"
   ]
  },
  {
   "cell_type": "code",
   "execution_count": null,
   "id": "2e89a392-4383-4b6f-ab57-b774fcd739c3",
   "metadata": {
    "scrolled": true
   },
   "outputs": [],
   "source": [
    "output = []\n",
    "for p in list_profiles:\n",
    "    profile = merged_data.get(p)\n",
    "    profile_template = csm_template.generate_clustering_prompt(profile)\n",
    "    ai_msg = llm.invoke(profile_template)\n",
    "    print(ai_msg.content)\n",
    "    print(\"-\" * 100)\n",
    "    output.append(ai_msg.content)"
   ]
  },
  {
   "cell_type": "code",
   "execution_count": null,
   "id": "5bf8b359-bdda-4acd-8bf7-2ad3a2078a6b",
   "metadata": {},
   "outputs": [],
   "source": []
  }
 ],
 "metadata": {
  "kernelspec": {
   "display_name": "Python (csm)",
   "language": "python",
   "name": "csm"
  },
  "language_info": {
   "codemirror_mode": {
    "name": "ipython",
    "version": 3
   },
   "file_extension": ".py",
   "mimetype": "text/x-python",
   "name": "python",
   "nbconvert_exporter": "python",
   "pygments_lexer": "ipython3",
   "version": "3.11.10"
  }
 },
 "nbformat": 4,
 "nbformat_minor": 5
}
