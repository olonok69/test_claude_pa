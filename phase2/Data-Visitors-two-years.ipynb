{
 "cells": [
  {
   "cell_type": "code",
   "execution_count": null,
   "id": "8491018b-c5f6-4e70-ba75-667f65dd4c52",
   "metadata": {},
   "outputs": [],
   "source": [
    "import pandas as pd\n",
    "import json\n",
    "from pandas import json_normalize"
   ]
  },
  {
   "cell_type": "code",
   "execution_count": null,
   "id": "629d813c-59c7-4be7-9d5b-21f1397eb47b",
   "metadata": {},
   "outputs": [],
   "source": [
    "with open(\"csm_data/Registration_data_csm.json\", \"r\") as f:\n",
    "    regdata = json.load(f)"
   ]
  },
  {
   "cell_type": "code",
   "execution_count": null,
   "id": "105f5cc0-0583-4f44-9211-825a89068bd8",
   "metadata": {},
   "outputs": [],
   "source": [
    "columns = list(regdata[0].keys())\n",
    "columns"
   ]
  },
  {
   "cell_type": "code",
   "execution_count": null,
   "id": "add52c3b-17e0-47c4-9bb7-b1ac322ccd5a",
   "metadata": {},
   "outputs": [],
   "source": [
    "# Normalize the nested JSON\n",
    "df = json_normalize(regdata)"
   ]
  },
  {
   "cell_type": "code",
   "execution_count": null,
   "id": "8291b9aa-1bd9-4941-8b06-fd4548f1ccd8",
   "metadata": {},
   "outputs": [],
   "source": [
    "len(df)"
   ]
  },
  {
   "cell_type": "code",
   "execution_count": null,
   "id": "fd151ad9-23ac-421b-82d4-e4f5062e416a",
   "metadata": {},
   "outputs": [],
   "source": [
    "df.head()"
   ]
  },
  {
   "cell_type": "code",
   "execution_count": null,
   "id": "e05ec3c8-aa19-47b9-89b2-dfd094231649",
   "metadata": {},
   "outputs": [],
   "source": [
    "df[\"ShowRef\"].unique()"
   ]
  },
  {
   "cell_type": "markdown",
   "id": "d4d25ee7-85b4-449c-9f6c-b83454c9bdcb",
   "metadata": {},
   "source": [
    "# Find Visitor in 24 and 25\n",
    "\n",
    "- USe the email address\n",
    "- create dataframe of 25 with Visitors which repeat\n",
    "- Remove Badge Type not valid like "
   ]
  },
  {
   "cell_type": "code",
   "execution_count": null,
   "id": "850a9fe1-d9be-43a2-9d3a-e47119cf2f5a",
   "metadata": {},
   "outputs": [],
   "source": [
    "shows_24 = [\"BVA2024\", \"DL24\", \"DCWL24\", \"CEEL24\", \"CCSEL24\", \"BDAWL24\"]\n",
    "shows_25 = [\"BDAWL25\", \"CEEL25\", \"CCSEL25\", \"DCWL25\", \"DL25\"]"
   ]
  },
  {
   "cell_type": "code",
   "execution_count": null,
   "id": "c539e194-a7d8-488d-b2cd-fd643216ddb6",
   "metadata": {},
   "outputs": [],
   "source": [
    "df_reg_24 = df[df.ShowRef.isin(shows_24)]\n",
    "df_reg_25 = df[df.ShowRef.isin(shows_25)]\n",
    "len(df_reg_24), len(df_reg_25)"
   ]
  },
  {
   "cell_type": "code",
   "execution_count": null,
   "id": "4a66a8cd-998b-416f-862c-7573995769db",
   "metadata": {},
   "outputs": [],
   "source": [
    "email_24_list = list(df_reg_24[\"Email\"].unique())\n",
    "email_25_list = list(df_reg_25[\"Email\"].unique())"
   ]
  },
  {
   "cell_type": "code",
   "execution_count": null,
   "id": "9593d80a-848d-4c4a-8c8c-24d6cbc998c5",
   "metadata": {},
   "outputs": [],
   "source": [
    "email_24_25 = set(email_25_list).intersection(set(email_24_list))"
   ]
  },
  {
   "cell_type": "code",
   "execution_count": null,
   "id": "3247e98b-6462-46a0-9d2b-0c0de4e4e6f8",
   "metadata": {},
   "outputs": [],
   "source": [
    "len(email_24_25)"
   ]
  },
  {
   "cell_type": "code",
   "execution_count": null,
   "id": "ae055e22-b488-4669-8e7f-6da216b9603c",
   "metadata": {},
   "outputs": [],
   "source": [
    "dfreg_24_25 = df_reg_25[df_reg_25[\"Email\"].isin(email_24_25)]\n",
    "len(dfreg_24_25)"
   ]
  },
  {
   "cell_type": "code",
   "execution_count": null,
   "id": "674d97f0-400d-4f1f-8c3d-c7091fcdf44d",
   "metadata": {},
   "outputs": [],
   "source": [
    "dfreg_24_25 = pd.merge(\n",
    "    dfreg_24_25, df_reg_24[[\"Email\", \"ShowRef\", \"BadgeId\"]], on=\"Email\", how=\"inner\"\n",
    ")\n",
    "len(dfreg_24_25)"
   ]
  },
  {
   "cell_type": "code",
   "execution_count": null,
   "id": "affd89ff-82d4-4682-92a5-4290b9de8c97",
   "metadata": {},
   "outputs": [],
   "source": [
    "dfreg_24_25.isnull().sum()"
   ]
  },
  {
   "cell_type": "code",
   "execution_count": null,
   "id": "aa7f7a33-8573-450e-b31e-b99a0f0f8859",
   "metadata": {},
   "outputs": [],
   "source": [
    "dfreg_24_25.to_csv(\"csv/Registration_data_24_25_both.csv\", index=False)\n",
    "len(dfreg_24_25)"
   ]
  },
  {
   "cell_type": "code",
   "execution_count": null,
   "id": "4fb195eb-37ca-412c-b69f-4616dad1ccef",
   "metadata": {},
   "outputs": [],
   "source": [
    "dfreg_24_25[\"BadgeType\"].unique()"
   ]
  },
  {
   "cell_type": "code",
   "execution_count": null,
   "id": "c5fbfeee-2a53-475f-91cb-6d89573d8b7a",
   "metadata": {},
   "outputs": [],
   "source": [
    "badgeIDs_list = [\"VIP\", \"Visitor\", \"Commercial Visitor\"]"
   ]
  },
  {
   "cell_type": "code",
   "execution_count": null,
   "id": "f0baaff3-bbea-467b-8b50-39583bcbf03a",
   "metadata": {},
   "outputs": [],
   "source": [
    "dfreg_24_25_good_badge_id = dfreg_24_25[dfreg_24_25[\"BadgeType\"].isin(badgeIDs_list)]"
   ]
  },
  {
   "cell_type": "code",
   "execution_count": null,
   "id": "8b2b52a1-2177-41ef-8334-863887c0fa59",
   "metadata": {},
   "outputs": [],
   "source": [
    "len(dfreg_24_25_good_badge_id)"
   ]
  },
  {
   "cell_type": "code",
   "execution_count": null,
   "id": "d1b4c3c0-cea3-4345-a084-53ce14373125",
   "metadata": {},
   "outputs": [],
   "source": [
    "dfreg_24_25_good_badge_id.to_csv(\n",
    "    \"csv/Registration_data_24_25_both_only_valid_badge_type.csv\", index=False\n",
    ")"
   ]
  },
  {
   "cell_type": "code",
   "execution_count": null,
   "id": "354289d7-628d-4f64-8208-0373fa74757b",
   "metadata": {},
   "outputs": [],
   "source": [
    "dfreg_24_25_good_badge_id.head()"
   ]
  },
  {
   "cell_type": "markdown",
   "id": "7f322a86-12e6-498a-a954-da5526d814c2",
   "metadata": {},
   "source": [
    "# Create a list of BadgeID of those Visitor which are registered to both events"
   ]
  },
  {
   "cell_type": "code",
   "execution_count": null,
   "id": "7fc60b6e-162c-4937-ae7e-0de4ef9fbd37",
   "metadata": {},
   "outputs": [],
   "source": [
    "list_badges_24_25 = list(dfreg_24_25_good_badge_id[\"BadgeId_y\"].unique())\n",
    "len(list_badges_24_25)"
   ]
  },
  {
   "cell_type": "code",
   "execution_count": null,
   "id": "991472f6-a83b-4d56-97e3-fcf97b37b57a",
   "metadata": {},
   "outputs": [],
   "source": [
    "list_badges_24_25[0]"
   ]
  },
  {
   "cell_type": "markdown",
   "id": "49d1b6e1-6d0f-49da-89d4-4e0837c9bf1d",
   "metadata": {},
   "source": [
    "# Badge Data"
   ]
  },
  {
   "cell_type": "code",
   "execution_count": null,
   "id": "6cf2d3a1-1344-4032-8c00-5dcd9f49432b",
   "metadata": {},
   "outputs": [],
   "source": [
    "path_seminar_reference_24 = \"csv/tech london 2024 seminars reference.csv\"\n",
    "path_badge_scan_24 = \"csv/tech london 2024 seminars.csv\""
   ]
  },
  {
   "cell_type": "code",
   "execution_count": null,
   "id": "72feb697-7de3-472d-9d13-6200900f9fe2",
   "metadata": {},
   "outputs": [],
   "source": [
    "reference_data_24 = pd.read_csv(path_seminar_reference_24)\n",
    "scans_data_24 = pd.read_csv(path_badge_scan_24)"
   ]
  },
  {
   "cell_type": "code",
   "execution_count": null,
   "id": "d5a450bf-5c4b-48ba-b383-02a421072d8b",
   "metadata": {},
   "outputs": [],
   "source": [
    "reference_data_24.head(2)"
   ]
  },
  {
   "cell_type": "code",
   "execution_count": null,
   "id": "24a1ef16-88c2-4cc7-86ef-aef5b19be081",
   "metadata": {},
   "outputs": [],
   "source": [
    "scans_data_24.head(2)"
   ]
  },
  {
   "cell_type": "code",
   "execution_count": null,
   "id": "4590f487-aec0-4766-8ef2-524afdbe87d2",
   "metadata": {},
   "outputs": [],
   "source": [
    "commom_sessions = set(reference_data_24[\"Short Name\"].unique()).intersection(\n",
    "    set(scans_data_24[\"Short Name\"].unique())\n",
    ")"
   ]
  },
  {
   "cell_type": "code",
   "execution_count": null,
   "id": "b7edf320-55b0-4152-bb86-17011c44067f",
   "metadata": {},
   "outputs": [],
   "source": [
    "scans_data_24.columns"
   ]
  },
  {
   "cell_type": "code",
   "execution_count": null,
   "id": "c50c6b77-3c4c-481c-b963-4cb6134f6c0d",
   "metadata": {},
   "outputs": [],
   "source": [
    "badge_scan_list = set(list(scans_data_24[\"Badge Id\"].unique())).intersection(\n",
    "    set(list_badges_24_25)\n",
    ")\n",
    "len(badge_scan_list)"
   ]
  },
  {
   "cell_type": "markdown",
   "id": "eafcb19c-dfb8-4c95-9196-dc32589138d4",
   "metadata": {},
   "source": [
    "### Extract activity in 2024 of Visitors which are registered in both years"
   ]
  },
  {
   "cell_type": "code",
   "execution_count": null,
   "id": "7584d88b-f15b-4454-a163-ece68bd949a0",
   "metadata": {},
   "outputs": [],
   "source": [
    "scans_data_24_25 = scans_data_24[scans_data_24[\"Badge Id\"].isin(badge_scan_list)]\n",
    "len(scans_data_24_25)"
   ]
  },
  {
   "cell_type": "code",
   "execution_count": null,
   "id": "e0e4bcdc-feef-4fce-ae4e-1a43ca69d63b",
   "metadata": {},
   "outputs": [],
   "source": [
    "reference_data_24.columns"
   ]
  },
  {
   "cell_type": "code",
   "execution_count": null,
   "id": "7ffd2773-cab1-427a-a9c4-ed4d0c366699",
   "metadata": {},
   "outputs": [],
   "source": [
    "scans_data_24_25.columns"
   ]
  },
  {
   "cell_type": "code",
   "execution_count": null,
   "id": "07413cbe-a50f-42b8-ab10-640030857eb2",
   "metadata": {},
   "outputs": [],
   "source": [
    "scans_data_24_25_enriched = pd.merge(\n",
    "    scans_data_24_25[[\"Short Name\", \"Badge Id\"]],\n",
    "    reference_data_24[[\"Short Name\", \"Seminar Name\"]],\n",
    "    on=[\"Short Name\"],\n",
    "    how=\"inner\",\n",
    ")\n",
    "len(scans_data_24_25_enriched)"
   ]
  },
  {
   "cell_type": "code",
   "execution_count": null,
   "id": "221e4869-b53f-4df3-9455-d28276c93dba",
   "metadata": {},
   "outputs": [],
   "source": [
    "scans_data_24_25_enriched.to_csv(\"csv/scans_data_24_25_enriched.csv\", index=False)"
   ]
  },
  {
   "cell_type": "markdown",
   "id": "17cd2703-a268-4e77-8314-e05fe5f12593",
   "metadata": {},
   "source": [
    "# include scan data in Demograpifc Data 2025\n",
    "\n"
   ]
  },
  {
   "cell_type": "code",
   "execution_count": null,
   "id": "9a0250a2-0e19-47dc-a6ec-1b5b9a4a77b3",
   "metadata": {},
   "outputs": [],
   "source": [
    "scans_data_24_25_enriched.columns"
   ]
  },
  {
   "cell_type": "code",
   "execution_count": null,
   "id": "c38a24dc-5036-4ee9-92f8-803ad88597b1",
   "metadata": {},
   "outputs": [],
   "source": [
    "len(scans_data_24_25_enriched[\"Badge Id\"].unique()), len(\n",
    "    scans_data_24_25_enriched[\"Badge Id\"]\n",
    ")"
   ]
  },
  {
   "cell_type": "code",
   "execution_count": null,
   "id": "fa4fc375-b72a-4071-b090-a5914741ac7f",
   "metadata": {},
   "outputs": [],
   "source": [
    "# Group by 'Badge Id' and concatenate 'Seminar Name'\n",
    "grouped_df = (\n",
    "    scans_data_24_25_enriched.groupby(\"Badge Id\")[\"Seminar Name\"]\n",
    "    .apply(\", \".join)\n",
    "    .reset_index()\n",
    ")\n",
    "\n",
    "# Rename the columns\n",
    "grouped_df.columns = [\"Badge Id\", \"Concatenated Seminar Names\"]\n",
    "\n",
    "# Output the new DataFrame\n",
    "grouped_df.head(5)"
   ]
  },
  {
   "cell_type": "code",
   "execution_count": null,
   "id": "0d96546f-33d6-48dd-bc42-6d2e2a00c244",
   "metadata": {},
   "outputs": [],
   "source": [
    "grouped_df.to_csv(\"csv/scans_data_24_25_enriched_grouped.csv\", index=False)"
   ]
  },
  {
   "cell_type": "code",
   "execution_count": null,
   "id": "0e51ea5c-29d8-4a36-9e87-14d8a54bd1ac",
   "metadata": {},
   "outputs": [],
   "source": [
    "# Merging the DataFrames on 'BadgeId_y' and 'Badge Id'\n",
    "merged_df = pd.merge(\n",
    "    dfreg_24_25_good_badge_id,\n",
    "    grouped_df,\n",
    "    left_on=\"BadgeId_y\",\n",
    "    right_on=\"Badge Id\",\n",
    "    how=\"left\",\n",
    ")\n",
    "\n",
    "# Dropping the redundant 'Badge Id' column if needed\n",
    "merged_df = merged_df.drop(columns=[\"Badge Id\"])\n",
    "\n",
    "# Output the merged DataFrame(merged_df)\n",
    "\n",
    "merged_df.head()"
   ]
  },
  {
   "cell_type": "code",
   "execution_count": null,
   "id": "6b557396-fd6b-4893-b729-fce58440c606",
   "metadata": {},
   "outputs": [],
   "source": [
    "merged_df.columns"
   ]
  },
  {
   "cell_type": "code",
   "execution_count": null,
   "id": "e284f7d1-6e9c-4bb8-a7b4-b54c4cab77ce",
   "metadata": {},
   "outputs": [],
   "source": [
    "merged_df = merged_df[\n",
    "    [\n",
    "        \"Id\",\n",
    "        \"Title\",\n",
    "        \"Forename\",\n",
    "        \"Surname\",\n",
    "        \"Email\",\n",
    "        \"Tel\",\n",
    "        \"Mobile\",\n",
    "        \"Fax\",\n",
    "        \"Company\",\n",
    "        \"JobTitle\",\n",
    "        \"Addr1\",\n",
    "        \"Addr2\",\n",
    "        \"Addr3\",\n",
    "        \"Town\",\n",
    "        \"County\",\n",
    "        \"Postcode\",\n",
    "        \"Country\",\n",
    "        \"Status\",\n",
    "        \"BadgeType\",\n",
    "        \"ShowRef_x\",\n",
    "        \"RegistrationDate\",\n",
    "        \"BadgeId_x\",\n",
    "        \"RegCode\",\n",
    "        \"Source\",\n",
    "        \"Attended\",\n",
    "        \"SegmentFromReg\",\n",
    "        \"Upgrade\",\n",
    "        \"Concatenated Seminar Names\",\n",
    "    ]\n",
    "]"
   ]
  },
  {
   "cell_type": "code",
   "execution_count": null,
   "id": "a8ca63c1-194b-4994-b948-bcac865016f2",
   "metadata": {},
   "outputs": [],
   "source": [
    "merged_df.columns = [\n",
    "    \"Id\",\n",
    "    \"Title\",\n",
    "    \"Forename\",\n",
    "    \"Surname\",\n",
    "    \"Email\",\n",
    "    \"Tel\",\n",
    "    \"Mobile\",\n",
    "    \"Fax\",\n",
    "    \"Company\",\n",
    "    \"JobTitle\",\n",
    "    \"Addr1\",\n",
    "    \"Addr2\",\n",
    "    \"Addr3\",\n",
    "    \"Town\",\n",
    "    \"County\",\n",
    "    \"Postcode\",\n",
    "    \"Country\",\n",
    "    \"Status\",\n",
    "    \"BadgeType\",\n",
    "    \"ShowRef\",\n",
    "    \"RegistrationDate\",\n",
    "    \"BadgeId\",\n",
    "    \"RegCode\",\n",
    "    \"Source\",\n",
    "    \"Attended\",\n",
    "    \"SegmentFromReg\",\n",
    "    \"Upgrade\",\n",
    "    \"Concatenated Seminar Names\",\n",
    "]"
   ]
  },
  {
   "cell_type": "code",
   "execution_count": null,
   "id": "874921e4-2fa5-40cc-889c-88acbf19457e",
   "metadata": {},
   "outputs": [],
   "source": [
    "merged_df = merged_df[[\"Email\", \"ShowRef\", \"BadgeId\", \"Concatenated Seminar Names\"]]"
   ]
  },
  {
   "cell_type": "code",
   "execution_count": null,
   "id": "10881414-8b28-4c7e-aa0c-70f94a834164",
   "metadata": {},
   "outputs": [],
   "source": [
    "merged_df.to_csv(\n",
    "    \"csv/Registration_data_24_25_both_only_valid_badge_type_with_seminars.csv\",\n",
    "    index=False,\n",
    ")"
   ]
  },
  {
   "cell_type": "code",
   "execution_count": null,
   "id": "910b2a98-f4b2-44cc-886c-c498befab9c4",
   "metadata": {},
   "outputs": [],
   "source": []
  }
 ],
 "metadata": {
  "kernelspec": {
   "display_name": "Python (csm)",
   "language": "python",
   "name": "csm"
  },
  "language_info": {
   "codemirror_mode": {
    "name": "ipython",
    "version": 3
   },
   "file_extension": ".py",
   "mimetype": "text/x-python",
   "name": "python",
   "nbconvert_exporter": "python",
   "pygments_lexer": "ipython3",
   "version": "3.11.10"
  }
 },
 "nbformat": 4,
 "nbformat_minor": 5
}
