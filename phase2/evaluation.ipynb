{
 "cells": [
  {
   "cell_type": "code",
   "execution_count": null,
   "id": "2320d2a3-72cf-403c-b310-2223640c3f24",
   "metadata": {},
   "outputs": [],
   "source": [
    "import pandas as pd\n",
    "import matplotlib.pyplot as plt\n",
    "import seaborn as sns"
   ]
  },
  {
   "cell_type": "code",
   "execution_count": null,
   "id": "80a006b4-9b0f-4db6-b76d-25ecdfa095c6",
   "metadata": {},
   "outputs": [],
   "source": [
    "filename = \"evaluation/post_event/llama3_1_yes_yes_2025-03-26_13-09-44.csv\"\n",
    "data = pd.read_csv(filename)"
   ]
  },
  {
   "cell_type": "code",
   "execution_count": null,
   "id": "cd8eb21b-7137-465f-bdf3-dfe8dca68763",
   "metadata": {},
   "outputs": [],
   "source": [
    "data.loc[data[\"category\"] == \"Early_Purchase_Intention\", \"category\"] = (\n",
    "    \"Early_Purchasing_Intention\"\n",
    ")\n",
    "\n",
    "# Early_Purchasing_Inention\n",
    "data.loc[data[\"category\"] == \"Early_Purchasing_Inention\", \"category\"] = (\n",
    "    \"Early_Purchasing_Intention\"\n",
    ")\n",
    "\n",
    "# Early_Purchasing_Intentions\n",
    "data.loc[data[\"category\"] == \"Early_Purchasing_Intentions\", \"category\"] = (\n",
    "    \"Early_Purchasing_Intention\"\n",
    ")\n",
    "\n",
    "# High_Purchase_Intent\n",
    "data.loc[data[\"category\"] == \"High_Purchase_Intent\", \"category\"] = (\n",
    "    \"High_Purchase_Intention\"\n",
    ")"
   ]
  },
  {
   "cell_type": "code",
   "execution_count": null,
   "id": "881f2a01-005d-44cd-b30d-0d8993557c9c",
   "metadata": {},
   "outputs": [],
   "source": [
    "data.loc[data[\"category\"] == \"This allocation might or not be correct\", \"category\"] = (\n",
    "    \"Not_enought_data\"\n",
    ")"
   ]
  },
  {
   "cell_type": "code",
   "execution_count": null,
   "id": "1bd04bf2-c588-4f55-9c61-7f64d3e661bb",
   "metadata": {},
   "outputs": [],
   "source": [
    "data.head()"
   ]
  },
  {
   "cell_type": "code",
   "execution_count": null,
   "id": "33c8a321-df7a-4cd2-87e0-a9ebe99b7bbf",
   "metadata": {},
   "outputs": [],
   "source": [
    "data.columns"
   ]
  },
  {
   "cell_type": "code",
   "execution_count": null,
   "id": "dc310023-5a58-489c-86e5-f28da6ecc411",
   "metadata": {},
   "outputs": [],
   "source": [
    "data.columns"
   ]
  },
  {
   "cell_type": "code",
   "execution_count": null,
   "id": "9a5174eb-0bad-412b-99ea-95aca5133bc5",
   "metadata": {},
   "outputs": [],
   "source": [
    "category_counts = data[\"category\"].value_counts()\n",
    "category_counts"
   ]
  },
  {
   "cell_type": "code",
   "execution_count": null,
   "id": "a865751e-7137-4803-8d2c-6de0deb63496",
   "metadata": {},
   "outputs": [],
   "source": [
    "category_counts = pd.DataFrame(category_counts).reset_index()"
   ]
  },
  {
   "cell_type": "code",
   "execution_count": null,
   "id": "04d54777-e31e-4a6e-8549-17d4db2f88d0",
   "metadata": {},
   "outputs": [],
   "source": [
    "category_counts"
   ]
  },
  {
   "cell_type": "code",
   "execution_count": null,
   "id": "02f4e1b6-1ba7-4921-89e3-f2161286a899",
   "metadata": {},
   "outputs": [],
   "source": [
    "data[\"category\"].value_counts()"
   ]
  },
  {
   "cell_type": "code",
   "execution_count": null,
   "id": "5bc23ee8-5823-4655-9375-fa443d387f79",
   "metadata": {},
   "outputs": [],
   "source": [
    "len(data)"
   ]
  },
  {
   "cell_type": "code",
   "execution_count": null,
   "id": "4c413c0b-5272-42ed-858f-e23df75863ba",
   "metadata": {},
   "outputs": [],
   "source": [
    "category_names = list(data[\"category\"].unique())"
   ]
  },
  {
   "cell_type": "code",
   "execution_count": null,
   "id": "b2fe993e-aacb-4589-a91f-a2f1219b0cbc",
   "metadata": {},
   "outputs": [],
   "source": [
    "category_names"
   ]
  },
  {
   "cell_type": "code",
   "execution_count": null,
   "id": "a878d5d7-8890-4f0f-8dee-d20ef3d2ac96",
   "metadata": {},
   "outputs": [],
   "source": [
    "# data.to_csv(filename, index=False)"
   ]
  },
  {
   "cell_type": "code",
   "execution_count": null,
   "id": "92110134-dd1a-4b23-bf6e-85c1af917334",
   "metadata": {},
   "outputs": [],
   "source": [
    "color_palette = {\n",
    "    \"Learning\": \"#1f77b4\",  # Blue\n",
    "    \"Early_Purchasing_Intention\": \"#ff7f0e\",  # Orange\n",
    "    \"Networking\": \"#2ca02c\",  # Green\n",
    "    \"High_Purchase_Intention\": \"#d62728\",  # Red\n",
    "    \"Searching\": \"#9467bd\",  # Purple\n",
    "    \"Not_enought_data\": \"#8c564b\",  # Brown\n",
    "}\n",
    "category_counts[\"Color\"] = category_counts[\"category\"].map(color_palette)  # Map colors\n",
    "\n",
    "# Create the pie chart\n",
    "plt.figure(figsize=(10, 10))\n",
    "plt.pie(\n",
    "    category_counts[\"count\"],\n",
    "    labels=category_counts[\"category\"],\n",
    "    autopct=\"%1.1f%%\",\n",
    "    colors=category_counts[\"Color\"],  # Use the assigned colors\n",
    "    textprops={\"fontsize\": 12},  # Adjust font size for better readability\n",
    ")\n",
    "\n",
    "plt.title(\"Category Distribution\", fontsize=16)\n",
    "plt.show()\n",
    "\n",
    "# # Ensure the colors are applied in the order of the categories\n",
    "\n",
    "# colors = [color_palette.get(category, \"#7f7f7f\") for category in category_names]  # Fallback color: Grey\n",
    "\n",
    "# # Plot the pie chart\n",
    "\n",
    "\n",
    "# plt.figure(figsize=(10,10))\n",
    "# category_counts.plot(kind='pie', autopct='%1.1f%%', colors=colors)\n",
    "\n",
    "# plt.title('Category Distribution')\n",
    "# plt.ylabel('')  # Hides the y-label for better visual appearance\n",
    "# plt.show()"
   ]
  },
  {
   "cell_type": "code",
   "execution_count": null,
   "id": "c17d4b2f-0536-4ce6-8ea2-0ddb0eb67a62",
   "metadata": {},
   "outputs": [],
   "source": [
    "def concatenate_showref_badgeid(row):\n",
    "    \"\"\"\n",
    "    Concatenate ShowRef and BadgeId\n",
    "    \"\"\"\n",
    "    return \"_\".join([row[\"ShowRef\"], row[\"BadgeId\"]])"
   ]
  },
  {
   "cell_type": "code",
   "execution_count": null,
   "id": "06f7e999-005b-471a-8792-77d4951a69e2",
   "metadata": {},
   "outputs": [],
   "source": [
    "data[\"profile_id\"] = data.apply(lambda row: concatenate_showref_badgeid(row), axis=1)"
   ]
  },
  {
   "cell_type": "code",
   "execution_count": null,
   "id": "f6620469-94e1-4477-bdbb-203a2f2e1bca",
   "metadata": {},
   "outputs": [],
   "source": [
    "data.head()"
   ]
  },
  {
   "cell_type": "code",
   "execution_count": null,
   "id": "5e3988ce-f3a2-4d50-9051-846af8f0f7e3",
   "metadata": {},
   "outputs": [],
   "source": [
    "data[[\"profile_id\"]].to_csv(\"data/profile_ids.csv\", index=False)"
   ]
  },
  {
   "cell_type": "code",
   "execution_count": null,
   "id": "7f06e898-3bdd-4fe0-9da2-60a59982ef55",
   "metadata": {},
   "outputs": [],
   "source": [
    "data[[\"profile_id\"]][-25:].to_csv(\"data/profile_ids_25.csv\", index=False)"
   ]
  },
  {
   "cell_type": "code",
   "execution_count": null,
   "id": "14935eb1-da2b-43d4-9d1b-ec10b67bd736",
   "metadata": {},
   "outputs": [],
   "source": [
    "df = pd.read_csv(\"data/profile_ids_25.csv\")"
   ]
  },
  {
   "cell_type": "code",
   "execution_count": null,
   "id": "db9b20da-9eb5-4efb-aaf3-516423fd961d",
   "metadata": {},
   "outputs": [],
   "source": [
    "df[\"profile_id\"].to_list()"
   ]
  },
  {
   "cell_type": "code",
   "execution_count": null,
   "id": "0da50a43-3c69-497b-a32e-4221fb440248",
   "metadata": {},
   "outputs": [],
   "source": []
  }
 ],
 "metadata": {
  "kernelspec": {
   "display_name": "Python 3 (ipykernel)",
   "language": "python",
   "name": "python3"
  },
  "language_info": {
   "codemirror_mode": {
    "name": "ipython",
    "version": 3
   },
   "file_extension": ".py",
   "mimetype": "text/x-python",
   "name": "python",
   "nbconvert_exporter": "python",
   "pygments_lexer": "ipython3",
   "version": "3.11.11"
  }
 },
 "nbformat": 4,
 "nbformat_minor": 5
}
