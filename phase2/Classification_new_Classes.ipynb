{
 "cells": [
  {
   "cell_type": "markdown",
   "id": "d56fbffd-fa7e-4f33-be74-4303077a3b29",
   "metadata": {},
   "source": [
    "# Clustering Data and Prompting Classification"
   ]
  },
  {
   "cell_type": "code",
   "execution_count": null,
   "id": "6aa9d01c-83e2-4d26-b947-eed6365626b2",
   "metadata": {},
   "outputs": [],
   "source": [
    "import json\n",
    "import pprint"
   ]
  },
  {
   "cell_type": "code",
   "execution_count": null,
   "id": "35adccef-8322-431f-8cbd-9cc880a3d94d",
   "metadata": {},
   "outputs": [],
   "source": [
    "nomenclature = {\n",
    "    \"networking\": \"\"\"Networking: Visitors in this group are currently focused primarily on building professional or personal relationships and expanding their network. They attend this event to meet industry peers, experts, and potential partners. Their interactions are more about establishing connections than purchasing. They value personal interactions and opportunities for collaboration\"\"\",\n",
    "    \"learning\": \"\"\"Learning: These attendees are currently motivated by educational and learning opportunities. They seek to gain new insights, learn about industry trends, and enhance their knowledge and skills. They are likely to attend workshops, seminars, and keynote speeches. Their interest in products or services is secondary to their desire for professional development\"\"\",\n",
    "    \"searching_info_on_products_and_vendors\": \"\"\"Searching for info on products and vendor (Gathering Information on Products, Services, Vendors or Providers): Individuals in this category might have identified a need or a problem to solve but are still exploring what products, services, vendors or providers that can meet their specific requirements. Their primary goal is to collect as much information as possible without a strong inclination towards immediate purchasing. They may engage in more specific conversations about products or services but are not yet ready to make a decision. They are likely to engage with multiple vendors to compare offerings, gather brochures, and ask general questions\"\"\",\n",
    "    \"early_purchasing_intention\": \"\"\"Early Purchasing Intention: Attendees in this group are actively engaged in the sourcing process. They know well the type of product or service they require and might have narrowed down their options and are delving deeper into specific products or services. Their interactions are more detailed, involving discussions about pricing, implementation, or customization. They are seeking to understand how different offerings stack up against each other and may be forming preferences for vendor selection\"\"\",\n",
    "    \"high_purchasing_intention\": \"\"\" High Purchase Intention: This group represents delegates who are at the final stages of their purchasing journey. They have all the information they need and are making final evaluations to choose a vendor. Their interactions are decisive, focusing on final terms, delivery, support, and other post-purchase considerations. Engagements with these individuals are very relevant and time-critical as they are on the verge of making a purchase decision.\"\"\",\n",
    "}"
   ]
  },
  {
   "cell_type": "code",
   "execution_count": null,
   "id": "d05151b9-3c7e-4fe2-9788-9917706cf834",
   "metadata": {},
   "outputs": [],
   "source": [
    "examples_path = \"output/examples.json\"\n",
    "merger_data_path = \"output/merger_data.json\"\n",
    "nomenclature_path = \"output/nomenclature.json\""
   ]
  },
  {
   "cell_type": "code",
   "execution_count": null,
   "id": "21e6bb41-99fe-431f-a26b-8399f99672d0",
   "metadata": {},
   "outputs": [],
   "source": [
    "with open(examples_path, \"r\") as f:\n",
    "    examples = json.load(f)\n",
    "with open(nomenclature_path, \"r\") as f:\n",
    "    nomenclature = json.load(f)\n",
    "with open(merger_data_path, \"r\") as f:\n",
    "    merged_data = json.load(f)"
   ]
  },
  {
   "cell_type": "code",
   "execution_count": null,
   "id": "aca5e412-22f7-4690-ba32-52ee3058309c",
   "metadata": {},
   "outputs": [],
   "source": [
    "# print(merged_data.get('BDAWL25_J59MXE4'))"
   ]
  },
  {
   "cell_type": "code",
   "execution_count": null,
   "id": "955776ac-a866-4e61-a5f6-cc83207c6485",
   "metadata": {},
   "outputs": [],
   "source": [
    "len(merged_data.keys())"
   ]
  },
  {
   "cell_type": "code",
   "execution_count": null,
   "id": "b65d8383-d69c-4035-b799-58d6c181692b",
   "metadata": {},
   "outputs": [],
   "source": [
    "list(examples.keys())"
   ]
  },
  {
   "cell_type": "code",
   "execution_count": null,
   "id": "5b1890db-02a2-42c8-b725-31e33e3623fe",
   "metadata": {},
   "outputs": [],
   "source": [
    "import classes"
   ]
  },
  {
   "cell_type": "code",
   "execution_count": null,
   "id": "48ddeafa-7938-4239-ae0a-3caf9f71878c",
   "metadata": {},
   "outputs": [],
   "source": [
    "import importlib\n",
    "\n",
    "importlib.reload(classes)"
   ]
  },
  {
   "cell_type": "markdown",
   "id": "107a02dd-e485-4fef-ae34-d461132038bb",
   "metadata": {},
   "source": [
    "# LLama3.2 Templates with examples"
   ]
  },
  {
   "cell_type": "code",
   "execution_count": null,
   "id": "68e30c51-c08f-498b-b00b-059640c70732",
   "metadata": {},
   "outputs": [],
   "source": [
    "from classes import LLama_PromptTemplate"
   ]
  },
  {
   "cell_type": "code",
   "execution_count": null,
   "id": "b5a3f78f-7723-4dcf-ae4a-af8a56829f4b",
   "metadata": {},
   "outputs": [],
   "source": [
    "csm_template = LLama_PromptTemplate(nomenclature, examples)"
   ]
  },
  {
   "cell_type": "code",
   "execution_count": null,
   "id": "83d15ce6-b3b7-4eff-a37d-1fad2829f6b3",
   "metadata": {},
   "outputs": [],
   "source": [
    "profile = merged_data.get(\"BDAWL25_J59MXE4\")"
   ]
  },
  {
   "cell_type": "code",
   "execution_count": null,
   "id": "b684edb9-85e9-4eb5-82fe-0d7c5c74eeb5",
   "metadata": {},
   "outputs": [],
   "source": [
    "# profile"
   ]
  },
  {
   "cell_type": "code",
   "execution_count": null,
   "id": "6dfb7ecc-102b-4a00-b583-a385616a4694",
   "metadata": {},
   "outputs": [],
   "source": [
    "profile_template = csm_template.generate_clustering_prompt(profile)\n",
    "\n",
    "print(\"Profile Template:\")\n",
    "print(\"-\" * 50)\n",
    "print(profile_template)\n",
    "print(\"\\n\")"
   ]
  },
  {
   "cell_type": "code",
   "execution_count": null,
   "id": "eaf1f596-a073-4df9-bf45-d2cdeba7f35b",
   "metadata": {},
   "outputs": [],
   "source": [
    "from langchain_ollama import ChatOllama\n",
    "from langchain_core.messages import AIMessage"
   ]
  },
  {
   "cell_type": "code",
   "execution_count": null,
   "id": "762678d6-57a6-408a-9595-50ce6a0757e6",
   "metadata": {},
   "outputs": [],
   "source": [
    "# llama3.2:3b"
   ]
  },
  {
   "cell_type": "code",
   "execution_count": null,
   "id": "0c8408c7-c9b1-4f08-9a42-fd59490067fa",
   "metadata": {},
   "outputs": [],
   "source": [
    "llm = ChatOllama(\n",
    "    model=\"llama3:8b\",\n",
    "    temperature=0.3,\n",
    "    num_ctx=4096,\n",
    ")"
   ]
  },
  {
   "cell_type": "code",
   "execution_count": null,
   "id": "71afc76f-aa06-45c6-a380-73c61ebe9607",
   "metadata": {},
   "outputs": [],
   "source": [
    "ai_msg = llm.invoke(profile_template)"
   ]
  },
  {
   "cell_type": "code",
   "execution_count": null,
   "id": "598c751f-ad91-4b15-9676-f946d41150c5",
   "metadata": {},
   "outputs": [],
   "source": [
    "# print(ai_msg.content)\n",
    "# print(\"-\"*100)"
   ]
  },
  {
   "cell_type": "code",
   "execution_count": null,
   "id": "2f06fa52-26e4-4e92-b61e-030b3631c35e",
   "metadata": {},
   "outputs": [],
   "source": [
    "list_profiles = list(merged_data.keys())\n",
    "len(list_profiles)"
   ]
  },
  {
   "cell_type": "code",
   "execution_count": null,
   "id": "abba2f91-957c-43b0-99d6-9cad24d9bc92",
   "metadata": {},
   "outputs": [],
   "source": [
    "list_profiles[0]"
   ]
  },
  {
   "cell_type": "code",
   "execution_count": null,
   "id": "2e89a392-4383-4b6f-ab57-b774fcd739c3",
   "metadata": {
    "scrolled": true
   },
   "outputs": [],
   "source": [
    "output = []\n",
    "for p in list_profiles:\n",
    "    profile = merged_data.get(p)\n",
    "    profile_template = csm_template.generate_clustering_prompt(profile)\n",
    "    ai_msg = llm.invoke(profile_template)\n",
    "    print(f\"Profile: {p} Category : {ai_msg.content}\")\n",
    "    print(\"-\" * 100)\n",
    "\n",
    "    output.append({p: ai_msg.content, \"input\": profile})"
   ]
  },
  {
   "cell_type": "code",
   "execution_count": null,
   "id": "caa055ed-648a-4d61-a9c8-7af7edc0d71d",
   "metadata": {},
   "outputs": [],
   "source": [
    "from datetime import datetime\n",
    "\n",
    "# Get the current datetime\n",
    "now = datetime.now()\n",
    "\n",
    "# Format the datetime as a string including up to seconds\n",
    "timestamp_str = datetime.now().strftime(\"%Y-%m-%d_%H-%M-%S\")"
   ]
  },
  {
   "cell_type": "code",
   "execution_count": null,
   "id": "5bf8b359-bdda-4acd-8bf7-2ad3a2078a6b",
   "metadata": {},
   "outputs": [],
   "source": [
    "with open(f\"classification/llama3_8B_{timestamp_str}.json\", \"w\") as f:\n",
    "    json.dump(output, f, indent=4)"
   ]
  },
  {
   "cell_type": "code",
   "execution_count": null,
   "id": "ec7d4d2e-9df8-4586-afa8-ae1f103e28ce",
   "metadata": {},
   "outputs": [],
   "source": [
    "from collections import Counter\n",
    "\n",
    "# Extract the values from each dictionary\n",
    "values = [list(d.values())[0] for d in output]\n",
    "\n",
    "# Count the occurrences of each label\n",
    "label_counts = Counter(values)\n",
    "\n",
    "# Output the result\n",
    "print(label_counts)"
   ]
  },
  {
   "cell_type": "markdown",
   "id": "4d48ae02-d971-42c8-8889-b3f19d7d476b",
   "metadata": {},
   "source": [
    "# LLama3.2 without Examples"
   ]
  },
  {
   "cell_type": "code",
   "execution_count": null,
   "id": "8d5df389-3ae0-49c3-a5fd-13777c9f1d4f",
   "metadata": {},
   "outputs": [],
   "source": [
    "csm_template_2 = LLama_PromptTemplate(nomenclature, examples)"
   ]
  },
  {
   "cell_type": "code",
   "execution_count": null,
   "id": "d9c7b0a2-e9cb-47b4-9181-3eea19252c30",
   "metadata": {},
   "outputs": [],
   "source": [
    "profile = merged_data.get(\"BDAWL25_J59MXE4\")"
   ]
  },
  {
   "cell_type": "code",
   "execution_count": null,
   "id": "01b9d973-1ddb-4ec3-93b2-c1bf16a726ba",
   "metadata": {},
   "outputs": [],
   "source": [
    "profile_template_w = csm_template_2.generate_clustering_prompt(\n",
    "    profile, include_examples=False\n",
    ")\n",
    "\n",
    "print(\"Profile Template Without:\")\n",
    "print(\"-\" * 50)\n",
    "print(profile_template_w)\n",
    "print(\"\\n\")"
   ]
  },
  {
   "cell_type": "code",
   "execution_count": null,
   "id": "ef108a8a-44c2-41ec-8011-54a74efd2cae",
   "metadata": {},
   "outputs": [],
   "source": [
    "llm2 = ChatOllama(\n",
    "    model=\"llama3.2:3b\",\n",
    "    temperature=0.5,\n",
    "    num_ctx=4096,\n",
    ")"
   ]
  },
  {
   "cell_type": "code",
   "execution_count": null,
   "id": "e03f44ce-df0b-40dc-9458-088110678ec0",
   "metadata": {
    "collapsed": true,
    "jupyter": {
     "outputs_hidden": true
    }
   },
   "outputs": [],
   "source": [
    "output2 = []\n",
    "for p in list_profiles:\n",
    "    profile = merged_data.get(p)\n",
    "    profile_template = csm_template_2.generate_clustering_prompt(\n",
    "        profile, include_examples=False\n",
    "    )\n",
    "    ai_msg = llm2.invoke(profile_template)\n",
    "    print(f\"Profile: {p} Category : {ai_msg.content}\")\n",
    "    print(\"-\" * 100)\n",
    "\n",
    "    output2.append({p: ai_msg.content})"
   ]
  },
  {
   "cell_type": "code",
   "execution_count": null,
   "id": "57e86bea-193b-47ce-b02a-5ced618b3acd",
   "metadata": {},
   "outputs": [],
   "source": [
    "with open(\"classification/llama3.2_no_examples.json\", \"w\") as f:\n",
    "    json.dump(output2, f, indent=4)"
   ]
  },
  {
   "cell_type": "code",
   "execution_count": null,
   "id": "59d529f3-42b8-42b1-96fd-eea2bba898bc",
   "metadata": {},
   "outputs": [],
   "source": [
    "from collections import Counter\n",
    "\n",
    "# Extract the values from each dictionary\n",
    "values2 = [list(d.values())[0] for d in output2]\n",
    "\n",
    "# Count the occurrences of each label\n",
    "label_counts2 = Counter(values2)\n",
    "\n",
    "# Output the result\n",
    "print(label_counts2)"
   ]
  },
  {
   "cell_type": "code",
   "execution_count": null,
   "id": "db1c4671-3463-4647-ad04-3af1d2dadb38",
   "metadata": {},
   "outputs": [],
   "source": []
  }
 ],
 "metadata": {
  "kernelspec": {
   "display_name": "Python (csm)",
   "language": "python",
   "name": "csm"
  },
  "language_info": {
   "codemirror_mode": {
    "name": "ipython",
    "version": 3
   },
   "file_extension": ".py",
   "mimetype": "text/x-python",
   "name": "python",
   "nbconvert_exporter": "python",
   "pygments_lexer": "ipython3",
   "version": "3.11.10"
  }
 },
 "nbformat": 4,
 "nbformat_minor": 5
}
