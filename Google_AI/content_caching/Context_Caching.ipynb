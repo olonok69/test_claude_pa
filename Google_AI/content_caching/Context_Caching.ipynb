{
  "nbformat": 4,
  "nbformat_minor": 0,
  "metadata": {
    "colab": {
      "provenance": []
    },
    "kernelspec": {
      "name": "python3",
      "display_name": "Python 3"
    },
    "language_info": {
      "name": "python"
    }
  },
  "cells": [
    {
      "cell_type": "markdown",
      "source": [
        "### Context Caching\n",
        "\n",
        "The Gemini API provides the context caching feature for developers to store frequently used input tokens in a dedicated cache and reference them for subsequent requests, eliminating the need to repeatedly pass the same set of tokens to a model. This feature can help reduce the number of tokens sent to the model, thereby lowering the cost of requests that contain repeat content with high input token counts.\n",
        "\n",
        "For more information, refer to the [official documentation](https://cloud.google.com/vertex-ai/generative-ai/docs/context-cache/context-cache-overview).\n",
        "\n",
        "\n",
        "https://colab.research.google.com/github/GoogleCloudPlatform/generative-ai/blob/main/gemini/context-caching/intro_context_caching.ipynb\n",
        "\n",
        "## Pricing\n",
        "- Models Tokens https://cloud.google.com/vertex-ai/generative-ai/pricing#gemini-models\n",
        "- Caching Tokens https://cloud.google.com/vertex-ai/generative-ai/pricing#context-caching"
      ],
      "metadata": {
        "id": "YZ4ZvdEki76d"
      }
    },
    {
      "cell_type": "code",
      "execution_count": null,
      "metadata": {
        "id": "YA95putoi1Un"
      },
      "outputs": [],
      "source": [
        "from google.colab import userdata\n",
        "import json\n",
        "info = json.loads(userdata.get('JSON_VERTEX_AI'))\n"
      ]
    },
    {
      "cell_type": "code",
      "source": [
        "from vertexai.generative_models import GenerativeModel, Part\n",
        "import vertexai.generative_models as generative_models\n",
        "from google.oauth2 import service_account\n",
        "import vertexai\n",
        "import os\n",
        "from vertexai import caching\n",
        "import datetime\n",
        "from IPython.display import display, Markdown"
      ],
      "metadata": {
        "id": "DWdPCAlpjnBC"
      },
      "execution_count": null,
      "outputs": []
    },
    {
      "cell_type": "code",
      "source": [
        "vertex_credentials = service_account.Credentials.from_service_account_info(info)\n",
        "vertexai.init(\n",
        "    project=userdata.get(\"PROJECT\"),\n",
        "    location=userdata.get(\"REGION\"),\n",
        "    credentials=vertex_credentials,\n",
        ")"
      ],
      "metadata": {
        "id": "OK5opiodj0fL"
      },
      "execution_count": null,
      "outputs": []
    },
    {
      "cell_type": "code",
      "source": [
        "if \"GEMINI_API_KEY\" not in os.environ:\n",
        "    os.environ[\"GEMINI_API_KEY\"] = userdata.get(\"GEMINI-API-KEY\")\n",
        "if \"GOOGLE_API_KEY\" not in os.environ:\n",
        "    os.environ[\"GOOGLE_API_KEY\"] = userdata.get(\"GEMINI-API-KEY\")\n",
        "if \"GOOGLE_CLOUD_PROJECT\" not in os.environ:\n",
        "    os.environ[\"GOOGLE_CLOUD_PROJECT\"] = userdata.get(\"PROJECT\")\n",
        "if \"GOOGLE_CLOUD_LOCATION\" not in os.environ:\n",
        "    os.environ[\"GOOGLE_CLOUD_LOCATION\"] = userdata.get(\"REGION\")\n",
        "if \"GOOGLE_GENAI_USE_VERTEXAI\" not in os.environ:\n",
        "    os.environ[\"GOOGLE_GENAI_USE_VERTEXAI\"] = \"true\""
      ],
      "metadata": {
        "id": "tpGz3TT9kPPx"
      },
      "execution_count": null,
      "outputs": []
    },
    {
      "cell_type": "code",
      "source": [
        "def init_model(model: str = \"gemini-2.0-flash-001\"):\n",
        "    \"\"\"Initializes the generative model with the specified model name.\n",
        "    Args:\n",
        "        model (str): The name of the model to use\n",
        "        Returns:\n",
        "        GenerativeModel: The initialized generative model\n",
        "    \"\"\"\n",
        "    return GenerativeModel(\n",
        "        model_name=model,\n",
        "        system_instruction=[\n",
        "            \"\"\"You a helpful agent spezialized in tasks with audio files.\"\"\"\n",
        "        ],\n",
        "        safety_settings={\n",
        "            generative_models.HarmCategory.HARM_CATEGORY_HATE_SPEECH: generative_models.HarmBlockThreshold.BLOCK_ONLY_HIGH,\n",
        "            generative_models.HarmCategory.HARM_CATEGORY_DANGEROUS_CONTENT: generative_models.HarmBlockThreshold.BLOCK_ONLY_HIGH,\n",
        "            generative_models.HarmCategory.HARM_CATEGORY_SEXUALLY_EXPLICIT: generative_models.HarmBlockThreshold.BLOCK_ONLY_HIGH,\n",
        "            generative_models.HarmCategory.HARM_CATEGORY_HARASSMENT: generative_models.HarmBlockThreshold.BLOCK_ONLY_HIGH,\n",
        "        },\n",
        "        generation_config={\n",
        "            \"max_output_tokens\": 8192,\n",
        "            \"temperature\": 1,\n",
        "            \"top_p\": 0.95,\n",
        "        },\n",
        "    )"
      ],
      "metadata": {
        "id": "rc_GTsZBkrFb"
      },
      "execution_count": null,
      "outputs": []
    },
    {
      "cell_type": "code",
      "source": [
        "import time\n",
        "from contextlib import contextmanager\n",
        "\n",
        "@contextmanager\n",
        "def measure_time():\n",
        "    start_time = time.perf_counter()\n",
        "    yield\n",
        "    end_time = time.perf_counter()\n",
        "    elapsed_time = end_time - start_time\n",
        "    print(f\"Elapsed time: {elapsed_time:.4f} seconds\")"
      ],
      "metadata": {
        "id": "DGYNGz-vpxe0"
      },
      "execution_count": null,
      "outputs": []
    },
    {
      "cell_type": "code",
      "source": [
        "model = init_model()"
      ],
      "metadata": {
        "id": "LkJDlGHHk5tP"
      },
      "execution_count": null,
      "outputs": []
    },
    {
      "cell_type": "code",
      "source": [
        "bucket_name = \"gemini-bot-data\"  # Replace with your bucket name\n",
        "destination_blob_folder =     \"test_data\"\n",
        "system_instruction = \"\"\"\n",
        "Eres un experto en extraer Informacion de documentos PDF\n",
        "\n",
        "\"\"\""
      ],
      "metadata": {
        "id": "p_MC2tR0lQk1"
      },
      "execution_count": null,
      "outputs": []
    },
    {
      "cell_type": "code",
      "source": [
        "contents = [\n",
        "    Part.from_uri(\n",
        "        uri=\"gs://gemini-bot-data/test_data/ley_enjuiciamiento_civil.pdf\",\n",
        "        mime_type=\"application/pdf\"\n",
        "    ),\n",
        "    Part.from_uri(\n",
        "        uri=\"gs://gemini-bot-data/test_data/BAREMO_AMA_BOE_RD_1971-1999.pdf\",\n",
        "        mime_type=\"application/pdf\"\n",
        "    ),\n",
        "    Part.from_uri(\n",
        "        uri=\"gs://gemini-bot-data/test_data/Baremo 2015.pdf\",\n",
        "        mime_type=\"application/pdf\"\n",
        "    )\n",
        "]"
      ],
      "metadata": {
        "id": "c1EX_KnLma3h"
      },
      "execution_count": null,
      "outputs": []
    },
    {
      "cell_type": "code",
      "source": [
        "pdf= Part.from_uri(\n",
        "        uri=\"gs://gemini-bot-data/test_data/ley_enjuiciamiento_civil.pdf\",\n",
        "        mime_type=\"application/pdf\"\n",
        "    )"
      ],
      "metadata": {
        "id": "IjvnppwuqFuy"
      },
      "execution_count": null,
      "outputs": []
    },
    {
      "cell_type": "code",
      "source": [
        "with measure_time():\n",
        "  response = model.generate_content(\n",
        "      [pdf, \"Que nos dice la Ley de Enjuiciamiento civil 1n el articulo 142, Dame una transcripcion completa.\"],\n",
        "  )\n",
        "  print(response.usage_metadata)"
      ],
      "metadata": {
        "colab": {
          "base_uri": "https://localhost:8080/"
        },
        "id": "pZWPlIhkp39r",
        "outputId": "73264d23-2035-4f0c-b09f-743d528461b5"
      },
      "execution_count": null,
      "outputs": [
        {
          "output_type": "stream",
          "name": "stdout",
          "text": [
            "prompt_token_count: 92919\n",
            "candidates_token_count: 195\n",
            "total_token_count: 93114\n",
            "prompt_tokens_details {\n",
            "  modality: TEXT\n",
            "  token_count: 39\n",
            "}\n",
            "prompt_tokens_details {\n",
            "  modality: DOCUMENT\n",
            "  token_count: 92880\n",
            "}\n",
            "candidates_tokens_details {\n",
            "  modality: TEXT\n",
            "  token_count: 195\n",
            "}\n",
            "\n",
            "Elapsed time: 37.2371 seconds\n"
          ]
        }
      ]
    },
    {
      "cell_type": "code",
      "source": [
        "Markdown(response.text)"
      ],
      "metadata": {
        "colab": {
          "base_uri": "https://localhost:8080/",
          "height": 208
        },
        "id": "VJCOltxsqfEs",
        "outputId": "11b7d52f-ccd0-4991-bc51-8d87ab3a622c"
      },
      "execution_count": null,
      "outputs": [
        {
          "output_type": "execute_result",
          "data": {
            "text/plain": [
              "<IPython.core.display.Markdown object>"
            ],
            "text/markdown": "Claro. Aquí tienes la transcripción del Artículo 142 de la Ley de Enjuiciamiento Civil (LEC):\n\n**Artículo 142. Lengua oficial.**\n\n1.  En todas las actuaciones judiciales, los Jueces, Magistrados, Fiscales, Secretarios Judiciales y demás funcionarios de Juzgados y Tribunales usarán el castellano, lengua oficial del Estado.\n\n2.  Los Jueces, Magistrados, Secretarios Judiciales, Fiscales y demás funcionarios de Juzgados y Tribunales podrán usar también la lengua oficial propia de la Comunidad Autónoma, si ninguna de las partes se opusiere, alegando desconocimiento de ella que pudiere producir indefensión.\n\n3.  Las partes, sus procuradores y abogados, así como los testigos y peritos, podrán utilizar la lengua que sea también oficial en la Comunidad Autónoma en cuyo territorio tengan lugar las actuaciones judiciales, tanto en manifestaciones orales como escritas."
          },
          "metadata": {},
          "execution_count": 49
        }
      ]
    },
    {
      "cell_type": "code",
      "source": [
        "content_cache = caching.CachedContent.create(\n",
        "    model_name=\"gemini-2.0-flash-001\",\n",
        "    system_instruction=system_instruction,\n",
        "    contents=contents,\n",
        "    ttl=datetime.timedelta(minutes=60),\n",
        ")\n",
        "\n",
        "print(content_cache.name)"
      ],
      "metadata": {
        "colab": {
          "base_uri": "https://localhost:8080/"
        },
        "id": "B8fl3vFtnU3S",
        "outputId": "1aa85e55-248e-47b7-f168-85581233c581"
      },
      "execution_count": null,
      "outputs": [
        {
          "output_type": "stream",
          "name": "stdout",
          "text": [
            "6621707623211204608\n"
          ]
        }
      ]
    },
    {
      "cell_type": "code",
      "source": [
        "content_cache.up"
      ],
      "metadata": {
        "id": "qKOGn0UZAjIl"
      },
      "execution_count": null,
      "outputs": []
    },
    {
      "cell_type": "code",
      "source": [
        "content_cache.update_time"
      ],
      "metadata": {
        "id": "ljUpFOVh4QdG"
      },
      "execution_count": null,
      "outputs": []
    },
    {
      "cell_type": "code",
      "source": [
        "content_cache.to_dict()"
      ],
      "metadata": {
        "colab": {
          "base_uri": "https://localhost:8080/"
        },
        "id": "dJ7mb1Pao3ML",
        "outputId": "3023197d-e978-4a26-fed9-2d9fe185d7d9"
      },
      "execution_count": null,
      "outputs": [
        {
          "output_type": "execute_result",
          "data": {
            "text/plain": [
              "{'name': 'projects/124210009832/locations/europe-west4/cachedContents/6621707623211204608',\n",
              " 'model': 'projects/complete-tube-421007/locations/europe-west4/publishers/google/models/gemini-2.0-flash-001',\n",
              " 'createTime': '2025-04-19T15:18:22.173899Z',\n",
              " 'updateTime': '2025-04-19T15:18:22.173899Z',\n",
              " 'expireTime': '2025-04-19T16:18:22.166646Z',\n",
              " 'usageMetadata': {'totalTokenCount': 247954,\n",
              "  'textCount': 49,\n",
              "  'imageCount': 961}}"
            ]
          },
          "metadata": {},
          "execution_count": 24
        }
      ]
    },
    {
      "cell_type": "code",
      "source": [
        "cached_content = caching.CachedContent(cached_content_name=content_cache.name)\n",
        "print(cached_content)"
      ],
      "metadata": {
        "colab": {
          "base_uri": "https://localhost:8080/"
        },
        "id": "BpwYq90cozsg",
        "outputId": "f576614c-5c7c-4291-8620-47d5f1da5db6"
      },
      "execution_count": null,
      "outputs": [
        {
          "output_type": "stream",
          "name": "stdout",
          "text": [
            "<vertexai.caching._caching.CachedContent object at 0x78f111f0d950>: {\n",
            "  \"name\": \"projects/complete-tube-421007/locations/europe-west4/cachedContents/6621707623211204608\",\n",
            "  \"model\": \"projects/complete-tube-421007/locations/europe-west4/publishers/google/models/gemini-2.0-flash-001\",\n",
            "  \"createTime\": \"2025-04-19T15:18:22.173899Z\",\n",
            "  \"updateTime\": \"2025-04-19T15:18:22.173899Z\",\n",
            "  \"expireTime\": \"2025-04-19T16:18:22.166646Z\",\n",
            "  \"usageMetadata\": {\n",
            "    \"totalTokenCount\": 247954,\n",
            "    \"textCount\": 49,\n",
            "    \"imageCount\": 961\n",
            "  }\n",
            "}\n"
          ]
        }
      ]
    },
    {
      "cell_type": "code",
      "source": [
        "with measure_time():\n",
        "  response2 = model.generate_content(\n",
        "      \"Que nos dice la Ley de Enjuiciamiento civil 1n el articulo 142, Dame una transcripcion completa.\"\n",
        "  )\n",
        "\n",
        "\n",
        "  print(response2.usage_metadata)"
      ],
      "metadata": {
        "colab": {
          "base_uri": "https://localhost:8080/"
        },
        "id": "EEUPeIripCDQ",
        "outputId": "03703b6f-5002-40ae-d35f-f2862ddb5dea"
      },
      "execution_count": null,
      "outputs": [
        {
          "output_type": "stream",
          "name": "stdout",
          "text": [
            "prompt_token_count: 39\n",
            "candidates_token_count: 234\n",
            "total_token_count: 273\n",
            "prompt_tokens_details {\n",
            "  modality: TEXT\n",
            "  token_count: 39\n",
            "}\n",
            "candidates_tokens_details {\n",
            "  modality: TEXT\n",
            "  token_count: 234\n",
            "}\n",
            "\n",
            "Elapsed time: 2.0191 seconds\n"
          ]
        }
      ]
    },
    {
      "cell_type": "code",
      "source": [
        "Markdown(response2.text)"
      ],
      "metadata": {
        "colab": {
          "base_uri": "https://localhost:8080/",
          "height": 231
        },
        "id": "I6wpMToeqz-M",
        "outputId": "d99e0bbc-30c6-4566-d59f-9936510b76a5"
      },
      "execution_count": null,
      "outputs": [
        {
          "output_type": "execute_result",
          "data": {
            "text/plain": [
              "<IPython.core.display.Markdown object>"
            ],
            "text/markdown": "Aquí tienes la transcripción completa del Artículo 142 de la Ley de Enjuiciamiento Civil (LEC):\n\n**Artículo 142. Señalamiento de vistas y comparecencias.**\n\n1.  Los señalamientos de vistas y comparecencias se harán procurando que transcurra el menor tiempo posible entre la citación y la fecha del acto, y atendiendo a la naturaleza y complejidad del asunto.\n\n2.  Salvo que la ley disponga otra cosa, el señalamiento de las vistas se hará por el Secretario judicial, teniendo en cuenta las agendas programadas por los Jueces y Magistrados. Si no hubiere acuerdo entre éstos, resolverá el Juez o el Presidente del Tribunal.\n\n3.  Al realizar los señalamientos, se evitará, en la medida de lo posible, que en una misma fecha deban comparecer ante el mismo Tribunal las mismas partes, los mismos procuradores o los mismos abogados.\n\n4.  El señalamiento de las vistas se comunicará a todos los que deban o puedan concurrir a ellas, con antelación suficiente y por el medio más rápido posible."
          },
          "metadata": {},
          "execution_count": 51
        }
      ]
    },
    {
      "cell_type": "code",
      "source": [
        "with measure_time():\n",
        "  response3 = model.generate_content(\n",
        "      \"De que trata el real Decreto de ministerio de trabajo y asuntos sociales 1971/1999 en su parte dispositiva\"\n",
        "  )\n",
        "\n",
        "\n",
        "  print(response3.usage_metadata)"
      ],
      "metadata": {
        "colab": {
          "base_uri": "https://localhost:8080/"
        },
        "id": "YbUU0p-Iq6vv",
        "outputId": "fc68a8cb-d23b-41d8-a01a-5ac8ac65f033"
      },
      "execution_count": null,
      "outputs": [
        {
          "output_type": "stream",
          "name": "stdout",
          "text": [
            "prompt_token_count: 40\n",
            "candidates_token_count: 455\n",
            "total_token_count: 495\n",
            "prompt_tokens_details {\n",
            "  modality: TEXT\n",
            "  token_count: 40\n",
            "}\n",
            "candidates_tokens_details {\n",
            "  modality: TEXT\n",
            "  token_count: 455\n",
            "}\n",
            "\n",
            "Elapsed time: 2.9181 seconds\n"
          ]
        }
      ]
    },
    {
      "cell_type": "code",
      "source": [
        "Markdown(response3.text)"
      ],
      "metadata": {
        "colab": {
          "base_uri": "https://localhost:8080/",
          "height": 377
        },
        "id": "6WTUrFpjrVji",
        "outputId": "4aa80318-8089-4025-9ee2-98c2592f711c"
      },
      "execution_count": null,
      "outputs": [
        {
          "output_type": "execute_result",
          "data": {
            "text/plain": [
              "<IPython.core.display.Markdown object>"
            ],
            "text/markdown": "El Real Decreto 1971/1999 del Ministerio de Trabajo y Asuntos Sociales, en su parte dispositiva, se centra en la aprobación del **Reglamento del procedimiento para el reconocimiento, declaración y calificación del grado de minusvalía.**\n\nEn esencia, este Real Decreto establece las normas y el proceso a seguir para que una persona pueda obtener el reconocimiento oficial de su discapacidad en España.  La parte dispositiva del Real Decreto aborda:\n\n*   **Ámbito de aplicación:** Define a quién se aplica este reglamento, es decir, a todas las personas que soliciten el reconocimiento, declaración y calificación del grado de minusvalía en el territorio español.\n*   **Procedimiento:** Detalla los pasos que deben seguir los interesados para solicitar el reconocimiento de la minusvalía, incluyendo la documentación necesaria, los plazos, la evaluación por los Equipos de Valoración y Orientación (EVO), y las posibles reclamaciones.\n*   **Criterios de valoración:** Establece los criterios objetivos que se utilizarán para evaluar el grado de minusvalía, basándose en los baremos establecidos en el Real Decreto.\n*   **Órganos competentes:**  Especifica qué órganos administrativos son responsables de llevar a cabo el procedimiento, como los Centros de Valoración y Orientación, y las Consejerías de Asuntos Sociales de las Comunidades Autónomas.\n*   **Efectos del reconocimiento:** Describe los efectos legales y administrativos que se derivan del reconocimiento de un determinado grado de minusvalía, como el acceso a prestaciones sociales, beneficios fiscales, o medidas de apoyo para la inclusión laboral.\n*   **Revisiones:**  Contempla la posibilidad de revisar el grado de minusvalía reconocido, ya sea por mejoría o empeoramiento de la situación de la persona, o por errores en la valoración inicial.\n\nEn resumen, el Real Decreto 1971/1999, a través de su reglamento, proporciona el marco legal para garantizar un proceso justo y homogéneo en toda España para el reconocimiento de la discapacidad, lo cual es fundamental para que las personas con discapacidad puedan acceder a sus derechos y a las medidas de protección social que les corresponden."
          },
          "metadata": {},
          "execution_count": 54
        }
      ]
    },
    {
      "cell_type": "code",
      "source": [
        "with measure_time():\n",
        "  response4 = model.generate_content(\n",
        "      \"De que trata la ley 35/2015 de 22 septiembre 2015 y que nos dice en el preambulo\"\n",
        "  )\n",
        "\n",
        "\n",
        "  print(response4.usage_metadata)"
      ],
      "metadata": {
        "colab": {
          "base_uri": "https://localhost:8080/"
        },
        "id": "4J4_IKFSrheN",
        "outputId": "31c8f299-d1b3-4fa4-e2d9-f9864c548c87"
      },
      "execution_count": null,
      "outputs": [
        {
          "output_type": "stream",
          "name": "stdout",
          "text": [
            "prompt_token_count: 44\n",
            "candidates_token_count: 443\n",
            "total_token_count: 487\n",
            "prompt_tokens_details {\n",
            "  modality: TEXT\n",
            "  token_count: 44\n",
            "}\n",
            "candidates_tokens_details {\n",
            "  modality: TEXT\n",
            "  token_count: 443\n",
            "}\n",
            "\n",
            "Elapsed time: 2.9166 seconds\n"
          ]
        }
      ]
    },
    {
      "cell_type": "code",
      "source": [
        "Markdown(response4.text)"
      ],
      "metadata": {
        "colab": {
          "base_uri": "https://localhost:8080/",
          "height": 366
        },
        "id": "UO4nodjGr3dA",
        "outputId": "f3e9fb5b-8725-4ba4-e2b5-c04be30317df"
      },
      "execution_count": null,
      "outputs": [
        {
          "output_type": "execute_result",
          "data": {
            "text/plain": [
              "<IPython.core.display.Markdown object>"
            ],
            "text/markdown": "La Ley 35/2015, de 22 de septiembre, de reforma del sistema de valoración de los daños y perjuicios causados a las personas en accidentes de circulación, tiene como objetivo principal **actualizar y mejorar el sistema de valoración de los daños y perjuicios sufridos por las víctimas de accidentes de tráfico.**  Busca proporcionar una indemnización más justa y adecuada a las víctimas, teniendo en cuenta la evolución social, económica y médica.\n\nEn cuanto al **preámbulo** de la ley, este nos indica las razones y motivaciones que llevaron a la aprobación de la reforma.  A grandes rasgos, el preámbulo nos dice lo siguiente:\n\n*   **Necesidad de actualización:** El sistema anterior (establecido en la Ley 30/1995) necesitaba una actualización debido a la evolución de la medicina, la jurisprudencia y la sociedad.  El objetivo era modernizar el sistema para reflejar mejor la realidad de los daños sufridos por las víctimas.\n\n*   **Mayor protección a las víctimas:**  La reforma busca mejorar la protección de las víctimas, especialmente aquellas con lesiones más graves, asegurando que reciban una indemnización más justa y adecuada a sus necesidades.\n\n*   **Mayor claridad y seguridad jurídica:**  Se buscaba simplificar y aclarar el sistema de valoración, reduciendo la litigiosidad y proporcionando mayor seguridad jurídica tanto a las víctimas como a las aseguradoras.\n\n*   **Adaptación a la realidad social:** La ley se adapta a los cambios demográficos y sociales, incluyendo aspectos como la edad, el género y las circunstancias personales de la víctima en el cálculo de la indemnización.\n\n*   **Incorporación de avances médicos:** Se incorporan los avances médicos en la valoración de las lesiones, permitiendo una evaluación más precisa del daño sufrido por la víctima.\n\nEn resumen, el preámbulo de la Ley 35/2015 explica la necesidad de reformar el sistema de valoración de daños y perjuicios para adaptarlo a la realidad actual, proteger mejor a las víctimas, ofrecer mayor seguridad jurídica y incorporar los avances médicos en la valoración de las lesiones.\n"
          },
          "metadata": {},
          "execution_count": 56
        }
      ]
    }
  ]
}