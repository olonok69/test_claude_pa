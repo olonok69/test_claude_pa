{
 "cells": [
  {
   "cell_type": "code",
   "execution_count": null,
   "id": "1ae8eb6d-245d-4c73-b736-2bf0312068d2",
   "metadata": {},
   "outputs": [],
   "source": [
    "import requests\n",
    "\n",
    "def transcribe_audio(api_url, audio_file_path):\n",
    "    \"\"\"\n",
    "    Sends an audio file to the transcription API and prints the result.\n",
    "\n",
    "    Args:\n",
    "        api_url (str): The URL of the FastAPI endpoint.\n",
    "        audio_file_path (str): The path to the audio file.\n",
    "    \"\"\"\n",
    "\n",
    "    try:\n",
    "        with open(audio_file_path, \"rb\") as audio_file:\n",
    "            files = {\"audio_file\": audio_file}\n",
    "            response = requests.post(api_url, files=files)\n",
    "\n",
    "        response.raise_for_status()  # Raise an exception for bad status codes\n",
    "\n",
    "        result = response.json()\n",
    "        print(\"Transcription:\", result[\"transcription\"])\n",
    "        print(\"Processing Time:\", result[\"processing_time\"], \"seconds\")\n",
    "\n",
    "    except requests.exceptions.RequestException as e:\n",
    "        print(\"Error:\", e)\n",
    "\n"
   ]
  },
  {
   "cell_type": "code",
   "execution_count": null,
   "id": "57c8bf61-e61a-4501-ab69-ee24262ddb92",
   "metadata": {},
   "outputs": [],
   "source": [
    "\n",
    "api_url = \"http://127.0.0.1:8101/transcribe/\"  # Replace with your API URL\n",
    "audio_file_path = \"male.wav\"  # Replace with your audio file path\n",
    "\n",
    "with open(audio_file_path, \"rb\") as audio_file:\n",
    "    file_contents = audio_file.read()  # Read contents here\n",
    "\n",
    "files = {\"audio_file\": file_contents}  # Use the read contents\n",
    "response = requests.post(api_url, files=files)\n"
   ]
  },
  {
   "cell_type": "code",
   "execution_count": null,
   "id": "d61d7641-8ff3-4c55-8e05-1bae3522797f",
   "metadata": {},
   "outputs": [],
   "source": [
    "response.json()"
   ]
  },
  {
   "cell_type": "code",
   "execution_count": null,
   "id": "24283c87-d850-4ddb-a32b-fe51ef97e33e",
   "metadata": {},
   "outputs": [],
   "source": []
  }
 ],
 "metadata": {
  "kernelspec": {
   "display_name": "Python (pii)",
   "language": "python",
   "name": "pii"
  },
  "language_info": {
   "codemirror_mode": {
    "name": "ipython",
    "version": 3
   },
   "file_extension": ".py",
   "mimetype": "text/x-python",
   "name": "python",
   "nbconvert_exporter": "python",
   "pygments_lexer": "ipython3",
   "version": "3.11.10"
  }
 },
 "nbformat": 4,
 "nbformat_minor": 5
}
