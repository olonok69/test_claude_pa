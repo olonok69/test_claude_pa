{
 "cells": [
  {
   "cell_type": "markdown",
   "id": "3c0e7ae2",
   "metadata": {},
   "source": [
    "# Personal Agendas Pipeline with Session Embedding - Step 3\n",
    "\n",
    "This notebook submits the Personal Agendas pipeline with 3 steps:\n",
    "1. **Data Preparation**: Registration, Scan, Session processing\n",
    "2. **Neo4J Preparation**: Create nodes and relationships in Neo4j\n",
    "3. **Session Embedding**: Generate and store embeddings for sessions\n",
    "\n",
    "## Prerequisites\n",
    "- Azure ML workspace connection\n",
    "- Compute cluster named 'cpu-cluster'\n",
    "- PA code repository with config files\n",
    "- Neo4j database connection (credentials in Key Vault)"
   ]
  },
  {
   "cell_type": "code",
   "execution_count": 5,
   "id": "8f1c5e9f",
   "metadata": {},
   "outputs": [
    {
     "name": "stdout",
     "output_type": "stream",
     "text": [
      "============================================================\n",
      "AZURE ML PIPELINE WITH NEO4J STEP\n",
      "============================================================\n",
      "Environment variables loaded\n"
     ]
    }
   ],
   "source": [
    "# Import required libraries\n",
    "from azure.ai.ml import MLClient, command, Input, Output\n",
    "from azure.ai.ml.constants import AssetTypes\n",
    "from azure.ai.ml.entities import Environment, AmlCompute\n",
    "from azure.ai.ml.dsl import pipeline\n",
    "from azure.identity import DefaultAzureCredential\n",
    "from azure.identity import ClientSecretCredential\n",
    "from pathlib import Path\n",
    "import os\n",
    "import time\n",
    "from dotenv import load_dotenv\n",
    "# Load environment variables\n",
    "load_dotenv()\n",
    "\n",
    "print(\"=\"*60)\n",
    "print(\"AZURE ML PIPELINE WITH NEO4J STEP\")\n",
    "print(\"=\"*60)\n",
    "\n",
    "# Configuration\n",
    "client_id = os.getenv(\"AZURE_CLIENT_ID\")\n",
    "client_secret = os.getenv(\"AZURE_CLIENT_SECRET\")\n",
    "tenant_id = os.getenv(\"AZURE_TENANT_ID\")\n",
    "subscription_id = os.getenv(\"SUBSCRIPTION_ID\")\n",
    "resource_group = os.getenv(\"RESOURCE_GROUP\")\n",
    "workspace_name = os.getenv(\"AZUREML_WORKSPACE_NAME\")\n",
    "\n",
    "print(\"Environment variables loaded\")"
   ]
  },
  {
   "cell_type": "code",
   "execution_count": 6,
   "id": "c7bf086c-9fc0-49c1-81cc-164bdb108185",
   "metadata": {},
   "outputs": [
    {
     "name": "stdout",
     "output_type": "stream",
     "text": [
      "Neo4j credentials configured\n"
     ]
    }
   ],
   "source": [
    "# IMPORTANT: Configure Neo4j credentials\n",
    "# Option 1: Load from .env file\n",
    "load_dotenv()\n",
    "\n",
    "# Option 2: Set directly here (replace with your actual credentials)\n",
    "# Uncomment and update these lines:\n",
    "# os.environ[\"NEO4J_URI\"] = \"neo4j+s://your-instance.databases.neo4j.io\"\n",
    "# os.environ[\"NEO4J_USERNAME\"] = \"neo4j\"\n",
    "# os.environ[\"NEO4J_PASSWORD\"] = \"your-password\"\n",
    "\n",
    "neo4j_uri = os.getenv(\"NEO4J_URI\")\n",
    "neo4j_username = os.getenv(\"NEO4J_USERNAME\")\n",
    "neo4j_password = os.getenv(\"NEO4J_PASSWORD\")\n",
    "\n",
    "if not all([neo4j_uri, neo4j_username, neo4j_password]):\n",
    "    print(\"WARNING: Neo4j credentials not found\")\n",
    "    print(\"Please set NEO4J_URI, NEO4J_USERNAME, and NEO4J_PASSWORD\")\n",
    "else:\n",
    "    print(\"Neo4j credentials configured\")"
   ]
  },
  {
   "cell_type": "code",
   "execution_count": 7,
   "id": "7a0c9fae",
   "metadata": {},
   "outputs": [
    {
     "name": "stdout",
     "output_type": "stream",
     "text": [
      "Connected to workspace: strategicai-mlw-uks-dev-01\n"
     ]
    }
   ],
   "source": [
    "# Create ML Client\n",
    "credential = ClientSecretCredential(\n",
    "    tenant_id=tenant_id,\n",
    "    client_id=client_id,\n",
    "    client_secret=client_secret\n",
    ")\n",
    "\n",
    "ml_client = MLClient(\n",
    "    credential,\n",
    "    subscription_id=subscription_id,\n",
    "    resource_group_name=resource_group,\n",
    "    workspace_name=workspace_name\n",
    ")\n",
    "\n",
    "print(f\"Connected to workspace: {workspace_name}\")"
   ]
  },
  {
   "cell_type": "code",
   "execution_count": 8,
   "id": "be7d1e2f",
   "metadata": {},
   "outputs": [
    {
     "name": "stdout",
     "output_type": "stream",
     "text": [
      "Running from notebooks folder\n",
      "Project root: /mnt/batch/tasks/shared/LS_root/mounts/clusters/vm-juan/code/Notebooks/repos/azure_ml_pipelines_pa\n",
      "✓ PA directory found\n",
      "✓ azureml_pipeline directory found\n",
      "✓ Step 1 script found\n",
      "✓ Step 2 script found\n",
      "✓ Step 3 script found\n",
      "✓ config_ecomm.yaml found\n",
      "✓ config_vet.yaml found\n"
     ]
    }
   ],
   "source": [
    "# Verify local directory structure\n",
    "from pathlib import Path\n",
    "\n",
    "current_dir = Path.cwd()\n",
    "if current_dir.name == \"notebooks\":\n",
    "    project_root = current_dir.parent\n",
    "    print(f\"Running from notebooks folder\")\n",
    "else:\n",
    "    project_root = current_dir\n",
    "    print(f\"Running from project root\")\n",
    "\n",
    "print(f\"Project root: {project_root}\")\n",
    "\n",
    "# Check required directories\n",
    "pa_dir = project_root / \"PA\"\n",
    "if not pa_dir.exists():\n",
    "    print(f\"ERROR: PA directory not found at {pa_dir}\")\n",
    "else:\n",
    "    print(f\"✓ PA directory found\")\n",
    "\n",
    "pipeline_dir = project_root / \"azureml_pipeline\"\n",
    "if not pipeline_dir.exists():\n",
    "    print(f\"Creating azureml_pipeline directory\")\n",
    "    pipeline_dir.mkdir(exist_ok=True)\n",
    "else:\n",
    "    print(f\"✓ azureml_pipeline directory found\")\n",
    "\n",
    "# Check for step scripts\n",
    "step1_script = pipeline_dir / \"azureml_step1_data_prep.py\"\n",
    "step2_script = pipeline_dir / \"azureml_step2_neo4j_prep.py\"\n",
    "step3_script = pipeline_dir / \"azureml_step3_session_embedding.py\"\n",
    "\n",
    "if not step1_script.exists():\n",
    "    print(f\"WARNING: Step 1 script not found at {step1_script}\")\n",
    "else:\n",
    "    print(f\"✓ Step 1 script found\")\n",
    "\n",
    "if not step2_script.exists():\n",
    "    print(f\"WARNING: Step 2 script not found at {step2_script}\")\n",
    "else:\n",
    "    print(f\"✓ Step 2 script found\")\n",
    "    \n",
    "if not step3_script.exists():\n",
    "    print(f\"WARNING: Step 3 script not found at {step3_script}\")\n",
    "    print(f\"  Please ensure azureml_step3_session_embedding.py is in azureml_pipeline folder\")\n",
    "else:\n",
    "    print(f\"✓ Step 3 script found\")\n",
    "\n",
    "# Check config files\n",
    "config_vet = pa_dir / \"config\" / \"config_vet.yaml\"\n",
    "config_ecomm = pa_dir / \"config\" / \"config_ecomm.yaml\"\n",
    "\n",
    "if config_ecomm.exists():\n",
    "    print(f\"✓ config_ecomm.yaml found\")\n",
    "if config_vet.exists():\n",
    "    print(f\"✓ config_vet.yaml found\")"
   ]
  },
  {
   "cell_type": "code",
   "execution_count": 9,
   "id": "f5ffddb7",
   "metadata": {},
   "outputs": [
    {
     "name": "stdout",
     "output_type": "stream",
     "text": [
      "Using existing environment: pa-env:5\n"
     ]
    }
   ],
   "source": [
    "# Environment setup\n",
    "dependencies_dir = project_root / \"environment\"\n",
    "custom_env_name = \"pa-env\"\n",
    "try:\n",
    "    job_env = ml_client.environments.get(name=custom_env_name, version=\"5\")\n",
    "    print(f\"Using existing environment: {custom_env_name}:5\")\n",
    "except:\n",
    "    # Create environment if it doesn't exist\n",
    "    conda_file = dependencies_dir / \"conda.yaml\"\n",
    "    if not conda_file.exists():\n",
    "        print(f\"WARNING: conda.yaml not found at {conda_file}\")\n",
    "        print(\"Using default conda configuration\")\n",
    "    \n",
    "    job_env = Environment(\n",
    "        name=custom_env_name,\n",
    "        description=\"Environment for Personal Agendas pipeline with Neo4j and embeddings\",\n",
    "        conda_file=str(conda_file) if conda_file.exists() else None,\n",
    "        image=\"mcr.microsoft.com/azureml/openmpi5.0-ubuntu24.04:20250601.v1\"\n",
    "    )\n",
    "    job_env = ml_client.environments.create_or_update(job_env)\n",
    "    print(f\"Created environment: {custom_env_name}:{job_env.version}\")"
   ]
  },
  {
   "cell_type": "code",
   "execution_count": 10,
   "id": "c3d8f1b2",
   "metadata": {},
   "outputs": [],
   "source": [
    "# Define Step 1: Data Preparation Component (NON-INCREMENTAL)\n",
    "data_preparation_component = command(\n",
    "    name=\"data_preparation\",\n",
    "    display_name=\"Step 1: Data Preparation\",\n",
    "    description=\"Process registration, scan, and session data\",\n",
    "    inputs={\n",
    "        \"input_uri\": Input(type=\"uri_folder\"),\n",
    "        \"config_type\": Input(type=\"string\", default=\"ecomm\")\n",
    "    },\n",
    "    outputs={\n",
    "        \"registration_output\": Output(type=\"uri_folder\"),\n",
    "        \"scan_output\": Output(type=\"uri_folder\"),\n",
    "        \"session_output\": Output(type=\"uri_folder\"),\n",
    "        \"metadata_output\": Output(type=\"uri_folder\")\n",
    "    },\n",
    "    code=str(project_root),\n",
    "    command=\"\"\"python azureml_pipeline/azureml_step1_data_prep.py \\\n",
    "        --config PA/config/config_${{inputs.config_type}}.yaml \\\n",
    "        --input_uri ${{inputs.input_uri}} \\\n",
    "        --output_registration ${{outputs.registration_output}} \\\n",
    "        --output_scan ${{outputs.scan_output}} \\\n",
    "        --output_session ${{outputs.session_output}} \\\n",
    "        --output_metadata ${{outputs.metadata_output}}\n",
    "    \"\"\",\n",
    "    environment=f\"{job_env.name}:{job_env.version}\",\n",
    "    environment_variables={\n",
    "        \"KEYVAULT_NAME\": \"strategicai-kv-uks-dev\"\n",
    "    },\n",
    "    compute=\"cpu-cluster\",\n",
    "    is_deterministic=False\n",
    ")"
   ]
  },
  {
   "cell_type": "code",
   "execution_count": 20,
   "id": "1e5e7d3f",
   "metadata": {},
   "outputs": [],
   "source": [
    "# Define Step 2: Neo4J Preparation Component (NON-INCREMENTAL)\n",
    "neo4j_preparation_component = command(\n",
    "    name=\"neo4j_preparation\",\n",
    "    display_name=\"Step 2: Neo4J Preparation\",\n",
    "    description=\"Upload data to Neo4j database - create all nodes and relationships\",\n",
    "    inputs={\n",
    "        \"config_type\": Input(type=\"string\", default=\"ecomm\"),\n",
    "        \"input_registration\": Input(type=\"uri_folder\"),\n",
    "        \"input_scan\": Input(type=\"uri_folder\"),\n",
    "        \"input_session\": Input(type=\"uri_folder\")\n",
    "    },\n",
    "    outputs={\n",
    "        \"metadata_output\": Output(type=\"uri_folder\")\n",
    "    },\n",
    "    code=str(project_root),\n",
    "    command=\"\"\"python azureml_pipeline/azureml_step2_neo4j_prep.py \\\n",
    "        --config PA/config/config_${{inputs.config_type}}.yaml \\\n",
    "        --input_registration ${{inputs.input_registration}} \\\n",
    "        --input_scan ${{inputs.input_scan}} \\\n",
    "        --input_session ${{inputs.input_session}} \\\n",
    "        --output_metadata ${{outputs.metadata_output}}\n",
    "    \"\"\",\n",
    "    environment=f\"{job_env.name}:{job_env.version}\",\n",
    "    environment_variables={\n",
    "        \"KEYVAULT_NAME\": \"strategicai-kv-uks-dev\",\n",
    "        \"NEO4J_URI\": neo4j_uri or \"neo4j+s://your-uri\",\n",
    "        \"NEO4J_USERNAME\": neo4j_username or \"neo4j\",\n",
    "        \"NEO4J_PASSWORD\": neo4j_password or \"password\"\n",
    "    },\n",
    "    compute=\"cpu-cluster\",\n",
    "    is_deterministic=False\n",
    ")"
   ]
  },
  {
   "cell_type": "code",
   "execution_count": 21,
   "id": "8e4f2a1c",
   "metadata": {},
   "outputs": [],
   "source": [
    "# Define Step 3: Session Embedding Component (NON-INCREMENTAL)\n",
    "session_embedding_component = command(\n",
    "    name=\"session_embedding\",\n",
    "    display_name=\"Step 3: Session Embedding\",\n",
    "    description=\"Generate and store text embeddings for session nodes in Neo4j\",\n",
    "    inputs={\n",
    "        \"config_type\": Input(type=\"string\", default=\"ecomm\"),\n",
    "        \"neo4j_ready\": Input(type=\"uri_folder\", optional=True), \n",
    "    },\n",
    "    outputs={\n",
    "        \"metadata_output\": Output(type=\"uri_folder\")\n",
    "    },\n",
    "    code=str(project_root),\n",
    "    command=\"\"\"python azureml_pipeline/azureml_step3_session_embedding.py \\\n",
    "        --config PA/config/config_${{inputs.config_type}}.yaml \\\n",
    "        --output_metadata ${{outputs.metadata_output}}\n",
    "    \"\"\",\n",
    "    environment=f\"{job_env.name}:{job_env.version}\",\n",
    "    environment_variables={\n",
    "        \"KEYVAULT_NAME\": \"strategicai-kv-uks-dev\",\n",
    "        \"NEO4J_URI\": neo4j_uri or \"neo4j+s://your-uri\",\n",
    "        \"NEO4J_USERNAME\": neo4j_username or \"neo4j\",\n",
    "        \"NEO4J_PASSWORD\": neo4j_password or \"password\"\n",
    "    },\n",
    "    compute=\"cpu-cluster\",\n",
    "    is_deterministic=False\n",
    ")"
   ]
  },
  {
   "cell_type": "code",
   "execution_count": 22,
   "id": "c4e3f2e8",
   "metadata": {},
   "outputs": [],
   "source": [
    "# Define INCREMENTAL versions of the components (optional)\n",
    "session_embedding_component_incremental = command(\n",
    "    name=\"session_embedding_incremental\",\n",
    "    display_name=\"Step 3: Session Embedding (Incremental)\",\n",
    "    description=\"Generate embeddings only for new sessions without embeddings\",\n",
    "    inputs={\n",
    "        \"config_type\": Input(type=\"string\", default=\"ecomm\"),\n",
    "         \"neo4j_ready\": Input(type=\"uri_folder\", optional=True), \n",
    "    },\n",
    "    outputs={\n",
    "        \"metadata_output\": Output(type=\"uri_folder\")\n",
    "    },\n",
    "    code=str(project_root),\n",
    "    command=\"\"\"python azureml_pipeline/azureml_step3_session_embedding.py \\\n",
    "        --config PA/config/config_${{inputs.config_type}}.yaml \\\n",
    "        --incremental \\\n",
    "        --output_metadata ${{outputs.metadata_output}}\n",
    "    \"\"\",\n",
    "    environment=f\"{job_env.name}:{job_env.version}\",\n",
    "    environment_variables={\n",
    "        \"KEYVAULT_NAME\": \"strategicai-kv-uks-dev\",\n",
    "        \"NEO4J_URI\": neo4j_uri or \"neo4j+s://your-uri\",\n",
    "        \"NEO4J_USERNAME\": neo4j_username or \"neo4j\",\n",
    "        \"NEO4J_PASSWORD\": neo4j_password or \"password\"\n",
    "    },\n",
    "    compute=\"cpu-cluster\",\n",
    "    is_deterministic=False\n",
    ")"
   ]
  },
  {
   "cell_type": "code",
   "execution_count": 25,
   "id": "d3f7e5a2",
   "metadata": {},
   "outputs": [],
   "source": [
    "# Define the Pipeline with 3 Steps (NON-INCREMENTAL VERSION)\n",
    "@pipeline(\n",
    "    compute=\"cpu-cluster\",\n",
    "    description=\"Personal Agendas pipeline with Neo4j and session embeddings\",\n",
    ")\n",
    "def personal_agendas_pipeline_with_embeddings(\n",
    "    pipeline_input_data: Input,\n",
    "    pipeline_config_type: str = \"ecomm\"\n",
    "):\n",
    "    \"\"\"\n",
    "    Personal Agendas Pipeline\n",
    "    Step 1: Data Preparation (Registration, Scan, Session)\n",
    "    Step 2: Neo4J Preparation (Upload to database)\n",
    "    Step 3: Session Embedding (Generate and store embeddings)\n",
    "    \"\"\"\n",
    "    \n",
    "    # Step 1: Data Preparation\n",
    "    step1 = data_preparation_component(\n",
    "        input_uri=pipeline_input_data,\n",
    "        config_type=pipeline_config_type\n",
    "    )\n",
    "    \n",
    "    # Step 2: Neo4J Preparation - uses outputs from Step 1\n",
    "    step2 = neo4j_preparation_component(\n",
    "        config_type=pipeline_config_type,\n",
    "        input_registration=step1.outputs.registration_output,\n",
    "        input_scan=step1.outputs.scan_output,\n",
    "        input_session=step1.outputs.session_output\n",
    "    )\n",
    "    \n",
    "    # Step 3: Session Embedding - runs after Neo4j data is loaded\n",
    "    # It reads directly from Neo4j, so doesn't need file inputs\n",
    "    step3 = session_embedding_component(\n",
    "    config_type=pipeline_config_type,\n",
    "    neo4j_ready=step2.outputs.metadata_output  # This creates the dependency\n",
    ")\n",
    "    \n",
    "    return {\n",
    "        \"registration_data\": step1.outputs.registration_output,\n",
    "        \"scan_data\": step1.outputs.scan_output,\n",
    "        \"session_data\": step1.outputs.session_output,\n",
    "        \"step1_metadata\": step1.outputs.metadata_output,\n",
    "        \"neo4j_metadata\": step2.outputs.metadata_output,\n",
    "        \"embedding_metadata\": step3.outputs.metadata_output\n",
    "    }"
   ]
  },
  {
   "cell_type": "code",
   "execution_count": 26,
   "id": "f9e4d3a7",
   "metadata": {},
   "outputs": [
    {
     "name": "stdout",
     "output_type": "stream",
     "text": [
      "\n",
      "Input data URI: azureml://subscriptions/b8d6d487-0bd2-4773-b318-12ab763ed178/resourcegroups/strategicai-rg-uks-dev-01/workspaces/strategicai-mlw-uks-dev-01/datastores/landing_pa/paths/landing/azureml/\n"
     ]
    }
   ],
   "source": [
    "# Configure input data URI\n",
    "input_data_uri = f\"azureml://subscriptions/{subscription_id}/resourcegroups/{resource_group}/workspaces/{workspace_name}/datastores/landing_pa/paths/landing/azureml/\"\n",
    "\n",
    "print(f\"\\nInput data URI: {input_data_uri}\")"
   ]
  },
  {
   "cell_type": "code",
   "execution_count": 27,
   "id": "8a5f2d4e",
   "metadata": {},
   "outputs": [],
   "source": [
    "# Create pipeline instance\n",
    "pipeline_job = personal_agendas_pipeline_with_embeddings(\n",
    "    pipeline_input_data=Input(\n",
    "        type=AssetTypes.URI_FOLDER,\n",
    "        path=input_data_uri\n",
    "    ),\n",
    "    pipeline_config_type=\"ecomm\"  # or \"vet\"\n",
    ")\n",
    "\n",
    "# Configure pipeline metadata\n",
    "pipeline_job.display_name = \"Personal Agendas Pipeline with Embeddings - ECOMM\"\n",
    "pipeline_job.tags = {\n",
    "    \"project\": \"personal_agendas\",\n",
    "    \"event_type\": \"ecomm\",\n",
    "    \"environment\": \"dev\",\n",
    "    \"includes_neo4j\": \"true\",\n",
    "    \"includes_embeddings\": \"true\",\n",
    "    \"incremental\": \"false\",\n",
    "    \"step_count\": \"3\"\n",
    "}\n",
    "pipeline_job.experiment_name = \"personal_agendas_embedding_experiment\""
   ]
  },
  {
   "cell_type": "code",
   "execution_count": 28,
   "id": "b3f5d2a9",
   "metadata": {},
   "outputs": [
    {
     "name": "stderr",
     "output_type": "stream",
     "text": [
      "Class AutoDeleteSettingSchema: This is an experimental class, and may change at any time. Please see https://aka.ms/azuremlexperimental for more information.\n",
      "Class AutoDeleteConditionSchema: This is an experimental class, and may change at any time. Please see https://aka.ms/azuremlexperimental for more information.\n",
      "Class BaseAutoDeleteSettingSchema: This is an experimental class, and may change at any time. Please see https://aka.ms/azuremlexperimental for more information.\n",
      "Class IntellectualPropertySchema: This is an experimental class, and may change at any time. Please see https://aka.ms/azuremlexperimental for more information.\n",
      "Class ProtectionLevelSchema: This is an experimental class, and may change at any time. Please see https://aka.ms/azuremlexperimental for more information.\n",
      "Class BaseIntellectualPropertySchema: This is an experimental class, and may change at any time. Please see https://aka.ms/azuremlexperimental for more information.\n"
     ]
    },
    {
     "name": "stdout",
     "output_type": "stream",
     "text": [
      "\n",
      "============================================================\n",
      "SUBMITTING PIPELINE WITH SESSION EMBEDDINGS\n",
      "============================================================\n"
     ]
    },
    {
     "name": "stderr",
     "output_type": "stream",
     "text": [
      "\u001b[32mUploading azure_ml_pipelines_pa (1.34 MBs): 100%|██████████| 1344982/1344982 [00:00<00:00, 1606852.83it/s]\n",
      "\u001b[39m\n",
      "\n",
      "pathOnCompute is not a known attribute of class <class 'azure.ai.ml._restclient.v2023_04_01_preview.models._models_py3.UriFolderJobOutput'> and will be ignored\n",
      "pathOnCompute is not a known attribute of class <class 'azure.ai.ml._restclient.v2023_04_01_preview.models._models_py3.UriFolderJobOutput'> and will be ignored\n",
      "pathOnCompute is not a known attribute of class <class 'azure.ai.ml._restclient.v2023_04_01_preview.models._models_py3.UriFolderJobOutput'> and will be ignored\n",
      "pathOnCompute is not a known attribute of class <class 'azure.ai.ml._restclient.v2023_04_01_preview.models._models_py3.UriFolderJobOutput'> and will be ignored\n",
      "pathOnCompute is not a known attribute of class <class 'azure.ai.ml._restclient.v2023_04_01_preview.models._models_py3.UriFolderJobOutput'> and will be ignored\n",
      "pathOnCompute is not a known attribute of class <class 'azure.ai.ml._restclient.v2023_04_01_preview.models._models_py3.UriFolderJobOutput'> and will be ignored\n"
     ]
    },
    {
     "name": "stdout",
     "output_type": "stream",
     "text": [
      "\n",
      "SUCCESS! Pipeline submitted!\n",
      "Job Name: dreamy_neck_0r2hk6kh02\n",
      "Status: NotStarted\n",
      "\n",
      "Monitor at: https://ml.azure.com/runs/dreamy_neck_0r2hk6kh02?wsid=/subscriptions/b8d6d487-0bd2-4773-b318-12ab763ed178/resourcegroups/strategicai-rg-uks-dev-01/workspaces/strategicai-mlw-uks-dev-01&tid=3540e7dc-31b3-4057-9e31-43e9fe938179\n",
      "\n",
      "============================================================\n"
     ]
    }
   ],
   "source": [
    "# Submit the pipeline\n",
    "print(\"\\n\" + \"=\"*60)\n",
    "print(\"SUBMITTING PIPELINE WITH SESSION EMBEDDINGS\")\n",
    "print(\"=\"*60)\n",
    "\n",
    "try:\n",
    "    submitted_job = ml_client.jobs.create_or_update(pipeline_job)\n",
    "    print(f\"\\nSUCCESS! Pipeline submitted!\")\n",
    "    print(f\"Job Name: {submitted_job.name}\")\n",
    "    print(f\"Status: {submitted_job.status}\")\n",
    "    print(f\"\\nMonitor at: {submitted_job.studio_url}\")\n",
    "except Exception as e:\n",
    "    print(f\"\\nSubmission failed: {str(e)}\")\n",
    "\n",
    "print(\"\\n\" + \"=\"*60)"
   ]
  },
  {
   "cell_type": "markdown",
   "id": "d5e3f2a8",
   "metadata": {},
   "source": [
    "## Monitor Pipeline Status"
   ]
  },
  {
   "cell_type": "code",
   "execution_count": 29,
   "id": "f9a5d3e2",
   "metadata": {},
   "outputs": [
    {
     "name": "stdout",
     "output_type": "stream",
     "text": [
      "Checking pipeline status...\n",
      "\n",
      "Pipeline: dreamy_neck_0r2hk6kh02\n",
      "Status: Running\n",
      "\n",
      "To view detailed logs and outputs:\n",
      "  https://ml.azure.com/runs/dreamy_neck_0r2hk6kh02?wsid=/subscriptions/b8d6d487-0bd2-4773-b318-12ab763ed178/resourcegroups/strategicai-rg-uks-dev-01/workspaces/strategicai-mlw-uks-dev-01&tid=3540e7dc-31b3-4057-9e31-43e9fe938179\n"
     ]
    }
   ],
   "source": [
    "# Optional: Check pipeline status after submission\n",
    "if 'submitted_job' in locals():\n",
    "    print(\"Checking pipeline status...\")\n",
    "    time.sleep(5)  # Wait a moment for job to initialize\n",
    "    \n",
    "    job = ml_client.jobs.get(submitted_job.name)\n",
    "    print(f\"\\nPipeline: {job.name}\")\n",
    "    print(f\"Status: {job.status}\")\n",
    "    print(f\"\\nTo view detailed logs and outputs:\")\n",
    "    print(f\"  {job.studio_url}\")"
   ]
  },
  {
   "cell_type": "markdown",
   "id": "c4e5d3a9",
   "metadata": {},
   "source": [
    "## Alternative: Submit Incremental Pipeline\n",
    "\n",
    "Use this section to submit an incremental version of the pipeline that only creates new embeddings."
   ]
  },
  {
   "cell_type": "code",
   "execution_count": 14,
   "id": "d8f3e2a1",
   "metadata": {},
   "outputs": [],
   "source": [
    "# Define INCREMENTAL Pipeline (only creates new data)\n",
    "@pipeline(\n",
    "    compute=\"cpu-cluster\",\n",
    "    description=\"Personal Agendas INCREMENTAL pipeline with embeddings\",\n",
    ")\n",
    "def personal_agendas_pipeline_incremental(\n",
    "    pipeline_input_data: Input,\n",
    "    pipeline_config_type: str = \"ecomm\"\n",
    "):\n",
    "    \"\"\"\n",
    "    Incremental Personal Agendas Pipeline\n",
    "    Only processes new data and creates embeddings for sessions without them.\n",
    "    \"\"\"\n",
    "    \n",
    "    # Note: You would need incremental versions of step 1 and 2 as well\n",
    "    # For now, using regular step 1 and 2, with incremental embedding step\n",
    "    \n",
    "    # Step 1: Data Preparation\n",
    "    step1 = data_preparation_component(\n",
    "        input_uri=pipeline_input_data,\n",
    "        config_type=pipeline_config_type\n",
    "    )\n",
    "    \n",
    "    # Step 2: Neo4J Preparation\n",
    "    step2 = neo4j_preparation_component(\n",
    "        config_type=pipeline_config_type,\n",
    "        input_registration=step1.outputs.registration_output,\n",
    "        input_scan=step1.outputs.scan_output,\n",
    "        input_session=step1.outputs.session_output\n",
    "    )\n",
    "    \n",
    "    # Step 3: Session Embedding - INCREMENTAL version\n",
    "    step3 = session_embedding_component_incremental(\n",
    "        config_type=pipeline_config_type\n",
    "    )\n",
    "    \n",
    "    # Ensure step 3 runs after step 2\n",
    "    step3.after(step2)\n",
    "    \n",
    "    return {\n",
    "        \"registration_data\": step1.outputs.registration_output,\n",
    "        \"scan_data\": step1.outputs.scan_output,\n",
    "        \"session_data\": step1.outputs.session_output,\n",
    "        \"step1_metadata\": step1.outputs.metadata_output,\n",
    "        \"neo4j_metadata\": step2.outputs.metadata_output,\n",
    "        \"embedding_metadata\": step3.outputs.metadata_output\n",
    "    }"
   ]
  }
 ],
 "metadata": {
  "kernelspec": {
   "display_name": "Python 3.10 - SDK v2",
   "language": "python",
   "name": "python310-sdkv2"
  },
  "language_info": {
   "codemirror_mode": {
    "name": "ipython",
    "version": 3
   },
   "file_extension": ".py",
   "mimetype": "text/x-python",
   "name": "python",
   "nbconvert_exporter": "python",
   "pygments_lexer": "ipython3",
   "version": "3.10.18"
  }
 },
 "nbformat": 4,
 "nbformat_minor": 5
}
