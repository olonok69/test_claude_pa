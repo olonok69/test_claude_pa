{
  "cells": [
    {
      "cell_type": "code",
      "source": [
        "from azure.identity import ClientSecretCredential, DefaultAzureCredential\n",
        "from azure.mgmt.authorization import AuthorizationManagementClient\n",
        "from azure.mgmt.storage import StorageManagementClient\n",
        "import os\n",
        "from dotenv import load_dotenv\n",
        "import requests\n",
        "import json\n",
        "\n",
        "# Load environment variables\n",
        "load_dotenv()\n",
        "\n",
        "print(\"=\"*60)\n",
        "print(\"SERVICE PRINCIPAL PERMISSIONS CHECK\")\n",
        "print(\"=\"*60)\n",
        "\n",
        "# Get SP details\n",
        "client_id = os.getenv(\"AZURE_CLIENT_ID\")\n",
        "client_secret = os.getenv(\"AZURE_CLIENT_SECRET\")\n",
        "tenant_id = os.getenv(\"AZURE_TENANT_ID\")\n",
        "subscription_id = os.getenv(\"SUBSCRIPTION_ID\")\n",
        "resource_group = os.getenv(\"RESOURCE_GROUP\")\n",
        "workspace_name = os.getenv(\"AZUREML_WORKSPACE_NAME\")\n",
        "\n",
        "print(f\"Service Principal Client ID: {client_id}\")\n",
        "print(f\"Tenant ID: {tenant_id}\")\n",
        "print(f\"Subscription: {subscription_id}\")\n",
        "print(f\"Resource Group: {resource_group}\")\n",
        "print()\n",
        "\n",
        "# Create credential\n",
        "credential = ClientSecretCredential(\n",
        "    tenant_id=tenant_id,\n",
        "    client_id=client_id,\n",
        "    client_secret=client_secret\n",
        ")\n",
        "\n",
        "# ==============================================================================\n",
        "# Get Service Principal Object ID using Graph API\n",
        "# ==============================================================================\n",
        "print(\"🔍 Getting Service Principal Object ID...\")\n",
        "print(\"-\"*40)\n",
        "\n",
        "def get_sp_object_id():\n",
        "    \"\"\"Get the Object ID of the Service Principal using Graph API\"\"\"\n",
        "    \n",
        "    try:\n",
        "        # Get access token for Microsoft Graph\n",
        "        token_response = credential.get_token(\"https://graph.microsoft.com/.default\")\n",
        "        access_token = token_response.token\n",
        "        \n",
        "        # Call Graph API to get service principal\n",
        "        headers = {\n",
        "            'Authorization': f'Bearer {access_token}',\n",
        "            'Content-Type': 'application/json'\n",
        "        }\n",
        "        \n",
        "        # Search for service principal by appId (client_id)\n",
        "        url = f\"https://graph.microsoft.com/v1.0/servicePrincipals?$filter=appId eq '{client_id}'\"\n",
        "        \n",
        "        response = requests.get(url, headers=headers)\n",
        "        response.raise_for_status()\n",
        "        data = response.json()\n",
        "        \n",
        "        if data.get('value') and len(data['value']) > 0:\n",
        "            sp_object_id = data['value'][0]['id']\n",
        "            sp_display_name = data['value'][0].get('displayName', 'N/A')\n",
        "            print(f\"✓ Found Service Principal:\")\n",
        "            print(f\"  Display Name: {sp_display_name}\")\n",
        "            print(f\"  Object ID: {sp_object_id}\")\n",
        "            print(f\"  Application ID: {client_id}\")\n",
        "            return sp_object_id\n",
        "        else:\n",
        "            print(f\"⚠️ Service Principal not found for Client ID: {client_id}\")\n",
        "            return None\n",
        "            \n",
        "    except Exception as e:\n",
        "        print(f\"⚠️ Could not get SP Object ID via Graph API: {str(e)}\")\n",
        "        print(\"  This is OK, we'll check using other methods.\")\n",
        "        return None\n",
        "\n",
        "sp_object_id = get_sp_object_id()"
      ],
      "outputs": [
        {
          "output_type": "stream",
          "name": "stdout",
          "text": "============================================================\nSERVICE PRINCIPAL PERMISSIONS CHECK\n============================================================\nService Principal Client ID: e77fcc8e-5551-47b6-a600-1d5633c81e31\nTenant ID: 3540e7dc-31b3-4057-9e31-43e9fe938179\nSubscription: b8d6d487-0bd2-4773-b318-12ab763ed178\nResource Group: strategicai-rg-uks-dev-01\n\n🔍 Getting Service Principal Object ID...\n----------------------------------------\n✓ Found Service Principal:\n  Display Name: strategicai-svp-app-uks-dev-01\n  Object ID: 3ac05fe8-0fcc-416a-b36a-832d96719b5b\n  Application ID: e77fcc8e-5551-47b6-a600-1d5633c81e31\n"
        }
      ],
      "execution_count": 3,
      "metadata": {
        "gather": {
          "logged": 1756825258836
        }
      }
    },
    {
      "cell_type": "code",
      "source": [
        "# ==============================================================================\n",
        "# Check Role Assignments using the correct SDK methods\n",
        "# ==============================================================================\n",
        "print(\"\\n🔍 Checking Service Principal's Role Assignments...\")\n",
        "print(\"-\"*40)\n",
        "\n",
        "auth_client = AuthorizationManagementClient(credential, subscription_id)\n",
        "\n",
        "# Storage account we're interested in\n",
        "storage_account_scope = f\"/subscriptions/{subscription_id}/resourceGroups/{resource_group}/providers/Microsoft.Storage/storageAccounts/strategicaistuksdev02\"\n",
        "ml_workspace_scope = f\"/subscriptions/{subscription_id}/resourceGroups/{resource_group}/providers/Microsoft.MachineLearningServices/workspaces/{workspace_name}\"\n",
        "resource_group_scope = f\"/subscriptions/{subscription_id}/resourceGroups/{resource_group}\"\n",
        "\n",
        "found_roles = {\n",
        "    'storage_blob_contributor': False,\n",
        "    'storage_account_contributor': False,\n",
        "    'ml_contributor': False,\n",
        "    'rg_contributor': False,\n",
        "    'all_roles': []\n",
        "}\n",
        "\n",
        "try:\n",
        "    # Method 1: List role assignments for the subscription\n",
        "    print(\"\\nChecking role assignments at subscription level...\")\n",
        "    \n",
        "    # List all role assignments in the subscription\n",
        "    assignments = auth_client.role_assignments.list_for_subscription()\n",
        "    \n",
        "    count = 0\n",
        "    for assignment in assignments:\n",
        "        count += 1\n",
        "        # Check if this assignment is for our Service Principal (by client ID)\n",
        "        # We need to check if the principal_id matches our SP\n",
        "        if sp_object_id and assignment.principal_id == sp_object_id:\n",
        "            try:\n",
        "                # Get role definition details\n",
        "                role_def = auth_client.role_definitions.get_by_id(assignment.role_definition_id)\n",
        "                \n",
        "                role_info = {\n",
        "                    'role_name': role_def.role_name,\n",
        "                    'scope': assignment.scope,\n",
        "                    'principal_id': assignment.principal_id\n",
        "                }\n",
        "                \n",
        "                found_roles['all_roles'].append(role_info)\n",
        "                \n",
        "                # Check for specific roles\n",
        "                if 'Storage Blob Data Contributor' in role_def.role_name:\n",
        "                    if 'strategicaistuksdev02' in assignment.scope or resource_group in assignment.scope:\n",
        "                        found_roles['storage_blob_contributor'] = True\n",
        "                        \n",
        "                if 'Contributor' in role_def.role_name:\n",
        "                    if resource_group in assignment.scope:\n",
        "                        found_roles['rg_contributor'] = True\n",
        "                        \n",
        "            except Exception as e:\n",
        "                continue\n",
        "    \n",
        "    print(f\"  Checked {count} total role assignments in subscription\")\n",
        "    \n",
        "except Exception as e:\n",
        "    print(f\"  Method 1 failed: {str(e)}\")"
      ],
      "outputs": [
        {
          "output_type": "stream",
          "name": "stdout",
          "text": "\n🔍 Checking Service Principal's Role Assignments...\n----------------------------------------\n\nChecking role assignments at subscription level...\n  Checked 89 total role assignments in subscription\n"
        }
      ],
      "execution_count": 4,
      "metadata": {
        "gather": {
          "logged": 1756825285196
        }
      }
    },
    {
      "cell_type": "code",
      "source": [
        "# Method 2: Check specific scopes\n",
        "try:\n",
        "    print(\"\\nChecking role assignments at resource group level...\")\n",
        "    \n",
        "    # List role assignments for the resource group\n",
        "    rg_assignments = auth_client.role_assignments.list_for_resource_group(resource_group)\n",
        "    \n",
        "    for assignment in rg_assignments:\n",
        "        if sp_object_id and assignment.principal_id == sp_object_id:\n",
        "            try:\n",
        "                role_def = auth_client.role_definitions.get_by_id(assignment.role_definition_id)\n",
        "                \n",
        "                role_info = {\n",
        "                    'role_name': role_def.role_name,\n",
        "                    'scope': 'Resource Group',\n",
        "                    'principal_id': assignment.principal_id\n",
        "                }\n",
        "                \n",
        "                # Avoid duplicates\n",
        "                if not any(r['role_name'] == role_info['role_name'] and r['scope'] == 'Resource Group' for r in found_roles['all_roles']):\n",
        "                    found_roles['all_roles'].append(role_info)\n",
        "                \n",
        "                if 'Storage Blob Data Contributor' in role_def.role_name:\n",
        "                    found_roles['storage_blob_contributor'] = True\n",
        "                if 'Contributor' in role_def.role_name:\n",
        "                    found_roles['rg_contributor'] = True\n",
        "                    \n",
        "            except Exception as e:\n",
        "                continue\n",
        "                \n",
        "    print(f\"  Found {len(found_roles['all_roles'])} role assignments for the Service Principal\")\n",
        "    \n",
        "except Exception as e:\n",
        "    print(f\"  Method 2 failed: {str(e)}\")"
      ],
      "outputs": [
        {
          "output_type": "stream",
          "name": "stdout",
          "text": "\nChecking role assignments at resource group level...\n  Found 20 role assignments for the Service Principal\n"
        }
      ],
      "execution_count": 5,
      "metadata": {
        "gather": {
          "logged": 1756825301646
        }
      }
    },
    {
      "cell_type": "code",
      "source": [
        "# ==============================================================================\n",
        "# ANALYSIS AND RECOMMENDATIONS\n",
        "# ==============================================================================\n",
        "print(\"\\n\" + \"=\"*60)\n",
        "print(\"📊 PERMISSION ANALYSIS\")\n",
        "print(\"=\"*60)\n",
        "\n",
        "print(\"\\nCritical Permissions Status:\")\n",
        "print(\"-\"*40)\n",
        "\n",
        "# Check for Storage Blob Data Contributor\n",
        "if found_roles['storage_blob_contributor']:\n",
        "    print(\"✅ Storage Blob Data Contributor: FOUND\")\n",
        "    print(\"   Your SP has the required storage permissions\")\n",
        "else:\n",
        "    print(\"❌ Storage Blob Data Contributor: NOT FOUND\")\n",
        "    print(\"   This is causing the AuthorizationFailure error!\")\n",
        "\n",
        "# Check for Resource Group Contributor\n",
        "if found_roles['rg_contributor']:\n",
        "    print(\"✅ Resource Group Contributor: FOUND\")\n",
        "else:\n",
        "    print(\"⚠️ Resource Group Contributor: NOT FOUND\")\n",
        "    print(\"   You may have limited permissions\")\n"
      ],
      "outputs": [
        {
          "output_type": "stream",
          "name": "stdout",
          "text": "\n============================================================\n📊 PERMISSION ANALYSIS\n============================================================\n\nCritical Permissions Status:\n----------------------------------------\n✅ Storage Blob Data Contributor: FOUND\n   Your SP has the required storage permissions\n✅ Resource Group Contributor: FOUND\n"
        }
      ],
      "execution_count": 6,
      "metadata": {
        "gather": {
          "logged": 1756825331295
        }
      }
    }
  ],
  "metadata": {
    "kernelspec": {
      "name": "python310-sdkv2",
      "language": "python",
      "display_name": "Python 3.10 - SDK v2"
    },
    "language_info": {
      "name": "python",
      "version": "3.10.18",
      "mimetype": "text/x-python",
      "codemirror_mode": {
        "name": "ipython",
        "version": 3
      },
      "pygments_lexer": "ipython3",
      "nbconvert_exporter": "python",
      "file_extension": ".py"
    },
    "microsoft": {
      "ms_spell_check": {
        "ms_spell_check_language": "en"
      }
    },
    "kernel_info": {
      "name": "python310-sdkv2"
    },
    "nteract": {
      "version": "nteract-front-end@1.0.0"
    }
  },
  "nbformat": 4,
  "nbformat_minor": 2
}