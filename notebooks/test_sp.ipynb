{
  "cells": [
    {
      "cell_type": "code",
      "source": [
        "\"\"\"\n",
        "Check Service Principal Permissions\n",
        "Verify that your Service Principal has the required permissions\n",
        "\"\"\"\n",
        "\n",
        "from azure.identity import ClientSecretCredential, DefaultAzureCredential\n",
        "from azure.mgmt.authorization import AuthorizationManagementClient\n",
        "from azure.mgmt.storage import StorageManagementClient\n",
        "from azure.mgmt.resource import ResourceManagementClient\n",
        "import os\n",
        "from dotenv import load_dotenv\n",
        "\n",
        "# Load environment variables\n",
        "load_dotenv()\n",
        "\n",
        "print(\"=\"*60)\n",
        "print(\"SERVICE PRINCIPAL PERMISSIONS CHECK\")\n",
        "print(\"=\"*60)\n",
        "\n",
        "# Create credential\n",
        "if os.getenv(\"AZURE_CLIENT_ID\") and os.getenv(\"AZURE_CLIENT_SECRET\") and os.getenv(\"AZURE_TENANT_ID\"):\n",
        "    credential = ClientSecretCredential(\n",
        "        tenant_id=os.getenv(\"AZURE_TENANT_ID\"),\n",
        "        client_id=os.getenv(\"AZURE_CLIENT_ID\"),\n",
        "        client_secret=os.getenv(\"AZURE_CLIENT_SECRET\")\n",
        "    )\n",
        "    print(f\"✓ Using Service Principal: {os.getenv('AZURE_CLIENT_ID')}\")\n",
        "else:\n",
        "    credential = DefaultAzureCredential()\n",
        "    print(\"Using DefaultAzureCredential\")\n",
        "\n",
        "subscription_id = os.getenv(\"SUBSCRIPTION_ID\")\n",
        "resource_group = os.getenv(\"RESOURCE_GROUP\")\n",
        "\n",
        "print(f\"  Subscription: {subscription_id}\")\n",
        "print(f\"  Resource Group: {resource_group}\")\n",
        "print()"
      ],
      "outputs": [
        {
          "output_type": "stream",
          "name": "stdout",
          "text": "============================================================\nSERVICE PRINCIPAL PERMISSIONS CHECK\n============================================================\n✓ Using Service Principal: e77fcc8e-5551-47b6-a600-1d5633c81e31\n  Subscription: b8d6d487-0bd2-4773-b318-12ab763ed178\n  Resource Group: strategicai-rg-uks-dev-01\n\n"
        }
      ],
      "execution_count": 1,
      "metadata": {
        "gather": {
          "logged": 1756824413664
        }
      }
    },
    {
      "cell_type": "code",
      "source": [
        "# Initialize clients\n",
        "auth_client = AuthorizationManagementClient(credential, subscription_id)\n",
        "storage_client = StorageManagementClient(credential, subscription_id)\n",
        "resource_client = ResourceManagementClient(credential, subscription_id)"
      ],
      "outputs": [],
      "execution_count": 2,
      "metadata": {
        "gather": {
          "logged": 1756824428818
        }
      }
    },
    {
      "cell_type": "code",
      "source": [
        "# ==============================================================================\n",
        "# Check Storage Account Access\n",
        "# ==============================================================================\n",
        "print(\"🔍 Checking Storage Account Access...\")\n",
        "print(\"-\"*40)\n",
        "\n",
        "try:\n",
        "    # List storage accounts in the resource group\n",
        "    storage_accounts = storage_client.storage_accounts.list_by_resource_group(resource_group)\n",
        "    \n",
        "    for account in storage_accounts:\n",
        "        if \"strategicaistuksdev02\" in account.name:\n",
        "            print(f\"✓ Found storage account: {account.name}\")\n",
        "            \n",
        "            # Try to get storage account keys (requires proper permissions)\n",
        "            try:\n",
        "                keys = storage_client.storage_accounts.list_keys(\n",
        "                    resource_group, \n",
        "                    account.name\n",
        "                )\n",
        "                print(f\"  ✓ Can list storage keys (has Owner/Contributor role)\")\n",
        "            except Exception as e:\n",
        "                print(f\"  ⚠️  Cannot list storage keys (might only have data plane access)\")\n",
        "                print(f\"     This is OK if you have 'Storage Blob Data Contributor' role\")\n",
        "            \n",
        "            # Get the storage account ID for role checking\n",
        "            storage_account_id = account.id\n",
        "            break\n",
        "    else:\n",
        "        print(\"⚠️  Storage account 'strategicaistuksdev02' not found in resource group\")\n",
        "        storage_account_id = None\n",
        "        \n",
        "except Exception as e:\n",
        "    print(f\"❌ Error accessing storage accounts: {str(e)}\")\n",
        "    print(\"   The Service Principal might lack permissions on the resource group\")\n",
        "    storage_account_id = None"
      ],
      "outputs": [
        {
          "output_type": "stream",
          "name": "stdout",
          "text": "🔍 Checking Storage Account Access...\n----------------------------------------\n✓ Found storage account: strategicaistuksdev02\n  ✓ Can list storage keys (has Owner/Contributor role)\n"
        }
      ],
      "execution_count": 3,
      "metadata": {
        "gather": {
          "logged": 1756824447021
        }
      }
    },
    {
      "cell_type": "code",
      "source": [
        "# ==============================================================================\n",
        "# Check Role Assignments\n",
        "# ==============================================================================\n",
        "print(\"\\n🔍 Checking Role Assignments...\")\n",
        "print(\"-\"*40)\n",
        "\n",
        "try:\n",
        "    # Get role assignments for the Service Principal\n",
        "    sp_object_id = None  # We need to get the object ID of the SP\n",
        "    \n",
        "    # List all role assignments in the resource group\n",
        "    assignments = auth_client.role_assignments.list_for_resource_group(resource_group)\n",
        "    \n",
        "    sp_roles = []\n",
        "    for assignment in assignments:\n",
        "        # Check if this assignment is for our Service Principal\n",
        "        # Note: This requires additional API calls to match the principal ID\n",
        "        try:\n",
        "            # Get role definition\n",
        "            role_def = auth_client.role_definitions.get_by_id(assignment.role_definition_id)\n",
        "            \n",
        "            # You might need to match this with your SP's object ID\n",
        "            # For now, we'll list all roles in the RG\n",
        "            if assignment.principal_id:\n",
        "                sp_roles.append({\n",
        "                    'role': role_def.role_name,\n",
        "                    'scope': assignment.scope,\n",
        "                    'principal_id': assignment.principal_id\n",
        "                })\n",
        "        except:\n",
        "            pass\n",
        "    \n",
        "    if sp_roles:\n",
        "        print(f\"Found {len(sp_roles)} role assignments in the resource group\")\n",
        "        # Note: Matching to specific SP requires additional API calls\n",
        "        print(\"  (Full matching requires SP object ID lookup)\")\n",
        "    else:\n",
        "        print(\"⚠️  No role assignments found (or insufficient permissions to view)\")\n",
        "        \n",
        "except Exception as e:\n",
        "    print(f\"⚠️  Cannot list role assignments: {str(e)}\")\n",
        "    print(\"   This is normal if the SP only has limited permissions\")"
      ],
      "outputs": [
        {
          "output_type": "stream",
          "name": "stdout",
          "text": "\n🔍 Checking Role Assignments...\n----------------------------------------\nFound 103 role assignments in the resource group\n  (Full matching requires SP object ID lookup)\n"
        }
      ],
      "execution_count": 4,
      "metadata": {
        "gather": {
          "logged": 1756824486417
        }
      }
    }
  ],
  "metadata": {
    "kernelspec": {
      "name": "python310-sdkv2",
      "language": "python",
      "display_name": "Python 3.10 - SDK v2"
    },
    "language_info": {
      "name": "python",
      "version": "3.10.18",
      "mimetype": "text/x-python",
      "codemirror_mode": {
        "name": "ipython",
        "version": 3
      },
      "pygments_lexer": "ipython3",
      "nbconvert_exporter": "python",
      "file_extension": ".py"
    },
    "microsoft": {
      "ms_spell_check": {
        "ms_spell_check_language": "en"
      }
    },
    "kernel_info": {
      "name": "python310-sdkv2"
    },
    "nteract": {
      "version": "nteract-front-end@1.0.0"
    }
  },
  "nbformat": 4,
  "nbformat_minor": 2
}