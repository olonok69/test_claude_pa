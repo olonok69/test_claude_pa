{
  "cells": [
    {
      "cell_type": "code",
      "source": [
        "from azure.ai.ml import MLClient, command, Input, Output\n",
        "from azure.ai.ml.entities import Environment\n",
        "from azure.ai.ml.constants import AssetTypes\n",
        "from azure.identity import DefaultAzureCredential\n",
        "import os\n",
        "from dotenv import load_dotenv\n",
        "from pathlib import Path\n",
        "\n",
        "# Load environment variables\n",
        "load_dotenv()"
      ],
      "outputs": [
        {
          "output_type": "execute_result",
          "execution_count": 21,
          "data": {
            "text/plain": "True"
          },
          "metadata": {}
        }
      ],
      "execution_count": 21,
      "metadata": {
        "gather": {
          "logged": 1756823382254
        }
      }
    },
    {
      "cell_type": "code",
      "source": [
        "# Initialize ML Client\n",
        "credential = DefaultAzureCredential()\n",
        "ml_client = MLClient(\n",
        "    credential,\n",
        "    subscription_id=os.getenv(\"SUBSCRIPTION_ID\"),\n",
        "    resource_group_name=os.getenv(\"RESOURCE_GROUP\"),\n",
        "    workspace_name=os.getenv(\"AZUREML_WORKSPACE_NAME\")\n",
        ")\n",
        "\n",
        "print(f\"Connected to workspace: {ml_client.workspace_name}\")"
      ],
      "outputs": [
        {
          "output_type": "stream",
          "name": "stdout",
          "text": "Connected to workspace: strategicai-mlw-uks-dev-01\n"
        }
      ],
      "execution_count": 22,
      "metadata": {
        "gather": {
          "logged": 1756823403835
        }
      }
    },
    {
      "cell_type": "code",
      "source": [
        "project_root = Path.cwd().parent\n",
        "project_root"
      ],
      "outputs": [
        {
          "output_type": "execute_result",
          "execution_count": 23,
          "data": {
            "text/plain": "PosixPath('/mnt/batch/tasks/shared/LS_root/mounts/clusters/vm-juan/code/Users/j.huertas/repos/azure_ml_pipelines_pa')"
          },
          "metadata": {}
        }
      ],
      "execution_count": 23,
      "metadata": {
        "gather": {
          "logged": 1756823408008
        }
      }
    },
    {
      "cell_type": "code",
      "source": [
        "from azure.ai.ml.entities import Data, UserIdentityConfiguration, ManagedIdentityConfiguration\n",
        "from azureml.core.authentication import ServicePrincipalAuthentication\n",
        "identity = ManagedIdentityConfiguration(principal_id=os.getenv('AZURE_CLIENT_ID'))\n",
        "\n",
        "svc_pr_password = os.environ.get(\"AZURE_CLIENT_SECRET\")\n",
        "\n",
        "svc_pr = ServicePrincipalAuthentication(\n",
        "       tenant_id=os.environ.get(\"AZURE_TENANT_ID\"),\n",
        "       service_principal_id=os.environ.get(\"AZURE_CLIENT_ID\"),\n",
        "       service_principal_password=svc_pr_password,\n",
        "       _enable_caching=False)"
      ],
      "outputs": [],
      "execution_count": 14,
      "metadata": {
        "gather": {
          "logged": 1756822538405
        }
      }
    },
    {
      "cell_type": "code",
      "source": [
        "identity"
      ],
      "outputs": [
        {
          "output_type": "execute_result",
          "execution_count": 11,
          "data": {
            "text/plain": "{'type': 'managed_identity', 'principal_id': 'e77fcc8e-5551-47b6-a600-1d5633c81e31'}"
          },
          "metadata": {}
        }
      ],
      "execution_count": 11,
      "metadata": {
        "gather": {
          "logged": 1756814195113
        }
      }
    },
    {
      "cell_type": "code",
      "source": [
        "# Initialize ML Client\n",
        "credential = DefaultAzureCredential()\n"
      ],
      "outputs": [],
      "execution_count": 24,
      "metadata": {
        "gather": {
          "logged": 1756823464921
        }
      }
    },
    {
      "cell_type": "code",
      "source": [
        "# Verify local directory structure\n",
        "# If running from notebooks/ folder, go up one level to project root\n",
        "current_dir = Path.cwd()\n",
        "if current_dir.name == \"notebooks\":\n",
        "    project_root = current_dir.parent\n",
        "    print(f\"Running from notebooks folder, using parent as project root\")\n",
        "else:\n",
        "    project_root = current_dir\n",
        "    print(f\"Running from project root directly\")\n",
        "\n",
        "print(f\"Current working directory: {current_dir}\")\n",
        "print(f\"Project root: {project_root}\")\n",
        "\n",
        "# Verify required directories exist\n",
        "required_dirs = {\n",
        "    \"PA\": project_root / \"PA\",\n",
        "    \"PA/config\": project_root / \"PA\" / \"config\",\n",
        "    \"azureml_pipeline\": project_root / \"azureml_pipeline\"\n",
        "}\n",
        "\n",
        "for name, path in required_dirs.items():\n",
        "    if path.exists():\n",
        "        print(f\"✓ {name} directory found at {path}\")\n",
        "    else:\n",
        "        print(f\"✗ ERROR: {name} directory not found at {path}\")\n",
        "\n",
        "# Verify required files exist\n",
        "required_files = {\n",
        "    \"config_ecomm.yaml\": project_root / \"PA\" / \"config\" / \"config_ecomm.yaml\",\n",
        "    \"config_vet.yaml\": project_root / \"PA\" / \"config\" / \"config_vet.yaml\",\n",
        "    \"azureml_step1_data_prep.py\": project_root / \"azureml_pipeline\" / \"azureml_step1_data_prep.py\"\n",
        "}\n",
        "\n",
        "for name, path in required_files.items():\n",
        "    if path.exists():\n",
        "        print(f\"✓ {name} found at {path}\")\n",
        "    else:\n",
        "        print(f\"✗ WARNING: {name} not found at {path}\")\n",
        "\n",
        "# Define inputs\n",
        "input_data_uri = \"azureml://subscriptions/b8d6d487-0bd2-4773-b318-12ab763ed178/resourcegroups/strategicai-rg-uks-dev-01/workspaces/strategicai-mlw-uks-dev-01/datastores/landing_pa/paths/landing/azureml/\"\n",
        "\n",
        "# Choose which config to use\n",
        "config_type = \"ecomm\"  # or \"vet\"\n",
        "\n",
        "# Create the command job\n",
        "job = command(\n",
        "    # IMPORTANT: Set code to project root to upload all local files\n",
        "    code=str(project_root),  # This uploads the entire project directory\n",
        "    command=f\"\"\"python azureml_pipeline/azureml_step1_data_prep.py \\\n",
        "        --config PA/config/config_{config_type}.yaml \\\n",
        "        --input_uri ${{{{inputs.input_data}}}} \\\n",
        "        --incremental ${{{{inputs.incremental}}}} \\\n",
        "        --output_registration ${{{{outputs.registration_output}}}} \\\n",
        "        --output_scan ${{{{outputs.scan_output}}}} \\\n",
        "        --output_session ${{{{outputs.session_output}}}} \\\n",
        "        --output_metadata ${{{{outputs.metadata_output}}}}\n",
        "    \"\"\",\n",
        "    inputs={\n",
        "        \"input_data\": Input(\n",
        "            type=AssetTypes.URI_FOLDER,\n",
        "            path=input_data_uri,\n",
        "            description=\"Input data from blob storage\"\n",
        "        ),\n",
        "        \"incremental\": False\n",
        "    },\n",
        "    outputs={\n",
        "        \"registration_output\": Output(type=AssetTypes.URI_FOLDER),\n",
        "        \"scan_output\": Output(type=AssetTypes.URI_FOLDER),\n",
        "        \"session_output\": Output(type=AssetTypes.URI_FOLDER),\n",
        "        \"metadata_output\": Output(type=AssetTypes.URI_FOLDER)\n",
        "    },\n",
        "    environment=\"personal-agendas-env:1\",  # Use your environment name:version\n",
        "    compute=\"cpu-cluster\",\n",
        "\n",
        "    display_name=f\"PA Step 1: Data Preparation ({config_type.upper()})\",\n",
        "    description=f\"Process registration, scan, and session data for {config_type.upper()}\",\n",
        "    tags={\n",
        "        \"step\": \"data_preparation\",\n",
        "        \"event_type\": config_type,\n",
        "        \"project\": \"personal_agendas\"\n",
        "    }\n",
        ")\n"
      ],
      "outputs": [
        {
          "output_type": "stream",
          "name": "stdout",
          "text": "Running from notebooks folder, using parent as project root\nCurrent working directory: /mnt/batch/tasks/shared/LS_root/mounts/clusters/vm-juan/code/Users/j.huertas/repos/azure_ml_pipelines_pa/notebooks\nProject root: /mnt/batch/tasks/shared/LS_root/mounts/clusters/vm-juan/code/Users/j.huertas/repos/azure_ml_pipelines_pa\n✓ PA directory found at /mnt/batch/tasks/shared/LS_root/mounts/clusters/vm-juan/code/Users/j.huertas/repos/azure_ml_pipelines_pa/PA\n✓ PA/config directory found at /mnt/batch/tasks/shared/LS_root/mounts/clusters/vm-juan/code/Users/j.huertas/repos/azure_ml_pipelines_pa/PA/config\n✓ azureml_pipeline directory found at /mnt/batch/tasks/shared/LS_root/mounts/clusters/vm-juan/code/Users/j.huertas/repos/azure_ml_pipelines_pa/azureml_pipeline\n✓ config_ecomm.yaml found at /mnt/batch/tasks/shared/LS_root/mounts/clusters/vm-juan/code/Users/j.huertas/repos/azure_ml_pipelines_pa/PA/config/config_ecomm.yaml\n✓ config_vet.yaml found at /mnt/batch/tasks/shared/LS_root/mounts/clusters/vm-juan/code/Users/j.huertas/repos/azure_ml_pipelines_pa/PA/config/config_vet.yaml\n✓ azureml_step1_data_prep.py found at /mnt/batch/tasks/shared/LS_root/mounts/clusters/vm-juan/code/Users/j.huertas/repos/azure_ml_pipelines_pa/azureml_pipeline/azureml_step1_data_prep.py\n"
        }
      ],
      "execution_count": 25,
      "metadata": {
        "gather": {
          "logged": 1756823485966
        }
      }
    },
    {
      "cell_type": "code",
      "source": [
        "# Print job configuration\n",
        "print(\"\\n\" + \"=\"*60)\n",
        "print(\"Job Configuration:\")\n",
        "print(f\"  Config type: {config_type}\")\n",
        "print(f\"  Input data: {input_data_uri}\")\n",
        "print(f\"  Code directory: {project_root} (will be uploaded)\")\n",
        "print(f\"  Command: python azureml_pipeline/azureml_step1_data_prep.py ...\")\n",
        "print(\"=\"*60)\n",
        "\n",
        "# Submit the job\n",
        "print(\"\\nSubmitting job...\")\n",
        "submitted_job = ml_client.jobs.create_or_update(\n",
        "    job,\n",
        "    experiment_name=\"personal_agendas_step1_test\"\n",
        ")\n",
        "\n",
        "print(f\"\\n✓ Job submitted successfully!\")\n",
        "print(f\"  Job Name: {submitted_job.name}\")\n",
        "print(f\"  Job Type: {submitted_job.type}\")\n",
        "print(f\"  Job Status: {submitted_job.status}\")\n",
        "print(f\"  Monitor at: {submitted_job.studio_url}\")\n",
        "print(\"\\nAll local code and config files have been automatically uploaded to Azure ML.\")\n",
        "\n",
        "# Optional: Monitor job status\n",
        "print(\"\\nTo monitor job status, you can use:\")\n",
        "print(f\"```python\")\n",
        "print(f\"job = ml_client.jobs.get('{submitted_job.name}')\")\n",
        "print(f\"print(f'Status: {{job.status}}')\")\n",
        "print(f\"```\")"
      ],
      "outputs": [
        {
          "output_type": "stream",
          "name": "stdout",
          "text": "\n============================================================\nJob Configuration:\n  Config type: ecomm\n  Input data: azureml://subscriptions/b8d6d487-0bd2-4773-b318-12ab763ed178/resourcegroups/strategicai-rg-uks-dev-01/workspaces/strategicai-mlw-uks-dev-01/datastores/azureml_landing/paths/landing/azureml/\n  Code directory: /mnt/batch/tasks/shared/LS_root/mounts/clusters/vm-juan/code/Users/j.huertas/repos/azure_ml_pipelines_pa (will be uploaded)\n  Command: python azureml_pipeline/azureml_step1_data_prep.py ...\n============================================================\n\nSubmitting job...\n\n✓ Job submitted successfully!\n  Job Name: sharp_cassava_dnj6r2xy1s\n  Job Type: command\n  Job Status: Starting\n  Monitor at: https://ml.azure.com/runs/sharp_cassava_dnj6r2xy1s?wsid=/subscriptions/b8d6d487-0bd2-4773-b318-12ab763ed178/resourcegroups/strategicai-rg-uks-dev-01/workspaces/strategicai-mlw-uks-dev-01&tid=3540e7dc-31b3-4057-9e31-43e9fe938179\n\nAll local code and config files have been automatically uploaded to Azure ML.\n\nTo monitor job status, you can use:\n```python\njob = ml_client.jobs.get('sharp_cassava_dnj6r2xy1s')\nprint(f'Status: {job.status}')\n```\n"
        },
        {
          "output_type": "stream",
          "name": "stderr",
          "text": "\u001b[32mUploading azure_ml_pipelines_pa (0.85 MBs): 100%|██████████| 852739/852739 [00:00<00:00, 2353626.80it/s]\n\u001b[39m\n\npathOnCompute is not a known attribute of class <class 'azure.ai.ml._restclient.v2023_04_01_preview.models._models_py3.UriFolderJobOutput'> and will be ignored\npathOnCompute is not a known attribute of class <class 'azure.ai.ml._restclient.v2023_04_01_preview.models._models_py3.UriFolderJobOutput'> and will be ignored\npathOnCompute is not a known attribute of class <class 'azure.ai.ml._restclient.v2023_04_01_preview.models._models_py3.UriFolderJobOutput'> and will be ignored\npathOnCompute is not a known attribute of class <class 'azure.ai.ml._restclient.v2023_04_01_preview.models._models_py3.UriFolderJobOutput'> and will be ignored\n"
        }
      ],
      "execution_count": 26,
      "metadata": {
        "gather": {
          "logged": 1756823503275
        }
      }
    }
  ],
  "metadata": {
    "kernelspec": {
      "name": "python310-sdkv2",
      "language": "python",
      "display_name": "Python 3.10 - SDK v2"
    },
    "language_info": {
      "name": "python",
      "version": "3.10.18",
      "mimetype": "text/x-python",
      "codemirror_mode": {
        "name": "ipython",
        "version": 3
      },
      "pygments_lexer": "ipython3",
      "nbconvert_exporter": "python",
      "file_extension": ".py"
    },
    "microsoft": {
      "ms_spell_check": {
        "ms_spell_check_language": "en"
      },
      "host": {
        "AzureML": {
          "notebookHasBeenCompleted": true
        }
      }
    },
    "kernel_info": {
      "name": "python310-sdkv2"
    },
    "nteract": {
      "version": "nteract-front-end@1.0.0"
    }
  },
  "nbformat": 4,
  "nbformat_minor": 2
}