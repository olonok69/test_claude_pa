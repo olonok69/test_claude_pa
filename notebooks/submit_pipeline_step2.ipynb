{
 "cells": [
  {
   "cell_type": "markdown",
   "id": "135809bf",
   "metadata": {},
   "source": [
    "# Azure ML Pipeline with Step 1 and Step 2\n",
    "\n",
    "This notebook creates and submits a pipeline with:\n",
    "1. Step 1: Data Preparation (Registration, Scan, Session)\n",
    "2. Step 2: Neo4J Preparation (Visitor, Session, Streams, Relationships)"
   ]
  },
  {
   "cell_type": "code",
   "execution_count": 1,
   "id": "cc5b0fcc",
   "metadata": {},
   "outputs": [
    {
     "name": "stdout",
     "output_type": "stream",
     "text": [
      "============================================================\n",
      "AZURE ML PIPELINE WITH NEO4J STEP\n",
      "============================================================\n",
      "Environment variables loaded\n"
     ]
    }
   ],
   "source": [
    "from azure.ai.ml import MLClient, command, Input, Output\n",
    "from azure.ai.ml.dsl import pipeline\n",
    "from azure.ai.ml.entities import Environment\n",
    "from azure.ai.ml.constants import AssetTypes\n",
    "from azure.identity import ClientSecretCredential\n",
    "import os\n",
    "from dotenv import load_dotenv\n",
    "from pathlib import Path\n",
    "import time\n",
    "\n",
    "# Load environment variables\n",
    "load_dotenv()\n",
    "\n",
    "print(\"=\"*60)\n",
    "print(\"AZURE ML PIPELINE WITH NEO4J STEP\")\n",
    "print(\"=\"*60)\n",
    "\n",
    "# Configuration\n",
    "client_id = os.getenv(\"AZURE_CLIENT_ID\")\n",
    "client_secret = os.getenv(\"AZURE_CLIENT_SECRET\")\n",
    "tenant_id = os.getenv(\"AZURE_TENANT_ID\")\n",
    "subscription_id = os.getenv(\"SUBSCRIPTION_ID\")\n",
    "resource_group = os.getenv(\"RESOURCE_GROUP\")\n",
    "workspace_name = os.getenv(\"AZUREML_WORKSPACE_NAME\")\n",
    "\n",
    "print(\"Environment variables loaded\")"
   ]
  },
  {
   "cell_type": "code",
   "execution_count": 2,
   "id": "ccc1c0c1",
   "metadata": {},
   "outputs": [
    {
     "name": "stdout",
     "output_type": "stream",
     "text": [
      "Neo4j credentials configured\n"
     ]
    }
   ],
   "source": [
    "# IMPORTANT: Configure Neo4j credentials\n",
    "# Option 1: Load from .env file\n",
    "load_dotenv()\n",
    "\n",
    "# Option 2: Set directly here (replace with your actual credentials)\n",
    "# Uncomment and update these lines:\n",
    "# os.environ[\"NEO4J_URI\"] = \"neo4j+s://your-instance.databases.neo4j.io\"\n",
    "# os.environ[\"NEO4J_USERNAME\"] = \"neo4j\"\n",
    "# os.environ[\"NEO4J_PASSWORD\"] = \"your-password\"\n",
    "\n",
    "neo4j_uri = os.getenv(\"NEO4J_URI\")\n",
    "neo4j_username = os.getenv(\"NEO4J_USERNAME\")\n",
    "neo4j_password = os.getenv(\"NEO4J_PASSWORD\")\n",
    "\n",
    "if not all([neo4j_uri, neo4j_username, neo4j_password]):\n",
    "    print(\"WARNING: Neo4j credentials not found\")\n",
    "    print(\"Please set NEO4J_URI, NEO4J_USERNAME, and NEO4J_PASSWORD\")\n",
    "else:\n",
    "    print(\"Neo4j credentials configured\")"
   ]
  },
  {
   "cell_type": "code",
   "execution_count": 3,
   "id": "608d5911",
   "metadata": {},
   "outputs": [
    {
     "name": "stdout",
     "output_type": "stream",
     "text": [
      "Connected to workspace: strategicai-mlw-uks-dev-01\n"
     ]
    }
   ],
   "source": [
    "# Create ML Client\n",
    "credential = ClientSecretCredential(\n",
    "    tenant_id=tenant_id,\n",
    "    client_id=client_id,\n",
    "    client_secret=client_secret\n",
    ")\n",
    "\n",
    "ml_client = MLClient(\n",
    "    credential,\n",
    "    subscription_id=subscription_id,\n",
    "    resource_group_name=resource_group,\n",
    "    workspace_name=workspace_name\n",
    ")\n",
    "\n",
    "print(f\"Connected to workspace: {workspace_name}\")"
   ]
  },
  {
   "cell_type": "code",
   "execution_count": 4,
   "id": "14361cb0",
   "metadata": {},
   "outputs": [
    {
     "name": "stdout",
     "output_type": "stream",
     "text": [
      "Project root: /mnt/batch/tasks/shared/LS_root/mounts/clusters/vm-juan/code/Notebooks/repos/azure_ml_pipelines_pa\n"
     ]
    }
   ],
   "source": [
    "# Determine project root\n",
    "current_dir = Path.cwd()\n",
    "if current_dir.name == \"notebooks\":\n",
    "    project_root = current_dir.parent\n",
    "else:\n",
    "    project_root = current_dir\n",
    "\n",
    "print(f\"Project root: {project_root}\")"
   ]
  },
  {
   "cell_type": "code",
   "execution_count": 5,
   "id": "196de7f5",
   "metadata": {},
   "outputs": [
    {
     "name": "stdout",
     "output_type": "stream",
     "text": [
      "Using existing environment: pa-env:5\n"
     ]
    }
   ],
   "source": [
    "# Setup environment\n",
    "dependencies_dir = \"./env\"\n",
    "os.makedirs(dependencies_dir, exist_ok=True)\n",
    "\n",
    "custom_env_name = \"pa-env\"\n",
    "try:\n",
    "    job_env = ml_client.environments.get(name=custom_env_name, version=\"5\")\n",
    "    print(f\"Using existing environment: {custom_env_name}:5\")\n",
    "except:\n",
    "    job_env = Environment(\n",
    "        name=custom_env_name,\n",
    "        description=\"Environment for Personal Agendas pipeline with Neo4j\",\n",
    "        conda_file=os.path.join(dependencies_dir, \"conda.yaml\"),\n",
    "        image=\"mcr.microsoft.com/azureml/openmpi5.0-ubuntu24.04:20250601.v1\"\n",
    "    )\n",
    "    job_env = ml_client.environments.create_or_update(job_env)\n",
    "    print(f\"Created environment: {custom_env_name}:{job_env.version}\")"
   ]
  },
  {
   "cell_type": "code",
   "execution_count": 6,
   "id": "be728fad",
   "metadata": {},
   "outputs": [],
   "source": [
    "# Step 1: Data Preparation Component\n",
    "data_preparation_component = command(\n",
    "    name=\"data_preparation\",\n",
    "    display_name=\"Step 1: Data Preparation\",\n",
    "    description=\"Process registration, scan, and session data\",\n",
    "    inputs={\n",
    "        \"input_uri\": Input(type=\"uri_folder\"),\n",
    "        \"config_type\": Input(type=\"string\", default=\"ecomm\")\n",
    "    },\n",
    "    outputs={\n",
    "        \"registration_output\": Output(type=\"uri_folder\"),\n",
    "        \"scan_output\": Output(type=\"uri_folder\"),\n",
    "        \"session_output\": Output(type=\"uri_folder\"),\n",
    "        \"metadata_output\": Output(type=\"uri_folder\")\n",
    "    },\n",
    "    code=str(project_root),\n",
    "    command=\"\"\"python azureml_pipeline/azureml_step1_data_prep.py \\\\\n",
    "        --config PA/config/config_${{inputs.config_type}}.yaml \\\\\n",
    "        --input_uri ${{inputs.input_uri}} \\\\\n",
    "        --output_registration ${{outputs.registration_output}} \\\\\n",
    "        --output_scan ${{outputs.scan_output}} \\\\\n",
    "        --output_session ${{outputs.session_output}} \\\\\n",
    "        --output_metadata ${{outputs.metadata_output}}\n",
    "    \"\"\",\n",
    "    environment=f\"{job_env.name}:{job_env.version}\",\n",
    "    environment_variables={\n",
    "        \"KEYVAULT_NAME\": \"strategicai-kv-uks-dev\"\n",
    "    },\n",
    "    compute=\"cpu-cluster\",\n",
    "    is_deterministic=False\n",
    ")"
   ]
  },
  {
   "cell_type": "code",
   "execution_count": 7,
   "id": "201dee47",
   "metadata": {},
   "outputs": [],
   "source": [
    "# Step 2: Neo4J Preparation Component\n",
    "neo4j_preparation_component = command(\n",
    "    name=\"neo4j_preparation\",\n",
    "    display_name=\"Step 2: Neo4J Preparation\",\n",
    "    description=\"Upload data to Neo4j database\",\n",
    "    inputs={\n",
    "        \"config_type\": Input(type=\"string\", default=\"ecomm\"),\n",
    "        \"input_registration\": Input(type=\"uri_folder\"),\n",
    "        \"input_scan\": Input(type=\"uri_folder\"),\n",
    "        \"input_session\": Input(type=\"uri_folder\")\n",
    "    },\n",
    "    outputs={\n",
    "        \"metadata_output\": Output(type=\"uri_folder\")\n",
    "    },\n",
    "    code=str(project_root),\n",
    "    command=\"\"\"python azureml_pipeline/azureml_step2_neo4j_prep.py \\\\\n",
    "        --config PA/config/config_${{inputs.config_type}}.yaml \\\\\n",
    "        --input_registration ${{inputs.input_registration}} \\\\\n",
    "        --input_scan ${{inputs.input_scan}} \\\\\n",
    "        --input_session ${{inputs.input_session}} \\\\\n",
    "        --output_metadata ${{outputs.metadata_output}}\n",
    "    \"\"\",\n",
    "    environment=f\"{job_env.name}:{job_env.version}\",\n",
    "    environment_variables={\n",
    "        \"KEYVAULT_NAME\": \"strategicai-kv-uks-dev\",\n",
    "        \"NEO4J_URI\": neo4j_uri or \"neo4j+s://your-uri\",\n",
    "        \"NEO4J_USERNAME\": neo4j_username or \"neo4j\",\n",
    "        \"NEO4J_PASSWORD\": neo4j_password or \"password\"\n",
    "    },\n",
    "    compute=\"cpu-cluster\",\n",
    "    is_deterministic=False\n",
    ")"
   ]
  },
  {
   "cell_type": "code",
   "execution_count": 8,
   "id": "c9b15975",
   "metadata": {},
   "outputs": [],
   "source": [
    "# Define the Pipeline\n",
    "@pipeline(\n",
    "    compute=\"cpu-cluster\",\n",
    "    description=\"Personal Agendas pipeline with Neo4j\"\n",
    ")\n",
    "def personal_agendas_pipeline(\n",
    "    pipeline_input_data: Input,\n",
    "    pipeline_config_type: str = \"ecomm\"\n",
    "):\n",
    "    # Step 1\n",
    "    step1 = data_preparation_component(\n",
    "        input_uri=pipeline_input_data,\n",
    "        config_type=pipeline_config_type\n",
    "    )\n",
    "    \n",
    "    # Step 2 - uses outputs from Step 1\n",
    "    step2 = neo4j_preparation_component(\n",
    "        config_type=pipeline_config_type,\n",
    "        input_registration=step1.outputs.registration_output,\n",
    "        input_scan=step1.outputs.scan_output,\n",
    "        input_session=step1.outputs.session_output\n",
    "    )\n",
    "    \n",
    "    return {\n",
    "        \"registration_data\": step1.outputs.registration_output,\n",
    "        \"scan_data\": step1.outputs.scan_output,\n",
    "        \"session_data\": step1.outputs.session_output,\n",
    "        \"step1_metadata\": step1.outputs.metadata_output,\n",
    "        \"neo4j_metadata\": step2.outputs.metadata_output\n",
    "    }"
   ]
  },
  {
   "cell_type": "code",
   "execution_count": 9,
   "id": "adf9d52f",
   "metadata": {},
   "outputs": [],
   "source": [
    "# Configure and submit pipeline\n",
    "input_data_uri = f\"azureml://subscriptions/{subscription_id}/resourcegroups/{resource_group}/workspaces/{workspace_name}/datastores/landing_pa/paths/landing/azureml/\"\n",
    "\n",
    "pipeline_job = personal_agendas_pipeline(\n",
    "    pipeline_input_data=Input(\n",
    "        type=AssetTypes.URI_FOLDER,\n",
    "        path=input_data_uri\n",
    "    ),\n",
    "    pipeline_config_type=\"ecomm\"\n",
    ")\n",
    "\n",
    "pipeline_job.display_name = \"PA Pipeline with Neo4j - ECOMM\"\n",
    "pipeline_job.tags = {\n",
    "    \"project\": \"personal_agendas\",\n",
    "    \"event_type\": \"ecomm\",\n",
    "    \"includes_neo4j\": \"true\"\n",
    "}\n",
    "pipeline_job.experiment_name = \"personal_agendas_neo4j_experiment\""
   ]
  },
  {
   "cell_type": "code",
   "execution_count": 10,
   "id": "f1dcd6ca",
   "metadata": {},
   "outputs": [
    {
     "name": "stderr",
     "output_type": "stream",
     "text": [
      "Class AutoDeleteSettingSchema: This is an experimental class, and may change at any time. Please see https://aka.ms/azuremlexperimental for more information.\n",
      "Class AutoDeleteConditionSchema: This is an experimental class, and may change at any time. Please see https://aka.ms/azuremlexperimental for more information.\n",
      "Class BaseAutoDeleteSettingSchema: This is an experimental class, and may change at any time. Please see https://aka.ms/azuremlexperimental for more information.\n",
      "Class IntellectualPropertySchema: This is an experimental class, and may change at any time. Please see https://aka.ms/azuremlexperimental for more information.\n",
      "Class ProtectionLevelSchema: This is an experimental class, and may change at any time. Please see https://aka.ms/azuremlexperimental for more information.\n",
      "Class BaseIntellectualPropertySchema: This is an experimental class, and may change at any time. Please see https://aka.ms/azuremlexperimental for more information.\n"
     ]
    },
    {
     "name": "stdout",
     "output_type": "stream",
     "text": [
      "\n",
      "============================================================\n",
      "SUBMITTING PIPELINE WITH NEO4J\n",
      "============================================================\n"
     ]
    },
    {
     "name": "stderr",
     "output_type": "stream",
     "text": [
      "\u001b[32mUploading azure_ml_pipelines_pa (1.23 MBs): 100%|██████████| 1234178/1234178 [00:00<00:00, 1811221.99it/s]\n",
      "\u001b[39m\n",
      "\n",
      "pathOnCompute is not a known attribute of class <class 'azure.ai.ml._restclient.v2023_04_01_preview.models._models_py3.UriFolderJobOutput'> and will be ignored\n",
      "pathOnCompute is not a known attribute of class <class 'azure.ai.ml._restclient.v2023_04_01_preview.models._models_py3.UriFolderJobOutput'> and will be ignored\n",
      "pathOnCompute is not a known attribute of class <class 'azure.ai.ml._restclient.v2023_04_01_preview.models._models_py3.UriFolderJobOutput'> and will be ignored\n",
      "pathOnCompute is not a known attribute of class <class 'azure.ai.ml._restclient.v2023_04_01_preview.models._models_py3.UriFolderJobOutput'> and will be ignored\n",
      "pathOnCompute is not a known attribute of class <class 'azure.ai.ml._restclient.v2023_04_01_preview.models._models_py3.UriFolderJobOutput'> and will be ignored\n"
     ]
    },
    {
     "name": "stdout",
     "output_type": "stream",
     "text": [
      "\n",
      "SUCCESS! Pipeline submitted!\n",
      "Job Name: nifty_picture_lvjwlr4wn5\n",
      "Status: NotStarted\n",
      "\n",
      "Monitor at: https://ml.azure.com/runs/nifty_picture_lvjwlr4wn5?wsid=/subscriptions/b8d6d487-0bd2-4773-b318-12ab763ed178/resourcegroups/strategicai-rg-uks-dev-01/workspaces/strategicai-mlw-uks-dev-01&tid=3540e7dc-31b3-4057-9e31-43e9fe938179\n",
      "\n",
      "============================================================\n"
     ]
    }
   ],
   "source": [
    "# Submit pipeline\n",
    "print(\"\\n\" + \"=\"*60)\n",
    "print(\"SUBMITTING PIPELINE WITH NEO4J\")\n",
    "print(\"=\"*60)\n",
    "\n",
    "try:\n",
    "    submitted_job = ml_client.jobs.create_or_update(pipeline_job)\n",
    "    print(f\"\\nSUCCESS! Pipeline submitted!\")\n",
    "    print(f\"Job Name: {submitted_job.name}\")\n",
    "    print(f\"Status: {submitted_job.status}\")\n",
    "    print(f\"\\nMonitor at: {submitted_job.studio_url}\")\n",
    "except Exception as e:\n",
    "    print(f\"\\nSubmission failed: {str(e)}\")\n",
    "\n",
    "print(\"\\n\" + \"=\"*60)"
   ]
  },
  {
   "cell_type": "code",
   "execution_count": null,
   "id": "39c50028-0d39-4479-ad91-2e73dd24ef6a",
   "metadata": {},
   "outputs": [],
   "source": []
  }
 ],
 "metadata": {
  "kernelspec": {
   "display_name": "Python 3.10 - SDK v2",
   "language": "python",
   "name": "python310-sdkv2"
  },
  "language_info": {
   "codemirror_mode": {
    "name": "ipython",
    "version": 3
   },
   "file_extension": ".py",
   "mimetype": "text/x-python",
   "name": "python",
   "nbconvert_exporter": "python",
   "pygments_lexer": "ipython3",
   "version": "3.10.18"
  }
 },
 "nbformat": 4,
 "nbformat_minor": 5
}
