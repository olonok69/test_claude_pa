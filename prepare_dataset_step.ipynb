{
  "cells": [
    {
      "cell_type": "code",
      "execution_count": null,
      "id": "835401f9-94bc-4170-8182-e2451ddbbf57",
      "metadata": {
        "gather": {
          "logged": 1750694709960
        }
      },
      "outputs": [],
      "source": [
        "from azure.identity import DefaultAzureCredential\n",
        "from azure.ai.ml import MLClient\n",
        "from azure.ai.ml import Input\n",
        "from azure.ai.ml.dsl import pipeline\n",
        "\n",
        "from utils.login import get_ws_client\n",
        "from utils.datasets import get_labels_dataset, create_datasets\n",
        "from utils.computer import create_gpu_cluster\n",
        "from azure.ai.ml.entities import Model\n",
        "from azure.ai.ml.constants import AssetTypes\n",
        "from azure.ai.ml.entities import AzureBlobDatastore\n",
        "from azure.ai.ml.entities import AccountKeyConfiguration\n",
        "from  dotenv import load_dotenv"
      ]
    },
    {
      "cell_type": "code",
      "execution_count": null,
      "id": "020c4f6c-6385-4152-93d1-e9a1e63fe6cd",
      "metadata": {
        "gather": {
          "logged": 1750694712190
        }
      },
      "outputs": [],
      "source": [
        "from time import sleep\n",
        "from azure.ai.ml import MLClient, Input\n",
        "from azure.ai.ml.entities import (\n",
        "    BatchEndpoint,\n",
        "    ModelBatchDeployment,\n",
        "    ModelBatchDeploymentSettings,\n",
        "    Model,\n",
        "    AmlCompute,\n",
        "    BatchRetrySettings,\n",
        "    CodeConfiguration,\n",
        "    Environment,\n",
        ")\n",
        "from azure.ai.ml.constants import AssetTypes, BatchDeploymentOutputAction\n",
        "from azure.identity import DefaultAzureCredential\n",
        "from azure.ai.ml.entities import Data\n",
        "from azure.ai.ml.constants import AssetTypes\n",
        "import os"
      ]
    },
    {
      "cell_type": "code",
      "execution_count": null,
      "id": "ef808ee6-2936-40bb-8b80-7d6331b27ceb",
      "metadata": {
        "gather": {
          "logged": 1750694715431
        }
      },
      "outputs": [],
      "source": [
        "subscription_id = \"b8d6d487-0bd2-4773-b318-12ab763ed178\"\n",
        "resource_group = \"strategicai-rg-uks-dev-01\"\n",
        "workspace = \"strategicai-mlw-uks-dev-01\""
      ]
    },
    {
      "cell_type": "code",
      "execution_count": null,
      "id": "fe4024e6-9724-4d55-bd57-6623b7259c74",
      "metadata": {
        "gather": {
          "logged": 1750694718441
        }
      },
      "outputs": [],
      "source": [
        "from dotenv import load_dotenv\n",
        "load_dotenv()"
      ]
    },
    {
      "cell_type": "code",
      "execution_count": null,
      "id": "15617ae7-8d6f-4aae-a5b1-d8e374bcbdc4",
      "metadata": {
        "gather": {
          "logged": 1750694723661
        }
      },
      "outputs": [],
      "source": [
        "DefaultAzureCredential()"
      ]
    },
    {
      "cell_type": "code",
      "execution_count": null,
      "id": "be0a046f-706d-45dd-a23b-49c0a79f5304",
      "metadata": {
        "gather": {
          "logged": 1750694727943
        }
      },
      "outputs": [],
      "source": [
        "ml_client = MLClient(\n",
        "    DefaultAzureCredential(), subscription_id, resource_group, workspace\n",
        ")"
      ]
    },
    {
      "cell_type": "code",
      "execution_count": null,
      "id": "733ce744-1a31-4b91-a0c9-5e6a785c9a07",
      "metadata": {
        "gather": {
          "logged": 1750694736530
        }
      },
      "outputs": [],
      "source": [
        "ml_client"
      ]
    },
    {
      "cell_type": "code",
      "execution_count": null,
      "id": "a1f35a0c-44b0-406b-b7aa-bb31278945b1",
      "metadata": {
        "gather": {
          "logged": 1750673771997
        }
      },
      "outputs": [],
      "source": [
        "# https://strategicaistuksdev01.blob.core.windows.net/landing/weekly_refresh_data/\n",
        "# Set the version number of the data asset (for example: '1')\n",
        "VERSION = \"1\"\n",
        "\n",
        "# Set the path, supported paths include:\n",
        "# local: './<path>/<file>' (this will be automatically uploaded to cloud storage)\n",
        "# blob:  'wasbs://<container_name>@<account_name>.blob.core.windows.net/<path>/<file>'\n",
        "# ADLS gen2: 'abfss://<file_system>@<account_name>.dfs.core.windows.net/<path>/<file>'\n",
        "# Datastore: 'azureml://datastores/<data_store_name>/paths/<path>/<file>'\n",
        "path = 'azureml://datastores/csm_data_default/paths/weekly_refresh_data'"
      ]
    },
    {
      "cell_type": "code",
      "execution_count": null,
      "id": "90427d10-0e88-4cfb-98c9-b17fae769ec5",
      "metadata": {
        "gather": {
          "logged": 1750427250242
        }
      },
      "outputs": [],
      "source": [
        "# # Define the Data asset object\n",
        "# my_data = Data(\n",
        "#     path=path,\n",
        "#     type=AssetTypes.URI_FOLDER,\n",
        "#     description=\"CSM refresh weekly\",\n",
        "#     name=\"weekly\",\n",
        "#     version=VERSION,\n",
        "# )\n",
        "\n",
        "# # Create the data asset in the workspace\n",
        "# ml_client.data.create_or_update(my_data)"
      ]
    },
    {
      "cell_type": "code",
      "execution_count": null,
      "id": "8cef0099-c76a-4166-aeff-24b47bbda4be",
      "metadata": {
        "gather": {
          "logged": 1750681397830
        }
      },
      "outputs": [],
      "source": [
        "import os\n",
        "\n",
        "dependencies_dir = \"./env\"\n",
        "os.makedirs(dependencies_dir, exist_ok=True)"
      ]
    },
    {
      "cell_type": "code",
      "execution_count": null,
      "id": "cd3774b2-7001-45b1-aae6-0866f7802422",
      "metadata": {
        "gather": {
          "logged": 1750696066263
        }
      },
      "outputs": [],
      "source": [
        "from azure.ai.ml.entities import Environment\n",
        "# mcr.microsoft.com/azureml/openmpi5.0-ubuntu24.04:20250601.v1\n",
        "custom_env_name = \"csm-env\"\n",
        "try:\n",
        "    job_env = ml_client.environments.get(name=custom_env_name,version=\"7\")\n",
        "except:\n",
        "    job_env = Environment(\n",
        "        name=custom_env_name,\n",
        "        description=\"Custom environment for csm hpi\",\n",
        "        conda_file=os.path.join(dependencies_dir, \"conda.yaml\"),\n",
        "        image=\"mcr.microsoft.com/azureml/openmpi5.0-ubuntu24.04:20250601.v1\",\n",
        "    )\n",
        "    job_env = ml_client.environments.create_or_update(job_env)\n",
        "\n",
        "print(\n",
        "    f\"Environment with name {job_env.name} is registered to workspace, the environment version is {job_env.version}\"\n",
        ")"
      ]
    },
    {
      "cell_type": "code",
      "execution_count": null,
      "id": "c5e5ea44-f687-4334-b97d-89945a36e157",
      "metadata": {
        "gather": {
          "logged": 1750676521812
        }
      },
      "outputs": [],
      "source": [
        "# uri = \"https://strategicaistuksdev01.blob.core.windows.net/landing/weekly_refresh_data/speaker_exports/BVA24_session_export.csv\"\n",
        "# uri = \"https://strategicaistuksdev02.blob.core.windows.net/azureml/landing/weekly_refresh_data/speaker_exports/BVA24_session_export.csv\""
      ]
    },
    {
      "cell_type": "code",
      "execution_count": null,
      "id": "8fbb5e44-63c0-4a72-bc57-9d36a3ac77d3",
      "metadata": {
        "gather": {
          "logged": 1750696078705
        }
      },
      "outputs": [],
      "source": [
        "from azure.ai.ml import command, Input, MLClient\n",
        "from azure.ai.ml.entities import Data, UserIdentityConfiguration, ManagedIdentityConfiguration\n",
        "from azure.ai.ml.constants import AssetTypes, InputOutputModes\n",
        "from azure.identity import DefaultAzureCredential"
      ]
    },
    {
      "cell_type": "code",
      "execution_count": null,
      "id": "407e107b-727a-4ffe-bda1-d7b364dec93b",
      "metadata": {
        "gather": {
          "logged": 1750681406108
        }
      },
      "outputs": [],
      "source": [
        "path = \"wasbs://landing@strategicaistuksdev01.blob.core.windows.net/weekly_refresh_data/speaker_exports/BVA24_session_export.csv\"\n",
        "path = \"wasbs://azureml@strategicaistuksdev02.blob.core.windows.net/landing/weekly_refresh_data/speaker_exports/BVA24_session_export.csv\""
      ]
    },
    {
      "cell_type": "code",
      "execution_count": null,
      "id": "504a63f0-391a-4ff2-a108-f312f1f96c64",
      "metadata": {
        "gather": {
          "logged": 1750696080832
        }
      },
      "outputs": [],
      "source": [
        "data_type = AssetTypes.URI_FILE\n",
        "mode = InputOutputModes.RO_MOUNT"
      ]
    },
    {
      "cell_type": "code",
      "execution_count": null,
      "id": "e2e66e2a-a720-4d14-ad16-aab0962062ca",
      "metadata": {
        "gather": {
          "logged": 1750696082487
        }
      },
      "outputs": [],
      "source": [
        "os.getenv('AZURE_CLIENT_ID')"
      ]
    },
    {
      "cell_type": "code",
      "execution_count": null,
      "id": "c4f58ce6-1fd3-410c-91ae-b772bf309217",
      "metadata": {
        "gather": {
          "logged": 1750696121332
        }
      },
      "outputs": [],
      "source": [
        "identity = ManagedIdentityConfiguration(principal_id=os.getenv('AZURE_CLIENT_ID'))\n",
        "uri = \"azureml://subscriptions/b8d6d487-0bd2-4773-b318-12ab763ed178/resourcegroups/strategicai-rg-uks-dev-01/workspaces/strategicai-mlw-uks-dev-01/datastores/azureml_landing\"\n",
        "\n",
        "# identity = UserIdentityConfiguration()\n",
        "# Set the input for the job:\n",
        "inputs = {\n",
        "    \"input_data\": \"azureml_landing_data\"\n",
        "}\n",
        "inputs = {\n",
        "    \"uri\": uri,\n",
        "    \"post_event_process\": \"yes\",\n",
        "    \"include_previous_scan_data\": \"no\"\n",
        "}"
      ]
    },
    {
      "cell_type": "code",
      "execution_count": null,
      "id": "5813587b-6e4f-4c5b-8b42-22676ec0e82b",
      "metadata": {
        "gather": {
          "logged": 1750696126163
        }
      },
      "outputs": [],
      "source": [
        "\n",
        "\n",
        "job = command(\n",
        "    code=\"./prep_dataset\",  # local path where the code is stored\n",
        "    command=\"python main.py --uri ${{inputs.uri}} --post_event_process ${{inputs.post_event_process}} --include_previous_scan_data ${{inputs.include_previous_scan_data}}\",\n",
        "    inputs=inputs,\n",
        "    environment=f\"{job_env.name}:{job_env.version}\",\n",
        "    compute=\"cpu-cluster\",\n",
        "    identity=identity,\n",
        "    is_deterministic=False,\n",
        ")\n",
        "    # description,\n",
        "    # experiment_name\n"
      ]
    },
    {
      "cell_type": "code",
      "execution_count": null,
      "id": "b100cc27-5e42-4fb6-a5b5-5b3913d640df",
      "metadata": {
        "gather": {
          "logged": 1750696173776
        }
      },
      "outputs": [],
      "source": [
        "prep_dataset_yaml = job._to_yaml()"
      ]
    },
    {
      "cell_type": "code",
      "execution_count": null,
      "id": "a1cd1be0-6df1-42d7-8adf-78236bcaaef7",
      "metadata": {
        "gather": {
          "logged": 1750696197491
        }
      },
      "outputs": [],
      "source": [
        "\n",
        "\n",
        "# Submit the command\n",
        "ml_client.jobs.create_or_update(job)"
      ]
    }
  ],
  "metadata": {
    "kernel_info": {
      "name": "python310-sdkv2"
    },
    "kernelspec": {
      "display_name": "Python 3.10 - SDK v2",
      "language": "python",
      "name": "python310-sdkv2"
    },
    "language_info": {
      "codemirror_mode": {
        "name": "ipython",
        "version": 3
      },
      "file_extension": ".py",
      "mimetype": "text/x-python",
      "name": "python",
      "nbconvert_exporter": "python",
      "pygments_lexer": "ipython3",
      "version": "3.10.16"
    },
    "microsoft": {
      "host": {
        "AzureML": {
          "notebookHasBeenCompleted": true
        }
      },
      "ms_spell_check": {
        "ms_spell_check_language": "en"
      }
    },
    "nteract": {
      "version": "nteract-front-end@1.0.0"
    }
  },
  "nbformat": 4,
  "nbformat_minor": 5
}
