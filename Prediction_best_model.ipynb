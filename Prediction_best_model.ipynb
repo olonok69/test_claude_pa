{
 "cells": [
  {
   "cell_type": "code",
   "execution_count": null,
   "id": "f78a24fa-0be4-4724-a081-59b9251c6c45",
   "metadata": {},
   "outputs": [],
   "source": [
    "import mlflow\n",
    "import mlflow.prophet\n",
    "import pandas as pd\n",
    "import numpy as np\n",
    "from prophet import Prophet\n",
    "from prophet.diagnostics import cross_validation, performance_metrics\n",
    "from dotenv import load_dotenv\n",
    "import datetime\n",
    "# Load environment variables from .env file\n",
    "load_dotenv()\n",
    "\n",
    "\n",
    "experiment_name = \"/Users/j.huertas@closerstillmedia.com/prophet\"\n",
    "try:\n",
    "    mlflow.create_experiment(experiment_name)\n",
    "except:\n",
    "    print(\"experiment exists\")\n",
    "mlflow.set_experiment(experiment_name)"
   ]
  },
  {
   "cell_type": "markdown",
   "id": "35c9a223-63c1-4adc-a5f7-2123e97d21c2",
   "metadata": {},
   "source": [
    "# Model Loading and Prediction"
   ]
  },
  {
   "cell_type": "code",
   "execution_count": null,
   "id": "ddfd73f2-06a4-48df-9af5-95e81581f3eb",
   "metadata": {},
   "outputs": [],
   "source": [
    "def load_and_predict_prophet_model(model_uri, future_periods=30):\n",
    "    \"\"\"Load Prophet model and generate predictions.\"\"\"\n",
    "\n",
    "    # Load model\n",
    "    loaded_model = mlflow.prophet.load_model(model_uri)\n",
    "\n",
    "    # Generate future dataframe\n",
    "    future = loaded_model.make_future_dataframe(periods=future_periods)\n",
    "\n",
    "    # Add any required regressors or caps\n",
    "    if hasattr(loaded_model, \"extra_regressors\") and loaded_model.extra_regressors:\n",
    "        # You would need to provide values for external regressors\n",
    "        # This is a simplified example\n",
    "        for regressor in loaded_model.extra_regressors:\n",
    "            future[regressor] = np.random.normal(1000, 100, len(future))\n",
    "\n",
    "    if loaded_model.growth == \"logistic\":\n",
    "        future[\"cap\"] = 10000  # Set appropriate capacity\n",
    "\n",
    "    # Generate predictions\n",
    "    forecast = loaded_model.predict(future)\n",
    "\n",
    "    return forecast, loaded_model\n",
    "\n",
    "\n",
    "# Usage\n",
    "run_id = \"1655d93c38a4421cb6aa50a49c28e127\"\n",
    "model_uri = f\"runs:/{run_id}/best_model\"\n",
    "predictions, loaded_model = load_and_predict_prophet_model(model_uri, future_periods=365)"
   ]
  },
  {
   "cell_type": "code",
   "execution_count": null,
   "id": "e4ab5f3b-a8c8-4a05-a8b8-da9f60c66b2f",
   "metadata": {},
   "outputs": [],
   "source": [
    "predictions.head()"
   ]
  },
  {
   "cell_type": "code",
   "execution_count": null,
   "id": "52a04aca-3e8a-4ac3-8d1d-add764e4fb4e",
   "metadata": {},
   "outputs": [],
   "source": [
    "loaded_model.plot(predictions)"
   ]
  },
  {
   "cell_type": "code",
   "execution_count": null,
   "id": "9c3b3ca0-4e8c-4d7f-91c9-252588afd9b9",
   "metadata": {},
   "outputs": [],
   "source": [
    "loaded_model.plot_components(predictions)"
   ]
  },
  {
   "cell_type": "markdown",
   "id": "f01a3278-2dbb-41c2-a13c-309d7e5264eb",
   "metadata": {},
   "source": [
    "# Production Deployment Patterns"
   ]
  },
  {
   "cell_type": "code",
   "execution_count": null,
   "id": "26523439-1766-4c12-8556-c2dbc20ea06e",
   "metadata": {},
   "outputs": [],
   "source": [
    "class ProphetForecaster:\n",
    "    \"\"\"Production-ready Prophet forecaster class.\"\"\"\n",
    "\n",
    "    def __init__(self, model_uri):\n",
    "        self.model_uri = model_uri\n",
    "        self.model = None\n",
    "        self.last_training_date = None\n",
    "\n",
    "    def load_model(self):\n",
    "        \"\"\"Load the Prophet model.\"\"\"\n",
    "        self.model = mlflow.prophet.load_model(self.model_uri)\n",
    "        if hasattr(self.model, \"history\"):\n",
    "            self.last_training_date = self.model.history[\"ds\"].max()\n",
    "\n",
    "    def predict(self, periods=30, frequency=\"D\", include_history=False):\n",
    "        \"\"\"Generate predictions.\"\"\"\n",
    "        if self.model is None:\n",
    "            self.load_model()\n",
    "\n",
    "        # Generate future dataframe\n",
    "        future = self.model.make_future_dataframe(\n",
    "            periods=periods, freq=frequency, include_history=include_history\n",
    "        )\n",
    "\n",
    "        # Handle logistic growth\n",
    "        if self.model.growth == \"logistic\":\n",
    "            future[\"cap\"] = future.get(\"cap\", 10000)  # Default capacity\n",
    "\n",
    "        # Generate forecast\n",
    "        forecast = self.model.predict(future)\n",
    "\n",
    "        # Return relevant columns\n",
    "        columns = [\"ds\", \"yhat\", \"yhat_lower\", \"yhat_upper\"]\n",
    "        if not include_history:\n",
    "            # Return only future predictions\n",
    "            forecast = forecast.tail(periods)\n",
    "\n",
    "        return forecast[columns]\n",
    "        \n",
    "    def predict_full(self, periods=30, frequency=\"D\", include_history=False):\n",
    "        \"\"\"Generate predictions.\"\"\"\n",
    "        if self.model is None:\n",
    "            self.load_model()\n",
    "\n",
    "        # Generate future dataframe\n",
    "        future = self.model.make_future_dataframe(\n",
    "            periods=periods, freq=frequency, include_history=include_history\n",
    "        )\n",
    "\n",
    "        # Handle logistic growth\n",
    "        if self.model.growth == \"logistic\":\n",
    "            future[\"cap\"] = future.get(\"cap\", 10000)  # Default capacity\n",
    "\n",
    "        # Generate forecast\n",
    "        forecast = self.model.predict(future)\n",
    "\n",
    "        if not include_history:\n",
    "            # Return only future predictions\n",
    "            forecast = forecast.tail(periods)\n",
    "\n",
    "        return forecast\n",
    "    def get_components(self, periods=30):\n",
    "        \"\"\"Get forecast components.\"\"\"\n",
    "        if self.model is None:\n",
    "            self.load_model()\n",
    "\n",
    "        future = self.model.make_future_dataframe(periods=periods)\n",
    "        if self.model.growth == \"logistic\":\n",
    "            future[\"cap\"] = future.get(\"cap\", 10000)\n",
    "\n",
    "        forecast = self.model.predict(future)\n",
    "\n",
    "        # Extract components\n",
    "        components = {}\n",
    "        for component in [\"trend\", \"yearly\", \"weekly\"]:\n",
    "            if component in forecast.columns:\n",
    "                components[component] = forecast[[\"ds\", component]].tail(periods)\n",
    "\n",
    "        return components\n",
    "\n",
    "    def check_model_freshness(self, current_date=None):\n",
    "        \"\"\"Check if model needs retraining.\"\"\"\n",
    "        if current_date is None:\n",
    "            current_date = pd.Timestamp.now()\n",
    "\n",
    "        if self.last_training_date is None:\n",
    "            return False, \"No training date available\"\n",
    "\n",
    "        days_since_training = (current_date - self.last_training_date).days\n",
    "\n",
    "        # Define freshness threshold (e.g., 30 days)\n",
    "        freshness_threshold = 30\n",
    "\n",
    "        is_fresh = days_since_training < freshness_threshold\n",
    "        message = f\"Model is {days_since_training} days old\"\n",
    "\n",
    "        return is_fresh, message\n",
    "\n",
    "\n",
    "# Usage\n",
    "forecaster = ProphetForecaster(model_uri)\n",
    "predictions = forecaster.predict(periods=90)\n",
    "components = forecaster.get_components(periods=90)\n",
    "predictions_full = forecaster.predict_full(periods=90)\n",
    "is_fresh, message = forecaster.check_model_freshness()"
   ]
  },
  {
   "cell_type": "code",
   "execution_count": null,
   "id": "3428c86f-4252-4f84-9b77-1649db78617b",
   "metadata": {},
   "outputs": [],
   "source": [
    "predictions.head()"
   ]
  },
  {
   "cell_type": "code",
   "execution_count": null,
   "id": "d5d06504-0272-423b-85e9-dbc420db222b",
   "metadata": {},
   "outputs": [],
   "source": [
    "forecaster.model.plot(predictions)"
   ]
  },
  {
   "cell_type": "code",
   "execution_count": null,
   "id": "faeb8939-9baa-43a6-8337-dee85457a7c9",
   "metadata": {},
   "outputs": [],
   "source": [
    "components.keys()"
   ]
  },
  {
   "cell_type": "code",
   "execution_count": null,
   "id": "625a32bb-f84b-4ef2-a935-ae3dd336b5ad",
   "metadata": {},
   "outputs": [],
   "source": [
    "forecaster.model.plot(predictions_full)"
   ]
  },
  {
   "cell_type": "code",
   "execution_count": null,
   "id": "c101635b-07f2-46ae-a18d-4c101870f45e",
   "metadata": {},
   "outputs": [],
   "source": [
    "forecaster.model.plot_components(predictions_full)"
   ]
  },
  {
   "cell_type": "markdown",
   "id": "ba281807-49f5-4f99-ae7d-1ef9c0e6c390",
   "metadata": {},
   "source": [
    "# Batch Prediction Pipeline"
   ]
  },
  {
   "cell_type": "code",
   "execution_count": null,
   "id": "b0e19c0b-24bc-47d3-a324-6efe63a2c960",
   "metadata": {},
   "outputs": [],
   "source": [
    "def batch_prophet_predictions(model_uri):\n",
    "    \"\"\"Run batch predictions for multiple time series.\"\"\"\n",
    "\n",
    "    with mlflow.start_run(run_name=\"Batch Prophet Predictions\"):\n",
    "        # Load production model\n",
    "\n",
    "        model = mlflow.prophet.load_model(model_uri)\n",
    "\n",
    "        # Generate predictions for different horizons\n",
    "        horizons = [30, 90, 365]  # Days\n",
    "        predictions = {}\n",
    "\n",
    "        for horizon in horizons:\n",
    "            future = model.make_future_dataframe(periods=horizon)\n",
    "            if model.growth == \"logistic\":\n",
    "                future[\"cap\"] = 10000  # Set capacity\n",
    "\n",
    "            forecast = model.predict(future)\n",
    "\n",
    "            # Store predictions\n",
    "            predictions[f\"{horizon}_days\"] = forecast[\n",
    "                [\"ds\", \"yhat\", \"yhat_lower\", \"yhat_upper\"]\n",
    "            ].tail(horizon)\n",
    "\n",
    "            # Log prediction summary\n",
    "            pred_summary = {\n",
    "                f\"{horizon}d_mean_forecast\": forecast[\"yhat\"].tail(horizon).mean(),\n",
    "                f\"{horizon}d_forecast_range\": forecast[\"yhat\"].tail(horizon).max()\n",
    "                - forecast[\"yhat\"].tail(horizon).min(),\n",
    "            }\n",
    "            mlflow.log_metrics(pred_summary)\n",
    "\n",
    "        # Save predictions as artifacts\n",
    "        for horizon, pred_df in predictions.items():\n",
    "            filename = f\"predictions_{horizon}.csv\"\n",
    "            pred_df.to_csv(filename, index=False)\n",
    "            mlflow.log_artifact(filename)\n",
    "\n",
    "        # Log batch prediction metadata\n",
    "        mlflow.log_params(\n",
    "            {\n",
    "                \"model_uri\": model_uri,\n",
    "                \"prediction_date\": pd.Timestamp.now().isoformat(),\n",
    "                \"horizons\": horizons,\n",
    "            }\n",
    "        )\n",
    "\n",
    "        return predictions"
   ]
  },
  {
   "cell_type": "code",
   "execution_count": null,
   "id": "0ac092c5-1fb4-40ff-ae8a-261728281527",
   "metadata": {},
   "outputs": [],
   "source": [
    "predictions = batch_prophet_predictions(model_uri)"
   ]
  },
  {
   "cell_type": "code",
   "execution_count": null,
   "id": "e1a827bb-963c-4db7-b222-d1c6084186d5",
   "metadata": {},
   "outputs": [],
   "source": []
  }
 ],
 "metadata": {
  "kernelspec": {
   "display_name": "Python 3 (ipykernel)",
   "language": "python",
   "name": "python3"
  },
  "language_info": {
   "codemirror_mode": {
    "name": "ipython",
    "version": 3
   },
   "file_extension": ".py",
   "mimetype": "text/x-python",
   "name": "python",
   "nbconvert_exporter": "python",
   "pygments_lexer": "ipython3",
   "version": "3.12.10"
  }
 },
 "nbformat": 4,
 "nbformat_minor": 5
}
