{
  "cells": [
    {
      "cell_type": "code",
      "source": [
        "from azure.ai.ml import MLClient\n",
        "from azure.identity import ClientSecretCredential\n",
        "from azure.mgmt.storage import StorageManagementClient\n",
        "import os\n",
        "from dotenv import load_dotenv\n",
        "import subprocess\n",
        "import time\n",
        "\n",
        "# Load environment variables\n",
        "load_dotenv()\n",
        "\n",
        "print(\"=\"*60)\n",
        "print(\"FIXING STORAGE AUTHORIZATION ISSUES\")\n",
        "print(\"=\"*60)\n",
        "\n",
        "client_id = os.getenv(\"AZURE_CLIENT_ID\")\n",
        "client_secret = os.getenv(\"AZURE_CLIENT_SECRET\")\n",
        "tenant_id = os.getenv(\"AZURE_TENANT_ID\")\n",
        "subscription_id = os.getenv(\"SUBSCRIPTION_ID\")\n",
        "resource_group = os.getenv(\"RESOURCE_GROUP\")\n",
        "workspace_name = os.getenv(\"AZUREML_WORKSPACE_NAME\")\n",
        "\n",
        "print(f\"Service Principal: {client_id}\")\n",
        "print(f\"Workspace: {workspace_name}\")\n",
        "print()\n",
        "\n",
        "# Create credential\n",
        "credential = ClientSecretCredential(\n",
        "    tenant_id=tenant_id,\n",
        "    client_id=client_id,\n",
        "    client_secret=client_secret\n",
        ")\n",
        "\n",
        "# Initialize ML Client\n",
        "ml_client = MLClient(\n",
        "    credential,\n",
        "    subscription_id=subscription_id,\n",
        "    resource_group_name=resource_group,\n",
        "    workspace_name=workspace_name\n",
        ")\n"
      ],
      "outputs": [
        {
          "output_type": "stream",
          "name": "stdout",
          "text": "============================================================\nFIXING STORAGE AUTHORIZATION ISSUES\n============================================================\nService Principal: e77fcc8e-5551-47b6-a600-1d5633c81e31\nWorkspace: strategicai-mlw-uks-dev-01\n\n"
        }
      ],
      "execution_count": 1,
      "metadata": {
        "gather": {
          "logged": 1756825638923
        }
      }
    },
    {
      "cell_type": "code",
      "source": [
        "# ==============================================================================\n",
        "# FIX 1: Sync Storage Keys (Most Important)\n",
        "# ==============================================================================\n",
        "print(\"🔧 FIX 1: Syncing Storage Keys...\")\n",
        "print(\"-\"*40)\n",
        "print(\"This resolves stale SAS token issues\")\n",
        "print()\n",
        "\n",
        "try:\n",
        "    # Using Azure CLI (most reliable)\n",
        "    result = subprocess.run(\n",
        "        [\"az\", \"ml\", \"workspace\", \"sync-keys\",\n",
        "         \"--resource-group\", resource_group,\n",
        "         \"--workspace-name\", workspace_name],\n",
        "        capture_output=True,\n",
        "        text=True\n",
        "    )\n",
        "    \n",
        "    if result.returncode == 0:\n",
        "        print(\"✅ Storage keys synced successfully!\")\n",
        "        print(\"   Waiting 30 seconds for propagation...\")\n",
        "        time.sleep(30)\n",
        "    else:\n",
        "        print(f\"⚠️ Failed to sync keys via CLI: {result.stderr}\")\n",
        "        print(\"   Try running manually:\")\n",
        "        print(f\"   az ml workspace sync-keys --resource-group {resource_group} --workspace-name {workspace_name}\")\n",
        "        \n",
        "except Exception as e:\n",
        "    print(f\"⚠️ Error syncing keys: {str(e)}\")"
      ],
      "outputs": [
        {
          "output_type": "stream",
          "name": "stdout",
          "text": "🔧 FIX 1: Syncing Storage Keys...\n----------------------------------------\nThis resolves stale SAS token issues\n\n✅ Storage keys synced successfully!\n   Waiting 30 seconds for propagation...\n"
        }
      ],
      "execution_count": 2,
      "metadata": {
        "gather": {
          "logged": 1756825716108
        }
      }
    },
    {
      "cell_type": "code",
      "source": [
        "from azure.ai.ml import MLClient, command, Input, Output\n",
        "from azure.ai.ml.dsl import pipeline\n",
        "from azure.ai.ml.entities import Environment, UserIdentityConfiguration\n",
        "from azure.ai.ml.constants import AssetTypes\n",
        "from azure.identity import ClientSecretCredential\n",
        "import os\n",
        "import subprocess\n",
        "import json\n",
        "from dotenv import load_dotenv\n",
        "from pathlib import Path\n",
        "\n",
        "# Load environment variables\n",
        "load_dotenv()\n",
        "\n",
        "print(\"=\"*60)\n",
        "print(\"STORAGE ACCOUNT CHECK AND PIPELINE SUBMISSION\")\n",
        "print(\"=\"*60)\n",
        "\n",
        "client_id = os.getenv(\"AZURE_CLIENT_ID\")\n",
        "client_secret = os.getenv(\"AZURE_CLIENT_SECRET\")\n",
        "tenant_id = os.getenv(\"AZURE_TENANT_ID\")\n",
        "subscription_id = os.getenv(\"SUBSCRIPTION_ID\")\n",
        "resource_group = os.getenv(\"RESOURCE_GROUP\")\n",
        "workspace_name = os.getenv(\"AZUREML_WORKSPACE_NAME\")\n",
        "\n",
        "# Create credential\n",
        "credential = ClientSecretCredential(\n",
        "    tenant_id=tenant_id,\n",
        "    client_id=client_id,\n",
        "    client_secret=client_secret\n",
        ")\n",
        "\n",
        "# Initialize ML Client\n",
        "ml_client = MLClient(\n",
        "    credential,\n",
        "    subscription_id=subscription_id,\n",
        "    resource_group_name=resource_group,\n",
        "    workspace_name=workspace_name\n",
        ")\n",
        "\n",
        "# ==============================================================================\n",
        "# Check Storage Account Using Azure CLI (More Reliable)\n",
        "# ==============================================================================\n",
        "print(\"🔍 Checking Workspace Storage Configuration...\")\n",
        "print(\"-\"*40)\n",
        "\n",
        "try:\n",
        "    # Use Azure CLI to get workspace details\n",
        "    result = subprocess.run(\n",
        "        [\"az\", \"ml\", \"workspace\", \"show\",\n",
        "         \"--workspace-name\", workspace_name,\n",
        "         \"--resource-group\", resource_group,\n",
        "         \"--query\", \"storage_account\",\n",
        "         \"--output\", \"tsv\"],\n",
        "        capture_output=True,\n",
        "        text=True\n",
        "    )\n",
        "    \n",
        "    if result.returncode == 0:\n",
        "        storage_resource_id = result.stdout.strip()\n",
        "        # Extract storage account name from resource ID\n",
        "        if storage_resource_id:\n",
        "            storage_account_name = storage_resource_id.split('/')[-1]\n",
        "            print(f\"✓ Workspace uses storage account: {storage_account_name}\")\n",
        "            \n",
        "            if storage_account_name != \"strategicaistuksdev02\":\n",
        "                print(f\"\\n⚠️ IMPORTANT: Storage account mismatch!\")\n",
        "                print(f\"   Error message mentions: strategicaistuksdev02\")\n",
        "                print(f\"   But workspace uses: {storage_account_name}\")\n",
        "                print(f\"\\n   Make sure your SP has permissions on '{storage_account_name}':\")\n",
        "                print(f\"\"\"\n",
        "az role assignment create \\\\\n",
        "    --assignee {client_id} \\\\\n",
        "    --role \"Storage Blob Data Contributor\" \\\\\n",
        "    --scope {storage_resource_id}\n",
        "                \"\"\")\n",
        "            else:\n",
        "                print(\"✓ Storage account matches the error message\")\n",
        "    else:\n",
        "        print(f\"Could not get storage account via CLI: {result.stderr}\")\n",
        "        \n",
        "except Exception as e:\n",
        "    print(f\"Error checking via CLI: {str(e)}\")\n",
        "\n",
        "# Alternative method: Check datastores\n",
        "print(\"\\n🔍 Checking Datastores...\")\n",
        "print(\"-\"*40)\n",
        "\n",
        "try:\n",
        "    # List all datastores\n",
        "    datastores = list(ml_client.datastores.list())\n",
        "    print(f\"Found {len(datastores)} datastores:\")\n",
        "    \n",
        "    for ds in datastores:\n",
        "        print(f\"  - {ds.name} (type: {ds.type})\")\n",
        "        \n",
        "        # Try to get more details for blob datastores\n",
        "        if ds.type == \"AzureBlob\":\n",
        "            try:\n",
        "                # Get the full datastore object\n",
        "                full_ds = ml_client.datastores.get(name=ds.name)\n",
        "                \n",
        "                # Try different attribute names (SDK versions vary)\n",
        "                storage_name = None\n",
        "                if hasattr(full_ds, 'account_name'):\n",
        "                    storage_name = full_ds.account_name\n",
        "                elif hasattr(full_ds, 'storage_account_name'):\n",
        "                    storage_name = full_ds.storage_account_name\n",
        "                elif hasattr(full_ds.credentials, 'account_name'):\n",
        "                    storage_name = full_ds.credentials.account_name\n",
        "                    \n",
        "                if storage_name:\n",
        "                    print(f\"    Storage: {storage_name}\")\n",
        "                    if ds.name == \"workspaceblobstore\":\n",
        "                        print(f\"    ^ This is the default datastore\")\n",
        "            except:\n",
        "                pass\n",
        "                \n",
        "except Exception as e:\n",
        "    print(f\"Note: Could not get detailed datastore info: {str(e)}\")\n"
      ],
      "outputs": [
        {
          "output_type": "stream",
          "name": "stdout",
          "text": "============================================================\nSTORAGE ACCOUNT CHECK AND PIPELINE SUBMISSION\n============================================================\n🔍 Checking Workspace Storage Configuration...\n----------------------------------------\n\n🔍 Checking Datastores...\n----------------------------------------\nFound 7 datastores:\n  - landing_pa (type: AzureBlob)\n    Storage: strategicaistuksdev02\n  - azureml_landing (type: AzureBlob)\n    Storage: strategicaistuksdev02\n  - azureml_globaldatasets (type: AzureBlob)\n    Storage: mmstorageuksouth\n  - workspaceworkingdirectory (type: AzureFile)\n  - workspaceblobstore (type: AzureBlob)\n    Storage: strategicaistuksdev02\n    ^ This is the default datastore\n  - workspacefilestore (type: AzureFile)\n  - workspaceartifactstore (type: AzureBlob)\n    Storage: strategicaistuksdev02\n"
        }
      ],
      "execution_count": 7,
      "metadata": {
        "gather": {
          "logged": 1756826057715
        }
      }
    }
  ],
  "metadata": {
    "kernelspec": {
      "name": "python310-sdkv2",
      "language": "python",
      "display_name": "Python 3.10 - SDK v2"
    },
    "language_info": {
      "name": "python",
      "version": "3.10.18",
      "mimetype": "text/x-python",
      "codemirror_mode": {
        "name": "ipython",
        "version": 3
      },
      "pygments_lexer": "ipython3",
      "nbconvert_exporter": "python",
      "file_extension": ".py"
    },
    "microsoft": {
      "ms_spell_check": {
        "ms_spell_check_language": "en"
      }
    },
    "kernel_info": {
      "name": "python310-sdkv2"
    },
    "nteract": {
      "version": "nteract-front-end@1.0.0"
    }
  },
  "nbformat": 4,
  "nbformat_minor": 2
}