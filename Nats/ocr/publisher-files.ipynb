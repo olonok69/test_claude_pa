{
 "cells": [
  {
   "cell_type": "code",
   "execution_count": 40,
   "id": "621d48e8-b4e5-4c19-a904-eed5026f018a",
   "metadata": {},
   "outputs": [],
   "source": [
    "import asyncio\n",
    "import nats\n",
    "from nats.errors import ConnectionClosedError, TimeoutError, NoServersError\n",
    "import os\n",
    "import glob"
   ]
  },
  {
   "cell_type": "code",
   "execution_count": 41,
   "id": "b598ac9f-4eee-4f7c-a7d6-c4f24ca2f54c",
   "metadata": {},
   "outputs": [],
   "source": [
    "# nc = await nats.connect(\"localhost\")\n",
    "# print(\"Maximum payload is %d bytes\" % nc.max_payload)"
   ]
  },
  {
   "cell_type": "code",
   "execution_count": 51,
   "id": "d80ce1b2-056c-4932-a47d-021dafc9a523",
   "metadata": {},
   "outputs": [],
   "source": [
    "async def publish_images_from_folder(nats_url, stream_name, subject, input_folder):\n",
    "    \"\"\"\n",
    "    Publishes all images from a folder to NATS JetStream.\n",
    "    \"\"\"\n",
    "    try:\n",
    "        nc = await nats.connect(nats_url)\n",
    "        js = nc.jetstream()\n",
    "\n",
    "        for file_path in glob.glob(os.path.join(input_folder, \"*\")):\n",
    "            if os.path.isfile(file_path):\n",
    "                filename = os.path.basename(file_path)\n",
    "                with open(file_path, \"rb\") as file:\n",
    "                    image_data = file.read()\n",
    "\n",
    "                await js.publish(subject, image_data, stream=stream_name, headers={\"file-name\": filename})\n",
    "                print(f\"Published image '{filename}' to {subject} in stream {stream_name}\")\n",
    "    except Exception as e:\n",
    "        print(f\"Error publishing images: {e}\")\n",
    "    finally:\n",
    "        await nc.close()\n"
   ]
  },
  {
   "cell_type": "code",
   "execution_count": 56,
   "id": "e7192454-9953-47d3-9b20-42fd26ee6cc6",
   "metadata": {},
   "outputs": [],
   "source": [
    "nats_url = \"nats://localhost:4222\"\n",
    "stream_name = \"IMAGE_STREAM\"\n",
    "subject = \"images.process\"\n",
    "input_folder = \"images\" #Replace with your file path\n",
    "output_folder  = \"output\" #Directory where files will be saved.\n",
    "\n",
    "\n"
   ]
  },
  {
   "cell_type": "code",
   "execution_count": 57,
   "id": "90c2e834-0a72-41a7-a994-421165c67987",
   "metadata": {},
   "outputs": [
    {
     "name": "stdout",
     "output_type": "stream",
     "text": [
      "Published image 'ER_0.jpg' to images.process in stream IMAGE_STREAM\n",
      "Published image 'OCR Test Document IMG_0.gif' to images.process in stream IMAGE_STREAM\n",
      "Published image 'OCR Test Document IMG_1.jpg' to images.process in stream IMAGE_STREAM\n",
      "Published image 'OCR Test Document IMG_2.png' to images.process in stream IMAGE_STREAM\n",
      "Published image 'OCR Test Document IMG_3.tif' to images.process in stream IMAGE_STREAM\n",
      "Published image 'pict001.jpg' to images.process in stream IMAGE_STREAM\n",
      "Published image 'pict001q.jpg' to images.process in stream IMAGE_STREAM\n",
      "Published image 'pict002.jpg' to images.process in stream IMAGE_STREAM\n",
      "Published image 'pict002q.jpg' to images.process in stream IMAGE_STREAM\n",
      "Published image 'pict003-q.jpg' to images.process in stream IMAGE_STREAM\n",
      "Published image 'pict003.jpg' to images.process in stream IMAGE_STREAM\n"
     ]
    }
   ],
   "source": [
    "\n",
    "await publish_images_from_folder(nats_url, stream_name, subject, input_folder)\n",
    "        "
   ]
  },
  {
   "cell_type": "code",
   "execution_count": null,
   "id": "1edc812e-f603-41c9-87f6-2b5909b97b72",
   "metadata": {},
   "outputs": [],
   "source": []
  },
  {
   "cell_type": "code",
   "execution_count": null,
   "id": "363f83df-1927-4287-bc56-4e969c7e0dbe",
   "metadata": {},
   "outputs": [],
   "source": []
  }
 ],
 "metadata": {
  "kernelspec": {
   "display_name": "Python 3 (ipykernel)",
   "language": "python",
   "name": "python3"
  },
  "language_info": {
   "codemirror_mode": {
    "name": "ipython",
    "version": 3
   },
   "file_extension": ".py",
   "mimetype": "text/x-python",
   "name": "python",
   "nbconvert_exporter": "python",
   "pygments_lexer": "ipython3",
   "version": "3.11.11"
  }
 },
 "nbformat": 4,
 "nbformat_minor": 5
}
