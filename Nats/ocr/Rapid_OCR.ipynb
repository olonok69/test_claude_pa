{
 "cells": [
  {
   "cell_type": "code",
   "execution_count": null,
   "id": "8f106f72-3652-4247-b318-5fa38c0f85b2",
   "metadata": {},
   "outputs": [],
   "source": [
    "from rapidocr_onnxruntime import RapidOCR\n",
    "from pathlib import Path\n",
    "import os"
   ]
  },
  {
   "cell_type": "code",
   "execution_count": null,
   "id": "2801e582-352c-4d49-8dc9-d5f3886d0c00",
   "metadata": {},
   "outputs": [],
   "source": [
    "root_dir= Path(os.getcwd())\n",
    "DEFAULT_CFG_PATH = root_dir / \"config.yaml\""
   ]
  },
  {
   "cell_type": "code",
   "execution_count": null,
   "id": "4c46719a-a707-444b-85f4-22af3cc8ffea",
   "metadata": {},
   "outputs": [],
   "source": [
    "# engine = RapidOCR(config_path=DEFAULT_CFG_PATH)"
   ]
  },
  {
   "cell_type": "code",
   "execution_count": null,
   "id": "d2451a7e-b69f-4fe3-841b-5758a6a17a84",
   "metadata": {},
   "outputs": [],
   "source": [
    "results, _ = engine(\"images/ER_0.jpg\")"
   ]
  },
  {
   "cell_type": "code",
   "execution_count": null,
   "id": "04b36c10-c1a7-4a7c-92ff-9a02e697bd77",
   "metadata": {},
   "outputs": [],
   "source": [
    "from docling.document_converter import DocumentConverter"
   ]
  },
  {
   "cell_type": "code",
   "execution_count": null,
   "id": "48da1f32-0a87-49f8-9480-1ca4a35e6bb1",
   "metadata": {},
   "outputs": [],
   "source": [
    "source = \"images/ER_0.jpg\"\n",
    "converter = DocumentConverter()\n",
    "result = converter.convert(source)"
   ]
  },
  {
   "cell_type": "code",
   "execution_count": null,
   "id": "62499775-f946-4b60-8297-f675db8d0eab",
   "metadata": {},
   "outputs": [],
   "source": [
    "print(result.document.export_to_markdown())"
   ]
  },
  {
   "cell_type": "code",
   "execution_count": null,
   "id": "5501073f-ca7f-49c8-b600-51552a0f86a9",
   "metadata": {},
   "outputs": [],
   "source": [
    "source = \"images/OCR Test Document IMG.jpg\"\n",
    "\n",
    "result = converter.convert(source)"
   ]
  },
  {
   "cell_type": "code",
   "execution_count": null,
   "id": "a12a2d74-0714-4083-a8d6-c9b90784cc09",
   "metadata": {},
   "outputs": [],
   "source": [
    "print(result.document.export_to_markdown())"
   ]
  },
  {
   "cell_type": "code",
   "execution_count": null,
   "id": "91e535aa-d4fe-40ad-b7c6-234fb3819eea",
   "metadata": {},
   "outputs": [],
   "source": [
    "print(result.document.export_to_text())"
   ]
  }
 ],
 "metadata": {
  "kernelspec": {
   "display_name": "Python (nats)",
   "language": "python",
   "name": "nats"
  },
  "language_info": {
   "codemirror_mode": {
    "name": "ipython",
    "version": 3
   },
   "file_extension": ".py",
   "mimetype": "text/x-python",
   "name": "python",
   "nbconvert_exporter": "python",
   "pygments_lexer": "ipython3",
   "version": "3.11.11"
  }
 },
 "nbformat": 4,
 "nbformat_minor": 5
}
