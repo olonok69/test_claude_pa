{
 "cells": [
  {
   "cell_type": "code",
   "execution_count": 14,
   "id": "8f106f72-3652-4247-b318-5fa38c0f85b2",
   "metadata": {},
   "outputs": [],
   "source": [
    "from rapidocr_onnxruntime import RapidOCR\n",
    "from pathlib import Path\n",
    "import os"
   ]
  },
  {
   "cell_type": "code",
   "execution_count": 23,
   "id": "2801e582-352c-4d49-8dc9-d5f3886d0c00",
   "metadata": {},
   "outputs": [],
   "source": [
    "root_dir= Path(os.getcwd())\n",
    "DEFAULT_CFG_PATH = root_dir / \"config.yaml\""
   ]
  },
  {
   "cell_type": "code",
   "execution_count": 25,
   "id": "4c46719a-a707-444b-85f4-22af3cc8ffea",
   "metadata": {},
   "outputs": [],
   "source": [
    "# engine = RapidOCR(config_path=DEFAULT_CFG_PATH)"
   ]
  },
  {
   "cell_type": "code",
   "execution_count": 8,
   "id": "d2451a7e-b69f-4fe3-841b-5758a6a17a84",
   "metadata": {},
   "outputs": [],
   "source": [
    "results, _ = engine(\"images/ER_0.jpg\")"
   ]
  },
  {
   "cell_type": "code",
   "execution_count": 2,
   "id": "04b36c10-c1a7-4a7c-92ff-9a02e697bd77",
   "metadata": {},
   "outputs": [],
   "source": [
    "from docling.document_converter import DocumentConverter"
   ]
  },
  {
   "cell_type": "code",
   "execution_count": 3,
   "id": "48da1f32-0a87-49f8-9480-1ca4a35e6bb1",
   "metadata": {},
   "outputs": [
    {
     "name": "stderr",
     "output_type": "stream",
     "text": [
      "Downloading detection model, please wait. This may take several minutes depending upon your network connection.\n",
      "Downloading recognition model, please wait. This may take several minutes depending upon your network connection.\n"
     ]
    }
   ],
   "source": [
    "source = \"images/ER_0.jpg\"\n",
    "converter = DocumentConverter()\n",
    "result = converter.convert(source)"
   ]
  },
  {
   "cell_type": "code",
   "execution_count": 4,
   "id": "62499775-f946-4b60-8297-f675db8d0eab",
   "metadata": {},
   "outputs": [
    {
     "name": "stdout",
     "output_type": "stream",
     "text": [
      "<!-- image -->\n",
      "\n",
      "## Study College\n",
      "\n",
      "## Evidence Record\n",
      "\n",
      "| Learner name             | Olena Nazarenko   |\n",
      "|--------------------------|-------------------|\n",
      "| Student number           | 202305C307036     |\n",
      "| Work place assessor name | N Russell         |\n",
      "| Date                     | 7.03              |\n",
      "\n",
      "## Method of Assessment\n",
      "\n",
      "| Direct observation           | Reflection on own practice   |\n",
      "|------------------------------|------------------------------|\n",
      "| Question and answer          | Professional discussion      |\n",
      "| Other (please specify below) |                              |\n",
      "\n",
      "| Recording Evidence                                                                                                                                                                                                                                                                                                                                                                                                                                                                                                                                                                                                                                                                                                                                                                                                                                                                                                                                                                                                                                                                                                                                                                                                                                                                                               | Unit   | Assessment Criteria   |\n",
      "|------------------------------------------------------------------------------------------------------------------------------------------------------------------------------------------------------------------------------------------------------------------------------------------------------------------------------------------------------------------------------------------------------------------------------------------------------------------------------------------------------------------------------------------------------------------------------------------------------------------------------------------------------------------------------------------------------------------------------------------------------------------------------------------------------------------------------------------------------------------------------------------------------------------------------------------------------------------------------------------------------------------------------------------------------------------------------------------------------------------------------------------------------------------------------------------------------------------------------------------------------------------------------------------------------------------|--------|-----------------------|\n",
      "| Last week worked with a SEN child 1.1. One he refused to do his math work on the iPad and tried to download games instead. He did not want to give the iPad back and tried to hit me. Finally took the iPad away and explained to him that he could that iPad for playing only at playtime when he finished his work. When this heard this, he angry and began to throw pencils, books; and paper everywhere; screaming loudly. did not give him any reaction and said quietly \"no Then | brought him to the SEN room. There | could manage to switch his attention and gave him a new fidget Next week he started Monday with math work on the iPad and did not to play again. Meanwhile, another SEN child tried to leave the classroom two times, saying that he intended to help. had and look at him. He could catch my sight and returned to the classroom. The child N?1 was struggling with English task and, finally, the coat on the floor and down on it. The teacher and ignored this behaviour and left him alone. Later | explained to him that if he showed that behaviour again, would take his star from his behaviour chart away. The child understood the consequences and up in 2 min. He tried to throw his coat away, but | did not show any reaction. day get boy got toy try put lay got |        |                       |\n"
     ]
    }
   ],
   "source": [
    "print(result.document.export_to_markdown())"
   ]
  },
  {
   "cell_type": "code",
   "execution_count": 6,
   "id": "5501073f-ca7f-49c8-b600-51552a0f86a9",
   "metadata": {},
   "outputs": [],
   "source": [
    "source = \"images/OCR Test Document IMG.jpg\"\n",
    "\n",
    "result = converter.convert(source)"
   ]
  },
  {
   "cell_type": "code",
   "execution_count": 7,
   "id": "a12a2d74-0714-4083-a8d6-c9b90784cc09",
   "metadata": {},
   "outputs": [
    {
     "name": "stdout",
     "output_type": "stream",
     "text": [
      "## OCR Test Document\n",
      "\n",
      "First Name:\n",
      "\n",
      "Joe\n",
      "\n",
      "Last Name:\n",
      "\n",
      "Mosher\n",
      "\n",
      "Date:\n",
      "\n",
      "04/04/2025\n",
      "\n",
      "Address:\n",
      "\n",
      "22 Test Street\n",
      "\n",
      "Anytown\n",
      "\n",
      "State / Zip:\n",
      "\n",
      "PA 17171\n",
      "\n",
      "City:\n",
      "\n",
      "Description:\n",
      "\n",
      "purpose of testing OCR accuracy and timing with tab-aligned data fields; table aligned date, and free-form text.  This document will be saved as a Word doc and both a text- and image- PDF; image formats such as BMP and PNG; etc.\n",
      "\n",
      "## Test Table\n",
      "\n",
      "| FIELD NAME   | FIELD VALUE                                                                                                                                                                                    |\n",
      "|--------------|------------------------------------------------------------------------------------------------------------------------------------------------------------------------------------------------|\n",
      "| Test Field A | Test value A is a free-form text paragraph contained within a table cell. The font is Aptos 11 pt, which is the default for Microsoft Word .                                                   |\n",
      "| Test Field B | The information in the table cell for value B is a pasted image of text from Microsoft Paint with a font of Arial 11 pt The font color is blue_                                                |\n",
      "| Test Field C | The test value Cin the table consists of text in various fonts and colors. line in Courier New 11 pt Green This line in Iimes Newv Roman 1l pt Duk Red This line in Tahoma 11 pt Bold in Black |\n",
      "\n",
      "## Test Text\n",
      "\n",
      "This section contains the same paragraph of text repeated multiple times, switching between various common fonts and sizes, with some information italicized and some information in bold , to determine how the OCR engine processes the variations.\n",
      "\n",
      "the of text betwee fozts with 5915 izforatioz italicized some information in bold, to determine the the\n",
      "\n",
      "This section contains the same paragraph of text repeated multiple times , switching between various common fonts and sizes, with some information italicized and some information in bold, to determine how the OCR engine processes the variations .\n",
      "\n",
      "Ihis section contains the same paragraph of text repeated multiple times; swvitching betwveen various common fonts and sizes: Wvith fome information italicized and some information in bold, to determine how the OCR engine processes the variations\n",
      "\n",
      "This section contains the same paragraph of text repeated multiple times, switching between various common fonts and sizes, with some information italicized and some information in bold; to determine how the OCR engine processes the variations.\n",
      "\n",
      "This section contains the same paragraph of text repeated multiple times , switching between various common fonts and sizes, with some information italicized and some information in bold, to determine how the OCR engine processes the variations.\n",
      "\n",
      "And finally some lines in less common fonts and sizes:\n",
      "\n",
      "This line in Book Antiqua 12 pt with some italics and some bold text\n",
      "\n",
      "Of course there has to be a line in Comic Sans , 1l pt, with italics and with bold\n",
      "\n",
      "## This is hcw we dc it cn Ercadway (12 pt)\n",
      "\n",
      "Segoe UI (12 pt) is uncommon but a fairly clear and simple font\n",
      "\n",
      "And Segoe Ul in 10 pt with itolicized portions and portions in bold\n",
      "\n",
      "And finally Verdana in 10 Verdana in 11 pt, and Verdana in 12 pt\n"
     ]
    }
   ],
   "source": [
    "print(result.document.export_to_markdown())"
   ]
  },
  {
   "cell_type": "code",
   "execution_count": 8,
   "id": "91e535aa-d4fe-40ad-b7c6-234fb3819eea",
   "metadata": {},
   "outputs": [
    {
     "name": "stderr",
     "output_type": "stream",
     "text": [
      "Parameter `strict_text` has been deprecated and will be ignored.\n"
     ]
    },
    {
     "name": "stdout",
     "output_type": "stream",
     "text": [
      "## OCR Test Document\n",
      "\n",
      "First Name:\n",
      "\n",
      "Joe\n",
      "\n",
      "Last Name:\n",
      "\n",
      "Mosher\n",
      "\n",
      "Date:\n",
      "\n",
      "04/04/2025\n",
      "\n",
      "Address:\n",
      "\n",
      "22 Test Street\n",
      "\n",
      "Anytown\n",
      "\n",
      "State / Zip:\n",
      "\n",
      "PA 17171\n",
      "\n",
      "City:\n",
      "\n",
      "Description:\n",
      "\n",
      "purpose of testing OCR accuracy and timing with tab-aligned data fields; table aligned date, and free-form text.  This document will be saved as a Word doc and both a text- and image- PDF; image formats such as BMP and PNG; etc.\n",
      "\n",
      "## Test Table\n",
      "\n",
      "| FIELD NAME   | FIELD VALUE                                                                                                                                                                                    |\n",
      "|--------------|------------------------------------------------------------------------------------------------------------------------------------------------------------------------------------------------|\n",
      "| Test Field A | Test value A is a free-form text paragraph contained within a table cell. The font is Aptos 11 pt, which is the default for Microsoft Word .                                                   |\n",
      "| Test Field B | The information in the table cell for value B is a pasted image of text from Microsoft Paint with a font of Arial 11 pt The font color is blue_                                                |\n",
      "| Test Field C | The test value Cin the table consists of text in various fonts and colors. line in Courier New 11 pt Green This line in Iimes Newv Roman 1l pt Duk Red This line in Tahoma 11 pt Bold in Black |\n",
      "\n",
      "## Test Text\n",
      "\n",
      "This section contains the same paragraph of text repeated multiple times, switching between various common fonts and sizes, with some information italicized and some information in bold , to determine how the OCR engine processes the variations.\n",
      "\n",
      "the of text betwee fozts with 5915 izforatioz italicized some information in bold, to determine the the\n",
      "\n",
      "This section contains the same paragraph of text repeated multiple times , switching between various common fonts and sizes, with some information italicized and some information in bold, to determine how the OCR engine processes the variations .\n",
      "\n",
      "Ihis section contains the same paragraph of text repeated multiple times; swvitching betwveen various common fonts and sizes: Wvith fome information italicized and some information in bold, to determine how the OCR engine processes the variations\n",
      "\n",
      "This section contains the same paragraph of text repeated multiple times, switching between various common fonts and sizes, with some information italicized and some information in bold; to determine how the OCR engine processes the variations.\n",
      "\n",
      "This section contains the same paragraph of text repeated multiple times , switching between various common fonts and sizes, with some information italicized and some information in bold, to determine how the OCR engine processes the variations.\n",
      "\n",
      "And finally some lines in less common fonts and sizes:\n",
      "\n",
      "This line in Book Antiqua 12 pt with some italics and some bold text\n",
      "\n",
      "Of course there has to be a line in Comic Sans , 1l pt, with italics and with bold\n",
      "\n",
      "## This is hcw we dc it cn Ercadway (12 pt)\n",
      "\n",
      "Segoe UI (12 pt) is uncommon but a fairly clear and simple font\n",
      "\n",
      "And Segoe Ul in 10 pt with itolicized portions and portions in bold\n",
      "\n",
      "And finally Verdana in 10 Verdana in 11 pt, and Verdana in 12 pt\n"
     ]
    }
   ],
   "source": [
    "print(result.document.export_to_text())"
   ]
  }
 ],
 "metadata": {
  "kernelspec": {
   "display_name": "Python (nats)",
   "language": "python",
   "name": "nats"
  },
  "language_info": {
   "codemirror_mode": {
    "name": "ipython",
    "version": 3
   },
   "file_extension": ".py",
   "mimetype": "text/x-python",
   "name": "python",
   "nbconvert_exporter": "python",
   "pygments_lexer": "ipython3",
   "version": "3.11.11"
  }
 },
 "nbformat": 4,
 "nbformat_minor": 5
}
