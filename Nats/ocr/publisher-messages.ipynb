{
 "cells": [
  {
   "cell_type": "code",
   "execution_count": 1,
   "id": "621d48e8-b4e5-4c19-a904-eed5026f018a",
   "metadata": {},
   "outputs": [],
   "source": [
    "### docker run -p 4222:4222 nats -js\n",
    "import asyncio\n",
    "import nats\n",
    "from nats.errors import ConnectionClosedError, TimeoutError, NoServersError\n",
    "\n",
    "import os\n",
    "import glob\n",
    "import json\n",
    "import uuid\n",
    "import nats\n",
    "import mimetypes"
   ]
  },
  {
   "cell_type": "code",
   "execution_count": 2,
   "id": "b598ac9f-4eee-4f7c-a7d6-c4f24ca2f54c",
   "metadata": {},
   "outputs": [],
   "source": [
    "# nc = await nats.connect(\"localhost\")\n",
    "# print(\"Maximum payload is %d bytes\" % nc.max_payloa"
   ]
  },
  {
   "cell_type": "code",
   "execution_count": 3,
   "id": "d80ce1b2-056c-4932-a47d-021dafc9a523",
   "metadata": {},
   "outputs": [],
   "source": [
    "\n",
    "\n",
    "async def publish_images_from_folder(nats_url, stream_name, subject, input_folder):\n",
    "    \"\"\"\n",
    "    Publishes metadata for all images from a folder to NATS JetStream.\n",
    "    Instead of sending binary data, it sends metadata with URI.\n",
    "    \"\"\"\n",
    "    try:\n",
    "        nc = await nats.connect(nats_url)\n",
    "        js = nc.jetstream()\n",
    "\n",
    "        for file_path in glob.glob(os.path.join(input_folder, \"*\")):\n",
    "            if os.path.isfile(file_path):\n",
    "                filename = os.path.basename(file_path)\n",
    "                # Get file size\n",
    "                file_size = os.path.getsize(file_path)\n",
    "                # Get file mime type\n",
    "                mime_type, _ = mimetypes.guess_type(file_path)\n",
    "                if not mime_type:\n",
    "                    mime_type = \"application/octet-stream\"  # Default if can't determine\n",
    "                \n",
    "                # Create absolute path for URI\n",
    "                absolute_path = os.path.abspath(file_path)\n",
    "                # Create message with metadata\n",
    "                message = {\n",
    "                    \"version\": \"1.0\",\n",
    "                    \"batchId\": str(uuid.uuid4()),\n",
    "                    \"source\": {\n",
    "                        \"uri\": f\"file://{absolute_path}\",\n",
    "                        \"mimeType\": mime_type,\n",
    "                        \"size\": file_size\n",
    "                    },\n",
    "                    \"ocrOptions\": {\n",
    "                        \"languages\": [\"en\"],\n",
    "                        \"preProcessing\": [\"resize\", \"2x-zoom\", \"rgb\"]\n",
    "                    },\n",
    "                    \"state\": {\n",
    "                        \"fileId\": str(uuid.uuid4()).replace(\"-\", \"_\")[:20],\n",
    "                        \"scanId\": \"sony-doc\"\n",
    "                    }\n",
    "                }\n",
    "                \n",
    "                # Convert to JSON and encode to bytes for NATS\n",
    "                message_data = json.dumps(message).encode()\n",
    "                \n",
    "                await js.publish(subject, message_data, stream=stream_name, headers={\"file-name\": filename})\n",
    "                print(f\"Published metadata for '{filename}' to {subject} in stream {stream_name}\")\n",
    "    except Exception as e:\n",
    "        print(f\"Error publishing metadata: {e}\")\n",
    "    finally:\n",
    "        await nc.close()\n"
   ]
  },
  {
   "cell_type": "code",
   "execution_count": 4,
   "id": "e7192454-9953-47d3-9b20-42fd26ee6cc6",
   "metadata": {},
   "outputs": [],
   "source": [
    "nats_url = \"nats://localhost:4222\"\n",
    "stream_name = \"IMAGE_STREAM\"\n",
    "subject = \"images.process\"\n",
    "input_folder = \"docs_local\" #Replace with your file path\n",
    "output_folder  = \"output\" #Directory where files will be saved.\n",
    "\n",
    "\n"
   ]
  },
  {
   "cell_type": "code",
   "execution_count": 5,
   "id": "a6fee990-c426-42b6-a673-e4dab51a10e1",
   "metadata": {},
   "outputs": [
    {
     "data": {
      "text/plain": [
       "'/mnt/d/repos2/nats'"
      ]
     },
     "execution_count": 5,
     "metadata": {},
     "output_type": "execute_result"
    }
   ],
   "source": [
    "os.getcwd()"
   ]
  },
  {
   "cell_type": "code",
   "execution_count": 6,
   "id": "90c2e834-0a72-41a7-a994-421165c67987",
   "metadata": {},
   "outputs": [
    {
     "name": "stdout",
     "output_type": "stream",
     "text": [
      "Published metadata for 'base64.html' to images.process in stream IMAGE_STREAM\n",
      "Published metadata for 'contribution_form_Juan_23082023.pdf' to images.process in stream IMAGE_STREAM\n",
      "Published metadata for 'image_0.png' to images.process in stream IMAGE_STREAM\n",
      "Published metadata for 'image_1.png' to images.process in stream IMAGE_STREAM\n",
      "Published metadata for 'image_2.png' to images.process in stream IMAGE_STREAM\n",
      "Published metadata for 'pict001.jpg' to images.process in stream IMAGE_STREAM\n",
      "Published metadata for 'pict002.jpg' to images.process in stream IMAGE_STREAM\n",
      "Published metadata for 'pict003.jpg' to images.process in stream IMAGE_STREAM\n",
      "Published metadata for 'ppt_test.ppt' to images.process in stream IMAGE_STREAM\n",
      "Published metadata for 'rtf.html' to images.process in stream IMAGE_STREAM\n",
      "Published metadata for 'senior_python_developer_nlplogix1_sm.gif' to images.process in stream IMAGE_STREAM\n",
      "Published metadata for 'senior_python_developer_nlplogix1_sm.jpg' to images.process in stream IMAGE_STREAM\n",
      "Published metadata for 'senior_python_developer_nlplogix1_sm.png' to images.process in stream IMAGE_STREAM\n",
      "Published metadata for 'senior_python_developer_nlplogix1_sm.tiff' to images.process in stream IMAGE_STREAM\n",
      "Published metadata for 'senior_python_developer_nlplogix2_sm.bmp' to images.process in stream IMAGE_STREAM\n",
      "Published metadata for 'statement_22.jpeg' to images.process in stream IMAGE_STREAM\n",
      "Published metadata for 'test.odt' to images.process in stream IMAGE_STREAM\n",
      "Published metadata for 'test.pptx' to images.process in stream IMAGE_STREAM\n",
      "Published metadata for 'test.rtf' to images.process in stream IMAGE_STREAM\n",
      "Published metadata for 'test2.odt' to images.process in stream IMAGE_STREAM\n",
      "Published metadata for 'test_images.docx' to images.process in stream IMAGE_STREAM\n",
      "Published metadata for 'test_images.htm' to images.process in stream IMAGE_STREAM\n",
      "Published metadata for 'test_rtf.html' to images.process in stream IMAGE_STREAM\n"
     ]
    }
   ],
   "source": [
    "\n",
    "await publish_images_from_folder(nats_url, stream_name, subject, input_folder)\n",
    "        "
   ]
  },
  {
   "cell_type": "code",
   "execution_count": null,
   "id": "1edc812e-f603-41c9-87f6-2b5909b97b72",
   "metadata": {},
   "outputs": [],
   "source": []
  },
  {
   "cell_type": "code",
   "execution_count": null,
   "id": "363f83df-1927-4287-bc56-4e969c7e0dbe",
   "metadata": {},
   "outputs": [],
   "source": []
  }
 ],
 "metadata": {
  "kernelspec": {
   "display_name": "Python 3 (ipykernel)",
   "language": "python",
   "name": "python3"
  },
  "language_info": {
   "codemirror_mode": {
    "name": "ipython",
    "version": 3
   },
   "file_extension": ".py",
   "mimetype": "text/x-python",
   "name": "python",
   "nbconvert_exporter": "python",
   "pygments_lexer": "ipython3",
   "version": "3.11.11"
  }
 },
 "nbformat": 4,
 "nbformat_minor": 5
}
