{
 "cells": [
  {
   "cell_type": "code",
   "execution_count": 2,
   "id": "995a0af5-82be-42da-ae49-7ee4353a1668",
   "metadata": {},
   "outputs": [],
   "source": [
    "import os\n",
    "\n",
    "from huggingface_hub import snapshot_download\n",
    "\n",
    "from docling.datamodel.pipeline_options import PdfPipelineOptions, RapidOcrOptions\n",
    "from docling.document_converter import (\n",
    "    ConversionResult,\n",
    "    DocumentConverter,\n",
    "    InputFormat,\n",
    "    PdfFormatOption,\n",
    ")"
   ]
  },
  {
   "cell_type": "code",
   "execution_count": 3,
   "id": "279e07cc-e179-4611-9283-21a62b271113",
   "metadata": {},
   "outputs": [
    {
     "name": "stdout",
     "output_type": "stream",
     "text": [
      "Downloading RapidOCR models\n"
     ]
    }
   ],
   "source": [
    " # Download RapidOCR models from HuggingFace\n",
    "print(\"Downloading RapidOCR models\")\n",
    "#download_path = snapshot_download(repo_id=\"SWHL/RapidOCR\")\n",
    "\n",
    "# Setup RapidOcrOptions for english detection\n",
    "# det_model_path = os.path.join(\n",
    "#     download_path, \"PP-OCRv4\", \"en_PP-OCRv3_det_infer.onnx\"\n",
    "# )\n",
    "# rec_model_path = os.path.join(\n",
    "#     download_path, \"PP-OCRv4\", \"ch_PP-OCRv4_rec_server_infer.onnx\"\n",
    "# )\n",
    "# cls_model_path = os.path.join(\n",
    "#     download_path, \"PP-OCRv3\", \"ch_ppocr_mobile_v2.0_cls_train.onnx\"\n",
    "# )"
   ]
  },
  {
   "cell_type": "code",
   "execution_count": 4,
   "id": "6a70045e-3814-444c-ba6c-707f25e2635b",
   "metadata": {},
   "outputs": [
    {
     "data": {
      "text/plain": [
       "'D:\\\\repos2\\\\nats'"
      ]
     },
     "execution_count": 4,
     "metadata": {},
     "output_type": "execute_result"
    }
   ],
   "source": [
    "ROOT_DIR = os.getcwd()\n",
    "ROOT_DIR"
   ]
  },
  {
   "cell_type": "code",
   "execution_count": 5,
   "id": "792c5e3a-239f-4aec-9267-3a05ca84a7f9",
   "metadata": {},
   "outputs": [],
   "source": [
    "# Setup RapidOcrOptions for english detection\n",
    "det_model_path = os.path.join(ROOT_DIR,\n",
    "    \"models\", \"PP-OCRv4\", \"en_PP-OCRv3_det_infer.onnx\"\n",
    ")\n",
    "rec_model_path = os.path.join(ROOT_DIR,\n",
    "    \"models\", \"PP-OCRv4\", \"ch_PP-OCRv4_rec_server_infer.onnx\"\n",
    ")\n",
    "cls_model_path = os.path.join(ROOT_DIR,\n",
    "    \"models\", \"PP-OCRv3\", \"ch_ppocr_mobile_v2.0_cls_train.onnx\"\n",
    ")"
   ]
  },
  {
   "cell_type": "code",
   "execution_count": 7,
   "id": "063f503a-ecf7-4b3f-9a80-fc9de144695f",
   "metadata": {},
   "outputs": [
    {
     "data": {
      "text/plain": [
       "'D:\\\\repos2\\\\nats\\\\models\\\\PP-OCRv3\\\\ch_ppocr_mobile_v2.0_cls_train.onnx'"
      ]
     },
     "execution_count": 7,
     "metadata": {},
     "output_type": "execute_result"
    }
   ],
   "source": [
    "cls_model_path"
   ]
  },
  {
   "cell_type": "code",
   "execution_count": 6,
   "id": "30dbbacf-00d2-4919-9f4f-aaac83d5e90e",
   "metadata": {},
   "outputs": [],
   "source": [
    "from docling.datamodel.base_models import InputFormat\n",
    "from docling.document_converter import (\n",
    "    DocumentConverter,\n",
    "    PdfFormatOption,\n",
    "    WordFormatOption,\n",
    "ImageFormatOption\n",
    ")\n",
    "from docling.datamodel.pipeline_options import (\n",
    "    AcceleratorDevice,\n",
    "    AcceleratorOptions,\n",
    "    PdfPipelineOptions,\n",
    "    TesseractCliOcrOptions,\n",
    "    TesseractOcrOptions,\n",
    ")"
   ]
  },
  {
   "cell_type": "code",
   "execution_count": 6,
   "id": "30dff35d-7398-486a-87b6-e1bd155e0928",
   "metadata": {},
   "outputs": [],
   "source": [
    "#help(ImageFormatOption)"
   ]
  },
  {
   "cell_type": "code",
   "execution_count": 9,
   "id": "615917ab-f227-4d0f-b308-7c90344b91dd",
   "metadata": {},
   "outputs": [],
   "source": [
    "ocr_options = RapidOcrOptions(\n",
    "        det_model_path=det_model_path,\n",
    "        rec_model_path=rec_model_path,\n",
    "        cls_model_path=cls_model_path,\n",
    "    )\n",
    "\n",
    "# pipeline_options = PdfPipelineOptions(\n",
    "#         ocr_options=ocr_options,\n",
    "#     )\n",
    "# Convert the document\n",
    "# converter = DocumentConverter(\n",
    "#         format_options={\n",
    "\n",
    "#             InputFormat.IMAGE : ImageFormatOption(\n",
    "#                 pipeline_options=pipeline_options,\n",
    "#             ),\n",
    "#         },\n",
    "\n",
    "#     )\n",
    "\n",
    "accelerator_options = AcceleratorOptions(\n",
    "        num_threads=8, device=AcceleratorDevice.CPU\n",
    "    )\n",
    "\n",
    "pipeline_options = PdfPipelineOptions()\n",
    "pipeline_options.accelerator_options = accelerator_options\n",
    "pipeline_options.do_ocr = True\n",
    "pipeline_options.do_table_structure = True\n",
    "pipeline_options.table_structure_options.do_cell_matching = True\n",
    "pipeline_options.ocr_options=ocr_options"
   ]
  },
  {
   "cell_type": "code",
   "execution_count": 10,
   "id": "2e4b5800-eb74-487e-b8bb-f1be10bb2cdf",
   "metadata": {},
   "outputs": [],
   "source": [
    "converter = DocumentConverter(\n",
    "        format_options={\n",
    "            InputFormat.IMAGE: ImageFormatOption(\n",
    "                pipeline_options=pipeline_options,\n",
    "            )\n",
    "        }\n",
    "    )"
   ]
  },
  {
   "cell_type": "code",
   "execution_count": 11,
   "id": "891ca8e4-90f4-433c-a98d-5a58639efb7d",
   "metadata": {},
   "outputs": [],
   "source": [
    "from docling.datamodel.settings import settings\n",
    "# Enable the profiling to measure the time spent\n",
    "settings.debug.profile_pipeline_timings = True"
   ]
  },
  {
   "cell_type": "code",
   "execution_count": 12,
   "id": "c0fbc3d5-71f2-44a3-9584-8510ea88e505",
   "metadata": {},
   "outputs": [],
   "source": [
    "source = \"./images/OCR Test Document IMG.jpg\"\n",
    "conversion_result = converter.convert(source=source)"
   ]
  },
  {
   "cell_type": "code",
   "execution_count": 15,
   "id": "a2cbe4a2-eb44-4bee-9081-a416b0198d9e",
   "metadata": {},
   "outputs": [],
   "source": [
    "doc = conversion_result.document\n"
   ]
  },
  {
   "cell_type": "code",
   "execution_count": 17,
   "id": "f9812548-f2aa-4c83-9000-01999a2c7c0b",
   "metadata": {},
   "outputs": [
    {
     "name": "stderr",
     "output_type": "stream",
     "text": [
      "Parameter `strict_text` has been deprecated and will be ignored.\n"
     ]
    },
    {
     "name": "stdout",
     "output_type": "stream",
     "text": [
      "## OCRTestDocument\n",
      "\n",
      "First Name:\n",
      "\n",
      "Joe\n",
      "\n",
      "Last Name:\n",
      "\n",
      "Mosher\n",
      "\n",
      "Date:04/04/2025\n",
      "\n",
      "Address:\n",
      "\n",
      "22Test Street\n",
      "\n",
      "City:\n",
      "\n",
      "Anytown\n",
      "\n",
      "State/Zip:\n",
      "\n",
      "PA17171\n",
      "\n",
      "Description:\n",
      "\n",
      "Thisis a test document created to be saved into multiple different formats for the purpose of testing OCRaccuracy and timingwith tab-aligneddata fields,tablealigned data,and free-form text.This document will be saved as a Word doc and both a text-and image-PDF,image formats such as BMP and PNG,etc.\n",
      "\n",
      "## TestTable\n",
      "\n",
      "| FIELD NAME   | FIELDVALUE                                                                                                                                                                                                                                   |\n",
      "|--------------|----------------------------------------------------------------------------------------------------------------------------------------------------------------------------------------------------------------------------------------------|\n",
      "| TestFieldA   | Test value Ais a free-form text paragraph contained within a table cell.The font is Aptos 11 pt,which is the defaultforMicrosoftWord.                                                                                                        |\n",
      "| Test Field B | The information in the table cell for value B is a pasted image of text from Microsoft Paint with a font ofArial 11 pt.Thefont color is blue.                                                                                                |\n",
      "| TestFieldC   | The test value Cin the table consists of text invarious fontsandcolors. This line is in Courier New 11 pt Green This line in Times New Roman 11 pt Dark Red This line in Tahoma 11ptBold in Black This line in Tahoma 11 pt Italic in Purple |\n",
      "\n",
      "## TestText\n",
      "\n",
      "This section contains the same paragraph of text repeated multiple times, switching between various common fonts and sizes,with some information italicized and someinformationin bold, to determine howthe OCR engine processes the variations.\n",
      "\n",
      "This section contains the same paragraph of text repeated multiple times, switching between various common fonts and sizes, with some information italicized and some information in bold, to determine how the OcR engine processes the variations.\n",
      "\n",
      "This section contains the same paragraph of text repeated multiple times,switching betweenvarious common fonts and sizes,with some information italicized and some information in bold，to determine how the OcR engine processes the variations.\n",
      "\n",
      "This section contains the same paragraph of text repeated multiple times, switching between various common fonts and sizes, with some information ifalicized and some information in bold,to determine how the OCR epgine processes the variations.\n",
      "\n",
      "This section contains the same paragraph of text repeated multiple times, switching between various common fonts and sizes.with some information italicized and some information in bold.to determine how the OCR engine processes the variations.\n",
      "\n",
      "This section contains the same paragraph of text repeated multiple times,switching between various common fonts and sizes,with some information italicized and some information in bold,to determine how the OCR engine processes the variations.\n",
      "\n",
      "This section contains the same paragraph of text repeated multiple times,switching between various common fonts and sizes,with some information italicizedand some information in bold,to determine how the OCR engine processes the variations.\n",
      "\n",
      "Andfinally some lines in less common fonts and sizes:\n",
      "\n",
      "This line in Book Antiqua 12 pt with some italics and some bold text\n",
      "\n",
      "Of course there has to be a line in Comic Sans,11 pt,with italics and with bold\n",
      "\n",
      "## This is how we do it on Eroadway (12 pt)\n",
      "\n",
      "Segoe Ul (12 pt) is uncommon but a fairly clear and simple font\n",
      "\n",
      "And Segoe Ul in 10 pt with italicized portions and portions in bold\n",
      "\n",
      "And finallyVerdana in 10 pt,Verdana in 11 pt,and Verdana in 12 pt\n",
      "Conversion secs: [607.5469999999914]\n"
     ]
    }
   ],
   "source": [
    "# List with total time per document\n",
    "doc_conversion_secs = conversion_result.timings[\"pipeline_total\"].times\n",
    "\n",
    "md = doc.export_to_text()\n",
    "print(md)\n",
    "print(f\"Conversion secs: {doc_conversion_secs}\")"
   ]
  },
  {
   "cell_type": "code",
   "execution_count": null,
   "id": "b0528d88-5bb2-46db-87d1-46b76558d9b0",
   "metadata": {},
   "outputs": [],
   "source": []
  }
 ],
 "metadata": {
  "kernelspec": {
   "display_name": "Python (nats)",
   "language": "python",
   "name": "nats"
  },
  "language_info": {
   "codemirror_mode": {
    "name": "ipython",
    "version": 3
   },
   "file_extension": ".py",
   "mimetype": "text/x-python",
   "name": "python",
   "nbconvert_exporter": "python",
   "pygments_lexer": "ipython3",
   "version": "3.11.11"
  }
 },
 "nbformat": 4,
 "nbformat_minor": 5
}
