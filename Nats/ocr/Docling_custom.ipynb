{
 "cells": [
  {
   "cell_type": "code",
   "execution_count": null,
   "id": "995a0af5-82be-42da-ae49-7ee4353a1668",
   "metadata": {},
   "outputs": [],
   "source": [
    "import os\n",
    "\n",
    "from huggingface_hub import snapshot_download\n",
    "\n",
    "from docling.datamodel.pipeline_options import PdfPipelineOptions, RapidOcrOptions\n",
    "from docling.document_converter import (\n",
    "    ConversionResult,\n",
    "    DocumentConverter,\n",
    "    InputFormat,\n",
    "    PdfFormatOption,\n",
    ")"
   ]
  },
  {
   "cell_type": "code",
   "execution_count": null,
   "id": "279e07cc-e179-4611-9283-21a62b271113",
   "metadata": {},
   "outputs": [],
   "source": [
    " # Download RapidOCR models from HuggingFace\n",
    "print(\"Downloading RapidOCR models\")\n",
    "#download_path = snapshot_download(repo_id=\"SWHL/RapidOCR\")\n",
    "\n",
    "# Setup RapidOcrOptions for english detection\n",
    "# det_model_path = os.path.join(\n",
    "#     download_path, \"PP-OCRv4\", \"en_PP-OCRv3_det_infer.onnx\"\n",
    "# )\n",
    "# rec_model_path = os.path.join(\n",
    "#     download_path, \"PP-OCRv4\", \"ch_PP-OCRv4_rec_server_infer.onnx\"\n",
    "# )\n",
    "# cls_model_path = os.path.join(\n",
    "#     download_path, \"PP-OCRv3\", \"ch_ppocr_mobile_v2.0_cls_train.onnx\"\n",
    "# )"
   ]
  },
  {
   "cell_type": "code",
   "execution_count": null,
   "id": "6a70045e-3814-444c-ba6c-707f25e2635b",
   "metadata": {},
   "outputs": [],
   "source": [
    "ROOT_DIR = os.getcwd()\n",
    "ROOT_DIR"
   ]
  },
  {
   "cell_type": "code",
   "execution_count": null,
   "id": "792c5e3a-239f-4aec-9267-3a05ca84a7f9",
   "metadata": {},
   "outputs": [],
   "source": [
    "# Setup RapidOcrOptions for english detection\n",
    "det_model_path = os.path.join(ROOT_DIR,\n",
    "    \"models\", \"PP-OCRv4\", \"en_PP-OCRv3_det_infer.onnx\"\n",
    ")\n",
    "rec_model_path = os.path.join(ROOT_DIR,\n",
    "    \"models\", \"PP-OCRv4\", \"ch_PP-OCRv4_rec_server_infer.onnx\"\n",
    ")\n",
    "cls_model_path = os.path.join(ROOT_DIR,\n",
    "    \"models\", \"PP-OCRv3\", \"ch_ppocr_mobile_v2.0_cls_train.onnx\"\n",
    ")"
   ]
  },
  {
   "cell_type": "code",
   "execution_count": null,
   "id": "063f503a-ecf7-4b3f-9a80-fc9de144695f",
   "metadata": {},
   "outputs": [],
   "source": [
    "cls_model_path"
   ]
  },
  {
   "cell_type": "code",
   "execution_count": null,
   "id": "30dbbacf-00d2-4919-9f4f-aaac83d5e90e",
   "metadata": {},
   "outputs": [],
   "source": [
    "from docling.datamodel.base_models import InputFormat\n",
    "from docling.document_converter import (\n",
    "    DocumentConverter,\n",
    "    PdfFormatOption,\n",
    "    WordFormatOption,\n",
    "ImageFormatOption\n",
    ")\n",
    "from docling.datamodel.pipeline_options import (\n",
    "    AcceleratorDevice,\n",
    "    AcceleratorOptions,\n",
    "    PdfPipelineOptions,\n",
    "    TesseractCliOcrOptions,\n",
    "    TesseractOcrOptions,\n",
    ")"
   ]
  },
  {
   "cell_type": "code",
   "execution_count": null,
   "id": "30dff35d-7398-486a-87b6-e1bd155e0928",
   "metadata": {},
   "outputs": [],
   "source": [
    "#help(ImageFormatOption)"
   ]
  },
  {
   "cell_type": "code",
   "execution_count": null,
   "id": "615917ab-f227-4d0f-b308-7c90344b91dd",
   "metadata": {},
   "outputs": [],
   "source": [
    "ocr_options = RapidOcrOptions(\n",
    "        det_model_path=det_model_path,\n",
    "        rec_model_path=rec_model_path,\n",
    "        cls_model_path=cls_model_path,\n",
    "    )\n",
    "\n",
    "# pipeline_options = PdfPipelineOptions(\n",
    "#         ocr_options=ocr_options,\n",
    "#     )\n",
    "# Convert the document\n",
    "# converter = DocumentConverter(\n",
    "#         format_options={\n",
    "\n",
    "#             InputFormat.IMAGE : ImageFormatOption(\n",
    "#                 pipeline_options=pipeline_options,\n",
    "#             ),\n",
    "#         },\n",
    "\n",
    "#     )\n",
    "\n",
    "accelerator_options = AcceleratorOptions(\n",
    "        num_threads=8, device=AcceleratorDevice.CPU\n",
    "    )\n",
    "\n",
    "pipeline_options = PdfPipelineOptions()\n",
    "pipeline_options.accelerator_options = accelerator_options\n",
    "pipeline_options.do_ocr = True\n",
    "pipeline_options.do_table_structure = True\n",
    "pipeline_options.table_structure_options.do_cell_matching = True\n",
    "pipeline_options.ocr_options=ocr_options"
   ]
  },
  {
   "cell_type": "code",
   "execution_count": null,
   "id": "2e4b5800-eb74-487e-b8bb-f1be10bb2cdf",
   "metadata": {},
   "outputs": [],
   "source": [
    "converter = DocumentConverter(\n",
    "        format_options={\n",
    "            InputFormat.IMAGE: ImageFormatOption(\n",
    "                pipeline_options=pipeline_options,\n",
    "            )\n",
    "        }\n",
    "    )"
   ]
  },
  {
   "cell_type": "code",
   "execution_count": null,
   "id": "891ca8e4-90f4-433c-a98d-5a58639efb7d",
   "metadata": {},
   "outputs": [],
   "source": [
    "from docling.datamodel.settings import settings\n",
    "# Enable the profiling to measure the time spent\n",
    "settings.debug.profile_pipeline_timings = True"
   ]
  },
  {
   "cell_type": "code",
   "execution_count": null,
   "id": "c0fbc3d5-71f2-44a3-9584-8510ea88e505",
   "metadata": {},
   "outputs": [],
   "source": [
    "source = \"./images/OCR Test Document IMG.jpg\"\n",
    "conversion_result = converter.convert(source=source)"
   ]
  },
  {
   "cell_type": "code",
   "execution_count": null,
   "id": "a2cbe4a2-eb44-4bee-9081-a416b0198d9e",
   "metadata": {},
   "outputs": [],
   "source": [
    "doc = conversion_result.document\n"
   ]
  },
  {
   "cell_type": "code",
   "execution_count": null,
   "id": "f9812548-f2aa-4c83-9000-01999a2c7c0b",
   "metadata": {},
   "outputs": [],
   "source": [
    "# List with total time per document\n",
    "doc_conversion_secs = conversion_result.timings[\"pipeline_total\"].times\n",
    "\n",
    "md = doc.export_to_text()\n",
    "print(md)\n",
    "print(f\"Conversion secs: {doc_conversion_secs}\")"
   ]
  },
  {
   "cell_type": "code",
   "execution_count": null,
   "id": "b0528d88-5bb2-46db-87d1-46b76558d9b0",
   "metadata": {},
   "outputs": [],
   "source": []
  }
 ],
 "metadata": {
  "kernelspec": {
   "display_name": "Python (nats)",
   "language": "python",
   "name": "nats"
  },
  "language_info": {
   "codemirror_mode": {
    "name": "ipython",
    "version": 3
   },
   "file_extension": ".py",
   "mimetype": "text/x-python",
   "name": "python",
   "nbconvert_exporter": "python",
   "pygments_lexer": "ipython3",
   "version": "3.11.11"
  }
 },
 "nbformat": 4,
 "nbformat_minor": 5
}
