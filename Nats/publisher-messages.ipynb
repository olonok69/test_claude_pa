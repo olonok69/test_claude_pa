{
 "cells": [
  {
   "cell_type": "markdown",
   "id": "1295a114-32c5-4475-827d-42d843ac8a01",
   "metadata": {},
   "source": [
    "# Nats (Neural Autonomic Transport System)\n",
    "##  NATS (Core)\n",
    "NATS is a high-performance, distributed messaging system that facilitates communication between applications through a publish/subscribe pattern. \n",
    "\n",
    "- Messaging System: NATS is a publish/subscribe messaging system where applications publish messages to subjects (similar to topics) and subscribers can receive messages from those subjects. \n",
    "- Fast & Scalable: Designed for high performance and scalability, NATS is suitable for microservices, edge computing, and IoT applications. \n",
    "- Simple Design: NATS employs a simple design where clients publish and subscribe to subjects, and the server handles routing messages. \n",
    "- Interoperability:Core NATS and JetStream work together; JetStream streams listen to NATS messages. \n",
    "\n",
    "\n",
    "## NATS JetStream:\n",
    "\n",
    "NATS JetStream is a persistence engine built into NATS that enables message storage and replay, offering features like streaming, at-least-once delivery, and historical data replay\n",
    "\n",
    "- Persistence Engine: JetStream is a built-in persistence engine within NATS that allows messages to be stored and replayed. \n",
    "- Streaming & Replay: JetStream enables messages to be captured and replayed to consumers as needed, even if they weren't actively subscribed at the time of publication. \n",
    "- At-Least-Once Semantics: JetStream provides at-least-once delivery guarantees, ensuring messages are delivered at least once to consumers. \n",
    "- Features: Includes streaming, message queueing, durable subscriptions, and historical data replay. \n",
    "- Data Storage: JetStream stores messages in streams, which define how messages are stored and limits such as retention policies. \n",
    "- Consumers: Consumers are responsible for replaying messages from a stream, and their configuration specifies how messages should be presented to clients. \n",
    "- Object Store: JetStream also includes an object store feature for storing and transferring files. \n",
    "- Scalability: JetStream supports horizontal scaling and can be deployed in various environments, including edge and cloud.\n",
    "\n",
    "In essence, NATS is the core messaging system, while NATS JetStream adds the persistence and streaming capabilities, making it suitable for more complex scenarios where message storage and replay are required\n",
    "\n",
    "\n",
    "## Installation\n",
    "\n",
    "- https://docs.nats.io/running-a-nats-service/introduction/installation\n",
    "- https://github.com/nats-io/nats.docs/blob/master/running-a-nats-service/installation.md\n",
    "- https://github.com/nats-io/nats-server"
   ]
  },
  {
   "cell_type": "markdown",
   "id": "840fab09-1a0c-4c90-a550-9d6507903cb4",
   "metadata": {},
   "source": [
    "![image.png](nats.png)"
   ]
  },
  {
   "cell_type": "code",
   "execution_count": 10,
   "id": "621d48e8-b4e5-4c19-a904-eed5026f018a",
   "metadata": {},
   "outputs": [],
   "source": [
    "### docker run -p 4222:4222 nats -js\n",
    "import asyncio\n",
    "import nats\n",
    "from nats.errors import ConnectionClosedError, TimeoutError, NoServersError\n",
    "\n",
    "import os\n",
    "import glob\n",
    "import json\n",
    "import uuid\n",
    "import nats\n",
    "import mimetypes"
   ]
  },
  {
   "cell_type": "code",
   "execution_count": 11,
   "id": "b598ac9f-4eee-4f7c-a7d6-c4f24ca2f54c",
   "metadata": {},
   "outputs": [],
   "source": [
    "# nc = await nats.connect(\"localhost\")\n",
    "# print(\"Maximum payload is %d bytes\" % nc.max_payloa"
   ]
  },
  {
   "cell_type": "code",
   "execution_count": 12,
   "id": "d80ce1b2-056c-4932-a47d-021dafc9a523",
   "metadata": {},
   "outputs": [],
   "source": [
    "\n",
    "\n",
    "async def publish_images_from_folder(nats_url, stream_name, subject, input_folder):\n",
    "    \"\"\"\n",
    "    Publishes metadata for all images from a folder to NATS JetStream.\n",
    "    Instead of sending binary data, it sends metadata with URI.\n",
    "    \"\"\"\n",
    "    try:\n",
    "        nc = await nats.connect(nats_url)\n",
    "        js = nc.jetstream()\n",
    "\n",
    "        for file_path in glob.glob(os.path.join(input_folder, \"*\")):\n",
    "            if os.path.isfile(file_path):\n",
    "                filename = os.path.basename(file_path)\n",
    "                # Get file size\n",
    "                file_size = os.path.getsize(file_path)\n",
    "                # Get file mime type\n",
    "                mime_type, _ = mimetypes.guess_type(file_path)\n",
    "                if not mime_type:\n",
    "                    mime_type = \"application/octet-stream\"  # Default if can't determine\n",
    "                \n",
    "                # Create absolute path for URI\n",
    "                absolute_path = os.path.abspath(file_path)\n",
    "                print(absolute_path)\n",
    "                # Create message with metadata\n",
    "                message = {\n",
    "                    \"version\": \"1.0\",\n",
    "                    \"batchId\": str(uuid.uuid4()),\n",
    "                    \"source\": {\n",
    "                        \"uri\": f\"file://{absolute_path}\",\n",
    "                        \"mimeType\": mime_type,\n",
    "                        \"size\": file_size\n",
    "                    },\n",
    "                    \"ocrOptions\": {\n",
    "                        \"languages\": [\"en\"],\n",
    "                        \"preProcessing\": [\"resize\", \"2x-zoom\", \"rgb\"]\n",
    "                    },\n",
    "                    \"state\": {\n",
    "                        \"fileId\": str(uuid.uuid4()).replace(\"-\", \"_\")[:20],\n",
    "                        \"scanId\": \"sony-doc\"\n",
    "                    }\n",
    "                }\n",
    "                \n",
    "                # Convert to JSON and encode to bytes for NATS\n",
    "                message_data = json.dumps(message).encode()\n",
    "                \n",
    "                await js.publish(subject, message_data, stream=stream_name, headers={\"file-name\": filename})\n",
    "                print(f\"Published metadata for '{filename}' to {subject} in stream {stream_name}\")\n",
    "    except Exception as e:\n",
    "        print(f\"Error publishing metadata: {e}\")\n",
    "    finally:\n",
    "        await nc.close()\n"
   ]
  },
  {
   "cell_type": "code",
   "execution_count": 13,
   "id": "e7192454-9953-47d3-9b20-42fd26ee6cc6",
   "metadata": {},
   "outputs": [],
   "source": [
    "nats_url = \"nats://localhost:4222\"\n",
    "stream_name = \"IMAGE_STREAM\"\n",
    "subject = \"images.process\"\n",
    "input_folder = \"docs\" #Replace with your file path\n",
    "\n",
    "\n",
    "\n"
   ]
  },
  {
   "cell_type": "code",
   "execution_count": 14,
   "id": "a6fee990-c426-42b6-a673-e4dab51a10e1",
   "metadata": {},
   "outputs": [
    {
     "data": {
      "text/plain": [
       "'/mnt/d/repos2/nats'"
      ]
     },
     "execution_count": 14,
     "metadata": {},
     "output_type": "execute_result"
    }
   ],
   "source": [
    "os.getcwd()"
   ]
  },
  {
   "cell_type": "code",
   "execution_count": 15,
   "id": "90c2e834-0a72-41a7-a994-421165c67987",
   "metadata": {},
   "outputs": [
    {
     "name": "stdout",
     "output_type": "stream",
     "text": [
      "/mnt/d/repos2/nats/docs/base64.html\n",
      "Published metadata for 'base64.html' to images.process in stream IMAGE_STREAM\n",
      "/mnt/d/repos2/nats/docs/contribution_form_Juan_23082023.pdf\n",
      "Published metadata for 'contribution_form_Juan_23082023.pdf' to images.process in stream IMAGE_STREAM\n",
      "/mnt/d/repos2/nats/docs/image_0.png\n",
      "Published metadata for 'image_0.png' to images.process in stream IMAGE_STREAM\n",
      "/mnt/d/repos2/nats/docs/image_1.png\n",
      "Published metadata for 'image_1.png' to images.process in stream IMAGE_STREAM\n",
      "/mnt/d/repos2/nats/docs/image_2.png\n",
      "Published metadata for 'image_2.png' to images.process in stream IMAGE_STREAM\n",
      "/mnt/d/repos2/nats/docs/pict001.jpg\n",
      "Published metadata for 'pict001.jpg' to images.process in stream IMAGE_STREAM\n",
      "/mnt/d/repos2/nats/docs/pict002.jpg\n",
      "Published metadata for 'pict002.jpg' to images.process in stream IMAGE_STREAM\n",
      "/mnt/d/repos2/nats/docs/pict003.jpg\n",
      "Published metadata for 'pict003.jpg' to images.process in stream IMAGE_STREAM\n",
      "/mnt/d/repos2/nats/docs/ppt_test.ppt\n",
      "Published metadata for 'ppt_test.ppt' to images.process in stream IMAGE_STREAM\n",
      "/mnt/d/repos2/nats/docs/rtf.html\n",
      "Published metadata for 'rtf.html' to images.process in stream IMAGE_STREAM\n",
      "/mnt/d/repos2/nats/docs/senior_python_developer_nlplogix1_sm.gif\n",
      "Published metadata for 'senior_python_developer_nlplogix1_sm.gif' to images.process in stream IMAGE_STREAM\n",
      "/mnt/d/repos2/nats/docs/senior_python_developer_nlplogix1_sm.jpg\n",
      "Published metadata for 'senior_python_developer_nlplogix1_sm.jpg' to images.process in stream IMAGE_STREAM\n",
      "/mnt/d/repos2/nats/docs/senior_python_developer_nlplogix1_sm.png\n",
      "Published metadata for 'senior_python_developer_nlplogix1_sm.png' to images.process in stream IMAGE_STREAM\n",
      "/mnt/d/repos2/nats/docs/senior_python_developer_nlplogix1_sm.tiff\n",
      "Published metadata for 'senior_python_developer_nlplogix1_sm.tiff' to images.process in stream IMAGE_STREAM\n",
      "/mnt/d/repos2/nats/docs/senior_python_developer_nlplogix2_sm.bmp\n",
      "Published metadata for 'senior_python_developer_nlplogix2_sm.bmp' to images.process in stream IMAGE_STREAM\n",
      "/mnt/d/repos2/nats/docs/statement_22.jpeg\n",
      "Published metadata for 'statement_22.jpeg' to images.process in stream IMAGE_STREAM\n",
      "/mnt/d/repos2/nats/docs/test.odt\n",
      "Published metadata for 'test.odt' to images.process in stream IMAGE_STREAM\n",
      "/mnt/d/repos2/nats/docs/test.pptx\n",
      "Published metadata for 'test.pptx' to images.process in stream IMAGE_STREAM\n",
      "/mnt/d/repos2/nats/docs/test.rtf\n",
      "Published metadata for 'test.rtf' to images.process in stream IMAGE_STREAM\n",
      "/mnt/d/repos2/nats/docs/test2.odt\n",
      "Published metadata for 'test2.odt' to images.process in stream IMAGE_STREAM\n",
      "/mnt/d/repos2/nats/docs/test_images.docx\n",
      "Published metadata for 'test_images.docx' to images.process in stream IMAGE_STREAM\n",
      "/mnt/d/repos2/nats/docs/test_images.htm\n",
      "Published metadata for 'test_images.htm' to images.process in stream IMAGE_STREAM\n",
      "/mnt/d/repos2/nats/docs/test_rtf.html\n",
      "Published metadata for 'test_rtf.html' to images.process in stream IMAGE_STREAM\n"
     ]
    }
   ],
   "source": [
    "\n",
    "await publish_images_from_folder(nats_url, stream_name, subject, input_folder)\n",
    "        "
   ]
  },
  {
   "cell_type": "code",
   "execution_count": null,
   "id": "1edc812e-f603-41c9-87f6-2b5909b97b72",
   "metadata": {},
   "outputs": [],
   "source": []
  },
  {
   "cell_type": "code",
   "execution_count": null,
   "id": "363f83df-1927-4287-bc56-4e969c7e0dbe",
   "metadata": {},
   "outputs": [],
   "source": []
  }
 ],
 "metadata": {
  "kernelspec": {
   "display_name": "Python 3 (ipykernel)",
   "language": "python",
   "name": "python3"
  },
  "language_info": {
   "codemirror_mode": {
    "name": "ipython",
    "version": 3
   },
   "file_extension": ".py",
   "mimetype": "text/x-python",
   "name": "python",
   "nbconvert_exporter": "python",
   "pygments_lexer": "ipython3",
   "version": "3.11.11"
  }
 },
 "nbformat": 4,
 "nbformat_minor": 5
}
