{
 "cells": [
  {
   "cell_type": "markdown",
   "id": "18567afe-a159-4a50-ab8b-6ed15a09913f",
   "metadata": {},
   "source": [
    "## This Notebook contains the logic to Receive the Text Published in The Nats Stream TEXT_STREAM. Published by OCR Model"
   ]
  },
  {
   "cell_type": "code",
   "execution_count": null,
   "id": "1d6792f2-73c0-432d-b402-05be051f587c",
   "metadata": {},
   "outputs": [],
   "source": [
    "import asyncio\n",
    "import nats\n",
    "from nats.errors import TimeoutError"
   ]
  },
  {
   "cell_type": "code",
   "execution_count": null,
   "id": "c0960b20-322a-4f30-8f8e-635a621fc092",
   "metadata": {},
   "outputs": [],
   "source": [
    "# nc = await nats.connect(\"localhost\")\n",
    "\n",
    "# # Create JetStream context.\n",
    "# js = nc.jetstream()"
   ]
  },
  {
   "cell_type": "code",
   "execution_count": null,
   "id": "119b728e-a5f5-4c59-9784-4b2622653726",
   "metadata": {},
   "outputs": [],
   "source": [
    "import asyncio\n",
    "import nats\n",
    "import json\n",
    "import logging\n",
    "import os\n",
    "import nest_asyncio\n",
    "from datetime import datetime\n",
    "\n",
    "# Apply nest_asyncio to allow nested asyncio loops in Jupyter Notebook\n",
    "nest_asyncio.apply()\n",
    "\n",
    "async def read_messages_from_text_stream(nats_url, stream_name, subject, output_dir=\"./message_logs\"):\n",
    "    \"\"\"\n",
    "    Reads messages from a JetStream stream and subject, prints them, and saves to disk as JSON.\n",
    "    \n",
    "    Args:\n",
    "        nats_url (str): URL of the NATS server\n",
    "        stream_name (str): Name of the JetStream stream to subscribe to\n",
    "        subject (str): Subject to subscribe to\n",
    "        output_dir (str): Directory to save message JSON files\n",
    "    \"\"\"\n",
    "    try:\n",
    "        # Create output directory if it doesn't exist\n",
    "        os.makedirs(output_dir, exist_ok=True)\n",
    "        \n",
    "        nc = await nats.connect(nats_url)\n",
    "        js = nc.jetstream()\n",
    "        \n",
    "        async def cb(msg):\n",
    "            try:\n",
    "                # Decode the message\n",
    "                decoded_text = msg.data.decode()\n",
    "                \n",
    "                # Get filename from headers or use timestamp if not available\n",
    "                filename = msg.headers.get(\"file-name\", [\"unknown\"]) if msg.headers else \"unknown\"\n",
    "                if isinstance(filename, list) and len(filename) > 0:\n",
    "                    filename = filename[0]\n",
    "                \n",
    "                # Print message details\n",
    "                print(f\"Received message: {decoded_text}\\n\")\n",
    "                print(f\"Received text from image data with filename: {filename}\")\n",
    "                print(\"*\" * 50)\n",
    "                \n",
    "                # Prepare data to save\n",
    "                message_data = {\n",
    "                    \"timestamp\": datetime.now().isoformat(),\n",
    "                    \"filename\": filename,\n",
    "                    \"content\": decoded_text\n",
    "                }\n",
    "                \n",
    "                # Add headers to the saved data if available\n",
    "                if msg.headers:\n",
    "                    message_data[\"headers\"] = {k: v for k, v in msg.headers.items()}\n",
    "                \n",
    "                # Create a unique filename for the JSON\n",
    "                timestamp = datetime.now().strftime(\"%Y%m%d_%H%M%S\")\n",
    "                safe_filename = \"\".join(c if c.isalnum() else \"_\" for c in filename)\n",
    "                json_filename = f\"{safe_filename}_{timestamp}.json\"\n",
    "                json_path = os.path.join(output_dir, json_filename)\n",
    "                \n",
    "                # Save the message as JSON\n",
    "                try:\n",
    "                    # Try to parse the message content as JSON first\n",
    "                    content_json = json.loads(decoded_text)\n",
    "                    message_data[\"content\"] = content_json  # Store as parsed JSON\n",
    "                except json.JSONDecodeError:\n",
    "                    # If not valid JSON, keep as string\n",
    "                    pass\n",
    "                \n",
    "                # Write to file\n",
    "                with open(json_path, 'w', encoding='utf-8') as f:\n",
    "                    json.dump(message_data, f, indent=2, ensure_ascii=False)\n",
    "                \n",
    "                print(f\"Message saved to: {json_path}\")\n",
    "                \n",
    "                # Acknowledge the message\n",
    "                await msg.ack()\n",
    "                \n",
    "            except Exception as e:\n",
    "                logging.error(f\"Error processing message: {e}\")\n",
    "                await msg.nak()\n",
    "        \n",
    "        sub = await js.subscribe(subject, stream=stream_name, cb=cb)\n",
    "        print(f\"Subscribed to {subject} in stream {stream_name}\")\n",
    "        print(f\"Saving messages to directory: {os.path.abspath(output_dir)}\")\n",
    "        \n",
    "        # Keep the subscriber running until interrupted\n",
    "        await asyncio.Future()\n",
    "        \n",
    "    except Exception as e:\n",
    "        logging.error(f\"Error connecting to NATS: {e}\")\n",
    "    finally:\n",
    "        if 'nc' in locals() and nc:\n",
    "            await nc.close()\n",
    "\n",
    "# Example usage (replace with your NATS URL, stream, and subject)\n",
    "nats_url = \"nats://localhost:4222\"\n",
    "stream_name = \"TEXT_STREAM\"\n",
    "subject = \"text.results\"\n",
    "output_dir = \"./message_logs\"  # Directory where messages will be saved\n",
    "\n",
    "# Run the async function in a Jupyter Notebook\n",
    "asyncio.run(read_messages_from_text_stream(nats_url, stream_name, subject, output_dir))"
   ]
  },
  {
   "cell_type": "markdown",
   "id": "ca28a337-3223-4523-a594-07824573b488",
   "metadata": {},
   "source": [
    "# Only Print"
   ]
  },
  {
   "cell_type": "code",
   "execution_count": null,
   "id": "d4ebe8e8-7c91-469c-8b27-7c206f927e11",
   "metadata": {},
   "outputs": [],
   "source": [
    "import asyncio\n",
    "import nats\n",
    "import json\n",
    "import logging\n",
    "import nest_asyncio\n",
    "\n",
    "# Apply nest_asyncio to allow nested asyncio loops in Jupyter Notebook\n",
    "nest_asyncio.apply()\n",
    "\n",
    "async def read_messages_from_text_stream(nats_url, stream_name, subject):\n",
    "    \"\"\"\n",
    "    Reads messages from a JetStream stream and subject and prints them.\n",
    "    \"\"\"\n",
    "    try:\n",
    "        nc = await nats.connect(nats_url)\n",
    "        js = nc.jetstream()\n",
    "\n",
    "        async def cb(msg):\n",
    "            try:\n",
    "                decoded_text = msg.data.decode()\n",
    "                filename = msg.headers.get(\"file-name\", [\"unknown\"])\n",
    "                print(f\"Received message: {decoded_text}\\n\")\n",
    "                print(f\"Received text from image data with filename: {filename}\")\n",
    "                print(\"*\" * 50)\n",
    "                await msg.ack()  # Acknowledge the message\n",
    "\n",
    "            except Exception as e:\n",
    "                logging.error(f\"Error processing message: {e}\")\n",
    "                await msg.nak()\n",
    "\n",
    "        sub = await js.subscribe(subject, stream=stream_name, cb=cb)\n",
    "        print(f\"Subscribed to {subject} in stream {stream_name}\")\n",
    "\n",
    "        # Keep the subscriber running until interrupted\n",
    "        await asyncio.Future()\n",
    "\n",
    "    except Exception as e:\n",
    "        logging.error(f\"Error connecting to NATS: {e}\")\n",
    "    finally:\n",
    "        if 'nc' in locals() and nc:\n",
    "            await nc.close()\n",
    "\n",
    "# Example usage (replace with your NATS URL, stream, and subject)\n",
    "nats_url = \"nats://localhost:4222\"\n",
    "stream_name = \"TEXT_STREAM\"\n",
    "subject = \"text.results\"\n",
    "\n",
    "# Run the async function in a Jupyter Notebook\n",
    "asyncio.run(read_messages_from_text_stream(nats_url, stream_name, subject))"
   ]
  },
  {
   "cell_type": "code",
   "execution_count": null,
   "id": "daaac395-2f3b-45ac-b4ee-328666009553",
   "metadata": {},
   "outputs": [],
   "source": [
    "\n",
    "\n",
    "# Fetch and ack messagess from consumer.\n",
    "for i in range(0, 10):\n",
    "    msgs = await psub.fetch(1)\n",
    "    for msg in msgs:\n",
    "        await msg.ack()\n",
    "        print(msg.data)"
   ]
  },
  {
   "cell_type": "code",
   "execution_count": null,
   "id": "b0be3ac9-f78a-49f1-8d41-6a30cdcdf1d5",
   "metadata": {},
   "outputs": [],
   "source": [
    "msgs = await psub.fetch(1)"
   ]
  },
  {
   "cell_type": "code",
   "execution_count": null,
   "id": "5f674ba8-b409-4508-b516-7102a06b04be",
   "metadata": {},
   "outputs": [],
   "source": [
    "msgs[0].headers"
   ]
  },
  {
   "cell_type": "code",
   "execution_count": null,
   "id": "ac3a8ab3-359a-448d-b909-0ef754fa2855",
   "metadata": {},
   "outputs": [],
   "source": [
    "for msg in msgs:\n",
    "    await msg.ack()\n",
    "    data = msg.data"
   ]
  },
  {
   "cell_type": "code",
   "execution_count": null,
   "id": "2b8cceaa-d204-4911-a5d0-2f3bdcd61ba4",
   "metadata": {},
   "outputs": [],
   "source": [
    "msg.header"
   ]
  },
  {
   "cell_type": "code",
   "execution_count": null,
   "id": "376cd830-addf-4149-aad7-b02aa5c9cfe7",
   "metadata": {},
   "outputs": [],
   "source": [
    "with open(\"output/image1.jpg\", \"wb\") as f:\n",
    "    f.write(data)\n",
    "    f.close"
   ]
  },
  {
   "cell_type": "code",
   "execution_count": null,
   "id": "5318c625-4ea5-4b20-8706-85bbabcfa980",
   "metadata": {},
   "outputs": [],
   "source": []
  }
 ],
 "metadata": {
  "kernelspec": {
   "display_name": "Python 3 (ipykernel)",
   "language": "python",
   "name": "python3"
  },
  "language_info": {
   "codemirror_mode": {
    "name": "ipython",
    "version": 3
   },
   "file_extension": ".py",
   "mimetype": "text/x-python",
   "name": "python",
   "nbconvert_exporter": "python",
   "pygments_lexer": "ipython3",
   "version": "3.11.11"
  }
 },
 "nbformat": 4,
 "nbformat_minor": 5
}
