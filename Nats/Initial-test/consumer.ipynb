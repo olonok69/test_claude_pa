{
 "cells": [
  {
   "cell_type": "code",
   "execution_count": 1,
   "id": "1d6792f2-73c0-432d-b402-05be051f587c",
   "metadata": {},
   "outputs": [],
   "source": [
    "import asyncio\n",
    "import nats\n",
    "from nats.errors import TimeoutError"
   ]
  },
  {
   "cell_type": "code",
   "execution_count": 2,
   "id": "c0960b20-322a-4f30-8f8e-635a621fc092",
   "metadata": {},
   "outputs": [],
   "source": [
    "nc = await nats.connect(\"localhost\")\n",
    "\n",
    "# Create JetStream context.\n",
    "js = nc.jetstream()"
   ]
  },
  {
   "cell_type": "code",
   "execution_count": 3,
   "id": "daaac395-2f3b-45ac-b4ee-328666009553",
   "metadata": {},
   "outputs": [
    {
     "name": "stdout",
     "output_type": "stream",
     "text": [
      "b'hello world test de Juan: 0'\n",
      "b'hello world test de Juan: 1'\n",
      "b'hello world test de Juan: 2'\n",
      "b'hello world test de Juan: 3'\n",
      "b'hello world test de Juan: 4'\n",
      "b'hello world test de Juan: 5'\n",
      "b'hello world test de Juan: 6'\n",
      "b'hello world test de Juan: 7'\n",
      "b'hello world test de Juan: 8'\n",
      "b'hello world test de Juan: 9'\n"
     ]
    }
   ],
   "source": [
    "# Create pull based consumer on 'foo'.\n",
    "psub = await js.pull_subscribe(\"foo\", \"psub\")\n",
    "\n",
    "# Fetch and ack messagess from consumer.\n",
    "for i in range(0, 10):\n",
    "    msgs = await psub.fetch(1)\n",
    "    for msg in msgs:\n",
    "        await msg.ack()\n",
    "        print(msg.data)"
   ]
  },
  {
   "cell_type": "code",
   "execution_count": null,
   "id": "b0be3ac9-f78a-49f1-8d41-6a30cdcdf1d5",
   "metadata": {},
   "outputs": [],
   "source": []
  }
 ],
 "metadata": {
  "kernelspec": {
   "display_name": "Python 3 (ipykernel)",
   "language": "python",
   "name": "python3"
  },
  "language_info": {
   "codemirror_mode": {
    "name": "ipython",
    "version": 3
   },
   "file_extension": ".py",
   "mimetype": "text/x-python",
   "name": "python",
   "nbconvert_exporter": "python",
   "pygments_lexer": "ipython3",
   "version": "3.11.10"
  }
 },
 "nbformat": 4,
 "nbformat_minor": 5
}
