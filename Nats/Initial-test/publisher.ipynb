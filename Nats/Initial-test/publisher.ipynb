{
 "cells": [
  {
   "cell_type": "code",
   "execution_count": null,
   "id": "621d48e8-b4e5-4c19-a904-eed5026f018a",
   "metadata": {},
   "outputs": [],
   "source": [
    "import asyncio\n",
    "import nats\n",
    "from nats.errors import ConnectionClosedError, TimeoutError, NoServersError"
   ]
  },
  {
   "cell_type": "code",
   "execution_count": null,
   "id": "b598ac9f-4eee-4f7c-a7d6-c4f24ca2f54c",
   "metadata": {},
   "outputs": [],
   "source": [
    "nc = await nats.connect(\"localhost\")"
   ]
  },
  {
   "cell_type": "code",
   "execution_count": null,
   "id": "bdea243a-71c3-41de-bc73-eadaa5fc6202",
   "metadata": {},
   "outputs": [],
   "source": [
    "# Create JetStream context.\n",
    "js = nc.jetstream()\n",
    "\n",
    "# Persist messages on 'foo's subject.\n",
    "await js.add_stream(name=\"sample-stream\", subjects=[\"foo\"])"
   ]
  },
  {
   "cell_type": "code",
   "execution_count": null,
   "id": "7111cb9d-740a-4e71-b8a8-d1de1b186ac0",
   "metadata": {},
   "outputs": [],
   "source": [
    "for i in range(0, 10):\n",
    "    ack = await js.publish(\"foo\", f\"hello world test de Juan: {i}\".encode())\n",
    "    print(ack)"
   ]
  },
  {
   "cell_type": "code",
   "execution_count": null,
   "id": "d80ce1b2-056c-4932-a47d-021dafc9a523",
   "metadata": {},
   "outputs": [],
   "source": []
  }
 ],
 "metadata": {
  "kernelspec": {
   "display_name": "Python 3 (ipykernel)",
   "language": "python",
   "name": "python3"
  },
  "language_info": {
   "codemirror_mode": {
    "name": "ipython",
    "version": 3
   },
   "file_extension": ".py",
   "mimetype": "text/x-python",
   "name": "python",
   "nbconvert_exporter": "python",
   "pygments_lexer": "ipython3",
   "version": "3.11.10"
  }
 },
 "nbformat": 4,
 "nbformat_minor": 5
}
