{
 "cells": [
  {
   "cell_type": "code",
   "execution_count": 2,
   "id": "621d48e8-b4e5-4c19-a904-eed5026f018a",
   "metadata": {},
   "outputs": [],
   "source": [
    "import asyncio\n",
    "import nats\n",
    "from nats.errors import ConnectionClosedError, TimeoutError, NoServersError"
   ]
  },
  {
   "cell_type": "code",
   "execution_count": 3,
   "id": "b598ac9f-4eee-4f7c-a7d6-c4f24ca2f54c",
   "metadata": {},
   "outputs": [],
   "source": [
    "nc = await nats.connect(\"localhost\")"
   ]
  },
  {
   "cell_type": "code",
   "execution_count": 4,
   "id": "bdea243a-71c3-41de-bc73-eadaa5fc6202",
   "metadata": {},
   "outputs": [
    {
     "data": {
      "text/plain": [
       "StreamInfo(config=StreamConfig(name='sample-stream', description=None, subjects=['foo'], retention='limits', max_consumers=-1, max_msgs=-1, max_bytes=-1, discard='old', max_age=0.0, max_msgs_per_subject=-1, max_msg_size=-1, storage='file', num_replicas=1, no_ack=False, template_owner=None, duplicate_window=120.0, placement=None, mirror=None, sources=None, sealed=False, deny_delete=False, deny_purge=False, allow_rollup_hdrs=False, republish=None, subject_transform=None, allow_direct=False, mirror_direct=False, compression='none', metadata=None), state=StreamState(messages=30, bytes=1670, first_seq=1, last_seq=30, consumer_count=1, deleted=None, num_deleted=None, lost=None, subjects=None), mirror=None, sources=None, cluster=None, did_create=True)"
      ]
     },
     "execution_count": 4,
     "metadata": {},
     "output_type": "execute_result"
    }
   ],
   "source": [
    "# Create JetStream context.\n",
    "js = nc.jetstream()\n",
    "\n",
    "# Persist messages on 'foo's subject.\n",
    "await js.add_stream(name=\"sample-stream\", subjects=[\"foo\"])"
   ]
  },
  {
   "cell_type": "code",
   "execution_count": 5,
   "id": "7111cb9d-740a-4e71-b8a8-d1de1b186ac0",
   "metadata": {},
   "outputs": [
    {
     "name": "stdout",
     "output_type": "stream",
     "text": [
      "PubAck(stream='sample-stream', seq=31, domain=None, duplicate=None)\n",
      "PubAck(stream='sample-stream', seq=32, domain=None, duplicate=None)\n",
      "PubAck(stream='sample-stream', seq=33, domain=None, duplicate=None)\n",
      "PubAck(stream='sample-stream', seq=34, domain=None, duplicate=None)\n",
      "PubAck(stream='sample-stream', seq=35, domain=None, duplicate=None)\n",
      "PubAck(stream='sample-stream', seq=36, domain=None, duplicate=None)\n",
      "PubAck(stream='sample-stream', seq=37, domain=None, duplicate=None)\n",
      "PubAck(stream='sample-stream', seq=38, domain=None, duplicate=None)\n",
      "PubAck(stream='sample-stream', seq=39, domain=None, duplicate=None)\n",
      "PubAck(stream='sample-stream', seq=40, domain=None, duplicate=None)\n"
     ]
    }
   ],
   "source": [
    "for i in range(0, 10):\n",
    "    ack = await js.publish(\"foo\", f\"hello world test de Juan: {i}\".encode())\n",
    "    print(ack)"
   ]
  },
  {
   "cell_type": "code",
   "execution_count": null,
   "id": "d80ce1b2-056c-4932-a47d-021dafc9a523",
   "metadata": {},
   "outputs": [],
   "source": []
  }
 ],
 "metadata": {
  "kernelspec": {
   "display_name": "Python 3 (ipykernel)",
   "language": "python",
   "name": "python3"
  },
  "language_info": {
   "codemirror_mode": {
    "name": "ipython",
    "version": 3
   },
   "file_extension": ".py",
   "mimetype": "text/x-python",
   "name": "python",
   "nbconvert_exporter": "python",
   "pygments_lexer": "ipython3",
   "version": "3.11.10"
  }
 },
 "nbformat": 4,
 "nbformat_minor": 5
}
