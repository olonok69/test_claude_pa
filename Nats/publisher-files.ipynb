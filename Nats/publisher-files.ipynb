{
 "cells": [
  {
   "cell_type": "markdown",
   "id": "dc82d19e-97cc-4247-80a9-150d73811f16",
   "metadata": {},
   "source": [
    "# Nats (Neural Autonomic Transport System)\n",
    "##  NATS (Core)\n",
    "NATS is a high-performance, distributed messaging system that facilitates communication between applications through a publish/subscribe pattern. \n",
    "\n",
    "- Messaging System: NATS is a publish/subscribe messaging system where applications publish messages to subjects (similar to topics) and subscribers can receive messages from those subjects. \n",
    "- Fast & Scalable: Designed for high performance and scalability, NATS is suitable for microservices, edge computing, and IoT applications. \n",
    "- Simple Design: NATS employs a simple design where clients publish and subscribe to subjects, and the server handles routing messages. \n",
    "- Interoperability:Core NATS and JetStream work together; JetStream streams listen to NATS messages. \n",
    "\n",
    "\n",
    "## NATS JetStream:\n",
    "\n",
    "NATS JetStream is a persistence engine built into NATS that enables message storage and replay, offering features like streaming, at-least-once delivery, and historical data replay\n",
    "\n",
    "- Persistence Engine: JetStream is a built-in persistence engine within NATS that allows messages to be stored and replayed. \n",
    "- Streaming & Replay: JetStream enables messages to be captured and replayed to consumers as needed, even if they weren't actively subscribed at the time of publication. \n",
    "- At-Least-Once Semantics: JetStream provides at-least-once delivery guarantees, ensuring messages are delivered at least once to consumers. \n",
    "- Features: Includes streaming, message queueing, durable subscriptions, and historical data replay. \n",
    "- Data Storage: JetStream stores messages in streams, which define how messages are stored and limits such as retention policies. \n",
    "- Consumers: Consumers are responsible for replaying messages from a stream, and their configuration specifies how messages should be presented to clients. \n",
    "- Object Store: JetStream also includes an object store feature for storing and transferring files. \n",
    "- Scalability: JetStream supports horizontal scaling and can be deployed in various environments, including edge and cloud.\n",
    "\n",
    "In essence, NATS is the core messaging system, while NATS JetStream adds the persistence and streaming capabilities, making it suitable for more complex scenarios where message storage and replay are required\n",
    "\n",
    "\n",
    "## Installation\n",
    "\n",
    "https://docs.nats.io/running-a-nats-service/introduction/installation\n",
    "https://github.com/nats-io/nats.docs/blob/master/running-a-nats-service/installation.md\n",
    "https://github.com/nats-io/nats-server\n"
   ]
  },
  {
   "attachments": {},
   "cell_type": "markdown",
   "id": "acfd097a-81e9-4d09-9f96-0ac58ad78003",
   "metadata": {},
   "source": [
    "![image.png](nats.png)"
   ]
  },
  {
   "cell_type": "code",
   "execution_count": 2,
   "id": "cb579ce0-ba58-4e8f-928c-b673b97a2e9e",
   "metadata": {},
   "outputs": [],
   "source": [
    "import asyncio\n",
    "import nats\n",
    "from nats.errors import ConnectionClosedError, TimeoutError, NoServersError\n",
    "import os\n",
    "import glob"
   ]
  },
  {
   "cell_type": "code",
   "execution_count": 3,
   "id": "b598ac9f-4eee-4f7c-a7d6-c4f24ca2f54c",
   "metadata": {},
   "outputs": [],
   "source": [
    "# nc = await nats.connect(\"localhost\")\n",
    "# print(\"Maximum payload is %d bytes\" % nc.max_payload)"
   ]
  },
  {
   "cell_type": "code",
   "execution_count": 4,
   "id": "d80ce1b2-056c-4932-a47d-021dafc9a523",
   "metadata": {},
   "outputs": [],
   "source": [
    "async def publish_images_from_folder(nats_url, stream_name, subject, input_folder):\n",
    "    \"\"\"\n",
    "    Publishes all images from a folder to NATS JetStream.\n",
    "    \"\"\"\n",
    "    try:\n",
    "        nc = await nats.connect(nats_url)\n",
    "        js = nc.jetstream()\n",
    "\n",
    "        for file_path in glob.glob(os.path.join(input_folder, \"*\")):\n",
    "            if os.path.isfile(file_path):\n",
    "                filename = os.path.basename(file_path)\n",
    "                with open(file_path, \"rb\") as file:\n",
    "                    image_data = file.read()\n",
    "\n",
    "                await js.publish(subject, image_data, stream=stream_name, headers={\"file-name\": filename})\n",
    "                print(f\"Published image '{filename}' to {subject} in stream {stream_name}\")\n",
    "    except Exception as e:\n",
    "        print(f\"Error publishing images: {e}\")\n",
    "    finally:\n",
    "        await nc.close()\n"
   ]
  },
  {
   "cell_type": "code",
   "execution_count": 5,
   "id": "e7192454-9953-47d3-9b20-42fd26ee6cc6",
   "metadata": {},
   "outputs": [],
   "source": [
    "nats_url = \"nats://localhost:4222\"\n",
    "stream_name = \"IMAGE_STREAM\"\n",
    "subject = \"images.process\"\n",
    "input_folder = \"images\" #Replace with your file path\n",
    "output_folder  = \"output\" #Directory where files will be saved.\n",
    "\n",
    "\n"
   ]
  },
  {
   "cell_type": "code",
   "execution_count": 6,
   "id": "90c2e834-0a72-41a7-a994-421165c67987",
   "metadata": {},
   "outputs": [
    {
     "name": "stdout",
     "output_type": "stream",
     "text": [
      "Published image 'background.png' to images.process in stream IMAGE_STREAM\n",
      "Published image 'ER_0.jpg' to images.process in stream IMAGE_STREAM\n",
      "Published image 'Image attachment uploaded at 12_14 AM by Jamie Welsted.png' to images.process in stream IMAGE_STREAM\n",
      "Published image 'OCR Test Document IMG_0.gif' to images.process in stream IMAGE_STREAM\n",
      "Published image 'OCR Test Document IMG_1.jpg' to images.process in stream IMAGE_STREAM\n",
      "Published image 'OCR Test Document IMG_2.png' to images.process in stream IMAGE_STREAM\n",
      "Published image 'OCR Test Document IMG_3.tif' to images.process in stream IMAGE_STREAM\n",
      "Published image 'pict001.jpg' to images.process in stream IMAGE_STREAM\n",
      "Published image 'pict001q.jpg' to images.process in stream IMAGE_STREAM\n",
      "Published image 'pict002.jpg' to images.process in stream IMAGE_STREAM\n",
      "Published image 'pict002q.jpg' to images.process in stream IMAGE_STREAM\n",
      "Published image 'pict003-q.jpg' to images.process in stream IMAGE_STREAM\n",
      "Published image 'pict003.jpg' to images.process in stream IMAGE_STREAM\n"
     ]
    }
   ],
   "source": [
    "\n",
    "await publish_images_from_folder(nats_url, stream_name, subject, input_folder)\n",
    "        "
   ]
  },
  {
   "cell_type": "code",
   "execution_count": null,
   "id": "1edc812e-f603-41c9-87f6-2b5909b97b72",
   "metadata": {},
   "outputs": [],
   "source": []
  },
  {
   "cell_type": "code",
   "execution_count": null,
   "id": "363f83df-1927-4287-bc56-4e969c7e0dbe",
   "metadata": {},
   "outputs": [],
   "source": []
  }
 ],
 "metadata": {
  "kernelspec": {
   "display_name": "Python 3 (ipykernel)",
   "language": "python",
   "name": "python3"
  },
  "language_info": {
   "codemirror_mode": {
    "name": "ipython",
    "version": 3
   },
   "file_extension": ".py",
   "mimetype": "text/x-python",
   "name": "python",
   "nbconvert_exporter": "python",
   "pygments_lexer": "ipython3",
   "version": "3.11.11"
  }
 },
 "nbformat": 4,
 "nbformat_minor": 5
}
