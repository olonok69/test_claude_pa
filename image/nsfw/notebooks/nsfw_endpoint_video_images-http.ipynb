{
 "cells": [
  {
   "cell_type": "code",
   "execution_count": null,
   "id": "d79ea36b",
   "metadata": {},
   "outputs": [],
   "source": [
    "import mimetypes\n",
    "import datetime\n",
    "import requests\n",
    "import datetime\n",
    "import base64\n",
    "import json\n",
    "import io\n",
    "from PIL import Image"
   ]
  },
  {
   "cell_type": "code",
   "execution_count": null,
   "id": "be27f028",
   "metadata": {},
   "outputs": [],
   "source": [
    "from IPython.display import Video"
   ]
  },
  {
   "cell_type": "code",
   "execution_count": null,
   "id": "5e0fff77",
   "metadata": {},
   "outputs": [],
   "source": [
    "path_video= \"images/sample-mp4-file.mp4\"\n",
    "Video(path_video, embed=True)"
   ]
  },
  {
   "cell_type": "code",
   "execution_count": null,
   "id": "e7212ec1",
   "metadata": {},
   "outputs": [],
   "source": [
    "#production_id_3997798 (2160p).mp4\n",
    "path_video= \"images/production_id_3997798 (2160p).mp4\"\n",
    "Video(path_video, embed=True, width=200,    height=200,)"
   ]
  },
  {
   "cell_type": "code",
   "execution_count": null,
   "id": "d7fc8a8a",
   "metadata": {},
   "outputs": [],
   "source": [
    "with open(path_video, \"rb\") as f:\n",
    "    im_bytes = f.read()        \n",
    "im_b64 = base64.b64encode(im_bytes).decode(\"utf8\")"
   ]
  },
  {
   "cell_type": "code",
   "execution_count": null,
   "id": "f9dd73a0",
   "metadata": {},
   "outputs": [],
   "source": [
    "with open(\"images/ocr_1_file.json\", \"r\") as f:\n",
    "    list_docs = json.load(f)"
   ]
  },
  {
   "cell_type": "code",
   "execution_count": null,
   "id": "58204228",
   "metadata": {},
   "outputs": [],
   "source": [
    "list_docs['documents'][0]['source']['content'] = im_b64\n",
    "list_docs['documents'][0]['source']['file_name'] = \"file_example_MP4_480_1_5MG.mp4\"\n",
    "list_docs['documents'][0]['source']['file_type'] = \"mp4\"\n",
    "list_docs['threshold'] = 0.5\n",
    "list_docs['documents'][0]['source']['fs'] ['uri']= 'file:///home/demofilesystem/test_data/Large%20Control%20DataSet/Office%20Files%20and%20Documents/DOC/file_example_MP4_480_1_5MG.mp4'"
   ]
  },
  {
   "cell_type": "code",
   "execution_count": null,
   "id": "3a91c25a-6c5d-4ebd-a3c2-1d62143dd98d",
   "metadata": {},
   "outputs": [],
   "source": [
    "list_docs['documents'][0].keys()"
   ]
  },
  {
   "cell_type": "code",
   "execution_count": null,
   "id": "cff794aa",
   "metadata": {},
   "outputs": [],
   "source": [
    "with open(\"images/video_1_file.json\", \"w\") as f:\n",
    "    json.dump(list_docs,f,  indent=4)"
   ]
  },
  {
   "cell_type": "code",
   "execution_count": null,
   "id": "df3f1beb",
   "metadata": {},
   "outputs": [],
   "source": [
    "data1 = json.dumps(list_docs).encode()"
   ]
  },
  {
   "cell_type": "code",
   "execution_count": null,
   "id": "d2f07496",
   "metadata": {},
   "outputs": [],
   "source": [
    "# data1=  json.dumps(data).encode()\n",
    "# data1"
   ]
  },
  {
   "cell_type": "code",
   "execution_count": null,
   "id": "ff8639a4",
   "metadata": {},
   "outputs": [],
   "source": [
    "url = \"http://localhost:8000/process\" \n",
    "\n",
    "try:\n",
    "    r = requests.post(url, data=data1)#files=files)\n",
    "    print(r.json())\n",
    "finally:\n",
    "\n",
    "    pass"
   ]
  },
  {
   "cell_type": "code",
   "execution_count": null,
   "id": "abfb00a5",
   "metadata": {},
   "outputs": [],
   "source": [
    "print(r.json()['error'])"
   ]
  },
  {
   "cell_type": "code",
   "execution_count": null,
   "id": "ad1de59f",
   "metadata": {},
   "outputs": [],
   "source": [
    "print(r.json()['data'][0]['source']['content'])"
   ]
  },
  {
   "cell_type": "code",
   "execution_count": null,
   "id": "068b54f4",
   "metadata": {},
   "outputs": [],
   "source": [
    "from IPython.display import Image"
   ]
  },
  {
   "cell_type": "code",
   "execution_count": null,
   "id": "9e593d5e",
   "metadata": {},
   "outputs": [],
   "source": [
    "path_image= \"images/hen1.jpg\"\n",
    "\n",
    "Image(filename = path_image, width=300, height=300)"
   ]
  },
  {
   "cell_type": "code",
   "execution_count": null,
   "id": "3380e586",
   "metadata": {},
   "outputs": [],
   "source": [
    "with open(path_image, \"rb\") as f:\n",
    "    im_bytes = f.read()        \n",
    "im_b64 = base64.b64encode(im_bytes).decode(\"utf8\")"
   ]
  },
  {
   "cell_type": "code",
   "execution_count": null,
   "id": "a860db84",
   "metadata": {},
   "outputs": [],
   "source": [
    "with open(\"images/ocr_1_file.json\", \"r\") as f:\n",
    "    list_docs = json.load(f)"
   ]
  },
  {
   "cell_type": "code",
   "execution_count": null,
   "id": "8e79241c",
   "metadata": {},
   "outputs": [],
   "source": [
    "list_docs['documents'][0]['source']['content'] = im_b64\n",
    "list_docs['documents'][0]['source']['file_name'] = \"hen2.jpg\"\n",
    "list_docs['documents'][0]['source']['file_type'] = \"jpg\"\n",
    "list_docs['threshold'] = 0.5\n",
    "list_docs['documents'][0]['source']['fs'] ['uri']= 'file:///home/demofilesystem/test_data/Large%20Control%20DataSet/Office%20Files%20and%20Documents/images/hen2.jpg'"
   ]
  },
  {
   "cell_type": "code",
   "execution_count": null,
   "id": "97f4b329",
   "metadata": {},
   "outputs": [],
   "source": [
    "with open(\"images/image_1_file.json\", \"w\") as f:\n",
    "    json.dump(list_docs,f,  indent=4)"
   ]
  },
  {
   "cell_type": "code",
   "execution_count": null,
   "id": "204e1460",
   "metadata": {},
   "outputs": [],
   "source": [
    "data1 = json.dumps(list_docs).encode()"
   ]
  },
  {
   "cell_type": "code",
   "execution_count": null,
   "id": "4eef939f",
   "metadata": {},
   "outputs": [],
   "source": [
    "url = \"http://localhost:8000/process\" \n",
    "\n",
    "try:\n",
    "    r = requests.post(url, data=data1)#files=files)\n",
    "    print(r.json())\n",
    "finally:\n",
    "\n",
    "    pass"
   ]
  },
  {
   "cell_type": "code",
   "execution_count": null,
   "id": "3ab37326",
   "metadata": {},
   "outputs": [],
   "source": [
    "r.json()['data'][0]['source']['content']"
   ]
  },
  {
   "cell_type": "code",
   "execution_count": null,
   "id": "aae3db51",
   "metadata": {},
   "outputs": [],
   "source": [
    "from pydantic import BaseModel\n",
    "from typing import Union, List, Dict, Optional\n",
    "\n",
    "from pydantic_settings import BaseSettings\n",
    "\n",
    "\n",
    "class Index_Response(BaseModel):\n",
    "    \"\"\"\n",
    "    this class contains the response from the OCR process\n",
    "    \"\"\"\n",
    "\n",
    "    status: Dict = {}  # status code and message\n",
    "    data: Optional[Union[dict, List]] = None  # Data extracted from the OCR process\n",
    "    error: str = \"\"  # Error message\n",
    "    number_documents_treated: int = 0  # Number of documents treated\n",
    "    number_documents_non_treated: int = 0  # Number of documents not treated\n",
    "    list_id_not_treated: List = []  # List of documents not treated\n",
    "    memory_used: str = \"\"  # Memory used in the process\n",
    "    ram_used: str = \"\"  # RAM used in the process"
   ]
  },
  {
   "cell_type": "code",
   "execution_count": null,
   "id": "31e905ad-4278-4650-92d9-5f70dd7de0aa",
   "metadata": {},
   "outputs": [],
   "source": [
    "out = Index_Response()"
   ]
  },
  {
   "cell_type": "code",
   "execution_count": null,
   "id": "5b0b45eb-9e74-425f-9ace-d532ee00deb9",
   "metadata": {},
   "outputs": [],
   "source": [
    "out.json()"
   ]
  },
  {
   "cell_type": "code",
   "execution_count": null,
   "id": "95dc6579-c661-4fa0-9114-524f5cc42678",
   "metadata": {},
   "outputs": [],
   "source": [
    "from detectaicore import print_stack"
   ]
  },
  {
   "cell_type": "code",
   "execution_count": null,
   "id": "c285ce1c-5494-48eb-b690-93102f537ca0",
   "metadata": {},
   "outputs": [],
   "source": [
    "out_dict = out.dict()"
   ]
  },
  {
   "cell_type": "code",
   "execution_count": null,
   "id": "c4025cdb-d852-4632-9d7f-9ac79f4349ac",
   "metadata": {},
   "outputs": [],
   "source": [
    "try:\n",
    "    1/0\n",
    "except:\n",
    "    json_compatible_item_data = print_stack(out)"
   ]
  },
  {
   "cell_type": "code",
   "execution_count": null,
   "id": "deeeb041-2057-40d6-a72f-237c92b5f4dd",
   "metadata": {},
   "outputs": [],
   "source": [
    "json_compatible_item_data"
   ]
  },
  {
   "cell_type": "code",
   "execution_count": null,
   "id": "acfe90ee-d2b5-4434-b4fa-70fea9f851aa",
   "metadata": {},
   "outputs": [],
   "source": []
  }
 ],
 "metadata": {
  "kernelspec": {
   "display_name": "Python (image)",
   "language": "python",
   "name": "image"
  },
  "language_info": {
   "codemirror_mode": {
    "name": "ipython",
    "version": 3
   },
   "file_extension": ".py",
   "mimetype": "text/x-python",
   "name": "python",
   "nbconvert_exporter": "python",
   "pygments_lexer": "ipython3",
   "version": "3.11.11"
  }
 },
 "nbformat": 4,
 "nbformat_minor": 5
}
