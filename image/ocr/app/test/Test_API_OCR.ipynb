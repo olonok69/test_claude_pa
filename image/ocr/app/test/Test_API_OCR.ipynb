{
 "cells": [
  {
   "cell_type": "code",
   "execution_count": 1,
   "id": "bad1a948-c21a-47c1-bd9e-728a4a3153b1",
   "metadata": {},
   "outputs": [],
   "source": [
    "import requests\n",
    "import datetime\n",
    "import base64\n",
    "import json\n",
    "import io\n",
    "import os\n",
    "from PIL import Image\n",
    "import uuid\n",
    "from pathlib import Path\n",
    "#url = 'http://127.0.0.1:5003/extract_text'\n",
    "url = 'http://127.0.0.1:5003/process'\n",
    "\n",
    "ROOT = os.getcwd()\n",
    "DATA_PATH = os.path.join(ROOT, \"files_test\")\n",
    "OUTPUT_PATH = os.path.join(ROOT,\"output\")"
   ]
  },
  {
   "cell_type": "code",
   "execution_count": 2,
   "id": "73693eeb-2d93-4d6d-9afb-ca70af07eb77",
   "metadata": {},
   "outputs": [
    {
     "data": {
      "text/plain": [
       "'D:\\\\repos\\\\nlp\\\\notebooks\\\\OCR\\\\test\\\\output'"
      ]
     },
     "execution_count": 2,
     "metadata": {},
     "output_type": "execute_result"
    }
   ],
   "source": [
    "OUTPUT_PATH"
   ]
  },
  {
   "cell_type": "code",
   "execution_count": 3,
   "id": "e5c1b367-c8b4-4686-966e-f733c068176d",
   "metadata": {},
   "outputs": [],
   "source": [
    "def read_file(IMAGE_PATH):\n",
    "    with open(IMAGE_PATH, \"rb\") as f:\n",
    "        im_bytes = f.read()        \n",
    "    im_b64 = base64.b64encode(im_bytes).decode(\"utf8\")\n",
    "    return im_b64"
   ]
  },
  {
   "cell_type": "markdown",
   "id": "406d69ed-3910-4116-89a2-1e9eed3bcfa2",
   "metadata": {},
   "source": [
    "# Files to test"
   ]
  },
  {
   "cell_type": "code",
   "execution_count": 336,
   "id": "435131a6-9bc4-48ea-ac22-e783ab789943",
   "metadata": {},
   "outputs": [],
   "source": [
    "filename = os.path.join(DATA_PATH, \"contribution_form_Juan_23082023.pdf\")\n",
    "filename = os.path.join(DATA_PATH, \"image_0.png\") # Handwritting\n",
    "filename = os.path.join(DATA_PATH, \"image_1.png\") # Handwritting\n",
    "filename = os.path.join(DATA_PATH, \"image_2.png\") # Handwritting\n",
    "filename = os.path.join(DATA_PATH, \"pict001.jpg\")\n",
    "filename = os.path.join(DATA_PATH, \"pict002.jpg\")\n",
    "filename = os.path.join(DATA_PATH, \"pict003.jpg\")\n",
    "filename = os.path.join(DATA_PATH, \"senior_python_developer_nlplogix1_sm_gif.gif\")\n",
    "filename = os.path.join(DATA_PATH, \"senior_python_developer_nlplogix1_sm_jpg.jpg\")\n",
    "filename = os.path.join(DATA_PATH, \"senior_python_developer_nlplogix1_sm_png.png\")\n",
    "filename = os.path.join(DATA_PATH, \"senior_python_developer_nlplogix1_sm_tiff.tiff\")\n",
    "filename = os.path.join(DATA_PATH, \"senior_python_developer_nlplogix2_sm_bmp.bmp\")\n",
    "filename = os.path.join(DATA_PATH, \"statement_22.jpeg\")\n",
    "filename = os.path.join(DATA_PATH, \"test_images.docx\") \n",
    "filename = os.path.join(DATA_PATH, \"test_ppt.pptx\")\n",
    "filename = os.path.join(DATA_PATH, \"test_rtf.rtf\")\n",
    "filename = os.path.join(DATA_PATH, \"test2_odt.odt\")\n",
    "filename = os.path.join(DATA_PATH, \"CryptoCertificte-SS-V0.tiff\")#CryptoCertificte-SS-V0\n",
    "filename = os.path.join(DATA_PATH, \"Doc1.docx\")\n",
    "filename = os.path.join(DATA_PATH, \"Doc1.doc\")\n",
    "filename = os.path.join(DATA_PATH, \"base64.html\")\n",
    "filename = os.path.join(DATA_PATH, \"ppt_test.ppt\")"
   ]
  },
  {
   "cell_type": "code",
   "execution_count": 337,
   "id": "a29a9a29-09bc-4faf-8c16-de6f093377d7",
   "metadata": {},
   "outputs": [],
   "source": [
    "im_b64 = read_file(filename)"
   ]
  },
  {
   "cell_type": "code",
   "execution_count": 338,
   "id": "bf3527fb-8f03-4e36-a412-a963ba65cbfe",
   "metadata": {},
   "outputs": [],
   "source": [
    "ext=filename.split(\".\")[-1]"
   ]
  },
  {
   "cell_type": "code",
   "execution_count": 339,
   "id": "eea1f789-2ae2-4910-a0c8-f7ffb8248389",
   "metadata": {},
   "outputs": [],
   "source": [
    "with open(\"template.json\", \"r\") as f:\n",
    "    req =  json.load(f)"
   ]
  },
  {
   "cell_type": "code",
   "execution_count": 340,
   "id": "bc397ec8-01e9-4b96-8402-32ca12e38ed7",
   "metadata": {},
   "outputs": [],
   "source": [
    "req['documents'][0]['source']['content'] = im_b64"
   ]
  },
  {
   "cell_type": "code",
   "execution_count": 341,
   "id": "ae232100-0f65-4561-ae4d-a11644feea16",
   "metadata": {},
   "outputs": [
    {
     "data": {
      "text/plain": [
       "'0M8R4KGxGuEAAAAAAAAAAAAAAAAAAAAAPgADAP7/CQAGAAAAAA'"
      ]
     },
     "execution_count": 341,
     "metadata": {},
     "output_type": "execute_result"
    }
   ],
   "source": [
    "im_b64[:50]"
   ]
  },
  {
   "cell_type": "code",
   "execution_count": 342,
   "id": "44964a8c-e944-44d2-a75f-526a5cf14901",
   "metadata": {},
   "outputs": [
    {
     "data": {
      "text/plain": [
       "'ppt'"
      ]
     },
     "execution_count": 342,
     "metadata": {},
     "output_type": "execute_result"
    }
   ],
   "source": [
    "req['documents'][0]['source']['file_type'] = ext\n",
    "req['documents'][0]['source']['file_type']"
   ]
  },
  {
   "cell_type": "code",
   "execution_count": 352,
   "id": "d7d97b98-83fd-4da8-a7ef-4fa7efb0a16f",
   "metadata": {},
   "outputs": [
    {
     "data": {
      "text/plain": [
       "'ppt_test.ppt'"
      ]
     },
     "execution_count": 352,
     "metadata": {},
     "output_type": "execute_result"
    }
   ],
   "source": [
    "Path(filename).name"
   ]
  },
  {
   "cell_type": "code",
   "execution_count": 353,
   "id": "6fe53a1e-8d15-4d58-b91d-5d57bdab7cfb",
   "metadata": {},
   "outputs": [],
   "source": [
    "data1 = json.dumps(req).encode()\n",
    "response = requests.post(url, data=data1)\n",
    "try:\n",
    "    out = response.json()\n",
    "    text = out['data'][0]['source']['content']\n",
    "    out_file = Path(filename).name\n",
    "    file_output = out_file.split(\".\")[0] + \".txt\"\n",
    "    file_path = os.path.join(OUTPUT_PATH, file_output)\n",
    "    with open(file_path, \"w\", encoding=\"utf-8\") as file:\n",
    "         file.write(str(text))\n",
    "\n",
    "except:\n",
    "    print(f\"file {filename} error {response.json()['error']}\")\n",
    "    "
   ]
  },
  {
   "cell_type": "code",
   "execution_count": 354,
   "id": "eb4965b1-90f9-4ee6-a3ba-464b6b5b8f38",
   "metadata": {},
   "outputs": [],
   "source": [
    "out = response.json()"
   ]
  },
  {
   "cell_type": "code",
   "execution_count": 355,
   "id": "467b80ae-35c5-4cba-aaf3-282548ec3379",
   "metadata": {},
   "outputs": [
    {
     "data": {
      "text/plain": [
       "{'status': {'code': 200, 'message': 'Success'},\n",
       " 'data': [{'id': 'c5613d504ddd3367d15ba6ab9245c062018fa21135aec4d452f9b3e4d88c441b',\n",
       "   'index': 'large_control_dataset-doc',\n",
       "   'source': {'content': 'Excellent analytical skills and strongwritten and verbal communication skills\\nRequirements (Nice-to-Haves):\\nExperience or exposure to OcR technologies\\nExperience or exposure to image processing algorithms\\nExperienceorexposure tonumpy,scipy,opencv and skimage\\nExperience or exposure to scikit-learn\\nExperience with C#,Java or JavaScript\\nDeveloping,deploying and scaling Docker components\\nGeneral exposure and familiarity with Machine Learning technologies\\nEducation:\\nBachelor\\'s degree from four-year college or university,preferred; and five years\\nexperience in general software development or comparable related experience.\\nExperience working with one or more major relational database technology (Oracle,\\nSQL\\nServer,MySQL,PostreSQ)\\nComfortable working in both Windows and Linux based environments\\nAbility to work effectively with colleagues\\nAbility to workwith minimal supervision\\nExcellent analytical skills and strong written and verbal communication skills\\nRequirements (Nice-to-Haves):\\nExperience or exposure to OcR technologies\\nExperience or exposure to image processing algorithms\\nExperience or exposure to scikit-learn\\nExperience with C#,Java or JavaScript\\nDeveloping,deploying and scaling Docker components\\nGeneral exposure and familiarity with Machine Learning technologies\\n### NEW PAGE ###\\nEducation:\\nBachelor\\'s degreefrom four-year college or university,preferred; and fiveyears\\nexperience in generalsoftware development or comparable related experience.\\nNOH1-bVISASPLEASE!\\nAboutNLPLogix:\\nNLP LOGIXisa small butfast-growingData Sciencefirm located in Jacksonville,FL.Webuild\\nproducts andservices that leverage the latest inmachine learning and statistical technologies.\\n### NEW PAGE ###\\nSenior Python Developer\\nNLP Logix Jacksonville,FL,USA\\nBenefits Offered\\n401K,Dental,Life,Medical,Vision\\nEmployment Type\\nFull-Time\\nWhy Work Here?\\n\"Working forNLP LoGix will giveyou a unique opportunity to learn and play an integral role building new and\\nexciting products.\"\\nSeeking Senior Software Developer for a cutting-edge computer vision product company,\\nScribe Fusion (www.scribefusion.com),a division of NLP Logix.The ideal candidate will be\\ncomfortable working with multiple technology stacks and operating systems.Responsibilities\\ninclude developing both back-end and front-end components,however the focus will be\\nprimarily on back-end components.Much of the development activities will be focused on new\\nfeatures and components,however existing product installations need to be maintained as\\nwell.We encourage a collaborative,ego-free environment with a focus on producing amazing\\nproducts and exceeding customer expectations.\\nResponsibilities:\\nDevelop and interact with computer vision models.\\nDevelop Docker components to be consumed by workflow-based applications.\\nWork with clients on integrations with existing systems.\\nDevelop GUI applications, surfacing results of backend processes.\\nRequirements (Must-Haves):\\n5+years of software development experience\\nMultiple years\\'experience with Python is strongly preferred\\nExperience working with one ormore major relational database technology Oracle,\\nSQL\\nServer,MySQL,PostgreSQL)\\nComfortable working in both Windows and Linuxbased environments\\nAbility to work effectively with colleagues\\nAbility to workwith minimal supervision',\n",
       "    'fs': {'uri': 'file:///home/demofilesystem/test_data/large%20control%20dataset/office%20files%20and%20documents/doc/test.jpg'},\n",
       "    'file_name': 'test.jpg',\n",
       "    'file_type': 'ppt'}}],\n",
       " 'error': '',\n",
       " 'number_documents_treated': 1,\n",
       " 'number_documents_non_treated': 0,\n",
       " 'list_id_not_treated': []}"
      ]
     },
     "execution_count": 355,
     "metadata": {},
     "output_type": "execute_result"
    }
   ],
   "source": [
    "out"
   ]
  },
  {
   "cell_type": "code",
   "execution_count": 356,
   "id": "ce447214-4e35-4a59-8dd1-7cb2ae9cbb91",
   "metadata": {},
   "outputs": [
    {
     "name": "stdout",
     "output_type": "stream",
     "text": [
      "Excellent analytical skills and strongwritten and verbal communication skills\n",
      "Requirements (Nice-to-Haves):\n",
      "Experience or exposure to OcR technologies\n",
      "Experience or exposure to image processing algorithms\n",
      "Experienceorexposure tonumpy,scipy,opencv and skimage\n",
      "Experience or exposure to scikit-learn\n",
      "Experience with C#,Java or JavaScript\n",
      "Developing,deploying and scaling Docker components\n",
      "General exposure and familiarity with Machine Learning technologies\n",
      "Education:\n",
      "Bachelor's degree from four-year college or university,preferred; and five years\n",
      "experience in general software development or comparable related experience.\n",
      "Experience working with one or more major relational database technology (Oracle,\n",
      "SQL\n",
      "Server,MySQL,PostreSQ)\n",
      "Comfortable working in both Windows and Linux based environments\n",
      "Ability to work effectively with colleagues\n",
      "Ability to workwith minimal supervision\n",
      "Excellent analytical skills and strong written and verbal communication skills\n",
      "Requirements (Nice-to-Haves):\n",
      "Experience or exposure to OcR technologies\n",
      "Experience or exposure to image processing algorithms\n",
      "Experience or exposure to scikit-learn\n",
      "Experience with C#,Java or JavaScript\n",
      "Developing,deploying and scaling Docker components\n",
      "General exposure and familiarity with Machine Learning technologies\n",
      "### NEW PAGE ###\n",
      "Education:\n",
      "Bachelor's degreefrom four-year college or university,preferred; and fiveyears\n",
      "experience in generalsoftware development or comparable related experience.\n",
      "NOH1-bVISASPLEASE!\n",
      "AboutNLPLogix:\n",
      "NLP LOGIXisa small butfast-growingData Sciencefirm located in Jacksonville,FL.Webuild\n",
      "products andservices that leverage the latest inmachine learning and statistical technologies.\n",
      "### NEW PAGE ###\n",
      "Senior Python Developer\n",
      "NLP Logix Jacksonville,FL,USA\n",
      "Benefits Offered\n",
      "401K,Dental,Life,Medical,Vision\n",
      "Employment Type\n",
      "Full-Time\n",
      "Why Work Here?\n",
      "\"Working forNLP LoGix will giveyou a unique opportunity to learn and play an integral role building new and\n",
      "exciting products.\"\n",
      "Seeking Senior Software Developer for a cutting-edge computer vision product company,\n",
      "Scribe Fusion (www.scribefusion.com),a division of NLP Logix.The ideal candidate will be\n",
      "comfortable working with multiple technology stacks and operating systems.Responsibilities\n",
      "include developing both back-end and front-end components,however the focus will be\n",
      "primarily on back-end components.Much of the development activities will be focused on new\n",
      "features and components,however existing product installations need to be maintained as\n",
      "well.We encourage a collaborative,ego-free environment with a focus on producing amazing\n",
      "products and exceeding customer expectations.\n",
      "Responsibilities:\n",
      "Develop and interact with computer vision models.\n",
      "Develop Docker components to be consumed by workflow-based applications.\n",
      "Work with clients on integrations with existing systems.\n",
      "Develop GUI applications, surfacing results of backend processes.\n",
      "Requirements (Must-Haves):\n",
      "5+years of software development experience\n",
      "Multiple years'experience with Python is strongly preferred\n",
      "Experience working with one ormore major relational database technology Oracle,\n",
      "SQL\n",
      "Server,MySQL,PostgreSQL)\n",
      "Comfortable working in both Windows and Linuxbased environments\n",
      "Ability to work effectively with colleagues\n",
      "Ability to workwith minimal supervision\n"
     ]
    }
   ],
   "source": [
    "print(out['data'][0]['source']['content'])"
   ]
  },
  {
   "cell_type": "code",
   "execution_count": null,
   "id": "87cdedd7-f36f-4588-b2dd-f60fba941b0d",
   "metadata": {},
   "outputs": [],
   "source": []
  },
  {
   "cell_type": "code",
   "execution_count": null,
   "id": "15576062-55c3-4f5c-a43e-57bccce7eb19",
   "metadata": {},
   "outputs": [],
   "source": []
  }
 ],
 "metadata": {
  "kernelspec": {
   "display_name": "Python (pii)",
   "language": "python",
   "name": "pii"
  },
  "language_info": {
   "codemirror_mode": {
    "name": "ipython",
    "version": 3
   },
   "file_extension": ".py",
   "mimetype": "text/x-python",
   "name": "python",
   "nbconvert_exporter": "python",
   "pygments_lexer": "ipython3",
   "version": "3.11.10"
  }
 },
 "nbformat": 4,
 "nbformat_minor": 5
}
