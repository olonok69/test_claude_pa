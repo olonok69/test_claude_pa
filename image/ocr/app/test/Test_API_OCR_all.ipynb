{
 "cells": [
  {
   "cell_type": "code",
   "execution_count": 1,
   "id": "bad1a948-c21a-47c1-bd9e-728a4a3153b1",
   "metadata": {},
   "outputs": [],
   "source": [
    "import requests\n",
    "import datetime\n",
    "import base64\n",
    "import json\n",
    "import io\n",
    "import os\n",
    "from PIL import Image\n",
    "import uuid\n",
    "from pathlib import Path\n",
    "#url = 'http://127.0.0.1:5003/extract_text'\n",
    "url = 'http://127.0.0.1:5003/process'\n",
    "\n",
    "ROOT = os.getcwd()\n",
    "DATA_PATH = os.path.join(ROOT, \"files_test\")\n",
    "OUTPUT_PATH = os.path.join(ROOT,\"output\")"
   ]
  },
  {
   "cell_type": "code",
   "execution_count": 2,
   "id": "73693eeb-2d93-4d6d-9afb-ca70af07eb77",
   "metadata": {},
   "outputs": [
    {
     "data": {
      "text/plain": [
       "'D:\\\\repos\\\\nlp\\\\notebooks\\\\OCR\\\\test\\\\output'"
      ]
     },
     "execution_count": 2,
     "metadata": {},
     "output_type": "execute_result"
    }
   ],
   "source": [
    "OUTPUT_PATH"
   ]
  },
  {
   "cell_type": "code",
   "execution_count": 3,
   "id": "e5c1b367-c8b4-4686-966e-f733c068176d",
   "metadata": {},
   "outputs": [],
   "source": [
    "def read_file(IMAGE_PATH):\n",
    "    with open(IMAGE_PATH, \"rb\") as f:\n",
    "        im_bytes = f.read()        \n",
    "    im_b64 = base64.b64encode(im_bytes).decode(\"utf8\")\n",
    "    return im_b64"
   ]
  },
  {
   "cell_type": "markdown",
   "id": "406d69ed-3910-4116-89a2-1e9eed3bcfa2",
   "metadata": {},
   "source": [
    "# Files to test"
   ]
  },
  {
   "cell_type": "code",
   "execution_count": 4,
   "id": "435131a6-9bc4-48ea-ac22-e783ab789943",
   "metadata": {},
   "outputs": [],
   "source": [
    "filename1 = os.path.join(DATA_PATH, \"contribution_form_Juan_23082023.pdf\")\n",
    "filename2 = os.path.join(DATA_PATH, \"image_0.png\") # Handwritting\n",
    "filename3 = os.path.join(DATA_PATH, \"image_1.png\") # Handwritting\n",
    "filename4 = os.path.join(DATA_PATH, \"image_2.png\") # Handwritting\n",
    "filename5 = os.path.join(DATA_PATH, \"pict001.jpg\")\n",
    "filename6 = os.path.join(DATA_PATH, \"pict002.jpg\")\n",
    "filename7 = os.path.join(DATA_PATH, \"pict003.jpg\")\n",
    "filename8 = os.path.join(DATA_PATH, \"senior_python_developer_nlplogix1_sm_gif.gif\")\n",
    "filename9 = os.path.join(DATA_PATH, \"senior_python_developer_nlplogix1_sm_jpg.jpg\")\n",
    "filename10 = os.path.join(DATA_PATH, \"senior_python_developer_nlplogix1_sm_png.png\")\n",
    "filename11 = os.path.join(DATA_PATH, \"senior_python_developer_nlplogix1_sm_tiff.tiff\")\n",
    "filename12 = os.path.join(DATA_PATH, \"senior_python_developer_nlplogix2_sm_bmp.bmp\")\n",
    "filename13 = os.path.join(DATA_PATH, \"statement_22.jpeg\")\n",
    "filename14 = os.path.join(DATA_PATH, \"test_images.docx\") \n",
    "filename15 = os.path.join(DATA_PATH, \"test_ppt.pptx\")\n",
    "filename16 = os.path.join(DATA_PATH, \"test_rtf.rtf\")\n",
    "filename17 = os.path.join(DATA_PATH, \"test2_odt.odt\")\n",
    "filename18 = os.path.join(DATA_PATH, \"CryptoCertificte-SS-V0.tiff\")#CryptoCertificte-SS-V0\n",
    "filename19 = os.path.join(DATA_PATH, \"Doc1.docx\")\n",
    "filename20 = os.path.join(DATA_PATH, \"Doc1.doc\")\n",
    "filename21 = os.path.join(DATA_PATH, \"base64.html\")\n",
    "filename22 = os.path.join(DATA_PATH, \"ppt_test.ppt\")\n",
    "filename23 = os.path.join(DATA_PATH, \"senior_python_developer_nlplogix2_sm.tif\")\n",
    "filename24 = os.path.join(DATA_PATH, \"senior_python_developer_nlplogix2_sm.jpg\")"
   ]
  },
  {
   "cell_type": "code",
   "execution_count": 5,
   "id": "ffc77449-2ad2-48b9-8db7-2ec5c5e65ae1",
   "metadata": {},
   "outputs": [],
   "source": [
    "list_files = [filename1, filename2, filename3, filename4, filename5, filename6, filename7, filename8, filename9, filename10, filename11, filename12, filename13, \n",
    "              filename14, filename15, filename16, filename17, filename18, filename19, filename20, filename21, filename22, filename23, filename24]"
   ]
  },
  {
   "cell_type": "code",
   "execution_count": 6,
   "id": "d87d650b-9886-4fd3-8d6e-5a13e07eea0a",
   "metadata": {},
   "outputs": [
    {
     "name": "stdout",
     "output_type": "stream",
     "text": [
      "RAM memory % used: 39.1\n",
      "RAM Used (GB): 26.845462528\n"
     ]
    }
   ],
   "source": [
    "# Importing the library\n",
    "import psutil\n",
    " \n",
    "# Getting % usage of virtual_memory ( 3rd field)\n",
    "print('RAM memory % used:', psutil.virtual_memory()[2])\n",
    "# Getting usage of virtual_memory in GB ( 4th field)\n",
    "print('RAM Used (GB):', psutil.virtual_memory()[3]/1000000000)"
   ]
  },
  {
   "cell_type": "code",
   "execution_count": 20,
   "id": "aae03e91-cb7c-4534-9681-2316221fc38d",
   "metadata": {},
   "outputs": [],
   "source": [
    "memory_used_1 =psutil.virtual_memory()[2]\n",
    "ram_used_1 = psutil.virtual_memory()[3]/1000000000\n",
    "\n",
    "for filename in list_files:\n",
    "    im_b64 = read_file(filename)\n",
    "    ext=filename.split(\".\")[-1]\n",
    "\n",
    "    with open(\"template.json\", \"r\") as f:\n",
    "        req =  json.load(f)\n",
    "        \n",
    "    req['documents'][0]['source']['content'] = im_b64\n",
    "    req['documents'][0]['source']['file_type'] = ext\n",
    "    data1 = json.dumps(req).encode()\n",
    "    response = requests.post(url, data=data1)\n",
    "    try:\n",
    "        out = response.json()\n",
    "        text = out['data'][0]['source']['content']\n",
    "        out_file = Path(filename).name\n",
    "        file_output = out_file.split(\".\")[0] + \".txt\"\n",
    "        file_path = os.path.join(OUTPUT_PATH, file_output)\n",
    "        file_json = out_file.split(\".\")[0] + \".json\"\n",
    "        file_path_json = os.path.join(OUTPUT_PATH,\"json\", file_json)\n",
    "        with open(file_path, \"w\", encoding=\"utf-8\") as file:\n",
    "             file.write(str(text))\n",
    "        with open(file_path_json, \"w\") as f:\n",
    "            json.dump(out, f, indent=4)\n",
    "    \n",
    "    except:\n",
    "        print(f\"file {filename} error {response.json()['error']}\")\n",
    "\n",
    "memory_used_2 =psutil.virtual_memory()[2]\n",
    "ram_used_2 = psutil.virtual_memory()[3]/1000000000"
   ]
  },
  {
   "cell_type": "code",
   "execution_count": 21,
   "id": "a29a9a29-09bc-4faf-8c16-de6f093377d7",
   "metadata": {},
   "outputs": [
    {
     "data": {
      "text/plain": [
       "(38.5, 41.2)"
      ]
     },
     "execution_count": 21,
     "metadata": {},
     "output_type": "execute_result"
    }
   ],
   "source": [
    "memory_used_1, memory_used_2"
   ]
  },
  {
   "cell_type": "code",
   "execution_count": 22,
   "id": "bf3527fb-8f03-4e36-a412-a963ba65cbfe",
   "metadata": {},
   "outputs": [
    {
     "data": {
      "text/plain": [
       "(26.419843072, 28.261347328)"
      ]
     },
     "execution_count": 22,
     "metadata": {},
     "output_type": "execute_result"
    }
   ],
   "source": [
    "ram_used_1, ram_used_2"
   ]
  },
  {
   "cell_type": "code",
   "execution_count": 23,
   "id": "eea1f789-2ae2-4910-a0c8-f7ffb8248389",
   "metadata": {},
   "outputs": [
    {
     "data": {
      "text/plain": [
       "39.6"
      ]
     },
     "execution_count": 23,
     "metadata": {},
     "output_type": "execute_result"
    }
   ],
   "source": [
    "psutil.virtual_memory()[2]"
   ]
  },
  {
   "cell_type": "code",
   "execution_count": 24,
   "id": "bc397ec8-01e9-4b96-8402-32ca12e38ed7",
   "metadata": {},
   "outputs": [
    {
     "data": {
      "text/plain": [
       "27.17"
      ]
     },
     "execution_count": 24,
     "metadata": {},
     "output_type": "execute_result"
    }
   ],
   "source": [
    "round(psutil.virtual_memory()[3]/1000000000, 2)"
   ]
  },
  {
   "cell_type": "code",
   "execution_count": 25,
   "id": "ae232100-0f65-4561-ae4d-a11644feea16",
   "metadata": {},
   "outputs": [
    {
     "name": "stdout",
     "output_type": "stream",
     "text": [
      "The CPU usage is :  5.875\n"
     ]
    }
   ],
   "source": [
    "import os\n",
    "import psutil\n",
    " \n",
    "# Getting loadover15 minutes\n",
    "load1, load5, load15 = psutil.getloadavg()\n",
    " \n",
    "cpu_usage = (load15/os.cpu_count()) * 100\n",
    " \n",
    "print(\"The CPU usage is : \", cpu_usage)"
   ]
  },
  {
   "cell_type": "code",
   "execution_count": 26,
   "id": "44964a8c-e944-44d2-a75f-526a5cf14901",
   "metadata": {},
   "outputs": [
    {
     "name": "stdout",
     "output_type": "stream",
     "text": [
      "The CPU usage is:  58.6\n"
     ]
    }
   ],
   "source": [
    "\n",
    "\n",
    "\n",
    "\n",
    "# Importing the library\n",
    "import psutil\n",
    " \n",
    "# Calling psutil.cpu_precent() for 4 seconds\n",
    "print('The CPU usage is: ', psutil.cpu_percent(1))"
   ]
  }
 ],
 "metadata": {
  "kernelspec": {
   "display_name": "Python (pii)",
   "language": "python",
   "name": "pii"
  },
  "language_info": {
   "codemirror_mode": {
    "name": "ipython",
    "version": 3
   },
   "file_extension": ".py",
   "mimetype": "text/x-python",
   "name": "python",
   "nbconvert_exporter": "python",
   "pygments_lexer": "ipython3",
   "version": "3.11.10"
  }
 },
 "nbformat": 4,
 "nbformat_minor": 5
}
