{
 "cells": [
  {
   "cell_type": "code",
   "execution_count": 1,
   "id": "06148988-db59-4484-a1f1-d4bb820e968e",
   "metadata": {},
   "outputs": [],
   "source": [
    "import pymupdf\n",
    "import fitz  # PyMuPDF\n",
    "import docx2txt\n",
    "from docx import Document\n",
    "import os\n",
    "import zipfile"
   ]
  },
  {
   "cell_type": "code",
   "execution_count": 2,
   "id": "7a767e76-23d5-4d54-9bca-69cb9f683ecd",
   "metadata": {},
   "outputs": [],
   "source": [
    "from docx import Document\n",
    "import os\n",
    "\n",
    "def extract_images_from_docx(docx_path, output_dir):\n",
    "  \"\"\"\n",
    "  Extracts images from a DOCX file.\n",
    "\n",
    "  Args:\n",
    "    docx_path: Path to the DOCX file.\n",
    "    output_dir: Directory to save extracted images.\n",
    "  \"\"\"\n",
    "\n",
    "  try:\n",
    "    doc = Document(docx_path)\n",
    "\n",
    "    if not os.path.exists(output_dir):\n",
    "      os.makedirs(output_dir)\n",
    "\n",
    "    for i, image in enumerate(doc.paragraphs):\n",
    "      for run in image.runs:\n",
    "        if run.pict:\n",
    "          try:\n",
    "            # Extract image data\n",
    "            image_data = run.pict.get_blob()\n",
    "\n",
    "            # Determine image extension (may require more robust logic)\n",
    "            if image_data.startswith(b'\\x89PNG\\r\\n\\x1A\\n'):\n",
    "              image_ext = 'png'\n",
    "            elif image_data.startswith(b'\\xFF\\xD8\\xFF'):\n",
    "              image_ext = 'jpg'\n",
    "            else:\n",
    "              image_ext = 'unknown'\n",
    "\n",
    "            # Save image to file\n",
    "            image_path = os.path.join(output_dir, f\"image_{i}.{image_ext}\")\n",
    "            with open(image_path, 'wb') as f:\n",
    "              f.write(image_data)\n",
    "\n",
    "            print(f\"Image {i+1} saved to {image_path}\")\n",
    "\n",
    "          except Exception as e:\n",
    "            print(f\"Error extracting image {i+1}: {e}\")\n",
    "\n",
    "  except Exception as e:\n",
    "    print(f\"Error processing DOCX file: {e}\")\n",
    "\n"
   ]
  },
  {
   "cell_type": "code",
   "execution_count": 4,
   "id": "f0771433-1d2f-4bdc-8862-4ec565714839",
   "metadata": {},
   "outputs": [],
   "source": [
    "# Example usage:\n",
    "docx_file = \"files_test/test1.docx\"\n",
    "output_folder =  \"output\"\n",
    "pdf_bytes = docx2txt.process(docx_file)"
   ]
  },
  {
   "cell_type": "code",
   "execution_count": 8,
   "id": "15aed710-c04a-40c8-a890-41a4c6facba6",
   "metadata": {},
   "outputs": [
    {
     "name": "stdout",
     "output_type": "stream",
     "text": [
      "Error processing DOCX file: 'Run' object has no attribute 'pict'\n"
     ]
    }
   ],
   "source": [
    "# Example usage:\n",
    "docx_file = \"files_test/Doc1.docx\"\n",
    "output_folder = \"extract\"\n",
    "extract_images_from_docx(docx_file, output_folder)"
   ]
  },
  {
   "cell_type": "code",
   "execution_count": 21,
   "id": "6419a0bf-1ae2-400d-884e-01780e134379",
   "metadata": {},
   "outputs": [],
   "source": [
    "def extract_images_from_docx(docx_path, output_folder):\n",
    "    # Ensure the output folder exists\n",
    "    if not os.path.exists(output_folder):\n",
    "        os.makedirs(output_folder)\n",
    "\n",
    "    # Open the DOCX file as a zip file\n",
    "    with zipfile.ZipFile(docx_path, 'r') as docx_zip:\n",
    "        # Iterate through the files in the zip\n",
    "        for file in docx_zip.namelist():\n",
    "            # Check if the file is an image\n",
    "            if file.startswith('word/media/'):\n",
    "                # Extract the image to the output folder\n",
    "                docx_zip.extract(file, output_folder)\n",
    "                print(f'Extracted {file} to {output_folder}')\n",
    "\n",
    "def list_jpg_files(folder_path):\n",
    "    jpg_files = []\n",
    "    # Walk through the folder and its subfolders\n",
    "    for root, dirs, files in os.walk(folder_path):\n",
    "        for file in files:\n",
    "            # Check if the file is a JPG\n",
    "            if file.lower().endswith('.jpg') or  file.lower().endswith('.jpeg'):\n",
    "                jpg_files.append(os.path.join(root, file))\n",
    "    return jpg_files\n",
    "    \n",
    "# Example usage\n",
    "docx_path = \"files_test/Doc1.doc\"\n",
    "output_folder = \"extract\"\n",
    "extract_images_from_docx(docx_path, output_folder)"
   ]
  },
  {
   "cell_type": "code",
   "execution_count": 22,
   "id": "5377dd1b-7911-4977-b8ba-a362edfaaa66",
   "metadata": {},
   "outputs": [
    {
     "data": {
      "text/plain": [
       "[]"
      ]
     },
     "execution_count": 22,
     "metadata": {},
     "output_type": "execute_result"
    }
   ],
   "source": [
    "files = list_jpg_files(output_folder)\n",
    "files"
   ]
  },
  {
   "cell_type": "code",
   "execution_count": 21,
   "id": "a55dab5c-3696-46ca-9c9a-871e4a99dbd7",
   "metadata": {},
   "outputs": [
    {
     "name": "stdout",
     "output_type": "stream",
     "text": [
      "<docx.text.run.Run object at 0x0000023B4325ADD0>\n",
      "<docx.text.run.Run object at 0x0000023B436BB8D0>\n",
      "<docx.text.run.Run object at 0x0000023B4325ADD0>\n",
      "<docx.text.run.Run object at 0x0000023B436BB8D0>\n",
      "<docx.text.run.Run object at 0x0000023B4325ADD0>\n"
     ]
    }
   ],
   "source": [
    "for i, file in zip(range(len(files)), files):\n",
    "        im = Image.open(os.path.join(images, file))"
   ]
  },
  {
   "cell_type": "code",
   "execution_count": 59,
   "id": "643e28c1-d9bb-4a74-8f7d-1936a6a0bb52",
   "metadata": {},
   "outputs": [
    {
     "name": "stdout",
     "output_type": "stream",
     "text": [
      "Requirement already satisfied: olefile in d:\\programdata\\anaconda3\\envs\\pii\\lib\\site-packages (0.47)\n",
      "Requirement already satisfied: python-docx in d:\\programdata\\anaconda3\\envs\\pii\\lib\\site-packages (1.1.2)\n",
      "Requirement already satisfied: python-pptx in d:\\programdata\\anaconda3\\envs\\pii\\lib\\site-packages (1.0.2)\n",
      "Requirement already satisfied: lxml in d:\\programdata\\anaconda3\\envs\\pii\\lib\\site-packages (5.3.0)\n",
      "Requirement already satisfied: XlsxWriter in d:\\programdata\\anaconda3\\envs\\pii\\lib\\site-packages (3.2.0)\n",
      "Requirement already satisfied: typing-extensions>=4.9.0 in d:\\programdata\\anaconda3\\envs\\pii\\lib\\site-packages (from python-docx) (4.12.2)\n",
      "Requirement already satisfied: Pillow>=3.3.2 in c:\\users\\administrator\\appdata\\roaming\\python\\python311\\site-packages (from python-pptx) (10.4.0)\n"
     ]
    }
   ],
   "source": [
    "!pip install olefile python-docx python-pptx lxml XlsxWriter"
   ]
  },
  {
   "cell_type": "code",
   "execution_count": 60,
   "id": "3f82be67-82ae-4c23-8606-0a82d0dfa5b8",
   "metadata": {},
   "outputs": [],
   "source": [
    "path = os.getcwd()"
   ]
  },
  {
   "cell_type": "code",
   "execution_count": 3,
   "id": "93457519-e8d3-49ee-9c56-8a56c7e7e94f",
   "metadata": {},
   "outputs": [],
   "source": [
    "import subprocess\n",
    "\n",
    "def convert_doc_to_docx(doc_path, docx_path):\n",
    "    # Convert DOC to DOCX using LibreOffice command line\n",
    "    subprocess.run(['libreoffice', '--headless', '--convert-to', 'docx', '--outdir', os.path.dirname(docx_path), doc_path])\n",
    "    print(f'Converted {doc_path} to {docx_path}')\n",
    "\n",
    "\n",
    "\n",
    "\n",
    "from pptx import Presentation\n",
    "from pptx.enum.shapes import MSO_SHAPE_TYPE\n",
    "import os\n"
   ]
  },
  {
   "cell_type": "code",
   "execution_count": 62,
   "id": "22a64186-eeb4-4641-b124-033e95d303e4",
   "metadata": {},
   "outputs": [
    {
     "name": "stdout",
     "output_type": "stream",
     "text": [
      "Error processing PowerPoint file: Package not found at 'files_test/ppt_test.ppt'\n"
     ]
    }
   ],
   "source": [
    "from pptx import Presentation\n",
    "from pptx.enum.shapes import MSO_SHAPE_TYPE\n",
    "import os\n",
    "\n",
    "def extract_images_from_ppt(ppt_path, output_dir):\n",
    "  \"\"\"\n",
    "  Extracts images from a PowerPoint presentation (.ppt) file.\n",
    "\n",
    "  Args:\n",
    "    ppt_path: Path to the .ppt file.\n",
    "    output_dir: Directory to save extracted images.\n",
    "  \"\"\"\n",
    "\n",
    "  try:\n",
    "    # Create output directory if it doesn't exist\n",
    "    os.makedirs(output_dir, exist_ok=True)\n",
    "\n",
    "    # Open the presentation file\n",
    "    prs = Presentation(ppt_path)\n",
    "\n",
    "    # Iterate through each slide\n",
    "    for i, slide in enumerate(prs.slides):\n",
    "      for shape in slide.shapes:\n",
    "        if hasattr(shape, \"shape_type\") and shape.shape_type == MSO_SHAPE_TYPE.PICTURE:\n",
    "          try:\n",
    "            # Extract image data\n",
    "            image_data = shape.image.blob\n",
    "\n",
    "            # Determine image extension (may require more robust logic)\n",
    "            if image_data.startswith(b'\\x89PNG\\r\\n\\x1A\\n'):\n",
    "              image_ext = 'png'\n",
    "            elif image_data.startswith(b'\\xFF\\xD8\\xFF'):\n",
    "              image_ext = 'jpg'\n",
    "            else:\n",
    "              image_ext = 'unknown'\n",
    "\n",
    "            # Save image to file\n",
    "            image_path = os.path.join(output_dir, f\"slide_{i+1}_image_{shape.shape_id}.{image_ext}\")\n",
    "            with open(image_path, 'wb') as f:\n",
    "              f.write(image_data)\n",
    "\n",
    "            print(f\"Image saved to {image_path}\")\n",
    "\n",
    "          except Exception as e:\n",
    "            print(f\"Error extracting image from slide {i+1}: {e}\")\n",
    "\n",
    "  except Exception as e:\n",
    "    print(f\"Error processing PowerPoint file: {e}\")\n",
    "\n",
    "# Example usage:\n",
    "ppt_file = \"files_test/ppt_test.ppt\"\n",
    "output_folder = \"extract\"\n",
    "extract_images_from_ppt(ppt_file, output_folder)"
   ]
  },
  {
   "cell_type": "code",
   "execution_count": 5,
   "id": "148cbb2a-bbbd-4428-bc21-9316b332501f",
   "metadata": {},
   "outputs": [
    {
     "ename": "PackageNotFoundError",
     "evalue": "Package not found at 'files_test/ppt_test.ppt'",
     "output_type": "error",
     "traceback": [
      "\u001b[1;31m---------------------------------------------------------------------------\u001b[0m",
      "\u001b[1;31mPackageNotFoundError\u001b[0m                      Traceback (most recent call last)",
      "Cell \u001b[1;32mIn[5], line 3\u001b[0m\n\u001b[0;32m      1\u001b[0m ppt_file \u001b[38;5;241m=\u001b[39m \u001b[38;5;124m\"\u001b[39m\u001b[38;5;124mfiles_test/ppt_test.ppt\u001b[39m\u001b[38;5;124m\"\u001b[39m\n\u001b[0;32m      2\u001b[0m output_folder \u001b[38;5;241m=\u001b[39m \u001b[38;5;124m\"\u001b[39m\u001b[38;5;124mextract\u001b[39m\u001b[38;5;124m\"\u001b[39m\n\u001b[1;32m----> 3\u001b[0m prs \u001b[38;5;241m=\u001b[39m \u001b[43mPresentation\u001b[49m\u001b[43m(\u001b[49m\u001b[43mppt_file\u001b[49m\u001b[43m)\u001b[49m\n",
      "File \u001b[1;32mD:\\ProgramData\\anaconda3\\envs\\pii\\Lib\\site-packages\\pptx\\api.py:31\u001b[0m, in \u001b[0;36mPresentation\u001b[1;34m(pptx)\u001b[0m\n\u001b[0;32m     28\u001b[0m \u001b[38;5;28;01mif\u001b[39;00m pptx \u001b[38;5;129;01mis\u001b[39;00m \u001b[38;5;28;01mNone\u001b[39;00m:\n\u001b[0;32m     29\u001b[0m     pptx \u001b[38;5;241m=\u001b[39m _default_pptx_path()\n\u001b[1;32m---> 31\u001b[0m presentation_part \u001b[38;5;241m=\u001b[39m \u001b[43mPackage\u001b[49m\u001b[38;5;241;43m.\u001b[39;49m\u001b[43mopen\u001b[49m\u001b[43m(\u001b[49m\u001b[43mpptx\u001b[49m\u001b[43m)\u001b[49m\u001b[38;5;241m.\u001b[39mmain_document_part\n\u001b[0;32m     33\u001b[0m \u001b[38;5;28;01mif\u001b[39;00m \u001b[38;5;129;01mnot\u001b[39;00m _is_pptx_package(presentation_part):\n\u001b[0;32m     34\u001b[0m     tmpl \u001b[38;5;241m=\u001b[39m \u001b[38;5;124m\"\u001b[39m\u001b[38;5;124mfile \u001b[39m\u001b[38;5;124m'\u001b[39m\u001b[38;5;132;01m%s\u001b[39;00m\u001b[38;5;124m'\u001b[39m\u001b[38;5;124m is not a PowerPoint file, content type is \u001b[39m\u001b[38;5;124m'\u001b[39m\u001b[38;5;132;01m%s\u001b[39;00m\u001b[38;5;124m'\u001b[39m\u001b[38;5;124m\"\u001b[39m\n",
      "File \u001b[1;32mD:\\ProgramData\\anaconda3\\envs\\pii\\Lib\\site-packages\\pptx\\opc\\package.py:82\u001b[0m, in \u001b[0;36mOpcPackage.open\u001b[1;34m(cls, pkg_file)\u001b[0m\n\u001b[0;32m     79\u001b[0m \u001b[38;5;129m@classmethod\u001b[39m\n\u001b[0;32m     80\u001b[0m \u001b[38;5;28;01mdef\u001b[39;00m\u001b[38;5;250m \u001b[39m\u001b[38;5;21mopen\u001b[39m(\u001b[38;5;28mcls\u001b[39m, pkg_file: \u001b[38;5;28mstr\u001b[39m \u001b[38;5;241m|\u001b[39m IO[\u001b[38;5;28mbytes\u001b[39m]) \u001b[38;5;241m-\u001b[39m\u001b[38;5;241m>\u001b[39m Self:\n\u001b[0;32m     81\u001b[0m \u001b[38;5;250m    \u001b[39m\u001b[38;5;124;03m\"\"\"Return an |OpcPackage| instance loaded with the contents of `pkg_file`.\"\"\"\u001b[39;00m\n\u001b[1;32m---> 82\u001b[0m     \u001b[38;5;28;01mreturn\u001b[39;00m \u001b[38;5;28;43mcls\u001b[39;49m\u001b[43m(\u001b[49m\u001b[43mpkg_file\u001b[49m\u001b[43m)\u001b[49m\u001b[38;5;241;43m.\u001b[39;49m\u001b[43m_load\u001b[49m\u001b[43m(\u001b[49m\u001b[43m)\u001b[49m\n",
      "File \u001b[1;32mD:\\ProgramData\\anaconda3\\envs\\pii\\Lib\\site-packages\\pptx\\opc\\package.py:160\u001b[0m, in \u001b[0;36mOpcPackage._load\u001b[1;34m(self)\u001b[0m\n\u001b[0;32m    158\u001b[0m \u001b[38;5;28;01mdef\u001b[39;00m\u001b[38;5;250m \u001b[39m\u001b[38;5;21m_load\u001b[39m(\u001b[38;5;28mself\u001b[39m) \u001b[38;5;241m-\u001b[39m\u001b[38;5;241m>\u001b[39m Self:\n\u001b[0;32m    159\u001b[0m \u001b[38;5;250m    \u001b[39m\u001b[38;5;124;03m\"\"\"Return the package after loading all parts and relationships.\"\"\"\u001b[39;00m\n\u001b[1;32m--> 160\u001b[0m     pkg_xml_rels, parts \u001b[38;5;241m=\u001b[39m \u001b[43m_PackageLoader\u001b[49m\u001b[38;5;241;43m.\u001b[39;49m\u001b[43mload\u001b[49m\u001b[43m(\u001b[49m\u001b[38;5;28;43mself\u001b[39;49m\u001b[38;5;241;43m.\u001b[39;49m\u001b[43m_pkg_file\u001b[49m\u001b[43m,\u001b[49m\u001b[43m \u001b[49m\u001b[43mcast\u001b[49m\u001b[43m(\u001b[49m\u001b[38;5;124;43m\"\u001b[39;49m\u001b[38;5;124;43mPackage\u001b[39;49m\u001b[38;5;124;43m\"\u001b[39;49m\u001b[43m,\u001b[49m\u001b[43m \u001b[49m\u001b[38;5;28;43mself\u001b[39;49m\u001b[43m)\u001b[49m\u001b[43m)\u001b[49m\n\u001b[0;32m    161\u001b[0m     \u001b[38;5;28mself\u001b[39m\u001b[38;5;241m.\u001b[39m_rels\u001b[38;5;241m.\u001b[39mload_from_xml(PACKAGE_URI, pkg_xml_rels, parts)\n\u001b[0;32m    162\u001b[0m     \u001b[38;5;28;01mreturn\u001b[39;00m \u001b[38;5;28mself\u001b[39m\n",
      "File \u001b[1;32mD:\\ProgramData\\anaconda3\\envs\\pii\\Lib\\site-packages\\pptx\\opc\\package.py:190\u001b[0m, in \u001b[0;36m_PackageLoader.load\u001b[1;34m(cls, pkg_file, package)\u001b[0m\n\u001b[0;32m    177\u001b[0m \u001b[38;5;129m@classmethod\u001b[39m\n\u001b[0;32m    178\u001b[0m \u001b[38;5;28;01mdef\u001b[39;00m\u001b[38;5;250m \u001b[39m\u001b[38;5;21mload\u001b[39m(\n\u001b[0;32m    179\u001b[0m     \u001b[38;5;28mcls\u001b[39m, pkg_file: \u001b[38;5;28mstr\u001b[39m \u001b[38;5;241m|\u001b[39m IO[\u001b[38;5;28mbytes\u001b[39m], package: Package\n\u001b[0;32m    180\u001b[0m ) \u001b[38;5;241m-\u001b[39m\u001b[38;5;241m>\u001b[39m \u001b[38;5;28mtuple\u001b[39m[CT_Relationships, \u001b[38;5;28mdict\u001b[39m[PackURI, Part]]:\n\u001b[0;32m    181\u001b[0m \u001b[38;5;250m    \u001b[39m\u001b[38;5;124;03m\"\"\"Return (pkg_xml_rels, parts) pair resulting from loading `pkg_file`.\u001b[39;00m\n\u001b[0;32m    182\u001b[0m \n\u001b[0;32m    183\u001b[0m \u001b[38;5;124;03m    The returned `parts` value is a {partname: part} mapping with each part in the package\u001b[39;00m\n\u001b[1;32m   (...)\u001b[0m\n\u001b[0;32m    188\u001b[0m \u001b[38;5;124;03m    those relationships into its |_Relationships| object.\u001b[39;00m\n\u001b[0;32m    189\u001b[0m \u001b[38;5;124;03m    \"\"\"\u001b[39;00m\n\u001b[1;32m--> 190\u001b[0m     \u001b[38;5;28;01mreturn\u001b[39;00m \u001b[38;5;28;43mcls\u001b[39;49m\u001b[43m(\u001b[49m\u001b[43mpkg_file\u001b[49m\u001b[43m,\u001b[49m\u001b[43m \u001b[49m\u001b[43mpackage\u001b[49m\u001b[43m)\u001b[49m\u001b[38;5;241;43m.\u001b[39;49m\u001b[43m_load\u001b[49m\u001b[43m(\u001b[49m\u001b[43m)\u001b[49m\n",
      "File \u001b[1;32mD:\\ProgramData\\anaconda3\\envs\\pii\\Lib\\site-packages\\pptx\\opc\\package.py:194\u001b[0m, in \u001b[0;36m_PackageLoader._load\u001b[1;34m(self)\u001b[0m\n\u001b[0;32m    192\u001b[0m \u001b[38;5;28;01mdef\u001b[39;00m\u001b[38;5;250m \u001b[39m\u001b[38;5;21m_load\u001b[39m(\u001b[38;5;28mself\u001b[39m) \u001b[38;5;241m-\u001b[39m\u001b[38;5;241m>\u001b[39m \u001b[38;5;28mtuple\u001b[39m[CT_Relationships, \u001b[38;5;28mdict\u001b[39m[PackURI, Part]]:\n\u001b[0;32m    193\u001b[0m \u001b[38;5;250m    \u001b[39m\u001b[38;5;124;03m\"\"\"Return (pkg_xml_rels, parts) pair resulting from loading pkg_file.\"\"\"\u001b[39;00m\n\u001b[1;32m--> 194\u001b[0m     parts, xml_rels \u001b[38;5;241m=\u001b[39m \u001b[38;5;28;43mself\u001b[39;49m\u001b[38;5;241;43m.\u001b[39;49m\u001b[43m_parts\u001b[49m, \u001b[38;5;28mself\u001b[39m\u001b[38;5;241m.\u001b[39m_xml_rels\n\u001b[0;32m    196\u001b[0m     \u001b[38;5;28;01mfor\u001b[39;00m partname, part \u001b[38;5;129;01min\u001b[39;00m parts\u001b[38;5;241m.\u001b[39mitems():\n\u001b[0;32m    197\u001b[0m         part\u001b[38;5;241m.\u001b[39mload_rels_from_xml(xml_rels[partname], parts)\n",
      "File \u001b[1;32mD:\\ProgramData\\anaconda3\\envs\\pii\\Lib\\site-packages\\pptx\\util.py:191\u001b[0m, in \u001b[0;36mlazyproperty.__get__\u001b[1;34m(self, obj, type)\u001b[0m\n\u001b[0;32m    186\u001b[0m value \u001b[38;5;241m=\u001b[39m obj\u001b[38;5;241m.\u001b[39m\u001b[38;5;18m__dict__\u001b[39m\u001b[38;5;241m.\u001b[39mget(\u001b[38;5;28mself\u001b[39m\u001b[38;5;241m.\u001b[39m_name)\n\u001b[0;32m    187\u001b[0m \u001b[38;5;28;01mif\u001b[39;00m value \u001b[38;5;129;01mis\u001b[39;00m \u001b[38;5;28;01mNone\u001b[39;00m:\n\u001b[0;32m    188\u001b[0m     \u001b[38;5;66;03m# --- on first access, the __dict__ item will be absent. Evaluate fget()\u001b[39;00m\n\u001b[0;32m    189\u001b[0m     \u001b[38;5;66;03m# --- and store that value in the (otherwise unused) host-object\u001b[39;00m\n\u001b[0;32m    190\u001b[0m     \u001b[38;5;66;03m# --- __dict__ value of same name ('fget' nominally)\u001b[39;00m\n\u001b[1;32m--> 191\u001b[0m     value \u001b[38;5;241m=\u001b[39m \u001b[38;5;28;43mself\u001b[39;49m\u001b[38;5;241;43m.\u001b[39;49m\u001b[43m_fget\u001b[49m\u001b[43m(\u001b[49m\u001b[43mobj\u001b[49m\u001b[43m)\u001b[49m\n\u001b[0;32m    192\u001b[0m     obj\u001b[38;5;241m.\u001b[39m\u001b[38;5;18m__dict__\u001b[39m[\u001b[38;5;28mself\u001b[39m\u001b[38;5;241m.\u001b[39m_name] \u001b[38;5;241m=\u001b[39m value\n\u001b[0;32m    193\u001b[0m \u001b[38;5;28;01mreturn\u001b[39;00m cast(_T, value)\n",
      "File \u001b[1;32mD:\\ProgramData\\anaconda3\\envs\\pii\\Lib\\site-packages\\pptx\\opc\\package.py:222\u001b[0m, in \u001b[0;36m_PackageLoader._parts\u001b[1;34m(self)\u001b[0m\n\u001b[0;32m    214\u001b[0m \u001b[38;5;129m@lazyproperty\u001b[39m\n\u001b[0;32m    215\u001b[0m \u001b[38;5;28;01mdef\u001b[39;00m\u001b[38;5;250m \u001b[39m\u001b[38;5;21m_parts\u001b[39m(\u001b[38;5;28mself\u001b[39m) \u001b[38;5;241m-\u001b[39m\u001b[38;5;241m>\u001b[39m \u001b[38;5;28mdict\u001b[39m[PackURI, Part]:\n\u001b[0;32m    216\u001b[0m \u001b[38;5;250m    \u001b[39m\u001b[38;5;124;03m\"\"\"dict {partname: Part} populated with parts loading from package.\u001b[39;00m\n\u001b[0;32m    217\u001b[0m \n\u001b[0;32m    218\u001b[0m \u001b[38;5;124;03m    Among other duties, this collection is passed to each relationships collection so each\u001b[39;00m\n\u001b[0;32m    219\u001b[0m \u001b[38;5;124;03m    relationship can resolve a reference to its target part when required. This reference can\u001b[39;00m\n\u001b[0;32m    220\u001b[0m \u001b[38;5;124;03m    only be reliably carried out once the all parts have been loaded.\u001b[39;00m\n\u001b[0;32m    221\u001b[0m \u001b[38;5;124;03m    \"\"\"\u001b[39;00m\n\u001b[1;32m--> 222\u001b[0m     content_types \u001b[38;5;241m=\u001b[39m \u001b[38;5;28;43mself\u001b[39;49m\u001b[38;5;241;43m.\u001b[39;49m\u001b[43m_content_types\u001b[49m\n\u001b[0;32m    223\u001b[0m     package \u001b[38;5;241m=\u001b[39m \u001b[38;5;28mself\u001b[39m\u001b[38;5;241m.\u001b[39m_package\n\u001b[0;32m    224\u001b[0m     package_reader \u001b[38;5;241m=\u001b[39m \u001b[38;5;28mself\u001b[39m\u001b[38;5;241m.\u001b[39m_package_reader\n",
      "File \u001b[1;32mD:\\ProgramData\\anaconda3\\envs\\pii\\Lib\\site-packages\\pptx\\util.py:191\u001b[0m, in \u001b[0;36mlazyproperty.__get__\u001b[1;34m(self, obj, type)\u001b[0m\n\u001b[0;32m    186\u001b[0m value \u001b[38;5;241m=\u001b[39m obj\u001b[38;5;241m.\u001b[39m\u001b[38;5;18m__dict__\u001b[39m\u001b[38;5;241m.\u001b[39mget(\u001b[38;5;28mself\u001b[39m\u001b[38;5;241m.\u001b[39m_name)\n\u001b[0;32m    187\u001b[0m \u001b[38;5;28;01mif\u001b[39;00m value \u001b[38;5;129;01mis\u001b[39;00m \u001b[38;5;28;01mNone\u001b[39;00m:\n\u001b[0;32m    188\u001b[0m     \u001b[38;5;66;03m# --- on first access, the __dict__ item will be absent. Evaluate fget()\u001b[39;00m\n\u001b[0;32m    189\u001b[0m     \u001b[38;5;66;03m# --- and store that value in the (otherwise unused) host-object\u001b[39;00m\n\u001b[0;32m    190\u001b[0m     \u001b[38;5;66;03m# --- __dict__ value of same name ('fget' nominally)\u001b[39;00m\n\u001b[1;32m--> 191\u001b[0m     value \u001b[38;5;241m=\u001b[39m \u001b[38;5;28;43mself\u001b[39;49m\u001b[38;5;241;43m.\u001b[39;49m\u001b[43m_fget\u001b[49m\u001b[43m(\u001b[49m\u001b[43mobj\u001b[49m\u001b[43m)\u001b[49m\n\u001b[0;32m    192\u001b[0m     obj\u001b[38;5;241m.\u001b[39m\u001b[38;5;18m__dict__\u001b[39m[\u001b[38;5;28mself\u001b[39m\u001b[38;5;241m.\u001b[39m_name] \u001b[38;5;241m=\u001b[39m value\n\u001b[0;32m    193\u001b[0m \u001b[38;5;28;01mreturn\u001b[39;00m cast(_T, value)\n",
      "File \u001b[1;32mD:\\ProgramData\\anaconda3\\envs\\pii\\Lib\\site-packages\\pptx\\opc\\package.py:207\u001b[0m, in \u001b[0;36m_PackageLoader._content_types\u001b[1;34m(self)\u001b[0m\n\u001b[0;32m    201\u001b[0m \u001b[38;5;129m@lazyproperty\u001b[39m\n\u001b[0;32m    202\u001b[0m \u001b[38;5;28;01mdef\u001b[39;00m\u001b[38;5;250m \u001b[39m\u001b[38;5;21m_content_types\u001b[39m(\u001b[38;5;28mself\u001b[39m) \u001b[38;5;241m-\u001b[39m\u001b[38;5;241m>\u001b[39m _ContentTypeMap:\n\u001b[0;32m    203\u001b[0m \u001b[38;5;250m    \u001b[39m\u001b[38;5;124;03m\"\"\"|_ContentTypeMap| object providing content-types for items of this package.\u001b[39;00m\n\u001b[0;32m    204\u001b[0m \n\u001b[0;32m    205\u001b[0m \u001b[38;5;124;03m    Provides a content-type (MIME-type) for any given partname.\u001b[39;00m\n\u001b[0;32m    206\u001b[0m \u001b[38;5;124;03m    \"\"\"\u001b[39;00m\n\u001b[1;32m--> 207\u001b[0m     \u001b[38;5;28;01mreturn\u001b[39;00m _ContentTypeMap\u001b[38;5;241m.\u001b[39mfrom_xml(\u001b[38;5;28;43mself\u001b[39;49m\u001b[38;5;241;43m.\u001b[39;49m\u001b[43m_package_reader\u001b[49m\u001b[43m[\u001b[49m\u001b[43mCONTENT_TYPES_URI\u001b[49m\u001b[43m]\u001b[49m)\n",
      "File \u001b[1;32mD:\\ProgramData\\anaconda3\\envs\\pii\\Lib\\site-packages\\pptx\\opc\\serialized.py:38\u001b[0m, in \u001b[0;36mPackageReader.__getitem__\u001b[1;34m(self, pack_uri)\u001b[0m\n\u001b[0;32m     36\u001b[0m \u001b[38;5;28;01mdef\u001b[39;00m\u001b[38;5;250m \u001b[39m\u001b[38;5;21m__getitem__\u001b[39m(\u001b[38;5;28mself\u001b[39m, pack_uri: PackURI) \u001b[38;5;241m-\u001b[39m\u001b[38;5;241m>\u001b[39m \u001b[38;5;28mbytes\u001b[39m:\n\u001b[0;32m     37\u001b[0m \u001b[38;5;250m    \u001b[39m\u001b[38;5;124;03m\"\"\"Return bytes for part corresponding to `pack_uri`.\"\"\"\u001b[39;00m\n\u001b[1;32m---> 38\u001b[0m     \u001b[38;5;28;01mreturn\u001b[39;00m \u001b[38;5;28;43mself\u001b[39;49m\u001b[38;5;241;43m.\u001b[39;49m\u001b[43m_blob_reader\u001b[49m[pack_uri]\n",
      "File \u001b[1;32mD:\\ProgramData\\anaconda3\\envs\\pii\\Lib\\site-packages\\pptx\\util.py:191\u001b[0m, in \u001b[0;36mlazyproperty.__get__\u001b[1;34m(self, obj, type)\u001b[0m\n\u001b[0;32m    186\u001b[0m value \u001b[38;5;241m=\u001b[39m obj\u001b[38;5;241m.\u001b[39m\u001b[38;5;18m__dict__\u001b[39m\u001b[38;5;241m.\u001b[39mget(\u001b[38;5;28mself\u001b[39m\u001b[38;5;241m.\u001b[39m_name)\n\u001b[0;32m    187\u001b[0m \u001b[38;5;28;01mif\u001b[39;00m value \u001b[38;5;129;01mis\u001b[39;00m \u001b[38;5;28;01mNone\u001b[39;00m:\n\u001b[0;32m    188\u001b[0m     \u001b[38;5;66;03m# --- on first access, the __dict__ item will be absent. Evaluate fget()\u001b[39;00m\n\u001b[0;32m    189\u001b[0m     \u001b[38;5;66;03m# --- and store that value in the (otherwise unused) host-object\u001b[39;00m\n\u001b[0;32m    190\u001b[0m     \u001b[38;5;66;03m# --- __dict__ value of same name ('fget' nominally)\u001b[39;00m\n\u001b[1;32m--> 191\u001b[0m     value \u001b[38;5;241m=\u001b[39m \u001b[38;5;28;43mself\u001b[39;49m\u001b[38;5;241;43m.\u001b[39;49m\u001b[43m_fget\u001b[49m\u001b[43m(\u001b[49m\u001b[43mobj\u001b[49m\u001b[43m)\u001b[49m\n\u001b[0;32m    192\u001b[0m     obj\u001b[38;5;241m.\u001b[39m\u001b[38;5;18m__dict__\u001b[39m[\u001b[38;5;28mself\u001b[39m\u001b[38;5;241m.\u001b[39m_name] \u001b[38;5;241m=\u001b[39m value\n\u001b[0;32m    193\u001b[0m \u001b[38;5;28;01mreturn\u001b[39;00m cast(_T, value)\n",
      "File \u001b[1;32mD:\\ProgramData\\anaconda3\\envs\\pii\\Lib\\site-packages\\pptx\\opc\\serialized.py:52\u001b[0m, in \u001b[0;36mPackageReader._blob_reader\u001b[1;34m(self)\u001b[0m\n\u001b[0;32m     49\u001b[0m \u001b[38;5;129m@lazyproperty\u001b[39m\n\u001b[0;32m     50\u001b[0m \u001b[38;5;28;01mdef\u001b[39;00m\u001b[38;5;250m \u001b[39m\u001b[38;5;21m_blob_reader\u001b[39m(\u001b[38;5;28mself\u001b[39m) \u001b[38;5;241m-\u001b[39m\u001b[38;5;241m>\u001b[39m _PhysPkgReader:\n\u001b[0;32m     51\u001b[0m \u001b[38;5;250m    \u001b[39m\u001b[38;5;124;03m\"\"\"|_PhysPkgReader| subtype providing read access to the package file.\"\"\"\u001b[39;00m\n\u001b[1;32m---> 52\u001b[0m     \u001b[38;5;28;01mreturn\u001b[39;00m \u001b[43m_PhysPkgReader\u001b[49m\u001b[38;5;241;43m.\u001b[39;49m\u001b[43mfactory\u001b[49m\u001b[43m(\u001b[49m\u001b[38;5;28;43mself\u001b[39;49m\u001b[38;5;241;43m.\u001b[39;49m\u001b[43m_pkg_file\u001b[49m\u001b[43m)\u001b[49m\n",
      "File \u001b[1;32mD:\\ProgramData\\anaconda3\\envs\\pii\\Lib\\site-packages\\pptx\\opc\\serialized.py:144\u001b[0m, in \u001b[0;36m_PhysPkgReader.factory\u001b[1;34m(cls, pkg_file)\u001b[0m\n\u001b[0;32m    141\u001b[0m \u001b[38;5;28;01mif\u001b[39;00m zipfile\u001b[38;5;241m.\u001b[39mis_zipfile(pkg_file):\n\u001b[0;32m    142\u001b[0m     \u001b[38;5;28;01mreturn\u001b[39;00m _ZipPkgReader(pkg_file)\n\u001b[1;32m--> 144\u001b[0m \u001b[38;5;28;01mraise\u001b[39;00m PackageNotFoundError(\u001b[38;5;124m\"\u001b[39m\u001b[38;5;124mPackage not found at \u001b[39m\u001b[38;5;124m'\u001b[39m\u001b[38;5;132;01m%s\u001b[39;00m\u001b[38;5;124m'\u001b[39m\u001b[38;5;124m\"\u001b[39m \u001b[38;5;241m%\u001b[39m pkg_file)\n",
      "\u001b[1;31mPackageNotFoundError\u001b[0m: Package not found at 'files_test/ppt_test.ppt'"
     ]
    }
   ],
   "source": [
    "ppt_file = \"files_test/ppt_test.ppt\"\n",
    "output_folder = \"extract\"\n",
    "prs = Presentation(ppt_file)"
   ]
  },
  {
   "cell_type": "code",
   "execution_count": 32,
   "id": "71a88510-c434-418b-aa50-056845c0f8c9",
   "metadata": {},
   "outputs": [
    {
     "ename": "OSError",
     "evalue": "file not found",
     "output_type": "error",
     "traceback": [
      "\u001b[1;31m---------------------------------------------------------------------------\u001b[0m",
      "\u001b[1;31mOSError\u001b[0m                                   Traceback (most recent call last)",
      "Cell \u001b[1;32mIn[32], line 1\u001b[0m\n\u001b[1;32m----> 1\u001b[0m \u001b[43mole\u001b[49m\u001b[38;5;241;43m.\u001b[39;49m\u001b[43mgetproperties\u001b[49m\u001b[43m(\u001b[49m\u001b[43mdoc_path\u001b[49m\u001b[43m)\u001b[49m\n",
      "File \u001b[1;32mD:\\ProgramData\\anaconda3\\envs\\pii\\Lib\\site-packages\\olefile\\olefile.py:2171\u001b[0m, in \u001b[0;36mOleFileIO.getproperties\u001b[1;34m(self, filename, convert_time, no_conversion)\u001b[0m\n\u001b[0;32m   2169\u001b[0m \u001b[38;5;28;01mif\u001b[39;00m \u001b[38;5;129;01mnot\u001b[39;00m \u001b[38;5;28misinstance\u001b[39m(streampath, \u001b[38;5;28mstr\u001b[39m):\n\u001b[0;32m   2170\u001b[0m     streampath \u001b[38;5;241m=\u001b[39m \u001b[38;5;124m'\u001b[39m\u001b[38;5;124m/\u001b[39m\u001b[38;5;124m'\u001b[39m\u001b[38;5;241m.\u001b[39mjoin(streampath)\n\u001b[1;32m-> 2171\u001b[0m fp \u001b[38;5;241m=\u001b[39m \u001b[38;5;28;43mself\u001b[39;49m\u001b[38;5;241;43m.\u001b[39;49m\u001b[43mopenstream\u001b[49m\u001b[43m(\u001b[49m\u001b[43mfilename\u001b[49m\u001b[43m)\u001b[49m\n\u001b[0;32m   2172\u001b[0m data \u001b[38;5;241m=\u001b[39m {}\n\u001b[0;32m   2173\u001b[0m \u001b[38;5;28;01mtry\u001b[39;00m:\n\u001b[0;32m   2174\u001b[0m     \u001b[38;5;66;03m# header\u001b[39;00m\n",
      "File \u001b[1;32mD:\\ProgramData\\anaconda3\\envs\\pii\\Lib\\site-packages\\olefile\\olefile.py:1966\u001b[0m, in \u001b[0;36mOleFileIO.openstream\u001b[1;34m(self, filename)\u001b[0m\n\u001b[0;32m   1951\u001b[0m \u001b[38;5;28;01mdef\u001b[39;00m\u001b[38;5;250m \u001b[39m\u001b[38;5;21mopenstream\u001b[39m(\u001b[38;5;28mself\u001b[39m, filename):\n\u001b[0;32m   1952\u001b[0m \u001b[38;5;250m    \u001b[39m\u001b[38;5;124;03m\"\"\"\u001b[39;00m\n\u001b[0;32m   1953\u001b[0m \u001b[38;5;124;03m    Open a stream as a read-only file object (BytesIO).\u001b[39;00m\n\u001b[0;32m   1954\u001b[0m \u001b[38;5;124;03m    Note: filename is case-insensitive.\u001b[39;00m\n\u001b[1;32m   (...)\u001b[0m\n\u001b[0;32m   1964\u001b[0m \u001b[38;5;124;03m    :exception IOError: if filename not found, or if this is not a stream.\u001b[39;00m\n\u001b[0;32m   1965\u001b[0m \u001b[38;5;124;03m    \"\"\"\u001b[39;00m\n\u001b[1;32m-> 1966\u001b[0m     sid \u001b[38;5;241m=\u001b[39m \u001b[38;5;28;43mself\u001b[39;49m\u001b[38;5;241;43m.\u001b[39;49m\u001b[43m_find\u001b[49m\u001b[43m(\u001b[49m\u001b[43mfilename\u001b[49m\u001b[43m)\u001b[49m\n\u001b[0;32m   1967\u001b[0m     entry \u001b[38;5;241m=\u001b[39m \u001b[38;5;28mself\u001b[39m\u001b[38;5;241m.\u001b[39mdirentries[sid]\n\u001b[0;32m   1968\u001b[0m     \u001b[38;5;28;01mif\u001b[39;00m entry\u001b[38;5;241m.\u001b[39mentry_type \u001b[38;5;241m!=\u001b[39m STGTY_STREAM:\n",
      "File \u001b[1;32mD:\\ProgramData\\anaconda3\\envs\\pii\\Lib\\site-packages\\olefile\\olefile.py:1947\u001b[0m, in \u001b[0;36mOleFileIO._find\u001b[1;34m(self, filename)\u001b[0m\n\u001b[0;32m   1945\u001b[0m             \u001b[38;5;28;01mbreak\u001b[39;00m\n\u001b[0;32m   1946\u001b[0m     \u001b[38;5;28;01melse\u001b[39;00m:\n\u001b[1;32m-> 1947\u001b[0m         \u001b[38;5;28;01mraise\u001b[39;00m \u001b[38;5;167;01mIOError\u001b[39;00m(\u001b[38;5;124m\"\u001b[39m\u001b[38;5;124mfile not found\u001b[39m\u001b[38;5;124m\"\u001b[39m)\n\u001b[0;32m   1948\u001b[0m     node \u001b[38;5;241m=\u001b[39m kid\n\u001b[0;32m   1949\u001b[0m \u001b[38;5;28;01mreturn\u001b[39;00m node\u001b[38;5;241m.\u001b[39msid\n",
      "\u001b[1;31mOSError\u001b[0m: file not found"
     ]
    }
   ],
   "source": []
  },
  {
   "cell_type": "code",
   "execution_count": null,
   "id": "3a8a71bd-e184-4f6e-84c1-8b51edd03c43",
   "metadata": {},
   "outputs": [],
   "source": []
  }
 ],
 "metadata": {
  "kernelspec": {
   "display_name": "Python (pii)",
   "language": "python",
   "name": "pii"
  },
  "language_info": {
   "codemirror_mode": {
    "name": "ipython",
    "version": 3
   },
   "file_extension": ".py",
   "mimetype": "text/x-python",
   "name": "python",
   "nbconvert_exporter": "python",
   "pygments_lexer": "ipython3",
   "version": "3.11.10"
  }
 },
 "nbformat": 4,
 "nbformat_minor": 5
}
