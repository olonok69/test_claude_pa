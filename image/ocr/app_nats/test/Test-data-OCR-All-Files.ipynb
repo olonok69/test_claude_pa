{
 "cells": [
  {
   "cell_type": "code",
   "execution_count": 1,
   "id": "281cd322",
   "metadata": {},
   "outputs": [],
   "source": [
    "import requests\n",
    "import datetime\n",
    "import base64\n",
    "import json\n",
    "import io\n",
    "import os\n",
    "from PIL import Image\n",
    "import uuid\n",
    "from pathlib import Path\n",
    "#url = 'http://127.0.0.1:5003/extract_text'\n",
    "url = 'http://127.0.0.1:5003/process'\n",
    "\n",
    "ROOT = os.getcwd()"
   ]
  },
  {
   "cell_type": "code",
   "execution_count": 2,
   "id": "8ec4b272",
   "metadata": {},
   "outputs": [],
   "source": [
    "DATA_PATH = os.path.join(ROOT, \"data\")"
   ]
  },
  {
   "cell_type": "code",
   "execution_count": 11,
   "id": "5c350002",
   "metadata": {},
   "outputs": [],
   "source": [
    "test_path = os.path.join(DATA_PATH,\"ppt\")"
   ]
  },
  {
   "cell_type": "code",
   "execution_count": 12,
   "id": "18a37d6d-34de-48f5-a545-1fb69da41177",
   "metadata": {},
   "outputs": [
    {
     "data": {
      "text/plain": [
       "'.ppt'"
      ]
     },
     "execution_count": 12,
     "metadata": {},
     "output_type": "execute_result"
    }
   ],
   "source": [
    "\"test.ppt\"[-4:]"
   ]
  },
  {
   "cell_type": "code",
   "execution_count": 17,
   "id": "d06ac3e0",
   "metadata": {},
   "outputs": [],
   "source": [
    "files= []\n",
    "ext = \".ppt\"\n",
    "for r, d, f in os.walk(test_path):\n",
    "    for file in f:\n",
    "        if file[-4:] == ext or file[-4:] == \"pptx\":\n",
    "            files.append(os.path.join(r, file))"
   ]
  },
  {
   "cell_type": "code",
   "execution_count": 18,
   "id": "bd41fe3a",
   "metadata": {},
   "outputs": [],
   "source": [
    "def read_file(IMAGE_PATH):\n",
    "    with open(IMAGE_PATH, \"rb\") as f:\n",
    "        im_bytes = f.read()        \n",
    "    im_b64 = base64.b64encode(im_bytes).decode(\"utf8\")\n",
    "    return im_b64"
   ]
  },
  {
   "cell_type": "code",
   "execution_count": 19,
   "id": "98caf08f",
   "metadata": {},
   "outputs": [
    {
     "data": {
      "text/plain": [
       "'D:\\\\repos\\\\nlp\\\\notebooks\\\\OCR\\\\data\\\\ppt\\\\output'"
      ]
     },
     "execution_count": 19,
     "metadata": {},
     "output_type": "execute_result"
    }
   ],
   "source": [
    "OUTPUT_PATH=os.path.join(DATA_PATH,\"ppt\", \"output\")\n",
    "OUTPUT_PATH"
   ]
  },
  {
   "cell_type": "code",
   "execution_count": 20,
   "id": "b838d4e3-215e-40fb-b608-aab344d5a958",
   "metadata": {},
   "outputs": [
    {
     "data": {
      "text/plain": [
       "19"
      ]
     },
     "execution_count": 20,
     "metadata": {},
     "output_type": "execute_result"
    }
   ],
   "source": [
    "len(files)"
   ]
  },
  {
   "cell_type": "code",
   "execution_count": 21,
   "id": "4dfb3351-aa8b-4343-b936-46ab180c6166",
   "metadata": {},
   "outputs": [
    {
     "data": {
      "text/plain": [
       "'Firebird Briefing Deck_v8.ppt'"
      ]
     },
     "execution_count": 21,
     "metadata": {},
     "output_type": "execute_result"
    }
   ],
   "source": [
    "Path(files[-1]).name"
   ]
  },
  {
   "cell_type": "code",
   "execution_count": 22,
   "id": "fa91563a",
   "metadata": {},
   "outputs": [
    {
     "name": "stdout",
     "output_type": "stream",
     "text": [
      "file NewCo presentation version6.ppt error \n",
      "file Azure Slides.ppt error \n",
      "file Power of 10.ppt error \n",
      "file Off-site Challengesv2.ppt error \n",
      "file Refining SPE's business 02.03.06 DRAFT v2.ppt error \n",
      "file Bruce and Scot.pptx error \n",
      "file SPE Participations and Residuals Greenlight-2013 xx xx.pptx error \n",
      "file Color A.ppt error \n",
      "file HD VOD Market Overview 092107.ppt error \n",
      "file KenDCSCMRS7.ppt error \n",
      "file PENDENCIAS.2.pptx error \n",
      "file Audit Execution Timeline.ppt error \n",
      "file JOHN Pres5112701.ppt error \n",
      "file Fiber Optic Public Lands Presentation.ppt error \n",
      "file Starz Update for Sony Corp_10 13 10v Final.ppt error \n",
      "file HBO LAG Put Update Materials v4.ppt error \n",
      "file 7.21.08 Valuation Update.ppt error \n",
      "file Firebird Briefing Deck_v8.ppt error \n"
     ]
    }
   ],
   "source": [
    "for IMAGE_PATH in files:\n",
    "       \n",
    "    im_b64 = read_file(IMAGE_PATH)\n",
    "    filename = Path(IMAGE_PATH).name\n",
    "    extension = filename.split(\".\")[-1]\n",
    "    \n",
    "    id = uuid.uuid4().hex\n",
    "    data_text = f\"\"\"## \n",
    "            \"id\": \"{id}\",\n",
    "            \"index\": \"large_control_dataset-doc\",\n",
    "            \"source\": ##\n",
    "                \"content\": \"\",\n",
    "                \"fs\": ##\n",
    "                    \"uri\": \"{IMAGE_PATH}\"\n",
    "                ||,\n",
    "                \"file_name\": \"{filename}\",\n",
    "                \"file_type\": \"{extension}\",\n",
    "                \"embedded_depth\": 0\n",
    "            ||\n",
    "||\n",
    "\"\"\"\n",
    "\n",
    "    data_text = data_text.replace(\"\\\\\", \"/\")\n",
    "    data_text = data_text.replace(\"##\", \"{\")\n",
    "    data_text = data_text.replace(\"||\", \"}\")\n",
    "    \n",
    "    ddata = json.loads(data_text)\n",
    "    ddata['source']['content'] = im_b64\n",
    "    data = {}\n",
    "    data['documents'] = [ddata] #[{\"test\":\"test\"}]#list_docs\n",
    "    data['cypher'] = 0\n",
    "    data1 = json.dumps(data).encode()\n",
    "    response = requests.post(url, data=data1)\n",
    "    try:\n",
    "        out = response.json()\n",
    "        text = out['data'][0]['source']['content']\n",
    "        file_output = filename.split(\".\")[0] + \".txt\"\n",
    "        with open(os.path.join(OUTPUT_PATH,file_output), \"w\", encoding=\"utf8\") as f:\n",
    "             f.write(text)\n",
    "    except:\n",
    "        print(f\"file {filename} error {response.json()['error']}\")\n",
    "    "
   ]
  },
  {
   "cell_type": "code",
   "execution_count": 64,
   "id": "dc7a7851",
   "metadata": {},
   "outputs": [
    {
     "data": {
      "text/plain": [
       "{'status': {'code': 200, 'message': 'Success'},\n",
       " 'data': [{'id': '03ae2e365a004ae181503b29b29e23c7',\n",
       "   'index': 'large_control_dataset-doc',\n",
       "   'source': {'content': 'Hot Keys\\n\\nTo: Press:\\nThe File menu\\nOpen image from file CTRL+O\\nScan image CTRL+K\\nScan multiple images CTRL+SHIFT+K\\nStop scanning CTRL+T\\nCreate new batch CTRL+N\\nOpen a batch CTRL+P\\nSave text to file F2\\nSave image to file F12\\nThe Edit menu\\nUndo the last action CTRL+Z\\nRedo the last undone action CTRL+Y\\nCut the selection and put it to the clipboard CTRL+X\\n\\nCopy the selection to the clipboard\\n\\nPaste the clipboard contents\\n\\nDelete the active block, the selection, the selected pages\\nFind the specified text\\n\\nFind the next occurrence of the search text\\n\\nSeach for and replace the specified text\\n\\nCTRL+INS or CTRL+C\\nCTRL+V or SHIFT+INS\\nDEL\\n\\nCTRL+F\\n\\nF3\\n\\nCTRL+H\\n\\nThe View menu\\n\\nMagnify the image in the Image window\\nZoom Out the image in the Image window\\n\\nZoom In to selected blocks\\n\\nCTRL+SHIFT+NUM+\\nCTRL+SHIFT+NUM-\\nCTRL+SHIFT+NUM*\\n\\nProperties ALT+ENTER\\nThe Batch menu\\n\\nOpen next batch page ALT+Down\\n\\nOpen previous batch page ALT+Up\\n\\nOpen page with specified number CTRL+G\\n\\nClose the current page CTRL+4\\n\\nDelete the recognized text in the Text window\\n\\nCTRL+SHIFT+Del\\n\\n',\n",
       "    'fs': {'uri': 'D:/repos/nlp/notebooks/OCR/data/OCR_Test_Files/Scanned_documents/t5.tif'},\n",
       "    'file_name': 't5.tif',\n",
       "    'file_type': 'tif',\n",
       "    'embedded_depth': 0}}],\n",
       " 'error': '',\n",
       " 'number_documents_treated': 1,\n",
       " 'number_documents_non_treated': 0,\n",
       " 'list_id_not_treated': []}"
      ]
     },
     "execution_count": 64,
     "metadata": {},
     "output_type": "execute_result"
    }
   ],
   "source": [
    "out\n"
   ]
  },
  {
   "cell_type": "code",
   "execution_count": 65,
   "id": "d8c0ccd9",
   "metadata": {},
   "outputs": [
    {
     "data": {
      "text/plain": [
       "dict_keys(['status', 'data', 'error', 'number_documents_treated', 'number_documents_non_treated', 'list_id_not_treated'])"
      ]
     },
     "execution_count": 65,
     "metadata": {},
     "output_type": "execute_result"
    }
   ],
   "source": [
    "out.keys()"
   ]
  },
  {
   "cell_type": "code",
   "execution_count": 17,
   "id": "859af5c6",
   "metadata": {},
   "outputs": [],
   "source": [
    "with open(\"rtf_request.json\", \"w\") as f:\n",
    "    json.dump(data,f,  indent=4)"
   ]
  },
  {
   "cell_type": "code",
   "execution_count": 18,
   "id": "790fa389",
   "metadata": {},
   "outputs": [],
   "source": [
    "data1 = json.dumps(data).encode()"
   ]
  },
  {
   "cell_type": "code",
   "execution_count": 19,
   "id": "626347f0",
   "metadata": {},
   "outputs": [],
   "source": [
    "response = requests.post(url, data=data1)"
   ]
  },
  {
   "cell_type": "code",
   "execution_count": 20,
   "id": "1c2f59dc",
   "metadata": {},
   "outputs": [
    {
     "name": "stdout",
     "output_type": "stream",
     "text": [
      "{'status': {'code': 200, 'message': 'Success'}, 'data': [{'id': '4e47b0dfb2d74ba7b1a783689aabe1b9', 'index': 'large_control_dataset-doc', 'source': {'content': 'Hot Keys\\nTo:\\nPress:\\nThe File menu\\nOpen image from file\\nCTRL+O\\nScan image\\nCTRL+K\\nScan multiple images\\nCTRL+SHIFT+K\\nStop scanning\\nCTRL+T\\nCreate new batch\\nCTRL+N\\nOpen a batch\\nCTRL+P\\nSave text to file\\nF2\\nSave image to file\\nF12\\nThe Edit menu\\nUndo the last action\\nCTRL+Z\\nRedo the last undone action\\nCTRL+Y\\nCut the selection and put it to the clipboard\\nCTRL+X\\nCopy the selection to the clipboard\\nCTRL+INS or CTRL+C\\nPaste the clipboard contents\\nCTRL+V or SHIFT+INS\\nDelete the active block, the selection, the selected pages\\nDEL\\nFind the specified text\\nCTRL+F\\nFind the next occurrence of the search text\\nF3\\nSeach for and replace the specified text\\nCTRL+H\\nThe View menu\\nMagnify the image in the Image window\\nCTRL+SHIFT+NUM+\\nZoom Out the image in the image window\\nCTRL+SHIFT+NUM-\\nZoom In to selected blocks\\nCTRL+SHIFT+NUM*\\nProperties\\nALT+ENTER\\nThe Batch menu\\nOpen next batch page\\nALT+Down\\nOpen previous batch page\\nALT+Up\\nOpen page with specified number\\nCTRL+G\\nClose the current page\\nCTRL+4\\nDelete the recognized text in the Text window\\nCTRL+SHIFT+Del', 'fs': {'uri': '/mnt/d/repos/nlp/notebooks/ocr/data/ocr_test_files/scanned_documents/t5.tif'}, 'file_name': '/mnt/d/repos/nlp/notebooks/OCR/data/OCR_Test_Files/Scanned_documents/t5.tif', 'file_type': 'tif', 'embedded_depth': 0}}], 'error': '', 'number_documents_treated': 1, 'number_documents_non_treated': 0, 'list_id_not_treated': []}\n"
     ]
    }
   ],
   "source": [
    "print(response.json())"
   ]
  },
  {
   "cell_type": "code",
   "execution_count": 21,
   "id": "8d9d7a5e",
   "metadata": {},
   "outputs": [],
   "source": [
    "out = response.json()['data']"
   ]
  },
  {
   "cell_type": "code",
   "execution_count": 22,
   "id": "e125cfe7",
   "metadata": {},
   "outputs": [
    {
     "data": {
      "text/plain": [
       "[{'id': '4e47b0dfb2d74ba7b1a783689aabe1b9',\n",
       "  'index': 'large_control_dataset-doc',\n",
       "  'source': {'content': 'Hot Keys\\nTo:\\nPress:\\nThe File menu\\nOpen image from file\\nCTRL+O\\nScan image\\nCTRL+K\\nScan multiple images\\nCTRL+SHIFT+K\\nStop scanning\\nCTRL+T\\nCreate new batch\\nCTRL+N\\nOpen a batch\\nCTRL+P\\nSave text to file\\nF2\\nSave image to file\\nF12\\nThe Edit menu\\nUndo the last action\\nCTRL+Z\\nRedo the last undone action\\nCTRL+Y\\nCut the selection and put it to the clipboard\\nCTRL+X\\nCopy the selection to the clipboard\\nCTRL+INS or CTRL+C\\nPaste the clipboard contents\\nCTRL+V or SHIFT+INS\\nDelete the active block, the selection, the selected pages\\nDEL\\nFind the specified text\\nCTRL+F\\nFind the next occurrence of the search text\\nF3\\nSeach for and replace the specified text\\nCTRL+H\\nThe View menu\\nMagnify the image in the Image window\\nCTRL+SHIFT+NUM+\\nZoom Out the image in the image window\\nCTRL+SHIFT+NUM-\\nZoom In to selected blocks\\nCTRL+SHIFT+NUM*\\nProperties\\nALT+ENTER\\nThe Batch menu\\nOpen next batch page\\nALT+Down\\nOpen previous batch page\\nALT+Up\\nOpen page with specified number\\nCTRL+G\\nClose the current page\\nCTRL+4\\nDelete the recognized text in the Text window\\nCTRL+SHIFT+Del',\n",
       "   'fs': {'uri': '/mnt/d/repos/nlp/notebooks/ocr/data/ocr_test_files/scanned_documents/t5.tif'},\n",
       "   'file_name': '/mnt/d/repos/nlp/notebooks/OCR/data/OCR_Test_Files/Scanned_documents/t5.tif',\n",
       "   'file_type': 'tif',\n",
       "   'embedded_depth': 0}}]"
      ]
     },
     "execution_count": 22,
     "metadata": {},
     "output_type": "execute_result"
    }
   ],
   "source": [
    "out"
   ]
  },
  {
   "cell_type": "code",
   "execution_count": 23,
   "id": "f957c769",
   "metadata": {},
   "outputs": [
    {
     "ename": "TypeError",
     "evalue": "list indices must be integers or slices, not str",
     "output_type": "error",
     "traceback": [
      "\u001b[0;31m---------------------------------------------------------------------------\u001b[0m",
      "\u001b[0;31mTypeError\u001b[0m                                 Traceback (most recent call last)",
      "Cell \u001b[0;32mIn[23], line 1\u001b[0m\n\u001b[0;32m----> 1\u001b[0m crypto64 \u001b[38;5;241m=\u001b[39m \u001b[43mresponse\u001b[49m\u001b[38;5;241;43m.\u001b[39;49m\u001b[43mjson\u001b[49m\u001b[43m(\u001b[49m\u001b[43m)\u001b[49m\u001b[43m[\u001b[49m\u001b[38;5;124;43m'\u001b[39;49m\u001b[38;5;124;43mdata\u001b[39;49m\u001b[38;5;124;43m'\u001b[39;49m\u001b[43m]\u001b[49m\u001b[43m[\u001b[49m\u001b[38;5;124;43m'\u001b[39;49m\u001b[38;5;124;43mcrypto\u001b[39;49m\u001b[38;5;124;43m'\u001b[39;49m\u001b[43m]\u001b[49m\n",
      "\u001b[0;31mTypeError\u001b[0m: list indices must be integers or slices, not str"
     ]
    }
   ],
   "source": [
    "crypto64 = response.json()['data']['crypto']"
   ]
  },
  {
   "cell_type": "code",
   "execution_count": 70,
   "id": "7dca1769",
   "metadata": {},
   "outputs": [],
   "source": [
    "from Crypto.PublicKey import RSA\n",
    "from Crypto.Cipher import AES, PKCS1_OAEP\n",
    "\n",
    "private_key = RSA.import_key(open(\"private.pem\").read())\n"
   ]
  },
  {
   "cell_type": "code",
   "execution_count": 72,
   "id": "a26d81a8",
   "metadata": {},
   "outputs": [],
   "source": [
    "decoded = base64.decodebytes(crypto64.encode())"
   ]
  },
  {
   "cell_type": "code",
   "execution_count": 73,
   "id": "b4f39c15",
   "metadata": {},
   "outputs": [],
   "source": [
    "import io\n",
    "stream_str = io.BytesIO(decoded)"
   ]
  },
  {
   "cell_type": "code",
   "execution_count": 74,
   "id": "cd8892a2",
   "metadata": {},
   "outputs": [],
   "source": [
    "enc_session_key, nonce, tag, ciphertext = \\\n",
    "   [ stream_str.read(x) for x in (private_key.size_in_bytes(), 16, 16, -1) ]"
   ]
  },
  {
   "cell_type": "code",
   "execution_count": 75,
   "id": "0f51c208",
   "metadata": {},
   "outputs": [
    {
     "name": "stdout",
     "output_type": "stream",
     "text": [
      "Senior Python Developer\n",
      "NLP Logix Jacksonville, FL, USA\n",
      "\n",
      "Benefits Offered\n",
      "\n",
      "401K, Dental, Life, Medical, Vision\n",
      "Employment Type\n",
      "\n",
      "Full-Time\n",
      "\n",
      "Why Work Here?\n",
      "“Working for NLP LOGIX will give you a unique opportunity to learn and play an integral role building new and\n",
      "\n",
      "exciting products.”\n",
      "\n",
      "Seeking Senior Software Developer for a cutting-edge computer vision product company,\n",
      "Scribe Fusion (www.scribefusion.com), a division of NLP Logix. The ideal candidate will be\n",
      "\n",
      "comfortable working with multiple technology stacks and operating systems. Responsibilities\n",
      "\n",
      "include developing both back-end and front-end components, however the focus will be\n",
      "primarily on back-end components. Much of the development activities will be focused on new\n",
      "\n",
      "features and components, however existing product installations need to be maintained as\n",
      "well. We encourage a collaborative, ego-free environment with a focus on producing amazing\n",
      "\n",
      "products and exceeding customer expectations.\n",
      "Responsibilities:\n",
      "\n",
      "o Develop and interact with computer vision models.\n",
      "\n",
      "Develop Docker components to be consumed by workflow-based applications.\n",
      "\n",
      "e Work with clients on integrations with existing systems.\n",
      "\n",
      "e Develop GUI applications, surfacing results of backend processes.\n",
      "\n",
      "Requirements (Must-Haves):\n",
      "o 5+ years of software development experience\n",
      "\n",
      "e Multiple years’ experience with Python is strongly preferred\n",
      "\n",
      " Experience working with one or more major relational database technology (Oracle,\n",
      "SQL\n",
      "\n",
      "Server, MySQL, PostgreSQL)\n",
      "o Comfortable working in both Windows and Linux based environments\n",
      "e Ability to work effectively with colleagues\n",
      "\n",
      "e Ability to work with minimal supervision\n",
      "\n"
     ]
    }
   ],
   "source": [
    "# Decrypt the session key with the private RSA key\n",
    "cipher_rsa = PKCS1_OAEP.new(private_key)\n",
    "session_key = cipher_rsa.decrypt(enc_session_key)\n",
    "\n",
    "# Decrypt the data with the AES session key\n",
    "cipher_aes = AES.new(session_key, AES.MODE_EAX, nonce)\n",
    "data = cipher_aes.decrypt_and_verify(ciphertext, tag)\n",
    "print(data.decode(\"utf-8\"))"
   ]
  },
  {
   "cell_type": "code",
   "execution_count": null,
   "id": "8b55a823",
   "metadata": {},
   "outputs": [],
   "source": [
    "import shutil"
   ]
  },
  {
   "cell_type": "code",
   "execution_count": null,
   "id": "706e2738",
   "metadata": {},
   "outputs": [],
   "source": [
    "shutil.rmtree()"
   ]
  }
 ],
 "metadata": {
  "kernelspec": {
   "display_name": "Python (pii)",
   "language": "python",
   "name": "pii"
  },
  "language_info": {
   "codemirror_mode": {
    "name": "ipython",
    "version": 3
   },
   "file_extension": ".py",
   "mimetype": "text/x-python",
   "name": "python",
   "nbconvert_exporter": "python",
   "pygments_lexer": "ipython3",
   "version": "3.11.10"
  }
 },
 "nbformat": 4,
 "nbformat_minor": 5
}
