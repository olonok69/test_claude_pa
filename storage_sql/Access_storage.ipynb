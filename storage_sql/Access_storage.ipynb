{
 "cells": [
  {
   "cell_type": "code",
   "execution_count": null,
   "id": "690319a7-7449-476c-aba1-76eb6cd6e85b",
   "metadata": {},
   "outputs": [],
   "source": [
    "from datetime import datetime, timedelta\n",
    "from azure.storage.blob import (\n",
    "    BlobServiceClient,\n",
    "    generate_account_sas,\n",
    "    ResourceTypes,\n",
    "    AccountSasPermissions,\n",
    ")\n",
    "import os\n",
    "from dotenv import load_dotenv"
   ]
  },
  {
   "cell_type": "code",
   "execution_count": null,
   "id": "e69d4ec0-1f65-48de-8f61-659b20e8dd4b",
   "metadata": {},
   "outputs": [],
   "source": [
    "load_dotenv(\"../.env\")"
   ]
  },
  {
   "cell_type": "code",
   "execution_count": null,
   "id": "6b1d91d6-8a26-44d5-aba9-7c85ad03159c",
   "metadata": {},
   "outputs": [],
   "source": [
    "from azure.identity import ManagedIdentityCredential\n",
    "from azure.keyvault.secrets import SecretClient\n",
    "\n",
    "credential = ManagedIdentityCredential()\n",
    "client = SecretClient(\"https://strategicai-kv-uks-dev.vault.azure.net/\", credential)"
   ]
  },
  {
   "cell_type": "code",
   "execution_count": null,
   "id": "0c8f22be-4cd3-47de-b379-2a9590e91aa7",
   "metadata": {},
   "outputs": [],
   "source": [
    "AZURE_CLIENT_SECRET = client.get_secret(\"strategicai-svp-app-client-secret-01\")\n",
    "AZURE_TENANT_ID = \"3540e7dc-31b3-4057-9e31-43e9fe938179\"\n",
    "AZURE_CLIENT_ID = \"e77fcc8e-5551-47b6-a600-1d5633c81e31\""
   ]
  },
  {
   "cell_type": "code",
   "execution_count": null,
   "id": "55ae346b-6338-4047-862a-00e70e9e2f9b",
   "metadata": {},
   "outputs": [],
   "source": [
    "AZURE_CLIENT_SECRET.value"
   ]
  },
  {
   "cell_type": "code",
   "execution_count": null,
   "id": "392f62f2-5813-4867-80de-00020167c111",
   "metadata": {},
   "outputs": [],
   "source": [
    "os.environ[\"AZURE_CLIENT_SECRET\"] = AZURE_CLIENT_SECRET.value\n",
    "os.environ[\"AZURE_TENANT_ID\"] = AZURE_TENANT_ID\n",
    "os.environ[\"TENANTID\"] = AZURE_TENANT_ID\n",
    "os.environ[\"AZURE_CLIENT_ID\"] = AZURE_CLIENT_ID"
   ]
  },
  {
   "cell_type": "code",
   "execution_count": null,
   "id": "102c9de0-c953-44ce-8afd-638ac70354a1",
   "metadata": {},
   "outputs": [],
   "source": [
    "from azure.identity import DefaultAzureCredential\n",
    "from azure.storage.blob import BlobServiceClient\n",
    "\n",
    "token_credential = DefaultAzureCredential()\n",
    "# credential = DefaultAzureCredential()\n",
    "# Check if given credential can get token successfully.\n",
    "token = token_credential.get_token(\"https://management.azure.com/.default\")\n",
    "\n",
    "blob_service_client = BlobServiceClient(\n",
    "    account_url=\"https://strategicaistuksdev01.blob.core.windows.net\",\n",
    "    credential=token_credential,\n",
    ")"
   ]
  },
  {
   "cell_type": "code",
   "execution_count": null,
   "id": "e058eb69-0d8d-4f8c-9174-7dabfff2bb94",
   "metadata": {},
   "outputs": [],
   "source": [
    "token_credential.get_token(\"https://management.azure.com/.default\")"
   ]
  },
  {
   "cell_type": "code",
   "execution_count": null,
   "id": "6580fcc7-4257-4bc8-ab39-7cbda0925d60",
   "metadata": {},
   "outputs": [],
   "source": [
    "from azure.storage.blob import ContainerClient\n",
    "conn_string = =\"\"\n",
    "container = ContainerClient.from_connection_string(conn_str=conn_string, container_name=\"landing\")"
   ]
  },
  {
   "cell_type": "code",
   "execution_count": null,
   "id": "df9eead4-07aa-432e-89d1-85245f10e3d1",
   "metadata": {},
   "outputs": [],
   "source": [
    "container = ContainerClient.from_container_url(\n",
    "    container_url=\"https://strategicaistuksdev01.blob.core.windows.net/landing\",\n",
    "    credential=token_credential,\n",
    ")"
   ]
  },
  {
   "cell_type": "code",
   "execution_count": null,
   "id": "5facb38b-7ea4-49d3-9ffb-bdbba7e10152",
   "metadata": {},
   "outputs": [],
   "source": [
    "from azure.storage.blob import BlobServiceClient\n",
    "\n",
    "service = BlobServiceClient(\n",
    "    account_url=\"https://strategicaistuksdev01.blob.core.windows.net/\", credential=\"\"\n",
    ")"
   ]
  },
  {
   "cell_type": "code",
   "execution_count": null,
   "id": "3de5df5d-4970-4122-a453-77e175ba951a",
   "metadata": {},
   "outputs": [],
   "source": [
    "container = service.get_container_client(\"landing\")"
   ]
  },
  {
   "cell_type": "code",
   "execution_count": null,
   "id": "f4f5844b-6d45-4f63-ad4c-09bdb4759eb6",
   "metadata": {},
   "outputs": [],
   "source": [
    "import os\n",
    "from azure.identity import DefaultAzureCredential\n",
    "from azure.keyvault.secrets import SecretClient\n",
    "from azure.storage.blob import BlobServiceClient\n",
    "\n",
    "# Acquire a credential object\n",
    "token_credential = DefaultAzureCredential()\n",
    "\n",
    "client = SecretClient(\n",
    "    \"https://strategicai-kv-uks-dev.vault.azure.net/\", token_credential\n",
    ")\n",
    "\n",
    "AZURE_CLIENT_SECRET = client.get_secret(\"strategicai-svp-app-client-secret-01\")\n",
    "AZURE_TENANT_ID = \"\"\n",
    "AZURE_CLIENT_ID = \"\"\n",
    "\n",
    "os.environ[\"AZURE_CLIENT_SECRET\"] = AZURE_CLIENT_SECRET.value\n",
    "os.environ[\"AZURE_TENANT_ID\"] = AZURE_TENANT_ID\n",
    "os.environ[\"AZURE_CLIENT_ID\"] = AZURE_CLIENT_ID\n",
    "\n",
    "blob_service_client = BlobServiceClient(\n",
    "    account_url=\"https://strategicaistuksdev01.blob.core.windows.net\",\n",
    "    credential=token_credential,\n",
    ")\n",
    "# Get and print account information\n",
    "account_info = blob_service_client.get_account_information()\n",
    "print(account_info)"
   ]
  },
  {
   "cell_type": "code",
   "execution_count": null,
   "id": "4e05d994-3d1e-40e9-81fc-b7a799f53004",
   "metadata": {},
   "outputs": [],
   "source": [
    "from azure.storage.blob import BlobServiceClient\n",
    "from azure.identity import DefaultAzureCredential\n",
    "\n",
    "# Create a credential using DefaultAzureCredential\n",
    "credential = DefaultAzureCredential()\n",
    "\n",
    "# Retrieve the access token\n",
    "token = credential.get_token(\"https://storage.azure.com/.default\")\n",
    "\n",
    "# Create a BlobServiceClient using the access token\n",
    "blob_service_client = BlobServiceClient(\n",
    "    account_url=\"https://strategicaistuksdev01.blob.core.windows.net\",\n",
    "    credential=token.token,\n",
    ")"
   ]
  },
  {
   "cell_type": "code",
   "execution_count": null,
   "id": "cecf3625-c77b-4e4f-9ba2-02a38d77e9ed",
   "metadata": {},
   "outputs": [],
   "source": [
    "blob_service_client.get_container_client()"
   ]
  },
  {
   "cell_type": "code",
   "execution_count": null,
   "id": "cbd314ee-7479-40b2-8c1d-0aae20cf261d",
   "metadata": {},
   "outputs": [],
   "source": [
    "from datetime import datetime, timedelta\n",
    "from azure.storage.blob import (\n",
    "    BlobServiceClient,\n",
    "    generate_account_sas,\n",
    "    ResourceTypes,\n",
    "    AccountSasPermissions,\n",
    ")\n",
    "\n",
    "sas_token = generate_account_sas(\n",
    "    account_name=\"strategicaistuksdev01\",\n",
    "    account_key=\"\",\n",
    "    resource_types=ResourceTypes(service=True),\n",
    "    permission=AccountSasPermissions(read=True),\n",
    "    expiry=datetime.utcnow() + timedelta(hours=1),\n",
    ")"
   ]
  },
  {
   "cell_type": "code",
   "execution_count": null,
   "id": "f4bfa4e4-56fc-429e-908f-ebcef35ca716",
   "metadata": {},
   "outputs": [],
   "source": [
    "from azure.storage.blob import BlobServiceClient\n",
    "\n",
    "blob_service_client = BlobServiceClient(\n",
    "    account_url=\"https://strategicaistuksdev01.blob.core.windows.net\",\n",
    "    credential=access_token,\n",
    ")"
   ]
  },
  {
   "cell_type": "code",
   "execution_count": null,
   "id": "ef4267f2-c78d-4ab2-a011-6faa367cf81c",
   "metadata": {},
   "outputs": [],
   "source": [
    "from azure.storage.blob import ContainerClient\n",
    "\n",
    "container = ContainerClient(\n",
    "    account_url=\"https://strategicaistuksdev01.blob.core.windows.net\",\n",
    "    credential=token_credential,\n",
    "    container_name=\"landing\",\n",
    ")"
   ]
  },
  {
   "cell_type": "code",
   "execution_count": null,
   "id": "3571dfbe-24f0-4349-96f4-7d8bd0eaa0b6",
   "metadata": {},
   "outputs": [],
   "source": [
    "for b in container.list_blobs():\n",
    "    print(b)"
   ]
  },
  {
   "cell_type": "code",
   "execution_count": null,
   "id": "d92ac2b8-ed79-4091-be0d-f6a358e49cb0",
   "metadata": {},
   "outputs": [],
   "source": []
  }
 ],
 "metadata": {
  "kernelspec": {
   "display_name": "Python (csm)",
   "language": "python",
   "name": "csm"
  },
  "language_info": {
   "codemirror_mode": {
    "name": "ipython",
    "version": 3
   },
   "file_extension": ".py",
   "mimetype": "text/x-python",
   "name": "python",
   "nbconvert_exporter": "python",
   "pygments_lexer": "ipython3",
   "version": "3.11.10"
  }
 },
 "nbformat": 4,
 "nbformat_minor": 5
}
