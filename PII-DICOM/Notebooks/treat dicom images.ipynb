{
 "cells": [
  {
   "cell_type": "markdown",
   "id": "1ad041b6",
   "metadata": {},
   "source": [
    "This Notebook Process Dicom Files in batch process sending files to the dicom processor one by one via http requests\n",
    "redacting sensitive information from DICOM (Digital Imaging and Communications in Medicine) files. Summary of what each cell does:\n",
    "\n",
    "1. **Cell 2**: Imports necessary libraries and modules, including `requests`, `json`, `os`, `pydicom`, `matplotlib.pyplot`, and `presidio_image_redactor`.\n",
    "2. **Cell 3**: Loads a specific DICOM file using `pydicom.dcmread`.\n",
    "3. **Cell 4**: Defines input and output paths for DICOM files and initializes the `DicomImageRedactorEngine`.\n",
    "4. **Cell 5**: Contains a markdown cell indicating the start of a performance test for batch processing.\n",
    "5. **Cell 6**: Redacts text PHI (Protected Health Information) from DICOM images in a directory and measures the time taken for this process.\n",
    "6. **Cell 7**: Calculates the time taken for the redaction process in microseconds.\n",
    "7. **Cell 8**: Converts the time taken for the redaction process to seconds.\n",
    "8. **Cell 9**: Defines a function `process_dicom_files` to iterate through a folder, process DICOM files using an API, and save the redacted results to a local folder.\n",
    "9. **Cell 10**: Measures the time taken for the `process_dicom_files` function to run.\n",
    "10. **Cell 11**: Displays the time taken for the `process_dicom_files` function to run.\n",
    "11. **Cell 12**: Displays the shape of the pixel array of the loaded DICOM instance.\n",
    "12. **Cell 13**: Plots the pixel array of the loaded DICOM instance using `matplotlib`.\n",
    "13. **Cell 14**: Runs the `process_dicom_files` function on a different input folder and measures the time taken.\n",
    "14. **Cell 15**: Displays the time taken for the batch processing in seconds.\n",
    "\n",
    "Overall, the notebook is designed to load DICOM files, redact sensitive information, measure the performance of these operations, and visualize the DICOM images."
   ]
  },
  {
   "cell_type": "code",
   "execution_count": null,
   "id": "2476e78f-4eb3-4461-80eb-d5bcf1d3bfdb",
   "metadata": {},
   "outputs": [],
   "source": [
    "import requests\n",
    "import json\n",
    "import os\n",
    "import pydicom\n",
    "from pydicom.dataelem import DataElement\n",
    "import base64\n",
    "import glob\n",
    "from pathlib import Path\n",
    "import matplotlib.pyplot as plt\n",
    "from presidio_image_redactor import DicomImageRedactorEngine\n",
    "import datetime"
   ]
  },
  {
   "cell_type": "code",
   "execution_count": null,
   "id": "e6f92684-07cc-401c-86c2-2f44893230e3",
   "metadata": {},
   "outputs": [],
   "source": [
    "# Load in and process your DICOM file as needed\n",
    "dicom_instance = pydicom.dcmread('dicom/manifest-1617826161202/Pseudo-PHI-DICOM-Data/Pseudo-PHI-001/06-26-2003-NA-XR CHEST AP PORTABLE-96544/1002.000000-NA-96023/1-1.dcm')\n"
   ]
  },
  {
   "cell_type": "code",
   "execution_count": null,
   "id": "9f84f6aa-ca44-4c4a-83d1-90c3628a7f24",
   "metadata": {},
   "outputs": [],
   "source": [
    "# Single DICOM (.dcm) file or directory containing DICOM files\n",
    "input_path = 'dicom/'\n",
    "\n",
    "# Directory where the output will be written\n",
    "output_parent_dir = 'output/'\n",
    "\n",
    "engine = DicomImageRedactorEngine()"
   ]
  },
  {
   "cell_type": "markdown",
   "id": "c98104e0-43b6-420e-a966-b2073a06c5e0",
   "metadata": {},
   "source": [
    "# Performance Test Batch Processing"
   ]
  },
  {
   "cell_type": "code",
   "execution_count": null,
   "id": "8006f42f-d233-4f60-b65e-31bf357749c4",
   "metadata": {
    "scrolled": true
   },
   "outputs": [],
   "source": [
    "# Redact text PHI from DICOM images\n",
    "time1 = datetime.datetime.now()\n",
    "engine.redact_from_directory(\n",
    "    input_dicom_path = input_path,\n",
    "    output_dir = output_parent_dir,\n",
    "    fill=\"contrast\",\n",
    "    save_bboxes=True # if True, saves the redacted region bounding box info to .json files in the output dir\n",
    ")\n",
    "time2 = datetime.datetime.now()"
   ]
  },
  {
   "cell_type": "code",
   "execution_count": null,
   "id": "567a351a-4516-468d-af1b-4ee3960cffce",
   "metadata": {},
   "outputs": [],
   "source": [
    "(time2 - time1).microseconds "
   ]
  },
  {
   "cell_type": "code",
   "execution_count": null,
   "id": "ebf618bd-e510-4bc5-b87c-e2e48a5bc7d8",
   "metadata": {},
   "outputs": [],
   "source": [
    "time_batch = ((time2 - time1).seconds * 1000000 + (time2 - time1).microseconds )/ 1000000"
   ]
  },
  {
   "cell_type": "code",
   "execution_count": null,
   "id": "e7d631d6-ee48-4f8e-9374-0a55ee7bb616",
   "metadata": {
    "scrolled": true
   },
   "outputs": [],
   "source": [
    "import os\n",
    "import requests\n",
    "import base64\n",
    "\n",
    "def process_dicom_files(input_folder, output_folder):\n",
    "    \"\"\"\n",
    "    Iterates through a folder with subfolders, processes DICOM files,\n",
    "    and saves the redacted results to a local folder.\n",
    "\n",
    "    Args:\n",
    "        input_folder (str): Path to the input folder containing DICOM files.\n",
    "        output_folder (str): Path to the output folder to save redacted DICOM files.\n",
    "    \"\"\"\n",
    "\n",
    "    if not os.path.exists(output_folder):\n",
    "        os.makedirs(output_folder)\n",
    "\n",
    "    for root, _, files in os.walk(input_folder):\n",
    "        for file in files:\n",
    "            if file.lower().endswith(('.dcm', '.dicom', 'DCM')):\n",
    "                input_filepath = os.path.join(root, file)\n",
    "                relative_path = os.path.relpath(input_filepath, input_folder) # get the relative path\n",
    "                output_filepath = os.path.join(output_folder, relative_path)\n",
    "\n",
    "                # Create the output subdirectories if they don't exist\n",
    "                os.makedirs(os.path.dirname(output_filepath), exist_ok=True)\n",
    "\n",
    "                try:\n",
    "                    url = \"https://ai.demo.datadetect.com/pii_dicom/process-dicom-image\"\n",
    "                    with open(input_filepath, 'rb') as f:\n",
    "                        files = {'file': f}\n",
    "                        r = requests.post(url, files=files)\n",
    "                        r.raise_for_status() # Raise HTTPError for bad responses (4xx or 5xx)\n",
    "                        out = r.json()\n",
    "\n",
    "                    encoded_dicom = out['redacted_instance']\n",
    "                    decoded_dicom = base64.b64decode(encoded_dicom)\n",
    "\n",
    "                    with open(output_filepath, 'wb') as f:\n",
    "                        f.write(decoded_dicom)\n",
    "\n",
    "                    print(f\"Processed and saved: {output_filepath}\")\n",
    "\n",
    "                except requests.exceptions.RequestException as e:\n",
    "                    print(f\"Error processing {input_filepath}: {e}\")\n",
    "                except (KeyError, ValueError, TypeError) as e:\n",
    "                    print(f\"Error processing {input_filepath}: Invalid API response: {e}\")\n",
    "                except Exception as e:\n",
    "                    print(f\"An unexpected error occurred while processing {input_filepath}: {e}\")\n",
    "\n",
    "# Example usage:\n",
    "input_folder = \"dicom\"  # Replace with your input folder path\n",
    "output_folder = \"output/dicon_online/\" # Replace with your output folder path\n",
    "time3 = datetime.datetime.now()\n",
    "process_dicom_files(input_folder, output_folder)\n",
    "time4 = datetime.datetime.now()"
   ]
  },
  {
   "cell_type": "code",
   "execution_count": null,
   "id": "926f0ba8-c5a9-41ab-863f-7ab639646863",
   "metadata": {},
   "outputs": [],
   "source": [
    "time_batch = ((time4 - time3).seconds * 1000000 + (time4 - time3).microseconds )/ 1000000"
   ]
  },
  {
   "cell_type": "code",
   "execution_count": null,
   "id": "61eecdd4-2c53-4b83-b575-00c877594a50",
   "metadata": {},
   "outputs": [],
   "source": [
    "time_batch"
   ]
  },
  {
   "cell_type": "code",
   "execution_count": null,
   "id": "11bf75f0-61af-4993-9751-aab70a27e182",
   "metadata": {},
   "outputs": [],
   "source": [
    "dicom_instance.pixel_array.shape"
   ]
  },
  {
   "cell_type": "code",
   "execution_count": null,
   "id": "79c99b28-6d9f-4ffb-b0c0-2b53118c1760",
   "metadata": {},
   "outputs": [],
   "source": [
    "plt.figure(figsize=(10,10))\n",
    "plt.imshow(dicom_instance.pixel_array)"
   ]
  },
  {
   "cell_type": "code",
   "execution_count": null,
   "id": "f19bcb63-feab-4c5d-ac07-917b6c3850d8",
   "metadata": {},
   "outputs": [],
   "source": [
    "# Example usage:\n",
    "input_folder = \"dicom_modified\"  # Replace with your input folder path\n",
    "output_folder = \"output/dicon_online2/\" # Replace with your output folder path\n",
    "time5 = datetime.datetime.now()\n",
    "process_dicom_files(input_folder, output_folder)\n",
    "time6 = datetime.datetime.now()"
   ]
  },
  {
   "cell_type": "code",
   "execution_count": null,
   "id": "a29d1d3b-3222-4d3f-8679-abafb4b008d2",
   "metadata": {},
   "outputs": [],
   "source": [
    "time_batch = ((time6 - time5).seconds * 1000000 + (time6 - time5).microseconds )/ 1000000\n",
    "print(f\"Time taken for batch processing: {time_batch} seconds\")\n"
   ]
  },
  {
   "cell_type": "markdown",
   "id": "b7658f6a",
   "metadata": {},
   "source": [
    "Time taken for batch processing: 5845.010997 seconds"
   ]
  }
 ],
 "metadata": {
  "kernelspec": {
   "display_name": "pii",
   "language": "python",
   "name": "python3"
  },
  "language_info": {
   "codemirror_mode": {
    "name": "ipython",
    "version": 3
   },
   "file_extension": ".py",
   "mimetype": "text/x-python",
   "name": "python",
   "nbconvert_exporter": "python",
   "pygments_lexer": "ipython3",
   "version": "3.11.10"
  }
 },
 "nbformat": 4,
 "nbformat_minor": 5
}
