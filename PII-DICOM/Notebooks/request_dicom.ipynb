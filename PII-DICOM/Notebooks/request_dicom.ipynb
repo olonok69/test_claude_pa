{
 "cells": [
  {
   "cell_type": "code",
   "execution_count": null,
   "id": "00f313f0-d1a8-4365-a621-9c31df6606de",
   "metadata": {},
   "outputs": [],
   "source": [
    "import requests\n",
    "import json\n",
    "import os\n",
    "import pydicom\n",
    "from pydicom.dataelem import DataElement\n",
    "import base64\n",
    "import glob\n",
    "from pathlib import Path\n",
    "import matplotlib.pyplot as plt\n"
   ]
  },
  {
   "cell_type": "code",
   "execution_count": null,
   "id": "381e0ca5-d074-4be9-ade9-baf8d29199d9",
   "metadata": {},
   "outputs": [],
   "source": [
    "def compare_dicom_images(\n",
    "    instance_original: pydicom.dataset.FileDataset,\n",
    "    instance_redacted: pydicom.dataset.FileDataset,\n",
    "    figsize: tuple = (11, 11)\n",
    ") -> None:\n",
    "    \"\"\"Display the DICOM pixel arrays of both original and redacted as images.\n",
    "\n",
    "    Args:\n",
    "        instance_original (pydicom.dataset.FileDataset): A single DICOM instance (with text PHI).\n",
    "        instance_redacted (pydicom.dataset.FileDataset): A single DICOM instance (redacted PHI).\n",
    "        figsize (tuple): Figure size in inches (width, height).\n",
    "    \"\"\"\n",
    "    _, ax = plt.subplots(1, 2, figsize=figsize)\n",
    "    ax[0].imshow(instance_original.pixel_array, cmap=\"gray\")\n",
    "    ax[0].set_title('Original')\n",
    "    ax[1].imshow(instance_redacted.pixel_array, cmap=\"gray\")\n",
    "    ax[1].set_title('Redacted')"
   ]
  },
  {
   "cell_type": "code",
   "execution_count": null,
   "id": "8f0a29e6-731a-4e64-9b4d-cec738e784f9",
   "metadata": {},
   "outputs": [],
   "source": [
    "files = {'file': open('0_ORIGINAL.dcm','rb')}"
   ]
  },
  {
   "cell_type": "code",
   "execution_count": null,
   "id": "737f4463-e460-482d-a374-d10386109d74",
   "metadata": {},
   "outputs": [],
   "source": [
    "url = \"http://127.0.0.1:8155/process-dicom-image\""
   ]
  },
  {
   "cell_type": "code",
   "execution_count": null,
   "id": "ac4e59c8-368e-4d44-8636-1bf774258cae",
   "metadata": {},
   "outputs": [],
   "source": [
    "r = requests.post(url, files=files)"
   ]
  },
  {
   "cell_type": "code",
   "execution_count": null,
   "id": "72e41fdd-71bd-4409-b473-fb6e20773f5c",
   "metadata": {},
   "outputs": [],
   "source": [
    "out = r.json()"
   ]
  },
  {
   "cell_type": "code",
   "execution_count": null,
   "id": "692f3923-4cef-44c7-b457-7647c3b7eee8",
   "metadata": {},
   "outputs": [],
   "source": [
    "# Decode the base64 string and save it as a DICOM file\n",
    "encoded_dicom = out['redacted_instance']\n",
    "decoded_dicom = base64.b64decode(encoded_dicom)\n",
    "\n",
    "with open('redacted_output_2.dcm', 'wb') as f:\n",
    "    f.write(decoded_dicom)\n",
    "\n",
    "print(\"Redacted DICOM image saved as 'redacted_output.dcm'\")"
   ]
  },
  {
   "cell_type": "code",
   "execution_count": null,
   "id": "d97d4186-9cf8-462e-a68b-aa88b7ea178f",
   "metadata": {},
   "outputs": [],
   "source": [
    "# Load in and process your DICOM file as needed\n",
    "dicom_instance = pydicom.dcmread('0_ORIGINAL.dcm')"
   ]
  },
  {
   "cell_type": "code",
   "execution_count": null,
   "id": "36a69ee7-ebde-4ec2-af41-f33b852eeaa5",
   "metadata": {},
   "outputs": [],
   "source": [
    "dicom_instance"
   ]
  },
  {
   "cell_type": "code",
   "execution_count": null,
   "id": "1457f3fd-6cef-4e53-ad5f-6167c65c57e1",
   "metadata": {},
   "outputs": [],
   "source": [
    "plt.figure(figsize=(10,10))\n",
    "plt.imshow(dicom_instance.pixel_array)"
   ]
  },
  {
   "cell_type": "code",
   "execution_count": null,
   "id": "b26d0150-7623-44b8-9554-91b85f641bb4",
   "metadata": {},
   "outputs": [],
   "source": [
    "# Load in and process your DICOM file as needed\n",
    "dicom_instance_redacted = pydicom.dcmread('redacted_output_2.dcm')"
   ]
  },
  {
   "cell_type": "code",
   "execution_count": null,
   "id": "d6573fa1-4c6f-493e-b50d-4be52fa98703",
   "metadata": {},
   "outputs": [],
   "source": [
    "dicom_instance_redacted"
   ]
  },
  {
   "cell_type": "code",
   "execution_count": null,
   "id": "5f94c0c1-460d-48b1-b58b-2a172c37bd45",
   "metadata": {},
   "outputs": [],
   "source": [
    "plt.figure(figsize=(10,10))\n",
    "plt.imshow(dicom_instance_redacted.pixel_array)"
   ]
  },
  {
   "cell_type": "code",
   "execution_count": null,
   "id": "8189b409-e54d-4d09-9dde-937b1567eaff",
   "metadata": {},
   "outputs": [],
   "source": [
    "data = {}\n",
    "data['folder_in'] = 'input'\n",
    "data['folder_out'] = 'output'"
   ]
  },
  {
   "cell_type": "code",
   "execution_count": null,
   "id": "f604a20e-e2d3-4bff-b0f9-0578489eef3d",
   "metadata": {},
   "outputs": [],
   "source": [
    "data1 =  json.dumps(data).encode()"
   ]
  },
  {
   "cell_type": "code",
   "execution_count": null,
   "id": "e22e27fc-3a20-4172-9d6e-7ea9b9f3075a",
   "metadata": {},
   "outputs": [],
   "source": [
    "url = \"http://127.0.0.1:8155/process-dicom-folder\""
   ]
  },
  {
   "cell_type": "code",
   "execution_count": null,
   "id": "809284bb-b07a-4647-9f76-535029c45947",
   "metadata": {},
   "outputs": [],
   "source": [
    "r = requests.post(url, data=data1)"
   ]
  },
  {
   "cell_type": "code",
   "execution_count": null,
   "id": "38b27343-a9de-4116-b237-5adaa4a1e4c2",
   "metadata": {},
   "outputs": [],
   "source": []
  }
 ],
 "metadata": {
  "kernelspec": {
   "display_name": "Python (pii)",
   "language": "python",
   "name": "pii"
  },
  "language_info": {
   "codemirror_mode": {
    "name": "ipython",
    "version": 3
   },
   "file_extension": ".py",
   "mimetype": "text/x-python",
   "name": "python",
   "nbconvert_exporter": "python",
   "pygments_lexer": "ipython3",
   "version": "3.11.10"
  }
 },
 "nbformat": 4,
 "nbformat_minor": 5
}
