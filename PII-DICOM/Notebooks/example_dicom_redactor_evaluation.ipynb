{
 "cells": [
  {
   "attachments": {},
   "cell_type": "markdown",
   "id": "bca35840",
   "metadata": {},
   "source": [
    "# Evaluate DICOM de-identification performance\n",
    "This notebook demonstrates how to use the `DicomImagePiiVerifyEngine` to evaluate how well the `DicomImageRedactorEngine` de-identifies text Personal Health Information (PHI) from DICOM images when ground truth labels are available."
   ]
  },
  {
   "attachments": {},
   "cell_type": "markdown",
   "id": "39472f68",
   "metadata": {},
   "source": [
    "## Prerequisites\n",
    "Before getting started, make sure presidio and the latest version of Tesseract OCR are installed. For detailed documentation, see the [installation docs](https://microsoft.github.io/presidio/installation)."
   ]
  },
  {
   "cell_type": "code",
   "execution_count": null,
   "id": "bcddce7b",
   "metadata": {
    "scrolled": true
   },
   "outputs": [],
   "source": [
    "!pip install presidio_analyzer presidio_anonymizer presidio_image_redactor\n",
    "!python -m spacy download en_core_web_lg"
   ]
  },
  {
   "attachments": {},
   "cell_type": "markdown",
   "id": "db8fb2f9",
   "metadata": {},
   "source": [
    "## Dataset\n",
    "Sample DICOM files are available for use in this notebook in `./sample_data`. Copies of the original DICOM data were saved into the folder with permission from the dataset owners. Please see the original dataset information below:\n",
    "> Rutherford, M., Mun, S.K., Levine, B., Bennett, W.C., Smith, K., Farmer, P., Jarosz, J., Wagner, U., Farahani, K., Prior, F. (2021). A DICOM dataset for evaluation of medical image de-identification (Pseudo-PHI-DICOM-Data) [Data set]. The Cancer Imaging Archive. DOI: https://doi.org/10.7937/s17z-r072"
   ]
  },
  {
   "cell_type": "code",
   "execution_count": null,
   "id": "5201ddac",
   "metadata": {},
   "outputs": [],
   "source": [
    "import os\n",
    "import json\n",
    "import pandas as pd\n",
    "import pydicom\n",
    "\n",
    "from presidio_image_redactor import DicomImagePiiVerifyEngine"
   ]
  },
  {
   "attachments": {},
   "cell_type": "markdown",
   "id": "baac080d",
   "metadata": {},
   "source": [
    "## Load ground truth\n",
    "Load the ground truth labels. For more information on the ground truth format, please see the [evaluating DICOM de-identification page](../../image-redactor/evaluating_dicom_redaction.md)."
   ]
  },
  {
   "cell_type": "code",
   "execution_count": null,
   "id": "c1507ad4",
   "metadata": {},
   "outputs": [],
   "source": [
    "# Set paths\n",
    "data_dir = \"sample_data\"\n",
    "gt_path = \"sample_data/ground_truth.json\""
   ]
  },
  {
   "cell_type": "code",
   "execution_count": null,
   "id": "3a7cad8e",
   "metadata": {},
   "outputs": [],
   "source": [
    "# Load ground truth JSON\n",
    "with open(gt_path) as json_file:\n",
    "    gt = json.load(json_file)\n",
    "\n",
    "# Get list of files\n",
    "gt_dicom_files = list(gt.keys())\n",
    "gt_dicom_files"
   ]
  },
  {
   "attachments": {},
   "cell_type": "markdown",
   "id": "3065f698",
   "metadata": {},
   "source": [
    "## Initialize the verification engine\n",
    "This engine will be used for both verification and evaluation."
   ]
  },
  {
   "cell_type": "code",
   "execution_count": null,
   "id": "715abb37",
   "metadata": {},
   "outputs": [],
   "source": [
    "dicom_engine = DicomImagePiiVerifyEngine()"
   ]
  },
  {
   "attachments": {},
   "cell_type": "markdown",
   "id": "68d2d0fe",
   "metadata": {},
   "source": [
    "## Verify detected PHI for one DICOM image\n",
    "To visually identify what text is being detected as PHI on a DICOM image, use the `.verify_dicom_instance()` method."
   ]
  },
  {
   "cell_type": "code",
   "execution_count": null,
   "id": "4e717ecb",
   "metadata": {},
   "outputs": [],
   "source": [
    "# Select one file to work with\n",
    "file_of_interest = gt_dicom_files[0]\n",
    "gt_file_of_interest = gt[file_of_interest]"
   ]
  },
  {
   "cell_type": "code",
   "execution_count": null,
   "id": "9f0d42f3-e0e5-4fba-b6a8-e5fd9a649842",
   "metadata": {},
   "outputs": [],
   "source": [
    "gt_file_of_interest"
   ]
  },
  {
   "cell_type": "code",
   "execution_count": null,
   "id": "bba0b234",
   "metadata": {},
   "outputs": [],
   "source": [
    "# Return image to visually inspect\n",
    "instance = pydicom.dcmread(file_of_interest)\n",
    "verify_image, ocr_results, analyzer_results = dicom_engine.verify_dicom_instance(instance)"
   ]
  },
  {
   "cell_type": "code",
   "execution_count": null,
   "id": "a0f2cf04-aff5-4954-ab27-0a58ec39c1f6",
   "metadata": {},
   "outputs": [],
   "source": [
    "ocr_results"
   ]
  },
  {
   "attachments": {},
   "cell_type": "markdown",
   "id": "d3d1a254",
   "metadata": {},
   "source": [
    "## Evaluate de-identification performance\n",
    "To evaluate how well the actual sensitive text (specified in the ground truth) are identified and redacted, use the `.evaluate_dicom_instance()` method."
   ]
  },
  {
   "cell_type": "code",
   "execution_count": null,
   "id": "d41c3d4d",
   "metadata": {},
   "outputs": [],
   "source": [
    "def get_PHI_list(PHI: list) -> list:\n",
    "    \"\"\"Get list of PHI from ground truth for a single file.\n",
    "    \n",
    "    Args:\n",
    "        PHI_dict (list): List of ground truth or detected text PHI.\n",
    "    \n",
    "    Return:\n",
    "        PHI_list (list): List of PHI (just text).\n",
    "    \"\"\"\n",
    "    PHI_list = []\n",
    "    for item in PHI:\n",
    "        PHI_list.append(item['label'])\n",
    "    \n",
    "    return PHI_list"
   ]
  },
  {
   "attachments": {},
   "cell_type": "markdown",
   "id": "7c96cc0c",
   "metadata": {},
   "source": [
    "### For one image\n",
    "Display the DICOM image with bounding boxes identifying the detected PHI."
   ]
  },
  {
   "cell_type": "code",
   "execution_count": null,
   "id": "e1c10519",
   "metadata": {},
   "outputs": [],
   "source": [
    "_, eval_results = dicom_engine.eval_dicom_instance(instance, gt_file_of_interest)"
   ]
  },
  {
   "attachments": {},
   "cell_type": "markdown",
   "id": "9817888e",
   "metadata": {},
   "source": [
    "Results"
   ]
  },
  {
   "cell_type": "code",
   "execution_count": null,
   "id": "667bac1a",
   "metadata": {},
   "outputs": [],
   "source": [
    "print(f\"Precision: {eval_results['precision']}\")\n",
    "print(f\"Recall: {eval_results['recall']}\")\n",
    "print(f\"All Positives: {get_PHI_list(eval_results['all_positives'])}\")\n",
    "print(f\"Ground Truth: {get_PHI_list(eval_results['ground_truth'])}\")"
   ]
  },
  {
   "attachments": {},
   "cell_type": "markdown",
   "id": "2aec1870",
   "metadata": {},
   "source": [
    "### For multiple images"
   ]
  },
  {
   "cell_type": "code",
   "execution_count": null,
   "id": "a777e9fe",
   "metadata": {},
   "outputs": [],
   "source": [
    "# Initialize lists to turn into results table\n",
    "list_of_files = gt_dicom_files\n",
    "list_of_gt = []\n",
    "list_of_pos = []\n",
    "list_of_recall = []\n",
    "list_of_precision = []"
   ]
  },
  {
   "attachments": {},
   "cell_type": "markdown",
   "id": "9397760a",
   "metadata": {},
   "source": [
    "Loop through all the files"
   ]
  },
  {
   "cell_type": "code",
   "execution_count": null,
   "id": "029ce444",
   "metadata": {},
   "outputs": [],
   "source": [
    "for file in gt_dicom_files:\n",
    "    # Setup\n",
    "    ground_truth = gt[file]\n",
    "    instance = pydicom.dcmread(file)\n",
    "    \n",
    "    # Evaluate\n",
    "    _, eval_results = dicom_engine.eval_dicom_instance(instance, ground_truth)\n",
    "    \n",
    "    # Save results\n",
    "    list_of_gt.append(get_PHI_list(eval_results[\"ground_truth\"]))\n",
    "    list_of_pos.append(get_PHI_list(eval_results[\"all_positives\"]))\n",
    "    list_of_recall.append(eval_results[\"recall\"])\n",
    "    list_of_precision.append(eval_results[\"precision\"])"
   ]
  },
  {
   "attachments": {},
   "cell_type": "markdown",
   "id": "1e154c79",
   "metadata": {},
   "source": [
    "Create a summary results table"
   ]
  },
  {
   "cell_type": "code",
   "execution_count": null,
   "id": "f3ce5afd",
   "metadata": {},
   "outputs": [],
   "source": [
    "# Organize results into a table\n",
    "all_results_dict = {\n",
    "    \"file\": list_of_files,\n",
    "    \"ground_truth\": list_of_gt,\n",
    "    \"all_positives\": list_of_pos,\n",
    "    \"recall\": list_of_recall,\n",
    "    \"precision\": list_of_precision\n",
    "}\n",
    "\n",
    "df_results = pd.DataFrame(all_results_dict)\n",
    "df_results"
   ]
  },
  {
   "attachments": {},
   "cell_type": "markdown",
   "id": "c0918d40",
   "metadata": {},
   "source": [
    "## Experiment with settings\n",
    "You can experiment with different settings such as `padding_width`, `tolerance`, and any additional arguments to feed into the image analyzer in your DICOM verification engine and see the effect on performance.\n",
    "\n",
    "> *Changing tolerance does not affect the de-identification logic nor image redaction. Tolerance is only used for matching analyzer results to ground truth labels.*"
   ]
  },
  {
   "attachments": {},
   "cell_type": "markdown",
   "id": "cf659377",
   "metadata": {},
   "source": [
    "For example, if we set `padding_width=1`, this can negatively impact the OCR step which identifies all text regardless of PHI status in an image if text is bordering the edges of the image. When the OCR fails to return all text, we cannot reliably detect PHI."
   ]
  },
  {
   "cell_type": "code",
   "execution_count": null,
   "id": "306ecdc3",
   "metadata": {},
   "outputs": [],
   "source": [
    "# Select file\n",
    "file_of_interest = gt_dicom_files[3]\n",
    "gt_file_of_interest = gt[file_of_interest]\n",
    "instance = pydicom.dcmread(file_of_interest)\n",
    "\n",
    "# Run evaluation with minimal padding (0 padding not allowed)\n",
    "_, eval_results = dicom_engine.eval_dicom_instance(instance, gt_file_of_interest, padding_width=1)"
   ]
  },
  {
   "attachments": {},
   "cell_type": "markdown",
   "id": "cbf7a3a3",
   "metadata": {},
   "source": [
    "Notice how low the recall is and how different the detected PHI list is here than in the summary table above which ran de-identification and evaluation with the default  `padding_width=25`."
   ]
  },
  {
   "cell_type": "code",
   "execution_count": null,
   "id": "94795680",
   "metadata": {},
   "outputs": [],
   "source": [
    "print(f\"Precision: {eval_results['precision']}\")\n",
    "print(f\"Recall: {eval_results['recall']}\")\n",
    "print(f\"All Positives: {get_PHI_list(eval_results['all_positives'])}\")\n",
    "print(f\"Ground Truth: {get_PHI_list(eval_results['ground_truth'])}\")"
   ]
  },
  {
   "attachments": {},
   "cell_type": "markdown",
   "id": "fd4ad3d6",
   "metadata": {},
   "source": [
    "## Conclusion\n",
    "The `DicomImagePiiVerifyEngine` allows us to easily do a visual inspection on the identified PHI and also evaluate how well the de-identification worked compared to a provided ground truth.\n",
    "\n",
    "In the case of these sample images, the precision and recall of the Presidio `DicomImageRedactorEngine` redact function is 1.0 when we use the default values `padding_width=25` and `tolerance=50`."
   ]
  }
 ],
 "metadata": {
  "kernelspec": {
   "display_name": "Python (pii)",
   "language": "python",
   "name": "pii"
  },
  "language_info": {
   "codemirror_mode": {
    "name": "ipython",
    "version": 3
   },
   "file_extension": ".py",
   "mimetype": "text/x-python",
   "name": "python",
   "nbconvert_exporter": "python",
   "pygments_lexer": "ipython3",
   "version": "3.11.10"
  }
 },
 "nbformat": 4,
 "nbformat_minor": 5
}
