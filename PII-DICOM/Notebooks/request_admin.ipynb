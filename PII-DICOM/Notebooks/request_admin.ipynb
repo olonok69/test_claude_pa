{
 "cells": [
  {
   "cell_type": "code",
   "execution_count": null,
   "id": "d1716a91-a3be-40a3-866b-94bee9555b60",
   "metadata": {},
   "outputs": [],
   "source": [
    "import requests\n",
    "import json\n",
    "import os"
   ]
  },
  {
   "cell_type": "code",
   "execution_count": null,
   "id": "eaff62de-0084-4fe8-9818-dab50a93ead0",
   "metadata": {},
   "outputs": [],
   "source": [
    "url= \"https://ai.demo.datadetect.com/admin_models/list_models_ollama\""
   ]
  },
  {
   "cell_type": "code",
   "execution_count": null,
   "id": "10bf6419-2782-4c3e-bae2-1d76651dd40f",
   "metadata": {},
   "outputs": [],
   "source": [
    "r = requests.get(url)"
   ]
  },
  {
   "cell_type": "code",
   "execution_count": null,
   "id": "65d77dab-c1d8-46c7-9f4b-2a9722e1f262",
   "metadata": {},
   "outputs": [],
   "source": [
    "r.json()"
   ]
  },
  {
   "cell_type": "code",
   "execution_count": null,
   "id": "755149a8-ef05-42e2-bc08-a096275f7493",
   "metadata": {},
   "outputs": [],
   "source": [
    "url= \"https://ai.demo.datadetect.com/admin_models/show_model_ollama\""
   ]
  },
  {
   "cell_type": "code",
   "execution_count": null,
   "id": "8da9f430-7ef0-438b-aa83-fb3f27188445",
   "metadata": {},
   "outputs": [],
   "source": [
    "data = {}\n",
    "data['model'] = 'qwen2.5:latest'\n",
    "data['model'] = 'llama3.1:latest'"
   ]
  },
  {
   "cell_type": "code",
   "execution_count": null,
   "id": "864361d5-de43-4703-bbbb-2eb9d83c67e2",
   "metadata": {},
   "outputs": [],
   "source": [
    "data1 =  json.dumps(data).encode()"
   ]
  },
  {
   "cell_type": "code",
   "execution_count": null,
   "id": "33bc3260-55f1-4d05-863a-a50b057c39e5",
   "metadata": {},
   "outputs": [],
   "source": [
    "r = requests.post(url, data=data1)"
   ]
  },
  {
   "cell_type": "code",
   "execution_count": null,
   "id": "6ad92b8f-5e47-4a10-a289-aed22c9d6025",
   "metadata": {},
   "outputs": [],
   "source": [
    "r.json()"
   ]
  },
  {
   "cell_type": "code",
   "execution_count": null,
   "id": "aab5b5eb-e2cd-4bf2-9931-1bb7da16012e",
   "metadata": {},
   "outputs": [],
   "source": []
  }
 ],
 "metadata": {
  "kernelspec": {
   "display_name": "Python (pii)",
   "language": "python",
   "name": "pii"
  },
  "language_info": {
   "codemirror_mode": {
    "name": "ipython",
    "version": 3
   },
   "file_extension": ".py",
   "mimetype": "text/x-python",
   "name": "python",
   "nbconvert_exporter": "python",
   "pygments_lexer": "ipython3",
   "version": "3.11.10"
  }
 },
 "nbformat": 4,
 "nbformat_minor": 5
}
