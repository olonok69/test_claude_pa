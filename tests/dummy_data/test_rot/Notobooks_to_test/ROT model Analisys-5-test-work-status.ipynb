{
 "cells": [
  {
   "cell_type": "code",
   "execution_count": 1,
   "id": "e471c84e",
   "metadata": {},
   "outputs": [],
   "source": [
    "import requests\n",
    "import mimetypes\n",
    "import json\n",
    "from inscriptis import get_text\n",
    "import pandas as pd\n",
    "import datetime"
   ]
  },
  {
   "cell_type": "code",
   "execution_count": 25,
   "id": "60b9d0ce",
   "metadata": {},
   "outputs": [
    {
     "name": "stdout",
     "output_type": "stream",
     "text": [
      "{'6ef66561-5af2-454b-b2f1-78a4ed13cc7e': {'uid': '6ef66561-5af2-454b-b2f1-78a4ed13cc7e', 'status': 'Creating metadata file 1437', 'type_job': 'Rot Analysis'}}\n"
     ]
    }
   ],
   "source": [
    "url = \"http://localhost:5001/work/status\"\n",
    "\n",
    "try:\n",
    "    r = requests.get(url)\n",
    "    print(r.json())\n",
    "finally:\n",
    "\n",
    "    pass"
   ]
  },
  {
   "cell_type": "code",
   "execution_count": 22,
   "id": "348a2adf",
   "metadata": {},
   "outputs": [
    {
     "name": "stdout",
     "output_type": "stream",
     "text": [
      "{'message': 'OK'}\n"
     ]
    }
   ],
   "source": [
    "# Semantic similarity\n",
    "url = \"http://localhost:5001/health-check\"\n",
    "\n",
    "try:\n",
    "    r = requests.get(url)#files=files)\n",
    "    print(r.json())\n",
    "finally:\n",
    "\n",
    "    pass"
   ]
  },
  {
   "cell_type": "code",
   "execution_count": 6,
   "id": "acf1e25d",
   "metadata": {},
   "outputs": [],
   "source": [
    "data =r.json()"
   ]
  },
  {
   "cell_type": "code",
   "execution_count": null,
   "id": "e99fe699",
   "metadata": {},
   "outputs": [],
   "source": [
    "data.keys()"
   ]
  },
  {
   "cell_type": "code",
   "execution_count": null,
   "id": "acd2ae14",
   "metadata": {},
   "outputs": [],
   "source": [
    "x = [data['data']['rot_dictionary'][0]]"
   ]
  },
  {
   "cell_type": "code",
   "execution_count": null,
   "id": "ca7ba141",
   "metadata": {},
   "outputs": [],
   "source": [
    "data['data']['rot_dictionary'] = x"
   ]
  },
  {
   "cell_type": "code",
   "execution_count": null,
   "id": "13aac55b",
   "metadata": {},
   "outputs": [],
   "source": [
    "data"
   ]
  },
  {
   "cell_type": "code",
   "execution_count": null,
   "id": "7bd6f071",
   "metadata": {},
   "outputs": [],
   "source": []
  }
 ],
 "metadata": {
  "kernelspec": {
   "display_name": "Python (pii)",
   "language": "python",
   "name": "myenv"
  },
  "language_info": {
   "codemirror_mode": {
    "name": "ipython",
    "version": 3
   },
   "file_extension": ".py",
   "mimetype": "text/x-python",
   "name": "python",
   "nbconvert_exporter": "python",
   "pygments_lexer": "ipython3",
   "version": "3.10.11"
  }
 },
 "nbformat": 4,
 "nbformat_minor": 5
}
