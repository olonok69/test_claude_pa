{
  "cells": [
    {
      "cell_type": "markdown",
      "metadata": {
        "colab_type": "text",
        "id": "view-in-github"
      },
      "source": [
        "<a href=\"https://colab.research.google.com/github/olonok69/projects_ai/blob/main/pysftp.ipynb\" target=\"_parent\"><img src=\"https://colab.research.google.com/assets/colab-badge.svg\" alt=\"Open In Colab\"/></a>"
      ]
    },
    {
      "cell_type": "code",
      "execution_count": null,
      "metadata": {
        "colab": {
          "base_uri": "https://localhost:8080/"
        },
        "id": "to08vXMLFhJi",
        "outputId": "8b0bb396-e75e-4a86-b46a-6b3b9971fccf"
      },
      "outputs": [],
      "source": [
        "! pip install -U  pysftp  -q"
      ]
    },
    {
      "cell_type": "code",
      "execution_count": null,
      "metadata": {
        "id": "_zaiEoYgDDxi"
      },
      "outputs": [],
      "source": [
        "key_path = \"/content/drive/MyDrive/keys/csm/vm-stratrgicai-rg-uks-dev-01_key.pem\"\n",
        "path_data = \"/content/drive/MyDrive/data/CSM\""
      ]
    },
    {
      "cell_type": "code",
      "execution_count": null,
      "metadata": {
        "id": "i9ulriX_Di3l"
      },
      "outputs": [],
      "source": [
        "import pysftp as sftp\n",
        "import sys\n",
        "\n",
        "cnopts = sftp.CnOpts()\n",
        "cnopts.hostkeys = None\n",
        "\n",
        "srver = sftp.Connection(\n",
        "    host=\"40.81.136.69\", username=\"azureuser\", private_key=key_path, cnopts=cnopts\n",
        ")"
      ]
    },
    {
      "cell_type": "code",
      "execution_count": null,
      "metadata": {
        "id": "iDfmec1zEx5r"
      },
      "outputs": [],
      "source": [
        "embeddings_llama = \"/content/drive/MyDrive/data/CSM/badge/embeddings_badges_llama.json\"\n",
        "embeddings_mistral = (\n",
        "    \"/content/drive/MyDrive/data/CSM/badge/embeddings_badges_mistral.json\"\n",
        ")"
      ]
    },
    {
      "cell_type": "code",
      "execution_count": null,
      "metadata": {
        "id": "Q2fXvKyYrEK4"
      },
      "outputs": [],
      "source": [
        "path_data = \"/mnt/wolverine/home/samtukra/juan/data/badge/embeddings_badges_llama.json\""
      ]
    },
    {
      "cell_type": "code",
      "execution_count": null,
      "metadata": {
        "colab": {
          "base_uri": "https://localhost:8080/"
        },
        "id": "IkeFwl2YIIEY",
        "outputId": "9cf5f337-e99e-4e8f-b69f-2fddc07f4af6"
      },
      "outputs": [],
      "source": [
        "srver.put(embeddings_llama, path_data)"
      ]
    },
    {
      "cell_type": "code",
      "execution_count": null,
      "metadata": {
        "colab": {
          "base_uri": "https://localhost:8080/"
        },
        "id": "SzI4H76vE7ZJ",
        "outputId": "2d450afd-779d-4d40-bfd9-eb02fb313d5a"
      },
      "outputs": [],
      "source": [
        "path_data = (\n",
        "    \"/mnt/wolverine/home/samtukra/juan/data/badge/embeddings_badges_mistral.json\"\n",
        ")\n",
        "srver.put(embeddings_mistral, path_data)"
      ]
    }
  ],
  "metadata": {
    "colab": {
      "authorship_tag": "ABX9TyPypR/APxgYoari0HGxwT5m",
      "include_colab_link": true,
      "machine_shape": "hm",
      "mount_file_id": "1tO5O77drNQyH9wdo7uu-6wCPj9_SzS6g",
      "provenance": []
    },
    "kernelspec": {
      "display_name": "Python 3",
      "name": "python3"
    },
    "language_info": {
      "name": "python"
    }
  },
  "nbformat": 4,
  "nbformat_minor": 0
}
